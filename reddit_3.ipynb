{
 "cells": [
  {
   "cell_type": "code",
   "execution_count": 1,
   "metadata": {
    "collapsed": true
   },
   "outputs": [],
   "source": [
    "import os\n",
    "import string\n",
    "from collections import Counter\n",
    "from datetime import datetime\n",
    "\n",
    "import nltk\n",
    "import pandas as pd\n",
    "import matplotlib\n",
    "import seaborn as sns\n",
    "from textblob import TextBlob\n",
    "from nltk.corpus import stopwords\n",
    "from nltk.util import ngrams"
   ]
  },
  {
   "cell_type": "code",
   "execution_count": 2,
   "metadata": {
    "collapsed": false
   },
   "outputs": [],
   "source": [
    "%matplotlib inline\n",
    "matplotlib.rcParams['figure.max_open_warning'] = 1000\n",
    "matplotlib.rcParams['lines.linewidth'] = 1.0\n",
    "\n",
    "pd.set_option('display.float_format', lambda x: '%.2f' % x)"
   ]
  },
  {
   "cell_type": "markdown",
   "metadata": {},
   "source": [
    "# Preparing data"
   ]
  },
  {
   "cell_type": "code",
   "execution_count": 3,
   "metadata": {
    "collapsed": true
   },
   "outputs": [],
   "source": [
    "original_keywords = [\"Picard\", \"Kirk\", \"Sulu\", \"Uhura\", \"Spock\", \"McCoy\", \"Bones\", \"Scotty\", \"Chekhov\", \"Crusher\", \"Nurse Chapel\", \"Sarek\", \"Nero\", \"Khan\", \"Data\", \"Pike\", \"Star Trek\", \"Klingon\", \"Vulcan\", \"Romulan\", \"Star fleet\", \"Starship Enterprise\", \"Delta Vega\", \"Earth\", \"Orion\", \"Romulan Narada\", \"Stardate\", \"Transporter beam\", \"Beam me up,\\? Scotty\", \"Kobayashi Maru\", \"Space,\\? The Final Frontier\", \"Energize\", \"Vulcan Salute\", \"Prime Directive\", \"Live long and prosper\", \"LLAP\", \"I'm a doctor,\\? not a\", \"KHAAA\\+N\", \"When you eliminate the impossible,\\? whatever remains,\\? however improbable,\\? must be the truth\", \"Without followers,\\? evil cannot spread\", \"The needs of the many outweigh the needs of the few\", \"Highly illogical\", \"to boldly go where no man has gone before\", \"I'm giving her all she's got,\\? Captain\", \"Nuclear wessels\", \"Set phasers to stun\", \"Resistance is futile\", \"I have been and always shall be your friend\"]"
   ]
  },
  {
   "cell_type": "code",
   "execution_count": 4,
   "metadata": {
    "collapsed": false
   },
   "outputs": [
    {
     "name": "stdout",
     "output_type": "stream",
     "text": [
      "['Picard', 'Kirk', 'Sulu', 'Uhura', 'Spock', 'McCoy', 'Bones', 'Scotty', 'Chekhov', 'Crusher', 'Nurse Chapel', 'Sarek', 'Nero', 'Khan', 'Data', 'Pike', 'Star Trek', 'Klingon', 'Vulcan', 'Romulan', 'Star fleet', 'Starship Enterprise', 'Delta Vega', 'Earth', 'Orion', 'Romulan Narada', 'Stardate', 'Transporter beam', 'Beam me up,\\\\? Scotty', 'Kobayashi Maru', 'Space,\\\\? The Final Frontier', 'Energize', 'Vulcan Salute', 'Prime Directive', 'Live long and prosper', 'LLAP', \"I'm a doctor,\\\\? not a\", 'KHAAA\\\\+N', 'When you eliminate the impossible,\\\\? whatever remains,\\\\? however improbable,\\\\? must be the truth', 'Without followers,\\\\? evil cannot spread', 'The needs of the many outweigh the needs of the few', 'Highly illogical', 'to boldly go where no man has gone before', \"I'm giving her all she's got,\\\\? Captain\", 'Nuclear wessels', 'Set phasers to stun', 'Resistance is futile', 'I have been and always shall be your friend']\n"
     ]
    }
   ],
   "source": [
    "print(original_keywords)"
   ]
  },
  {
   "cell_type": "code",
   "execution_count": 5,
   "metadata": {
    "collapsed": true
   },
   "outputs": [],
   "source": [
    "ambiguous_keywords = [\n",
    "    'Bones',\n",
    "    'Khan',\n",
    "    'Data',\n",
    "    'Earth',\n",
    "    'Energize',\n",
    "]"
   ]
  },
  {
   "cell_type": "code",
   "execution_count": 6,
   "metadata": {
    "collapsed": true
   },
   "outputs": [],
   "source": [
    "keywords = list(set(original_keywords).difference(ambiguous_keywords))\n",
    "keywords.sort()"
   ]
  },
  {
   "cell_type": "code",
   "execution_count": 7,
   "metadata": {
    "collapsed": false
   },
   "outputs": [
    {
     "name": "stdout",
     "output_type": "stream",
     "text": [
      "['Beam me up,\\\\? Scotty', 'Chekhov', 'Crusher', 'Delta Vega', 'Highly illogical', 'I have been and always shall be your friend', \"I'm a doctor,\\\\? not a\", \"I'm giving her all she's got,\\\\? Captain\", 'KHAAA\\\\+N', 'Kirk', 'Klingon', 'Kobayashi Maru', 'LLAP', 'Live long and prosper', 'McCoy', 'Nero', 'Nuclear wessels', 'Nurse Chapel', 'Orion', 'Picard', 'Pike', 'Prime Directive', 'Resistance is futile', 'Romulan', 'Romulan Narada', 'Sarek', 'Scotty', 'Set phasers to stun', 'Space,\\\\? The Final Frontier', 'Spock', 'Star Trek', 'Star fleet', 'Stardate', 'Starship Enterprise', 'Sulu', 'The needs of the many outweigh the needs of the few', 'Transporter beam', 'Uhura', 'Vulcan', 'Vulcan Salute', 'When you eliminate the impossible,\\\\? whatever remains,\\\\? however improbable,\\\\? must be the truth', 'Without followers,\\\\? evil cannot spread', 'to boldly go where no man has gone before']\n"
     ]
    }
   ],
   "source": [
    "print(keywords)"
   ]
  },
  {
   "cell_type": "code",
   "execution_count": 8,
   "metadata": {
    "collapsed": false
   },
   "outputs": [
    {
     "name": "stdout",
     "output_type": "stream",
     "text": [
      "CPU times: user 28.6 s, sys: 1.24 s, total: 29.8 s\n",
      "Wall time: 29.8 s\n"
     ]
    }
   ],
   "source": [
    "%%time\n",
    "\n",
    "dtypes = {\n",
    "    'author': str,\n",
    "    'body': str,\n",
    "    'controversiality': str,\n",
    "    'created_utc': pd.tslib.Timestamp,\n",
    "    'distinguished': str,\n",
    "    'downs': str,\n",
    "    'gilded': str,\n",
    "    'id': str,\n",
    "    'name': str,\n",
    "    'parent_id': str,\n",
    "    'score': str,\n",
    "    'subreddit': str,\n",
    "    'ups': str,\n",
    "    'month': pd.tslib.Timestamp,\n",
    "    'year': pd.tslib.Timestamp,\n",
    "}\n",
    "\n",
    "reddit_df = pd.read_csv('reddit.csv', header=0, dtype=dtypes, parse_dates=['created_utc', 'month', 'year'])\n",
    "reddit_df = reddit_df.fillna('')"
   ]
  },
  {
   "cell_type": "code",
   "execution_count": 9,
   "metadata": {
    "collapsed": false
   },
   "outputs": [
    {
     "data": {
      "text/plain": [
       "2669814"
      ]
     },
     "execution_count": 9,
     "metadata": {},
     "output_type": "execute_result"
    }
   ],
   "source": [
    "len(reddit_df)"
   ]
  },
  {
   "cell_type": "code",
   "execution_count": 10,
   "metadata": {
    "collapsed": false
   },
   "outputs": [
    {
     "data": {
      "text/html": [
       "<div>\n",
       "<table border=\"1\" class=\"dataframe\">\n",
       "  <thead>\n",
       "    <tr style=\"text-align: right;\">\n",
       "      <th></th>\n",
       "      <th>author</th>\n",
       "      <th>body</th>\n",
       "      <th>controversiality</th>\n",
       "      <th>created_utc</th>\n",
       "      <th>distinguished</th>\n",
       "      <th>downs</th>\n",
       "      <th>gilded</th>\n",
       "      <th>id</th>\n",
       "      <th>name</th>\n",
       "      <th>parent_id</th>\n",
       "      <th>score</th>\n",
       "      <th>subreddit</th>\n",
       "      <th>ups</th>\n",
       "      <th>month</th>\n",
       "      <th>year</th>\n",
       "    </tr>\n",
       "  </thead>\n",
       "  <tbody>\n",
       "    <tr>\n",
       "      <th>0</th>\n",
       "      <td>gschizas</td>\n",
       "      <td>same in greek. my personal peeve: quite a lot ...</td>\n",
       "      <td>0</td>\n",
       "      <td>2007-10-15 15:22:33</td>\n",
       "      <td></td>\n",
       "      <td>0.0</td>\n",
       "      <td>0</td>\n",
       "      <td>c029c79</td>\n",
       "      <td>t1_c029c79</td>\n",
       "      <td>t1_c029brz</td>\n",
       "      <td>13</td>\n",
       "      <td>programming</td>\n",
       "      <td>13</td>\n",
       "      <td>2007-10-01</td>\n",
       "      <td>2007-01-01</td>\n",
       "    </tr>\n",
       "    <tr>\n",
       "      <th>1</th>\n",
       "      <td>[deleted]</td>\n",
       "      <td>&amp;gt;they also decided to rig a thermal barrier...</td>\n",
       "      <td>0</td>\n",
       "      <td>2007-10-16 05:11:09</td>\n",
       "      <td></td>\n",
       "      <td>0.0</td>\n",
       "      <td>0</td>\n",
       "      <td>c029g6h</td>\n",
       "      <td>t1_c029g6h</td>\n",
       "      <td>t3_5ye94</td>\n",
       "      <td>2</td>\n",
       "      <td>programming</td>\n",
       "      <td>2</td>\n",
       "      <td>2007-10-01</td>\n",
       "      <td>2007-01-01</td>\n",
       "    </tr>\n",
       "    <tr>\n",
       "      <th>2</th>\n",
       "      <td>johnmudd</td>\n",
       "      <td>&amp;gt; by the time a child born today graduates ...</td>\n",
       "      <td>0</td>\n",
       "      <td>2007-10-16 07:00:36</td>\n",
       "      <td></td>\n",
       "      <td>0.0</td>\n",
       "      <td>0</td>\n",
       "      <td>c029gfc</td>\n",
       "      <td>t1_c029gfc</td>\n",
       "      <td>t3_5ye9w</td>\n",
       "      <td>1</td>\n",
       "      <td>science</td>\n",
       "      <td>1</td>\n",
       "      <td>2007-10-01</td>\n",
       "      <td>2007-01-01</td>\n",
       "    </tr>\n",
       "    <tr>\n",
       "      <th>3</th>\n",
       "      <td>feliniti</td>\n",
       "      <td>nero 8 - bloated waste of money. unless you ha...</td>\n",
       "      <td>0</td>\n",
       "      <td>2007-10-16 07:10:27</td>\n",
       "      <td></td>\n",
       "      <td>0.0</td>\n",
       "      <td>0</td>\n",
       "      <td>c029gge</td>\n",
       "      <td>t1_c029gge</td>\n",
       "      <td>t3_5yej4</td>\n",
       "      <td>1</td>\n",
       "      <td>reddit.com</td>\n",
       "      <td>1</td>\n",
       "      <td>2007-10-01</td>\n",
       "      <td>2007-01-01</td>\n",
       "    </tr>\n",
       "    <tr>\n",
       "      <th>4</th>\n",
       "      <td>masklinn</td>\n",
       "      <td>&amp;gt; i wonder what happens if you started clea...</td>\n",
       "      <td>0</td>\n",
       "      <td>2007-10-16 11:27:15</td>\n",
       "      <td></td>\n",
       "      <td>0.0</td>\n",
       "      <td>0</td>\n",
       "      <td>c029hiy</td>\n",
       "      <td>t1_c029hiy</td>\n",
       "      <td>t1_c029h3y</td>\n",
       "      <td>3</td>\n",
       "      <td>reddit.com</td>\n",
       "      <td>3</td>\n",
       "      <td>2007-10-01</td>\n",
       "      <td>2007-01-01</td>\n",
       "    </tr>\n",
       "  </tbody>\n",
       "</table>\n",
       "</div>"
      ],
      "text/plain": [
       "      author                                               body  \\\n",
       "0   gschizas  same in greek. my personal peeve: quite a lot ...   \n",
       "1  [deleted]  &gt;they also decided to rig a thermal barrier...   \n",
       "2   johnmudd  &gt; by the time a child born today graduates ...   \n",
       "3   feliniti  nero 8 - bloated waste of money. unless you ha...   \n",
       "4   masklinn  &gt; i wonder what happens if you started clea...   \n",
       "\n",
       "  controversiality         created_utc distinguished downs gilded       id  \\\n",
       "0                0 2007-10-15 15:22:33                 0.0      0  c029c79   \n",
       "1                0 2007-10-16 05:11:09                 0.0      0  c029g6h   \n",
       "2                0 2007-10-16 07:00:36                 0.0      0  c029gfc   \n",
       "3                0 2007-10-16 07:10:27                 0.0      0  c029gge   \n",
       "4                0 2007-10-16 11:27:15                 0.0      0  c029hiy   \n",
       "\n",
       "         name   parent_id score    subreddit ups      month       year  \n",
       "0  t1_c029c79  t1_c029brz    13  programming  13 2007-10-01 2007-01-01  \n",
       "1  t1_c029g6h    t3_5ye94     2  programming   2 2007-10-01 2007-01-01  \n",
       "2  t1_c029gfc    t3_5ye9w     1      science   1 2007-10-01 2007-01-01  \n",
       "3  t1_c029gge    t3_5yej4     1   reddit.com   1 2007-10-01 2007-01-01  \n",
       "4  t1_c029hiy  t1_c029h3y     3   reddit.com   3 2007-10-01 2007-01-01  "
      ]
     },
     "execution_count": 10,
     "metadata": {},
     "output_type": "execute_result"
    }
   ],
   "source": [
    "reddit_df.head()"
   ]
  },
  {
   "cell_type": "markdown",
   "metadata": {},
   "source": [
    "# Analyzing data"
   ]
  },
  {
   "cell_type": "markdown",
   "metadata": {},
   "source": [
    "## Subreddits"
   ]
  },
  {
   "cell_type": "code",
   "execution_count": 12,
   "metadata": {
    "collapsed": false
   },
   "outputs": [
    {
     "data": {
      "text/plain": [
       "24076"
      ]
     },
     "execution_count": 12,
     "metadata": {},
     "output_type": "execute_result"
    }
   ],
   "source": [
    "reddit_df['subreddit'].nunique()"
   ]
  },
  {
   "cell_type": "code",
   "execution_count": 13,
   "metadata": {
    "collapsed": false
   },
   "outputs": [
    {
     "data": {
      "text/plain": [
       "AdviceAnimals            216848\n",
       "startrek                 182534\n",
       "AskReddit                179550\n",
       "fantasyfootball           92045\n",
       "movies                    65545\n",
       "nfl                       62410\n",
       "Smite                     58973\n",
       "DaystromInstitute         57314\n",
       "sto                       44103\n",
       "funny                     37788\n",
       "doctorwho                 35282\n",
       "pics                      35054\n",
       "scifi                     33434\n",
       "Planetside                27387\n",
       "todayilearned             25934\n",
       "GlobalOffensiveTrade      25360\n",
       "motorcycles               24585\n",
       "SquaredCircle             20231\n",
       "Civcraft                  19555\n",
       "IAmA                      18502\n",
       "gaming                    18339\n",
       "atheism                   18110\n",
       "grandorder                16730\n",
       "chicagobulls              16501\n",
       "videos                    16271\n",
       "nba                       16193\n",
       "PercyJacksonRP            15635\n",
       "CFB                       15368\n",
       "WTF                       13752\n",
       "TheDescendantsOfRome      13213\n",
       "                          ...  \n",
       "TrueFalseFilmFest             1\n",
       "fallout3                      1\n",
       "icecoast                      1\n",
       "longboardREVIEWS              1\n",
       "deepthoughtoftheday           1\n",
       "corrystation                  1\n",
       "inFamousTheVideoGame          1\n",
       "kigrd                         1\n",
       "sciencemarcheson              1\n",
       "PortraitsOfFatPeople          1\n",
       "bommap                        1\n",
       "Whaling                       1\n",
       "FenFics                       1\n",
       "ATGTexts                      1\n",
       "VRMasterRace                  1\n",
       "MaddenCF                      1\n",
       "homecockpits                  1\n",
       "t:2112                        1\n",
       "Dowoong                       1\n",
       "fconcepts                     1\n",
       "ATT                           1\n",
       "papercrafting                 1\n",
       "th3rdplanet                   1\n",
       "Scruncher                     1\n",
       "Kendama                       1\n",
       "MBOsletjes                    1\n",
       "No_Ragrets                    1\n",
       "Samplehunters                 1\n",
       "girlswithnoselfesteem         1\n",
       "3AMThoughts                   1\n",
       "Name: subreddit, dtype: int64"
      ]
     },
     "execution_count": 13,
     "metadata": {},
     "output_type": "execute_result"
    }
   ],
   "source": [
    "reddit_df['subreddit'].value_counts()"
   ]
  },
  {
   "cell_type": "markdown",
   "metadata": {},
   "source": [
    "## Global variables"
   ]
  },
  {
   "cell_type": "code",
   "execution_count": 21,
   "metadata": {
    "collapsed": true
   },
   "outputs": [],
   "source": [
    "valid_dates = pd.date_range('2007-10-1', '2016-08-31', freq='MS')"
   ]
  },
  {
   "cell_type": "code",
   "execution_count": 181,
   "metadata": {
    "collapsed": true
   },
   "outputs": [],
   "source": [
    "P = 10"
   ]
  },
  {
   "cell_type": "markdown",
   "metadata": {},
   "source": [
    "## AdviceAnimals"
   ]
  },
  {
   "cell_type": "code",
   "execution_count": 26,
   "metadata": {
    "collapsed": true
   },
   "outputs": [],
   "source": [
    "subreddit = 'AdviceAnimals'\n",
    "\n",
    "peaks = ['2010-12-01', '2012-09-01', '2013-04-01', '2013-07-01', '2013-12-01', '2014-03-01',]\n",
    "peaks = list(map(pd.lib.Timestamp, peaks))\n",
    "\n",
    "title = 'Number of comments on subreddit \\'' + subreddit + '\\' by month'"
   ]
  },
  {
   "cell_type": "code",
   "execution_count": 27,
   "metadata": {
    "collapsed": false
   },
   "outputs": [
    {
     "name": "stdout",
     "output_type": "stream",
     "text": [
      "CPU times: user 315 ms, sys: 4.17 ms, total: 319 ms\n",
      "Wall time: 316 ms\n"
     ]
    }
   ],
   "source": [
    "%%time\n",
    "\n",
    "subreddit_df = reddit_df[reddit_df['subreddit'] == subreddit]"
   ]
  },
  {
   "cell_type": "code",
   "execution_count": 28,
   "metadata": {
    "collapsed": false
   },
   "outputs": [
    {
     "data": {
      "text/plain": [
       "216848"
      ]
     },
     "execution_count": 28,
     "metadata": {},
     "output_type": "execute_result"
    }
   ],
   "source": [
    "len(subreddit_df)"
   ]
  },
  {
   "cell_type": "code",
   "execution_count": 18,
   "metadata": {
    "collapsed": true
   },
   "outputs": [],
   "source": [
    "subreddit_by_month = pd.Series(subreddit_df.groupby('month')['id'].count())\n",
    "subreddit_by_month.index.name = None"
   ]
  },
  {
   "cell_type": "code",
   "execution_count": 29,
   "metadata": {
    "collapsed": false
   },
   "outputs": [],
   "source": [
    "show_dates = [x.strftime('%Y %b') if x in peaks else '' for x in valid_dates]"
   ]
  },
  {
   "cell_type": "code",
   "execution_count": 30,
   "metadata": {
    "collapsed": false
   },
   "outputs": [
    {
     "data": {
      "image/png": "[encoded data removed]",
      "text/plain": [
       "<matplotlib.figure.Figure at 0x7f9edbe89a58>"
      ]
     },
     "metadata": {},
     "output_type": "display_data"
    }
   ],
   "source": [
    "ax = subreddit_by_month.plot(\n",
    "    figsize=(10, 5),\n",
    "    xlim=('2007-10-01', '2016-08-31'),\n",
    "    xticks=valid_dates,\n",
    "    rot=60,\n",
    "    title=title,\n",
    ")\n",
    "ax.set_xticklabels(show_dates);"
   ]
  },
  {
   "cell_type": "markdown",
   "metadata": {},
   "source": [
    "### Keywords"
   ]
  },
  {
   "cell_type": "code",
   "execution_count": 203,
   "metadata": {
    "collapsed": false
   },
   "outputs": [
    {
     "data": {
      "text/plain": [
       "[Timestamp('2010-12-01 00:00:00'),\n",
       " Timestamp('2012-09-01 00:00:00'),\n",
       " Timestamp('2013-04-01 00:00:00'),\n",
       " Timestamp('2013-07-01 00:00:00'),\n",
       " Timestamp('2013-12-01 00:00:00'),\n",
       " Timestamp('2014-03-01 00:00:00')]"
      ]
     },
     "execution_count": 203,
     "metadata": {},
     "output_type": "execute_result"
    }
   ],
   "source": [
    "peaks"
   ]
  },
  {
   "cell_type": "code",
   "execution_count": 207,
   "metadata": {
    "collapsed": true
   },
   "outputs": [],
   "source": [
    "python_instruction = \"\"\n",
    "python_instruction += \"subreddit_peaks_df = subreddit_df[\"\n",
    "for p in peaks:\n",
    "    python_instruction += \"(subreddit_df['month'] == '\" + p.strftime('%Y-%m-%d') + \"') | \"\n",
    "python_instruction = python_instruction[:-3]\n",
    "python_instruction += \"]\""
   ]
  },
  {
   "cell_type": "code",
   "execution_count": 208,
   "metadata": {
    "collapsed": false
   },
   "outputs": [],
   "source": [
    "exec(python_instruction)"
   ]
  },
  {
   "cell_type": "code",
   "execution_count": 213,
   "metadata": {
    "collapsed": false
   },
   "outputs": [
    {
     "data": {
      "text/html": [
       "<div>\n",
       "<table border=\"1\" class=\"dataframe\">\n",
       "  <thead>\n",
       "    <tr style=\"text-align: right;\">\n",
       "      <th></th>\n",
       "      <th>author</th>\n",
       "      <th>body</th>\n",
       "      <th>controversiality</th>\n",
       "      <th>created_utc</th>\n",
       "      <th>distinguished</th>\n",
       "      <th>downs</th>\n",
       "      <th>gilded</th>\n",
       "      <th>id</th>\n",
       "      <th>name</th>\n",
       "      <th>parent_id</th>\n",
       "      <th>score</th>\n",
       "      <th>subreddit</th>\n",
       "      <th>ups</th>\n",
       "      <th>month</th>\n",
       "      <th>year</th>\n",
       "    </tr>\n",
       "  </thead>\n",
       "  <tbody>\n",
       "    <tr>\n",
       "      <th>69263</th>\n",
       "      <td>sierrabravo1984</td>\n",
       "      <td>so true.</td>\n",
       "      <td>0</td>\n",
       "      <td>2010-12-11 13:00:12</td>\n",
       "      <td></td>\n",
       "      <td>0.0</td>\n",
       "      <td>0</td>\n",
       "      <td>c18ol7y</td>\n",
       "      <td>t1_c18ol7y</td>\n",
       "      <td>t3_ek4qf</td>\n",
       "      <td>3</td>\n",
       "      <td>AdviceAnimals</td>\n",
       "      <td>3</td>\n",
       "      <td>2010-12-01</td>\n",
       "      <td>2010-01-01</td>\n",
       "    </tr>\n",
       "    <tr>\n",
       "      <th>71324</th>\n",
       "      <td>EvanConover</td>\n",
       "      <td>humans count as animals too!</td>\n",
       "      <td>0</td>\n",
       "      <td>2010-12-21 23:59:30</td>\n",
       "      <td></td>\n",
       "      <td>0.0</td>\n",
       "      <td>0</td>\n",
       "      <td>c19y4zn</td>\n",
       "      <td>t1_c19y4zn</td>\n",
       "      <td>t1_c19y3nh</td>\n",
       "      <td>2</td>\n",
       "      <td>AdviceAnimals</td>\n",
       "      <td>2</td>\n",
       "      <td>2010-12-01</td>\n",
       "      <td>2010-01-01</td>\n",
       "    </tr>\n",
       "    <tr>\n",
       "      <th>71388</th>\n",
       "      <td>EvanConover</td>\n",
       "      <td>well you get to see it again, you whiner!</td>\n",
       "      <td>0</td>\n",
       "      <td>2010-12-22 11:46:51</td>\n",
       "      <td></td>\n",
       "      <td>0.0</td>\n",
       "      <td>0</td>\n",
       "      <td>c19zsi6</td>\n",
       "      <td>t1_c19zsi6</td>\n",
       "      <td>t1_c19z5ke</td>\n",
       "      <td>1</td>\n",
       "      <td>AdviceAnimals</td>\n",
       "      <td>1</td>\n",
       "      <td>2010-12-01</td>\n",
       "      <td>2010-01-01</td>\n",
       "    </tr>\n",
       "    <tr>\n",
       "      <th>71513</th>\n",
       "      <td>Granite-M</td>\n",
       "      <td>no, wait! i also like star trek... er... star ...</td>\n",
       "      <td>0</td>\n",
       "      <td>2010-12-23 00:47:45</td>\n",
       "      <td></td>\n",
       "      <td>0.0</td>\n",
       "      <td>0</td>\n",
       "      <td>c1a2ndz</td>\n",
       "      <td>t1_c1a2ndz</td>\n",
       "      <td>t3_eq87v</td>\n",
       "      <td>20</td>\n",
       "      <td>AdviceAnimals</td>\n",
       "      <td>20</td>\n",
       "      <td>2010-12-01</td>\n",
       "      <td>2010-01-01</td>\n",
       "    </tr>\n",
       "    <tr>\n",
       "      <th>72506</th>\n",
       "      <td>sierrabravo1984</td>\n",
       "      <td>why is this in r/adviceanimals?</td>\n",
       "      <td>0</td>\n",
       "      <td>2010-12-29 14:44:36</td>\n",
       "      <td></td>\n",
       "      <td>0.0</td>\n",
       "      <td>0</td>\n",
       "      <td>c1aqql6</td>\n",
       "      <td>t1_c1aqql6</td>\n",
       "      <td>t3_et2lq</td>\n",
       "      <td>1</td>\n",
       "      <td>AdviceAnimals</td>\n",
       "      <td>1</td>\n",
       "      <td>2010-12-01</td>\n",
       "      <td>2010-01-01</td>\n",
       "    </tr>\n",
       "  </tbody>\n",
       "</table>\n",
       "</div>"
      ],
      "text/plain": [
       "                author                                               body  \\\n",
       "69263  sierrabravo1984                                           so true.   \n",
       "71324      EvanConover                       humans count as animals too!   \n",
       "71388      EvanConover          well you get to see it again, you whiner!   \n",
       "71513        Granite-M  no, wait! i also like star trek... er... star ...   \n",
       "72506  sierrabravo1984                    why is this in r/adviceanimals?   \n",
       "\n",
       "      controversiality         created_utc distinguished downs gilded  \\\n",
       "69263                0 2010-12-11 13:00:12                 0.0      0   \n",
       "71324                0 2010-12-21 23:59:30                 0.0      0   \n",
       "71388                0 2010-12-22 11:46:51                 0.0      0   \n",
       "71513                0 2010-12-23 00:47:45                 0.0      0   \n",
       "72506                0 2010-12-29 14:44:36                 0.0      0   \n",
       "\n",
       "            id        name   parent_id score      subreddit ups      month  \\\n",
       "69263  c18ol7y  t1_c18ol7y    t3_ek4qf     3  AdviceAnimals   3 2010-12-01   \n",
       "71324  c19y4zn  t1_c19y4zn  t1_c19y3nh     2  AdviceAnimals   2 2010-12-01   \n",
       "71388  c19zsi6  t1_c19zsi6  t1_c19z5ke     1  AdviceAnimals   1 2010-12-01   \n",
       "71513  c1a2ndz  t1_c1a2ndz    t3_eq87v    20  AdviceAnimals  20 2010-12-01   \n",
       "72506  c1aqql6  t1_c1aqql6    t3_et2lq     1  AdviceAnimals   1 2010-12-01   \n",
       "\n",
       "            year  \n",
       "69263 2010-01-01  \n",
       "71324 2010-01-01  \n",
       "71388 2010-01-01  \n",
       "71513 2010-01-01  \n",
       "72506 2010-01-01  "
      ]
     },
     "execution_count": 213,
     "metadata": {},
     "output_type": "execute_result"
    }
   ],
   "source": [
    "subreddit_peaks_df.head()"
   ]
  },
  {
   "cell_type": "code",
   "execution_count": 11,
   "metadata": {
    "collapsed": false
   },
   "outputs": [],
   "source": [
    "%%time\n",
    "\n",
    "text_ = ''\n",
    "for x in subreddit_peaks_df['body']:\n",
    "    text_ += x + ' '\n",
    "\n",
    "list_ = [\n",
    "    w\n",
    "    for w in nltk.word_tokenize(text_)\n",
    "    if w not in stopwords.words('english') and w not in string.punctuation\n",
    "]\n",
    "\n",
    "counter_ = Counter(list_)"
   ]
  },
  {
   "cell_type": "code",
   "execution_count": null,
   "metadata": {
    "collapsed": true
   },
   "outputs": [],
   "source": [
    "counter_.most_common(20)"
   ]
  },
  {
   "cell_type": "markdown",
   "metadata": {},
   "source": [
    "### Sentiment analysis"
   ]
  },
  {
   "cell_type": "markdown",
   "metadata": {},
   "source": [
    "- The polarity score is a float within the range [-1.0, 1.0].\n",
    "- The subjectivity is a float within the range [0.0, 1.0] where 0.0 is very objective and 1.0 is very subjective."
   ]
  },
  {
   "cell_type": "code",
   "execution_count": 31,
   "metadata": {
    "collapsed": false
   },
   "outputs": [
    {
     "data": {
      "text/plain": [
       "[Timestamp('2010-12-01 00:00:00'),\n",
       " Timestamp('2012-09-01 00:00:00'),\n",
       " Timestamp('2013-04-01 00:00:00'),\n",
       " Timestamp('2013-07-01 00:00:00'),\n",
       " Timestamp('2013-12-01 00:00:00'),\n",
       " Timestamp('2014-03-01 00:00:00')]"
      ]
     },
     "execution_count": 31,
     "metadata": {},
     "output_type": "execute_result"
    }
   ],
   "source": [
    "peaks"
   ]
  },
  {
   "cell_type": "markdown",
   "metadata": {},
   "source": [
    "#### 2012-09-01"
   ]
  },
  {
   "cell_type": "code",
   "execution_count": 55,
   "metadata": {
    "collapsed": false
   },
   "outputs": [],
   "source": [
    "date = '2012-09-01'"
   ]
  },
  {
   "cell_type": "code",
   "execution_count": 56,
   "metadata": {
    "collapsed": false
   },
   "outputs": [],
   "source": [
    "subreddit_date_df = subreddit_df[subreddit_df['month'] == date]"
   ]
  },
  {
   "cell_type": "code",
   "execution_count": 57,
   "metadata": {
    "collapsed": false
   },
   "outputs": [
    {
     "data": {
      "text/plain": [
       "3441"
      ]
     },
     "execution_count": 57,
     "metadata": {},
     "output_type": "execute_result"
    }
   ],
   "source": [
    "len(subreddit_date_df)"
   ]
  },
  {
   "cell_type": "code",
   "execution_count": 58,
   "metadata": {
    "collapsed": false
   },
   "outputs": [
    {
     "name": "stdout",
     "output_type": "stream",
     "text": [
      "CPU times: user 1.83 s, sys: 0 ns, total: 1.83 s\n",
      "Wall time: 1.82 s\n"
     ]
    }
   ],
   "source": [
    "%%time\n",
    "\n",
    "sentiment_list = []\n",
    "for x in subreddit_date_df['body']:\n",
    "    tb = TextBlob(x)\n",
    "    sentiment_list.append((x, tb.sentiment.polarity, tb.sentiment.subjectivity))"
   ]
  },
  {
   "cell_type": "code",
   "execution_count": 59,
   "metadata": {
    "collapsed": false
   },
   "outputs": [],
   "source": [
    "sentiment_df = pd.DataFrame(sentiment_list, columns=['body', 'sentiment', 'subjectivity'])"
   ]
  },
  {
   "cell_type": "code",
   "execution_count": 60,
   "metadata": {
    "collapsed": false
   },
   "outputs": [
    {
     "data": {
      "text/html": [
       "<div>\n",
       "<table border=\"1\" class=\"dataframe\">\n",
       "  <thead>\n",
       "    <tr style=\"text-align: right;\">\n",
       "      <th></th>\n",
       "      <th>body</th>\n",
       "      <th>sentiment</th>\n",
       "      <th>subjectivity</th>\n",
       "    </tr>\n",
       "  </thead>\n",
       "  <tbody>\n",
       "    <tr>\n",
       "      <th>0</th>\n",
       "      <td>it's not the potus's job...until the potus is ...</td>\n",
       "      <td>-0.16</td>\n",
       "      <td>0.65</td>\n",
       "    </tr>\n",
       "    <tr>\n",
       "      <th>1</th>\n",
       "      <td>my birthday is 9 months and 9 days after my mo...</td>\n",
       "      <td>0.00</td>\n",
       "      <td>0.00</td>\n",
       "    </tr>\n",
       "    <tr>\n",
       "      <th>2</th>\n",
       "      <td>my moms like this. she dosent think homosexual...</td>\n",
       "      <td>0.18</td>\n",
       "      <td>0.38</td>\n",
       "    </tr>\n",
       "    <tr>\n",
       "      <th>3</th>\n",
       "      <td>wat?</td>\n",
       "      <td>0.00</td>\n",
       "      <td>0.00</td>\n",
       "    </tr>\n",
       "    <tr>\n",
       "      <th>4</th>\n",
       "      <td>what is the inconsistency?  if you take romney...</td>\n",
       "      <td>0.64</td>\n",
       "      <td>0.71</td>\n",
       "    </tr>\n",
       "  </tbody>\n",
       "</table>\n",
       "</div>"
      ],
      "text/plain": [
       "                                                body  sentiment  subjectivity\n",
       "0  it's not the potus's job...until the potus is ...      -0.16          0.65\n",
       "1  my birthday is 9 months and 9 days after my mo...       0.00          0.00\n",
       "2  my moms like this. she dosent think homosexual...       0.18          0.38\n",
       "3                                               wat?       0.00          0.00\n",
       "4  what is the inconsistency?  if you take romney...       0.64          0.71"
      ]
     },
     "execution_count": 60,
     "metadata": {},
     "output_type": "execute_result"
    }
   ],
   "source": [
    "sentiment_df.head()"
   ]
  },
  {
   "cell_type": "code",
   "execution_count": 61,
   "metadata": {
    "collapsed": false
   },
   "outputs": [
    {
     "data": {
      "text/plain": [
       "0.014110222352697552"
      ]
     },
     "execution_count": 61,
     "metadata": {},
     "output_type": "execute_result"
    }
   ],
   "source": [
    "sentiment_df['sentiment'].mean()"
   ]
  },
  {
   "cell_type": "code",
   "execution_count": 62,
   "metadata": {
    "collapsed": false
   },
   "outputs": [
    {
     "data": {
      "text/plain": [
       "0.39584458978267406"
      ]
     },
     "execution_count": 62,
     "metadata": {},
     "output_type": "execute_result"
    }
   ],
   "source": [
    "sentiment_df['subjectivity'].mean()"
   ]
  },
  {
   "cell_type": "markdown",
   "metadata": {},
   "source": [
    "##### Histogram top positive"
   ]
  },
  {
   "cell_type": "code",
   "execution_count": 81,
   "metadata": {
    "collapsed": true
   },
   "outputs": [],
   "source": [
    "P = 1"
   ]
  },
  {
   "cell_type": "code",
   "execution_count": 88,
   "metadata": {
    "collapsed": false
   },
   "outputs": [],
   "source": [
    "top_df = sentiment_df.sort_values('sentiment', ascending=False)[:len(subreddit_date_df) * P // 100]"
   ]
  },
  {
   "cell_type": "code",
   "execution_count": 89,
   "metadata": {
    "collapsed": false
   },
   "outputs": [
    {
     "data": {
      "text/html": [
       "<div>\n",
       "<table border=\"1\" class=\"dataframe\">\n",
       "  <thead>\n",
       "    <tr style=\"text-align: right;\">\n",
       "      <th></th>\n",
       "      <th>body</th>\n",
       "      <th>sentiment</th>\n",
       "      <th>subjectivity</th>\n",
       "    </tr>\n",
       "  </thead>\n",
       "  <tbody>\n",
       "    <tr>\n",
       "      <th>2834</th>\n",
       "      <td>my girlfriend just got them. yes, they are awe...</td>\n",
       "      <td>1.00</td>\n",
       "      <td>1.00</td>\n",
       "    </tr>\n",
       "    <tr>\n",
       "      <th>1792</th>\n",
       "      <td>nsfw? best i can do is some chocolate milk</td>\n",
       "      <td>1.00</td>\n",
       "      <td>0.30</td>\n",
       "    </tr>\n",
       "    <tr>\n",
       "      <th>1274</th>\n",
       "      <td>no kidding. it's a perfect storm.</td>\n",
       "      <td>1.00</td>\n",
       "      <td>1.00</td>\n",
       "    </tr>\n",
       "    <tr>\n",
       "      <th>650</th>\n",
       "      <td>oh god that was awesome.</td>\n",
       "      <td>1.00</td>\n",
       "      <td>1.00</td>\n",
       "    </tr>\n",
       "    <tr>\n",
       "      <th>2639</th>\n",
       "      <td>and we don't care about soccer. usa usa usa us...</td>\n",
       "      <td>1.00</td>\n",
       "      <td>0.40</td>\n",
       "    </tr>\n",
       "    <tr>\n",
       "      <th>427</th>\n",
       "      <td>fact: all the best star trek captains are shak...</td>\n",
       "      <td>1.00</td>\n",
       "      <td>0.30</td>\n",
       "    </tr>\n",
       "    <tr>\n",
       "      <th>825</th>\n",
       "      <td>best show ever</td>\n",
       "      <td>1.00</td>\n",
       "      <td>0.30</td>\n",
       "    </tr>\n",
       "    <tr>\n",
       "      <th>1286</th>\n",
       "      <td>you're awesome.</td>\n",
       "      <td>1.00</td>\n",
       "      <td>1.00</td>\n",
       "    </tr>\n",
       "    <tr>\n",
       "      <th>1837</th>\n",
       "      <td>welcome to /r/stopsmoking!</td>\n",
       "      <td>1.00</td>\n",
       "      <td>0.90</td>\n",
       "    </tr>\n",
       "    <tr>\n",
       "      <th>1575</th>\n",
       "      <td>best picard ever</td>\n",
       "      <td>1.00</td>\n",
       "      <td>0.30</td>\n",
       "    </tr>\n",
       "    <tr>\n",
       "      <th>2196</th>\n",
       "      <td>best for the child. i was referring to 5 years...</td>\n",
       "      <td>1.00</td>\n",
       "      <td>0.30</td>\n",
       "    </tr>\n",
       "    <tr>\n",
       "      <th>2027</th>\n",
       "      <td>two points: -  - 1. with a mac you won't have ...</td>\n",
       "      <td>1.00</td>\n",
       "      <td>1.00</td>\n",
       "    </tr>\n",
       "    <tr>\n",
       "      <th>553</th>\n",
       "      <td>braveness factor = so brave!</td>\n",
       "      <td>1.00</td>\n",
       "      <td>1.00</td>\n",
       "    </tr>\n",
       "    <tr>\n",
       "      <th>2193</th>\n",
       "      <td>if you want what is best for the child, that w...</td>\n",
       "      <td>1.00</td>\n",
       "      <td>0.30</td>\n",
       "    </tr>\n",
       "    <tr>\n",
       "      <th>3104</th>\n",
       "      <td>guys don't downvote if you disagree this is a ...</td>\n",
       "      <td>0.88</td>\n",
       "      <td>0.60</td>\n",
       "    </tr>\n",
       "    <tr>\n",
       "      <th>2077</th>\n",
       "      <td>good luck!</td>\n",
       "      <td>0.88</td>\n",
       "      <td>0.60</td>\n",
       "    </tr>\n",
       "    <tr>\n",
       "      <th>2079</th>\n",
       "      <td>good! the cycle of time......</td>\n",
       "      <td>0.88</td>\n",
       "      <td>0.60</td>\n",
       "    </tr>\n",
       "    <tr>\n",
       "      <th>1229</th>\n",
       "      <td>lol</td>\n",
       "      <td>0.80</td>\n",
       "      <td>0.70</td>\n",
       "    </tr>\n",
       "    <tr>\n",
       "      <th>2969</th>\n",
       "      <td>i thought mos def made a great ford.</td>\n",
       "      <td>0.80</td>\n",
       "      <td>0.75</td>\n",
       "    </tr>\n",
       "    <tr>\n",
       "      <th>88</th>\n",
       "      <td>til clark not clarke lol</td>\n",
       "      <td>0.80</td>\n",
       "      <td>0.70</td>\n",
       "    </tr>\n",
       "    <tr>\n",
       "      <th>3344</th>\n",
       "      <td>lol. squeeze the handle. i forgot to lift wipe...</td>\n",
       "      <td>0.80</td>\n",
       "      <td>0.70</td>\n",
       "    </tr>\n",
       "    <tr>\n",
       "      <th>1669</th>\n",
       "      <td>lol it just occured to me that you could proba...</td>\n",
       "      <td>0.80</td>\n",
       "      <td>0.70</td>\n",
       "    </tr>\n",
       "    <tr>\n",
       "      <th>822</th>\n",
       "      <td>welcome to reddit.</td>\n",
       "      <td>0.80</td>\n",
       "      <td>0.90</td>\n",
       "    </tr>\n",
       "    <tr>\n",
       "      <th>106</th>\n",
       "      <td>lol dogs don't die.</td>\n",
       "      <td>0.80</td>\n",
       "      <td>0.70</td>\n",
       "    </tr>\n",
       "    <tr>\n",
       "      <th>1410</th>\n",
       "      <td>i shall take no wife, hold no lands, father no...</td>\n",
       "      <td>0.80</td>\n",
       "      <td>0.40</td>\n",
       "    </tr>\n",
       "    <tr>\n",
       "      <th>1725</th>\n",
       "      <td>it's not so great with the ads at the bottom now.</td>\n",
       "      <td>0.80</td>\n",
       "      <td>0.75</td>\n",
       "    </tr>\n",
       "    <tr>\n",
       "      <th>185</th>\n",
       "      <td>looks like he's squeezing a boob then letting ...</td>\n",
       "      <td>0.80</td>\n",
       "      <td>0.90</td>\n",
       "    </tr>\n",
       "    <tr>\n",
       "      <th>1168</th>\n",
       "      <td>agreed, it feels wayyy too intelligent for a 1...</td>\n",
       "      <td>0.80</td>\n",
       "      <td>0.90</td>\n",
       "    </tr>\n",
       "    <tr>\n",
       "      <th>417</th>\n",
       "      <td>great. you made her look like a scary,serial-k...</td>\n",
       "      <td>0.80</td>\n",
       "      <td>0.75</td>\n",
       "    </tr>\n",
       "    <tr>\n",
       "      <th>555</th>\n",
       "      <td>i don't need to know someone to determine if i...</td>\n",
       "      <td>0.80</td>\n",
       "      <td>1.00</td>\n",
       "    </tr>\n",
       "    <tr>\n",
       "      <th>2432</th>\n",
       "      <td>why thank you, kind sir. you too kick an incre...</td>\n",
       "      <td>0.75</td>\n",
       "      <td>0.90</td>\n",
       "    </tr>\n",
       "    <tr>\n",
       "      <th>3293</th>\n",
       "      <td>how i love clicking on links between americans...</td>\n",
       "      <td>0.75</td>\n",
       "      <td>0.80</td>\n",
       "    </tr>\n",
       "    <tr>\n",
       "      <th>3274</th>\n",
       "      <td>and i downote you for being polite :p</td>\n",
       "      <td>0.75</td>\n",
       "      <td>1.00</td>\n",
       "    </tr>\n",
       "    <tr>\n",
       "      <th>592</th>\n",
       "      <td>nicely done!</td>\n",
       "      <td>0.75</td>\n",
       "      <td>1.00</td>\n",
       "    </tr>\n",
       "  </tbody>\n",
       "</table>\n",
       "</div>"
      ],
      "text/plain": [
       "                                                   body  sentiment  \\\n",
       "2834  my girlfriend just got them. yes, they are awe...       1.00   \n",
       "1792         nsfw? best i can do is some chocolate milk       1.00   \n",
       "1274                  no kidding. it's a perfect storm.       1.00   \n",
       "650                            oh god that was awesome.       1.00   \n",
       "2639  and we don't care about soccer. usa usa usa us...       1.00   \n",
       "427   fact: all the best star trek captains are shak...       1.00   \n",
       "825                                      best show ever       1.00   \n",
       "1286                                    you're awesome.       1.00   \n",
       "1837                         welcome to /r/stopsmoking!       1.00   \n",
       "1575                                   best picard ever       1.00   \n",
       "2196  best for the child. i was referring to 5 years...       1.00   \n",
       "2027  two points: -  - 1. with a mac you won't have ...       1.00   \n",
       "553                        braveness factor = so brave!       1.00   \n",
       "2193  if you want what is best for the child, that w...       1.00   \n",
       "3104  guys don't downvote if you disagree this is a ...       0.88   \n",
       "2077                                         good luck!       0.88   \n",
       "2079                      good! the cycle of time......       0.88   \n",
       "1229                                                lol       0.80   \n",
       "2969               i thought mos def made a great ford.       0.80   \n",
       "88                             til clark not clarke lol       0.80   \n",
       "3344  lol. squeeze the handle. i forgot to lift wipe...       0.80   \n",
       "1669  lol it just occured to me that you could proba...       0.80   \n",
       "822                                  welcome to reddit.       0.80   \n",
       "106                                 lol dogs don't die.       0.80   \n",
       "1410  i shall take no wife, hold no lands, father no...       0.80   \n",
       "1725  it's not so great with the ads at the bottom now.       0.80   \n",
       "185   looks like he's squeezing a boob then letting ...       0.80   \n",
       "1168  agreed, it feels wayyy too intelligent for a 1...       0.80   \n",
       "417   great. you made her look like a scary,serial-k...       0.80   \n",
       "555   i don't need to know someone to determine if i...       0.80   \n",
       "2432  why thank you, kind sir. you too kick an incre...       0.75   \n",
       "3293  how i love clicking on links between americans...       0.75   \n",
       "3274              and i downote you for being polite :p       0.75   \n",
       "592                                        nicely done!       0.75   \n",
       "\n",
       "      subjectivity  \n",
       "2834          1.00  \n",
       "1792          0.30  \n",
       "1274          1.00  \n",
       "650           1.00  \n",
       "2639          0.40  \n",
       "427           0.30  \n",
       "825           0.30  \n",
       "1286          1.00  \n",
       "1837          0.90  \n",
       "1575          0.30  \n",
       "2196          0.30  \n",
       "2027          1.00  \n",
       "553           1.00  \n",
       "2193          0.30  \n",
       "3104          0.60  \n",
       "2077          0.60  \n",
       "2079          0.60  \n",
       "1229          0.70  \n",
       "2969          0.75  \n",
       "88            0.70  \n",
       "3344          0.70  \n",
       "1669          0.70  \n",
       "822           0.90  \n",
       "106           0.70  \n",
       "1410          0.40  \n",
       "1725          0.75  \n",
       "185           0.90  \n",
       "1168          0.90  \n",
       "417           0.75  \n",
       "555           1.00  \n",
       "2432          0.90  \n",
       "3293          0.80  \n",
       "3274          1.00  \n",
       "592           1.00  "
      ]
     },
     "execution_count": 89,
     "metadata": {},
     "output_type": "execute_result"
    }
   ],
   "source": [
    "top_df"
   ]
  },
  {
   "cell_type": "code",
   "execution_count": 90,
   "metadata": {
    "collapsed": false
   },
   "outputs": [
    {
     "name": "stdout",
     "output_type": "stream",
     "text": [
      "CPU times: user 61.4 ms, sys: 4.13 ms, total: 65.6 ms\n",
      "Wall time: 64.2 ms\n"
     ]
    }
   ],
   "source": [
    "%%time\n",
    "\n",
    "top_text = ''\n",
    "for x in top_df['body']:\n",
    "    top_text += x + ' '\n",
    "\n",
    "top_list = [\n",
    "    w\n",
    "    for w in nltk.word_tokenize(top_text)\n",
    "    if w not in stopwords.words('english') and w not in string.punctuation\n",
    "]"
   ]
  },
  {
   "cell_type": "code",
   "execution_count": 85,
   "metadata": {
    "collapsed": true
   },
   "outputs": [],
   "source": [
    "top_counter = Counter(top_list)"
   ]
  },
  {
   "cell_type": "code",
   "execution_count": 86,
   "metadata": {
    "collapsed": false
   },
   "outputs": [
    {
     "data": {
      "text/plain": [
       "[('best', 7),\n",
       " ('usa', 6),\n",
       " (\"n't\", 6),\n",
       " ('lol', 5),\n",
       " ('awesome', 4),\n",
       " (\"'s\", 3),\n",
       " ('good', 3),\n",
       " ('great', 3),\n",
       " ('shall', 2),\n",
       " ('years', 2),\n",
       " ('mac', 2),\n",
       " ('child', 2),\n",
       " ('10', 2),\n",
       " ('amount', 2),\n",
       " ('need', 2),\n",
       " ('wo', 2),\n",
       " ('girlfriend', 2),\n",
       " ('welcome', 2),\n",
       " ('like', 2),\n",
       " ('made', 2)]"
      ]
     },
     "execution_count": 86,
     "metadata": {},
     "output_type": "execute_result"
    }
   ],
   "source": [
    "top_counter.most_common(20)"
   ]
  },
  {
   "cell_type": "markdown",
   "metadata": {},
   "source": [
    "##### Histogram top negative"
   ]
  },
  {
   "cell_type": "code",
   "execution_count": 91,
   "metadata": {
    "collapsed": true
   },
   "outputs": [],
   "source": [
    "P = 1"
   ]
  },
  {
   "cell_type": "code",
   "execution_count": 92,
   "metadata": {
    "collapsed": false
   },
   "outputs": [],
   "source": [
    "top_df = sentiment_df.sort_values('sentiment', ascending=True)[:len(subreddit_date_df) * P // 100]"
   ]
  },
  {
   "cell_type": "code",
   "execution_count": 93,
   "metadata": {
    "collapsed": false
   },
   "outputs": [
    {
     "data": {
      "text/html": [
       "<div>\n",
       "<table border=\"1\" class=\"dataframe\">\n",
       "  <thead>\n",
       "    <tr style=\"text-align: right;\">\n",
       "      <th></th>\n",
       "      <th>body</th>\n",
       "      <th>sentiment</th>\n",
       "      <th>subjectivity</th>\n",
       "    </tr>\n",
       "  </thead>\n",
       "  <tbody>\n",
       "    <tr>\n",
       "      <th>2706</th>\n",
       "      <td>why that was just horrible..</td>\n",
       "      <td>-1.00</td>\n",
       "      <td>1.00</td>\n",
       "    </tr>\n",
       "    <tr>\n",
       "      <th>690</th>\n",
       "      <td>wait, my bad, sulu does have the squinty eyes....</td>\n",
       "      <td>-1.00</td>\n",
       "      <td>0.67</td>\n",
       "    </tr>\n",
       "    <tr>\n",
       "      <th>1906</th>\n",
       "      <td>unless he has evil daughters.</td>\n",
       "      <td>-1.00</td>\n",
       "      <td>1.00</td>\n",
       "    </tr>\n",
       "    <tr>\n",
       "      <th>2923</th>\n",
       "      <td>let the toddler try aeroplane food... after he...</td>\n",
       "      <td>-1.00</td>\n",
       "      <td>0.86</td>\n",
       "    </tr>\n",
       "    <tr>\n",
       "      <th>2477</th>\n",
       "      <td>its terrible.</td>\n",
       "      <td>-1.00</td>\n",
       "      <td>1.00</td>\n",
       "    </tr>\n",
       "    <tr>\n",
       "      <th>1362</th>\n",
       "      <td>jebus let's hope you're not an atheist.  getti...</td>\n",
       "      <td>-1.00</td>\n",
       "      <td>1.00</td>\n",
       "    </tr>\n",
       "    <tr>\n",
       "      <th>3364</th>\n",
       "      <td>as a delivery driver this is the worst. also a...</td>\n",
       "      <td>-1.00</td>\n",
       "      <td>1.00</td>\n",
       "    </tr>\n",
       "    <tr>\n",
       "      <th>1754</th>\n",
       "      <td>dude and now russia is planning a moon base pr...</td>\n",
       "      <td>-0.90</td>\n",
       "      <td>1.00</td>\n",
       "    </tr>\n",
       "    <tr>\n",
       "      <th>241</th>\n",
       "      <td>i thought you guys hated kanye?</td>\n",
       "      <td>-0.90</td>\n",
       "      <td>0.70</td>\n",
       "    </tr>\n",
       "    <tr>\n",
       "      <th>617</th>\n",
       "      <td>ooooh sick burn bro!</td>\n",
       "      <td>-0.89</td>\n",
       "      <td>0.86</td>\n",
       "    </tr>\n",
       "    <tr>\n",
       "      <th>2316</th>\n",
       "      <td>why do u hate me reddit</td>\n",
       "      <td>-0.80</td>\n",
       "      <td>0.90</td>\n",
       "    </tr>\n",
       "    <tr>\n",
       "      <th>426</th>\n",
       "      <td>i don't know why people here hate that pic... ...</td>\n",
       "      <td>-0.80</td>\n",
       "      <td>0.90</td>\n",
       "    </tr>\n",
       "    <tr>\n",
       "      <th>3310</th>\n",
       "      <td>i hate you, tom. -</td>\n",
       "      <td>-0.80</td>\n",
       "      <td>0.90</td>\n",
       "    </tr>\n",
       "    <tr>\n",
       "      <th>448</th>\n",
       "      <td>we don't kill civilians you worthless cunt</td>\n",
       "      <td>-0.80</td>\n",
       "      <td>0.90</td>\n",
       "    </tr>\n",
       "    <tr>\n",
       "      <th>1135</th>\n",
       "      <td>stupid tall horses.</td>\n",
       "      <td>-0.80</td>\n",
       "      <td>1.00</td>\n",
       "    </tr>\n",
       "    <tr>\n",
       "      <th>2786</th>\n",
       "      <td>stupid statement is stupid.</td>\n",
       "      <td>-0.80</td>\n",
       "      <td>1.00</td>\n",
       "    </tr>\n",
       "    <tr>\n",
       "      <th>1621</th>\n",
       "      <td>i dont even get it.  there's a lot of conserva...</td>\n",
       "      <td>-0.80</td>\n",
       "      <td>1.00</td>\n",
       "    </tr>\n",
       "    <tr>\n",
       "      <th>3154</th>\n",
       "      <td>harry potter over doctor who? -  - star wars o...</td>\n",
       "      <td>-0.75</td>\n",
       "      <td>1.00</td>\n",
       "    </tr>\n",
       "    <tr>\n",
       "      <th>2414</th>\n",
       "      <td>i saw it too. i can't find it now. brb.  - edi...</td>\n",
       "      <td>-0.75</td>\n",
       "      <td>1.00</td>\n",
       "    </tr>\n",
       "    <tr>\n",
       "      <th>3330</th>\n",
       "      <td>goddamn dick professors &amp;gt;:(</td>\n",
       "      <td>-0.75</td>\n",
       "      <td>1.00</td>\n",
       "    </tr>\n",
       "    <tr>\n",
       "      <th>2201</th>\n",
       "      <td>sounds to me like her child care wouldn't take...</td>\n",
       "      <td>-0.71</td>\n",
       "      <td>0.86</td>\n",
       "    </tr>\n",
       "    <tr>\n",
       "      <th>11</th>\n",
       "      <td>i hate the beatles but even i think that is fu...</td>\n",
       "      <td>-0.70</td>\n",
       "      <td>0.80</td>\n",
       "    </tr>\n",
       "    <tr>\n",
       "      <th>100</th>\n",
       "      <td>because your picard is bad and you should feel...</td>\n",
       "      <td>-0.70</td>\n",
       "      <td>0.67</td>\n",
       "    </tr>\n",
       "    <tr>\n",
       "      <th>2049</th>\n",
       "      <td>and... did i mention a bomb squad? - you are a...</td>\n",
       "      <td>-0.70</td>\n",
       "      <td>0.67</td>\n",
       "    </tr>\n",
       "    <tr>\n",
       "      <th>2338</th>\n",
       "      <td>this post is bad and you should feel bad. time...</td>\n",
       "      <td>-0.70</td>\n",
       "      <td>0.67</td>\n",
       "    </tr>\n",
       "    <tr>\n",
       "      <th>3378</th>\n",
       "      <td>clueless recording industry exec: -  - doesn't...</td>\n",
       "      <td>-0.70</td>\n",
       "      <td>0.67</td>\n",
       "    </tr>\n",
       "    <tr>\n",
       "      <th>3421</th>\n",
       "      <td>that post was bad, and you should feel bad.</td>\n",
       "      <td>-0.70</td>\n",
       "      <td>0.67</td>\n",
       "    </tr>\n",
       "    <tr>\n",
       "      <th>1987</th>\n",
       "      <td>does not apply to bad guys.</td>\n",
       "      <td>-0.70</td>\n",
       "      <td>0.67</td>\n",
       "    </tr>\n",
       "    <tr>\n",
       "      <th>2902</th>\n",
       "      <td>til that people who buy pets from pet stores o...</td>\n",
       "      <td>-0.70</td>\n",
       "      <td>0.67</td>\n",
       "    </tr>\n",
       "    <tr>\n",
       "      <th>797</th>\n",
       "      <td>if you don't like tentacles you're gonna have ...</td>\n",
       "      <td>-0.70</td>\n",
       "      <td>0.67</td>\n",
       "    </tr>\n",
       "    <tr>\n",
       "      <th>629</th>\n",
       "      <td>i have some bad news for you...</td>\n",
       "      <td>-0.70</td>\n",
       "      <td>0.67</td>\n",
       "    </tr>\n",
       "    <tr>\n",
       "      <th>944</th>\n",
       "      <td>this meme is bad, and you should feel bad. -</td>\n",
       "      <td>-0.70</td>\n",
       "      <td>0.67</td>\n",
       "    </tr>\n",
       "    <tr>\n",
       "      <th>335</th>\n",
       "      <td>you let them overripen, didn't you? or have yo...</td>\n",
       "      <td>-0.70</td>\n",
       "      <td>0.67</td>\n",
       "    </tr>\n",
       "    <tr>\n",
       "      <th>655</th>\n",
       "      <td>that was lame. so bad. so so bad</td>\n",
       "      <td>-0.63</td>\n",
       "      <td>0.69</td>\n",
       "    </tr>\n",
       "  </tbody>\n",
       "</table>\n",
       "</div>"
      ],
      "text/plain": [
       "                                                   body  sentiment  \\\n",
       "2706                       why that was just horrible..      -1.00   \n",
       "690   wait, my bad, sulu does have the squinty eyes....      -1.00   \n",
       "1906                      unless he has evil daughters.      -1.00   \n",
       "2923  let the toddler try aeroplane food... after he...      -1.00   \n",
       "2477                                      its terrible.      -1.00   \n",
       "1362  jebus let's hope you're not an atheist.  getti...      -1.00   \n",
       "3364  as a delivery driver this is the worst. also a...      -1.00   \n",
       "1754  dude and now russia is planning a moon base pr...      -0.90   \n",
       "241                     i thought you guys hated kanye?      -0.90   \n",
       "617                                ooooh sick burn bro!      -0.89   \n",
       "2316                            why do u hate me reddit      -0.80   \n",
       "426   i don't know why people here hate that pic... ...      -0.80   \n",
       "3310                                 i hate you, tom. -      -0.80   \n",
       "448          we don't kill civilians you worthless cunt      -0.80   \n",
       "1135                                stupid tall horses.      -0.80   \n",
       "2786                        stupid statement is stupid.      -0.80   \n",
       "1621  i dont even get it.  there's a lot of conserva...      -0.80   \n",
       "3154  harry potter over doctor who? -  - star wars o...      -0.75   \n",
       "2414  i saw it too. i can't find it now. brb.  - edi...      -0.75   \n",
       "3330                     goddamn dick professors &gt;:(      -0.75   \n",
       "2201  sounds to me like her child care wouldn't take...      -0.71   \n",
       "11    i hate the beatles but even i think that is fu...      -0.70   \n",
       "100   because your picard is bad and you should feel...      -0.70   \n",
       "2049  and... did i mention a bomb squad? - you are a...      -0.70   \n",
       "2338  this post is bad and you should feel bad. time...      -0.70   \n",
       "3378  clueless recording industry exec: -  - doesn't...      -0.70   \n",
       "3421        that post was bad, and you should feel bad.      -0.70   \n",
       "1987                        does not apply to bad guys.      -0.70   \n",
       "2902  til that people who buy pets from pet stores o...      -0.70   \n",
       "797   if you don't like tentacles you're gonna have ...      -0.70   \n",
       "629                     i have some bad news for you...      -0.70   \n",
       "944        this meme is bad, and you should feel bad. -      -0.70   \n",
       "335   you let them overripen, didn't you? or have yo...      -0.70   \n",
       "655                    that was lame. so bad. so so bad      -0.63   \n",
       "\n",
       "      subjectivity  \n",
       "2706          1.00  \n",
       "690           0.67  \n",
       "1906          1.00  \n",
       "2923          0.86  \n",
       "2477          1.00  \n",
       "1362          1.00  \n",
       "3364          1.00  \n",
       "1754          1.00  \n",
       "241           0.70  \n",
       "617           0.86  \n",
       "2316          0.90  \n",
       "426           0.90  \n",
       "3310          0.90  \n",
       "448           0.90  \n",
       "1135          1.00  \n",
       "2786          1.00  \n",
       "1621          1.00  \n",
       "3154          1.00  \n",
       "2414          1.00  \n",
       "3330          1.00  \n",
       "2201          0.86  \n",
       "11            0.80  \n",
       "100           0.67  \n",
       "2049          0.67  \n",
       "2338          0.67  \n",
       "3378          0.67  \n",
       "3421          0.67  \n",
       "1987          0.67  \n",
       "2902          0.67  \n",
       "797           0.67  \n",
       "629           0.67  \n",
       "944           0.67  \n",
       "335           0.67  \n",
       "655           0.69  "
      ]
     },
     "execution_count": 93,
     "metadata": {},
     "output_type": "execute_result"
    }
   ],
   "source": [
    "top_df"
   ]
  },
  {
   "cell_type": "code",
   "execution_count": 94,
   "metadata": {
    "collapsed": false
   },
   "outputs": [
    {
     "name": "stdout",
     "output_type": "stream",
     "text": [
      "CPU times: user 71.3 ms, sys: 3.91 ms, total: 75.2 ms\n",
      "Wall time: 74.6 ms\n"
     ]
    }
   ],
   "source": [
    "%%time\n",
    "\n",
    "top_text = ''\n",
    "for x in top_df['body']:\n",
    "    top_text += x + ' '\n",
    "\n",
    "top_list = [\n",
    "    w\n",
    "    for w in nltk.word_tokenize(top_text)\n",
    "    if w not in stopwords.words('english') and w not in string.punctuation\n",
    "]"
   ]
  },
  {
   "cell_type": "code",
   "execution_count": 95,
   "metadata": {
    "collapsed": true
   },
   "outputs": [],
   "source": [
    "top_counter = Counter(top_list)"
   ]
  },
  {
   "cell_type": "code",
   "execution_count": 96,
   "metadata": {
    "collapsed": false
   },
   "outputs": [
    {
     "data": {
      "text/plain": [
       "[('bad', 18),\n",
       " (\"n't\", 11),\n",
       " ('...', 5),\n",
       " ('feel', 5),\n",
       " ('hate', 4),\n",
       " ('stupid', 4),\n",
       " ('people', 4),\n",
       " ('even', 3),\n",
       " ('let', 3),\n",
       " ('post', 3),\n",
       " ('sick', 3),\n",
       " ('like', 2),\n",
       " (\"'s\", 2),\n",
       " ('moon', 2),\n",
       " ('star', 2),\n",
       " ('time', 2),\n",
       " ('base', 2),\n",
       " (\"'re\", 2),\n",
       " ('thought', 2),\n",
       " ('guys', 2)]"
      ]
     },
     "execution_count": 96,
     "metadata": {},
     "output_type": "execute_result"
    }
   ],
   "source": [
    "top_counter.most_common(20)"
   ]
  },
  {
   "cell_type": "code",
   "execution_count": 31,
   "metadata": {
    "collapsed": false
   },
   "outputs": [
    {
     "data": {
      "text/plain": [
       "[Timestamp('2010-12-01 00:00:00'),\n",
       " Timestamp('2012-09-01 00:00:00'),\n",
       " Timestamp('2013-04-01 00:00:00'),\n",
       " Timestamp('2013-07-01 00:00:00'),\n",
       " Timestamp('2013-12-01 00:00:00'),\n",
       " Timestamp('2014-03-01 00:00:00')]"
      ]
     },
     "execution_count": 31,
     "metadata": {},
     "output_type": "execute_result"
    }
   ],
   "source": [
    "peaks"
   ]
  },
  {
   "cell_type": "markdown",
   "metadata": {},
   "source": [
    "#### 2013-04-01"
   ]
  },
  {
   "cell_type": "code",
   "execution_count": 97,
   "metadata": {
    "collapsed": false
   },
   "outputs": [],
   "source": [
    "date = '2013-04-01'"
   ]
  },
  {
   "cell_type": "code",
   "execution_count": 98,
   "metadata": {
    "collapsed": false
   },
   "outputs": [],
   "source": [
    "subreddit_date_df = subreddit_df[subreddit_df['month'] == date]"
   ]
  },
  {
   "cell_type": "code",
   "execution_count": 99,
   "metadata": {
    "collapsed": false
   },
   "outputs": [
    {
     "data": {
      "text/plain": [
       "6132"
      ]
     },
     "execution_count": 99,
     "metadata": {},
     "output_type": "execute_result"
    }
   ],
   "source": [
    "len(subreddit_date_df)"
   ]
  },
  {
   "cell_type": "code",
   "execution_count": 100,
   "metadata": {
    "collapsed": false
   },
   "outputs": [
    {
     "name": "stdout",
     "output_type": "stream",
     "text": [
      "CPU times: user 2.01 s, sys: 0 ns, total: 2.01 s\n",
      "Wall time: 2.01 s\n"
     ]
    }
   ],
   "source": [
    "%%time\n",
    "\n",
    "sentiment_list = []\n",
    "for x in subreddit_date_df['body']:\n",
    "    tb = TextBlob(x)\n",
    "    sentiment_list.append((x, tb.sentiment.polarity, tb.sentiment.subjectivity))"
   ]
  },
  {
   "cell_type": "code",
   "execution_count": 101,
   "metadata": {
    "collapsed": false
   },
   "outputs": [],
   "source": [
    "sentiment_df = pd.DataFrame(sentiment_list, columns=['body', 'sentiment', 'subjectivity'])"
   ]
  },
  {
   "cell_type": "code",
   "execution_count": 102,
   "metadata": {
    "collapsed": false
   },
   "outputs": [
    {
     "data": {
      "text/html": [
       "<div>\n",
       "<table border=\"1\" class=\"dataframe\">\n",
       "  <thead>\n",
       "    <tr style=\"text-align: right;\">\n",
       "      <th></th>\n",
       "      <th>body</th>\n",
       "      <th>sentiment</th>\n",
       "      <th>subjectivity</th>\n",
       "    </tr>\n",
       "  </thead>\n",
       "  <tbody>\n",
       "    <tr>\n",
       "      <th>0</th>\n",
       "      <td>i know how you feel. it makes you just want to...</td>\n",
       "      <td>0.00</td>\n",
       "      <td>0.00</td>\n",
       "    </tr>\n",
       "    <tr>\n",
       "      <th>1</th>\n",
       "      <td>**[no we won't go back!](http://www.youtube.co...</td>\n",
       "      <td>0.00</td>\n",
       "      <td>0.00</td>\n",
       "    </tr>\n",
       "    <tr>\n",
       "      <th>2</th>\n",
       "      <td>**captain kirk** - &amp;gt;* as a drunk robot - &amp;g...</td>\n",
       "      <td>0.15</td>\n",
       "      <td>1.00</td>\n",
       "    </tr>\n",
       "    <tr>\n",
       "      <th>3</th>\n",
       "      <td>got tired of telling people what the proper me...</td>\n",
       "      <td>-0.18</td>\n",
       "      <td>0.39</td>\n",
       "    </tr>\n",
       "    <tr>\n",
       "      <th>4</th>\n",
       "      <td>you ruined the fun.</td>\n",
       "      <td>0.30</td>\n",
       "      <td>0.20</td>\n",
       "    </tr>\n",
       "  </tbody>\n",
       "</table>\n",
       "</div>"
      ],
      "text/plain": [
       "                                                body  sentiment  subjectivity\n",
       "0  i know how you feel. it makes you just want to...       0.00          0.00\n",
       "1  **[no we won't go back!](http://www.youtube.co...       0.00          0.00\n",
       "2  **captain kirk** - &gt;* as a drunk robot - &g...       0.15          1.00\n",
       "3  got tired of telling people what the proper me...      -0.18          0.39\n",
       "4                                you ruined the fun.       0.30          0.20"
      ]
     },
     "execution_count": 102,
     "metadata": {},
     "output_type": "execute_result"
    }
   ],
   "source": [
    "sentiment_df.head()"
   ]
  },
  {
   "cell_type": "code",
   "execution_count": 103,
   "metadata": {
    "collapsed": false
   },
   "outputs": [
    {
     "data": {
      "text/plain": [
       "0.018057327187746337"
      ]
     },
     "execution_count": 103,
     "metadata": {},
     "output_type": "execute_result"
    }
   ],
   "source": [
    "sentiment_df['sentiment'].mean()"
   ]
  },
  {
   "cell_type": "code",
   "execution_count": 104,
   "metadata": {
    "collapsed": false
   },
   "outputs": [
    {
     "data": {
      "text/plain": [
       "0.38495748822681009"
      ]
     },
     "execution_count": 104,
     "metadata": {},
     "output_type": "execute_result"
    }
   ],
   "source": [
    "sentiment_df['subjectivity'].mean()"
   ]
  },
  {
   "cell_type": "markdown",
   "metadata": {},
   "source": [
    "##### Histogram top positive"
   ]
  },
  {
   "cell_type": "code",
   "execution_count": 105,
   "metadata": {
    "collapsed": true
   },
   "outputs": [],
   "source": [
    "P = 1"
   ]
  },
  {
   "cell_type": "code",
   "execution_count": 106,
   "metadata": {
    "collapsed": false
   },
   "outputs": [],
   "source": [
    "top_df = sentiment_df.sort_values('sentiment', ascending=False)[:len(subreddit_date_df) * P // 100]"
   ]
  },
  {
   "cell_type": "code",
   "execution_count": 107,
   "metadata": {
    "collapsed": false
   },
   "outputs": [
    {
     "data": {
      "text/html": [
       "<div>\n",
       "<table border=\"1\" class=\"dataframe\">\n",
       "  <thead>\n",
       "    <tr style=\"text-align: right;\">\n",
       "      <th></th>\n",
       "      <th>body</th>\n",
       "      <th>sentiment</th>\n",
       "      <th>subjectivity</th>\n",
       "    </tr>\n",
       "  </thead>\n",
       "  <tbody>\n",
       "    <tr>\n",
       "      <th>1775</th>\n",
       "      <td>when used correctly, confession bear can be fu...</td>\n",
       "      <td>1.00</td>\n",
       "      <td>1.00</td>\n",
       "    </tr>\n",
       "    <tr>\n",
       "      <th>6105</th>\n",
       "      <td>quick! someone grab the fire! kill it with fir...</td>\n",
       "      <td>1.00</td>\n",
       "      <td>0.50</td>\n",
       "    </tr>\n",
       "    <tr>\n",
       "      <th>2677</th>\n",
       "      <td>&amp;gt;doesn't want kids -  - deal breaker there....</td>\n",
       "      <td>1.00</td>\n",
       "      <td>0.30</td>\n",
       "    </tr>\n",
       "    <tr>\n",
       "      <th>2001</th>\n",
       "      <td>i try my best.</td>\n",
       "      <td>1.00</td>\n",
       "      <td>0.30</td>\n",
       "    </tr>\n",
       "    <tr>\n",
       "      <th>5050</th>\n",
       "      <td>i think it's the perfect date for that.</td>\n",
       "      <td>1.00</td>\n",
       "      <td>1.00</td>\n",
       "    </tr>\n",
       "    <tr>\n",
       "      <th>1862</th>\n",
       "      <td>grandma always knows best</td>\n",
       "      <td>1.00</td>\n",
       "      <td>0.30</td>\n",
       "    </tr>\n",
       "    <tr>\n",
       "      <th>5493</th>\n",
       "      <td>best part is, we leave a trace of our team nam...</td>\n",
       "      <td>1.00</td>\n",
       "      <td>0.30</td>\n",
       "    </tr>\n",
       "    <tr>\n",
       "      <th>1112</th>\n",
       "      <td>best bullshit i've seen today. well done!</td>\n",
       "      <td>1.00</td>\n",
       "      <td>0.30</td>\n",
       "    </tr>\n",
       "    <tr>\n",
       "      <th>2942</th>\n",
       "      <td>indeed. perfectly describes my room.</td>\n",
       "      <td>1.00</td>\n",
       "      <td>1.00</td>\n",
       "    </tr>\n",
       "    <tr>\n",
       "      <th>1177</th>\n",
       "      <td>in all fairness, the extended picard monologue...</td>\n",
       "      <td>1.00</td>\n",
       "      <td>0.30</td>\n",
       "    </tr>\n",
       "    <tr>\n",
       "      <th>5144</th>\n",
       "      <td>this is the best captionbot post ever.</td>\n",
       "      <td>1.00</td>\n",
       "      <td>0.30</td>\n",
       "    </tr>\n",
       "    <tr>\n",
       "      <th>4020</th>\n",
       "      <td>this is the best caption i've ever seen.</td>\n",
       "      <td>1.00</td>\n",
       "      <td>0.30</td>\n",
       "    </tr>\n",
       "    <tr>\n",
       "      <th>2544</th>\n",
       "      <td>yes. parachute day was awesome, you should pro...</td>\n",
       "      <td>1.00</td>\n",
       "      <td>1.00</td>\n",
       "    </tr>\n",
       "    <tr>\n",
       "      <th>4044</th>\n",
       "      <td>oh man, worded perfectly.  i can't stand that ...</td>\n",
       "      <td>1.00</td>\n",
       "      <td>1.00</td>\n",
       "    </tr>\n",
       "    <tr>\n",
       "      <th>839</th>\n",
       "      <td>i find the best times is when people are getti...</td>\n",
       "      <td>1.00</td>\n",
       "      <td>0.30</td>\n",
       "    </tr>\n",
       "    <tr>\n",
       "      <th>2598</th>\n",
       "      <td>robert's delicious hamburgers</td>\n",
       "      <td>1.00</td>\n",
       "      <td>1.00</td>\n",
       "    </tr>\n",
       "    <tr>\n",
       "      <th>4811</th>\n",
       "      <td>you bought this textbook from us for $220 and ...</td>\n",
       "      <td>1.00</td>\n",
       "      <td>0.30</td>\n",
       "    </tr>\n",
       "    <tr>\n",
       "      <th>4069</th>\n",
       "      <td>i wish the winter x-games would follow this id...</td>\n",
       "      <td>1.00</td>\n",
       "      <td>1.00</td>\n",
       "    </tr>\n",
       "    <tr>\n",
       "      <th>4091</th>\n",
       "      <td>when in doubt, don't vote at all. best advice ...</td>\n",
       "      <td>1.00</td>\n",
       "      <td>0.30</td>\n",
       "    </tr>\n",
       "    <tr>\n",
       "      <th>3726</th>\n",
       "      <td>that sounds wonderful.</td>\n",
       "      <td>1.00</td>\n",
       "      <td>1.00</td>\n",
       "    </tr>\n",
       "    <tr>\n",
       "      <th>5364</th>\n",
       "      <td>it's.  a.  joke. -  - it's not supposed to be ...</td>\n",
       "      <td>1.00</td>\n",
       "      <td>1.00</td>\n",
       "    </tr>\n",
       "    <tr>\n",
       "      <th>77</th>\n",
       "      <td>best i can do is this stick i have.</td>\n",
       "      <td>1.00</td>\n",
       "      <td>0.30</td>\n",
       "    </tr>\n",
       "    <tr>\n",
       "      <th>5248</th>\n",
       "      <td>dude, you were awesome on star trek and stand ...</td>\n",
       "      <td>1.00</td>\n",
       "      <td>1.00</td>\n",
       "    </tr>\n",
       "    <tr>\n",
       "      <th>3766</th>\n",
       "      <td>what a wonderful description.  i wish i could ...</td>\n",
       "      <td>1.00</td>\n",
       "      <td>1.00</td>\n",
       "    </tr>\n",
       "    <tr>\n",
       "      <th>4968</th>\n",
       "      <td>he just has a crippling addiction to being awe...</td>\n",
       "      <td>1.00</td>\n",
       "      <td>1.00</td>\n",
       "    </tr>\n",
       "    <tr>\n",
       "      <th>3984</th>\n",
       "      <td>your logic is wonderful. thank you.</td>\n",
       "      <td>1.00</td>\n",
       "      <td>1.00</td>\n",
       "    </tr>\n",
       "    <tr>\n",
       "      <th>1974</th>\n",
       "      <td>what are you talking about?  pulling out a pun...</td>\n",
       "      <td>1.00</td>\n",
       "      <td>0.30</td>\n",
       "    </tr>\n",
       "    <tr>\n",
       "      <th>1917</th>\n",
       "      <td>best bot ever.</td>\n",
       "      <td>1.00</td>\n",
       "      <td>0.30</td>\n",
       "    </tr>\n",
       "    <tr>\n",
       "      <th>5757</th>\n",
       "      <td>i try my best.</td>\n",
       "      <td>1.00</td>\n",
       "      <td>0.30</td>\n",
       "    </tr>\n",
       "    <tr>\n",
       "      <th>4660</th>\n",
       "      <td>my mind did a perfect job at saying that in hi...</td>\n",
       "      <td>1.00</td>\n",
       "      <td>1.00</td>\n",
       "    </tr>\n",
       "    <tr>\n",
       "      <th>...</th>\n",
       "      <td>...</td>\n",
       "      <td>...</td>\n",
       "      <td>...</td>\n",
       "    </tr>\n",
       "    <tr>\n",
       "      <th>2801</th>\n",
       "      <td>she must have been soo impressed.</td>\n",
       "      <td>1.00</td>\n",
       "      <td>1.00</td>\n",
       "    </tr>\n",
       "    <tr>\n",
       "      <th>1987</th>\n",
       "      <td>i feel the need to point out my post below you...</td>\n",
       "      <td>1.00</td>\n",
       "      <td>0.30</td>\n",
       "    </tr>\n",
       "    <tr>\n",
       "      <th>2330</th>\n",
       "      <td>best of luck to you.</td>\n",
       "      <td>1.00</td>\n",
       "      <td>0.30</td>\n",
       "    </tr>\n",
       "    <tr>\n",
       "      <th>1903</th>\n",
       "      <td>you get one vote for having the best username ...</td>\n",
       "      <td>1.00</td>\n",
       "      <td>0.30</td>\n",
       "    </tr>\n",
       "    <tr>\n",
       "      <th>3414</th>\n",
       "      <td>redditor for 12 days -  - link karma: 1 -  - c...</td>\n",
       "      <td>1.00</td>\n",
       "      <td>0.30</td>\n",
       "    </tr>\n",
       "    <tr>\n",
       "      <th>5093</th>\n",
       "      <td>that sounds like an awesome job. i would just ...</td>\n",
       "      <td>1.00</td>\n",
       "      <td>1.00</td>\n",
       "    </tr>\n",
       "    <tr>\n",
       "      <th>3205</th>\n",
       "      <td>i'm leaning towards radical americans.  -  - b...</td>\n",
       "      <td>0.91</td>\n",
       "      <td>0.78</td>\n",
       "    </tr>\n",
       "    <tr>\n",
       "      <th>6043</th>\n",
       "      <td>that's the best picard ever. actually lol'd</td>\n",
       "      <td>0.90</td>\n",
       "      <td>0.50</td>\n",
       "    </tr>\n",
       "    <tr>\n",
       "      <th>3085</th>\n",
       "      <td>holy god, you are a  brilliant man. -  - or wo...</td>\n",
       "      <td>0.90</td>\n",
       "      <td>1.00</td>\n",
       "    </tr>\n",
       "    <tr>\n",
       "      <th>2449</th>\n",
       "      <td>you've coined another euphemism for masturbati...</td>\n",
       "      <td>0.90</td>\n",
       "      <td>1.00</td>\n",
       "    </tr>\n",
       "    <tr>\n",
       "      <th>2957</th>\n",
       "      <td>how is this any sorts of fair?!</td>\n",
       "      <td>0.88</td>\n",
       "      <td>0.90</td>\n",
       "    </tr>\n",
       "    <tr>\n",
       "      <th>5512</th>\n",
       "      <td>no one likes feminists... for good reasons. tr...</td>\n",
       "      <td>0.88</td>\n",
       "      <td>0.60</td>\n",
       "    </tr>\n",
       "    <tr>\n",
       "      <th>2635</th>\n",
       "      <td>judging by the vote count, you don't understan...</td>\n",
       "      <td>0.88</td>\n",
       "      <td>0.60</td>\n",
       "    </tr>\n",
       "    <tr>\n",
       "      <th>1735</th>\n",
       "      <td>good job!</td>\n",
       "      <td>0.88</td>\n",
       "      <td>0.60</td>\n",
       "    </tr>\n",
       "    <tr>\n",
       "      <th>2055</th>\n",
       "      <td>good! there will be eventual explosion and the...</td>\n",
       "      <td>0.88</td>\n",
       "      <td>0.60</td>\n",
       "    </tr>\n",
       "    <tr>\n",
       "      <th>743</th>\n",
       "      <td>good for you, hawtie!</td>\n",
       "      <td>0.88</td>\n",
       "      <td>0.60</td>\n",
       "    </tr>\n",
       "    <tr>\n",
       "      <th>843</th>\n",
       "      <td>hell, good call!</td>\n",
       "      <td>0.88</td>\n",
       "      <td>0.60</td>\n",
       "    </tr>\n",
       "    <tr>\n",
       "      <th>4871</th>\n",
       "      <td>she's beautiful...</td>\n",
       "      <td>0.85</td>\n",
       "      <td>1.00</td>\n",
       "    </tr>\n",
       "    <tr>\n",
       "      <th>3326</th>\n",
       "      <td>i'm putting karma on \"so brave\"</td>\n",
       "      <td>0.80</td>\n",
       "      <td>1.00</td>\n",
       "    </tr>\n",
       "    <tr>\n",
       "      <th>5665</th>\n",
       "      <td>son, you have never experience hatred and have...</td>\n",
       "      <td>0.80</td>\n",
       "      <td>0.70</td>\n",
       "    </tr>\n",
       "    <tr>\n",
       "      <th>4077</th>\n",
       "      <td>you're welcome.</td>\n",
       "      <td>0.80</td>\n",
       "      <td>0.90</td>\n",
       "    </tr>\n",
       "    <tr>\n",
       "      <th>3842</th>\n",
       "      <td>with this power comes great responsibility…</td>\n",
       "      <td>0.80</td>\n",
       "      <td>0.75</td>\n",
       "    </tr>\n",
       "    <tr>\n",
       "      <th>1531</th>\n",
       "      <td>step one: be attractive. -  - step two: don't ...</td>\n",
       "      <td>0.80</td>\n",
       "      <td>1.00</td>\n",
       "    </tr>\n",
       "    <tr>\n",
       "      <th>326</th>\n",
       "      <td>welcome to reddit.</td>\n",
       "      <td>0.80</td>\n",
       "      <td>0.90</td>\n",
       "    </tr>\n",
       "    <tr>\n",
       "      <th>3886</th>\n",
       "      <td>this is great</td>\n",
       "      <td>0.80</td>\n",
       "      <td>0.75</td>\n",
       "    </tr>\n",
       "    <tr>\n",
       "      <th>4569</th>\n",
       "      <td>i'm just happy she/he quit clawing.  i was hav...</td>\n",
       "      <td>0.80</td>\n",
       "      <td>1.00</td>\n",
       "    </tr>\n",
       "    <tr>\n",
       "      <th>3594</th>\n",
       "      <td>i read these in picard's voice every time lol</td>\n",
       "      <td>0.80</td>\n",
       "      <td>0.70</td>\n",
       "    </tr>\n",
       "    <tr>\n",
       "      <th>176</th>\n",
       "      <td>i was just thinking this, lol.</td>\n",
       "      <td>0.80</td>\n",
       "      <td>0.70</td>\n",
       "    </tr>\n",
       "    <tr>\n",
       "      <th>4780</th>\n",
       "      <td>this is a great example of how not to use this...</td>\n",
       "      <td>0.80</td>\n",
       "      <td>0.75</td>\n",
       "    </tr>\n",
       "    <tr>\n",
       "      <th>3960</th>\n",
       "      <td>so brave.</td>\n",
       "      <td>0.80</td>\n",
       "      <td>1.00</td>\n",
       "    </tr>\n",
       "  </tbody>\n",
       "</table>\n",
       "<p>61 rows × 3 columns</p>\n",
       "</div>"
      ],
      "text/plain": [
       "                                                   body  sentiment  \\\n",
       "1775  when used correctly, confession bear can be fu...       1.00   \n",
       "6105  quick! someone grab the fire! kill it with fir...       1.00   \n",
       "2677  &gt;doesn't want kids -  - deal breaker there....       1.00   \n",
       "2001                                     i try my best.       1.00   \n",
       "5050            i think it's the perfect date for that.       1.00   \n",
       "1862                          grandma always knows best       1.00   \n",
       "5493  best part is, we leave a trace of our team nam...       1.00   \n",
       "1112          best bullshit i've seen today. well done!       1.00   \n",
       "2942               indeed. perfectly describes my room.       1.00   \n",
       "1177  in all fairness, the extended picard monologue...       1.00   \n",
       "5144             this is the best captionbot post ever.       1.00   \n",
       "4020           this is the best caption i've ever seen.       1.00   \n",
       "2544  yes. parachute day was awesome, you should pro...       1.00   \n",
       "4044  oh man, worded perfectly.  i can't stand that ...       1.00   \n",
       "839   i find the best times is when people are getti...       1.00   \n",
       "2598                      robert's delicious hamburgers       1.00   \n",
       "4811  you bought this textbook from us for $220 and ...       1.00   \n",
       "4069  i wish the winter x-games would follow this id...       1.00   \n",
       "4091  when in doubt, don't vote at all. best advice ...       1.00   \n",
       "3726                             that sounds wonderful.       1.00   \n",
       "5364  it's.  a.  joke. -  - it's not supposed to be ...       1.00   \n",
       "77                  best i can do is this stick i have.       1.00   \n",
       "5248  dude, you were awesome on star trek and stand ...       1.00   \n",
       "3766  what a wonderful description.  i wish i could ...       1.00   \n",
       "4968  he just has a crippling addiction to being awe...       1.00   \n",
       "3984                your logic is wonderful. thank you.       1.00   \n",
       "1974  what are you talking about?  pulling out a pun...       1.00   \n",
       "1917                                     best bot ever.       1.00   \n",
       "5757                                     i try my best.       1.00   \n",
       "4660  my mind did a perfect job at saying that in hi...       1.00   \n",
       "...                                                 ...        ...   \n",
       "2801                  she must have been soo impressed.       1.00   \n",
       "1987  i feel the need to point out my post below you...       1.00   \n",
       "2330                               best of luck to you.       1.00   \n",
       "1903  you get one vote for having the best username ...       1.00   \n",
       "3414  redditor for 12 days -  - link karma: 1 -  - c...       1.00   \n",
       "5093  that sounds like an awesome job. i would just ...       1.00   \n",
       "3205  i'm leaning towards radical americans.  -  - b...       0.91   \n",
       "6043        that's the best picard ever. actually lol'd       0.90   \n",
       "3085  holy god, you are a  brilliant man. -  - or wo...       0.90   \n",
       "2449  you've coined another euphemism for masturbati...       0.90   \n",
       "2957                    how is this any sorts of fair?!       0.88   \n",
       "5512  no one likes feminists... for good reasons. tr...       0.88   \n",
       "2635  judging by the vote count, you don't understan...       0.88   \n",
       "1735                                          good job!       0.88   \n",
       "2055  good! there will be eventual explosion and the...       0.88   \n",
       "743                               good for you, hawtie!       0.88   \n",
       "843                                    hell, good call!       0.88   \n",
       "4871                                 she's beautiful...       0.85   \n",
       "3326                    i'm putting karma on \"so brave\"       0.80   \n",
       "5665  son, you have never experience hatred and have...       0.80   \n",
       "4077                                    you're welcome.       0.80   \n",
       "3842        with this power comes great responsibility…       0.80   \n",
       "1531  step one: be attractive. -  - step two: don't ...       0.80   \n",
       "326                                  welcome to reddit.       0.80   \n",
       "3886                                      this is great       0.80   \n",
       "4569  i'm just happy she/he quit clawing.  i was hav...       0.80   \n",
       "3594      i read these in picard's voice every time lol       0.80   \n",
       "176                      i was just thinking this, lol.       0.80   \n",
       "4780  this is a great example of how not to use this...       0.80   \n",
       "3960                                          so brave.       0.80   \n",
       "\n",
       "      subjectivity  \n",
       "1775          1.00  \n",
       "6105          0.50  \n",
       "2677          0.30  \n",
       "2001          0.30  \n",
       "5050          1.00  \n",
       "1862          0.30  \n",
       "5493          0.30  \n",
       "1112          0.30  \n",
       "2942          1.00  \n",
       "1177          0.30  \n",
       "5144          0.30  \n",
       "4020          0.30  \n",
       "2544          1.00  \n",
       "4044          1.00  \n",
       "839           0.30  \n",
       "2598          1.00  \n",
       "4811          0.30  \n",
       "4069          1.00  \n",
       "4091          0.30  \n",
       "3726          1.00  \n",
       "5364          1.00  \n",
       "77            0.30  \n",
       "5248          1.00  \n",
       "3766          1.00  \n",
       "4968          1.00  \n",
       "3984          1.00  \n",
       "1974          0.30  \n",
       "1917          0.30  \n",
       "5757          0.30  \n",
       "4660          1.00  \n",
       "...            ...  \n",
       "2801          1.00  \n",
       "1987          0.30  \n",
       "2330          0.30  \n",
       "1903          0.30  \n",
       "3414          0.30  \n",
       "5093          1.00  \n",
       "3205          0.78  \n",
       "6043          0.50  \n",
       "3085          1.00  \n",
       "2449          1.00  \n",
       "2957          0.90  \n",
       "5512          0.60  \n",
       "2635          0.60  \n",
       "1735          0.60  \n",
       "2055          0.60  \n",
       "743           0.60  \n",
       "843           0.60  \n",
       "4871          1.00  \n",
       "3326          1.00  \n",
       "5665          0.70  \n",
       "4077          0.90  \n",
       "3842          0.75  \n",
       "1531          1.00  \n",
       "326           0.90  \n",
       "3886          0.75  \n",
       "4569          1.00  \n",
       "3594          0.70  \n",
       "176           0.70  \n",
       "4780          0.75  \n",
       "3960          1.00  \n",
       "\n",
       "[61 rows x 3 columns]"
      ]
     },
     "execution_count": 107,
     "metadata": {},
     "output_type": "execute_result"
    }
   ],
   "source": [
    "top_df"
   ]
  },
  {
   "cell_type": "code",
   "execution_count": 108,
   "metadata": {
    "collapsed": false
   },
   "outputs": [
    {
     "name": "stdout",
     "output_type": "stream",
     "text": [
      "CPU times: user 117 ms, sys: 7.74 ms, total: 125 ms\n",
      "Wall time: 123 ms\n"
     ]
    }
   ],
   "source": [
    "%%time\n",
    "\n",
    "top_text = ''\n",
    "for x in top_df['body']:\n",
    "    top_text += x + ' '\n",
    "\n",
    "top_list = [\n",
    "    w\n",
    "    for w in nltk.word_tokenize(top_text)\n",
    "    if w not in stopwords.words('english') and w not in string.punctuation\n",
    "]"
   ]
  },
  {
   "cell_type": "code",
   "execution_count": 109,
   "metadata": {
    "collapsed": true
   },
   "outputs": [],
   "source": [
    "top_counter = Counter(top_list)"
   ]
  },
  {
   "cell_type": "code",
   "execution_count": 110,
   "metadata": {
    "collapsed": false
   },
   "outputs": [
    {
     "data": {
      "text/plain": [
       "[('best', 20),\n",
       " (\"n't\", 9),\n",
       " ('good', 7),\n",
       " ('awesome', 7),\n",
       " (\"'s\", 7),\n",
       " ('ever', 5),\n",
       " ('...', 5),\n",
       " ('one', 5),\n",
       " ('lol', 4),\n",
       " ('reddit', 4),\n",
       " ('picard', 3),\n",
       " ('probably', 3),\n",
       " ('would', 3),\n",
       " (\"'ve\", 3),\n",
       " ('getting', 3),\n",
       " ('karma', 3),\n",
       " ('luck', 3),\n",
       " ('job', 3),\n",
       " (\"'m\", 3),\n",
       " ('wonderful', 3)]"
      ]
     },
     "execution_count": 110,
     "metadata": {},
     "output_type": "execute_result"
    }
   ],
   "source": [
    "top_counter.most_common(20)"
   ]
  },
  {
   "cell_type": "markdown",
   "metadata": {},
   "source": [
    "##### Histogram top negative"
   ]
  },
  {
   "cell_type": "code",
   "execution_count": 111,
   "metadata": {
    "collapsed": true
   },
   "outputs": [],
   "source": [
    "P = 1"
   ]
  },
  {
   "cell_type": "code",
   "execution_count": 112,
   "metadata": {
    "collapsed": false
   },
   "outputs": [],
   "source": [
    "top_df = sentiment_df.sort_values('sentiment', ascending=True)[:len(subreddit_date_df) * P // 100]"
   ]
  },
  {
   "cell_type": "code",
   "execution_count": 113,
   "metadata": {
    "collapsed": false
   },
   "outputs": [
    {
     "data": {
      "text/html": [
       "<div>\n",
       "<table border=\"1\" class=\"dataframe\">\n",
       "  <thead>\n",
       "    <tr style=\"text-align: right;\">\n",
       "      <th></th>\n",
       "      <th>body</th>\n",
       "      <th>sentiment</th>\n",
       "      <th>subjectivity</th>\n",
       "    </tr>\n",
       "  </thead>\n",
       "  <tbody>\n",
       "    <tr>\n",
       "      <th>2117</th>\n",
       "      <td>\"license and registration, chicken fucker!!!!\"</td>\n",
       "      <td>-1.00</td>\n",
       "      <td>0.95</td>\n",
       "    </tr>\n",
       "    <tr>\n",
       "      <th>5858</th>\n",
       "      <td>this happens to me sometimes. it's the worst w...</td>\n",
       "      <td>-1.00</td>\n",
       "      <td>1.00</td>\n",
       "    </tr>\n",
       "    <tr>\n",
       "      <th>5495</th>\n",
       "      <td>it's like the miss universe winner always bein...</td>\n",
       "      <td>-1.00</td>\n",
       "      <td>1.00</td>\n",
       "    </tr>\n",
       "    <tr>\n",
       "      <th>4429</th>\n",
       "      <td>i am 6'6\" and have never even considered this....</td>\n",
       "      <td>-1.00</td>\n",
       "      <td>1.00</td>\n",
       "    </tr>\n",
       "    <tr>\n",
       "      <th>4653</th>\n",
       "      <td>op that's terrible</td>\n",
       "      <td>-1.00</td>\n",
       "      <td>1.00</td>\n",
       "    </tr>\n",
       "    <tr>\n",
       "      <th>375</th>\n",
       "      <td>this is the worst use of this macro i've ever ...</td>\n",
       "      <td>-1.00</td>\n",
       "      <td>1.00</td>\n",
       "    </tr>\n",
       "    <tr>\n",
       "      <th>3110</th>\n",
       "      <td>what if that demographic is evil people?</td>\n",
       "      <td>-1.00</td>\n",
       "      <td>1.00</td>\n",
       "    </tr>\n",
       "    <tr>\n",
       "      <th>741</th>\n",
       "      <td>why would i be disgusted by things that turned...</td>\n",
       "      <td>-1.00</td>\n",
       "      <td>1.00</td>\n",
       "    </tr>\n",
       "    <tr>\n",
       "      <th>2211</th>\n",
       "      <td>is that the worst she's done? because if she l...</td>\n",
       "      <td>-1.00</td>\n",
       "      <td>1.00</td>\n",
       "    </tr>\n",
       "    <tr>\n",
       "      <th>1075</th>\n",
       "      <td>this is honestly disgusting.</td>\n",
       "      <td>-1.00</td>\n",
       "      <td>1.00</td>\n",
       "    </tr>\n",
       "    <tr>\n",
       "      <th>4674</th>\n",
       "      <td>worst hemisphere ever</td>\n",
       "      <td>-1.00</td>\n",
       "      <td>1.00</td>\n",
       "    </tr>\n",
       "    <tr>\n",
       "      <th>1469</th>\n",
       "      <td>i have tried to bring it up before and he seem...</td>\n",
       "      <td>-1.00</td>\n",
       "      <td>1.00</td>\n",
       "    </tr>\n",
       "    <tr>\n",
       "      <th>2133</th>\n",
       "      <td>oh, thats horrible....</td>\n",
       "      <td>-1.00</td>\n",
       "      <td>1.00</td>\n",
       "    </tr>\n",
       "    <tr>\n",
       "      <th>1921</th>\n",
       "      <td>i like kittens, cats are evil</td>\n",
       "      <td>-1.00</td>\n",
       "      <td>1.00</td>\n",
       "    </tr>\n",
       "    <tr>\n",
       "      <th>2560</th>\n",
       "      <td>my mother always says i can talk to her about ...</td>\n",
       "      <td>-1.00</td>\n",
       "      <td>1.00</td>\n",
       "    </tr>\n",
       "    <tr>\n",
       "      <th>3062</th>\n",
       "      <td>holy crap, guys! someone doesn't like advice m...</td>\n",
       "      <td>-1.00</td>\n",
       "      <td>0.80</td>\n",
       "    </tr>\n",
       "    <tr>\n",
       "      <th>4038</th>\n",
       "      <td>and then you've got those stupid doors that un...</td>\n",
       "      <td>-1.00</td>\n",
       "      <td>1.00</td>\n",
       "    </tr>\n",
       "    <tr>\n",
       "      <th>3692</th>\n",
       "      <td>no matter what way you turn... its always wron...</td>\n",
       "      <td>-0.98</td>\n",
       "      <td>0.90</td>\n",
       "    </tr>\n",
       "    <tr>\n",
       "      <th>2135</th>\n",
       "      <td>\"hey!  this is the bad part of town, don't lea...</td>\n",
       "      <td>-0.87</td>\n",
       "      <td>0.67</td>\n",
       "    </tr>\n",
       "    <tr>\n",
       "      <th>1184</th>\n",
       "      <td>worst gif ever. it's so bad that the thing won...</td>\n",
       "      <td>-0.85</td>\n",
       "      <td>0.83</td>\n",
       "    </tr>\n",
       "    <tr>\n",
       "      <th>2529</th>\n",
       "      <td>this. i'm a teenager and my mom screams at me ...</td>\n",
       "      <td>-0.81</td>\n",
       "      <td>1.00</td>\n",
       "    </tr>\n",
       "    <tr>\n",
       "      <th>4011</th>\n",
       "      <td>[hate hate hate](http://www.youtube.com/watch?...</td>\n",
       "      <td>-0.80</td>\n",
       "      <td>0.90</td>\n",
       "    </tr>\n",
       "    <tr>\n",
       "      <th>745</th>\n",
       "      <td>hate it when that happens.</td>\n",
       "      <td>-0.80</td>\n",
       "      <td>0.90</td>\n",
       "    </tr>\n",
       "    <tr>\n",
       "      <th>4140</th>\n",
       "      <td>filthy hobbitses</td>\n",
       "      <td>-0.80</td>\n",
       "      <td>1.00</td>\n",
       "    </tr>\n",
       "    <tr>\n",
       "      <th>5008</th>\n",
       "      <td>you might be an idiot.</td>\n",
       "      <td>-0.80</td>\n",
       "      <td>0.80</td>\n",
       "    </tr>\n",
       "    <tr>\n",
       "      <th>2550</th>\n",
       "      <td>i hate you.</td>\n",
       "      <td>-0.80</td>\n",
       "      <td>0.90</td>\n",
       "    </tr>\n",
       "    <tr>\n",
       "      <th>5479</th>\n",
       "      <td>when i just started driving stick, people honk...</td>\n",
       "      <td>-0.80</td>\n",
       "      <td>0.90</td>\n",
       "    </tr>\n",
       "    <tr>\n",
       "      <th>5170</th>\n",
       "      <td>gd i hate this.</td>\n",
       "      <td>-0.80</td>\n",
       "      <td>0.90</td>\n",
       "    </tr>\n",
       "    <tr>\n",
       "      <th>3517</th>\n",
       "      <td>i hate it when people just can't accept a comp...</td>\n",
       "      <td>-0.80</td>\n",
       "      <td>0.90</td>\n",
       "    </tr>\n",
       "    <tr>\n",
       "      <th>586</th>\n",
       "      <td>this is that guy that stole that dudes phone s...</td>\n",
       "      <td>-0.80</td>\n",
       "      <td>0.80</td>\n",
       "    </tr>\n",
       "    <tr>\n",
       "      <th>...</th>\n",
       "      <td>...</td>\n",
       "      <td>...</td>\n",
       "      <td>...</td>\n",
       "    </tr>\n",
       "    <tr>\n",
       "      <th>6114</th>\n",
       "      <td>facism?  you're a moron.</td>\n",
       "      <td>-0.80</td>\n",
       "      <td>1.00</td>\n",
       "    </tr>\n",
       "    <tr>\n",
       "      <th>5560</th>\n",
       "      <td>even if everyone onn reddit did this, they wou...</td>\n",
       "      <td>-0.80</td>\n",
       "      <td>0.80</td>\n",
       "    </tr>\n",
       "    <tr>\n",
       "      <th>3799</th>\n",
       "      <td>maybe not, but it could be considered a violen...</td>\n",
       "      <td>-0.80</td>\n",
       "      <td>1.00</td>\n",
       "    </tr>\n",
       "    <tr>\n",
       "      <th>3796</th>\n",
       "      <td>i have to agree, i lived with a couple for a w...</td>\n",
       "      <td>-0.80</td>\n",
       "      <td>0.90</td>\n",
       "    </tr>\n",
       "    <tr>\n",
       "      <th>191</th>\n",
       "      <td>someone's been playing too much bloody knuckle...</td>\n",
       "      <td>-0.80</td>\n",
       "      <td>0.90</td>\n",
       "    </tr>\n",
       "    <tr>\n",
       "      <th>5976</th>\n",
       "      <td>i don't hate drama, i avoid it.</td>\n",
       "      <td>-0.80</td>\n",
       "      <td>0.90</td>\n",
       "    </tr>\n",
       "    <tr>\n",
       "      <th>3568</th>\n",
       "      <td>i would hate to date you.</td>\n",
       "      <td>-0.80</td>\n",
       "      <td>0.90</td>\n",
       "    </tr>\n",
       "    <tr>\n",
       "      <th>1130</th>\n",
       "      <td>damned if you use it, damned if you don't. i h...</td>\n",
       "      <td>-0.80</td>\n",
       "      <td>0.90</td>\n",
       "    </tr>\n",
       "    <tr>\n",
       "      <th>2758</th>\n",
       "      <td>i hate it when my friends do this. i get all p...</td>\n",
       "      <td>-0.80</td>\n",
       "      <td>0.90</td>\n",
       "    </tr>\n",
       "    <tr>\n",
       "      <th>3242</th>\n",
       "      <td>it's a culture of violence. a culture that val...</td>\n",
       "      <td>-0.80</td>\n",
       "      <td>1.00</td>\n",
       "    </tr>\n",
       "    <tr>\n",
       "      <th>6021</th>\n",
       "      <td>in my country we call them *loofterhammens*, w...</td>\n",
       "      <td>-0.80</td>\n",
       "      <td>1.00</td>\n",
       "    </tr>\n",
       "    <tr>\n",
       "      <th>2225</th>\n",
       "      <td>this is how a feel about stupid people. althou...</td>\n",
       "      <td>-0.80</td>\n",
       "      <td>0.93</td>\n",
       "    </tr>\n",
       "    <tr>\n",
       "      <th>3246</th>\n",
       "      <td>they're neither stupid nor irrational, they're...</td>\n",
       "      <td>-0.80</td>\n",
       "      <td>1.00</td>\n",
       "    </tr>\n",
       "    <tr>\n",
       "      <th>3516</th>\n",
       "      <td>fedora's are fucking stupid. period.</td>\n",
       "      <td>-0.80</td>\n",
       "      <td>1.00</td>\n",
       "    </tr>\n",
       "    <tr>\n",
       "      <th>4316</th>\n",
       "      <td>also word 2013. -  - and don't forget word's s...</td>\n",
       "      <td>-0.80</td>\n",
       "      <td>1.00</td>\n",
       "    </tr>\n",
       "    <tr>\n",
       "      <th>2388</th>\n",
       "      <td>when i pronounce it like 'meem'  it sounds stu...</td>\n",
       "      <td>-0.80</td>\n",
       "      <td>1.00</td>\n",
       "    </tr>\n",
       "    <tr>\n",
       "      <th>5371</th>\n",
       "      <td>\"stupid post.  downvo....dammit, i'm not on re...</td>\n",
       "      <td>-0.80</td>\n",
       "      <td>1.00</td>\n",
       "    </tr>\n",
       "    <tr>\n",
       "      <th>5863</th>\n",
       "      <td>that depends, did you get it in something stupid?</td>\n",
       "      <td>-0.80</td>\n",
       "      <td>1.00</td>\n",
       "    </tr>\n",
       "    <tr>\n",
       "      <th>1789</th>\n",
       "      <td>to compliment people?  are you stupid?</td>\n",
       "      <td>-0.80</td>\n",
       "      <td>1.00</td>\n",
       "    </tr>\n",
       "    <tr>\n",
       "      <th>286</th>\n",
       "      <td>men's rights?  this is a question about both g...</td>\n",
       "      <td>-0.80</td>\n",
       "      <td>1.00</td>\n",
       "    </tr>\n",
       "    <tr>\n",
       "      <th>2293</th>\n",
       "      <td>because people are fucking stupid, we've gone ...</td>\n",
       "      <td>-0.80</td>\n",
       "      <td>1.00</td>\n",
       "    </tr>\n",
       "    <tr>\n",
       "      <th>2334</th>\n",
       "      <td>this is why i canceled my hulu plus subscripti...</td>\n",
       "      <td>-0.78</td>\n",
       "      <td>0.91</td>\n",
       "    </tr>\n",
       "    <tr>\n",
       "      <th>1092</th>\n",
       "      <td>wait, you mean cnn is bullshitting us?!?!?! no...</td>\n",
       "      <td>-0.76</td>\n",
       "      <td>0.69</td>\n",
       "    </tr>\n",
       "    <tr>\n",
       "      <th>2018</th>\n",
       "      <td>i wish my sales tax was 6.25% =(</td>\n",
       "      <td>-0.75</td>\n",
       "      <td>1.00</td>\n",
       "    </tr>\n",
       "    <tr>\n",
       "      <th>3025</th>\n",
       "      <td>i want a relationship. :(</td>\n",
       "      <td>-0.75</td>\n",
       "      <td>1.00</td>\n",
       "    </tr>\n",
       "    <tr>\n",
       "      <th>1459</th>\n",
       "      <td>where are the upvotes when he releases? :(</td>\n",
       "      <td>-0.75</td>\n",
       "      <td>1.00</td>\n",
       "    </tr>\n",
       "    <tr>\n",
       "      <th>3453</th>\n",
       "      <td>you.... are.... a... fucking.... retard.</td>\n",
       "      <td>-0.75</td>\n",
       "      <td>0.90</td>\n",
       "    </tr>\n",
       "    <tr>\n",
       "      <th>2704</th>\n",
       "      <td>i wish we had taco bell in europe :(</td>\n",
       "      <td>-0.75</td>\n",
       "      <td>1.00</td>\n",
       "    </tr>\n",
       "    <tr>\n",
       "      <th>3406</th>\n",
       "      <td>also, just yesterday 16 people died in a pesha...</td>\n",
       "      <td>-0.75</td>\n",
       "      <td>1.00</td>\n",
       "    </tr>\n",
       "    <tr>\n",
       "      <th>2107</th>\n",
       "      <td>i wish i could find someone. :(</td>\n",
       "      <td>-0.75</td>\n",
       "      <td>1.00</td>\n",
       "    </tr>\n",
       "  </tbody>\n",
       "</table>\n",
       "<p>61 rows × 3 columns</p>\n",
       "</div>"
      ],
      "text/plain": [
       "                                                   body  sentiment  \\\n",
       "2117     \"license and registration, chicken fucker!!!!\"      -1.00   \n",
       "5858  this happens to me sometimes. it's the worst w...      -1.00   \n",
       "5495  it's like the miss universe winner always bein...      -1.00   \n",
       "4429  i am 6'6\" and have never even considered this....      -1.00   \n",
       "4653                                 op that's terrible      -1.00   \n",
       "375   this is the worst use of this macro i've ever ...      -1.00   \n",
       "3110           what if that demographic is evil people?      -1.00   \n",
       "741   why would i be disgusted by things that turned...      -1.00   \n",
       "2211  is that the worst she's done? because if she l...      -1.00   \n",
       "1075                       this is honestly disgusting.      -1.00   \n",
       "4674                              worst hemisphere ever      -1.00   \n",
       "1469  i have tried to bring it up before and he seem...      -1.00   \n",
       "2133                             oh, thats horrible....      -1.00   \n",
       "1921                      i like kittens, cats are evil      -1.00   \n",
       "2560  my mother always says i can talk to her about ...      -1.00   \n",
       "3062  holy crap, guys! someone doesn't like advice m...      -1.00   \n",
       "4038  and then you've got those stupid doors that un...      -1.00   \n",
       "3692  no matter what way you turn... its always wron...      -0.98   \n",
       "2135  \"hey!  this is the bad part of town, don't lea...      -0.87   \n",
       "1184  worst gif ever. it's so bad that the thing won...      -0.85   \n",
       "2529  this. i'm a teenager and my mom screams at me ...      -0.81   \n",
       "4011  [hate hate hate](http://www.youtube.com/watch?...      -0.80   \n",
       "745                          hate it when that happens.      -0.80   \n",
       "4140                                   filthy hobbitses      -0.80   \n",
       "5008                             you might be an idiot.      -0.80   \n",
       "2550                                        i hate you.      -0.80   \n",
       "5479  when i just started driving stick, people honk...      -0.80   \n",
       "5170                                    gd i hate this.      -0.80   \n",
       "3517  i hate it when people just can't accept a comp...      -0.80   \n",
       "586   this is that guy that stole that dudes phone s...      -0.80   \n",
       "...                                                 ...        ...   \n",
       "6114                           facism?  you're a moron.      -0.80   \n",
       "5560  even if everyone onn reddit did this, they wou...      -0.80   \n",
       "3799  maybe not, but it could be considered a violen...      -0.80   \n",
       "3796  i have to agree, i lived with a couple for a w...      -0.80   \n",
       "191   someone's been playing too much bloody knuckle...      -0.80   \n",
       "5976                    i don't hate drama, i avoid it.      -0.80   \n",
       "3568                          i would hate to date you.      -0.80   \n",
       "1130  damned if you use it, damned if you don't. i h...      -0.80   \n",
       "2758  i hate it when my friends do this. i get all p...      -0.80   \n",
       "3242  it's a culture of violence. a culture that val...      -0.80   \n",
       "6021  in my country we call them *loofterhammens*, w...      -0.80   \n",
       "2225  this is how a feel about stupid people. althou...      -0.80   \n",
       "3246  they're neither stupid nor irrational, they're...      -0.80   \n",
       "3516               fedora's are fucking stupid. period.      -0.80   \n",
       "4316  also word 2013. -  - and don't forget word's s...      -0.80   \n",
       "2388  when i pronounce it like 'meem'  it sounds stu...      -0.80   \n",
       "5371  \"stupid post.  downvo....dammit, i'm not on re...      -0.80   \n",
       "5863  that depends, did you get it in something stupid?      -0.80   \n",
       "1789             to compliment people?  are you stupid?      -0.80   \n",
       "286   men's rights?  this is a question about both g...      -0.80   \n",
       "2293  because people are fucking stupid, we've gone ...      -0.80   \n",
       "2334  this is why i canceled my hulu plus subscripti...      -0.78   \n",
       "1092  wait, you mean cnn is bullshitting us?!?!?! no...      -0.76   \n",
       "2018                   i wish my sales tax was 6.25% =(      -0.75   \n",
       "3025                          i want a relationship. :(      -0.75   \n",
       "1459         where are the upvotes when he releases? :(      -0.75   \n",
       "3453           you.... are.... a... fucking.... retard.      -0.75   \n",
       "2704               i wish we had taco bell in europe :(      -0.75   \n",
       "3406  also, just yesterday 16 people died in a pesha...      -0.75   \n",
       "2107                    i wish i could find someone. :(      -0.75   \n",
       "\n",
       "      subjectivity  \n",
       "2117          0.95  \n",
       "5858          1.00  \n",
       "5495          1.00  \n",
       "4429          1.00  \n",
       "4653          1.00  \n",
       "375           1.00  \n",
       "3110          1.00  \n",
       "741           1.00  \n",
       "2211          1.00  \n",
       "1075          1.00  \n",
       "4674          1.00  \n",
       "1469          1.00  \n",
       "2133          1.00  \n",
       "1921          1.00  \n",
       "2560          1.00  \n",
       "3062          0.80  \n",
       "4038          1.00  \n",
       "3692          0.90  \n",
       "2135          0.67  \n",
       "1184          0.83  \n",
       "2529          1.00  \n",
       "4011          0.90  \n",
       "745           0.90  \n",
       "4140          1.00  \n",
       "5008          0.80  \n",
       "2550          0.90  \n",
       "5479          0.90  \n",
       "5170          0.90  \n",
       "3517          0.90  \n",
       "586           0.80  \n",
       "...            ...  \n",
       "6114          1.00  \n",
       "5560          0.80  \n",
       "3799          1.00  \n",
       "3796          0.90  \n",
       "191           0.90  \n",
       "5976          0.90  \n",
       "3568          0.90  \n",
       "1130          0.90  \n",
       "2758          0.90  \n",
       "3242          1.00  \n",
       "6021          1.00  \n",
       "2225          0.93  \n",
       "3246          1.00  \n",
       "3516          1.00  \n",
       "4316          1.00  \n",
       "2388          1.00  \n",
       "5371          1.00  \n",
       "5863          1.00  \n",
       "1789          1.00  \n",
       "286           1.00  \n",
       "2293          1.00  \n",
       "2334          0.91  \n",
       "1092          0.69  \n",
       "2018          1.00  \n",
       "3025          1.00  \n",
       "1459          1.00  \n",
       "3453          0.90  \n",
       "2704          1.00  \n",
       "3406          1.00  \n",
       "2107          1.00  \n",
       "\n",
       "[61 rows x 3 columns]"
      ]
     },
     "execution_count": 113,
     "metadata": {},
     "output_type": "execute_result"
    }
   ],
   "source": [
    "top_df"
   ]
  },
  {
   "cell_type": "code",
   "execution_count": 114,
   "metadata": {
    "collapsed": false
   },
   "outputs": [
    {
     "name": "stdout",
     "output_type": "stream",
     "text": [
      "CPU times: user 139 ms, sys: 8.06 ms, total: 147 ms\n",
      "Wall time: 145 ms\n"
     ]
    }
   ],
   "source": [
    "%%time\n",
    "\n",
    "top_text = ''\n",
    "for x in top_df['body']:\n",
    "    top_text += x + ' '\n",
    "\n",
    "top_list = [\n",
    "    w\n",
    "    for w in nltk.word_tokenize(top_text)\n",
    "    if w not in stopwords.words('english') and w not in string.punctuation\n",
    "]"
   ]
  },
  {
   "cell_type": "code",
   "execution_count": 115,
   "metadata": {
    "collapsed": true
   },
   "outputs": [],
   "source": [
    "top_counter = Counter(top_list)"
   ]
  },
  {
   "cell_type": "code",
   "execution_count": 116,
   "metadata": {
    "collapsed": false
   },
   "outputs": [
    {
     "data": {
      "text/plain": [
       "[(\"'s\", 15),\n",
       " ('hate', 13),\n",
       " ('stupid', 12),\n",
       " (\"n't\", 10),\n",
       " ('people', 9),\n",
       " ('...', 9),\n",
       " ('would', 6),\n",
       " ('like', 6),\n",
       " ('worst', 6),\n",
       " ('fucking', 5),\n",
       " (\"''\", 5),\n",
       " ('way', 4),\n",
       " ('terrible', 4),\n",
       " ('``', 4),\n",
       " (\"'re\", 4),\n",
       " (\"'ve\", 3),\n",
       " ('culture', 3),\n",
       " ('violent', 3),\n",
       " ('ever', 3),\n",
       " ('idiot', 3)]"
      ]
     },
     "execution_count": 116,
     "metadata": {},
     "output_type": "execute_result"
    }
   ],
   "source": [
    "top_counter.most_common(20)"
   ]
  },
  {
   "cell_type": "code",
   "execution_count": 31,
   "metadata": {
    "collapsed": false
   },
   "outputs": [
    {
     "data": {
      "text/plain": [
       "[Timestamp('2010-12-01 00:00:00'),\n",
       " Timestamp('2012-09-01 00:00:00'),\n",
       " Timestamp('2013-04-01 00:00:00'),\n",
       " Timestamp('2013-07-01 00:00:00'),\n",
       " Timestamp('2013-12-01 00:00:00'),\n",
       " Timestamp('2014-03-01 00:00:00')]"
      ]
     },
     "execution_count": 31,
     "metadata": {},
     "output_type": "execute_result"
    }
   ],
   "source": [
    "peaks"
   ]
  },
  {
   "cell_type": "markdown",
   "metadata": {},
   "source": [
    "#### 2013-07-01"
   ]
  },
  {
   "cell_type": "code",
   "execution_count": 117,
   "metadata": {
    "collapsed": false
   },
   "outputs": [],
   "source": [
    "date = '2013-07-01'"
   ]
  },
  {
   "cell_type": "code",
   "execution_count": 118,
   "metadata": {
    "collapsed": false
   },
   "outputs": [],
   "source": [
    "subreddit_date_df = subreddit_df[subreddit_df['month'] == date]"
   ]
  },
  {
   "cell_type": "code",
   "execution_count": 119,
   "metadata": {
    "collapsed": false
   },
   "outputs": [
    {
     "data": {
      "text/plain": [
       "6796"
      ]
     },
     "execution_count": 119,
     "metadata": {},
     "output_type": "execute_result"
    }
   ],
   "source": [
    "len(subreddit_date_df)"
   ]
  },
  {
   "cell_type": "code",
   "execution_count": 120,
   "metadata": {
    "collapsed": false
   },
   "outputs": [
    {
     "name": "stdout",
     "output_type": "stream",
     "text": [
      "CPU times: user 2.29 s, sys: 67 µs, total: 2.29 s\n",
      "Wall time: 2.29 s\n"
     ]
    }
   ],
   "source": [
    "%%time\n",
    "\n",
    "sentiment_list = []\n",
    "for x in subreddit_date_df['body']:\n",
    "    tb = TextBlob(x)\n",
    "    sentiment_list.append((x, tb.sentiment.polarity, tb.sentiment.subjectivity))"
   ]
  },
  {
   "cell_type": "code",
   "execution_count": 121,
   "metadata": {
    "collapsed": false
   },
   "outputs": [],
   "source": [
    "sentiment_df = pd.DataFrame(sentiment_list, columns=['body', 'sentiment', 'subjectivity'])"
   ]
  },
  {
   "cell_type": "code",
   "execution_count": 122,
   "metadata": {
    "collapsed": false
   },
   "outputs": [
    {
     "data": {
      "text/html": [
       "<div>\n",
       "<table border=\"1\" class=\"dataframe\">\n",
       "  <thead>\n",
       "    <tr style=\"text-align: right;\">\n",
       "      <th></th>\n",
       "      <th>body</th>\n",
       "      <th>sentiment</th>\n",
       "      <th>subjectivity</th>\n",
       "    </tr>\n",
       "  </thead>\n",
       "  <tbody>\n",
       "    <tr>\n",
       "      <th>0</th>\n",
       "      <td>i guess all the wrist-fetishists took the day ...</td>\n",
       "      <td>0.00</td>\n",
       "      <td>0.00</td>\n",
       "    </tr>\n",
       "    <tr>\n",
       "      <th>1</th>\n",
       "      <td>here is what the linked meme says in case it i...</td>\n",
       "      <td>0.01</td>\n",
       "      <td>0.58</td>\n",
       "    </tr>\n",
       "    <tr>\n",
       "      <th>2</th>\n",
       "      <td>here is what the linked meme says in case it i...</td>\n",
       "      <td>0.07</td>\n",
       "      <td>0.69</td>\n",
       "    </tr>\n",
       "    <tr>\n",
       "      <th>3</th>\n",
       "      <td>google.</td>\n",
       "      <td>0.00</td>\n",
       "      <td>0.00</td>\n",
       "    </tr>\n",
       "    <tr>\n",
       "      <th>4</th>\n",
       "      <td>worked for bruce willis, sean connery, sam l j...</td>\n",
       "      <td>0.00</td>\n",
       "      <td>0.00</td>\n",
       "    </tr>\n",
       "  </tbody>\n",
       "</table>\n",
       "</div>"
      ],
      "text/plain": [
       "                                                body  sentiment  subjectivity\n",
       "0  i guess all the wrist-fetishists took the day ...       0.00          0.00\n",
       "1  here is what the linked meme says in case it i...       0.01          0.58\n",
       "2  here is what the linked meme says in case it i...       0.07          0.69\n",
       "3                                            google.       0.00          0.00\n",
       "4  worked for bruce willis, sean connery, sam l j...       0.00          0.00"
      ]
     },
     "execution_count": 122,
     "metadata": {},
     "output_type": "execute_result"
    }
   ],
   "source": [
    "sentiment_df.head()"
   ]
  },
  {
   "cell_type": "code",
   "execution_count": 123,
   "metadata": {
    "collapsed": false
   },
   "outputs": [
    {
     "data": {
      "text/plain": [
       "0.0089380478853607025"
      ]
     },
     "execution_count": 123,
     "metadata": {},
     "output_type": "execute_result"
    }
   ],
   "source": [
    "sentiment_df['sentiment'].mean()"
   ]
  },
  {
   "cell_type": "code",
   "execution_count": 124,
   "metadata": {
    "collapsed": false
   },
   "outputs": [
    {
     "data": {
      "text/plain": [
       "0.44067223843100611"
      ]
     },
     "execution_count": 124,
     "metadata": {},
     "output_type": "execute_result"
    }
   ],
   "source": [
    "sentiment_df['subjectivity'].mean()"
   ]
  },
  {
   "cell_type": "markdown",
   "metadata": {},
   "source": [
    "##### Histogram top positive"
   ]
  },
  {
   "cell_type": "code",
   "execution_count": 125,
   "metadata": {
    "collapsed": true
   },
   "outputs": [],
   "source": [
    "P = 1"
   ]
  },
  {
   "cell_type": "code",
   "execution_count": 126,
   "metadata": {
    "collapsed": false
   },
   "outputs": [],
   "source": [
    "top_df = sentiment_df.sort_values('sentiment', ascending=False)[:len(subreddit_date_df) * P // 100]"
   ]
  },
  {
   "cell_type": "code",
   "execution_count": 127,
   "metadata": {
    "collapsed": false
   },
   "outputs": [
    {
     "data": {
      "text/html": [
       "<div>\n",
       "<table border=\"1\" class=\"dataframe\">\n",
       "  <thead>\n",
       "    <tr style=\"text-align: right;\">\n",
       "      <th></th>\n",
       "      <th>body</th>\n",
       "      <th>sentiment</th>\n",
       "      <th>subjectivity</th>\n",
       "    </tr>\n",
       "  </thead>\n",
       "  <tbody>\n",
       "    <tr>\n",
       "      <th>223</th>\n",
       "      <td>greatest jesus ever.</td>\n",
       "      <td>1.00</td>\n",
       "      <td>1.00</td>\n",
       "    </tr>\n",
       "    <tr>\n",
       "      <th>2087</th>\n",
       "      <td>i think the standards for socially awesome is ...</td>\n",
       "      <td>1.00</td>\n",
       "      <td>1.00</td>\n",
       "    </tr>\n",
       "    <tr>\n",
       "      <th>833</th>\n",
       "      <td>the best format for data file naming too, but ...</td>\n",
       "      <td>1.00</td>\n",
       "      <td>0.30</td>\n",
       "    </tr>\n",
       "    <tr>\n",
       "      <th>248</th>\n",
       "      <td>happens to the best of us.</td>\n",
       "      <td>1.00</td>\n",
       "      <td>0.30</td>\n",
       "    </tr>\n",
       "    <tr>\n",
       "      <th>4706</th>\n",
       "      <td>yess! that is the best episode of extras.  pic...</td>\n",
       "      <td>1.00</td>\n",
       "      <td>0.30</td>\n",
       "    </tr>\n",
       "    <tr>\n",
       "      <th>3202</th>\n",
       "      <td>that's perfect, buddy.</td>\n",
       "      <td>1.00</td>\n",
       "      <td>1.00</td>\n",
       "    </tr>\n",
       "    <tr>\n",
       "      <th>2623</th>\n",
       "      <td>best thing i've ever seen</td>\n",
       "      <td>1.00</td>\n",
       "      <td>0.30</td>\n",
       "    </tr>\n",
       "    <tr>\n",
       "      <th>3959</th>\n",
       "      <td>peanut butter with sliced strawberries is also...</td>\n",
       "      <td>1.00</td>\n",
       "      <td>1.00</td>\n",
       "    </tr>\n",
       "    <tr>\n",
       "      <th>6594</th>\n",
       "      <td>almost perfect loop. damnit man</td>\n",
       "      <td>1.00</td>\n",
       "      <td>1.00</td>\n",
       "    </tr>\n",
       "    <tr>\n",
       "      <th>6303</th>\n",
       "      <td>\"my opinion is so awesome that everyone should...</td>\n",
       "      <td>1.00</td>\n",
       "      <td>1.00</td>\n",
       "    </tr>\n",
       "    <tr>\n",
       "      <th>1712</th>\n",
       "      <td>i'm impressed you managed to remember your pas...</td>\n",
       "      <td>1.00</td>\n",
       "      <td>1.00</td>\n",
       "    </tr>\n",
       "    <tr>\n",
       "      <th>4961</th>\n",
       "      <td>best put that money away.</td>\n",
       "      <td>1.00</td>\n",
       "      <td>0.30</td>\n",
       "    </tr>\n",
       "    <tr>\n",
       "      <th>3294</th>\n",
       "      <td>i knew at one time.  my best answer is that it...</td>\n",
       "      <td>1.00</td>\n",
       "      <td>0.30</td>\n",
       "    </tr>\n",
       "    <tr>\n",
       "      <th>2300</th>\n",
       "      <td>that's awesome. i'm not even... that response ...</td>\n",
       "      <td>1.00</td>\n",
       "      <td>1.00</td>\n",
       "    </tr>\n",
       "    <tr>\n",
       "      <th>4660</th>\n",
       "      <td>aside from the tomatoes the sandwich is great!</td>\n",
       "      <td>1.00</td>\n",
       "      <td>0.75</td>\n",
       "    </tr>\n",
       "    <tr>\n",
       "      <th>2670</th>\n",
       "      <td>would a heart attack be awesome?</td>\n",
       "      <td>1.00</td>\n",
       "      <td>1.00</td>\n",
       "    </tr>\n",
       "    <tr>\n",
       "      <th>3278</th>\n",
       "      <td>huh.  well, today my curiosity has been sated....</td>\n",
       "      <td>1.00</td>\n",
       "      <td>1.00</td>\n",
       "    </tr>\n",
       "    <tr>\n",
       "      <th>5380</th>\n",
       "      <td>rofl! you would of had 3 by now.</td>\n",
       "      <td>1.00</td>\n",
       "      <td>0.90</td>\n",
       "    </tr>\n",
       "    <tr>\n",
       "      <th>6523</th>\n",
       "      <td>this is awesome. -  - congratulations, you've ...</td>\n",
       "      <td>1.00</td>\n",
       "      <td>1.00</td>\n",
       "    </tr>\n",
       "    <tr>\n",
       "      <th>5823</th>\n",
       "      <td>perfect title, perfect image, perfect macro.  ...</td>\n",
       "      <td>1.00</td>\n",
       "      <td>1.00</td>\n",
       "    </tr>\n",
       "    <tr>\n",
       "      <th>2813</th>\n",
       "      <td>i have'nt watched 99,9% of tv shows mentioned ...</td>\n",
       "      <td>1.00</td>\n",
       "      <td>1.00</td>\n",
       "    </tr>\n",
       "    <tr>\n",
       "      <th>6515</th>\n",
       "      <td>colt mccoy! he was incredible for my browns!</td>\n",
       "      <td>1.00</td>\n",
       "      <td>0.90</td>\n",
       "    </tr>\n",
       "    <tr>\n",
       "      <th>6478</th>\n",
       "      <td>...but so awesome.</td>\n",
       "      <td>1.00</td>\n",
       "      <td>1.00</td>\n",
       "    </tr>\n",
       "    <tr>\n",
       "      <th>2942</th>\n",
       "      <td>mine too, happy birthday bro!</td>\n",
       "      <td>1.00</td>\n",
       "      <td>1.00</td>\n",
       "    </tr>\n",
       "    <tr>\n",
       "      <th>1580</th>\n",
       "      <td>but it is bill clinton...he never did anything...</td>\n",
       "      <td>1.00</td>\n",
       "      <td>0.30</td>\n",
       "    </tr>\n",
       "    <tr>\n",
       "      <th>4516</th>\n",
       "      <td>you look delicious...</td>\n",
       "      <td>1.00</td>\n",
       "      <td>1.00</td>\n",
       "    </tr>\n",
       "    <tr>\n",
       "      <th>651</th>\n",
       "      <td>i would do terribly wonderful things to that w...</td>\n",
       "      <td>1.00</td>\n",
       "      <td>1.00</td>\n",
       "    </tr>\n",
       "    <tr>\n",
       "      <th>4026</th>\n",
       "      <td>you're welcome!</td>\n",
       "      <td>1.00</td>\n",
       "      <td>0.90</td>\n",
       "    </tr>\n",
       "    <tr>\n",
       "      <th>6752</th>\n",
       "      <td>considering that your girlfriend cut you off t...</td>\n",
       "      <td>1.00</td>\n",
       "      <td>1.00</td>\n",
       "    </tr>\n",
       "    <tr>\n",
       "      <th>4786</th>\n",
       "      <td>don't worry op the best revenge is knowing tha...</td>\n",
       "      <td>1.00</td>\n",
       "      <td>0.30</td>\n",
       "    </tr>\n",
       "    <tr>\n",
       "      <th>...</th>\n",
       "      <td>...</td>\n",
       "      <td>...</td>\n",
       "      <td>...</td>\n",
       "    </tr>\n",
       "    <tr>\n",
       "      <th>2281</th>\n",
       "      <td>archaic joke, awesome.</td>\n",
       "      <td>1.00</td>\n",
       "      <td>1.00</td>\n",
       "    </tr>\n",
       "    <tr>\n",
       "      <th>2472</th>\n",
       "      <td>the best part about it is when you say \"i'll b...</td>\n",
       "      <td>1.00</td>\n",
       "      <td>0.30</td>\n",
       "    </tr>\n",
       "    <tr>\n",
       "      <th>2123</th>\n",
       "      <td>from a birthday boy (yesterday) to a birthday ...</td>\n",
       "      <td>1.00</td>\n",
       "      <td>0.75</td>\n",
       "    </tr>\n",
       "    <tr>\n",
       "      <th>6431</th>\n",
       "      <td>we've always thought obama sucked, and we've a...</td>\n",
       "      <td>1.00</td>\n",
       "      <td>1.00</td>\n",
       "    </tr>\n",
       "    <tr>\n",
       "      <th>2213</th>\n",
       "      <td>happy birthday!</td>\n",
       "      <td>1.00</td>\n",
       "      <td>1.00</td>\n",
       "    </tr>\n",
       "    <tr>\n",
       "      <th>5984</th>\n",
       "      <td>so delicious.</td>\n",
       "      <td>1.00</td>\n",
       "      <td>1.00</td>\n",
       "    </tr>\n",
       "    <tr>\n",
       "      <th>815</th>\n",
       "      <td>yeah... you should probably stop linking to fu...</td>\n",
       "      <td>0.90</td>\n",
       "      <td>1.00</td>\n",
       "    </tr>\n",
       "    <tr>\n",
       "      <th>93</th>\n",
       "      <td>you're getting good at this!</td>\n",
       "      <td>0.88</td>\n",
       "      <td>0.60</td>\n",
       "    </tr>\n",
       "    <tr>\n",
       "      <th>3394</th>\n",
       "      <td>and they make good washing machines.  they eve...</td>\n",
       "      <td>0.88</td>\n",
       "      <td>0.60</td>\n",
       "    </tr>\n",
       "    <tr>\n",
       "      <th>5976</th>\n",
       "      <td>that reminds me, i haven't shilled for reddit ...</td>\n",
       "      <td>0.88</td>\n",
       "      <td>0.60</td>\n",
       "    </tr>\n",
       "    <tr>\n",
       "      <th>681</th>\n",
       "      <td>happy independence day to you dear deployed op...</td>\n",
       "      <td>0.86</td>\n",
       "      <td>0.60</td>\n",
       "    </tr>\n",
       "    <tr>\n",
       "      <th>1761</th>\n",
       "      <td>beautiful - you've earned your upvote</td>\n",
       "      <td>0.85</td>\n",
       "      <td>1.00</td>\n",
       "    </tr>\n",
       "    <tr>\n",
       "      <th>6259</th>\n",
       "      <td>it's beautiful.</td>\n",
       "      <td>0.85</td>\n",
       "      <td>1.00</td>\n",
       "    </tr>\n",
       "    <tr>\n",
       "      <th>6281</th>\n",
       "      <td>that's great you got a car.</td>\n",
       "      <td>0.80</td>\n",
       "      <td>0.75</td>\n",
       "    </tr>\n",
       "    <tr>\n",
       "      <th>4394</th>\n",
       "      <td>so brave, op</td>\n",
       "      <td>0.80</td>\n",
       "      <td>1.00</td>\n",
       "    </tr>\n",
       "    <tr>\n",
       "      <th>2723</th>\n",
       "      <td>lol</td>\n",
       "      <td>0.80</td>\n",
       "      <td>0.70</td>\n",
       "    </tr>\n",
       "    <tr>\n",
       "      <th>2038</th>\n",
       "      <td>i'm so happy to have mine in the cabinet below...</td>\n",
       "      <td>0.80</td>\n",
       "      <td>1.00</td>\n",
       "    </tr>\n",
       "    <tr>\n",
       "      <th>5871</th>\n",
       "      <td>[one girl, one cup.](http://www.youtube.com/wa...</td>\n",
       "      <td>0.80</td>\n",
       "      <td>0.75</td>\n",
       "    </tr>\n",
       "    <tr>\n",
       "      <th>3288</th>\n",
       "      <td>damn. would he have named his dragon \"mister h...</td>\n",
       "      <td>0.80</td>\n",
       "      <td>1.00</td>\n",
       "    </tr>\n",
       "    <tr>\n",
       "      <th>2679</th>\n",
       "      <td>the best kind of yes</td>\n",
       "      <td>0.80</td>\n",
       "      <td>0.60</td>\n",
       "    </tr>\n",
       "    <tr>\n",
       "      <th>6251</th>\n",
       "      <td>welcome to reddit.</td>\n",
       "      <td>0.80</td>\n",
       "      <td>0.90</td>\n",
       "    </tr>\n",
       "    <tr>\n",
       "      <th>4112</th>\n",
       "      <td>hamish and andy? keep yourself that dvd. great...</td>\n",
       "      <td>0.80</td>\n",
       "      <td>0.75</td>\n",
       "    </tr>\n",
       "    <tr>\n",
       "      <th>3622</th>\n",
       "      <td>i am so happy that these accounts are legitimate.</td>\n",
       "      <td>0.80</td>\n",
       "      <td>1.00</td>\n",
       "    </tr>\n",
       "    <tr>\n",
       "      <th>4007</th>\n",
       "      <td>uanal. lol.</td>\n",
       "      <td>0.80</td>\n",
       "      <td>0.70</td>\n",
       "    </tr>\n",
       "    <tr>\n",
       "      <th>4293</th>\n",
       "      <td>you sir are a brave man, have an upvote.</td>\n",
       "      <td>0.80</td>\n",
       "      <td>1.00</td>\n",
       "    </tr>\n",
       "    <tr>\n",
       "      <th>215</th>\n",
       "      <td>not compromising your vote on who will win vs ...</td>\n",
       "      <td>0.80</td>\n",
       "      <td>0.40</td>\n",
       "    </tr>\n",
       "    <tr>\n",
       "      <th>3627</th>\n",
       "      <td>for transcoding i always use mpegstreamclip an...</td>\n",
       "      <td>0.80</td>\n",
       "      <td>0.75</td>\n",
       "    </tr>\n",
       "    <tr>\n",
       "      <th>2614</th>\n",
       "      <td>lol</td>\n",
       "      <td>0.80</td>\n",
       "      <td>0.70</td>\n",
       "    </tr>\n",
       "    <tr>\n",
       "      <th>5691</th>\n",
       "      <td>you may have jinxed it with that statement lol</td>\n",
       "      <td>0.80</td>\n",
       "      <td>0.70</td>\n",
       "    </tr>\n",
       "    <tr>\n",
       "      <th>2247</th>\n",
       "      <td>isn't steve jobs called a great innovator by p...</td>\n",
       "      <td>0.80</td>\n",
       "      <td>0.75</td>\n",
       "    </tr>\n",
       "  </tbody>\n",
       "</table>\n",
       "<p>67 rows × 3 columns</p>\n",
       "</div>"
      ],
      "text/plain": [
       "                                                   body  sentiment  \\\n",
       "223                                greatest jesus ever.       1.00   \n",
       "2087  i think the standards for socially awesome is ...       1.00   \n",
       "833   the best format for data file naming too, but ...       1.00   \n",
       "248                          happens to the best of us.       1.00   \n",
       "4706  yess! that is the best episode of extras.  pic...       1.00   \n",
       "3202                             that's perfect, buddy.       1.00   \n",
       "2623                          best thing i've ever seen       1.00   \n",
       "3959  peanut butter with sliced strawberries is also...       1.00   \n",
       "6594                    almost perfect loop. damnit man       1.00   \n",
       "6303  \"my opinion is so awesome that everyone should...       1.00   \n",
       "1712  i'm impressed you managed to remember your pas...       1.00   \n",
       "4961                          best put that money away.       1.00   \n",
       "3294  i knew at one time.  my best answer is that it...       1.00   \n",
       "2300  that's awesome. i'm not even... that response ...       1.00   \n",
       "4660     aside from the tomatoes the sandwich is great!       1.00   \n",
       "2670                   would a heart attack be awesome?       1.00   \n",
       "3278  huh.  well, today my curiosity has been sated....       1.00   \n",
       "5380                   rofl! you would of had 3 by now.       1.00   \n",
       "6523  this is awesome. -  - congratulations, you've ...       1.00   \n",
       "5823  perfect title, perfect image, perfect macro.  ...       1.00   \n",
       "2813  i have'nt watched 99,9% of tv shows mentioned ...       1.00   \n",
       "6515       colt mccoy! he was incredible for my browns!       1.00   \n",
       "6478                                 ...but so awesome.       1.00   \n",
       "2942                      mine too, happy birthday bro!       1.00   \n",
       "1580  but it is bill clinton...he never did anything...       1.00   \n",
       "4516                              you look delicious...       1.00   \n",
       "651   i would do terribly wonderful things to that w...       1.00   \n",
       "4026                                    you're welcome!       1.00   \n",
       "6752  considering that your girlfriend cut you off t...       1.00   \n",
       "4786  don't worry op the best revenge is knowing tha...       1.00   \n",
       "...                                                 ...        ...   \n",
       "2281                             archaic joke, awesome.       1.00   \n",
       "2472  the best part about it is when you say \"i'll b...       1.00   \n",
       "2123  from a birthday boy (yesterday) to a birthday ...       1.00   \n",
       "6431  we've always thought obama sucked, and we've a...       1.00   \n",
       "2213                                    happy birthday!       1.00   \n",
       "5984                                      so delicious.       1.00   \n",
       "815   yeah... you should probably stop linking to fu...       0.90   \n",
       "93                         you're getting good at this!       0.88   \n",
       "3394  and they make good washing machines.  they eve...       0.88   \n",
       "5976  that reminds me, i haven't shilled for reddit ...       0.88   \n",
       "681   happy independence day to you dear deployed op...       0.86   \n",
       "1761              beautiful - you've earned your upvote       0.85   \n",
       "6259                                    it's beautiful.       0.85   \n",
       "6281                        that's great you got a car.       0.80   \n",
       "4394                                       so brave, op       0.80   \n",
       "2723                                                lol       0.80   \n",
       "2038  i'm so happy to have mine in the cabinet below...       0.80   \n",
       "5871  [one girl, one cup.](http://www.youtube.com/wa...       0.80   \n",
       "3288  damn. would he have named his dragon \"mister h...       0.80   \n",
       "2679                               the best kind of yes       0.80   \n",
       "6251                                 welcome to reddit.       0.80   \n",
       "4112  hamish and andy? keep yourself that dvd. great...       0.80   \n",
       "3622  i am so happy that these accounts are legitimate.       0.80   \n",
       "4007                                        uanal. lol.       0.80   \n",
       "4293           you sir are a brave man, have an upvote.       0.80   \n",
       "215   not compromising your vote on who will win vs ...       0.80   \n",
       "3627  for transcoding i always use mpegstreamclip an...       0.80   \n",
       "2614                                                lol       0.80   \n",
       "5691     you may have jinxed it with that statement lol       0.80   \n",
       "2247  isn't steve jobs called a great innovator by p...       0.80   \n",
       "\n",
       "      subjectivity  \n",
       "223           1.00  \n",
       "2087          1.00  \n",
       "833           0.30  \n",
       "248           0.30  \n",
       "4706          0.30  \n",
       "3202          1.00  \n",
       "2623          0.30  \n",
       "3959          1.00  \n",
       "6594          1.00  \n",
       "6303          1.00  \n",
       "1712          1.00  \n",
       "4961          0.30  \n",
       "3294          0.30  \n",
       "2300          1.00  \n",
       "4660          0.75  \n",
       "2670          1.00  \n",
       "3278          1.00  \n",
       "5380          0.90  \n",
       "6523          1.00  \n",
       "5823          1.00  \n",
       "2813          1.00  \n",
       "6515          0.90  \n",
       "6478          1.00  \n",
       "2942          1.00  \n",
       "1580          0.30  \n",
       "4516          1.00  \n",
       "651           1.00  \n",
       "4026          0.90  \n",
       "6752          1.00  \n",
       "4786          0.30  \n",
       "...            ...  \n",
       "2281          1.00  \n",
       "2472          0.30  \n",
       "2123          0.75  \n",
       "6431          1.00  \n",
       "2213          1.00  \n",
       "5984          1.00  \n",
       "815           1.00  \n",
       "93            0.60  \n",
       "3394          0.60  \n",
       "5976          0.60  \n",
       "681           0.60  \n",
       "1761          1.00  \n",
       "6259          1.00  \n",
       "6281          0.75  \n",
       "4394          1.00  \n",
       "2723          0.70  \n",
       "2038          1.00  \n",
       "5871          0.75  \n",
       "3288          1.00  \n",
       "2679          0.60  \n",
       "6251          0.90  \n",
       "4112          0.75  \n",
       "3622          1.00  \n",
       "4007          0.70  \n",
       "4293          1.00  \n",
       "215           0.40  \n",
       "3627          0.75  \n",
       "2614          0.70  \n",
       "5691          0.70  \n",
       "2247          0.75  \n",
       "\n",
       "[67 rows x 3 columns]"
      ]
     },
     "execution_count": 127,
     "metadata": {},
     "output_type": "execute_result"
    }
   ],
   "source": [
    "top_df"
   ]
  },
  {
   "cell_type": "code",
   "execution_count": 128,
   "metadata": {
    "collapsed": false
   },
   "outputs": [
    {
     "name": "stdout",
     "output_type": "stream",
     "text": [
      "CPU times: user 121 ms, sys: 11.4 ms, total: 133 ms\n",
      "Wall time: 131 ms\n"
     ]
    }
   ],
   "source": [
    "%%time\n",
    "\n",
    "top_text = ''\n",
    "for x in top_df['body']:\n",
    "    top_text += x + ' '\n",
    "\n",
    "top_list = [\n",
    "    w\n",
    "    for w in nltk.word_tokenize(top_text)\n",
    "    if w not in stopwords.words('english') and w not in string.punctuation\n",
    "]"
   ]
  },
  {
   "cell_type": "code",
   "execution_count": 129,
   "metadata": {
    "collapsed": true
   },
   "outputs": [],
   "source": [
    "top_counter = Counter(top_list)"
   ]
  },
  {
   "cell_type": "code",
   "execution_count": 130,
   "metadata": {
    "collapsed": false
   },
   "outputs": [
    {
     "data": {
      "text/plain": [
       "[('best', 14),\n",
       " ('awesome', 12),\n",
       " ('...', 9),\n",
       " ('happy', 8),\n",
       " (\"'s\", 7),\n",
       " ('great', 7),\n",
       " ('would', 6),\n",
       " ('``', 5),\n",
       " (\"'ve\", 5),\n",
       " ('birthday', 5),\n",
       " (\"n't\", 5),\n",
       " (\"''\", 5),\n",
       " ('perfect', 5),\n",
       " ('one', 4),\n",
       " ('reddit', 4),\n",
       " ('ever', 4),\n",
       " ('lol', 4),\n",
       " ('congratulations', 3),\n",
       " ('op', 3),\n",
       " (\"'re\", 3)]"
      ]
     },
     "execution_count": 130,
     "metadata": {},
     "output_type": "execute_result"
    }
   ],
   "source": [
    "top_counter.most_common(20)"
   ]
  },
  {
   "cell_type": "markdown",
   "metadata": {},
   "source": [
    "##### Histogram top negative"
   ]
  },
  {
   "cell_type": "code",
   "execution_count": 131,
   "metadata": {
    "collapsed": true
   },
   "outputs": [],
   "source": [
    "P = 1"
   ]
  },
  {
   "cell_type": "code",
   "execution_count": 132,
   "metadata": {
    "collapsed": false
   },
   "outputs": [],
   "source": [
    "top_df = sentiment_df.sort_values('sentiment', ascending=True)[:len(subreddit_date_df) * P // 100]"
   ]
  },
  {
   "cell_type": "code",
   "execution_count": 133,
   "metadata": {
    "collapsed": false
   },
   "outputs": [
    {
     "data": {
      "text/html": [
       "<div>\n",
       "<table border=\"1\" class=\"dataframe\">\n",
       "  <thead>\n",
       "    <tr style=\"text-align: right;\">\n",
       "      <th></th>\n",
       "      <th>body</th>\n",
       "      <th>sentiment</th>\n",
       "      <th>subjectivity</th>\n",
       "    </tr>\n",
       "  </thead>\n",
       "  <tbody>\n",
       "    <tr>\n",
       "      <th>3480</th>\n",
       "      <td>no,humans make the worst people.</td>\n",
       "      <td>-1.00</td>\n",
       "      <td>1.00</td>\n",
       "    </tr>\n",
       "    <tr>\n",
       "      <th>421</th>\n",
       "      <td>the comments in this thread are horrible. don'...</td>\n",
       "      <td>-1.00</td>\n",
       "      <td>1.00</td>\n",
       "    </tr>\n",
       "    <tr>\n",
       "      <th>1749</th>\n",
       "      <td>it's the worst when wrapping christmas presents.</td>\n",
       "      <td>-1.00</td>\n",
       "      <td>1.00</td>\n",
       "    </tr>\n",
       "    <tr>\n",
       "      <th>1954</th>\n",
       "      <td>:'(</td>\n",
       "      <td>-1.00</td>\n",
       "      <td>1.00</td>\n",
       "    </tr>\n",
       "    <tr>\n",
       "      <th>4037</th>\n",
       "      <td>terrible.</td>\n",
       "      <td>-1.00</td>\n",
       "      <td>1.00</td>\n",
       "    </tr>\n",
       "    <tr>\n",
       "      <th>5485</th>\n",
       "      <td>this is so fucking terrible...</td>\n",
       "      <td>-1.00</td>\n",
       "      <td>1.00</td>\n",
       "    </tr>\n",
       "    <tr>\n",
       "      <th>2383</th>\n",
       "      <td>holy crap! you have the ability to send your i...</td>\n",
       "      <td>-1.00</td>\n",
       "      <td>0.80</td>\n",
       "    </tr>\n",
       "    <tr>\n",
       "      <th>2662</th>\n",
       "      <td>why would anyone touch a dirt disgusting cat t...</td>\n",
       "      <td>-1.00</td>\n",
       "      <td>1.00</td>\n",
       "    </tr>\n",
       "    <tr>\n",
       "      <th>2515</th>\n",
       "      <td>this must be one of the worst uses of this mem...</td>\n",
       "      <td>-1.00</td>\n",
       "      <td>1.00</td>\n",
       "    </tr>\n",
       "    <tr>\n",
       "      <th>2420</th>\n",
       "      <td>uninstall your web browser, you're terrible at...</td>\n",
       "      <td>-1.00</td>\n",
       "      <td>1.00</td>\n",
       "    </tr>\n",
       "    <tr>\n",
       "      <th>4588</th>\n",
       "      <td>so can you tell this evil scientist how to obt...</td>\n",
       "      <td>-1.00</td>\n",
       "      <td>1.00</td>\n",
       "    </tr>\n",
       "    <tr>\n",
       "      <th>2122</th>\n",
       "      <td>after reading these stories...becoming a deliv...</td>\n",
       "      <td>-1.00</td>\n",
       "      <td>1.00</td>\n",
       "    </tr>\n",
       "    <tr>\n",
       "      <th>170</th>\n",
       "      <td>i dont care who it is, animal cruelty is fucki...</td>\n",
       "      <td>-1.00</td>\n",
       "      <td>1.00</td>\n",
       "    </tr>\n",
       "    <tr>\n",
       "      <th>1562</th>\n",
       "      <td>but the pasties are dreadful</td>\n",
       "      <td>-1.00</td>\n",
       "      <td>1.00</td>\n",
       "    </tr>\n",
       "    <tr>\n",
       "      <th>1233</th>\n",
       "      <td>was in vegas once and had a restaurant server ...</td>\n",
       "      <td>-1.00</td>\n",
       "      <td>1.00</td>\n",
       "    </tr>\n",
       "    <tr>\n",
       "      <th>6187</th>\n",
       "      <td>i to do this all the time. cooking is boring u...</td>\n",
       "      <td>-1.00</td>\n",
       "      <td>1.00</td>\n",
       "    </tr>\n",
       "    <tr>\n",
       "      <th>3694</th>\n",
       "      <td>thank you, don't download horrible anime porn ...</td>\n",
       "      <td>-1.00</td>\n",
       "      <td>1.00</td>\n",
       "    </tr>\n",
       "    <tr>\n",
       "      <th>820</th>\n",
       "      <td>fucking a!!</td>\n",
       "      <td>-0.94</td>\n",
       "      <td>0.80</td>\n",
       "    </tr>\n",
       "    <tr>\n",
       "      <th>3720</th>\n",
       "      <td>puts on wasp repellent. - bitten by mosquito. -</td>\n",
       "      <td>-0.90</td>\n",
       "      <td>1.00</td>\n",
       "    </tr>\n",
       "    <tr>\n",
       "      <th>6261</th>\n",
       "      <td>that face is fucking horrifying</td>\n",
       "      <td>-0.90</td>\n",
       "      <td>1.00</td>\n",
       "    </tr>\n",
       "    <tr>\n",
       "      <th>5818</th>\n",
       "      <td>um you're the one riding the motorcycle, retard.</td>\n",
       "      <td>-0.90</td>\n",
       "      <td>1.00</td>\n",
       "    </tr>\n",
       "    <tr>\n",
       "      <th>6588</th>\n",
       "      <td>that scene was so sick!</td>\n",
       "      <td>-0.89</td>\n",
       "      <td>0.86</td>\n",
       "    </tr>\n",
       "    <tr>\n",
       "      <th>2866</th>\n",
       "      <td>you're a bad person, and you should feel horri...</td>\n",
       "      <td>-0.85</td>\n",
       "      <td>0.83</td>\n",
       "    </tr>\n",
       "    <tr>\n",
       "      <th>3353</th>\n",
       "      <td>i don't drink. i've got really bad ptsd and dr...</td>\n",
       "      <td>-0.85</td>\n",
       "      <td>0.83</td>\n",
       "    </tr>\n",
       "    <tr>\n",
       "      <th>1422</th>\n",
       "      <td>impossible! i smell a witch...</td>\n",
       "      <td>-0.83</td>\n",
       "      <td>1.00</td>\n",
       "    </tr>\n",
       "    <tr>\n",
       "      <th>77</th>\n",
       "      <td>this is why everyone hates us teenagers.  -  -...</td>\n",
       "      <td>-0.80</td>\n",
       "      <td>0.90</td>\n",
       "    </tr>\n",
       "    <tr>\n",
       "      <th>6764</th>\n",
       "      <td>i really hate the joker meme.</td>\n",
       "      <td>-0.80</td>\n",
       "      <td>0.90</td>\n",
       "    </tr>\n",
       "    <tr>\n",
       "      <th>6597</th>\n",
       "      <td>i am that idiot, but i stayed in a holiday inn...</td>\n",
       "      <td>-0.80</td>\n",
       "      <td>0.80</td>\n",
       "    </tr>\n",
       "    <tr>\n",
       "      <th>2427</th>\n",
       "      <td>why would i want to go into a ghetto where you...</td>\n",
       "      <td>-0.80</td>\n",
       "      <td>1.00</td>\n",
       "    </tr>\n",
       "    <tr>\n",
       "      <th>4274</th>\n",
       "      <td>they're equally annoying.</td>\n",
       "      <td>-0.80</td>\n",
       "      <td>0.90</td>\n",
       "    </tr>\n",
       "    <tr>\n",
       "      <th>...</th>\n",
       "      <td>...</td>\n",
       "      <td>...</td>\n",
       "      <td>...</td>\n",
       "    </tr>\n",
       "    <tr>\n",
       "      <th>3266</th>\n",
       "      <td>whatever. i don't give a crap. someone is alwa...</td>\n",
       "      <td>-0.80</td>\n",
       "      <td>0.80</td>\n",
       "    </tr>\n",
       "    <tr>\n",
       "      <th>5845</th>\n",
       "      <td>i've been stuck on 65 for about a week.  i hat...</td>\n",
       "      <td>-0.80</td>\n",
       "      <td>0.90</td>\n",
       "    </tr>\n",
       "    <tr>\n",
       "      <th>4029</th>\n",
       "      <td>so you just don't like annoying people?</td>\n",
       "      <td>-0.80</td>\n",
       "      <td>0.90</td>\n",
       "    </tr>\n",
       "    <tr>\n",
       "      <th>1013</th>\n",
       "      <td>you hate the dutch because...?</td>\n",
       "      <td>-0.80</td>\n",
       "      <td>0.90</td>\n",
       "    </tr>\n",
       "    <tr>\n",
       "      <th>1841</th>\n",
       "      <td>are you an idiot...?</td>\n",
       "      <td>-0.80</td>\n",
       "      <td>0.80</td>\n",
       "    </tr>\n",
       "    <tr>\n",
       "      <th>5236</th>\n",
       "      <td>yeah he's fucking annoying. he gets in the way...</td>\n",
       "      <td>-0.80</td>\n",
       "      <td>0.90</td>\n",
       "    </tr>\n",
       "    <tr>\n",
       "      <th>5706</th>\n",
       "      <td>dude its star trek -- i hate when people mix t...</td>\n",
       "      <td>-0.80</td>\n",
       "      <td>0.90</td>\n",
       "    </tr>\n",
       "    <tr>\n",
       "      <th>1471</th>\n",
       "      <td>tl;dr dismissive idiot</td>\n",
       "      <td>-0.80</td>\n",
       "      <td>0.80</td>\n",
       "    </tr>\n",
       "    <tr>\n",
       "      <th>6091</th>\n",
       "      <td>popov tastes *nothing* like tito's or stolichn...</td>\n",
       "      <td>-0.80</td>\n",
       "      <td>0.80</td>\n",
       "    </tr>\n",
       "    <tr>\n",
       "      <th>2317</th>\n",
       "      <td>i hate to say it but i had to have one when i ...</td>\n",
       "      <td>-0.80</td>\n",
       "      <td>0.90</td>\n",
       "    </tr>\n",
       "    <tr>\n",
       "      <th>5849</th>\n",
       "      <td>yore an moron.</td>\n",
       "      <td>-0.80</td>\n",
       "      <td>1.00</td>\n",
       "    </tr>\n",
       "    <tr>\n",
       "      <th>2244</th>\n",
       "      <td>&amp;gt;awesome for keeping in touch with people -...</td>\n",
       "      <td>-0.80</td>\n",
       "      <td>0.90</td>\n",
       "    </tr>\n",
       "    <tr>\n",
       "      <th>316</th>\n",
       "      <td>no, that annoying attention whore who cant pla...</td>\n",
       "      <td>-0.80</td>\n",
       "      <td>0.90</td>\n",
       "    </tr>\n",
       "    <tr>\n",
       "      <th>4466</th>\n",
       "      <td>it is annoying, but it's not their fault. the ...</td>\n",
       "      <td>-0.80</td>\n",
       "      <td>0.90</td>\n",
       "    </tr>\n",
       "    <tr>\n",
       "      <th>207</th>\n",
       "      <td>and we don't fight on stupid issues that the g...</td>\n",
       "      <td>-0.80</td>\n",
       "      <td>1.00</td>\n",
       "    </tr>\n",
       "    <tr>\n",
       "      <th>5731</th>\n",
       "      <td>been driving for 11 years. i still see all kin...</td>\n",
       "      <td>-0.80</td>\n",
       "      <td>1.00</td>\n",
       "    </tr>\n",
       "    <tr>\n",
       "      <th>5396</th>\n",
       "      <td>well, it didn't read like it was stupid and un...</td>\n",
       "      <td>-0.80</td>\n",
       "      <td>1.00</td>\n",
       "    </tr>\n",
       "    <tr>\n",
       "      <th>5916</th>\n",
       "      <td>this is stupid advice</td>\n",
       "      <td>-0.80</td>\n",
       "      <td>1.00</td>\n",
       "    </tr>\n",
       "    <tr>\n",
       "      <th>6435</th>\n",
       "      <td>a gleaming example of how stupid women are.</td>\n",
       "      <td>-0.80</td>\n",
       "      <td>1.00</td>\n",
       "    </tr>\n",
       "    <tr>\n",
       "      <th>6252</th>\n",
       "      <td>it's a stupid copy pasta</td>\n",
       "      <td>-0.80</td>\n",
       "      <td>1.00</td>\n",
       "    </tr>\n",
       "    <tr>\n",
       "      <th>2269</th>\n",
       "      <td>if you name your daughter \"katniss\", i will ca...</td>\n",
       "      <td>-0.80</td>\n",
       "      <td>0.97</td>\n",
       "    </tr>\n",
       "    <tr>\n",
       "      <th>2971</th>\n",
       "      <td>you're stupid</td>\n",
       "      <td>-0.80</td>\n",
       "      <td>1.00</td>\n",
       "    </tr>\n",
       "    <tr>\n",
       "      <th>1595</th>\n",
       "      <td>this is stupid.</td>\n",
       "      <td>-0.80</td>\n",
       "      <td>1.00</td>\n",
       "    </tr>\n",
       "    <tr>\n",
       "      <th>1324</th>\n",
       "      <td>well management is fucking stupid</td>\n",
       "      <td>-0.80</td>\n",
       "      <td>1.00</td>\n",
       "    </tr>\n",
       "    <tr>\n",
       "      <th>4273</th>\n",
       "      <td>that's a terrible use of this glorious meme. y...</td>\n",
       "      <td>-0.79</td>\n",
       "      <td>0.83</td>\n",
       "    </tr>\n",
       "    <tr>\n",
       "      <th>4791</th>\n",
       "      <td>the livememe transcription: -  -  - logging on...</td>\n",
       "      <td>-0.78</td>\n",
       "      <td>1.00</td>\n",
       "    </tr>\n",
       "    <tr>\n",
       "      <th>5344</th>\n",
       "      <td>it sounds like they may try to ban porn in can...</td>\n",
       "      <td>-0.75</td>\n",
       "      <td>1.00</td>\n",
       "    </tr>\n",
       "    <tr>\n",
       "      <th>4354</th>\n",
       "      <td>op, i'll sign your yearbook :( &amp;lt;3</td>\n",
       "      <td>-0.75</td>\n",
       "      <td>1.00</td>\n",
       "    </tr>\n",
       "    <tr>\n",
       "      <th>3984</th>\n",
       "      <td>bah! it's over? i thought reddit was on west c...</td>\n",
       "      <td>-0.75</td>\n",
       "      <td>1.00</td>\n",
       "    </tr>\n",
       "    <tr>\n",
       "      <th>3759</th>\n",
       "      <td>i care op... :( &amp;lt;3</td>\n",
       "      <td>-0.75</td>\n",
       "      <td>1.00</td>\n",
       "    </tr>\n",
       "  </tbody>\n",
       "</table>\n",
       "<p>67 rows × 3 columns</p>\n",
       "</div>"
      ],
      "text/plain": [
       "                                                   body  sentiment  \\\n",
       "3480                   no,humans make the worst people.      -1.00   \n",
       "421   the comments in this thread are horrible. don'...      -1.00   \n",
       "1749   it's the worst when wrapping christmas presents.      -1.00   \n",
       "1954                                                :'(      -1.00   \n",
       "4037                                          terrible.      -1.00   \n",
       "5485                     this is so fucking terrible...      -1.00   \n",
       "2383  holy crap! you have the ability to send your i...      -1.00   \n",
       "2662  why would anyone touch a dirt disgusting cat t...      -1.00   \n",
       "2515  this must be one of the worst uses of this mem...      -1.00   \n",
       "2420  uninstall your web browser, you're terrible at...      -1.00   \n",
       "4588  so can you tell this evil scientist how to obt...      -1.00   \n",
       "2122  after reading these stories...becoming a deliv...      -1.00   \n",
       "170   i dont care who it is, animal cruelty is fucki...      -1.00   \n",
       "1562                       but the pasties are dreadful      -1.00   \n",
       "1233  was in vegas once and had a restaurant server ...      -1.00   \n",
       "6187  i to do this all the time. cooking is boring u...      -1.00   \n",
       "3694  thank you, don't download horrible anime porn ...      -1.00   \n",
       "820                                         fucking a!!      -0.94   \n",
       "3720    puts on wasp repellent. - bitten by mosquito. -      -0.90   \n",
       "6261                    that face is fucking horrifying      -0.90   \n",
       "5818   um you're the one riding the motorcycle, retard.      -0.90   \n",
       "6588                            that scene was so sick!      -0.89   \n",
       "2866  you're a bad person, and you should feel horri...      -0.85   \n",
       "3353  i don't drink. i've got really bad ptsd and dr...      -0.85   \n",
       "1422                     impossible! i smell a witch...      -0.83   \n",
       "77    this is why everyone hates us teenagers.  -  -...      -0.80   \n",
       "6764                      i really hate the joker meme.      -0.80   \n",
       "6597  i am that idiot, but i stayed in a holiday inn...      -0.80   \n",
       "2427  why would i want to go into a ghetto where you...      -0.80   \n",
       "4274                          they're equally annoying.      -0.80   \n",
       "...                                                 ...        ...   \n",
       "3266  whatever. i don't give a crap. someone is alwa...      -0.80   \n",
       "5845  i've been stuck on 65 for about a week.  i hat...      -0.80   \n",
       "4029            so you just don't like annoying people?      -0.80   \n",
       "1013                     you hate the dutch because...?      -0.80   \n",
       "1841                               are you an idiot...?      -0.80   \n",
       "5236  yeah he's fucking annoying. he gets in the way...      -0.80   \n",
       "5706  dude its star trek -- i hate when people mix t...      -0.80   \n",
       "1471                             tl;dr dismissive idiot      -0.80   \n",
       "6091  popov tastes *nothing* like tito's or stolichn...      -0.80   \n",
       "2317  i hate to say it but i had to have one when i ...      -0.80   \n",
       "5849                                     yore an moron.      -0.80   \n",
       "2244  &gt;awesome for keeping in touch with people -...      -0.80   \n",
       "316   no, that annoying attention whore who cant pla...      -0.80   \n",
       "4466  it is annoying, but it's not their fault. the ...      -0.80   \n",
       "207   and we don't fight on stupid issues that the g...      -0.80   \n",
       "5731  been driving for 11 years. i still see all kin...      -0.80   \n",
       "5396  well, it didn't read like it was stupid and un...      -0.80   \n",
       "5916                              this is stupid advice      -0.80   \n",
       "6435        a gleaming example of how stupid women are.      -0.80   \n",
       "6252                           it's a stupid copy pasta      -0.80   \n",
       "2269  if you name your daughter \"katniss\", i will ca...      -0.80   \n",
       "2971                                      you're stupid      -0.80   \n",
       "1595                                    this is stupid.      -0.80   \n",
       "1324                  well management is fucking stupid      -0.80   \n",
       "4273  that's a terrible use of this glorious meme. y...      -0.79   \n",
       "4791  the livememe transcription: -  -  - logging on...      -0.78   \n",
       "5344  it sounds like they may try to ban porn in can...      -0.75   \n",
       "4354               op, i'll sign your yearbook :( &lt;3      -0.75   \n",
       "3984  bah! it's over? i thought reddit was on west c...      -0.75   \n",
       "3759                              i care op... :( &lt;3      -0.75   \n",
       "\n",
       "      subjectivity  \n",
       "3480          1.00  \n",
       "421           1.00  \n",
       "1749          1.00  \n",
       "1954          1.00  \n",
       "4037          1.00  \n",
       "5485          1.00  \n",
       "2383          0.80  \n",
       "2662          1.00  \n",
       "2515          1.00  \n",
       "2420          1.00  \n",
       "4588          1.00  \n",
       "2122          1.00  \n",
       "170           1.00  \n",
       "1562          1.00  \n",
       "1233          1.00  \n",
       "6187          1.00  \n",
       "3694          1.00  \n",
       "820           0.80  \n",
       "3720          1.00  \n",
       "6261          1.00  \n",
       "5818          1.00  \n",
       "6588          0.86  \n",
       "2866          0.83  \n",
       "3353          0.83  \n",
       "1422          1.00  \n",
       "77            0.90  \n",
       "6764          0.90  \n",
       "6597          0.80  \n",
       "2427          1.00  \n",
       "4274          0.90  \n",
       "...            ...  \n",
       "3266          0.80  \n",
       "5845          0.90  \n",
       "4029          0.90  \n",
       "1013          0.90  \n",
       "1841          0.80  \n",
       "5236          0.90  \n",
       "5706          0.90  \n",
       "1471          0.80  \n",
       "6091          0.80  \n",
       "2317          0.90  \n",
       "5849          1.00  \n",
       "2244          0.90  \n",
       "316           0.90  \n",
       "4466          0.90  \n",
       "207           1.00  \n",
       "5731          1.00  \n",
       "5396          1.00  \n",
       "5916          1.00  \n",
       "6435          1.00  \n",
       "6252          1.00  \n",
       "2269          0.97  \n",
       "2971          1.00  \n",
       "1595          1.00  \n",
       "1324          1.00  \n",
       "4273          0.83  \n",
       "4791          1.00  \n",
       "5344          1.00  \n",
       "4354          1.00  \n",
       "3984          1.00  \n",
       "3759          1.00  \n",
       "\n",
       "[67 rows x 3 columns]"
      ]
     },
     "execution_count": 133,
     "metadata": {},
     "output_type": "execute_result"
    }
   ],
   "source": [
    "top_df"
   ]
  },
  {
   "cell_type": "code",
   "execution_count": 134,
   "metadata": {
    "collapsed": false
   },
   "outputs": [
    {
     "name": "stdout",
     "output_type": "stream",
     "text": [
      "CPU times: user 157 ms, sys: 12.1 ms, total: 169 ms\n",
      "Wall time: 167 ms\n"
     ]
    }
   ],
   "source": [
    "%%time\n",
    "\n",
    "top_text = ''\n",
    "for x in top_df['body']:\n",
    "    top_text += x + ' '\n",
    "\n",
    "top_list = [\n",
    "    w\n",
    "    for w in nltk.word_tokenize(top_text)\n",
    "    if w not in stopwords.words('english') and w not in string.punctuation\n",
    "]"
   ]
  },
  {
   "cell_type": "code",
   "execution_count": 135,
   "metadata": {
    "collapsed": true
   },
   "outputs": [],
   "source": [
    "top_counter = Counter(top_list)"
   ]
  },
  {
   "cell_type": "code",
   "execution_count": 136,
   "metadata": {
    "collapsed": false
   },
   "outputs": [
    {
     "data": {
      "text/plain": [
       "[('stupid', 11),\n",
       " (\"'s\", 11),\n",
       " ('hate', 10),\n",
       " ('...', 10),\n",
       " (\"n't\", 8),\n",
       " ('fucking', 7),\n",
       " ('annoying', 7),\n",
       " ('people', 6),\n",
       " ('like', 6),\n",
       " ('worst', 6),\n",
       " (\"'re\", 6),\n",
       " ('meme', 6),\n",
       " ('one', 5),\n",
       " ('gt', 5),\n",
       " ('terrible', 4),\n",
       " ('would', 4),\n",
       " ('bad', 4),\n",
       " (\"''\", 4),\n",
       " ('``', 4),\n",
       " ('get', 3)]"
      ]
     },
     "execution_count": 136,
     "metadata": {},
     "output_type": "execute_result"
    }
   ],
   "source": [
    "top_counter.most_common(20)"
   ]
  },
  {
   "cell_type": "code",
   "execution_count": 31,
   "metadata": {
    "collapsed": false
   },
   "outputs": [
    {
     "data": {
      "text/plain": [
       "[Timestamp('2010-12-01 00:00:00'),\n",
       " Timestamp('2012-09-01 00:00:00'),\n",
       " Timestamp('2013-04-01 00:00:00'),\n",
       " Timestamp('2013-07-01 00:00:00'),\n",
       " Timestamp('2013-12-01 00:00:00'),\n",
       " Timestamp('2014-03-01 00:00:00')]"
      ]
     },
     "execution_count": 31,
     "metadata": {},
     "output_type": "execute_result"
    }
   ],
   "source": [
    "peaks"
   ]
  },
  {
   "cell_type": "markdown",
   "metadata": {},
   "source": [
    "#### 2013-12-01"
   ]
  },
  {
   "cell_type": "code",
   "execution_count": 137,
   "metadata": {
    "collapsed": false
   },
   "outputs": [],
   "source": [
    "date = '2013-12-01'"
   ]
  },
  {
   "cell_type": "code",
   "execution_count": 138,
   "metadata": {
    "collapsed": false
   },
   "outputs": [],
   "source": [
    "subreddit_date_df = subreddit_df[subreddit_df['month'] == date]"
   ]
  },
  {
   "cell_type": "code",
   "execution_count": 139,
   "metadata": {
    "collapsed": false
   },
   "outputs": [
    {
     "data": {
      "text/plain": [
       "7777"
      ]
     },
     "execution_count": 139,
     "metadata": {},
     "output_type": "execute_result"
    }
   ],
   "source": [
    "len(subreddit_date_df)"
   ]
  },
  {
   "cell_type": "code",
   "execution_count": 140,
   "metadata": {
    "collapsed": false
   },
   "outputs": [
    {
     "name": "stdout",
     "output_type": "stream",
     "text": [
      "CPU times: user 2.45 s, sys: 0 ns, total: 2.45 s\n",
      "Wall time: 2.45 s\n"
     ]
    }
   ],
   "source": [
    "%%time\n",
    "\n",
    "sentiment_list = []\n",
    "for x in subreddit_date_df['body']:\n",
    "    tb = TextBlob(x)\n",
    "    sentiment_list.append((x, tb.sentiment.polarity, tb.sentiment.subjectivity))"
   ]
  },
  {
   "cell_type": "code",
   "execution_count": 141,
   "metadata": {
    "collapsed": false
   },
   "outputs": [],
   "source": [
    "sentiment_df = pd.DataFrame(sentiment_list, columns=['body', 'sentiment', 'subjectivity'])"
   ]
  },
  {
   "cell_type": "code",
   "execution_count": 142,
   "metadata": {
    "collapsed": false
   },
   "outputs": [
    {
     "data": {
      "text/html": [
       "<div>\n",
       "<table border=\"1\" class=\"dataframe\">\n",
       "  <thead>\n",
       "    <tr style=\"text-align: right;\">\n",
       "      <th></th>\n",
       "      <th>body</th>\n",
       "      <th>sentiment</th>\n",
       "      <th>subjectivity</th>\n",
       "    </tr>\n",
       "  </thead>\n",
       "  <tbody>\n",
       "    <tr>\n",
       "      <th>0</th>\n",
       "      <td>to went through 2 bottles of big horse pill vi...</td>\n",
       "      <td>0.09</td>\n",
       "      <td>0.45</td>\n",
       "    </tr>\n",
       "    <tr>\n",
       "      <th>1</th>\n",
       "      <td>popular on reddit =\\= popular in general.  - s...</td>\n",
       "      <td>0.34</td>\n",
       "      <td>0.71</td>\n",
       "    </tr>\n",
       "    <tr>\n",
       "      <th>2</th>\n",
       "      <td>mine was not minimal -  - all four completely ...</td>\n",
       "      <td>0.04</td>\n",
       "      <td>0.23</td>\n",
       "    </tr>\n",
       "    <tr>\n",
       "      <th>3</th>\n",
       "      <td>this guy</td>\n",
       "      <td>0.00</td>\n",
       "      <td>0.00</td>\n",
       "    </tr>\n",
       "    <tr>\n",
       "      <th>4</th>\n",
       "      <td>i laughed *way* too hard at this.</td>\n",
       "      <td>0.20</td>\n",
       "      <td>0.37</td>\n",
       "    </tr>\n",
       "  </tbody>\n",
       "</table>\n",
       "</div>"
      ],
      "text/plain": [
       "                                                body  sentiment  subjectivity\n",
       "0  to went through 2 bottles of big horse pill vi...       0.09          0.45\n",
       "1  popular on reddit =\\= popular in general.  - s...       0.34          0.71\n",
       "2  mine was not minimal -  - all four completely ...       0.04          0.23\n",
       "3                                           this guy       0.00          0.00\n",
       "4                  i laughed *way* too hard at this.       0.20          0.37"
      ]
     },
     "execution_count": 142,
     "metadata": {},
     "output_type": "execute_result"
    }
   ],
   "source": [
    "sentiment_df.head()"
   ]
  },
  {
   "cell_type": "code",
   "execution_count": 143,
   "metadata": {
    "collapsed": false
   },
   "outputs": [
    {
     "data": {
      "text/plain": [
       "0.029342055587012812"
      ]
     },
     "execution_count": 143,
     "metadata": {},
     "output_type": "execute_result"
    }
   ],
   "source": [
    "sentiment_df['sentiment'].mean()"
   ]
  },
  {
   "cell_type": "code",
   "execution_count": 144,
   "metadata": {
    "collapsed": false
   },
   "outputs": [
    {
     "data": {
      "text/plain": [
       "0.40783370127326213"
      ]
     },
     "execution_count": 144,
     "metadata": {},
     "output_type": "execute_result"
    }
   ],
   "source": [
    "sentiment_df['subjectivity'].mean()"
   ]
  },
  {
   "cell_type": "markdown",
   "metadata": {},
   "source": [
    "##### Histogram top positive"
   ]
  },
  {
   "cell_type": "code",
   "execution_count": 145,
   "metadata": {
    "collapsed": true
   },
   "outputs": [],
   "source": [
    "P = 1"
   ]
  },
  {
   "cell_type": "code",
   "execution_count": 146,
   "metadata": {
    "collapsed": false
   },
   "outputs": [],
   "source": [
    "top_df = sentiment_df.sort_values('sentiment', ascending=False)[:len(subreddit_date_df) * P // 100]"
   ]
  },
  {
   "cell_type": "code",
   "execution_count": 147,
   "metadata": {
    "collapsed": false
   },
   "outputs": [
    {
     "data": {
      "text/html": [
       "<div>\n",
       "<table border=\"1\" class=\"dataframe\">\n",
       "  <thead>\n",
       "    <tr style=\"text-align: right;\">\n",
       "      <th></th>\n",
       "      <th>body</th>\n",
       "      <th>sentiment</th>\n",
       "      <th>subjectivity</th>\n",
       "    </tr>\n",
       "  </thead>\n",
       "  <tbody>\n",
       "    <tr>\n",
       "      <th>2722</th>\n",
       "      <td>you can buy stuff from [my shop](http://www.et...</td>\n",
       "      <td>1.00</td>\n",
       "      <td>1.00</td>\n",
       "    </tr>\n",
       "    <tr>\n",
       "      <th>7582</th>\n",
       "      <td>thinking waving and smiling at a girl is socia...</td>\n",
       "      <td>1.00</td>\n",
       "      <td>1.00</td>\n",
       "    </tr>\n",
       "    <tr>\n",
       "      <th>6640</th>\n",
       "      <td>that is the best analogy for anything i have e...</td>\n",
       "      <td>1.00</td>\n",
       "      <td>0.30</td>\n",
       "    </tr>\n",
       "    <tr>\n",
       "      <th>672</th>\n",
       "      <td>the perfect comeback.</td>\n",
       "      <td>1.00</td>\n",
       "      <td>1.00</td>\n",
       "    </tr>\n",
       "    <tr>\n",
       "      <th>5953</th>\n",
       "      <td>best picard meme ever.</td>\n",
       "      <td>1.00</td>\n",
       "      <td>0.30</td>\n",
       "    </tr>\n",
       "    <tr>\n",
       "      <th>5211</th>\n",
       "      <td>i think there's a misconception going on here,...</td>\n",
       "      <td>1.00</td>\n",
       "      <td>1.00</td>\n",
       "    </tr>\n",
       "    <tr>\n",
       "      <th>257</th>\n",
       "      <td>you. are. awesome for linking those.</td>\n",
       "      <td>1.00</td>\n",
       "      <td>1.00</td>\n",
       "    </tr>\n",
       "    <tr>\n",
       "      <th>7677</th>\n",
       "      <td>just affirmimg headblade is awesome.</td>\n",
       "      <td>1.00</td>\n",
       "      <td>1.00</td>\n",
       "    </tr>\n",
       "    <tr>\n",
       "      <th>5926</th>\n",
       "      <td>&amp;gt; in hindsight, telling him to get off my c...</td>\n",
       "      <td>1.00</td>\n",
       "      <td>0.65</td>\n",
       "    </tr>\n",
       "    <tr>\n",
       "      <th>4271</th>\n",
       "      <td>i would be pissed off by somebody saying: \"hap...</td>\n",
       "      <td>1.00</td>\n",
       "      <td>1.00</td>\n",
       "    </tr>\n",
       "    <tr>\n",
       "      <th>1315</th>\n",
       "      <td>hyvää syntymäpäivää. just goggled it, because ...</td>\n",
       "      <td>1.00</td>\n",
       "      <td>1.00</td>\n",
       "    </tr>\n",
       "    <tr>\n",
       "      <th>7242</th>\n",
       "      <td>jameson's and sprite is a wonderful drink</td>\n",
       "      <td>1.00</td>\n",
       "      <td>1.00</td>\n",
       "    </tr>\n",
       "    <tr>\n",
       "      <th>3592</th>\n",
       "      <td>&amp;gt;reddit isn't socially awesome</td>\n",
       "      <td>1.00</td>\n",
       "      <td>1.00</td>\n",
       "    </tr>\n",
       "    <tr>\n",
       "      <th>2253</th>\n",
       "      <td>the is the best used by date.   what is \"best\"...</td>\n",
       "      <td>1.00</td>\n",
       "      <td>0.30</td>\n",
       "    </tr>\n",
       "    <tr>\n",
       "      <th>1552</th>\n",
       "      <td>best title ever.</td>\n",
       "      <td>1.00</td>\n",
       "      <td>0.30</td>\n",
       "    </tr>\n",
       "    <tr>\n",
       "      <th>3157</th>\n",
       "      <td>flawless use of a meme op</td>\n",
       "      <td>1.00</td>\n",
       "      <td>1.00</td>\n",
       "    </tr>\n",
       "    <tr>\n",
       "      <th>7259</th>\n",
       "      <td>best plan. no heartbreak for grandma, and douc...</td>\n",
       "      <td>1.00</td>\n",
       "      <td>0.30</td>\n",
       "    </tr>\n",
       "    <tr>\n",
       "      <th>4961</th>\n",
       "      <td>you magnificent bastard</td>\n",
       "      <td>1.00</td>\n",
       "      <td>1.00</td>\n",
       "    </tr>\n",
       "    <tr>\n",
       "      <th>4667</th>\n",
       "      <td>op, you're a fucking awesome person.</td>\n",
       "      <td>1.00</td>\n",
       "      <td>1.00</td>\n",
       "    </tr>\n",
       "    <tr>\n",
       "      <th>1541</th>\n",
       "      <td>dat delicious pepperjack taquito.</td>\n",
       "      <td>1.00</td>\n",
       "      <td>1.00</td>\n",
       "    </tr>\n",
       "    <tr>\n",
       "      <th>7514</th>\n",
       "      <td>thinking talking to someone is socially awesom...</td>\n",
       "      <td>1.00</td>\n",
       "      <td>1.00</td>\n",
       "    </tr>\n",
       "    <tr>\n",
       "      <th>1821</th>\n",
       "      <td>i am the best.</td>\n",
       "      <td>1.00</td>\n",
       "      <td>0.30</td>\n",
       "    </tr>\n",
       "    <tr>\n",
       "      <th>5497</th>\n",
       "      <td>dude, this is an awesome pickup line, given th...</td>\n",
       "      <td>1.00</td>\n",
       "      <td>1.00</td>\n",
       "    </tr>\n",
       "    <tr>\n",
       "      <th>1958</th>\n",
       "      <td>perfect.</td>\n",
       "      <td>1.00</td>\n",
       "      <td>1.00</td>\n",
       "    </tr>\n",
       "    <tr>\n",
       "      <th>7434</th>\n",
       "      <td>greatest tank battles is still the best show.</td>\n",
       "      <td>1.00</td>\n",
       "      <td>0.65</td>\n",
       "    </tr>\n",
       "    <tr>\n",
       "      <th>6455</th>\n",
       "      <td>i got star trek socks!  they are awesome.</td>\n",
       "      <td>1.00</td>\n",
       "      <td>1.00</td>\n",
       "    </tr>\n",
       "    <tr>\n",
       "      <th>5561</th>\n",
       "      <td>great, let's trade. mine is shitty!</td>\n",
       "      <td>1.00</td>\n",
       "      <td>0.75</td>\n",
       "    </tr>\n",
       "    <tr>\n",
       "      <th>603</th>\n",
       "      <td>i just want to congratulate you on this beauti...</td>\n",
       "      <td>1.00</td>\n",
       "      <td>1.00</td>\n",
       "    </tr>\n",
       "    <tr>\n",
       "      <th>2186</th>\n",
       "      <td>...in perfect health.</td>\n",
       "      <td>1.00</td>\n",
       "      <td>1.00</td>\n",
       "    </tr>\n",
       "    <tr>\n",
       "      <th>7390</th>\n",
       "      <td>if almost every channel could stop doing that,...</td>\n",
       "      <td>1.00</td>\n",
       "      <td>1.00</td>\n",
       "    </tr>\n",
       "    <tr>\n",
       "      <th>...</th>\n",
       "      <td>...</td>\n",
       "      <td>...</td>\n",
       "      <td>...</td>\n",
       "    </tr>\n",
       "    <tr>\n",
       "      <th>1036</th>\n",
       "      <td>bullshit. that won't fly in any court. all in ...</td>\n",
       "      <td>0.90</td>\n",
       "      <td>0.60</td>\n",
       "    </tr>\n",
       "    <tr>\n",
       "      <th>4801</th>\n",
       "      <td>the problem is coming off another street, wher...</td>\n",
       "      <td>0.90</td>\n",
       "      <td>1.00</td>\n",
       "    </tr>\n",
       "    <tr>\n",
       "      <th>3730</th>\n",
       "      <td>they're also generally very brave. *so brave.*</td>\n",
       "      <td>0.90</td>\n",
       "      <td>1.00</td>\n",
       "    </tr>\n",
       "    <tr>\n",
       "      <th>454</th>\n",
       "      <td>showed this to my girlfriend.  -  - \"that's a ...</td>\n",
       "      <td>0.88</td>\n",
       "      <td>0.60</td>\n",
       "    </tr>\n",
       "    <tr>\n",
       "      <th>5410</th>\n",
       "      <td>don't worry friend! you can get a good compute...</td>\n",
       "      <td>0.88</td>\n",
       "      <td>0.60</td>\n",
       "    </tr>\n",
       "    <tr>\n",
       "      <th>5747</th>\n",
       "      <td>well, good luck to you, man!</td>\n",
       "      <td>0.88</td>\n",
       "      <td>0.60</td>\n",
       "    </tr>\n",
       "    <tr>\n",
       "      <th>1097</th>\n",
       "      <td>good on ya! -  - *crap...that's something my e...</td>\n",
       "      <td>0.88</td>\n",
       "      <td>0.60</td>\n",
       "    </tr>\n",
       "    <tr>\n",
       "      <th>6545</th>\n",
       "      <td>so beautiful. match.com.</td>\n",
       "      <td>0.85</td>\n",
       "      <td>1.00</td>\n",
       "    </tr>\n",
       "    <tr>\n",
       "      <th>6454</th>\n",
       "      <td>you have beautiful eyes.</td>\n",
       "      <td>0.85</td>\n",
       "      <td>1.00</td>\n",
       "    </tr>\n",
       "    <tr>\n",
       "      <th>7583</th>\n",
       "      <td>not just good. fucking great!!!</td>\n",
       "      <td>0.85</td>\n",
       "      <td>0.68</td>\n",
       "    </tr>\n",
       "    <tr>\n",
       "      <th>868</th>\n",
       "      <td>i am proud to be part of your shame.</td>\n",
       "      <td>0.80</td>\n",
       "      <td>1.00</td>\n",
       "    </tr>\n",
       "    <tr>\n",
       "      <th>4183</th>\n",
       "      <td>i was gonna say that, but it didn't flow as we...</td>\n",
       "      <td>0.80</td>\n",
       "      <td>0.70</td>\n",
       "    </tr>\n",
       "    <tr>\n",
       "      <th>1444</th>\n",
       "      <td>so brave.</td>\n",
       "      <td>0.80</td>\n",
       "      <td>1.00</td>\n",
       "    </tr>\n",
       "    <tr>\n",
       "      <th>5855</th>\n",
       "      <td>lol, the glasses?</td>\n",
       "      <td>0.80</td>\n",
       "      <td>0.70</td>\n",
       "    </tr>\n",
       "    <tr>\n",
       "      <th>3845</th>\n",
       "      <td>lol just saw that episode</td>\n",
       "      <td>0.80</td>\n",
       "      <td>0.70</td>\n",
       "    </tr>\n",
       "    <tr>\n",
       "      <th>1473</th>\n",
       "      <td>so fucking brave.</td>\n",
       "      <td>0.80</td>\n",
       "      <td>1.00</td>\n",
       "    </tr>\n",
       "    <tr>\n",
       "      <th>5140</th>\n",
       "      <td>show her this great article - http://www.huffi...</td>\n",
       "      <td>0.80</td>\n",
       "      <td>0.75</td>\n",
       "    </tr>\n",
       "    <tr>\n",
       "      <th>1840</th>\n",
       "      <td>it's great to pinpoint a time where a fetish w...</td>\n",
       "      <td>0.80</td>\n",
       "      <td>0.75</td>\n",
       "    </tr>\n",
       "    <tr>\n",
       "      <th>6434</th>\n",
       "      <td>welcome to merry cakemas, where every gift is ...</td>\n",
       "      <td>0.80</td>\n",
       "      <td>0.90</td>\n",
       "    </tr>\n",
       "    <tr>\n",
       "      <th>119</th>\n",
       "      <td>lol, kinda like the outta staters here in nort...</td>\n",
       "      <td>0.80</td>\n",
       "      <td>0.70</td>\n",
       "    </tr>\n",
       "    <tr>\n",
       "      <th>3163</th>\n",
       "      <td>well that's the point, not to buy someone a dr...</td>\n",
       "      <td>0.80</td>\n",
       "      <td>0.70</td>\n",
       "    </tr>\n",
       "    <tr>\n",
       "      <th>1020</th>\n",
       "      <td>everybody was happy that year</td>\n",
       "      <td>0.80</td>\n",
       "      <td>1.00</td>\n",
       "    </tr>\n",
       "    <tr>\n",
       "      <th>471</th>\n",
       "      <td>welcome to the swamp. source: floridian</td>\n",
       "      <td>0.80</td>\n",
       "      <td>0.90</td>\n",
       "    </tr>\n",
       "    <tr>\n",
       "      <th>5551</th>\n",
       "      <td>thank you for the honest-to-goodness lol.</td>\n",
       "      <td>0.80</td>\n",
       "      <td>0.70</td>\n",
       "    </tr>\n",
       "    <tr>\n",
       "      <th>1500</th>\n",
       "      <td>welcome to michigan you want weather, we got i...</td>\n",
       "      <td>0.80</td>\n",
       "      <td>0.90</td>\n",
       "    </tr>\n",
       "    <tr>\n",
       "      <th>3181</th>\n",
       "      <td>this is great and everything, but this is not ...</td>\n",
       "      <td>0.80</td>\n",
       "      <td>0.75</td>\n",
       "    </tr>\n",
       "    <tr>\n",
       "      <th>3304</th>\n",
       "      <td>our mummies would be proud.</td>\n",
       "      <td>0.80</td>\n",
       "      <td>1.00</td>\n",
       "    </tr>\n",
       "    <tr>\n",
       "      <th>6517</th>\n",
       "      <td>yes. i've had great experiences with epsons. -...</td>\n",
       "      <td>0.80</td>\n",
       "      <td>0.75</td>\n",
       "    </tr>\n",
       "    <tr>\n",
       "      <th>1999</th>\n",
       "      <td>i always reply with \"happy festivus.\" - ...bec...</td>\n",
       "      <td>0.80</td>\n",
       "      <td>0.95</td>\n",
       "    </tr>\n",
       "    <tr>\n",
       "      <th>1380</th>\n",
       "      <td>no, the bottom part greatly implies that you w...</td>\n",
       "      <td>0.80</td>\n",
       "      <td>0.75</td>\n",
       "    </tr>\n",
       "  </tbody>\n",
       "</table>\n",
       "<p>77 rows × 3 columns</p>\n",
       "</div>"
      ],
      "text/plain": [
       "                                                   body  sentiment  \\\n",
       "2722  you can buy stuff from [my shop](http://www.et...       1.00   \n",
       "7582  thinking waving and smiling at a girl is socia...       1.00   \n",
       "6640  that is the best analogy for anything i have e...       1.00   \n",
       "672                               the perfect comeback.       1.00   \n",
       "5953                             best picard meme ever.       1.00   \n",
       "5211  i think there's a misconception going on here,...       1.00   \n",
       "257                you. are. awesome for linking those.       1.00   \n",
       "7677               just affirmimg headblade is awesome.       1.00   \n",
       "5926  &gt; in hindsight, telling him to get off my c...       1.00   \n",
       "4271  i would be pissed off by somebody saying: \"hap...       1.00   \n",
       "1315  hyvää syntymäpäivää. just goggled it, because ...       1.00   \n",
       "7242          jameson's and sprite is a wonderful drink       1.00   \n",
       "3592                  &gt;reddit isn't socially awesome       1.00   \n",
       "2253  the is the best used by date.   what is \"best\"...       1.00   \n",
       "1552                                   best title ever.       1.00   \n",
       "3157                          flawless use of a meme op       1.00   \n",
       "7259  best plan. no heartbreak for grandma, and douc...       1.00   \n",
       "4961                            you magnificent bastard       1.00   \n",
       "4667               op, you're a fucking awesome person.       1.00   \n",
       "1541                  dat delicious pepperjack taquito.       1.00   \n",
       "7514  thinking talking to someone is socially awesom...       1.00   \n",
       "1821                                     i am the best.       1.00   \n",
       "5497  dude, this is an awesome pickup line, given th...       1.00   \n",
       "1958                                           perfect.       1.00   \n",
       "7434      greatest tank battles is still the best show.       1.00   \n",
       "6455          i got star trek socks!  they are awesome.       1.00   \n",
       "5561                great, let's trade. mine is shitty!       1.00   \n",
       "603   i just want to congratulate you on this beauti...       1.00   \n",
       "2186                              ...in perfect health.       1.00   \n",
       "7390  if almost every channel could stop doing that,...       1.00   \n",
       "...                                                 ...        ...   \n",
       "1036  bullshit. that won't fly in any court. all in ...       0.90   \n",
       "4801  the problem is coming off another street, wher...       0.90   \n",
       "3730     they're also generally very brave. *so brave.*       0.90   \n",
       "454   showed this to my girlfriend.  -  - \"that's a ...       0.88   \n",
       "5410  don't worry friend! you can get a good compute...       0.88   \n",
       "5747                       well, good luck to you, man!       0.88   \n",
       "1097  good on ya! -  - *crap...that's something my e...       0.88   \n",
       "6545                           so beautiful. match.com.       0.85   \n",
       "6454                           you have beautiful eyes.       0.85   \n",
       "7583                    not just good. fucking great!!!       0.85   \n",
       "868                i am proud to be part of your shame.       0.80   \n",
       "4183  i was gonna say that, but it didn't flow as we...       0.80   \n",
       "1444                                          so brave.       0.80   \n",
       "5855                                  lol, the glasses?       0.80   \n",
       "3845                          lol just saw that episode       0.80   \n",
       "1473                                  so fucking brave.       0.80   \n",
       "5140  show her this great article - http://www.huffi...       0.80   \n",
       "1840  it's great to pinpoint a time where a fetish w...       0.80   \n",
       "6434  welcome to merry cakemas, where every gift is ...       0.80   \n",
       "119   lol, kinda like the outta staters here in nort...       0.80   \n",
       "3163  well that's the point, not to buy someone a dr...       0.80   \n",
       "1020                      everybody was happy that year       0.80   \n",
       "471             welcome to the swamp. source: floridian       0.80   \n",
       "5551          thank you for the honest-to-goodness lol.       0.80   \n",
       "1500  welcome to michigan you want weather, we got i...       0.80   \n",
       "3181  this is great and everything, but this is not ...       0.80   \n",
       "3304                        our mummies would be proud.       0.80   \n",
       "6517  yes. i've had great experiences with epsons. -...       0.80   \n",
       "1999  i always reply with \"happy festivus.\" - ...bec...       0.80   \n",
       "1380  no, the bottom part greatly implies that you w...       0.80   \n",
       "\n",
       "      subjectivity  \n",
       "2722          1.00  \n",
       "7582          1.00  \n",
       "6640          0.30  \n",
       "672           1.00  \n",
       "5953          0.30  \n",
       "5211          1.00  \n",
       "257           1.00  \n",
       "7677          1.00  \n",
       "5926          0.65  \n",
       "4271          1.00  \n",
       "1315          1.00  \n",
       "7242          1.00  \n",
       "3592          1.00  \n",
       "2253          0.30  \n",
       "1552          0.30  \n",
       "3157          1.00  \n",
       "7259          0.30  \n",
       "4961          1.00  \n",
       "4667          1.00  \n",
       "1541          1.00  \n",
       "7514          1.00  \n",
       "1821          0.30  \n",
       "5497          1.00  \n",
       "1958          1.00  \n",
       "7434          0.65  \n",
       "6455          1.00  \n",
       "5561          0.75  \n",
       "603           1.00  \n",
       "2186          1.00  \n",
       "7390          1.00  \n",
       "...            ...  \n",
       "1036          0.60  \n",
       "4801          1.00  \n",
       "3730          1.00  \n",
       "454           0.60  \n",
       "5410          0.60  \n",
       "5747          0.60  \n",
       "1097          0.60  \n",
       "6545          1.00  \n",
       "6454          1.00  \n",
       "7583          0.68  \n",
       "868           1.00  \n",
       "4183          0.70  \n",
       "1444          1.00  \n",
       "5855          0.70  \n",
       "3845          0.70  \n",
       "1473          1.00  \n",
       "5140          0.75  \n",
       "1840          0.75  \n",
       "6434          0.90  \n",
       "119           0.70  \n",
       "3163          0.70  \n",
       "1020          1.00  \n",
       "471           0.90  \n",
       "5551          0.70  \n",
       "1500          0.90  \n",
       "3181          0.75  \n",
       "3304          1.00  \n",
       "6517          0.75  \n",
       "1999          0.95  \n",
       "1380          0.75  \n",
       "\n",
       "[77 rows x 3 columns]"
      ]
     },
     "execution_count": 147,
     "metadata": {},
     "output_type": "execute_result"
    }
   ],
   "source": [
    "top_df"
   ]
  },
  {
   "cell_type": "code",
   "execution_count": 148,
   "metadata": {
    "collapsed": false
   },
   "outputs": [
    {
     "name": "stdout",
     "output_type": "stream",
     "text": [
      "CPU times: user 148 ms, sys: 8.12 ms, total: 156 ms\n",
      "Wall time: 154 ms\n"
     ]
    }
   ],
   "source": [
    "%%time\n",
    "\n",
    "top_text = ''\n",
    "for x in top_df['body']:\n",
    "    top_text += x + ' '\n",
    "\n",
    "top_list = [\n",
    "    w\n",
    "    for w in nltk.word_tokenize(top_text)\n",
    "    if w not in stopwords.words('english') and w not in string.punctuation\n",
    "]"
   ]
  },
  {
   "cell_type": "code",
   "execution_count": 149,
   "metadata": {
    "collapsed": true
   },
   "outputs": [],
   "source": [
    "top_counter = Counter(top_list)"
   ]
  },
  {
   "cell_type": "code",
   "execution_count": 150,
   "metadata": {
    "collapsed": false
   },
   "outputs": [
    {
     "data": {
      "text/plain": [
       "[('best', 15),\n",
       " ('awesome', 12),\n",
       " ('great', 9),\n",
       " (\"n't\", 8),\n",
       " (\"'s\", 8),\n",
       " ('lol', 7),\n",
       " ('...', 6),\n",
       " ('good', 6),\n",
       " ('happy', 5),\n",
       " ('ever', 5),\n",
       " ('well', 4),\n",
       " ('shower', 4),\n",
       " ('get', 4),\n",
       " (\"''\", 4),\n",
       " ('``', 4),\n",
       " ('perfect', 4),\n",
       " ('welcome', 4),\n",
       " ('http', 4),\n",
       " ('brave', 4),\n",
       " ('want', 3)]"
      ]
     },
     "execution_count": 150,
     "metadata": {},
     "output_type": "execute_result"
    }
   ],
   "source": [
    "top_counter.most_common(20)"
   ]
  },
  {
   "cell_type": "markdown",
   "metadata": {},
   "source": [
    "##### Histogram top negative"
   ]
  },
  {
   "cell_type": "code",
   "execution_count": 151,
   "metadata": {
    "collapsed": true
   },
   "outputs": [],
   "source": [
    "P = 1"
   ]
  },
  {
   "cell_type": "code",
   "execution_count": 152,
   "metadata": {
    "collapsed": false
   },
   "outputs": [],
   "source": [
    "top_df = sentiment_df.sort_values('sentiment', ascending=True)[:len(subreddit_date_df) * P // 100]"
   ]
  },
  {
   "cell_type": "code",
   "execution_count": 153,
   "metadata": {
    "collapsed": false
   },
   "outputs": [
    {
     "data": {
      "text/html": [
       "<div>\n",
       "<table border=\"1\" class=\"dataframe\">\n",
       "  <thead>\n",
       "    <tr style=\"text-align: right;\">\n",
       "      <th></th>\n",
       "      <th>body</th>\n",
       "      <th>sentiment</th>\n",
       "      <th>subjectivity</th>\n",
       "    </tr>\n",
       "  </thead>\n",
       "  <tbody>\n",
       "    <tr>\n",
       "      <th>1121</th>\n",
       "      <td>i'm disgusted. take your upvote and go.</td>\n",
       "      <td>-1.00</td>\n",
       "      <td>1.00</td>\n",
       "    </tr>\n",
       "    <tr>\n",
       "      <th>3721</th>\n",
       "      <td>the lust for karma is a cruel mistress.</td>\n",
       "      <td>-1.00</td>\n",
       "      <td>1.00</td>\n",
       "    </tr>\n",
       "    <tr>\n",
       "      <th>1759</th>\n",
       "      <td>i would go insane.</td>\n",
       "      <td>-1.00</td>\n",
       "      <td>1.00</td>\n",
       "    </tr>\n",
       "    <tr>\n",
       "      <th>3109</th>\n",
       "      <td>disgusting</td>\n",
       "      <td>-1.00</td>\n",
       "      <td>1.00</td>\n",
       "    </tr>\n",
       "    <tr>\n",
       "      <th>3517</th>\n",
       "      <td>:'(</td>\n",
       "      <td>-1.00</td>\n",
       "      <td>1.00</td>\n",
       "    </tr>\n",
       "    <tr>\n",
       "      <th>7452</th>\n",
       "      <td>god, this is terrible...</td>\n",
       "      <td>-1.00</td>\n",
       "      <td>1.00</td>\n",
       "    </tr>\n",
       "    <tr>\n",
       "      <th>2218</th>\n",
       "      <td>i would always get ice caps at tim horton's in...</td>\n",
       "      <td>-1.00</td>\n",
       "      <td>1.00</td>\n",
       "    </tr>\n",
       "    <tr>\n",
       "      <th>6011</th>\n",
       "      <td>you fail captionbot!!!!</td>\n",
       "      <td>-1.00</td>\n",
       "      <td>0.30</td>\n",
       "    </tr>\n",
       "    <tr>\n",
       "      <th>5757</th>\n",
       "      <td>horrible responses?</td>\n",
       "      <td>-1.00</td>\n",
       "      <td>1.00</td>\n",
       "    </tr>\n",
       "    <tr>\n",
       "      <th>5182</th>\n",
       "      <td>what a shocking confession!</td>\n",
       "      <td>-1.00</td>\n",
       "      <td>1.00</td>\n",
       "    </tr>\n",
       "    <tr>\n",
       "      <th>2857</th>\n",
       "      <td>filthy half-breed!</td>\n",
       "      <td>-1.00</td>\n",
       "      <td>1.00</td>\n",
       "    </tr>\n",
       "    <tr>\n",
       "      <th>2601</th>\n",
       "      <td>holy crap!  he appears just like /u/wil!</td>\n",
       "      <td>-1.00</td>\n",
       "      <td>0.80</td>\n",
       "    </tr>\n",
       "    <tr>\n",
       "      <th>3722</th>\n",
       "      <td>i think it's awful that people put their kids ...</td>\n",
       "      <td>-1.00</td>\n",
       "      <td>1.00</td>\n",
       "    </tr>\n",
       "    <tr>\n",
       "      <th>7767</th>\n",
       "      <td>[penis_vaginaaaaa!!!  get in my office!!  you'...</td>\n",
       "      <td>-1.00</td>\n",
       "      <td>1.00</td>\n",
       "    </tr>\n",
       "    <tr>\n",
       "      <th>559</th>\n",
       "      <td>for gods sake whatever you do, don't \"just be ...</td>\n",
       "      <td>-1.00</td>\n",
       "      <td>1.00</td>\n",
       "    </tr>\n",
       "    <tr>\n",
       "      <th>3049</th>\n",
       "      <td>horrible misuse of this meme.</td>\n",
       "      <td>-1.00</td>\n",
       "      <td>1.00</td>\n",
       "    </tr>\n",
       "    <tr>\n",
       "      <th>4305</th>\n",
       "      <td>rip buckfuddie, we will miss you. :'(</td>\n",
       "      <td>-1.00</td>\n",
       "      <td>1.00</td>\n",
       "    </tr>\n",
       "    <tr>\n",
       "      <th>1514</th>\n",
       "      <td>girls hate her!</td>\n",
       "      <td>-1.00</td>\n",
       "      <td>0.90</td>\n",
       "    </tr>\n",
       "    <tr>\n",
       "      <th>6822</th>\n",
       "      <td>i know you might find this shocking but some p...</td>\n",
       "      <td>-1.00</td>\n",
       "      <td>1.00</td>\n",
       "    </tr>\n",
       "    <tr>\n",
       "      <th>5750</th>\n",
       "      <td>pathetic.</td>\n",
       "      <td>-1.00</td>\n",
       "      <td>1.00</td>\n",
       "    </tr>\n",
       "    <tr>\n",
       "      <th>6203</th>\n",
       "      <td>i feel your pain, i don't know where the days ...</td>\n",
       "      <td>-1.00</td>\n",
       "      <td>1.00</td>\n",
       "    </tr>\n",
       "    <tr>\n",
       "      <th>6192</th>\n",
       "      <td>especially awkward penguin?</td>\n",
       "      <td>-1.00</td>\n",
       "      <td>1.00</td>\n",
       "    </tr>\n",
       "    <tr>\n",
       "      <th>1055</th>\n",
       "      <td>i think it's disgusting. we are the 1%.</td>\n",
       "      <td>-1.00</td>\n",
       "      <td>1.00</td>\n",
       "    </tr>\n",
       "    <tr>\n",
       "      <th>5082</th>\n",
       "      <td>this is terrible advice. [don't be lazy](http:...</td>\n",
       "      <td>-1.00</td>\n",
       "      <td>1.00</td>\n",
       "    </tr>\n",
       "    <tr>\n",
       "      <th>765</th>\n",
       "      <td>a pathetic run of rejection? i don't know i'm ...</td>\n",
       "      <td>-1.00</td>\n",
       "      <td>1.00</td>\n",
       "    </tr>\n",
       "    <tr>\n",
       "      <th>4313</th>\n",
       "      <td>what happened to the reddit that would downvot...</td>\n",
       "      <td>-0.98</td>\n",
       "      <td>0.60</td>\n",
       "    </tr>\n",
       "    <tr>\n",
       "      <th>2607</th>\n",
       "      <td>omg did this, i got so mad, damn you insert!!</td>\n",
       "      <td>-0.98</td>\n",
       "      <td>1.00</td>\n",
       "    </tr>\n",
       "    <tr>\n",
       "      <th>1400</th>\n",
       "      <td>ha! i totally hated this.</td>\n",
       "      <td>-0.90</td>\n",
       "      <td>0.70</td>\n",
       "    </tr>\n",
       "    <tr>\n",
       "      <th>5074</th>\n",
       "      <td>but eating candy is bad!</td>\n",
       "      <td>-0.87</td>\n",
       "      <td>0.67</td>\n",
       "    </tr>\n",
       "    <tr>\n",
       "      <th>1690</th>\n",
       "      <td>i seriousely hate this.</td>\n",
       "      <td>-0.80</td>\n",
       "      <td>0.90</td>\n",
       "    </tr>\n",
       "    <tr>\n",
       "      <th>...</th>\n",
       "      <td>...</td>\n",
       "      <td>...</td>\n",
       "      <td>...</td>\n",
       "    </tr>\n",
       "    <tr>\n",
       "      <th>1780</th>\n",
       "      <td>oh jfc on a crutch. i hate you... j/k</td>\n",
       "      <td>-0.80</td>\n",
       "      <td>0.90</td>\n",
       "    </tr>\n",
       "    <tr>\n",
       "      <th>5332</th>\n",
       "      <td>here is some wisdom. don't spend money you don...</td>\n",
       "      <td>-0.80</td>\n",
       "      <td>0.80</td>\n",
       "    </tr>\n",
       "    <tr>\n",
       "      <th>6753</th>\n",
       "      <td>because he tried to pull that crap on her.</td>\n",
       "      <td>-0.80</td>\n",
       "      <td>0.80</td>\n",
       "    </tr>\n",
       "    <tr>\n",
       "      <th>2905</th>\n",
       "      <td>i hate it too</td>\n",
       "      <td>-0.80</td>\n",
       "      <td>0.90</td>\n",
       "    </tr>\n",
       "    <tr>\n",
       "      <th>5981</th>\n",
       "      <td>yeah, it's that time of the year again when it...</td>\n",
       "      <td>-0.80</td>\n",
       "      <td>0.90</td>\n",
       "    </tr>\n",
       "    <tr>\n",
       "      <th>715</th>\n",
       "      <td>why is this an animated picard? god i hate thi...</td>\n",
       "      <td>-0.80</td>\n",
       "      <td>0.90</td>\n",
       "    </tr>\n",
       "    <tr>\n",
       "      <th>7591</th>\n",
       "      <td>dude stop. spend your time volunteering than m...</td>\n",
       "      <td>-0.80</td>\n",
       "      <td>1.00</td>\n",
       "    </tr>\n",
       "    <tr>\n",
       "      <th>6349</th>\n",
       "      <td>my dad was suffering from symptoms and an ongo...</td>\n",
       "      <td>-0.80</td>\n",
       "      <td>1.00</td>\n",
       "    </tr>\n",
       "    <tr>\n",
       "      <th>6430</th>\n",
       "      <td>unpopular and really stupid...</td>\n",
       "      <td>-0.80</td>\n",
       "      <td>1.00</td>\n",
       "    </tr>\n",
       "    <tr>\n",
       "      <th>7377</th>\n",
       "      <td>so you are saying that muslims are stupid beca...</td>\n",
       "      <td>-0.80</td>\n",
       "      <td>1.00</td>\n",
       "    </tr>\n",
       "    <tr>\n",
       "      <th>4226</th>\n",
       "      <td>ahh i feel stupid now</td>\n",
       "      <td>-0.80</td>\n",
       "      <td>1.00</td>\n",
       "    </tr>\n",
       "    <tr>\n",
       "      <th>7042</th>\n",
       "      <td>that's fucking stupid but it made me chuckle, ...</td>\n",
       "      <td>-0.80</td>\n",
       "      <td>1.00</td>\n",
       "    </tr>\n",
       "    <tr>\n",
       "      <th>3773</th>\n",
       "      <td>brah this is reddit.... the bastion of stupid....</td>\n",
       "      <td>-0.80</td>\n",
       "      <td>1.00</td>\n",
       "    </tr>\n",
       "    <tr>\n",
       "      <th>3120</th>\n",
       "      <td>well, atleast you still have cookies to look f...</td>\n",
       "      <td>-0.75</td>\n",
       "      <td>1.00</td>\n",
       "    </tr>\n",
       "    <tr>\n",
       "      <th>2470</th>\n",
       "      <td>i'm trying :(</td>\n",
       "      <td>-0.75</td>\n",
       "      <td>1.00</td>\n",
       "    </tr>\n",
       "    <tr>\n",
       "      <th>4904</th>\n",
       "      <td>code !=    - math =/=</td>\n",
       "      <td>-0.75</td>\n",
       "      <td>1.00</td>\n",
       "    </tr>\n",
       "    <tr>\n",
       "      <th>2958</th>\n",
       "      <td>:(</td>\n",
       "      <td>-0.75</td>\n",
       "      <td>1.00</td>\n",
       "    </tr>\n",
       "    <tr>\n",
       "      <th>6465</th>\n",
       "      <td>:(</td>\n",
       "      <td>-0.75</td>\n",
       "      <td>1.00</td>\n",
       "    </tr>\n",
       "    <tr>\n",
       "      <th>5568</th>\n",
       "      <td>that fucking bastard!</td>\n",
       "      <td>-0.75</td>\n",
       "      <td>0.80</td>\n",
       "    </tr>\n",
       "    <tr>\n",
       "      <th>1025</th>\n",
       "      <td>honey, it's retail.  you can have it!  'cuz, s...</td>\n",
       "      <td>-0.75</td>\n",
       "      <td>0.70</td>\n",
       "    </tr>\n",
       "    <tr>\n",
       "      <th>3126</th>\n",
       "      <td>you missed the deadline :( -  - if you go to r...</td>\n",
       "      <td>-0.75</td>\n",
       "      <td>1.00</td>\n",
       "    </tr>\n",
       "    <tr>\n",
       "      <th>2670</th>\n",
       "      <td>this is not a 90s problem. :(</td>\n",
       "      <td>-0.75</td>\n",
       "      <td>1.00</td>\n",
       "    </tr>\n",
       "    <tr>\n",
       "      <th>1362</th>\n",
       "      <td>that how it starts :(</td>\n",
       "      <td>-0.75</td>\n",
       "      <td>1.00</td>\n",
       "    </tr>\n",
       "    <tr>\n",
       "      <th>2789</th>\n",
       "      <td>because i gave up. :(</td>\n",
       "      <td>-0.75</td>\n",
       "      <td>1.00</td>\n",
       "    </tr>\n",
       "    <tr>\n",
       "      <th>6546</th>\n",
       "      <td>dare r no mo snakes  -  - edit: [.](http://www...</td>\n",
       "      <td>-0.75</td>\n",
       "      <td>1.00</td>\n",
       "    </tr>\n",
       "    <tr>\n",
       "      <th>1401</th>\n",
       "      <td>:( i don't like this mbwas guy.</td>\n",
       "      <td>-0.75</td>\n",
       "      <td>1.00</td>\n",
       "    </tr>\n",
       "    <tr>\n",
       "      <th>7065</th>\n",
       "      <td>dammit, spock! you and your blasted logic!</td>\n",
       "      <td>-0.75</td>\n",
       "      <td>0.90</td>\n",
       "    </tr>\n",
       "    <tr>\n",
       "      <th>3348</th>\n",
       "      <td>someone give this fuck some gold so we can see...</td>\n",
       "      <td>-0.74</td>\n",
       "      <td>0.80</td>\n",
       "    </tr>\n",
       "    <tr>\n",
       "      <th>3633</th>\n",
       "      <td>my sick. :(</td>\n",
       "      <td>-0.73</td>\n",
       "      <td>0.93</td>\n",
       "    </tr>\n",
       "    <tr>\n",
       "      <th>2608</th>\n",
       "      <td>i'm sick of the meme but this is an exception</td>\n",
       "      <td>-0.71</td>\n",
       "      <td>0.86</td>\n",
       "    </tr>\n",
       "  </tbody>\n",
       "</table>\n",
       "<p>77 rows × 3 columns</p>\n",
       "</div>"
      ],
      "text/plain": [
       "                                                   body  sentiment  \\\n",
       "1121            i'm disgusted. take your upvote and go.      -1.00   \n",
       "3721            the lust for karma is a cruel mistress.      -1.00   \n",
       "1759                                 i would go insane.      -1.00   \n",
       "3109                                         disgusting      -1.00   \n",
       "3517                                                :'(      -1.00   \n",
       "7452                           god, this is terrible...      -1.00   \n",
       "2218  i would always get ice caps at tim horton's in...      -1.00   \n",
       "6011                            you fail captionbot!!!!      -1.00   \n",
       "5757                                horrible responses?      -1.00   \n",
       "5182                        what a shocking confession!      -1.00   \n",
       "2857                                 filthy half-breed!      -1.00   \n",
       "2601           holy crap!  he appears just like /u/wil!      -1.00   \n",
       "3722  i think it's awful that people put their kids ...      -1.00   \n",
       "7767  [penis_vaginaaaaa!!!  get in my office!!  you'...      -1.00   \n",
       "559   for gods sake whatever you do, don't \"just be ...      -1.00   \n",
       "3049                      horrible misuse of this meme.      -1.00   \n",
       "4305              rip buckfuddie, we will miss you. :'(      -1.00   \n",
       "1514                                    girls hate her!      -1.00   \n",
       "6822  i know you might find this shocking but some p...      -1.00   \n",
       "5750                                          pathetic.      -1.00   \n",
       "6203  i feel your pain, i don't know where the days ...      -1.00   \n",
       "6192                        especially awkward penguin?      -1.00   \n",
       "1055            i think it's disgusting. we are the 1%.      -1.00   \n",
       "5082  this is terrible advice. [don't be lazy](http:...      -1.00   \n",
       "765   a pathetic run of rejection? i don't know i'm ...      -1.00   \n",
       "4313  what happened to the reddit that would downvot...      -0.98   \n",
       "2607      omg did this, i got so mad, damn you insert!!      -0.98   \n",
       "1400                          ha! i totally hated this.      -0.90   \n",
       "5074                           but eating candy is bad!      -0.87   \n",
       "1690                            i seriousely hate this.      -0.80   \n",
       "...                                                 ...        ...   \n",
       "1780              oh jfc on a crutch. i hate you... j/k      -0.80   \n",
       "5332  here is some wisdom. don't spend money you don...      -0.80   \n",
       "6753         because he tried to pull that crap on her.      -0.80   \n",
       "2905                                      i hate it too      -0.80   \n",
       "5981  yeah, it's that time of the year again when it...      -0.80   \n",
       "715   why is this an animated picard? god i hate thi...      -0.80   \n",
       "7591  dude stop. spend your time volunteering than m...      -0.80   \n",
       "6349  my dad was suffering from symptoms and an ongo...      -0.80   \n",
       "6430                     unpopular and really stupid...      -0.80   \n",
       "7377  so you are saying that muslims are stupid beca...      -0.80   \n",
       "4226                              ahh i feel stupid now      -0.80   \n",
       "7042  that's fucking stupid but it made me chuckle, ...      -0.80   \n",
       "3773  brah this is reddit.... the bastion of stupid....      -0.80   \n",
       "3120  well, atleast you still have cookies to look f...      -0.75   \n",
       "2470                                      i'm trying :(      -0.75   \n",
       "4904                              code !=    - math =/=      -0.75   \n",
       "2958                                                 :(      -0.75   \n",
       "6465                                                 :(      -0.75   \n",
       "5568                              that fucking bastard!      -0.75   \n",
       "1025  honey, it's retail.  you can have it!  'cuz, s...      -0.75   \n",
       "3126  you missed the deadline :( -  - if you go to r...      -0.75   \n",
       "2670                      this is not a 90s problem. :(      -0.75   \n",
       "1362                              that how it starts :(      -0.75   \n",
       "2789                              because i gave up. :(      -0.75   \n",
       "6546  dare r no mo snakes  -  - edit: [.](http://www...      -0.75   \n",
       "1401                    :( i don't like this mbwas guy.      -0.75   \n",
       "7065         dammit, spock! you and your blasted logic!      -0.75   \n",
       "3348  someone give this fuck some gold so we can see...      -0.74   \n",
       "3633                                        my sick. :(      -0.73   \n",
       "2608      i'm sick of the meme but this is an exception      -0.71   \n",
       "\n",
       "      subjectivity  \n",
       "1121          1.00  \n",
       "3721          1.00  \n",
       "1759          1.00  \n",
       "3109          1.00  \n",
       "3517          1.00  \n",
       "7452          1.00  \n",
       "2218          1.00  \n",
       "6011          0.30  \n",
       "5757          1.00  \n",
       "5182          1.00  \n",
       "2857          1.00  \n",
       "2601          0.80  \n",
       "3722          1.00  \n",
       "7767          1.00  \n",
       "559           1.00  \n",
       "3049          1.00  \n",
       "4305          1.00  \n",
       "1514          0.90  \n",
       "6822          1.00  \n",
       "5750          1.00  \n",
       "6203          1.00  \n",
       "6192          1.00  \n",
       "1055          1.00  \n",
       "5082          1.00  \n",
       "765           1.00  \n",
       "4313          0.60  \n",
       "2607          1.00  \n",
       "1400          0.70  \n",
       "5074          0.67  \n",
       "1690          0.90  \n",
       "...            ...  \n",
       "1780          0.90  \n",
       "5332          0.80  \n",
       "6753          0.80  \n",
       "2905          0.90  \n",
       "5981          0.90  \n",
       "715           0.90  \n",
       "7591          1.00  \n",
       "6349          1.00  \n",
       "6430          1.00  \n",
       "7377          1.00  \n",
       "4226          1.00  \n",
       "7042          1.00  \n",
       "3773          1.00  \n",
       "3120          1.00  \n",
       "2470          1.00  \n",
       "4904          1.00  \n",
       "2958          1.00  \n",
       "6465          1.00  \n",
       "5568          0.80  \n",
       "1025          0.70  \n",
       "3126          1.00  \n",
       "2670          1.00  \n",
       "1362          1.00  \n",
       "2789          1.00  \n",
       "6546          1.00  \n",
       "1401          1.00  \n",
       "7065          0.90  \n",
       "3348          0.80  \n",
       "3633          0.93  \n",
       "2608          0.86  \n",
       "\n",
       "[77 rows x 3 columns]"
      ]
     },
     "execution_count": 153,
     "metadata": {},
     "output_type": "execute_result"
    }
   ],
   "source": [
    "top_df"
   ]
  },
  {
   "cell_type": "code",
   "execution_count": 154,
   "metadata": {
    "collapsed": false
   },
   "outputs": [
    {
     "name": "stdout",
     "output_type": "stream",
     "text": [
      "CPU times: user 153 ms, sys: 7.72 ms, total: 161 ms\n",
      "Wall time: 160 ms\n"
     ]
    }
   ],
   "source": [
    "%%time\n",
    "\n",
    "top_text = ''\n",
    "for x in top_df['body']:\n",
    "    top_text += x + ' '\n",
    "\n",
    "top_list = [\n",
    "    w\n",
    "    for w in nltk.word_tokenize(top_text)\n",
    "    if w not in stopwords.words('english') and w not in string.punctuation\n",
    "]"
   ]
  },
  {
   "cell_type": "code",
   "execution_count": 155,
   "metadata": {
    "collapsed": true
   },
   "outputs": [],
   "source": [
    "top_counter = Counter(top_list)"
   ]
  },
  {
   "cell_type": "code",
   "execution_count": 156,
   "metadata": {
    "collapsed": false
   },
   "outputs": [
    {
     "data": {
      "text/plain": [
       "[(\"n't\", 14),\n",
       " ('hate', 14),\n",
       " ('...', 13),\n",
       " (\"'s\", 11),\n",
       " ('stupid', 7),\n",
       " ('know', 6),\n",
       " ('people', 6),\n",
       " ('fucking', 5),\n",
       " (\"'m\", 5),\n",
       " ('get', 4),\n",
       " ('would', 4),\n",
       " ('like', 4),\n",
       " ('crap', 4),\n",
       " ('go', 4),\n",
       " ('rarr', 4),\n",
       " ('got', 3),\n",
       " ('one', 3),\n",
       " ('horrible', 3),\n",
       " ('kids', 3),\n",
       " ('http', 3)]"
      ]
     },
     "execution_count": 156,
     "metadata": {},
     "output_type": "execute_result"
    }
   ],
   "source": [
    "top_counter.most_common(20)"
   ]
  },
  {
   "cell_type": "code",
   "execution_count": 31,
   "metadata": {
    "collapsed": false
   },
   "outputs": [
    {
     "data": {
      "text/plain": [
       "[Timestamp('2010-12-01 00:00:00'),\n",
       " Timestamp('2012-09-01 00:00:00'),\n",
       " Timestamp('2013-04-01 00:00:00'),\n",
       " Timestamp('2013-07-01 00:00:00'),\n",
       " Timestamp('2013-12-01 00:00:00'),\n",
       " Timestamp('2014-03-01 00:00:00')]"
      ]
     },
     "execution_count": 31,
     "metadata": {},
     "output_type": "execute_result"
    }
   ],
   "source": [
    "peaks"
   ]
  },
  {
   "cell_type": "markdown",
   "metadata": {},
   "source": [
    "#### 2014-03-01"
   ]
  },
  {
   "cell_type": "code",
   "execution_count": 157,
   "metadata": {
    "collapsed": false
   },
   "outputs": [],
   "source": [
    "date = '2014-03-01'"
   ]
  },
  {
   "cell_type": "code",
   "execution_count": 158,
   "metadata": {
    "collapsed": false
   },
   "outputs": [],
   "source": [
    "subreddit_date_df = subreddit_df[subreddit_df['month'] == date]"
   ]
  },
  {
   "cell_type": "code",
   "execution_count": 159,
   "metadata": {
    "collapsed": false
   },
   "outputs": [
    {
     "data": {
      "text/plain": [
       "7864"
      ]
     },
     "execution_count": 159,
     "metadata": {},
     "output_type": "execute_result"
    }
   ],
   "source": [
    "len(subreddit_date_df)"
   ]
  },
  {
   "cell_type": "code",
   "execution_count": 160,
   "metadata": {
    "collapsed": false
   },
   "outputs": [
    {
     "name": "stdout",
     "output_type": "stream",
     "text": [
      "CPU times: user 2.64 s, sys: 0 ns, total: 2.64 s\n",
      "Wall time: 2.63 s\n"
     ]
    }
   ],
   "source": [
    "%%time\n",
    "\n",
    "sentiment_list = []\n",
    "for x in subreddit_date_df['body']:\n",
    "    tb = TextBlob(x)\n",
    "    sentiment_list.append((x, tb.sentiment.polarity, tb.sentiment.subjectivity))"
   ]
  },
  {
   "cell_type": "code",
   "execution_count": 161,
   "metadata": {
    "collapsed": false
   },
   "outputs": [],
   "source": [
    "sentiment_df = pd.DataFrame(sentiment_list, columns=['body', 'sentiment', 'subjectivity'])"
   ]
  },
  {
   "cell_type": "code",
   "execution_count": 162,
   "metadata": {
    "collapsed": false
   },
   "outputs": [
    {
     "data": {
      "text/html": [
       "<div>\n",
       "<table border=\"1\" class=\"dataframe\">\n",
       "  <thead>\n",
       "    <tr style=\"text-align: right;\">\n",
       "      <th></th>\n",
       "      <th>body</th>\n",
       "      <th>sentiment</th>\n",
       "      <th>subjectivity</th>\n",
       "    </tr>\n",
       "  </thead>\n",
       "  <tbody>\n",
       "    <tr>\n",
       "      <th>0</th>\n",
       "      <td>i do both...</td>\n",
       "      <td>0.00</td>\n",
       "      <td>0.00</td>\n",
       "    </tr>\n",
       "    <tr>\n",
       "      <th>1</th>\n",
       "      <td>i wet the brush, put toothpaste on, then wet i...</td>\n",
       "      <td>-0.23</td>\n",
       "      <td>0.60</td>\n",
       "    </tr>\n",
       "    <tr>\n",
       "      <th>2</th>\n",
       "      <td>that's when you look them in the eyes to asser...</td>\n",
       "      <td>0.00</td>\n",
       "      <td>0.00</td>\n",
       "    </tr>\n",
       "    <tr>\n",
       "      <th>3</th>\n",
       "      <td>i wish that any conflict was up to the \"people...</td>\n",
       "      <td>0.50</td>\n",
       "      <td>0.60</td>\n",
       "    </tr>\n",
       "    <tr>\n",
       "      <th>4</th>\n",
       "      <td>anal?  kissing is cheating...wtf is this chick...</td>\n",
       "      <td>0.00</td>\n",
       "      <td>0.00</td>\n",
       "    </tr>\n",
       "  </tbody>\n",
       "</table>\n",
       "</div>"
      ],
      "text/plain": [
       "                                                body  sentiment  subjectivity\n",
       "0                                       i do both...       0.00          0.00\n",
       "1  i wet the brush, put toothpaste on, then wet i...      -0.23          0.60\n",
       "2  that's when you look them in the eyes to asser...       0.00          0.00\n",
       "3  i wish that any conflict was up to the \"people...       0.50          0.60\n",
       "4  anal?  kissing is cheating...wtf is this chick...       0.00          0.00"
      ]
     },
     "execution_count": 162,
     "metadata": {},
     "output_type": "execute_result"
    }
   ],
   "source": [
    "sentiment_df.head()"
   ]
  },
  {
   "cell_type": "code",
   "execution_count": 163,
   "metadata": {
    "collapsed": false
   },
   "outputs": [
    {
     "data": {
      "text/plain": [
       "0.038250934513096413"
      ]
     },
     "execution_count": 163,
     "metadata": {},
     "output_type": "execute_result"
    }
   ],
   "source": [
    "sentiment_df['sentiment'].mean()"
   ]
  },
  {
   "cell_type": "code",
   "execution_count": 164,
   "metadata": {
    "collapsed": false
   },
   "outputs": [
    {
     "data": {
      "text/plain": [
       "0.40859762511820785"
      ]
     },
     "execution_count": 164,
     "metadata": {},
     "output_type": "execute_result"
    }
   ],
   "source": [
    "sentiment_df['subjectivity'].mean()"
   ]
  },
  {
   "cell_type": "markdown",
   "metadata": {},
   "source": [
    "##### Histogram top positive"
   ]
  },
  {
   "cell_type": "code",
   "execution_count": 165,
   "metadata": {
    "collapsed": true
   },
   "outputs": [],
   "source": [
    "P = 1"
   ]
  },
  {
   "cell_type": "code",
   "execution_count": 166,
   "metadata": {
    "collapsed": false
   },
   "outputs": [],
   "source": [
    "top_df = sentiment_df.sort_values('sentiment', ascending=False)[:len(subreddit_date_df) * P // 100]"
   ]
  },
  {
   "cell_type": "code",
   "execution_count": 168,
   "metadata": {
    "collapsed": false
   },
   "outputs": [
    {
     "data": {
      "text/html": [
       "<div>\n",
       "<table border=\"1\" class=\"dataframe\">\n",
       "  <thead>\n",
       "    <tr style=\"text-align: right;\">\n",
       "      <th></th>\n",
       "      <th>body</th>\n",
       "      <th>sentiment</th>\n",
       "      <th>subjectivity</th>\n",
       "    </tr>\n",
       "  </thead>\n",
       "  <tbody>\n",
       "    <tr>\n",
       "      <th>1507</th>\n",
       "      <td>make it so, and ensign, have that delightful d...</td>\n",
       "      <td>1.00</td>\n",
       "      <td>1.00</td>\n",
       "    </tr>\n",
       "    <tr>\n",
       "      <th>5049</th>\n",
       "      <td>[best i can do](http://i.imgur.com/kyns5ql.gif)</td>\n",
       "      <td>1.00</td>\n",
       "      <td>0.30</td>\n",
       "    </tr>\n",
       "    <tr>\n",
       "      <th>1448</th>\n",
       "      <td>bucky larson is your roommate? awesome</td>\n",
       "      <td>1.00</td>\n",
       "      <td>1.00</td>\n",
       "    </tr>\n",
       "    <tr>\n",
       "      <th>5385</th>\n",
       "      <td>i'm hoping you heard this fable from star trek...</td>\n",
       "      <td>1.00</td>\n",
       "      <td>1.00</td>\n",
       "    </tr>\n",
       "    <tr>\n",
       "      <th>6177</th>\n",
       "      <td>you're an awesome person. the fact that this m...</td>\n",
       "      <td>1.00</td>\n",
       "      <td>1.00</td>\n",
       "    </tr>\n",
       "    <tr>\n",
       "      <th>2693</th>\n",
       "      <td>(music note) everything is awesome when you're...</td>\n",
       "      <td>1.00</td>\n",
       "      <td>1.00</td>\n",
       "    </tr>\n",
       "    <tr>\n",
       "      <th>6594</th>\n",
       "      <td>welcome to the internet!</td>\n",
       "      <td>1.00</td>\n",
       "      <td>0.90</td>\n",
       "    </tr>\n",
       "    <tr>\n",
       "      <th>4950</th>\n",
       "      <td>you have not seen the things we maintenance wo...</td>\n",
       "      <td>1.00</td>\n",
       "      <td>1.00</td>\n",
       "    </tr>\n",
       "    <tr>\n",
       "      <th>5463</th>\n",
       "      <td>best bot ever.</td>\n",
       "      <td>1.00</td>\n",
       "      <td>0.30</td>\n",
       "    </tr>\n",
       "    <tr>\n",
       "      <th>299</th>\n",
       "      <td>its the best lubricant!</td>\n",
       "      <td>1.00</td>\n",
       "      <td>0.30</td>\n",
       "    </tr>\n",
       "    <tr>\n",
       "      <th>6667</th>\n",
       "      <td>a redditor for 5 months and 6 days... impressi...</td>\n",
       "      <td>1.00</td>\n",
       "      <td>1.00</td>\n",
       "    </tr>\n",
       "    <tr>\n",
       "      <th>458</th>\n",
       "      <td>'we used to be best buddies, and now we're not...</td>\n",
       "      <td>1.00</td>\n",
       "      <td>0.30</td>\n",
       "    </tr>\n",
       "    <tr>\n",
       "      <th>889</th>\n",
       "      <td>i hear the miami version in the best one.</td>\n",
       "      <td>1.00</td>\n",
       "      <td>0.30</td>\n",
       "    </tr>\n",
       "    <tr>\n",
       "      <th>7619</th>\n",
       "      <td>this might backfire. -  - *\"i was really impre...</td>\n",
       "      <td>1.00</td>\n",
       "      <td>1.00</td>\n",
       "    </tr>\n",
       "    <tr>\n",
       "      <th>426</th>\n",
       "      <td>so what you're telling me is that... everythin...</td>\n",
       "      <td>1.00</td>\n",
       "      <td>1.00</td>\n",
       "    </tr>\n",
       "    <tr>\n",
       "      <th>829</th>\n",
       "      <td>pics or you're a 4 at best.</td>\n",
       "      <td>1.00</td>\n",
       "      <td>0.30</td>\n",
       "    </tr>\n",
       "    <tr>\n",
       "      <th>6936</th>\n",
       "      <td>awesome! my condolences to you for having a do...</td>\n",
       "      <td>1.00</td>\n",
       "      <td>1.00</td>\n",
       "    </tr>\n",
       "    <tr>\n",
       "      <th>498</th>\n",
       "      <td>fighting?  if it's this delicious call me a tory</td>\n",
       "      <td>1.00</td>\n",
       "      <td>1.00</td>\n",
       "    </tr>\n",
       "    <tr>\n",
       "      <th>4159</th>\n",
       "      <td>basically, 0% chance of being treatable. in th...</td>\n",
       "      <td>1.00</td>\n",
       "      <td>0.30</td>\n",
       "    </tr>\n",
       "    <tr>\n",
       "      <th>3380</th>\n",
       "      <td>the best way to do this is to bring a sharpie ...</td>\n",
       "      <td>1.00</td>\n",
       "      <td>0.30</td>\n",
       "    </tr>\n",
       "    <tr>\n",
       "      <th>3108</th>\n",
       "      <td>whatever makes you happy man! go for it!</td>\n",
       "      <td>1.00</td>\n",
       "      <td>1.00</td>\n",
       "    </tr>\n",
       "    <tr>\n",
       "      <th>7767</th>\n",
       "      <td>sulu was the best captain.</td>\n",
       "      <td>1.00</td>\n",
       "      <td>0.30</td>\n",
       "    </tr>\n",
       "    <tr>\n",
       "      <th>6423</th>\n",
       "      <td>awesome, i didn't know that, so i just tried i...</td>\n",
       "      <td>1.00</td>\n",
       "      <td>1.00</td>\n",
       "    </tr>\n",
       "    <tr>\n",
       "      <th>7607</th>\n",
       "      <td>anecdotes are the best!</td>\n",
       "      <td>1.00</td>\n",
       "      <td>0.30</td>\n",
       "    </tr>\n",
       "    <tr>\n",
       "      <th>3726</th>\n",
       "      <td>damn. best of luck to you, man!</td>\n",
       "      <td>1.00</td>\n",
       "      <td>0.30</td>\n",
       "    </tr>\n",
       "    <tr>\n",
       "      <th>5963</th>\n",
       "      <td>samoas and tagalongs are the two best</td>\n",
       "      <td>1.00</td>\n",
       "      <td>0.30</td>\n",
       "    </tr>\n",
       "    <tr>\n",
       "      <th>3600</th>\n",
       "      <td>thank you. i will try my best to remember this...</td>\n",
       "      <td>1.00</td>\n",
       "      <td>0.30</td>\n",
       "    </tr>\n",
       "    <tr>\n",
       "      <th>1997</th>\n",
       "      <td>very impressive and educated stand on the issu...</td>\n",
       "      <td>1.00</td>\n",
       "      <td>1.00</td>\n",
       "    </tr>\n",
       "    <tr>\n",
       "      <th>2815</th>\n",
       "      <td>this has to be the best use of this meme ever.</td>\n",
       "      <td>1.00</td>\n",
       "      <td>0.30</td>\n",
       "    </tr>\n",
       "    <tr>\n",
       "      <th>7426</th>\n",
       "      <td>perfect match</td>\n",
       "      <td>1.00</td>\n",
       "      <td>1.00</td>\n",
       "    </tr>\n",
       "    <tr>\n",
       "      <th>...</th>\n",
       "      <td>...</td>\n",
       "      <td>...</td>\n",
       "      <td>...</td>\n",
       "    </tr>\n",
       "    <tr>\n",
       "      <th>6146</th>\n",
       "      <td>what's the best thing about hiv? -  - you can'...</td>\n",
       "      <td>1.00</td>\n",
       "      <td>0.30</td>\n",
       "    </tr>\n",
       "    <tr>\n",
       "      <th>4929</th>\n",
       "      <td>this is the best example and use of confession...</td>\n",
       "      <td>1.00</td>\n",
       "      <td>0.30</td>\n",
       "    </tr>\n",
       "    <tr>\n",
       "      <th>3317</th>\n",
       "      <td>so you want to hinder others and lessen their ...</td>\n",
       "      <td>0.91</td>\n",
       "      <td>1.00</td>\n",
       "    </tr>\n",
       "    <tr>\n",
       "      <th>419</th>\n",
       "      <td>&amp;gt;art shouldn't be a competition it should b...</td>\n",
       "      <td>0.91</td>\n",
       "      <td>0.78</td>\n",
       "    </tr>\n",
       "    <tr>\n",
       "      <th>4550</th>\n",
       "      <td>that's a very good example</td>\n",
       "      <td>0.91</td>\n",
       "      <td>0.78</td>\n",
       "    </tr>\n",
       "    <tr>\n",
       "      <th>3785</th>\n",
       "      <td>very good idea, \"i don't want store credit, i ...</td>\n",
       "      <td>0.91</td>\n",
       "      <td>0.78</td>\n",
       "    </tr>\n",
       "    <tr>\n",
       "      <th>6291</th>\n",
       "      <td>an incredible conclusion to draw</td>\n",
       "      <td>0.90</td>\n",
       "      <td>0.90</td>\n",
       "    </tr>\n",
       "    <tr>\n",
       "      <th>7663</th>\n",
       "      <td>from their perspective, it's brilliant.  they ...</td>\n",
       "      <td>0.90</td>\n",
       "      <td>1.00</td>\n",
       "    </tr>\n",
       "    <tr>\n",
       "      <th>2338</th>\n",
       "      <td>mine did. absolutely. it's an incredible story. -</td>\n",
       "      <td>0.90</td>\n",
       "      <td>0.90</td>\n",
       "    </tr>\n",
       "    <tr>\n",
       "      <th>5033</th>\n",
       "      <td>he did it for the sexual thrill!! the sexual t...</td>\n",
       "      <td>0.88</td>\n",
       "      <td>0.83</td>\n",
       "    </tr>\n",
       "    <tr>\n",
       "      <th>394</th>\n",
       "      <td>damn you flavor buds for making me think chips...</td>\n",
       "      <td>0.88</td>\n",
       "      <td>0.60</td>\n",
       "    </tr>\n",
       "    <tr>\n",
       "      <th>2512</th>\n",
       "      <td>plot twist: she's also the manager and she lik...</td>\n",
       "      <td>0.88</td>\n",
       "      <td>0.60</td>\n",
       "    </tr>\n",
       "    <tr>\n",
       "      <th>3719</th>\n",
       "      <td>post an update. -  - good luck op!</td>\n",
       "      <td>0.88</td>\n",
       "      <td>0.60</td>\n",
       "    </tr>\n",
       "    <tr>\n",
       "      <th>2164</th>\n",
       "      <td>good eye, might!</td>\n",
       "      <td>0.88</td>\n",
       "      <td>0.60</td>\n",
       "    </tr>\n",
       "    <tr>\n",
       "      <th>5396</th>\n",
       "      <td>i like the cut of your jib, good sir!</td>\n",
       "      <td>0.88</td>\n",
       "      <td>0.60</td>\n",
       "    </tr>\n",
       "    <tr>\n",
       "      <th>7664</th>\n",
       "      <td>you **lose**. good day bot!</td>\n",
       "      <td>0.88</td>\n",
       "      <td>0.60</td>\n",
       "    </tr>\n",
       "    <tr>\n",
       "      <th>6210</th>\n",
       "      <td>these people are triumphantly showing the worl...</td>\n",
       "      <td>0.85</td>\n",
       "      <td>1.00</td>\n",
       "    </tr>\n",
       "    <tr>\n",
       "      <th>5965</th>\n",
       "      <td>communism is great until people get involved. ...</td>\n",
       "      <td>0.84</td>\n",
       "      <td>0.68</td>\n",
       "    </tr>\n",
       "    <tr>\n",
       "      <th>3162</th>\n",
       "      <td>you're welcome</td>\n",
       "      <td>0.80</td>\n",
       "      <td>0.90</td>\n",
       "    </tr>\n",
       "    <tr>\n",
       "      <th>6339</th>\n",
       "      <td>yeah lol. plus it makes you so nauseous, idk h...</td>\n",
       "      <td>0.80</td>\n",
       "      <td>0.70</td>\n",
       "    </tr>\n",
       "    <tr>\n",
       "      <th>6800</th>\n",
       "      <td>me too... college is great..</td>\n",
       "      <td>0.80</td>\n",
       "      <td>0.75</td>\n",
       "    </tr>\n",
       "    <tr>\n",
       "      <th>5149</th>\n",
       "      <td>i'll have to see if my strategy will work agai...</td>\n",
       "      <td>0.80</td>\n",
       "      <td>1.00</td>\n",
       "    </tr>\n",
       "    <tr>\n",
       "      <th>975</th>\n",
       "      <td>great analogy.</td>\n",
       "      <td>0.80</td>\n",
       "      <td>0.75</td>\n",
       "    </tr>\n",
       "    <tr>\n",
       "      <th>1653</th>\n",
       "      <td>up the rrrrrim to win.</td>\n",
       "      <td>0.80</td>\n",
       "      <td>0.40</td>\n",
       "    </tr>\n",
       "    <tr>\n",
       "      <th>5668</th>\n",
       "      <td>you must be great at parties.</td>\n",
       "      <td>0.80</td>\n",
       "      <td>0.75</td>\n",
       "    </tr>\n",
       "    <tr>\n",
       "      <th>4143</th>\n",
       "      <td>lol, i don't know anyone who prefers coke over...</td>\n",
       "      <td>0.80</td>\n",
       "      <td>0.70</td>\n",
       "    </tr>\n",
       "    <tr>\n",
       "      <th>2072</th>\n",
       "      <td>yeah, if people could stop bitching about this...</td>\n",
       "      <td>0.80</td>\n",
       "      <td>0.75</td>\n",
       "    </tr>\n",
       "    <tr>\n",
       "      <th>7593</th>\n",
       "      <td>that's like being proud to be an inmate or a c...</td>\n",
       "      <td>0.80</td>\n",
       "      <td>1.00</td>\n",
       "    </tr>\n",
       "    <tr>\n",
       "      <th>2691</th>\n",
       "      <td>op fucking great, you are</td>\n",
       "      <td>0.80</td>\n",
       "      <td>0.75</td>\n",
       "    </tr>\n",
       "    <tr>\n",
       "      <th>2178</th>\n",
       "      <td>sounds like it will have a great life to look ...</td>\n",
       "      <td>0.80</td>\n",
       "      <td>0.75</td>\n",
       "    </tr>\n",
       "  </tbody>\n",
       "</table>\n",
       "<p>78 rows × 3 columns</p>\n",
       "</div>"
      ],
      "text/plain": [
       "                                                   body  sentiment  \\\n",
       "1507  make it so, and ensign, have that delightful d...       1.00   \n",
       "5049    [best i can do](http://i.imgur.com/kyns5ql.gif)       1.00   \n",
       "1448             bucky larson is your roommate? awesome       1.00   \n",
       "5385  i'm hoping you heard this fable from star trek...       1.00   \n",
       "6177  you're an awesome person. the fact that this m...       1.00   \n",
       "2693  (music note) everything is awesome when you're...       1.00   \n",
       "6594                           welcome to the internet!       1.00   \n",
       "4950  you have not seen the things we maintenance wo...       1.00   \n",
       "5463                                     best bot ever.       1.00   \n",
       "299                             its the best lubricant!       1.00   \n",
       "6667  a redditor for 5 months and 6 days... impressi...       1.00   \n",
       "458   'we used to be best buddies, and now we're not...       1.00   \n",
       "889           i hear the miami version in the best one.       1.00   \n",
       "7619  this might backfire. -  - *\"i was really impre...       1.00   \n",
       "426   so what you're telling me is that... everythin...       1.00   \n",
       "829                         pics or you're a 4 at best.       1.00   \n",
       "6936  awesome! my condolences to you for having a do...       1.00   \n",
       "498    fighting?  if it's this delicious call me a tory       1.00   \n",
       "4159  basically, 0% chance of being treatable. in th...       1.00   \n",
       "3380  the best way to do this is to bring a sharpie ...       1.00   \n",
       "3108           whatever makes you happy man! go for it!       1.00   \n",
       "7767                         sulu was the best captain.       1.00   \n",
       "6423  awesome, i didn't know that, so i just tried i...       1.00   \n",
       "7607                            anecdotes are the best!       1.00   \n",
       "3726                    damn. best of luck to you, man!       1.00   \n",
       "5963              samoas and tagalongs are the two best       1.00   \n",
       "3600  thank you. i will try my best to remember this...       1.00   \n",
       "1997  very impressive and educated stand on the issu...       1.00   \n",
       "2815     this has to be the best use of this meme ever.       1.00   \n",
       "7426                                      perfect match       1.00   \n",
       "...                                                 ...        ...   \n",
       "6146  what's the best thing about hiv? -  - you can'...       1.00   \n",
       "4929  this is the best example and use of confession...       1.00   \n",
       "3317  so you want to hinder others and lessen their ...       0.91   \n",
       "419   &gt;art shouldn't be a competition it should b...       0.91   \n",
       "4550                         that's a very good example       0.91   \n",
       "3785  very good idea, \"i don't want store credit, i ...       0.91   \n",
       "6291                   an incredible conclusion to draw       0.90   \n",
       "7663  from their perspective, it's brilliant.  they ...       0.90   \n",
       "2338  mine did. absolutely. it's an incredible story. -       0.90   \n",
       "5033  he did it for the sexual thrill!! the sexual t...       0.88   \n",
       "394   damn you flavor buds for making me think chips...       0.88   \n",
       "2512  plot twist: she's also the manager and she lik...       0.88   \n",
       "3719                 post an update. -  - good luck op!       0.88   \n",
       "2164                                   good eye, might!       0.88   \n",
       "5396              i like the cut of your jib, good sir!       0.88   \n",
       "7664                        you **lose**. good day bot!       0.88   \n",
       "6210  these people are triumphantly showing the worl...       0.85   \n",
       "5965  communism is great until people get involved. ...       0.84   \n",
       "3162                                     you're welcome       0.80   \n",
       "6339  yeah lol. plus it makes you so nauseous, idk h...       0.80   \n",
       "6800                       me too... college is great..       0.80   \n",
       "5149  i'll have to see if my strategy will work agai...       0.80   \n",
       "975                                      great analogy.       0.80   \n",
       "1653                             up the rrrrrim to win.       0.80   \n",
       "5668                      you must be great at parties.       0.80   \n",
       "4143  lol, i don't know anyone who prefers coke over...       0.80   \n",
       "2072  yeah, if people could stop bitching about this...       0.80   \n",
       "7593  that's like being proud to be an inmate or a c...       0.80   \n",
       "2691                          op fucking great, you are       0.80   \n",
       "2178  sounds like it will have a great life to look ...       0.80   \n",
       "\n",
       "      subjectivity  \n",
       "1507          1.00  \n",
       "5049          0.30  \n",
       "1448          1.00  \n",
       "5385          1.00  \n",
       "6177          1.00  \n",
       "2693          1.00  \n",
       "6594          0.90  \n",
       "4950          1.00  \n",
       "5463          0.30  \n",
       "299           0.30  \n",
       "6667          1.00  \n",
       "458           0.30  \n",
       "889           0.30  \n",
       "7619          1.00  \n",
       "426           1.00  \n",
       "829           0.30  \n",
       "6936          1.00  \n",
       "498           1.00  \n",
       "4159          0.30  \n",
       "3380          0.30  \n",
       "3108          1.00  \n",
       "7767          0.30  \n",
       "6423          1.00  \n",
       "7607          0.30  \n",
       "3726          0.30  \n",
       "5963          0.30  \n",
       "3600          0.30  \n",
       "1997          1.00  \n",
       "2815          0.30  \n",
       "7426          1.00  \n",
       "...            ...  \n",
       "6146          0.30  \n",
       "4929          0.30  \n",
       "3317          1.00  \n",
       "419           0.78  \n",
       "4550          0.78  \n",
       "3785          0.78  \n",
       "6291          0.90  \n",
       "7663          1.00  \n",
       "2338          0.90  \n",
       "5033          0.83  \n",
       "394           0.60  \n",
       "2512          0.60  \n",
       "3719          0.60  \n",
       "2164          0.60  \n",
       "5396          0.60  \n",
       "7664          0.60  \n",
       "6210          1.00  \n",
       "5965          0.68  \n",
       "3162          0.90  \n",
       "6339          0.70  \n",
       "6800          0.75  \n",
       "5149          1.00  \n",
       "975           0.75  \n",
       "1653          0.40  \n",
       "5668          0.75  \n",
       "4143          0.70  \n",
       "2072          0.75  \n",
       "7593          1.00  \n",
       "2691          0.75  \n",
       "2178          0.75  \n",
       "\n",
       "[78 rows x 3 columns]"
      ]
     },
     "execution_count": 168,
     "metadata": {},
     "output_type": "execute_result"
    }
   ],
   "source": [
    "top_df"
   ]
  },
  {
   "cell_type": "code",
   "execution_count": 169,
   "metadata": {
    "collapsed": false
   },
   "outputs": [
    {
     "name": "stdout",
     "output_type": "stream",
     "text": [
      "CPU times: user 175 ms, sys: 4.13 ms, total: 179 ms\n",
      "Wall time: 178 ms\n"
     ]
    }
   ],
   "source": [
    "%%time\n",
    "\n",
    "top_text = ''\n",
    "for x in top_df['body']:\n",
    "    top_text += x + ' '\n",
    "\n",
    "top_list = [\n",
    "    w\n",
    "    for w in nltk.word_tokenize(top_text)\n",
    "    if w not in stopwords.words('english') and w not in string.punctuation\n",
    "]"
   ]
  },
  {
   "cell_type": "code",
   "execution_count": 170,
   "metadata": {
    "collapsed": true
   },
   "outputs": [],
   "source": [
    "top_counter = Counter(top_list)"
   ]
  },
  {
   "cell_type": "code",
   "execution_count": 171,
   "metadata": {
    "collapsed": false
   },
   "outputs": [
    {
     "data": {
      "text/plain": [
       "[('best', 21),\n",
       " (\"'s\", 12),\n",
       " ('awesome', 11),\n",
       " ('good', 10),\n",
       " (\"'re\", 9),\n",
       " (\"n't\", 7),\n",
       " ('perfect', 7),\n",
       " ('...', 6),\n",
       " ('great', 6),\n",
       " ('``', 5),\n",
       " (\"''\", 5),\n",
       " ('seen', 4),\n",
       " ('post', 4),\n",
       " ('like', 4),\n",
       " ('ever', 4),\n",
       " ('time', 4),\n",
       " ('people', 4),\n",
       " ('want', 3),\n",
       " ('way', 3),\n",
       " ('man', 3)]"
      ]
     },
     "execution_count": 171,
     "metadata": {},
     "output_type": "execute_result"
    }
   ],
   "source": [
    "top_counter.most_common(20)"
   ]
  },
  {
   "cell_type": "markdown",
   "metadata": {},
   "source": [
    "##### Histogram top negative"
   ]
  },
  {
   "cell_type": "code",
   "execution_count": 175,
   "metadata": {
    "collapsed": true
   },
   "outputs": [],
   "source": [
    "P = 1"
   ]
  },
  {
   "cell_type": "code",
   "execution_count": 176,
   "metadata": {
    "collapsed": false
   },
   "outputs": [],
   "source": [
    "top_df = sentiment_df.sort_values('sentiment', ascending=True)[:len(subreddit_date_df) * P // 100]"
   ]
  },
  {
   "cell_type": "code",
   "execution_count": 177,
   "metadata": {
    "collapsed": false
   },
   "outputs": [
    {
     "data": {
      "text/html": [
       "<div>\n",
       "<table border=\"1\" class=\"dataframe\">\n",
       "  <thead>\n",
       "    <tr style=\"text-align: right;\">\n",
       "      <th></th>\n",
       "      <th>body</th>\n",
       "      <th>sentiment</th>\n",
       "      <th>subjectivity</th>\n",
       "    </tr>\n",
       "  </thead>\n",
       "  <tbody>\n",
       "    <tr>\n",
       "      <th>7570</th>\n",
       "      <td>maybe she's just terrible in bed...</td>\n",
       "      <td>-1.00</td>\n",
       "      <td>1.00</td>\n",
       "    </tr>\n",
       "    <tr>\n",
       "      <th>7122</th>\n",
       "      <td>star trek is the worst at this.</td>\n",
       "      <td>-1.00</td>\n",
       "      <td>1.00</td>\n",
       "    </tr>\n",
       "    <tr>\n",
       "      <th>3796</th>\n",
       "      <td>probably because some people hide the fact tha...</td>\n",
       "      <td>-1.00</td>\n",
       "      <td>1.00</td>\n",
       "    </tr>\n",
       "    <tr>\n",
       "      <th>1924</th>\n",
       "      <td>i think downvoting people and not explaining w...</td>\n",
       "      <td>-1.00</td>\n",
       "      <td>1.00</td>\n",
       "    </tr>\n",
       "    <tr>\n",
       "      <th>3829</th>\n",
       "      <td>i change the channel or leave the room. my wif...</td>\n",
       "      <td>-1.00</td>\n",
       "      <td>1.00</td>\n",
       "    </tr>\n",
       "    <tr>\n",
       "      <th>5946</th>\n",
       "      <td>dae hate faux?!?</td>\n",
       "      <td>-1.00</td>\n",
       "      <td>0.90</td>\n",
       "    </tr>\n",
       "    <tr>\n",
       "      <th>854</th>\n",
       "      <td>itt: people who do this trying to justify thei...</td>\n",
       "      <td>-1.00</td>\n",
       "      <td>1.00</td>\n",
       "    </tr>\n",
       "    <tr>\n",
       "      <th>1527</th>\n",
       "      <td>its being distracted, and as someone whos teac...</td>\n",
       "      <td>-1.00</td>\n",
       "      <td>1.00</td>\n",
       "    </tr>\n",
       "    <tr>\n",
       "      <th>630</th>\n",
       "      <td>fuck!!!!!!!!!!!!!!!!!!!!</td>\n",
       "      <td>-1.00</td>\n",
       "      <td>0.60</td>\n",
       "    </tr>\n",
       "    <tr>\n",
       "      <th>6192</th>\n",
       "      <td>you know not of which you speak. -  - i've liv...</td>\n",
       "      <td>-1.00</td>\n",
       "      <td>1.00</td>\n",
       "    </tr>\n",
       "    <tr>\n",
       "      <th>3517</th>\n",
       "      <td>ugh, that's the worst.</td>\n",
       "      <td>-1.00</td>\n",
       "      <td>1.00</td>\n",
       "    </tr>\n",
       "    <tr>\n",
       "      <th>3874</th>\n",
       "      <td>sounds like a terrible pizzeria if you can't c...</td>\n",
       "      <td>-1.00</td>\n",
       "      <td>1.00</td>\n",
       "    </tr>\n",
       "    <tr>\n",
       "      <th>3672</th>\n",
       "      <td>either this is a terrible troll account or you...</td>\n",
       "      <td>-1.00</td>\n",
       "      <td>1.00</td>\n",
       "    </tr>\n",
       "    <tr>\n",
       "      <th>3911</th>\n",
       "      <td>yes, you are a horrible person</td>\n",
       "      <td>-1.00</td>\n",
       "      <td>1.00</td>\n",
       "    </tr>\n",
       "    <tr>\n",
       "      <th>3061</th>\n",
       "      <td>he wouldn't let us use matlab. not even on our...</td>\n",
       "      <td>-1.00</td>\n",
       "      <td>1.00</td>\n",
       "    </tr>\n",
       "    <tr>\n",
       "      <th>3503</th>\n",
       "      <td>it's called freak'n \"expression of emotions\".....</td>\n",
       "      <td>-1.00</td>\n",
       "      <td>0.69</td>\n",
       "    </tr>\n",
       "    <tr>\n",
       "      <th>7506</th>\n",
       "      <td>i'll give you one. -  - i have horrible anxiet...</td>\n",
       "      <td>-1.00</td>\n",
       "      <td>1.00</td>\n",
       "    </tr>\n",
       "    <tr>\n",
       "      <th>6459</th>\n",
       "      <td>that hurts my feelings :'(</td>\n",
       "      <td>-1.00</td>\n",
       "      <td>1.00</td>\n",
       "    </tr>\n",
       "    <tr>\n",
       "      <th>6321</th>\n",
       "      <td>thats fucking disgusting.</td>\n",
       "      <td>-1.00</td>\n",
       "      <td>1.00</td>\n",
       "    </tr>\n",
       "    <tr>\n",
       "      <th>6510</th>\n",
       "      <td>so does all the worst ones.</td>\n",
       "      <td>-1.00</td>\n",
       "      <td>1.00</td>\n",
       "    </tr>\n",
       "    <tr>\n",
       "      <th>4486</th>\n",
       "      <td>the worst is when you go to readjust your glas...</td>\n",
       "      <td>-1.00</td>\n",
       "      <td>1.00</td>\n",
       "    </tr>\n",
       "    <tr>\n",
       "      <th>7185</th>\n",
       "      <td>you get a baby and not just any baby, it's a r...</td>\n",
       "      <td>-0.90</td>\n",
       "      <td>1.00</td>\n",
       "    </tr>\n",
       "    <tr>\n",
       "      <th>6310</th>\n",
       "      <td>i hated that feel.</td>\n",
       "      <td>-0.90</td>\n",
       "      <td>0.70</td>\n",
       "    </tr>\n",
       "    <tr>\n",
       "      <th>2530</th>\n",
       "      <td>even though saddam hated osama</td>\n",
       "      <td>-0.90</td>\n",
       "      <td>0.70</td>\n",
       "    </tr>\n",
       "    <tr>\n",
       "      <th>3157</th>\n",
       "      <td>sheriff john brown had always hated bob, he di...</td>\n",
       "      <td>-0.90</td>\n",
       "      <td>0.70</td>\n",
       "    </tr>\n",
       "    <tr>\n",
       "      <th>5303</th>\n",
       "      <td>you, you are not an idiot, you fooled us all, ...</td>\n",
       "      <td>-0.90</td>\n",
       "      <td>0.90</td>\n",
       "    </tr>\n",
       "    <tr>\n",
       "      <th>1837</th>\n",
       "      <td>all my friends hated me for this, but i still ...</td>\n",
       "      <td>-0.90</td>\n",
       "      <td>0.70</td>\n",
       "    </tr>\n",
       "    <tr>\n",
       "      <th>347</th>\n",
       "      <td>took a break from xposting one to r/cringepics...</td>\n",
       "      <td>-0.90</td>\n",
       "      <td>0.70</td>\n",
       "    </tr>\n",
       "    <tr>\n",
       "      <th>4353</th>\n",
       "      <td>tumblr the place of hate for all</td>\n",
       "      <td>-0.80</td>\n",
       "      <td>0.90</td>\n",
       "    </tr>\n",
       "    <tr>\n",
       "      <th>5485</th>\n",
       "      <td>i still pick up my 10yo's crap all the time. i...</td>\n",
       "      <td>-0.80</td>\n",
       "      <td>0.80</td>\n",
       "    </tr>\n",
       "    <tr>\n",
       "      <th>...</th>\n",
       "      <td>...</td>\n",
       "      <td>...</td>\n",
       "      <td>...</td>\n",
       "    </tr>\n",
       "    <tr>\n",
       "      <th>4476</th>\n",
       "      <td>that is one doubtful husky</td>\n",
       "      <td>-0.80</td>\n",
       "      <td>0.90</td>\n",
       "    </tr>\n",
       "    <tr>\n",
       "      <th>1094</th>\n",
       "      <td>web advertiser here. just dropping in to say i...</td>\n",
       "      <td>-0.80</td>\n",
       "      <td>0.90</td>\n",
       "    </tr>\n",
       "    <tr>\n",
       "      <th>5019</th>\n",
       "      <td>america is just one of the prettiest girls at ...</td>\n",
       "      <td>-0.80</td>\n",
       "      <td>0.90</td>\n",
       "    </tr>\n",
       "    <tr>\n",
       "      <th>2326</th>\n",
       "      <td>oh, for some reason i didn't realize what you ...</td>\n",
       "      <td>-0.80</td>\n",
       "      <td>0.80</td>\n",
       "    </tr>\n",
       "    <tr>\n",
       "      <th>1034</th>\n",
       "      <td>it was an analogy. one you are too stupid to m...</td>\n",
       "      <td>-0.80</td>\n",
       "      <td>1.00</td>\n",
       "    </tr>\n",
       "    <tr>\n",
       "      <th>6042</th>\n",
       "      <td>stupid</td>\n",
       "      <td>-0.80</td>\n",
       "      <td>1.00</td>\n",
       "    </tr>\n",
       "    <tr>\n",
       "      <th>1189</th>\n",
       "      <td>is that one of the stupid mustache tattoos on ...</td>\n",
       "      <td>-0.80</td>\n",
       "      <td>1.00</td>\n",
       "    </tr>\n",
       "    <tr>\n",
       "      <th>4537</th>\n",
       "      <td>holes in his drywall, and the word \"stupid\" ec...</td>\n",
       "      <td>-0.80</td>\n",
       "      <td>1.00</td>\n",
       "    </tr>\n",
       "    <tr>\n",
       "      <th>2516</th>\n",
       "      <td>the stupid, it burns</td>\n",
       "      <td>-0.80</td>\n",
       "      <td>1.00</td>\n",
       "    </tr>\n",
       "    <tr>\n",
       "      <th>1982</th>\n",
       "      <td>never said you were stupid, so stop projecting...</td>\n",
       "      <td>-0.80</td>\n",
       "      <td>1.00</td>\n",
       "    </tr>\n",
       "    <tr>\n",
       "      <th>4279</th>\n",
       "      <td>i think you're fucking stupid.</td>\n",
       "      <td>-0.80</td>\n",
       "      <td>1.00</td>\n",
       "    </tr>\n",
       "    <tr>\n",
       "      <th>3435</th>\n",
       "      <td>i wish stupid hurt.</td>\n",
       "      <td>-0.80</td>\n",
       "      <td>1.00</td>\n",
       "    </tr>\n",
       "    <tr>\n",
       "      <th>5408</th>\n",
       "      <td>they punish you because you are involved in a ...</td>\n",
       "      <td>-0.80</td>\n",
       "      <td>1.00</td>\n",
       "    </tr>\n",
       "    <tr>\n",
       "      <th>3654</th>\n",
       "      <td>thank you. i shall be doing that if she calls ...</td>\n",
       "      <td>-0.80</td>\n",
       "      <td>1.00</td>\n",
       "    </tr>\n",
       "    <tr>\n",
       "      <th>722</th>\n",
       "      <td>and what, you never ask for help from classmat...</td>\n",
       "      <td>-0.80</td>\n",
       "      <td>1.00</td>\n",
       "    </tr>\n",
       "    <tr>\n",
       "      <th>2047</th>\n",
       "      <td>it isn't that bad as movie in it self. but as ...</td>\n",
       "      <td>-0.80</td>\n",
       "      <td>0.78</td>\n",
       "    </tr>\n",
       "    <tr>\n",
       "      <th>154</th>\n",
       "      <td>that was so very very cold.</td>\n",
       "      <td>-0.78</td>\n",
       "      <td>1.00</td>\n",
       "    </tr>\n",
       "    <tr>\n",
       "      <th>6325</th>\n",
       "      <td>it's getting chilly from all the *whoosh!* goi...</td>\n",
       "      <td>-0.75</td>\n",
       "      <td>0.90</td>\n",
       "    </tr>\n",
       "    <tr>\n",
       "      <th>1531</th>\n",
       "      <td>even the klingon is disappointed</td>\n",
       "      <td>-0.75</td>\n",
       "      <td>0.75</td>\n",
       "    </tr>\n",
       "    <tr>\n",
       "      <th>6982</th>\n",
       "      <td>are you fucking kidding me? why are they even ...</td>\n",
       "      <td>-0.75</td>\n",
       "      <td>0.80</td>\n",
       "    </tr>\n",
       "    <tr>\n",
       "      <th>5326</th>\n",
       "      <td>but...he hates shatner. he hates fucking cptn ...</td>\n",
       "      <td>-0.75</td>\n",
       "      <td>0.80</td>\n",
       "    </tr>\n",
       "    <tr>\n",
       "      <th>1103</th>\n",
       "      <td>judging by the comments to you, that's star tr...</td>\n",
       "      <td>-0.75</td>\n",
       "      <td>1.00</td>\n",
       "    </tr>\n",
       "    <tr>\n",
       "      <th>1814</th>\n",
       "      <td>story of my life :(</td>\n",
       "      <td>-0.75</td>\n",
       "      <td>1.00</td>\n",
       "    </tr>\n",
       "    <tr>\n",
       "      <th>1931</th>\n",
       "      <td>so i had to. wtf why is that called a fish. op...</td>\n",
       "      <td>-0.75</td>\n",
       "      <td>0.80</td>\n",
       "    </tr>\n",
       "    <tr>\n",
       "      <th>4703</th>\n",
       "      <td>if you're bored then you're boring</td>\n",
       "      <td>-0.75</td>\n",
       "      <td>1.00</td>\n",
       "    </tr>\n",
       "    <tr>\n",
       "      <th>7299</th>\n",
       "      <td>i put in my zip code in their store finder...b...</td>\n",
       "      <td>-0.75</td>\n",
       "      <td>1.00</td>\n",
       "    </tr>\n",
       "    <tr>\n",
       "      <th>7793</th>\n",
       "      <td>rip op :(</td>\n",
       "      <td>-0.75</td>\n",
       "      <td>1.00</td>\n",
       "    </tr>\n",
       "    <tr>\n",
       "      <th>215</th>\n",
       "      <td>:(</td>\n",
       "      <td>-0.75</td>\n",
       "      <td>1.00</td>\n",
       "    </tr>\n",
       "    <tr>\n",
       "      <th>4104</th>\n",
       "      <td>i can see some sick fucker getting off to that</td>\n",
       "      <td>-0.71</td>\n",
       "      <td>0.86</td>\n",
       "    </tr>\n",
       "    <tr>\n",
       "      <th>3886</th>\n",
       "      <td>krankenwagen!!! -  - literally means \"sick car...</td>\n",
       "      <td>-0.71</td>\n",
       "      <td>0.86</td>\n",
       "    </tr>\n",
       "  </tbody>\n",
       "</table>\n",
       "<p>78 rows × 3 columns</p>\n",
       "</div>"
      ],
      "text/plain": [
       "                                                   body  sentiment  \\\n",
       "7570                maybe she's just terrible in bed...      -1.00   \n",
       "7122                    star trek is the worst at this.      -1.00   \n",
       "3796  probably because some people hide the fact tha...      -1.00   \n",
       "1924  i think downvoting people and not explaining w...      -1.00   \n",
       "3829  i change the channel or leave the room. my wif...      -1.00   \n",
       "5946                                   dae hate faux?!?      -1.00   \n",
       "854   itt: people who do this trying to justify thei...      -1.00   \n",
       "1527  its being distracted, and as someone whos teac...      -1.00   \n",
       "630                            fuck!!!!!!!!!!!!!!!!!!!!      -1.00   \n",
       "6192  you know not of which you speak. -  - i've liv...      -1.00   \n",
       "3517                             ugh, that's the worst.      -1.00   \n",
       "3874  sounds like a terrible pizzeria if you can't c...      -1.00   \n",
       "3672  either this is a terrible troll account or you...      -1.00   \n",
       "3911                     yes, you are a horrible person      -1.00   \n",
       "3061  he wouldn't let us use matlab. not even on our...      -1.00   \n",
       "3503  it's called freak'n \"expression of emotions\".....      -1.00   \n",
       "7506  i'll give you one. -  - i have horrible anxiet...      -1.00   \n",
       "6459                         that hurts my feelings :'(      -1.00   \n",
       "6321                          thats fucking disgusting.      -1.00   \n",
       "6510                        so does all the worst ones.      -1.00   \n",
       "4486  the worst is when you go to readjust your glas...      -1.00   \n",
       "7185  you get a baby and not just any baby, it's a r...      -0.90   \n",
       "6310                                 i hated that feel.      -0.90   \n",
       "2530                     even though saddam hated osama      -0.90   \n",
       "3157  sheriff john brown had always hated bob, he di...      -0.90   \n",
       "5303  you, you are not an idiot, you fooled us all, ...      -0.90   \n",
       "1837  all my friends hated me for this, but i still ...      -0.90   \n",
       "347   took a break from xposting one to r/cringepics...      -0.90   \n",
       "4353                   tumblr the place of hate for all      -0.80   \n",
       "5485  i still pick up my 10yo's crap all the time. i...      -0.80   \n",
       "...                                                 ...        ...   \n",
       "4476                         that is one doubtful husky      -0.80   \n",
       "1094  web advertiser here. just dropping in to say i...      -0.80   \n",
       "5019  america is just one of the prettiest girls at ...      -0.80   \n",
       "2326  oh, for some reason i didn't realize what you ...      -0.80   \n",
       "1034  it was an analogy. one you are too stupid to m...      -0.80   \n",
       "6042                                             stupid      -0.80   \n",
       "1189  is that one of the stupid mustache tattoos on ...      -0.80   \n",
       "4537  holes in his drywall, and the word \"stupid\" ec...      -0.80   \n",
       "2516                               the stupid, it burns      -0.80   \n",
       "1982  never said you were stupid, so stop projecting...      -0.80   \n",
       "4279                     i think you're fucking stupid.      -0.80   \n",
       "3435                                i wish stupid hurt.      -0.80   \n",
       "5408  they punish you because you are involved in a ...      -0.80   \n",
       "3654  thank you. i shall be doing that if she calls ...      -0.80   \n",
       "722   and what, you never ask for help from classmat...      -0.80   \n",
       "2047  it isn't that bad as movie in it self. but as ...      -0.80   \n",
       "154                         that was so very very cold.      -0.78   \n",
       "6325  it's getting chilly from all the *whoosh!* goi...      -0.75   \n",
       "1531                   even the klingon is disappointed      -0.75   \n",
       "6982  are you fucking kidding me? why are they even ...      -0.75   \n",
       "5326  but...he hates shatner. he hates fucking cptn ...      -0.75   \n",
       "1103  judging by the comments to you, that's star tr...      -0.75   \n",
       "1814                                story of my life :(      -0.75   \n",
       "1931  so i had to. wtf why is that called a fish. op...      -0.75   \n",
       "4703                 if you're bored then you're boring      -0.75   \n",
       "7299  i put in my zip code in their store finder...b...      -0.75   \n",
       "7793                                          rip op :(      -0.75   \n",
       "215                                                  :(      -0.75   \n",
       "4104     i can see some sick fucker getting off to that      -0.71   \n",
       "3886  krankenwagen!!! -  - literally means \"sick car...      -0.71   \n",
       "\n",
       "      subjectivity  \n",
       "7570          1.00  \n",
       "7122          1.00  \n",
       "3796          1.00  \n",
       "1924          1.00  \n",
       "3829          1.00  \n",
       "5946          0.90  \n",
       "854           1.00  \n",
       "1527          1.00  \n",
       "630           0.60  \n",
       "6192          1.00  \n",
       "3517          1.00  \n",
       "3874          1.00  \n",
       "3672          1.00  \n",
       "3911          1.00  \n",
       "3061          1.00  \n",
       "3503          0.69  \n",
       "7506          1.00  \n",
       "6459          1.00  \n",
       "6321          1.00  \n",
       "6510          1.00  \n",
       "4486          1.00  \n",
       "7185          1.00  \n",
       "6310          0.70  \n",
       "2530          0.70  \n",
       "3157          0.70  \n",
       "5303          0.90  \n",
       "1837          0.70  \n",
       "347           0.70  \n",
       "4353          0.90  \n",
       "5485          0.80  \n",
       "...            ...  \n",
       "4476          0.90  \n",
       "1094          0.90  \n",
       "5019          0.90  \n",
       "2326          0.80  \n",
       "1034          1.00  \n",
       "6042          1.00  \n",
       "1189          1.00  \n",
       "4537          1.00  \n",
       "2516          1.00  \n",
       "1982          1.00  \n",
       "4279          1.00  \n",
       "3435          1.00  \n",
       "5408          1.00  \n",
       "3654          1.00  \n",
       "722           1.00  \n",
       "2047          0.78  \n",
       "154           1.00  \n",
       "6325          0.90  \n",
       "1531          0.75  \n",
       "6982          0.80  \n",
       "5326          0.80  \n",
       "1103          1.00  \n",
       "1814          1.00  \n",
       "1931          0.80  \n",
       "4703          1.00  \n",
       "7299          1.00  \n",
       "7793          1.00  \n",
       "215           1.00  \n",
       "4104          0.86  \n",
       "3886          0.86  \n",
       "\n",
       "[78 rows x 3 columns]"
      ]
     },
     "execution_count": 177,
     "metadata": {},
     "output_type": "execute_result"
    }
   ],
   "source": [
    "top_df"
   ]
  },
  {
   "cell_type": "code",
   "execution_count": 178,
   "metadata": {
    "collapsed": false
   },
   "outputs": [
    {
     "name": "stdout",
     "output_type": "stream",
     "text": [
      "CPU times: user 206 ms, sys: 8.39 ms, total: 214 ms\n",
      "Wall time: 212 ms\n"
     ]
    }
   ],
   "source": [
    "%%time\n",
    "\n",
    "top_text = ''\n",
    "for x in top_df['body']:\n",
    "    top_text += x + ' '\n",
    "\n",
    "top_list = [\n",
    "    w\n",
    "    for w in nltk.word_tokenize(top_text)\n",
    "    if w not in stopwords.words('english') and w not in string.punctuation\n",
    "]"
   ]
  },
  {
   "cell_type": "code",
   "execution_count": 179,
   "metadata": {
    "collapsed": true
   },
   "outputs": [],
   "source": [
    "top_counter = Counter(top_list)"
   ]
  },
  {
   "cell_type": "code",
   "execution_count": 180,
   "metadata": {
    "collapsed": false
   },
   "outputs": [
    {
     "data": {
      "text/plain": [
       "[(\"n't\", 14),\n",
       " (\"'s\", 14),\n",
       " ('stupid', 11),\n",
       " ('hate', 11),\n",
       " ('idiot', 10),\n",
       " (\"''\", 9),\n",
       " ('get', 8),\n",
       " ('even', 8),\n",
       " ('one', 8),\n",
       " ('...', 8),\n",
       " (\"'m\", 7),\n",
       " ('``', 7),\n",
       " (\"'re\", 6),\n",
       " ('terrible', 5),\n",
       " ('fucking', 5),\n",
       " ('know', 5),\n",
       " ('worst', 4),\n",
       " ('think', 4),\n",
       " ('hated', 4),\n",
       " ('people', 4)]"
      ]
     },
     "execution_count": 180,
     "metadata": {},
     "output_type": "execute_result"
    }
   ],
   "source": [
    "top_counter.most_common(20)"
   ]
  },
  {
   "cell_type": "markdown",
   "metadata": {},
   "source": [
    "## startrek"
   ]
  },
  {
   "cell_type": "code",
   "execution_count": 14,
   "metadata": {
    "collapsed": true
   },
   "outputs": [],
   "source": [
    "subreddit = 'startrek'\n",
    "\n",
    "peaks = ['2009-05-01', '2012-12-01', '2013-05-01', '2016-07-01',]\n",
    "peaks = list(map(pd.lib.Timestamp, peaks))\n",
    "\n",
    "title = 'Number of comments on subreddit \\'' + subreddit + '\\' by month'"
   ]
  },
  {
   "cell_type": "code",
   "execution_count": 15,
   "metadata": {
    "collapsed": false
   },
   "outputs": [
    {
     "name": "stdout",
     "output_type": "stream",
     "text": [
      "CPU times: user 288 ms, sys: 104 ms, total: 392 ms\n",
      "Wall time: 390 ms\n"
     ]
    }
   ],
   "source": [
    "%%time\n",
    "\n",
    "subreddit_df = reddit_df[reddit_df['subreddit'] == subreddit]"
   ]
  },
  {
   "cell_type": "code",
   "execution_count": 16,
   "metadata": {
    "collapsed": false
   },
   "outputs": [
    {
     "data": {
      "text/plain": [
       "182534"
      ]
     },
     "execution_count": 16,
     "metadata": {},
     "output_type": "execute_result"
    }
   ],
   "source": [
    "len(subreddit_df)"
   ]
  },
  {
   "cell_type": "code",
   "execution_count": 17,
   "metadata": {
    "collapsed": true
   },
   "outputs": [],
   "source": [
    "subreddit_by_month = pd.Series(subreddit_df.groupby('month')['id'].count())\n",
    "subreddit_by_month.index.name = None"
   ]
  },
  {
   "cell_type": "code",
   "execution_count": 18,
   "metadata": {
    "collapsed": false
   },
   "outputs": [],
   "source": [
    "show_dates = [x.strftime('%Y %b') if x in peaks else '' for x in valid_dates]"
   ]
  },
  {
   "cell_type": "code",
   "execution_count": 19,
   "metadata": {
    "collapsed": false
   },
   "outputs": [
    {
     "data": {
      "image/png": "[encoded data removed]",
      "text/plain": [
       "<matplotlib.figure.Figure at 0x7f225f78a780>"
      ]
     },
     "metadata": {},
     "output_type": "display_data"
    }
   ],
   "source": [
    "ax = subreddit_by_month.plot(\n",
    "    figsize=(10, 5),\n",
    "    xlim=('2007-10-01', '2016-08-31'),\n",
    "    xticks=valid_dates,\n",
    "    rot=60,\n",
    "    title=title,\n",
    ")\n",
    "ax.set_xticklabels(show_dates);"
   ]
  },
  {
   "cell_type": "markdown",
   "metadata": {},
   "source": [
    "### Sentiment analysis"
   ]
  },
  {
   "cell_type": "markdown",
   "metadata": {},
   "source": [
    "- The polarity score is a float within the range [-1.0, 1.0].\n",
    "- The subjectivity is a float within the range [0.0, 1.0] where 0.0 is very objective and 1.0 is very subjective."
   ]
  },
  {
   "cell_type": "code",
   "execution_count": 20,
   "metadata": {
    "collapsed": false
   },
   "outputs": [
    {
     "data": {
      "text/plain": [
       "[Timestamp('2009-05-01 00:00:00'),\n",
       " Timestamp('2012-12-01 00:00:00'),\n",
       " Timestamp('2013-05-01 00:00:00'),\n",
       " Timestamp('2016-07-01 00:00:00')]"
      ]
     },
     "execution_count": 20,
     "metadata": {},
     "output_type": "execute_result"
    }
   ],
   "source": [
    "peaks"
   ]
  },
  {
   "cell_type": "markdown",
   "metadata": {},
   "source": [
    "#### 2012-12-01"
   ]
  },
  {
   "cell_type": "code",
   "execution_count": 21,
   "metadata": {
    "collapsed": false
   },
   "outputs": [],
   "source": [
    "date = '2012-12-01'"
   ]
  },
  {
   "cell_type": "code",
   "execution_count": 22,
   "metadata": {
    "collapsed": false
   },
   "outputs": [],
   "source": [
    "subreddit_date_df = subreddit_df[subreddit_df['month'] == date]"
   ]
  },
  {
   "cell_type": "code",
   "execution_count": 23,
   "metadata": {
    "collapsed": false
   },
   "outputs": [
    {
     "data": {
      "text/plain": [
       "4250"
      ]
     },
     "execution_count": 23,
     "metadata": {},
     "output_type": "execute_result"
    }
   ],
   "source": [
    "len(subreddit_date_df)"
   ]
  },
  {
   "cell_type": "code",
   "execution_count": 24,
   "metadata": {
    "collapsed": false
   },
   "outputs": [
    {
     "name": "stdout",
     "output_type": "stream",
     "text": [
      "CPU times: user 2.93 s, sys: 16.1 ms, total: 2.94 s\n",
      "Wall time: 2.94 s\n"
     ]
    }
   ],
   "source": [
    "%%time\n",
    "\n",
    "sentiment_list = []\n",
    "for x in subreddit_date_df['body']:\n",
    "    tb = TextBlob(x)\n",
    "    sentiment_list.append((x, tb.sentiment.polarity, tb.sentiment.subjectivity))"
   ]
  },
  {
   "cell_type": "code",
   "execution_count": 25,
   "metadata": {
    "collapsed": false
   },
   "outputs": [],
   "source": [
    "sentiment_df = pd.DataFrame(sentiment_list, columns=['body', 'sentiment', 'subjectivity'])"
   ]
  },
  {
   "cell_type": "code",
   "execution_count": 26,
   "metadata": {
    "collapsed": false
   },
   "outputs": [
    {
     "data": {
      "text/html": [
       "<div>\n",
       "<table border=\"1\" class=\"dataframe\">\n",
       "  <thead>\n",
       "    <tr style=\"text-align: right;\">\n",
       "      <th></th>\n",
       "      <th>body</th>\n",
       "      <th>sentiment</th>\n",
       "      <th>subjectivity</th>\n",
       "    </tr>\n",
       "  </thead>\n",
       "  <tbody>\n",
       "    <tr>\n",
       "      <th>0</th>\n",
       "      <td>not when the motto of all klingon comics is: \"...</td>\n",
       "      <td>0.70</td>\n",
       "      <td>0.60</td>\n",
       "    </tr>\n",
       "    <tr>\n",
       "      <th>1</th>\n",
       "      <td>sulu didn't have a japanese accent.  he's from...</td>\n",
       "      <td>0.00</td>\n",
       "      <td>0.00</td>\n",
       "    </tr>\n",
       "    <tr>\n",
       "      <th>2</th>\n",
       "      <td>i've always been a fan of the \"everything in l...</td>\n",
       "      <td>0.17</td>\n",
       "      <td>0.35</td>\n",
       "    </tr>\n",
       "    <tr>\n",
       "      <th>3</th>\n",
       "      <td>uber star wars fan here.... i would love to ha...</td>\n",
       "      <td>0.62</td>\n",
       "      <td>0.60</td>\n",
       "    </tr>\n",
       "    <tr>\n",
       "      <th>4</th>\n",
       "      <td>how could you forget klingon academy</td>\n",
       "      <td>0.00</td>\n",
       "      <td>0.00</td>\n",
       "    </tr>\n",
       "  </tbody>\n",
       "</table>\n",
       "</div>"
      ],
      "text/plain": [
       "                                                body  sentiment  subjectivity\n",
       "0  not when the motto of all klingon comics is: \"...       0.70          0.60\n",
       "1  sulu didn't have a japanese accent.  he's from...       0.00          0.00\n",
       "2  i've always been a fan of the \"everything in l...       0.17          0.35\n",
       "3  uber star wars fan here.... i would love to ha...       0.62          0.60\n",
       "4               how could you forget klingon academy       0.00          0.00"
      ]
     },
     "execution_count": 26,
     "metadata": {},
     "output_type": "execute_result"
    }
   ],
   "source": [
    "sentiment_df.head()"
   ]
  },
  {
   "cell_type": "code",
   "execution_count": 27,
   "metadata": {
    "collapsed": false
   },
   "outputs": [
    {
     "data": {
      "text/plain": [
       "0.10905434748800666"
      ]
     },
     "execution_count": 27,
     "metadata": {},
     "output_type": "execute_result"
    }
   ],
   "source": [
    "sentiment_df['sentiment'].mean()"
   ]
  },
  {
   "cell_type": "code",
   "execution_count": 28,
   "metadata": {
    "collapsed": false
   },
   "outputs": [
    {
     "data": {
      "text/plain": [
       "0.22151434367769657"
      ]
     },
     "execution_count": 28,
     "metadata": {},
     "output_type": "execute_result"
    }
   ],
   "source": [
    "sentiment_df['sentiment'].std()"
   ]
  },
  {
   "cell_type": "code",
   "execution_count": 29,
   "metadata": {
    "collapsed": false
   },
   "outputs": [
    {
     "data": {
      "text/plain": [
       "0.45640362011347496"
      ]
     },
     "execution_count": 29,
     "metadata": {},
     "output_type": "execute_result"
    }
   ],
   "source": [
    "sentiment_df['subjectivity'].mean()"
   ]
  },
  {
   "cell_type": "code",
   "execution_count": 30,
   "metadata": {
    "collapsed": false
   },
   "outputs": [
    {
     "data": {
      "text/plain": [
       "0.23485023480906297"
      ]
     },
     "execution_count": 30,
     "metadata": {},
     "output_type": "execute_result"
    }
   ],
   "source": [
    "sentiment_df['subjectivity'].std()"
   ]
  },
  {
   "cell_type": "markdown",
   "metadata": {},
   "source": [
    "#### 2013-05-01"
   ]
  },
  {
   "cell_type": "code",
   "execution_count": 31,
   "metadata": {
    "collapsed": false
   },
   "outputs": [],
   "source": [
    "date = '2013-05-01'"
   ]
  },
  {
   "cell_type": "code",
   "execution_count": 32,
   "metadata": {
    "collapsed": false
   },
   "outputs": [],
   "source": [
    "subreddit_date_df = subreddit_df[subreddit_df['month'] == date]"
   ]
  },
  {
   "cell_type": "code",
   "execution_count": 33,
   "metadata": {
    "collapsed": false
   },
   "outputs": [
    {
     "data": {
      "text/plain": [
       "6886"
      ]
     },
     "execution_count": 33,
     "metadata": {},
     "output_type": "execute_result"
    }
   ],
   "source": [
    "len(subreddit_date_df)"
   ]
  },
  {
   "cell_type": "code",
   "execution_count": 34,
   "metadata": {
    "collapsed": false
   },
   "outputs": [
    {
     "name": "stdout",
     "output_type": "stream",
     "text": [
      "CPU times: user 4.69 s, sys: 0 ns, total: 4.69 s\n",
      "Wall time: 4.68 s\n"
     ]
    }
   ],
   "source": [
    "%%time\n",
    "\n",
    "sentiment_list = []\n",
    "for x in subreddit_date_df['body']:\n",
    "    tb = TextBlob(x)\n",
    "    sentiment_list.append((x, tb.sentiment.polarity, tb.sentiment.subjectivity))"
   ]
  },
  {
   "cell_type": "code",
   "execution_count": 35,
   "metadata": {
    "collapsed": false
   },
   "outputs": [],
   "source": [
    "sentiment_df = pd.DataFrame(sentiment_list, columns=['body', 'sentiment', 'subjectivity'])"
   ]
  },
  {
   "cell_type": "code",
   "execution_count": 36,
   "metadata": {
    "collapsed": false
   },
   "outputs": [
    {
     "data": {
      "text/html": [
       "<div>\n",
       "<table border=\"1\" class=\"dataframe\">\n",
       "  <thead>\n",
       "    <tr style=\"text-align: right;\">\n",
       "      <th></th>\n",
       "      <th>body</th>\n",
       "      <th>sentiment</th>\n",
       "      <th>subjectivity</th>\n",
       "    </tr>\n",
       "  </thead>\n",
       "  <tbody>\n",
       "    <tr>\n",
       "      <th>0</th>\n",
       "      <td>holy moire, kirk!</td>\n",
       "      <td>0.00</td>\n",
       "      <td>0.00</td>\n",
       "    </tr>\n",
       "    <tr>\n",
       "      <th>1</th>\n",
       "      <td>abrams' movie is easily one of the best trek m...</td>\n",
       "      <td>0.61</td>\n",
       "      <td>0.61</td>\n",
       "    </tr>\n",
       "    <tr>\n",
       "      <th>2</th>\n",
       "      <td>guys guys guys, new star trek is good. old (tn...</td>\n",
       "      <td>0.21</td>\n",
       "      <td>0.30</td>\n",
       "    </tr>\n",
       "    <tr>\n",
       "      <th>3</th>\n",
       "      <td>eh, there's some good one-off ones. i really l...</td>\n",
       "      <td>0.40</td>\n",
       "      <td>0.61</td>\n",
       "    </tr>\n",
       "    <tr>\n",
       "      <th>4</th>\n",
       "      <td>i don't think he's \"overacting\", at least as f...</td>\n",
       "      <td>-0.02</td>\n",
       "      <td>0.48</td>\n",
       "    </tr>\n",
       "  </tbody>\n",
       "</table>\n",
       "</div>"
      ],
      "text/plain": [
       "                                                body  sentiment  subjectivity\n",
       "0                                  holy moire, kirk!       0.00          0.00\n",
       "1  abrams' movie is easily one of the best trek m...       0.61          0.61\n",
       "2  guys guys guys, new star trek is good. old (tn...       0.21          0.30\n",
       "3  eh, there's some good one-off ones. i really l...       0.40          0.61\n",
       "4  i don't think he's \"overacting\", at least as f...      -0.02          0.48"
      ]
     },
     "execution_count": 36,
     "metadata": {},
     "output_type": "execute_result"
    }
   ],
   "source": [
    "sentiment_df.head()"
   ]
  },
  {
   "cell_type": "code",
   "execution_count": 37,
   "metadata": {
    "collapsed": false
   },
   "outputs": [
    {
     "data": {
      "text/plain": [
       "0.11140917678554957"
      ]
     },
     "execution_count": 37,
     "metadata": {},
     "output_type": "execute_result"
    }
   ],
   "source": [
    "sentiment_df['sentiment'].mean()"
   ]
  },
  {
   "cell_type": "code",
   "execution_count": 38,
   "metadata": {
    "collapsed": false
   },
   "outputs": [
    {
     "data": {
      "text/plain": [
       "0.2179435356519433"
      ]
     },
     "execution_count": 38,
     "metadata": {},
     "output_type": "execute_result"
    }
   ],
   "source": [
    "sentiment_df['sentiment'].std()"
   ]
  },
  {
   "cell_type": "code",
   "execution_count": 39,
   "metadata": {
    "collapsed": false
   },
   "outputs": [
    {
     "data": {
      "text/plain": [
       "0.46197876374164276"
      ]
     },
     "execution_count": 39,
     "metadata": {},
     "output_type": "execute_result"
    }
   ],
   "source": [
    "sentiment_df['subjectivity'].mean()"
   ]
  },
  {
   "cell_type": "code",
   "execution_count": 40,
   "metadata": {
    "collapsed": false
   },
   "outputs": [
    {
     "data": {
      "text/plain": [
       "0.22817620986639806"
      ]
     },
     "execution_count": 40,
     "metadata": {},
     "output_type": "execute_result"
    }
   ],
   "source": [
    "sentiment_df['subjectivity'].std()"
   ]
  },
  {
   "cell_type": "markdown",
   "metadata": {},
   "source": [
    "#### 2016-07-01"
   ]
  },
  {
   "cell_type": "code",
   "execution_count": 41,
   "metadata": {
    "collapsed": false
   },
   "outputs": [],
   "source": [
    "date = '2016-07-01'"
   ]
  },
  {
   "cell_type": "code",
   "execution_count": 42,
   "metadata": {
    "collapsed": false
   },
   "outputs": [],
   "source": [
    "subreddit_date_df = subreddit_df[subreddit_df['month'] == date]"
   ]
  },
  {
   "cell_type": "code",
   "execution_count": 43,
   "metadata": {
    "collapsed": false
   },
   "outputs": [
    {
     "data": {
      "text/plain": [
       "8462"
      ]
     },
     "execution_count": 43,
     "metadata": {},
     "output_type": "execute_result"
    }
   ],
   "source": [
    "len(subreddit_date_df)"
   ]
  },
  {
   "cell_type": "code",
   "execution_count": 44,
   "metadata": {
    "collapsed": false
   },
   "outputs": [
    {
     "name": "stdout",
     "output_type": "stream",
     "text": [
      "CPU times: user 6.17 s, sys: 76 µs, total: 6.17 s\n",
      "Wall time: 6.16 s\n"
     ]
    }
   ],
   "source": [
    "%%time\n",
    "\n",
    "sentiment_list = []\n",
    "for x in subreddit_date_df['body']:\n",
    "    tb = TextBlob(x)\n",
    "    sentiment_list.append((x, tb.sentiment.polarity, tb.sentiment.subjectivity))"
   ]
  },
  {
   "cell_type": "code",
   "execution_count": 45,
   "metadata": {
    "collapsed": false
   },
   "outputs": [],
   "source": [
    "sentiment_df = pd.DataFrame(sentiment_list, columns=['body', 'sentiment', 'subjectivity'])"
   ]
  },
  {
   "cell_type": "code",
   "execution_count": 46,
   "metadata": {
    "collapsed": false
   },
   "outputs": [
    {
     "data": {
      "text/html": [
       "<div>\n",
       "<table border=\"1\" class=\"dataframe\">\n",
       "  <thead>\n",
       "    <tr style=\"text-align: right;\">\n",
       "      <th></th>\n",
       "      <th>body</th>\n",
       "      <th>sentiment</th>\n",
       "      <th>subjectivity</th>\n",
       "    </tr>\n",
       "  </thead>\n",
       "  <tbody>\n",
       "    <tr>\n",
       "      <th>0</th>\n",
       "      <td>vulcan women would not wear uncomfortable shoes.</td>\n",
       "      <td>-0.50</td>\n",
       "      <td>1.00</td>\n",
       "    </tr>\n",
       "    <tr>\n",
       "      <th>1</th>\n",
       "      <td>then i wouldn't bother. -  - i love the origin...</td>\n",
       "      <td>0.15</td>\n",
       "      <td>0.41</td>\n",
       "    </tr>\n",
       "    <tr>\n",
       "      <th>2</th>\n",
       "      <td>he's done it for a few lines in the previous m...</td>\n",
       "      <td>-0.03</td>\n",
       "      <td>0.27</td>\n",
       "    </tr>\n",
       "    <tr>\n",
       "      <th>3</th>\n",
       "      <td>yes! still a great series! -  -  it was old wh...</td>\n",
       "      <td>0.15</td>\n",
       "      <td>0.47</td>\n",
       "    </tr>\n",
       "    <tr>\n",
       "      <th>4</th>\n",
       "      <td>beam me up scotty.</td>\n",
       "      <td>0.00</td>\n",
       "      <td>0.00</td>\n",
       "    </tr>\n",
       "  </tbody>\n",
       "</table>\n",
       "</div>"
      ],
      "text/plain": [
       "                                                body  sentiment  subjectivity\n",
       "0   vulcan women would not wear uncomfortable shoes.      -0.50          1.00\n",
       "1  then i wouldn't bother. -  - i love the origin...       0.15          0.41\n",
       "2  he's done it for a few lines in the previous m...      -0.03          0.27\n",
       "3  yes! still a great series! -  -  it was old wh...       0.15          0.47\n",
       "4                                 beam me up scotty.       0.00          0.00"
      ]
     },
     "execution_count": 46,
     "metadata": {},
     "output_type": "execute_result"
    }
   ],
   "source": [
    "sentiment_df.head()"
   ]
  },
  {
   "cell_type": "code",
   "execution_count": 47,
   "metadata": {
    "collapsed": false
   },
   "outputs": [
    {
     "data": {
      "text/plain": [
       "0.10954424826620877"
      ]
     },
     "execution_count": 47,
     "metadata": {},
     "output_type": "execute_result"
    }
   ],
   "source": [
    "sentiment_df['sentiment'].mean()"
   ]
  },
  {
   "cell_type": "code",
   "execution_count": 48,
   "metadata": {
    "collapsed": false
   },
   "outputs": [
    {
     "data": {
      "text/plain": [
       "0.21422561804654525"
      ]
     },
     "execution_count": 48,
     "metadata": {},
     "output_type": "execute_result"
    }
   ],
   "source": [
    "sentiment_df['sentiment'].std()"
   ]
  },
  {
   "cell_type": "code",
   "execution_count": 49,
   "metadata": {
    "collapsed": false
   },
   "outputs": [
    {
     "data": {
      "text/plain": [
       "0.46977461486056721"
      ]
     },
     "execution_count": 49,
     "metadata": {},
     "output_type": "execute_result"
    }
   ],
   "source": [
    "sentiment_df['subjectivity'].mean()"
   ]
  },
  {
   "cell_type": "code",
   "execution_count": 50,
   "metadata": {
    "collapsed": false
   },
   "outputs": [
    {
     "data": {
      "text/plain": [
       "0.21940826297514379"
      ]
     },
     "execution_count": 50,
     "metadata": {},
     "output_type": "execute_result"
    }
   ],
   "source": [
    "sentiment_df['subjectivity'].std()"
   ]
  },
  {
   "cell_type": "code",
   "execution_count": null,
   "metadata": {
    "collapsed": true
   },
   "outputs": [],
   "source": []
  }
 ],
 "metadata": {
  "kernelspec": {
   "display_name": "Python 3",
   "language": "python",
   "name": "python3"
  },
  "language_info": {
   "codemirror_mode": {
    "name": "ipython",
    "version": 3
   },
   "file_extension": ".py",
   "mimetype": "text/x-python",
   "name": "python",
   "nbconvert_exporter": "python",
   "pygments_lexer": "ipython3",
   "version": "3.4.3"
  }
 },
 "nbformat": 4,
 "nbformat_minor": 2
}
