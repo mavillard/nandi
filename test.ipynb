{
 "cells": [
  {
   "cell_type": "code",
   "execution_count": 1,
   "metadata": {
    "collapsed": true
   },
   "outputs": [],
   "source": [
    "import os\n",
    "from datetime import datetime\n",
    "\n",
    "import pandas as pd"
   ]
  },
  {
   "cell_type": "code",
   "execution_count": 3,
   "metadata": {
    "collapsed": false
   },
   "outputs": [
    {
     "data": {
      "text/plain": [
       "Timestamp('2007-10-15 15:22:33')"
      ]
     },
     "execution_count": 3,
     "metadata": {},
     "output_type": "execute_result"
    }
   ],
   "source": [
    "pd.to_datetime(datetime.fromtimestamp(int(1192476153)))"
   ]
  },
  {
   "cell_type": "code",
   "execution_count": 2,
   "metadata": {
    "collapsed": true
   },
   "outputs": [],
   "source": [
    "original_keywords = [\"Picard\", \"Kirk\", \"Sulu\", \"Uhura\", \"Spock\", \"McCoy\", \"Bones\", \"Scotty\", \"Chekhov\", \"Crusher\", \"Nurse Chapel\", \"Sarek\", \"Nero\", \"Khan\", \"Data\", \"Pike\", \"Star Trek\", \"Klingon\", \"Vulcan\", \"Romulan\", \"Star fleet\", \"Starship Enterprise\", \"Delta Vega\", \"Earth\", \"Orion\", \"Romulan Narada\", \"Stardate\", \"Transporter beam\", \"Beam me up,\\? Scotty\", \"Kobayashi Maru\", \"Space,\\? The Final Frontier\", \"Energize\", \"Vulcan Salute\", \"Prime Directive\", \"Live long and prosper\", \"LLAP\", \"I'm a doctor,\\? not a\", \"KHAAA\\+N\", \"When you eliminate the impossible,\\? whatever remains,\\? however improbable,\\? must be the truth\", \"Without followers,\\? evil cannot spread\", \"The needs of the many outweigh the needs of the few\", \"Highly illogical\", \"to boldly go where no man has gone before\", \"I'm giving her all she's got,\\? Captain\", \"Nuclear wessels\", \"Set phasers to stun\", \"Resistance is futile\", \"I have been and always shall be your friend\"]"
   ]
  },
  {
   "cell_type": "code",
   "execution_count": 3,
   "metadata": {
    "collapsed": false
   },
   "outputs": [
    {
     "name": "stdout",
     "output_type": "stream",
     "text": [
      "['Picard', 'Kirk', 'Sulu', 'Uhura', 'Spock', 'McCoy', 'Bones', 'Scotty', 'Chekhov', 'Crusher', 'Nurse Chapel', 'Sarek', 'Nero', 'Khan', 'Data', 'Pike', 'Star Trek', 'Klingon', 'Vulcan', 'Romulan', 'Star fleet', 'Starship Enterprise', 'Delta Vega', 'Earth', 'Orion', 'Romulan Narada', 'Stardate', 'Transporter beam', 'Beam me up,\\\\? Scotty', 'Kobayashi Maru', 'Space,\\\\? The Final Frontier', 'Energize', 'Vulcan Salute', 'Prime Directive', 'Live long and prosper', 'LLAP', \"I'm a doctor,\\\\? not a\", 'KHAAA\\\\+N', 'When you eliminate the impossible,\\\\? whatever remains,\\\\? however improbable,\\\\? must be the truth', 'Without followers,\\\\? evil cannot spread', 'The needs of the many outweigh the needs of the few', 'Highly illogical', 'to boldly go where no man has gone before', \"I'm giving her all she's got,\\\\? Captain\", 'Nuclear wessels', 'Set phasers to stun', 'Resistance is futile', 'I have been and always shall be your friend']\n"
     ]
    }
   ],
   "source": [
    "print(original_keywords)"
   ]
  },
  {
   "cell_type": "code",
   "execution_count": 4,
   "metadata": {
    "collapsed": true
   },
   "outputs": [],
   "source": [
    "ambiguous_keywords = [\n",
    "    'Bones',\n",
    "    'Khan',\n",
    "    'Data',\n",
    "    'Earth',\n",
    "    'Energize',\n",
    "]"
   ]
  },
  {
   "cell_type": "code",
   "execution_count": 5,
   "metadata": {
    "collapsed": true
   },
   "outputs": [],
   "source": [
    "keywords = list(set(original_keywords).difference(ambiguous_keywords))\n",
    "keywords.sort()"
   ]
  },
  {
   "cell_type": "code",
   "execution_count": 6,
   "metadata": {
    "collapsed": false
   },
   "outputs": [
    {
     "name": "stdout",
     "output_type": "stream",
     "text": [
      "['Beam me up,\\\\? Scotty', 'Chekhov', 'Crusher', 'Delta Vega', 'Highly illogical', 'I have been and always shall be your friend', \"I'm a doctor,\\\\? not a\", \"I'm giving her all she's got,\\\\? Captain\", 'KHAAA\\\\+N', 'Kirk', 'Klingon', 'Kobayashi Maru', 'LLAP', 'Live long and prosper', 'McCoy', 'Nero', 'Nuclear wessels', 'Nurse Chapel', 'Orion', 'Picard', 'Pike', 'Prime Directive', 'Resistance is futile', 'Romulan', 'Romulan Narada', 'Sarek', 'Scotty', 'Set phasers to stun', 'Space,\\\\? The Final Frontier', 'Spock', 'Star Trek', 'Star fleet', 'Stardate', 'Starship Enterprise', 'Sulu', 'The needs of the many outweigh the needs of the few', 'Transporter beam', 'Uhura', 'Vulcan', 'Vulcan Salute', 'When you eliminate the impossible,\\\\? whatever remains,\\\\? however improbable,\\\\? must be the truth', 'Without followers,\\\\? evil cannot spread', 'to boldly go where no man has gone before']\n"
     ]
    }
   ],
   "source": [
    "print(keywords)"
   ]
  },
  {
   "cell_type": "code",
   "execution_count": 7,
   "metadata": {
    "collapsed": false
   },
   "outputs": [
    {
     "name": "stdout",
     "output_type": "stream",
     "text": [
      "data/RC_2007-10.json data/RC_2007-11.json data/RC_2007-12.json data/RC_2008-01.json data/RC_2008-02.json data/RC_2008-03.json data/RC_2008-04.json data/RC_2008-05.json data/RC_2008-06.json data/RC_2008-07.json data/RC_2008-08.json data/RC_2008-09.json data/RC_2008-10.json data/RC_2008-11.json data/RC_2008-12.json data/RC_2009-01.json data/RC_2009-02.json data/RC_2009-03.json data/RC_2009-04.json data/RC_2009-05.json data/RC_2009-06.json data/RC_2009-07.json data/RC_2009-08.json data/RC_2009-09.json data/RC_2009-10.json data/RC_2009-11.json data/RC_2009-12.json data/RC_2010-01.json data/RC_2010-02.json data/RC_2010-03.json data/RC_2010-04.json data/RC_2010-05.json data/RC_2010-06.json data/RC_2010-07.json data/RC_2010-08.json data/RC_2010-09.json data/RC_2010-10.json data/RC_2010-11.json data/RC_2010-12.json data/RC_2011-01.json data/RC_2011-02.json data/RC_2011-03.json data/RC_2011-04.json data/RC_2011-05.json data/RC_2011-06.json data/RC_2011-07.json data/RC_2011-08.json data/RC_2011-09.json data/RC_2011-10.json data/RC_2011-11.json data/RC_2011-12.json data/RC_2012-01.json data/RC_2012-02.json data/RC_2012-03.json data/RC_2012-04.json data/RC_2012-05.json data/RC_2012-06.json data/RC_2012-07.json data/RC_2012-08.json data/RC_2012-09.json data/RC_2012-10.json data/RC_2012-11.json data/RC_2012-12.json data/RC_2013-01.json data/RC_2013-02.json data/RC_2013-03.json data/RC_2013-04.json data/RC_2013-05.json data/RC_2013-06.json data/RC_2013-07.json data/RC_2013-08.json data/RC_2013-09.json data/RC_2013-10.json data/RC_2013-11.json data/RC_2013-12.json data/RC_2014-01.json data/RC_2014-02.json data/RC_2014-03.json data/RC_2014-04.json data/RC_2014-05.json data/RC_2014-06.json data/RC_2014-07.json data/RC_2014-08.json data/RC_2014-09.json data/RC_2014-10.json data/RC_2014-11.json data/RC_2014-12.json data/RC_2015-01.json data/RC_2015-02.json data/RC_2015-03.json data/RC_2015-04.json data/RC_2015-05.json data/RC_2015-06.json data/RC_2015-07.json data/RC_2015-08.json data/RC_2015-09.json data/RC_2015-10.json data/RC_2015-11.json data/RC_2015-12.json data/RC_2016-01.json data/RC_2016-02.json data/RC_2016-03.json data/RC_2016-04.json data/RC_2016-05.json data/RC_2016-06.json data/RC_2016-07.json data/RC_2016-08.json CPU times: user 1min 9s, sys: 9.97 s, total: 1min 19s\n",
      "Wall time: 1min 22s\n"
     ]
    }
   ],
   "source": [
    "%%time\n",
    "\n",
    "DATA_FOLDER = 'data/'\n",
    "\n",
    "ls = []\n",
    "for filename in sorted(os.listdir(DATA_FOLDER)):\n",
    "        with open(DATA_FOLDER + filename) as f:\n",
    "            print(DATA_FOLDER + filename, sep=' ', end=' ', flush=True)\n",
    "            lines = f.readlines()\n",
    "            lines = map(lambda x: x.strip(), lines)\n",
    "            js = '[' + ','.join(lines) + ']'\n",
    "            df = pd.read_json(js)\n",
    "            ls.append(df)\n",
    "reddit_df = pd.concat(ls, ignore_index=True)\n",
    "\n",
    "# CPU times: user 1min 7s, sys: 4.66 s, total: 1min 11s\n",
    "# Wall time: 1min 14s"
   ]
  },
  {
   "cell_type": "code",
   "execution_count": 8,
   "metadata": {
    "collapsed": false
   },
   "outputs": [
    {
     "data": {
      "text/plain": [
       "2669814"
      ]
     },
     "execution_count": 8,
     "metadata": {},
     "output_type": "execute_result"
    }
   ],
   "source": [
    "len(reddit_df)\n",
    "\n",
    "# 2669814"
   ]
  },
  {
   "cell_type": "code",
   "execution_count": 9,
   "metadata": {
    "collapsed": false
   },
   "outputs": [
    {
     "name": "stdout",
     "output_type": "stream",
     "text": [
      "CPU times: user 1min 35s, sys: 890 ms, total: 1min 36s\n",
      "Wall time: 1min 36s\n"
     ]
    }
   ],
   "source": [
    "%%time\n",
    "\n",
    "reddit_df['body'] = reddit_df.apply(lambda x: x['body'].replace('\\n', ' - ').replace('\\r', ' - '), axis=1)"
   ]
  },
  {
   "cell_type": "code",
   "execution_count": 10,
   "metadata": {
    "collapsed": false
   },
   "outputs": [
    {
     "name": "stdout",
     "output_type": "stream",
     "text": [
      "CPU times: user 7min 25s, sys: 8.01 s, total: 7min 33s\n",
      "Wall time: 7min 33s\n"
     ]
    }
   ],
   "source": [
    "%%time\n",
    "\n",
    "reddit_df['created_utc'] = reddit_df.apply(\n",
    "    lambda x: pd.to_datetime(datetime.fromtimestamp(int(x['created_utc'])).strftime('%Y-%m-%d %H:%M:%S')), axis=1)\n",
    "\n",
    "# ???"
   ]
  },
  {
   "cell_type": "code",
   "execution_count": 13,
   "metadata": {
    "collapsed": false
   },
   "outputs": [
    {
     "name": "stdout",
     "output_type": "stream",
     "text": [
      "CPU times: user 58 s, sys: 1.77 s, total: 59.7 s\n",
      "Wall time: 1min 1s\n"
     ]
    }
   ],
   "source": [
    "%%time\n",
    "\n",
    "reddit_df.to_csv('reddit.csv', index=False)\n",
    "\n",
    "# CPU times: user 1min 1s, sys: 1.71 s, total: 1min 3s\n",
    "# Wall time: 1min 3s"
   ]
  },
  {
   "cell_type": "code",
   "execution_count": 11,
   "metadata": {
    "collapsed": false
   },
   "outputs": [
    {
     "name": "stdout",
     "output_type": "stream",
     "text": [
      "CPU times: user 25.5 s, sys: 912 ms, total: 26.4 s\n",
      "Wall time: 26.4 s\n"
     ]
    }
   ],
   "source": [
    "%%time\n",
    "\n",
    "dtypes = {\n",
    "    'author': str,\n",
    "    'body': str,\n",
    "    'controversiality': str,\n",
    "    'created_utc': pd.tslib.Timestamp,\n",
    "    'distinguished': str,\n",
    "    'downs': str,\n",
    "    'gilded': str,\n",
    "    'id': str,\n",
    "    'name': str,\n",
    "    'parent_id': str,\n",
    "    'score': str,\n",
    "    'subreddit': str,\n",
    "    'ups': str,\n",
    "}\n",
    "\n",
    "reddit_df = pd.read_csv('reddit.csv', header=0, dtype=dtypes, parse_dates=['created_utc'])\n",
    "reddit_df = reddit_df.fillna('')"
   ]
  },
  {
   "cell_type": "code",
   "execution_count": 12,
   "metadata": {
    "collapsed": false
   },
   "outputs": [
    {
     "data": {
      "text/plain": [
       "2669814"
      ]
     },
     "execution_count": 12,
     "metadata": {},
     "output_type": "execute_result"
    }
   ],
   "source": [
    "len(reddit_df)"
   ]
  },
  {
   "cell_type": "code",
   "execution_count": 14,
   "metadata": {
    "collapsed": false
   },
   "outputs": [
    {
     "data": {
      "text/html": [
       "<div>\n",
       "<table border=\"1\" class=\"dataframe\">\n",
       "  <thead>\n",
       "    <tr style=\"text-align: right;\">\n",
       "      <th></th>\n",
       "      <th>author</th>\n",
       "      <th>body</th>\n",
       "      <th>controversiality</th>\n",
       "      <th>created_utc</th>\n",
       "      <th>distinguished</th>\n",
       "      <th>downs</th>\n",
       "      <th>gilded</th>\n",
       "      <th>id</th>\n",
       "      <th>name</th>\n",
       "      <th>parent_id</th>\n",
       "      <th>score</th>\n",
       "      <th>subreddit</th>\n",
       "      <th>ups</th>\n",
       "    </tr>\n",
       "  </thead>\n",
       "  <tbody>\n",
       "    <tr>\n",
       "      <th>0</th>\n",
       "      <td>gschizas</td>\n",
       "      <td>Same in Greek. My personal peeve: quite a lot ...</td>\n",
       "      <td>0</td>\n",
       "      <td>2007-10-15 15:22:33</td>\n",
       "      <td></td>\n",
       "      <td>0.0</td>\n",
       "      <td>0</td>\n",
       "      <td>c029c79</td>\n",
       "      <td>t1_c029c79</td>\n",
       "      <td>t1_c029brz</td>\n",
       "      <td>13</td>\n",
       "      <td>programming</td>\n",
       "      <td>13</td>\n",
       "    </tr>\n",
       "    <tr>\n",
       "      <th>1</th>\n",
       "      <td>[deleted]</td>\n",
       "      <td>&amp;gt;They also decided to rig a thermal barrier...</td>\n",
       "      <td>0</td>\n",
       "      <td>2007-10-16 05:11:09</td>\n",
       "      <td></td>\n",
       "      <td>0.0</td>\n",
       "      <td>0</td>\n",
       "      <td>c029g6h</td>\n",
       "      <td>t1_c029g6h</td>\n",
       "      <td>t3_5ye94</td>\n",
       "      <td>2</td>\n",
       "      <td>programming</td>\n",
       "      <td>2</td>\n",
       "    </tr>\n",
       "    <tr>\n",
       "      <th>2</th>\n",
       "      <td>johnmudd</td>\n",
       "      <td>&amp;gt; By the time a child born today graduates ...</td>\n",
       "      <td>0</td>\n",
       "      <td>2007-10-16 07:00:36</td>\n",
       "      <td></td>\n",
       "      <td>0.0</td>\n",
       "      <td>0</td>\n",
       "      <td>c029gfc</td>\n",
       "      <td>t1_c029gfc</td>\n",
       "      <td>t3_5ye9w</td>\n",
       "      <td>1</td>\n",
       "      <td>science</td>\n",
       "      <td>1</td>\n",
       "    </tr>\n",
       "    <tr>\n",
       "      <th>3</th>\n",
       "      <td>feliniti</td>\n",
       "      <td>nero 8 - bloated waste of money. Unless you ha...</td>\n",
       "      <td>0</td>\n",
       "      <td>2007-10-16 07:10:27</td>\n",
       "      <td></td>\n",
       "      <td>0.0</td>\n",
       "      <td>0</td>\n",
       "      <td>c029gge</td>\n",
       "      <td>t1_c029gge</td>\n",
       "      <td>t3_5yej4</td>\n",
       "      <td>1</td>\n",
       "      <td>reddit.com</td>\n",
       "      <td>1</td>\n",
       "    </tr>\n",
       "    <tr>\n",
       "      <th>4</th>\n",
       "      <td>masklinn</td>\n",
       "      <td>&amp;gt; I wonder what happens if you started clea...</td>\n",
       "      <td>0</td>\n",
       "      <td>2007-10-16 11:27:15</td>\n",
       "      <td></td>\n",
       "      <td>0.0</td>\n",
       "      <td>0</td>\n",
       "      <td>c029hiy</td>\n",
       "      <td>t1_c029hiy</td>\n",
       "      <td>t1_c029h3y</td>\n",
       "      <td>3</td>\n",
       "      <td>reddit.com</td>\n",
       "      <td>3</td>\n",
       "    </tr>\n",
       "  </tbody>\n",
       "</table>\n",
       "</div>"
      ],
      "text/plain": [
       "      author                                               body  \\\n",
       "0   gschizas  Same in Greek. My personal peeve: quite a lot ...   \n",
       "1  [deleted]  &gt;They also decided to rig a thermal barrier...   \n",
       "2   johnmudd  &gt; By the time a child born today graduates ...   \n",
       "3   feliniti  nero 8 - bloated waste of money. Unless you ha...   \n",
       "4   masklinn  &gt; I wonder what happens if you started clea...   \n",
       "\n",
       "  controversiality         created_utc distinguished downs gilded       id  \\\n",
       "0                0 2007-10-15 15:22:33                 0.0      0  c029c79   \n",
       "1                0 2007-10-16 05:11:09                 0.0      0  c029g6h   \n",
       "2                0 2007-10-16 07:00:36                 0.0      0  c029gfc   \n",
       "3                0 2007-10-16 07:10:27                 0.0      0  c029gge   \n",
       "4                0 2007-10-16 11:27:15                 0.0      0  c029hiy   \n",
       "\n",
       "         name   parent_id score    subreddit ups  \n",
       "0  t1_c029c79  t1_c029brz    13  programming  13  \n",
       "1  t1_c029g6h    t3_5ye94     2  programming   2  \n",
       "2  t1_c029gfc    t3_5ye9w     1      science   1  \n",
       "3  t1_c029gge    t3_5yej4     1   reddit.com   1  \n",
       "4  t1_c029hiy  t1_c029h3y     3   reddit.com   3  "
      ]
     },
     "execution_count": 14,
     "metadata": {},
     "output_type": "execute_result"
    }
   ],
   "source": [
    "reddit_df.head()"
   ]
  },
  {
   "cell_type": "code",
   "execution_count": 41,
   "metadata": {
    "collapsed": false
   },
   "outputs": [
    {
     "name": "stdout",
     "output_type": "stream",
     "text": [
      "2007-10-15 15:22:33\n"
     ]
    }
   ],
   "source": [
    "import datetime\n",
    "print(\n",
    "    datetime.datetime.fromtimestamp(\n",
    "        int(reddit_df.ix[0]['created_utc'])\n",
    "    ).strftime('%Y-%m-%d %H:%M:%S')\n",
    ")"
   ]
  },
  {
   "cell_type": "code",
   "execution_count": 45,
   "metadata": {
    "collapsed": false
   },
   "outputs": [
    {
     "data": {
      "text/plain": [
       "Timestamp('2007-10-15 15:22:33')"
      ]
     },
     "execution_count": 45,
     "metadata": {},
     "output_type": "execute_result"
    }
   ],
   "source": [
    "pd.to_datetime(datetime.datetime.fromtimestamp(\n",
    "        int(reddit_df.ix[0]['created_utc'])\n",
    "    ).strftime('%Y-%m-%d %H:%M:%S'))"
   ]
  },
  {
   "cell_type": "code",
   "execution_count": 32,
   "metadata": {
    "collapsed": false
   },
   "outputs": [],
   "source": [
    "cs = set()\n",
    "for i, r in reddit_df.iterrows():\n",
    "    cs.add(r['controversiality'])\n"
   ]
  },
  {
   "cell_type": "code",
   "execution_count": null,
   "metadata": {
    "collapsed": true
   },
   "outputs": [],
   "source": []
  },
  {
   "cell_type": "code",
   "execution_count": 12,
   "metadata": {
    "collapsed": true
   },
   "outputs": [],
   "source": [
    "qqq='''66509 ./data/RC_2015-10.json\n",
    "8203 ./data/RC_2011-06.json\n",
    "12784 ./data/RC_2011-09.json\n",
    "4716 ./data/RC_2010-09.json\n",
    "758 ./data/RC_2009-01.json\n",
    "20622 ./data/RC_2012-11.json\n",
    "19425 ./data/RC_2012-06.json\n",
    "1402 ./data/RC_2009-07.json\n",
    "44157 ./data/RC_2014-06.json\n",
    "2139 ./data/RC_2009-10.json\n",
    "16219 ./data/RC_2012-03.json\n",
    "45636 ./data/RC_2014-03.json\n",
    "28113 ./data/RC_2013-02.json\n",
    "1156 ./data/RC_2009-04.json\n",
    "51654 ./data/RC_2015-04.json\n",
    "12338 ./data/RC_2011-08.json\n",
    "12902 ./data/RC_2011-11.json\n",
    "2860 ./data/RC_2009-12.json\n",
    "3700 ./data/RC_2010-08.json\n",
    "353 ./data/RC_2008-05.json\n",
    "23072 ./data/RC_2012-08.json\n",
    "409 ./data/RC_2008-06.json\n",
    "276 ./data/RC_2008-03.json\n",
    "47432 ./data/RC_2014-05.json\n",
    "3532 ./data/RC_2010-01.json\n",
    "915 ./data/RC_2009-03.json\n",
    "39481 ./data/RC_2013-07.json\n",
    "44593 ./data/RC_2013-05.json\n",
    "5501 ./data/RC_2010-12.json\n",
    "4522 ./data/RC_2010-10.json\n",
    "3869 ./data/RC_2010-07.json\n",
    "810 ./data/RC_2009-02.json\n",
    "58807 ./data/RC_2016-05.json\n",
    "6646 ./data/RC_2011-04.json\n",
    "222 ./data/RC_2007-12.json\n",
    "45883 ./data/RC_2014-01.json\n",
    "64678 ./data/RC_2014-10.json\n",
    "13196 ./data/RC_2011-10.json\n",
    "69804 ./data/RC_2016-08.json\n",
    "59975 ./data/RC_2016-01.json\n",
    "10391 ./data/RC_2011-07.json\n",
    "6501 ./data/RC_2011-01.json\n",
    "566 ./data/RC_2008-12.json\n",
    "2871 ./data/RC_2010-02.json\n",
    "1576 ./data/RC_2009-06.json\n",
    "21761 ./data/RC_2012-07.json\n",
    "5366 ./data/RC_2010-11.json\n",
    "457 ./data/RC_2008-08.json\n",
    "40318 ./data/RC_2014-02.json\n",
    "49652 ./data/RC_2015-06.json\n",
    "57296 ./data/RC_2014-12.json\n",
    "54531 ./data/RC_2016-04.json\n",
    "455 ./data/RC_2008-09.json\n",
    "71662 ./data/RC_2016-07.json\n",
    "55463 ./data/RC_2016-03.json\n",
    "331 ./data/RC_2008-02.json\n",
    "34486 ./data/RC_2013-04.json\n",
    "52926 ./data/RC_2015-07.json\n",
    "2246 ./data/RC_2009-09.json\n",
    "32209 ./data/RC_2013-03.json\n",
    "58802 ./data/RC_2014-09.json\n",
    "14098 ./data/RC_2012-02.json\n",
    "808 ./data/RC_2008-11.json\n",
    "23523 ./data/RC_2012-09.json\n",
    "3531 ./data/RC_2010-06.json\n",
    "2952 ./data/RC_2010-05.json\n",
    "51153 ./data/RC_2014-08.json\n",
    "48500 ./data/RC_2014-07.json\n",
    "683 ./data/RC_2008-10.json\n",
    "44674 ./data/RC_2013-09.json\n",
    "55468 ./data/RC_2016-06.json\n",
    "59827 ./data/RC_2015-09.json\n",
    "2942 ./data/RC_2009-05.json\n",
    "53248 ./data/RC_2015-02.json\n",
    "189 ./data/RC_2007-11.json\n",
    "118 ./data/RC_2007-10.json\n",
    "1524 ./data/RC_2009-08.json\n",
    "58243 ./data/RC_2015-08.json\n",
    "233 ./data/RC_2008-01.json\n",
    "32049 ./data/RC_2013-01.json\n",
    "16820 ./data/RC_2012-05.json\n",
    "5634 ./data/RC_2011-02.json\n",
    "21412 ./data/RC_2012-10.json\n",
    "44637 ./data/RC_2013-11.json\n",
    "13683 ./data/RC_2012-01.json\n",
    "36910 ./data/RC_2013-06.json\n",
    "49890 ./data/RC_2015-05.json\n",
    "54545 ./data/RC_2015-01.json\n",
    "2934 ./data/RC_2010-03.json\n",
    "67606 ./data/RC_2015-12.json\n",
    "43870 ./data/RC_2014-04.json\n",
    "16499 ./data/RC_2012-04.json\n",
    "62950 ./data/RC_2015-03.json\n",
    "272 ./data/RC_2008-04.json\n",
    "475 ./data/RC_2008-07.json\n",
    "7460 ./data/RC_2011-05.json\n",
    "58877 ./data/RC_2015-11.json\n",
    "14135 ./data/RC_2011-12.json\n",
    "2366 ./data/RC_2009-11.json\n",
    "44680 ./data/RC_2013-08.json\n",
    "2898 ./data/RC_2010-04.json\n",
    "29564 ./data/RC_2012-12.json\n",
    "6170 ./data/RC_2011-03.json\n",
    "53324 ./data/RC_2014-11.json\n",
    "48182 ./data/RC_2013-12.json\n",
    "56022 ./data/RC_2016-02.json\n",
    "45101 ./data/RC_2013-10.json\n",
    "'''"
   ]
  },
  {
   "cell_type": "code",
   "execution_count": 17,
   "metadata": {
    "collapsed": true
   },
   "outputs": [],
   "source": [
    "aaa=qqq.split('\\n')[:-1]"
   ]
  },
  {
   "cell_type": "code",
   "execution_count": 18,
   "metadata": {
    "collapsed": false
   },
   "outputs": [
    {
     "data": {
      "text/plain": [
       "['66509 ./data/RC_2015-10.json',\n",
       " '8203 ./data/RC_2011-06.json',\n",
       " '12784 ./data/RC_2011-09.json',\n",
       " '4716 ./data/RC_2010-09.json',\n",
       " '758 ./data/RC_2009-01.json',\n",
       " '20622 ./data/RC_2012-11.json',\n",
       " '19425 ./data/RC_2012-06.json',\n",
       " '1402 ./data/RC_2009-07.json',\n",
       " '44157 ./data/RC_2014-06.json',\n",
       " '2139 ./data/RC_2009-10.json',\n",
       " '16219 ./data/RC_2012-03.json',\n",
       " '45636 ./data/RC_2014-03.json',\n",
       " '28113 ./data/RC_2013-02.json',\n",
       " '1156 ./data/RC_2009-04.json',\n",
       " '51654 ./data/RC_2015-04.json',\n",
       " '12338 ./data/RC_2011-08.json',\n",
       " '12902 ./data/RC_2011-11.json',\n",
       " '2860 ./data/RC_2009-12.json',\n",
       " '3700 ./data/RC_2010-08.json',\n",
       " '353 ./data/RC_2008-05.json',\n",
       " '23072 ./data/RC_2012-08.json',\n",
       " '409 ./data/RC_2008-06.json',\n",
       " '276 ./data/RC_2008-03.json',\n",
       " '47432 ./data/RC_2014-05.json',\n",
       " '3532 ./data/RC_2010-01.json',\n",
       " '915 ./data/RC_2009-03.json',\n",
       " '39481 ./data/RC_2013-07.json',\n",
       " '44593 ./data/RC_2013-05.json',\n",
       " '5501 ./data/RC_2010-12.json',\n",
       " '4522 ./data/RC_2010-10.json',\n",
       " '3869 ./data/RC_2010-07.json',\n",
       " '810 ./data/RC_2009-02.json',\n",
       " '58807 ./data/RC_2016-05.json',\n",
       " '6646 ./data/RC_2011-04.json',\n",
       " '222 ./data/RC_2007-12.json',\n",
       " '45883 ./data/RC_2014-01.json',\n",
       " '64678 ./data/RC_2014-10.json',\n",
       " '13196 ./data/RC_2011-10.json',\n",
       " '69804 ./data/RC_2016-08.json',\n",
       " '59975 ./data/RC_2016-01.json',\n",
       " '10391 ./data/RC_2011-07.json',\n",
       " '6501 ./data/RC_2011-01.json',\n",
       " '566 ./data/RC_2008-12.json',\n",
       " '2871 ./data/RC_2010-02.json',\n",
       " '1576 ./data/RC_2009-06.json',\n",
       " '21761 ./data/RC_2012-07.json',\n",
       " '5366 ./data/RC_2010-11.json',\n",
       " '457 ./data/RC_2008-08.json',\n",
       " '40318 ./data/RC_2014-02.json',\n",
       " '49652 ./data/RC_2015-06.json',\n",
       " '57296 ./data/RC_2014-12.json',\n",
       " '54531 ./data/RC_2016-04.json',\n",
       " '455 ./data/RC_2008-09.json',\n",
       " '71662 ./data/RC_2016-07.json',\n",
       " '55463 ./data/RC_2016-03.json',\n",
       " '331 ./data/RC_2008-02.json',\n",
       " '34486 ./data/RC_2013-04.json',\n",
       " '52926 ./data/RC_2015-07.json',\n",
       " '2246 ./data/RC_2009-09.json',\n",
       " '32209 ./data/RC_2013-03.json',\n",
       " '58802 ./data/RC_2014-09.json',\n",
       " '14098 ./data/RC_2012-02.json',\n",
       " '808 ./data/RC_2008-11.json',\n",
       " '23523 ./data/RC_2012-09.json',\n",
       " '3531 ./data/RC_2010-06.json',\n",
       " '2952 ./data/RC_2010-05.json',\n",
       " '51153 ./data/RC_2014-08.json',\n",
       " '48500 ./data/RC_2014-07.json',\n",
       " '683 ./data/RC_2008-10.json',\n",
       " '44674 ./data/RC_2013-09.json',\n",
       " '55468 ./data/RC_2016-06.json',\n",
       " '59827 ./data/RC_2015-09.json',\n",
       " '2942 ./data/RC_2009-05.json',\n",
       " '53248 ./data/RC_2015-02.json',\n",
       " '189 ./data/RC_2007-11.json',\n",
       " '118 ./data/RC_2007-10.json',\n",
       " '1524 ./data/RC_2009-08.json',\n",
       " '58243 ./data/RC_2015-08.json',\n",
       " '233 ./data/RC_2008-01.json',\n",
       " '32049 ./data/RC_2013-01.json',\n",
       " '16820 ./data/RC_2012-05.json',\n",
       " '5634 ./data/RC_2011-02.json',\n",
       " '21412 ./data/RC_2012-10.json',\n",
       " '44637 ./data/RC_2013-11.json',\n",
       " '13683 ./data/RC_2012-01.json',\n",
       " '36910 ./data/RC_2013-06.json',\n",
       " '49890 ./data/RC_2015-05.json',\n",
       " '54545 ./data/RC_2015-01.json',\n",
       " '2934 ./data/RC_2010-03.json',\n",
       " '67606 ./data/RC_2015-12.json',\n",
       " '43870 ./data/RC_2014-04.json',\n",
       " '16499 ./data/RC_2012-04.json',\n",
       " '62950 ./data/RC_2015-03.json',\n",
       " '272 ./data/RC_2008-04.json',\n",
       " '475 ./data/RC_2008-07.json',\n",
       " '7460 ./data/RC_2011-05.json',\n",
       " '58877 ./data/RC_2015-11.json',\n",
       " '14135 ./data/RC_2011-12.json',\n",
       " '2366 ./data/RC_2009-11.json',\n",
       " '44680 ./data/RC_2013-08.json',\n",
       " '2898 ./data/RC_2010-04.json',\n",
       " '29564 ./data/RC_2012-12.json',\n",
       " '6170 ./data/RC_2011-03.json',\n",
       " '53324 ./data/RC_2014-11.json',\n",
       " '48182 ./data/RC_2013-12.json',\n",
       " '56022 ./data/RC_2016-02.json',\n",
       " '45101 ./data/RC_2013-10.json']"
      ]
     },
     "execution_count": 18,
     "metadata": {},
     "output_type": "execute_result"
    }
   ],
   "source": [
    "aaa"
   ]
  },
  {
   "cell_type": "code",
   "execution_count": 19,
   "metadata": {
    "collapsed": false
   },
   "outputs": [],
   "source": [
    "bbb = [int(x.split()[0]) for x in aaa]"
   ]
  },
  {
   "cell_type": "code",
   "execution_count": 21,
   "metadata": {
    "collapsed": false
   },
   "outputs": [],
   "source": [
    "sss = sum(bbb)"
   ]
  },
  {
   "cell_type": "code",
   "execution_count": 22,
   "metadata": {
    "collapsed": false
   },
   "outputs": [
    {
     "data": {
      "text/plain": [
       "2669814"
      ]
     },
     "execution_count": 22,
     "metadata": {},
     "output_type": "execute_result"
    }
   ],
   "source": [
    "sss"
   ]
  },
  {
   "cell_type": "code",
   "execution_count": null,
   "metadata": {
    "collapsed": true
   },
   "outputs": [],
   "source": [
    "cs"
   ]
  },
  {
   "cell_type": "code",
   "execution_count": 15,
   "metadata": {
    "collapsed": false
   },
   "outputs": [
    {
     "data": {
      "text/plain": [
       "dict"
      ]
     },
     "execution_count": 15,
     "metadata": {},
     "output_type": "execute_result"
    }
   ],
   "source": [
    "type(js)"
   ]
  },
  {
   "cell_type": "code",
   "execution_count": 20,
   "metadata": {
    "collapsed": false
   },
   "outputs": [
    {
     "data": {
      "text/plain": [
       "'{\"id\":\"c0299u8\",\"created_utc\":\"1192456345\",\"author\":\"freexe\",\"body\":\"I seem to have read a different article here. It seems like they want to use space based solar cells to power the military while not near a power source.\\\\r\\\\n\\\\r\\\\nI\\'m sure it would be far far cheaper to just use normal solar cells here on earth, enough sunlight gets through already.\\\\r\\\\n\\\\r\\\\n* I did read a different article. One that seems more realistic on the use of such a power station.\",\"ups\":2,\"downs\":0,\"score\":2,\"controversiality\":0}\\n\\n'"
      ]
     },
     "execution_count": 20,
     "metadata": {},
     "output_type": "execute_result"
    }
   ],
   "source": [
    "s"
   ]
  },
  {
   "cell_type": "code",
   "execution_count": 23,
   "metadata": {
    "collapsed": false
   },
   "outputs": [
    {
     "data": {
      "text/plain": [
       "'{\"id\":\"c0299u8\",\"created_utc\":\"1192456345\",\"author\":\"freexe\",\"body\":\"I seem to have read a different article here. It seems like they want to use space based solar cells to power the military while not near a power source.\\\\r\\\\n\\\\r\\\\nI\\'m sure it would be far far cheaper to just use normal solar cells here on earth, enough sunlight gets through already.\\\\r\\\\n\\\\r\\\\n* I did read a different article. One that seems more realistic on the use of such a power station.\",\"ups\":2,\"downs\":0,\"score\":2,\"controversiality\":0}'"
      ]
     },
     "execution_count": 23,
     "metadata": {},
     "output_type": "execute_result"
    }
   ],
   "source": [
    "s[:-2]"
   ]
  },
  {
   "cell_type": "code",
   "execution_count": 25,
   "metadata": {
    "collapsed": false
   },
   "outputs": [
    {
     "ename": "ValueError",
     "evalue": "If using all scalar values, you must pass an index",
     "output_type": "error",
     "traceback": [
      "\u001b[0;31m---------------------------------------------------------------------------\u001b[0m",
      "\u001b[0;31mValueError\u001b[0m                                Traceback (most recent call last)",
      "\u001b[0;32m<ipython-input-25-f575ab9a7d87>\u001b[0m in \u001b[0;36m<module>\u001b[0;34m()\u001b[0m\n\u001b[0;32m----> 1\u001b[0;31m \u001b[0mreddit_df\u001b[0m \u001b[0;34m=\u001b[0m \u001b[0mpd\u001b[0m\u001b[0;34m.\u001b[0m\u001b[0mread_json\u001b[0m\u001b[0;34m(\u001b[0m\u001b[0ms\u001b[0m\u001b[0;34m[\u001b[0m\u001b[0;34m:\u001b[0m\u001b[0;34m-\u001b[0m\u001b[0;36m2\u001b[0m\u001b[0;34m]\u001b[0m\u001b[0;34m,\u001b[0m \u001b[0morient\u001b[0m\u001b[0;34m=\u001b[0m\u001b[0;34m'records'\u001b[0m\u001b[0;34m)\u001b[0m\u001b[0;34m\u001b[0m\u001b[0m\n\u001b[0m",
      "\u001b[0;32m/home/antonio/.virtualenvs/nandi/lib/python3.4/site-packages/pandas/io/json.py\u001b[0m in \u001b[0;36mread_json\u001b[0;34m(path_or_buf, orient, typ, dtype, convert_axes, convert_dates, keep_default_dates, numpy, precise_float, date_unit, encoding, lines)\u001b[0m\n\u001b[1;32m    279\u001b[0m         obj = FrameParser(json, orient, dtype, convert_axes, convert_dates,\n\u001b[1;32m    280\u001b[0m                           \u001b[0mkeep_default_dates\u001b[0m\u001b[0;34m,\u001b[0m \u001b[0mnumpy\u001b[0m\u001b[0;34m,\u001b[0m \u001b[0mprecise_float\u001b[0m\u001b[0;34m,\u001b[0m\u001b[0;34m\u001b[0m\u001b[0m\n\u001b[0;32m--> 281\u001b[0;31m                           date_unit).parse()\n\u001b[0m\u001b[1;32m    282\u001b[0m \u001b[0;34m\u001b[0m\u001b[0m\n\u001b[1;32m    283\u001b[0m     \u001b[0;32mif\u001b[0m \u001b[0mtyp\u001b[0m \u001b[0;34m==\u001b[0m \u001b[0;34m'series'\u001b[0m \u001b[0;32mor\u001b[0m \u001b[0mobj\u001b[0m \u001b[0;32mis\u001b[0m \u001b[0;32mNone\u001b[0m\u001b[0;34m:\u001b[0m\u001b[0;34m\u001b[0m\u001b[0m\n",
      "\u001b[0;32m/home/antonio/.virtualenvs/nandi/lib/python3.4/site-packages/pandas/io/json.py\u001b[0m in \u001b[0;36mparse\u001b[0;34m(self)\u001b[0m\n\u001b[1;32m    347\u001b[0m \u001b[0;34m\u001b[0m\u001b[0m\n\u001b[1;32m    348\u001b[0m         \u001b[0;32melse\u001b[0m\u001b[0;34m:\u001b[0m\u001b[0;34m\u001b[0m\u001b[0m\n\u001b[0;32m--> 349\u001b[0;31m             \u001b[0mself\u001b[0m\u001b[0;34m.\u001b[0m\u001b[0m_parse_no_numpy\u001b[0m\u001b[0;34m(\u001b[0m\u001b[0;34m)\u001b[0m\u001b[0;34m\u001b[0m\u001b[0m\n\u001b[0m\u001b[1;32m    350\u001b[0m \u001b[0;34m\u001b[0m\u001b[0m\n\u001b[1;32m    351\u001b[0m         \u001b[0;32mif\u001b[0m \u001b[0mself\u001b[0m\u001b[0;34m.\u001b[0m\u001b[0mobj\u001b[0m \u001b[0;32mis\u001b[0m \u001b[0;32mNone\u001b[0m\u001b[0;34m:\u001b[0m\u001b[0;34m\u001b[0m\u001b[0m\n",
      "\u001b[0;32m/home/antonio/.virtualenvs/nandi/lib/python3.4/site-packages/pandas/io/json.py\u001b[0m in \u001b[0;36m_parse_no_numpy\u001b[0;34m(self)\u001b[0m\n\u001b[1;32m    577\u001b[0m         \u001b[0;32melse\u001b[0m\u001b[0;34m:\u001b[0m\u001b[0;34m\u001b[0m\u001b[0m\n\u001b[1;32m    578\u001b[0m             self.obj = DataFrame(\n\u001b[0;32m--> 579\u001b[0;31m                 loads(json, precise_float=self.precise_float), dtype=None)\n\u001b[0m\u001b[1;32m    580\u001b[0m \u001b[0;34m\u001b[0m\u001b[0m\n\u001b[1;32m    581\u001b[0m     \u001b[0;32mdef\u001b[0m \u001b[0m_process_converter\u001b[0m\u001b[0;34m(\u001b[0m\u001b[0mself\u001b[0m\u001b[0;34m,\u001b[0m \u001b[0mf\u001b[0m\u001b[0;34m,\u001b[0m \u001b[0mfilt\u001b[0m\u001b[0;34m=\u001b[0m\u001b[0;32mNone\u001b[0m\u001b[0;34m)\u001b[0m\u001b[0;34m:\u001b[0m\u001b[0;34m\u001b[0m\u001b[0m\n",
      "\u001b[0;32m/home/antonio/.virtualenvs/nandi/lib/python3.4/site-packages/pandas/core/frame.py\u001b[0m in \u001b[0;36m__init__\u001b[0;34m(self, data, index, columns, dtype, copy)\u001b[0m\n\u001b[1;32m    264\u001b[0m                                  dtype=dtype, copy=copy)\n\u001b[1;32m    265\u001b[0m         \u001b[0;32melif\u001b[0m \u001b[0misinstance\u001b[0m\u001b[0;34m(\u001b[0m\u001b[0mdata\u001b[0m\u001b[0;34m,\u001b[0m \u001b[0mdict\u001b[0m\u001b[0;34m)\u001b[0m\u001b[0;34m:\u001b[0m\u001b[0;34m\u001b[0m\u001b[0m\n\u001b[0;32m--> 266\u001b[0;31m             \u001b[0mmgr\u001b[0m \u001b[0;34m=\u001b[0m \u001b[0mself\u001b[0m\u001b[0;34m.\u001b[0m\u001b[0m_init_dict\u001b[0m\u001b[0;34m(\u001b[0m\u001b[0mdata\u001b[0m\u001b[0;34m,\u001b[0m \u001b[0mindex\u001b[0m\u001b[0;34m,\u001b[0m \u001b[0mcolumns\u001b[0m\u001b[0;34m,\u001b[0m \u001b[0mdtype\u001b[0m\u001b[0;34m=\u001b[0m\u001b[0mdtype\u001b[0m\u001b[0;34m)\u001b[0m\u001b[0;34m\u001b[0m\u001b[0m\n\u001b[0m\u001b[1;32m    267\u001b[0m         \u001b[0;32melif\u001b[0m \u001b[0misinstance\u001b[0m\u001b[0;34m(\u001b[0m\u001b[0mdata\u001b[0m\u001b[0;34m,\u001b[0m \u001b[0mma\u001b[0m\u001b[0;34m.\u001b[0m\u001b[0mMaskedArray\u001b[0m\u001b[0;34m)\u001b[0m\u001b[0;34m:\u001b[0m\u001b[0;34m\u001b[0m\u001b[0m\n\u001b[1;32m    268\u001b[0m             \u001b[0;32mimport\u001b[0m \u001b[0mnumpy\u001b[0m\u001b[0;34m.\u001b[0m\u001b[0mma\u001b[0m\u001b[0;34m.\u001b[0m\u001b[0mmrecords\u001b[0m \u001b[0;32mas\u001b[0m \u001b[0mmrecords\u001b[0m\u001b[0;34m\u001b[0m\u001b[0m\n",
      "\u001b[0;32m/home/antonio/.virtualenvs/nandi/lib/python3.4/site-packages/pandas/core/frame.py\u001b[0m in \u001b[0;36m_init_dict\u001b[0;34m(self, data, index, columns, dtype)\u001b[0m\n\u001b[1;32m    400\u001b[0m             \u001b[0marrays\u001b[0m \u001b[0;34m=\u001b[0m \u001b[0;34m[\u001b[0m\u001b[0mdata\u001b[0m\u001b[0;34m[\u001b[0m\u001b[0mk\u001b[0m\u001b[0;34m]\u001b[0m \u001b[0;32mfor\u001b[0m \u001b[0mk\u001b[0m \u001b[0;32min\u001b[0m \u001b[0mkeys\u001b[0m\u001b[0;34m]\u001b[0m\u001b[0;34m\u001b[0m\u001b[0m\n\u001b[1;32m    401\u001b[0m \u001b[0;34m\u001b[0m\u001b[0m\n\u001b[0;32m--> 402\u001b[0;31m         \u001b[0;32mreturn\u001b[0m \u001b[0m_arrays_to_mgr\u001b[0m\u001b[0;34m(\u001b[0m\u001b[0marrays\u001b[0m\u001b[0;34m,\u001b[0m \u001b[0mdata_names\u001b[0m\u001b[0;34m,\u001b[0m \u001b[0mindex\u001b[0m\u001b[0;34m,\u001b[0m \u001b[0mcolumns\u001b[0m\u001b[0;34m,\u001b[0m \u001b[0mdtype\u001b[0m\u001b[0;34m=\u001b[0m\u001b[0mdtype\u001b[0m\u001b[0;34m)\u001b[0m\u001b[0;34m\u001b[0m\u001b[0m\n\u001b[0m\u001b[1;32m    403\u001b[0m \u001b[0;34m\u001b[0m\u001b[0m\n\u001b[1;32m    404\u001b[0m     \u001b[0;32mdef\u001b[0m \u001b[0m_init_ndarray\u001b[0m\u001b[0;34m(\u001b[0m\u001b[0mself\u001b[0m\u001b[0;34m,\u001b[0m \u001b[0mvalues\u001b[0m\u001b[0;34m,\u001b[0m \u001b[0mindex\u001b[0m\u001b[0;34m,\u001b[0m \u001b[0mcolumns\u001b[0m\u001b[0;34m,\u001b[0m \u001b[0mdtype\u001b[0m\u001b[0;34m=\u001b[0m\u001b[0;32mNone\u001b[0m\u001b[0;34m,\u001b[0m \u001b[0mcopy\u001b[0m\u001b[0;34m=\u001b[0m\u001b[0;32mFalse\u001b[0m\u001b[0;34m)\u001b[0m\u001b[0;34m:\u001b[0m\u001b[0;34m\u001b[0m\u001b[0m\n",
      "\u001b[0;32m/home/antonio/.virtualenvs/nandi/lib/python3.4/site-packages/pandas/core/frame.py\u001b[0m in \u001b[0;36m_arrays_to_mgr\u001b[0;34m(arrays, arr_names, index, columns, dtype)\u001b[0m\n\u001b[1;32m   5407\u001b[0m     \u001b[0;31m# figure out the index, if necessary\u001b[0m\u001b[0;34m\u001b[0m\u001b[0;34m\u001b[0m\u001b[0m\n\u001b[1;32m   5408\u001b[0m     \u001b[0;32mif\u001b[0m \u001b[0mindex\u001b[0m \u001b[0;32mis\u001b[0m \u001b[0;32mNone\u001b[0m\u001b[0;34m:\u001b[0m\u001b[0;34m\u001b[0m\u001b[0m\n\u001b[0;32m-> 5409\u001b[0;31m         \u001b[0mindex\u001b[0m \u001b[0;34m=\u001b[0m \u001b[0mextract_index\u001b[0m\u001b[0;34m(\u001b[0m\u001b[0marrays\u001b[0m\u001b[0;34m)\u001b[0m\u001b[0;34m\u001b[0m\u001b[0m\n\u001b[0m\u001b[1;32m   5410\u001b[0m     \u001b[0;32melse\u001b[0m\u001b[0;34m:\u001b[0m\u001b[0;34m\u001b[0m\u001b[0m\n\u001b[1;32m   5411\u001b[0m         \u001b[0mindex\u001b[0m \u001b[0;34m=\u001b[0m \u001b[0m_ensure_index\u001b[0m\u001b[0;34m(\u001b[0m\u001b[0mindex\u001b[0m\u001b[0;34m)\u001b[0m\u001b[0;34m\u001b[0m\u001b[0m\n",
      "\u001b[0;32m/home/antonio/.virtualenvs/nandi/lib/python3.4/site-packages/pandas/core/frame.py\u001b[0m in \u001b[0;36mextract_index\u001b[0;34m(data)\u001b[0m\n\u001b[1;32m   5446\u001b[0m \u001b[0;34m\u001b[0m\u001b[0m\n\u001b[1;32m   5447\u001b[0m         \u001b[0;32mif\u001b[0m \u001b[0;32mnot\u001b[0m \u001b[0mindexes\u001b[0m \u001b[0;32mand\u001b[0m \u001b[0;32mnot\u001b[0m \u001b[0mraw_lengths\u001b[0m\u001b[0;34m:\u001b[0m\u001b[0;34m\u001b[0m\u001b[0m\n\u001b[0;32m-> 5448\u001b[0;31m             raise ValueError('If using all scalar values, you must pass'\n\u001b[0m\u001b[1;32m   5449\u001b[0m                              ' an index')\n\u001b[1;32m   5450\u001b[0m \u001b[0;34m\u001b[0m\u001b[0m\n",
      "\u001b[0;31mValueError\u001b[0m: If using all scalar values, you must pass an index"
     ]
    }
   ],
   "source": [
    "reddit_df = pd.read_json(s[:-2], orient='records')"
   ]
  },
  {
   "cell_type": "code",
   "execution_count": null,
   "metadata": {
    "collapsed": true
   },
   "outputs": [],
   "source": []
  }
 ],
 "metadata": {
  "kernelspec": {
   "display_name": "Python 3",
   "language": "python",
   "name": "python3"
  },
  "language_info": {
   "codemirror_mode": {
    "name": "ipython",
    "version": 3
   },
   "file_extension": ".py",
   "mimetype": "text/x-python",
   "name": "python",
   "nbconvert_exporter": "python",
   "pygments_lexer": "ipython3",
   "version": "3.4.3"
  }
 },
 "nbformat": 4,
 "nbformat_minor": 2
}
