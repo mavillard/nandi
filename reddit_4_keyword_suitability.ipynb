{
 "cells": [
  {
   "cell_type": "code",
   "execution_count": 1,
   "metadata": {
    "collapsed": false
   },
   "outputs": [],
   "source": [
    "import os\n",
    "import string\n",
    "from collections import Counter\n",
    "from datetime import datetime\n",
    "\n",
    "import nltk\n",
    "import pandas as pd\n",
    "import matplotlib\n",
    "import seaborn as sns\n",
    "from textblob import TextBlob\n",
    "from nltk.corpus import stopwords\n",
    "from nltk.util import ngrams"
   ]
  },
  {
   "cell_type": "code",
   "execution_count": 2,
   "metadata": {
    "collapsed": false
   },
   "outputs": [],
   "source": [
    "%matplotlib inline\n",
    "matplotlib.rcParams['figure.max_open_warning'] = 1000\n",
    "matplotlib.rcParams['lines.linewidth'] = 1.0\n",
    "\n",
    "pd.set_option('display.float_format', lambda x: '%.2f' % x)"
   ]
  },
  {
   "cell_type": "code",
   "execution_count": 3,
   "metadata": {
    "collapsed": true
   },
   "outputs": [],
   "source": [
    "def my_ngrams(tokens, rg):\n",
    "    ngrms = []\n",
    "    for i in range(rg[0], rg[1] + 1):\n",
    "        ngrms_aux = [ngrm for ngrm in ngrams(tokens, i)]\n",
    "        ngrms.extend(ngrms_aux)\n",
    "    return ngrms"
   ]
  },
  {
   "cell_type": "markdown",
   "metadata": {},
   "source": [
    "# Preparing data"
   ]
  },
  {
   "cell_type": "code",
   "execution_count": 4,
   "metadata": {
    "collapsed": true
   },
   "outputs": [],
   "source": [
    "original_keywords = [\"Picard\", \"Kirk\", \"Sulu\", \"Uhura\", \"Spock\", \"McCoy\", \"Bones\", \"Scotty\", \"Chekhov\", \"Crusher\", \"Nurse Chapel\", \"Sarek\", \"Nero\", \"Khan\", \"Data\", \"Pike\", \"Star Trek\", \"Klingon\", \"Vulcan\", \"Romulan\", \"Star fleet\", \"Starship Enterprise\", \"Delta Vega\", \"Earth\", \"Orion\", \"Romulan Narada\", \"Stardate\", \"Transporter beam\", \"Beam me up,\\? Scotty\", \"Kobayashi Maru\", \"Space,\\? The Final Frontier\", \"Energize\", \"Vulcan Salute\", \"Prime Directive\", \"Live long and prosper\", \"LLAP\", \"I'm a doctor,\\? not a\", \"KHAAA\\+N\", \"When you eliminate the impossible,\\? whatever remains,\\? however improbable,\\? must be the truth\", \"Without followers,\\? evil cannot spread\", \"The needs of the many outweigh the needs of the few\", \"Highly illogical\", \"to boldly go where no man has gone before\", \"I'm giving her all she's got,\\? Captain\", \"Nuclear wessels\", \"Set phasers to stun\", \"Resistance is futile\", \"I have been and always shall be your friend\"]"
   ]
  },
  {
   "cell_type": "code",
   "execution_count": 5,
   "metadata": {
    "collapsed": false
   },
   "outputs": [
    {
     "name": "stdout",
     "output_type": "stream",
     "text": [
      "['Picard', 'Kirk', 'Sulu', 'Uhura', 'Spock', 'McCoy', 'Bones', 'Scotty', 'Chekhov', 'Crusher', 'Nurse Chapel', 'Sarek', 'Nero', 'Khan', 'Data', 'Pike', 'Star Trek', 'Klingon', 'Vulcan', 'Romulan', 'Star fleet', 'Starship Enterprise', 'Delta Vega', 'Earth', 'Orion', 'Romulan Narada', 'Stardate', 'Transporter beam', 'Beam me up,\\\\? Scotty', 'Kobayashi Maru', 'Space,\\\\? The Final Frontier', 'Energize', 'Vulcan Salute', 'Prime Directive', 'Live long and prosper', 'LLAP', \"I'm a doctor,\\\\? not a\", 'KHAAA\\\\+N', 'When you eliminate the impossible,\\\\? whatever remains,\\\\? however improbable,\\\\? must be the truth', 'Without followers,\\\\? evil cannot spread', 'The needs of the many outweigh the needs of the few', 'Highly illogical', 'to boldly go where no man has gone before', \"I'm giving her all she's got,\\\\? Captain\", 'Nuclear wessels', 'Set phasers to stun', 'Resistance is futile', 'I have been and always shall be your friend']\n"
     ]
    }
   ],
   "source": [
    "print(original_keywords)"
   ]
  },
  {
   "cell_type": "code",
   "execution_count": 6,
   "metadata": {
    "collapsed": true
   },
   "outputs": [],
   "source": [
    "ambiguous_keywords = [\n",
    "    'Bones',\n",
    "    'Khan',\n",
    "    'Data',\n",
    "    'Earth',\n",
    "    'Energize',\n",
    "]"
   ]
  },
  {
   "cell_type": "code",
   "execution_count": 7,
   "metadata": {
    "collapsed": true
   },
   "outputs": [],
   "source": [
    "keywords = list(set(original_keywords).difference(ambiguous_keywords))\n",
    "keywords = [w.replace('\\\\', '').lower() for w in keywords]\n",
    "keywords.sort()"
   ]
  },
  {
   "cell_type": "code",
   "execution_count": 8,
   "metadata": {
    "collapsed": false
   },
   "outputs": [
    {
     "name": "stdout",
     "output_type": "stream",
     "text": [
      "['beam me up,? scotty', 'chekhov', 'crusher', 'delta vega', 'highly illogical', 'i have been and always shall be your friend', \"i'm a doctor,? not a\", \"i'm giving her all she's got,? captain\", 'khaaa+n', 'kirk', 'klingon', 'kobayashi maru', 'live long and prosper', 'llap', 'mccoy', 'nero', 'nuclear wessels', 'nurse chapel', 'orion', 'picard', 'pike', 'prime directive', 'resistance is futile', 'romulan', 'romulan narada', 'sarek', 'scotty', 'set phasers to stun', 'space,? the final frontier', 'spock', 'star fleet', 'star trek', 'stardate', 'starship enterprise', 'sulu', 'the needs of the many outweigh the needs of the few', 'to boldly go where no man has gone before', 'transporter beam', 'uhura', 'vulcan', 'vulcan salute', 'when you eliminate the impossible,? whatever remains,? however improbable,? must be the truth', 'without followers,? evil cannot spread']\n"
     ]
    }
   ],
   "source": [
    "print(keywords)"
   ]
  },
  {
   "cell_type": "code",
   "execution_count": 9,
   "metadata": {
    "collapsed": false
   },
   "outputs": [
    {
     "name": "stdout",
     "output_type": "stream",
     "text": [
      "CPU times: user 28 s, sys: 1.13 s, total: 29.1 s\n",
      "Wall time: 29.1 s\n"
     ]
    }
   ],
   "source": [
    "%%time\n",
    "\n",
    "dtypes = {\n",
    "    'author': str,\n",
    "    'body': str,\n",
    "    'controversiality': str,\n",
    "    'created_utc': pd.tslib.Timestamp,\n",
    "    'distinguished': str,\n",
    "    'downs': str,\n",
    "    'gilded': str,\n",
    "    'id': str,\n",
    "    'name': str,\n",
    "    'parent_id': str,\n",
    "    'score': str,\n",
    "    'subreddit': str,\n",
    "    'ups': str,\n",
    "    'month': pd.tslib.Timestamp,\n",
    "    'year': pd.tslib.Timestamp,\n",
    "}\n",
    "\n",
    "reddit_df = pd.read_csv('reddit.csv', header=0, dtype=dtypes, parse_dates=['created_utc', 'month', 'year'])\n",
    "reddit_df = reddit_df.fillna('')"
   ]
  },
  {
   "cell_type": "code",
   "execution_count": 10,
   "metadata": {
    "collapsed": false
   },
   "outputs": [
    {
     "data": {
      "text/plain": [
       "2669814"
      ]
     },
     "execution_count": 10,
     "metadata": {},
     "output_type": "execute_result"
    }
   ],
   "source": [
    "len(reddit_df)"
   ]
  },
  {
   "cell_type": "code",
   "execution_count": 11,
   "metadata": {
    "collapsed": false
   },
   "outputs": [
    {
     "data": {
      "text/html": [
       "<div>\n",
       "<table border=\"1\" class=\"dataframe\">\n",
       "  <thead>\n",
       "    <tr style=\"text-align: right;\">\n",
       "      <th></th>\n",
       "      <th>author</th>\n",
       "      <th>body</th>\n",
       "      <th>controversiality</th>\n",
       "      <th>created_utc</th>\n",
       "      <th>distinguished</th>\n",
       "      <th>downs</th>\n",
       "      <th>gilded</th>\n",
       "      <th>id</th>\n",
       "      <th>name</th>\n",
       "      <th>parent_id</th>\n",
       "      <th>score</th>\n",
       "      <th>subreddit</th>\n",
       "      <th>ups</th>\n",
       "      <th>month</th>\n",
       "      <th>year</th>\n",
       "    </tr>\n",
       "  </thead>\n",
       "  <tbody>\n",
       "    <tr>\n",
       "      <th>0</th>\n",
       "      <td>gschizas</td>\n",
       "      <td>same in greek. my personal peeve: quite a lot ...</td>\n",
       "      <td>0</td>\n",
       "      <td>2007-10-15 15:22:33</td>\n",
       "      <td></td>\n",
       "      <td>0.0</td>\n",
       "      <td>0</td>\n",
       "      <td>c029c79</td>\n",
       "      <td>t1_c029c79</td>\n",
       "      <td>t1_c029brz</td>\n",
       "      <td>13</td>\n",
       "      <td>programming</td>\n",
       "      <td>13</td>\n",
       "      <td>2007-10-01</td>\n",
       "      <td>2007-01-01</td>\n",
       "    </tr>\n",
       "    <tr>\n",
       "      <th>1</th>\n",
       "      <td>[deleted]</td>\n",
       "      <td>&amp;gt;they also decided to rig a thermal barrier...</td>\n",
       "      <td>0</td>\n",
       "      <td>2007-10-16 05:11:09</td>\n",
       "      <td></td>\n",
       "      <td>0.0</td>\n",
       "      <td>0</td>\n",
       "      <td>c029g6h</td>\n",
       "      <td>t1_c029g6h</td>\n",
       "      <td>t3_5ye94</td>\n",
       "      <td>2</td>\n",
       "      <td>programming</td>\n",
       "      <td>2</td>\n",
       "      <td>2007-10-01</td>\n",
       "      <td>2007-01-01</td>\n",
       "    </tr>\n",
       "    <tr>\n",
       "      <th>2</th>\n",
       "      <td>johnmudd</td>\n",
       "      <td>&amp;gt; by the time a child born today graduates ...</td>\n",
       "      <td>0</td>\n",
       "      <td>2007-10-16 07:00:36</td>\n",
       "      <td></td>\n",
       "      <td>0.0</td>\n",
       "      <td>0</td>\n",
       "      <td>c029gfc</td>\n",
       "      <td>t1_c029gfc</td>\n",
       "      <td>t3_5ye9w</td>\n",
       "      <td>1</td>\n",
       "      <td>science</td>\n",
       "      <td>1</td>\n",
       "      <td>2007-10-01</td>\n",
       "      <td>2007-01-01</td>\n",
       "    </tr>\n",
       "    <tr>\n",
       "      <th>3</th>\n",
       "      <td>feliniti</td>\n",
       "      <td>nero 8 - bloated waste of money. unless you ha...</td>\n",
       "      <td>0</td>\n",
       "      <td>2007-10-16 07:10:27</td>\n",
       "      <td></td>\n",
       "      <td>0.0</td>\n",
       "      <td>0</td>\n",
       "      <td>c029gge</td>\n",
       "      <td>t1_c029gge</td>\n",
       "      <td>t3_5yej4</td>\n",
       "      <td>1</td>\n",
       "      <td>reddit.com</td>\n",
       "      <td>1</td>\n",
       "      <td>2007-10-01</td>\n",
       "      <td>2007-01-01</td>\n",
       "    </tr>\n",
       "    <tr>\n",
       "      <th>4</th>\n",
       "      <td>masklinn</td>\n",
       "      <td>&amp;gt; i wonder what happens if you started clea...</td>\n",
       "      <td>0</td>\n",
       "      <td>2007-10-16 11:27:15</td>\n",
       "      <td></td>\n",
       "      <td>0.0</td>\n",
       "      <td>0</td>\n",
       "      <td>c029hiy</td>\n",
       "      <td>t1_c029hiy</td>\n",
       "      <td>t1_c029h3y</td>\n",
       "      <td>3</td>\n",
       "      <td>reddit.com</td>\n",
       "      <td>3</td>\n",
       "      <td>2007-10-01</td>\n",
       "      <td>2007-01-01</td>\n",
       "    </tr>\n",
       "  </tbody>\n",
       "</table>\n",
       "</div>"
      ],
      "text/plain": [
       "      author                                               body  \\\n",
       "0   gschizas  same in greek. my personal peeve: quite a lot ...   \n",
       "1  [deleted]  &gt;they also decided to rig a thermal barrier...   \n",
       "2   johnmudd  &gt; by the time a child born today graduates ...   \n",
       "3   feliniti  nero 8 - bloated waste of money. unless you ha...   \n",
       "4   masklinn  &gt; i wonder what happens if you started clea...   \n",
       "\n",
       "  controversiality         created_utc distinguished downs gilded       id  \\\n",
       "0                0 2007-10-15 15:22:33                 0.0      0  c029c79   \n",
       "1                0 2007-10-16 05:11:09                 0.0      0  c029g6h   \n",
       "2                0 2007-10-16 07:00:36                 0.0      0  c029gfc   \n",
       "3                0 2007-10-16 07:10:27                 0.0      0  c029gge   \n",
       "4                0 2007-10-16 11:27:15                 0.0      0  c029hiy   \n",
       "\n",
       "         name   parent_id score    subreddit ups      month       year  \n",
       "0  t1_c029c79  t1_c029brz    13  programming  13 2007-10-01 2007-01-01  \n",
       "1  t1_c029g6h    t3_5ye94     2  programming   2 2007-10-01 2007-01-01  \n",
       "2  t1_c029gfc    t3_5ye9w     1      science   1 2007-10-01 2007-01-01  \n",
       "3  t1_c029gge    t3_5yej4     1   reddit.com   1 2007-10-01 2007-01-01  \n",
       "4  t1_c029hiy  t1_c029h3y     3   reddit.com   3 2007-10-01 2007-01-01  "
      ]
     },
     "execution_count": 11,
     "metadata": {},
     "output_type": "execute_result"
    }
   ],
   "source": [
    "reddit_df.head()"
   ]
  },
  {
   "cell_type": "markdown",
   "metadata": {},
   "source": [
    "# Analyzing data"
   ]
  },
  {
   "cell_type": "markdown",
   "metadata": {},
   "source": [
    "## Keywords"
   ]
  },
  {
   "cell_type": "code",
   "execution_count": 12,
   "metadata": {
    "collapsed": false
   },
   "outputs": [
    {
     "name": "stdout",
     "output_type": "stream",
     "text": [
      "CPU times: user 2min 20s, sys: 643 ms, total: 2min 21s\n",
      "Wall time: 2min 21s\n"
     ]
    }
   ],
   "source": [
    "%%time\n",
    "\n",
    "keywords_dict = {}\n",
    "for k in keywords:\n",
    "    keywords_dict[k] = reddit_df['body'].str.count(k).sum()"
   ]
  },
  {
   "cell_type": "code",
   "execution_count": 13,
   "metadata": {
    "collapsed": true
   },
   "outputs": [],
   "source": [
    "keywords_counter = Counter(keywords_dict)"
   ]
  },
  {
   "cell_type": "code",
   "execution_count": 14,
   "metadata": {
    "collapsed": false
   },
   "outputs": [
    {
     "data": {
      "text/plain": [
       "[('star trek', 738866),\n",
       " ('kirk', 280755),\n",
       " ('mccoy', 253387),\n",
       " ('orion', 240616),\n",
       " ('vulcan', 227583),\n",
       " ('pike', 195162),\n",
       " ('picard', 173336),\n",
       " ('spock', 138967),\n",
       " ('klingon', 115210),\n",
       " ('nero', 114120),\n",
       " ('crusher', 108201),\n",
       " ('scotty', 80689),\n",
       " ('romulan', 61021),\n",
       " ('chekhov', 37332),\n",
       " ('prime directive', 26544),\n",
       " ('resistance is futile', 22449),\n",
       " ('sulu', 17900),\n",
       " ('uhura', 12816),\n",
       " ('live long and prosper', 12422),\n",
       " ('star fleet', 10832),\n",
       " ('khaaa+n', 7343),\n",
       " ('stardate', 7265),\n",
       " ('llap', 6978),\n",
       " ('starship enterprise', 4862),\n",
       " ('kobayashi maru', 4349),\n",
       " ('the needs of the many outweigh the needs of the few', 3952),\n",
       " ('beam me up,? scotty', 3537),\n",
       " ('highly illogical', 3437),\n",
       " (\"i'm a doctor,? not a\", 2897),\n",
       " ('sarek', 2881),\n",
       " ('vulcan salute', 1635),\n",
       " ('nuclear wessels', 1454),\n",
       " ('to boldly go where no man has gone before', 970),\n",
       " ('space,? the final frontier', 791),\n",
       " ('transporter beam', 739),\n",
       " ('nurse chapel', 589),\n",
       " ('set phasers to stun', 409),\n",
       " ('delta vega', 296),\n",
       " (\"i'm giving her all she's got,? captain\", 186),\n",
       " ('i have been and always shall be your friend', 131),\n",
       " ('when you eliminate the impossible,? whatever remains,? however improbable,? must be the truth',\n",
       "  40),\n",
       " ('without followers,? evil cannot spread', 7),\n",
       " ('romulan narada', 3)]"
      ]
     },
     "execution_count": 14,
     "metadata": {},
     "output_type": "execute_result"
    }
   ],
   "source": [
    "keywords_counter.most_common()"
   ]
  },
  {
   "cell_type": "code",
   "execution_count": 15,
   "metadata": {
    "collapsed": true
   },
   "outputs": [],
   "source": [
    "keywords_sr = pd.Series(keywords_dict)"
   ]
  },
  {
   "cell_type": "code",
   "execution_count": 16,
   "metadata": {
    "collapsed": false
   },
   "outputs": [
    {
     "data": {
      "text/plain": [
       "<matplotlib.axes._subplots.AxesSubplot at 0x7f2a818ff320>"
      ]
     },
     "execution_count": 16,
     "metadata": {},
     "output_type": "execute_result"
    },
    {
     "data": {
      "image/png": "[encoded data removed]",
      "text/plain": [
       "<matplotlib.figure.Figure at 0x7f2a818fbba8>"
      ]
     },
     "metadata": {},
     "output_type": "display_data"
    }
   ],
   "source": [
    "keywords_sr.plot(\n",
    "    kind='bar',\n",
    "    figsize=(10, 5),\n",
    "    title='Global keyword histogram',\n",
    ")"
   ]
  },
  {
   "cell_type": "markdown",
   "metadata": {},
   "source": [
    "## Other words"
   ]
  },
  {
   "cell_type": "code",
   "execution_count": 17,
   "metadata": {
    "collapsed": false
   },
   "outputs": [],
   "source": [
    "# %%time\n",
    "\n",
    "# hist = Counter()\n",
    "# for text_ in reddit_df['body']:\n",
    "    \n",
    "#     list_ = [\n",
    "#         w\n",
    "#         for w in nltk.word_tokenize(text_)\n",
    "#         if len(w) > 2 and w not in stopwords.words('english')\n",
    "#     ]\n",
    "#     counter_ = Counter(list_)\n",
    "#     hist += counter_\n",
    "\n",
    "# CPU times: user days..., total: days...\n",
    "# Wall time: days..."
   ]
  },
  {
   "cell_type": "code",
   "execution_count": 18,
   "metadata": {
    "collapsed": true
   },
   "outputs": [],
   "source": [
    "# hist_sr = pd.Series(hist)"
   ]
  },
  {
   "cell_type": "code",
   "execution_count": 19,
   "metadata": {
    "collapsed": true
   },
   "outputs": [],
   "source": [
    "# hist_sr.to_csv('hist.csv')"
   ]
  },
  {
   "cell_type": "code",
   "execution_count": 20,
   "metadata": {
    "collapsed": true
   },
   "outputs": [],
   "source": [
    "hist_sr = pd.Series.from_csv('hist.csv')"
   ]
  },
  {
   "cell_type": "code",
   "execution_count": 21,
   "metadata": {
    "collapsed": false
   },
   "outputs": [],
   "source": [
    "sorted_hist_sr = hist_sr.sort_values(ascending=False)"
   ]
  },
  {
   "cell_type": "code",
   "execution_count": 22,
   "metadata": {
    "collapsed": false
   },
   "outputs": [
    {
     "data": {
      "text/plain": [
       "n't          1368858\n",
       "star          849101\n",
       "like          787049\n",
       "trek          782206\n",
       "http          711018\n",
       "would         687598\n",
       "one           568398\n",
       "...           495993\n",
       "get           434652\n",
       "think         419850\n",
       "people        384687\n",
       "time          371768\n",
       "really        346231\n",
       "also          344074\n",
       "good          334711\n",
       "even          324239\n",
       "could         320675\n",
       "amp           310748\n",
       "'re           306692\n",
       "much          288249\n",
       "know          279927\n",
       "see           275497\n",
       "kirk          261985\n",
       "first         256223\n",
       "https         253753\n",
       "well          249147\n",
       "'ve           245852\n",
       "make          243004\n",
       "mccoy         239518\n",
       "way           234845\n",
       "              ...   \n",
       "work          134045\n",
       "sure          133587\n",
       "look          131771\n",
       "always        129868\n",
       "series        126554\n",
       "spock         125645\n",
       "last          125219\n",
       "since         124841\n",
       "long          122863\n",
       "team          121644\n",
       "year          121064\n",
       "might         119176\n",
       "space         118526\n",
       "bad           115483\n",
       "play          115027\n",
       "little        114678\n",
       "used          113172\n",
       "maybe         111722\n",
       "different     110452\n",
       "another       109683\n",
       "***           109129\n",
       "find          108558\n",
       "episode       107985\n",
       "anything      107674\n",
       "someone       106278\n",
       "ever          104623\n",
       "enough        104195\n",
       "part          104133\n",
       "big           103869\n",
       "feel          103083\n",
       "dtype: int64"
      ]
     },
     "execution_count": 22,
     "metadata": {},
     "output_type": "execute_result"
    }
   ],
   "source": [
    "sorted_hist_sr.head(100)"
   ]
  },
  {
   "cell_type": "markdown",
   "metadata": {},
   "source": [
    "## Keywords in top words"
   ]
  },
  {
   "cell_type": "code",
   "execution_count": 23,
   "metadata": {
    "collapsed": true
   },
   "outputs": [],
   "source": [
    "P = 1"
   ]
  },
  {
   "cell_type": "code",
   "execution_count": 24,
   "metadata": {
    "collapsed": true
   },
   "outputs": [],
   "source": [
    "top_sorted_hist_sr = sorted_hist_sr[:len(sorted_hist_sr) * P // 100]"
   ]
  },
  {
   "cell_type": "code",
   "execution_count": 25,
   "metadata": {
    "collapsed": false
   },
   "outputs": [],
   "source": [
    "threshold = top_sorted_hist_sr[-1]"
   ]
  },
  {
   "cell_type": "code",
   "execution_count": 26,
   "metadata": {
    "collapsed": false
   },
   "outputs": [
    {
     "data": {
      "text/plain": [
       "278"
      ]
     },
     "execution_count": 26,
     "metadata": {},
     "output_type": "execute_result"
    }
   ],
   "source": [
    "threshold"
   ]
  },
  {
   "cell_type": "markdown",
   "metadata": {},
   "source": [
    "#### Yes"
   ]
  },
  {
   "cell_type": "code",
   "execution_count": 27,
   "metadata": {
    "collapsed": false
   },
   "outputs": [
    {
     "name": "stdout",
     "output_type": "stream",
     "text": [
      "star trek - 738866\n",
      "kirk - 280755\n",
      "mccoy - 253387\n",
      "orion - 240616\n",
      "vulcan - 227583\n",
      "pike - 195162\n",
      "picard - 173336\n",
      "spock - 138967\n",
      "klingon - 115210\n",
      "nero - 114120\n",
      "crusher - 108201\n",
      "scotty - 80689\n",
      "romulan - 61021\n",
      "chekhov - 37332\n",
      "prime directive - 26544\n",
      "resistance is futile - 22449\n",
      "sulu - 17900\n",
      "uhura - 12816\n",
      "live long and prosper - 12422\n",
      "star fleet - 10832\n",
      "khaaa+n - 7343\n",
      "stardate - 7265\n",
      "llap - 6978\n",
      "starship enterprise - 4862\n",
      "kobayashi maru - 4349\n",
      "the needs of the many outweigh the needs of the few - 3952\n",
      "beam me up,? scotty - 3537\n",
      "highly illogical - 3437\n",
      "i'm a doctor,? not a - 2897\n",
      "sarek - 2881\n",
      "vulcan salute - 1635\n",
      "nuclear wessels - 1454\n",
      "to boldly go where no man has gone before - 970\n",
      "space,? the final frontier - 791\n",
      "transporter beam - 739\n",
      "nurse chapel - 589\n",
      "set phasers to stun - 409\n",
      "delta vega - 296\n"
     ]
    }
   ],
   "source": [
    "for k, f in keywords_counter.most_common():\n",
    "    if f >= threshold:\n",
    "        print(k, '-', f)"
   ]
  },
  {
   "cell_type": "markdown",
   "metadata": {},
   "source": [
    "#### No"
   ]
  },
  {
   "cell_type": "code",
   "execution_count": 28,
   "metadata": {
    "collapsed": false
   },
   "outputs": [
    {
     "name": "stdout",
     "output_type": "stream",
     "text": [
      "i'm giving her all she's got,? captain - 186\n",
      "i have been and always shall be your friend - 131\n",
      "when you eliminate the impossible,? whatever remains,? however improbable,? must be the truth - 40\n",
      "without followers,? evil cannot spread - 7\n",
      "romulan narada - 3\n"
     ]
    }
   ],
   "source": [
    "for k, f in keywords_counter.most_common():\n",
    "    if f < threshold:\n",
    "        print(k, '-', f)"
   ]
  },
  {
   "cell_type": "code",
   "execution_count": null,
   "metadata": {
    "collapsed": true
   },
   "outputs": [],
   "source": []
  }
 ],
 "metadata": {
  "kernelspec": {
   "display_name": "Python 3",
   "language": "python",
   "name": "python3"
  },
  "language_info": {
   "codemirror_mode": {
    "name": "ipython",
    "version": 3
   },
   "file_extension": ".py",
   "mimetype": "text/x-python",
   "name": "python",
   "nbconvert_exporter": "python",
   "pygments_lexer": "ipython3",
   "version": "3.4.3"
  }
 },
 "nbformat": 4,
 "nbformat_minor": 2
}
