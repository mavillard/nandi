{
 "cells": [
  {
   "cell_type": "code",
   "execution_count": 1,
   "metadata": {
    "collapsed": false
   },
   "outputs": [],
   "source": [
    "import os\n",
    "import string\n",
    "from collections import Counter\n",
    "from datetime import datetime\n",
    "\n",
    "import nltk\n",
    "import pandas as pd\n",
    "import matplotlib\n",
    "import seaborn as sns\n",
    "from textblob import TextBlob\n",
    "from nltk.corpus import stopwords\n",
    "from nltk.util import ngrams"
   ]
  },
  {
   "cell_type": "code",
   "execution_count": 2,
   "metadata": {
    "collapsed": false
   },
   "outputs": [],
   "source": [
    "%matplotlib inline\n",
    "matplotlib.rcParams['figure.max_open_warning'] = 1000\n",
    "matplotlib.rcParams['lines.linewidth'] = 1.0\n",
    "\n",
    "pd.set_option('display.float_format', lambda x: '%.2f' % x)"
   ]
  },
  {
   "cell_type": "markdown",
   "metadata": {},
   "source": [
    "# Preparing data"
   ]
  },
  {
   "cell_type": "code",
   "execution_count": 3,
   "metadata": {
    "collapsed": true
   },
   "outputs": [],
   "source": [
    "original_keywords = [\"Picard\", \"Kirk\", \"Sulu\", \"Uhura\", \"Spock\", \"McCoy\", \"Bones\", \"Scotty\", \"Chekhov\", \"Crusher\", \"Nurse Chapel\", \"Sarek\", \"Nero\", \"Khan\", \"Data\", \"Pike\", \"Star Trek\", \"Klingon\", \"Vulcan\", \"Romulan\", \"Star fleet\", \"Starship Enterprise\", \"Delta Vega\", \"Earth\", \"Orion\", \"Romulan Narada\", \"Stardate\", \"Transporter beam\", \"Beam me up,\\? Scotty\", \"Kobayashi Maru\", \"Space,\\? The Final Frontier\", \"Energize\", \"Vulcan Salute\", \"Prime Directive\", \"Live long and prosper\", \"LLAP\", \"I'm a doctor,\\? not a\", \"KHAAA\\+N\", \"When you eliminate the impossible,\\? whatever remains,\\? however improbable,\\? must be the truth\", \"Without followers,\\? evil cannot spread\", \"The needs of the many outweigh the needs of the few\", \"Highly illogical\", \"to boldly go where no man has gone before\", \"I'm giving her all she's got,\\? Captain\", \"Nuclear wessels\", \"Set phasers to stun\", \"Resistance is futile\", \"I have been and always shall be your friend\"]"
   ]
  },
  {
   "cell_type": "code",
   "execution_count": 4,
   "metadata": {
    "collapsed": false
   },
   "outputs": [
    {
     "name": "stdout",
     "output_type": "stream",
     "text": [
      "['Picard', 'Kirk', 'Sulu', 'Uhura', 'Spock', 'McCoy', 'Bones', 'Scotty', 'Chekhov', 'Crusher', 'Nurse Chapel', 'Sarek', 'Nero', 'Khan', 'Data', 'Pike', 'Star Trek', 'Klingon', 'Vulcan', 'Romulan', 'Star fleet', 'Starship Enterprise', 'Delta Vega', 'Earth', 'Orion', 'Romulan Narada', 'Stardate', 'Transporter beam', 'Beam me up,\\\\? Scotty', 'Kobayashi Maru', 'Space,\\\\? The Final Frontier', 'Energize', 'Vulcan Salute', 'Prime Directive', 'Live long and prosper', 'LLAP', \"I'm a doctor,\\\\? not a\", 'KHAAA\\\\+N', 'When you eliminate the impossible,\\\\? whatever remains,\\\\? however improbable,\\\\? must be the truth', 'Without followers,\\\\? evil cannot spread', 'The needs of the many outweigh the needs of the few', 'Highly illogical', 'to boldly go where no man has gone before', \"I'm giving her all she's got,\\\\? Captain\", 'Nuclear wessels', 'Set phasers to stun', 'Resistance is futile', 'I have been and always shall be your friend']\n"
     ]
    }
   ],
   "source": [
    "print(original_keywords)"
   ]
  },
  {
   "cell_type": "code",
   "execution_count": 5,
   "metadata": {
    "collapsed": true
   },
   "outputs": [],
   "source": [
    "ambiguous_keywords = [\n",
    "    'Bones',\n",
    "    'Khan',\n",
    "    'Data',\n",
    "    'Earth',\n",
    "    'Energize',\n",
    "]"
   ]
  },
  {
   "cell_type": "code",
   "execution_count": 6,
   "metadata": {
    "collapsed": true
   },
   "outputs": [],
   "source": [
    "keywords = list(set(original_keywords).difference(ambiguous_keywords))\n",
    "keywords = [w.replace('\\\\', '').lower() for w in keywords]\n",
    "keywords.sort()"
   ]
  },
  {
   "cell_type": "code",
   "execution_count": 7,
   "metadata": {
    "collapsed": false
   },
   "outputs": [
    {
     "name": "stdout",
     "output_type": "stream",
     "text": [
      "['beam me up,? scotty', 'chekhov', 'crusher', 'delta vega', 'highly illogical', 'i have been and always shall be your friend', \"i'm a doctor,? not a\", \"i'm giving her all she's got,? captain\", 'khaaa+n', 'kirk', 'klingon', 'kobayashi maru', 'live long and prosper', 'llap', 'mccoy', 'nero', 'nuclear wessels', 'nurse chapel', 'orion', 'picard', 'pike', 'prime directive', 'resistance is futile', 'romulan', 'romulan narada', 'sarek', 'scotty', 'set phasers to stun', 'space,? the final frontier', 'spock', 'star fleet', 'star trek', 'stardate', 'starship enterprise', 'sulu', 'the needs of the many outweigh the needs of the few', 'to boldly go where no man has gone before', 'transporter beam', 'uhura', 'vulcan', 'vulcan salute', 'when you eliminate the impossible,? whatever remains,? however improbable,? must be the truth', 'without followers,? evil cannot spread']\n"
     ]
    }
   ],
   "source": [
    "print(keywords)"
   ]
  },
  {
   "cell_type": "code",
   "execution_count": 8,
   "metadata": {
    "collapsed": false
   },
   "outputs": [
    {
     "name": "stdout",
     "output_type": "stream",
     "text": [
      "CPU times: user 35.1 s, sys: 2.2 s, total: 37.3 s\n",
      "Wall time: 52.5 s\n"
     ]
    }
   ],
   "source": [
    "%%time\n",
    "\n",
    "dtypes = {\n",
    "    'author': str,\n",
    "    'body': str,\n",
    "    'controversiality': str,\n",
    "    'created_utc': pd.tslib.Timestamp,\n",
    "    'distinguished': str,\n",
    "    'downs': str,\n",
    "    'gilded': str,\n",
    "    'id': str,\n",
    "    'name': str,\n",
    "    'parent_id': str,\n",
    "    'score': str,\n",
    "    'subreddit': str,\n",
    "    'ups': str,\n",
    "    'month': pd.tslib.Timestamp,\n",
    "    'year': pd.tslib.Timestamp,\n",
    "}\n",
    "\n",
    "reddit_df = pd.read_csv('reddit.csv', header=0, dtype=dtypes, parse_dates=['created_utc', 'month', 'year'])\n",
    "reddit_df = reddit_df.fillna('')"
   ]
  },
  {
   "cell_type": "code",
   "execution_count": 9,
   "metadata": {
    "collapsed": false
   },
   "outputs": [
    {
     "data": {
      "text/plain": [
       "2669814"
      ]
     },
     "execution_count": 9,
     "metadata": {},
     "output_type": "execute_result"
    }
   ],
   "source": [
    "len(reddit_df)"
   ]
  },
  {
   "cell_type": "code",
   "execution_count": 10,
   "metadata": {
    "collapsed": false
   },
   "outputs": [
    {
     "data": {
      "text/html": [
       "<div>\n",
       "<table border=\"1\" class=\"dataframe\">\n",
       "  <thead>\n",
       "    <tr style=\"text-align: right;\">\n",
       "      <th></th>\n",
       "      <th>author</th>\n",
       "      <th>body</th>\n",
       "      <th>controversiality</th>\n",
       "      <th>created_utc</th>\n",
       "      <th>distinguished</th>\n",
       "      <th>downs</th>\n",
       "      <th>gilded</th>\n",
       "      <th>id</th>\n",
       "      <th>name</th>\n",
       "      <th>parent_id</th>\n",
       "      <th>score</th>\n",
       "      <th>subreddit</th>\n",
       "      <th>ups</th>\n",
       "      <th>month</th>\n",
       "      <th>year</th>\n",
       "    </tr>\n",
       "  </thead>\n",
       "  <tbody>\n",
       "    <tr>\n",
       "      <th>0</th>\n",
       "      <td>gschizas</td>\n",
       "      <td>same in greek. my personal peeve: quite a lot ...</td>\n",
       "      <td>0</td>\n",
       "      <td>2007-10-15 15:22:33</td>\n",
       "      <td></td>\n",
       "      <td>0.0</td>\n",
       "      <td>0</td>\n",
       "      <td>c029c79</td>\n",
       "      <td>t1_c029c79</td>\n",
       "      <td>t1_c029brz</td>\n",
       "      <td>13</td>\n",
       "      <td>programming</td>\n",
       "      <td>13</td>\n",
       "      <td>2007-10-01</td>\n",
       "      <td>2007-01-01</td>\n",
       "    </tr>\n",
       "    <tr>\n",
       "      <th>1</th>\n",
       "      <td>[deleted]</td>\n",
       "      <td>&amp;gt;they also decided to rig a thermal barrier...</td>\n",
       "      <td>0</td>\n",
       "      <td>2007-10-16 05:11:09</td>\n",
       "      <td></td>\n",
       "      <td>0.0</td>\n",
       "      <td>0</td>\n",
       "      <td>c029g6h</td>\n",
       "      <td>t1_c029g6h</td>\n",
       "      <td>t3_5ye94</td>\n",
       "      <td>2</td>\n",
       "      <td>programming</td>\n",
       "      <td>2</td>\n",
       "      <td>2007-10-01</td>\n",
       "      <td>2007-01-01</td>\n",
       "    </tr>\n",
       "    <tr>\n",
       "      <th>2</th>\n",
       "      <td>johnmudd</td>\n",
       "      <td>&amp;gt; by the time a child born today graduates ...</td>\n",
       "      <td>0</td>\n",
       "      <td>2007-10-16 07:00:36</td>\n",
       "      <td></td>\n",
       "      <td>0.0</td>\n",
       "      <td>0</td>\n",
       "      <td>c029gfc</td>\n",
       "      <td>t1_c029gfc</td>\n",
       "      <td>t3_5ye9w</td>\n",
       "      <td>1</td>\n",
       "      <td>science</td>\n",
       "      <td>1</td>\n",
       "      <td>2007-10-01</td>\n",
       "      <td>2007-01-01</td>\n",
       "    </tr>\n",
       "    <tr>\n",
       "      <th>3</th>\n",
       "      <td>feliniti</td>\n",
       "      <td>nero 8 - bloated waste of money. unless you ha...</td>\n",
       "      <td>0</td>\n",
       "      <td>2007-10-16 07:10:27</td>\n",
       "      <td></td>\n",
       "      <td>0.0</td>\n",
       "      <td>0</td>\n",
       "      <td>c029gge</td>\n",
       "      <td>t1_c029gge</td>\n",
       "      <td>t3_5yej4</td>\n",
       "      <td>1</td>\n",
       "      <td>reddit.com</td>\n",
       "      <td>1</td>\n",
       "      <td>2007-10-01</td>\n",
       "      <td>2007-01-01</td>\n",
       "    </tr>\n",
       "    <tr>\n",
       "      <th>4</th>\n",
       "      <td>masklinn</td>\n",
       "      <td>&amp;gt; i wonder what happens if you started clea...</td>\n",
       "      <td>0</td>\n",
       "      <td>2007-10-16 11:27:15</td>\n",
       "      <td></td>\n",
       "      <td>0.0</td>\n",
       "      <td>0</td>\n",
       "      <td>c029hiy</td>\n",
       "      <td>t1_c029hiy</td>\n",
       "      <td>t1_c029h3y</td>\n",
       "      <td>3</td>\n",
       "      <td>reddit.com</td>\n",
       "      <td>3</td>\n",
       "      <td>2007-10-01</td>\n",
       "      <td>2007-01-01</td>\n",
       "    </tr>\n",
       "  </tbody>\n",
       "</table>\n",
       "</div>"
      ],
      "text/plain": [
       "      author                                               body  \\\n",
       "0   gschizas  same in greek. my personal peeve: quite a lot ...   \n",
       "1  [deleted]  &gt;they also decided to rig a thermal barrier...   \n",
       "2   johnmudd  &gt; by the time a child born today graduates ...   \n",
       "3   feliniti  nero 8 - bloated waste of money. unless you ha...   \n",
       "4   masklinn  &gt; i wonder what happens if you started clea...   \n",
       "\n",
       "  controversiality         created_utc distinguished downs gilded       id  \\\n",
       "0                0 2007-10-15 15:22:33                 0.0      0  c029c79   \n",
       "1                0 2007-10-16 05:11:09                 0.0      0  c029g6h   \n",
       "2                0 2007-10-16 07:00:36                 0.0      0  c029gfc   \n",
       "3                0 2007-10-16 07:10:27                 0.0      0  c029gge   \n",
       "4                0 2007-10-16 11:27:15                 0.0      0  c029hiy   \n",
       "\n",
       "         name   parent_id score    subreddit ups      month       year  \n",
       "0  t1_c029c79  t1_c029brz    13  programming  13 2007-10-01 2007-01-01  \n",
       "1  t1_c029g6h    t3_5ye94     2  programming   2 2007-10-01 2007-01-01  \n",
       "2  t1_c029gfc    t3_5ye9w     1      science   1 2007-10-01 2007-01-01  \n",
       "3  t1_c029gge    t3_5yej4     1   reddit.com   1 2007-10-01 2007-01-01  \n",
       "4  t1_c029hiy  t1_c029h3y     3   reddit.com   3 2007-10-01 2007-01-01  "
      ]
     },
     "execution_count": 10,
     "metadata": {},
     "output_type": "execute_result"
    }
   ],
   "source": [
    "reddit_df.head()"
   ]
  },
  {
   "cell_type": "markdown",
   "metadata": {},
   "source": [
    "# Analyzing data"
   ]
  },
  {
   "cell_type": "markdown",
   "metadata": {},
   "source": [
    "## Subreddits"
   ]
  },
  {
   "cell_type": "code",
   "execution_count": 11,
   "metadata": {
    "collapsed": false
   },
   "outputs": [
    {
     "data": {
      "text/plain": [
       "24076"
      ]
     },
     "execution_count": 11,
     "metadata": {},
     "output_type": "execute_result"
    }
   ],
   "source": [
    "reddit_df['subreddit'].nunique()"
   ]
  },
  {
   "cell_type": "code",
   "execution_count": 12,
   "metadata": {
    "collapsed": false
   },
   "outputs": [
    {
     "data": {
      "text/plain": [
       "AdviceAnimals           216848\n",
       "startrek                182534\n",
       "AskReddit               179550\n",
       "fantasyfootball          92045\n",
       "movies                   65545\n",
       "nfl                      62410\n",
       "Smite                    58973\n",
       "DaystromInstitute        57314\n",
       "sto                      44103\n",
       "funny                    37788\n",
       "doctorwho                35282\n",
       "pics                     35054\n",
       "scifi                    33434\n",
       "Planetside               27387\n",
       "todayilearned            25934\n",
       "GlobalOffensiveTrade     25360\n",
       "motorcycles              24585\n",
       "SquaredCircle            20231\n",
       "Civcraft                 19555\n",
       "IAmA                     18502\n",
       "gaming                   18339\n",
       "atheism                  18110\n",
       "grandorder               16730\n",
       "chicagobulls             16501\n",
       "videos                   16271\n",
       "nba                      16193\n",
       "PercyJacksonRP           15635\n",
       "CFB                      15368\n",
       "WTF                      13752\n",
       "TheDescendantsOfRome     13213\n",
       "                         ...  \n",
       "rescuecats                   1\n",
       "CritiqueCorner               1\n",
       "LCSGaming                    1\n",
       "Traditionalism_forum         1\n",
       "transadorable                1\n",
       "exposingbigotry              1\n",
       "Carlislehighschool           1\n",
       "Closeminded                  1\n",
       "DANNEBROW                    1\n",
       "ozkehr                       1\n",
       "Mattisgayyyyy                1\n",
       "ihatezelsman                 1\n",
       "BlueBarryMuffins             1\n",
       "pepperspraycop               1\n",
       "TheNinjaCrusadePBP           1\n",
       "HerpDerpecistan              1\n",
       "B2Spirit                     1\n",
       "CallOfDutyRedCross           1\n",
       "PolinaYakhanova              1\n",
       "Redditlution                 1\n",
       "intraday                     1\n",
       "CTCD                         1\n",
       "Instagramshoutouts           1\n",
       "beertradecirclejerk          1\n",
       "Duedisms                     1\n",
       "Toolscraft                   1\n",
       "NoGameNoLife                 1\n",
       "milanrecords                 1\n",
       "party_tricks                 1\n",
       "PZPN                         1\n",
       "Name: subreddit, dtype: int64"
      ]
     },
     "execution_count": 12,
     "metadata": {},
     "output_type": "execute_result"
    }
   ],
   "source": [
    "reddit_df['subreddit'].value_counts()"
   ]
  },
  {
   "cell_type": "markdown",
   "metadata": {},
   "source": [
    "## Global variables"
   ]
  },
  {
   "cell_type": "code",
   "execution_count": 13,
   "metadata": {
    "collapsed": true
   },
   "outputs": [],
   "source": [
    "valid_dates = pd.date_range('2007-10-1', '2016-08-31', freq='MS')"
   ]
  },
  {
   "cell_type": "code",
   "execution_count": 14,
   "metadata": {
    "collapsed": true
   },
   "outputs": [],
   "source": [
    "P = 10"
   ]
  },
  {
   "cell_type": "markdown",
   "metadata": {},
   "source": [
    "## AskReddit"
   ]
  },
  {
   "cell_type": "code",
   "execution_count": 15,
   "metadata": {
    "collapsed": true
   },
   "outputs": [],
   "source": [
    "subreddit = 'AskReddit'\n",
    "\n",
    "peaks = ['2008-02-01', '2009-05-01', '2010-01-01', '2012-07-01', '2013-06-01',]\n",
    "peaks = list(map(pd.lib.Timestamp, peaks))\n",
    "\n",
    "title = 'Number of comments on subreddit \\'' + subreddit + '\\' by month'"
   ]
  },
  {
   "cell_type": "code",
   "execution_count": 16,
   "metadata": {
    "collapsed": false
   },
   "outputs": [
    {
     "name": "stdout",
     "output_type": "stream",
     "text": [
      "CPU times: user 380 ms, sys: 100 ms, total: 480 ms\n",
      "Wall time: 601 ms\n"
     ]
    }
   ],
   "source": [
    "%%time\n",
    "\n",
    "subreddit_df = reddit_df[reddit_df['subreddit'] == subreddit]"
   ]
  },
  {
   "cell_type": "code",
   "execution_count": 17,
   "metadata": {
    "collapsed": false
   },
   "outputs": [
    {
     "data": {
      "text/plain": [
       "179550"
      ]
     },
     "execution_count": 17,
     "metadata": {},
     "output_type": "execute_result"
    }
   ],
   "source": [
    "len(subreddit_df)"
   ]
  },
  {
   "cell_type": "code",
   "execution_count": 18,
   "metadata": {
    "collapsed": true
   },
   "outputs": [],
   "source": [
    "subreddit_by_month = pd.Series(subreddit_df.groupby('month')['id'].count())\n",
    "subreddit_by_month.index.name = None"
   ]
  },
  {
   "cell_type": "code",
   "execution_count": 19,
   "metadata": {
    "collapsed": false
   },
   "outputs": [],
   "source": [
    "show_dates = [x.strftime('%Y %b') if x in peaks else '' for x in valid_dates]"
   ]
  },
  {
   "cell_type": "code",
   "execution_count": 20,
   "metadata": {
    "collapsed": false
   },
   "outputs": [
    {
     "data": {
      "image/png": "[encoded data removed]",
      "text/plain": [
       "<matplotlib.figure.Figure at 0x7fb2cf3455f8>"
      ]
     },
     "metadata": {},
     "output_type": "display_data"
    }
   ],
   "source": [
    "ax = subreddit_by_month.plot(\n",
    "    figsize=(10, 5),\n",
    "    xlim=('2007-10-01', '2016-08-31'),\n",
    "    xticks=valid_dates,\n",
    "    rot=60,\n",
    "    title=title,\n",
    ")\n",
    "ax.set_xticklabels(show_dates);"
   ]
  },
  {
   "cell_type": "markdown",
   "metadata": {},
   "source": [
    "### Peaks"
   ]
  },
  {
   "cell_type": "code",
   "execution_count": 21,
   "metadata": {
    "collapsed": false
   },
   "outputs": [
    {
     "data": {
      "text/plain": [
       "[Timestamp('2008-02-01 00:00:00'),\n",
       " Timestamp('2009-05-01 00:00:00'),\n",
       " Timestamp('2010-01-01 00:00:00'),\n",
       " Timestamp('2012-07-01 00:00:00'),\n",
       " Timestamp('2013-06-01 00:00:00')]"
      ]
     },
     "execution_count": 21,
     "metadata": {},
     "output_type": "execute_result"
    }
   ],
   "source": [
    "peaks"
   ]
  },
  {
   "cell_type": "markdown",
   "metadata": {},
   "source": [
    "#### 2009-05-01"
   ]
  },
  {
   "cell_type": "code",
   "execution_count": 22,
   "metadata": {
    "collapsed": true
   },
   "outputs": [],
   "source": [
    "date = '2009-05-01'"
   ]
  },
  {
   "cell_type": "code",
   "execution_count": 23,
   "metadata": {
    "collapsed": true
   },
   "outputs": [],
   "source": [
    "subreddit_date_df = subreddit_df[subreddit_df['month'] == date]"
   ]
  },
  {
   "cell_type": "code",
   "execution_count": 24,
   "metadata": {
    "collapsed": false
   },
   "outputs": [
    {
     "data": {
      "text/plain": [
       "495"
      ]
     },
     "execution_count": 24,
     "metadata": {},
     "output_type": "execute_result"
    }
   ],
   "source": [
    "len(subreddit_date_df)"
   ]
  },
  {
   "cell_type": "markdown",
   "metadata": {},
   "source": [
    "#### Histogram"
   ]
  },
  {
   "cell_type": "markdown",
   "metadata": {},
   "source": [
    "###### Keywords"
   ]
  },
  {
   "cell_type": "code",
   "execution_count": 25,
   "metadata": {
    "collapsed": true
   },
   "outputs": [],
   "source": [
    "keywords_dict = {}\n",
    "for keyword in keywords:\n",
    "    keyword_df = subreddit_date_df[subreddit_date_df['body'].str.contains(keyword)]\n",
    "    count = keyword_df['body'].str.count(keyword).sum()\n",
    "    keywords_dict[keyword] = count"
   ]
  },
  {
   "cell_type": "code",
   "execution_count": 26,
   "metadata": {
    "collapsed": false
   },
   "outputs": [],
   "source": [
    "keywords_counter = Counter(keywords_dict)"
   ]
  },
  {
   "cell_type": "code",
   "execution_count": 27,
   "metadata": {
    "collapsed": false
   },
   "outputs": [
    {
     "data": {
      "text/plain": [
       "[('star trek', 304),\n",
       " ('kirk', 132),\n",
       " ('spock', 125),\n",
       " ('vulcan', 73),\n",
       " ('picard', 46),\n",
       " ('romulan', 31),\n",
       " ('nero', 29),\n",
       " ('klingon', 20),\n",
       " ('pike', 19),\n",
       " ('scotty', 17),\n",
       " ('orion', 16),\n",
       " ('uhura', 14),\n",
       " ('mccoy', 12),\n",
       " ('sulu', 12),\n",
       " ('khaaa+n', 7),\n",
       " ('kobayashi maru', 6),\n",
       " ('resistance is futile', 4),\n",
       " ('prime directive', 3),\n",
       " ('highly illogical', 3),\n",
       " ('sarek', 2),\n",
       " ('llap', 2),\n",
       " ('star fleet', 2),\n",
       " ('the needs of the many outweigh the needs of the few', 1),\n",
       " ('nuclear wessels', 1),\n",
       " ('chekhov', 1),\n",
       " ('live long and prosper', 1),\n",
       " ('stardate', 1),\n",
       " ('when you eliminate the impossible,? whatever remains,? however improbable,? must be the truth',\n",
       "  0),\n",
       " (\"i'm a doctor,? not a\", 0),\n",
       " ('i have been and always shall be your friend', 0),\n",
       " ('crusher', 0),\n",
       " ('beam me up,? scotty', 0),\n",
       " ('vulcan salute', 0),\n",
       " ('set phasers to stun', 0),\n",
       " ('to boldly go where no man has gone before', 0),\n",
       " (\"i'm giving her all she's got,? captain\", 0),\n",
       " ('delta vega', 0),\n",
       " ('nurse chapel', 0),\n",
       " ('starship enterprise', 0),\n",
       " ('space,? the final frontier', 0),\n",
       " ('without followers,? evil cannot spread', 0),\n",
       " ('transporter beam', 0),\n",
       " ('romulan narada', 0)]"
      ]
     },
     "execution_count": 27,
     "metadata": {},
     "output_type": "execute_result"
    }
   ],
   "source": [
    "keywords_counter.most_common()"
   ]
  },
  {
   "cell_type": "code",
   "execution_count": 28,
   "metadata": {
    "collapsed": true
   },
   "outputs": [],
   "source": [
    "keywords_sr = pd.Series(keywords_dict)"
   ]
  },
  {
   "cell_type": "code",
   "execution_count": 29,
   "metadata": {
    "collapsed": false
   },
   "outputs": [
    {
     "data": {
      "text/plain": [
       "<matplotlib.axes._subplots.AxesSubplot at 0x7fb2eff8aa58>"
      ]
     },
     "execution_count": 29,
     "metadata": {},
     "output_type": "execute_result"
    },
    {
     "data": {
      "image/png": "[encoded data removed]",
      "text/plain": [
       "<matplotlib.figure.Figure at 0x7fb2cd73a470>"
      ]
     },
     "metadata": {},
     "output_type": "display_data"
    }
   ],
   "source": [
    "keywords_sr.plot(\n",
    "    kind='bar',\n",
    "    figsize=(10, 5),\n",
    "    title='Keyword histogram on ' + date,\n",
    ")"
   ]
  },
  {
   "cell_type": "markdown",
   "metadata": {},
   "source": [
    "###### Other words"
   ]
  },
  {
   "cell_type": "code",
   "execution_count": 30,
   "metadata": {
    "collapsed": false
   },
   "outputs": [
    {
     "name": "stdout",
     "output_type": "stream",
     "text": [
      "CPU times: user 5.26 s, sys: 328 ms, total: 5.59 s\n",
      "Wall time: 5.88 s\n"
     ]
    }
   ],
   "source": [
    "%%time\n",
    "\n",
    "text_ = ''\n",
    "for x in subreddit_date_df['body']:\n",
    "    text_ += x + ' '\n",
    "\n",
    "list_ = [\n",
    "    w\n",
    "    for w in nltk.word_tokenize(text_)\n",
    "    if w not in stopwords.words('english') and w not in string.punctuation\n",
    "]\n",
    "\n",
    "counter_ = Counter(list_)"
   ]
  },
  {
   "cell_type": "code",
   "execution_count": 31,
   "metadata": {
    "collapsed": false
   },
   "outputs": [
    {
     "data": {
      "text/plain": [
       "[('star', 319),\n",
       " ('trek', 319),\n",
       " (\"'s\", 305),\n",
       " (\"n't\", 215),\n",
       " ('movie', 167),\n",
       " (\"''\", 152),\n",
       " ('like', 152),\n",
       " ('``', 152),\n",
       " ('would', 145),\n",
       " ('time', 121),\n",
       " ('kirk', 120),\n",
       " ('spock', 113),\n",
       " ('one', 112),\n",
       " ('...', 110),\n",
       " (\"'m\", 91),\n",
       " ('really', 90),\n",
       " ('good', 86),\n",
       " ('first', 86),\n",
       " ('people', 80),\n",
       " ('see', 77)]"
      ]
     },
     "execution_count": 31,
     "metadata": {},
     "output_type": "execute_result"
    }
   ],
   "source": [
    "counter_.most_common(20)"
   ]
  },
  {
   "cell_type": "markdown",
   "metadata": {},
   "source": [
    "#### Sentiment analysis"
   ]
  },
  {
   "cell_type": "markdown",
   "metadata": {},
   "source": [
    "- The polarity score is a float within the range [-1.0, 1.0].\n",
    "- The subjectivity is a float within the range [0.0, 1.0] where 0.0 is very objective and 1.0 is very subjective."
   ]
  },
  {
   "cell_type": "code",
   "execution_count": 32,
   "metadata": {
    "collapsed": false
   },
   "outputs": [
    {
     "name": "stdout",
     "output_type": "stream",
     "text": [
      "CPU times: user 464 ms, sys: 0 ns, total: 464 ms\n",
      "Wall time: 564 ms\n"
     ]
    }
   ],
   "source": [
    "%%time\n",
    "\n",
    "sentiment_list = []\n",
    "for x in subreddit_date_df['body']:\n",
    "    tb = TextBlob(x)\n",
    "    sentiment_list.append((x, tb.sentiment.polarity, tb.sentiment.subjectivity))"
   ]
  },
  {
   "cell_type": "code",
   "execution_count": 33,
   "metadata": {
    "collapsed": false
   },
   "outputs": [],
   "source": [
    "sentiment_df = pd.DataFrame(sentiment_list, columns=['body', 'sentiment', 'subjectivity'])"
   ]
  },
  {
   "cell_type": "code",
   "execution_count": 34,
   "metadata": {
    "collapsed": false
   },
   "outputs": [
    {
     "data": {
      "text/html": [
       "<div>\n",
       "<table border=\"1\" class=\"dataframe\">\n",
       "  <thead>\n",
       "    <tr style=\"text-align: right;\">\n",
       "      <th></th>\n",
       "      <th>body</th>\n",
       "      <th>sentiment</th>\n",
       "      <th>subjectivity</th>\n",
       "    </tr>\n",
       "  </thead>\n",
       "  <tbody>\n",
       "    <tr>\n",
       "      <th>0</th>\n",
       "      <td>the 8th is also opening day for star trek, kin...</td>\n",
       "      <td>0.60</td>\n",
       "      <td>0.90</td>\n",
       "    </tr>\n",
       "    <tr>\n",
       "      <th>1</th>\n",
       "      <td>1. put on a birthday hat, go to a coffee shop,...</td>\n",
       "      <td>0.22</td>\n",
       "      <td>0.60</td>\n",
       "    </tr>\n",
       "    <tr>\n",
       "      <th>2</th>\n",
       "      <td>i throw the \"live long and prosper\" sign all t...</td>\n",
       "      <td>0.04</td>\n",
       "      <td>0.45</td>\n",
       "    </tr>\n",
       "    <tr>\n",
       "      <th>3</th>\n",
       "      <td>i'm deuteranoptic myself.  so i absolutely don...</td>\n",
       "      <td>0.03</td>\n",
       "      <td>0.37</td>\n",
       "    </tr>\n",
       "    <tr>\n",
       "      <th>4</th>\n",
       "      <td>try for a nice vulcan lass then</td>\n",
       "      <td>0.60</td>\n",
       "      <td>1.00</td>\n",
       "    </tr>\n",
       "  </tbody>\n",
       "</table>\n",
       "</div>"
      ],
      "text/plain": [
       "                                                body  sentiment  subjectivity\n",
       "0  the 8th is also opening day for star trek, kin...       0.60          0.90\n",
       "1  1. put on a birthday hat, go to a coffee shop,...       0.22          0.60\n",
       "2  i throw the \"live long and prosper\" sign all t...       0.04          0.45\n",
       "3  i'm deuteranoptic myself.  so i absolutely don...       0.03          0.37\n",
       "4                    try for a nice vulcan lass then       0.60          1.00"
      ]
     },
     "execution_count": 34,
     "metadata": {},
     "output_type": "execute_result"
    }
   ],
   "source": [
    "sentiment_df.head()"
   ]
  },
  {
   "cell_type": "code",
   "execution_count": 35,
   "metadata": {
    "collapsed": false
   },
   "outputs": [
    {
     "data": {
      "text/plain": [
       "0.11422600837005575"
      ]
     },
     "execution_count": 35,
     "metadata": {},
     "output_type": "execute_result"
    }
   ],
   "source": [
    "sentiment_df['sentiment'].mean()"
   ]
  },
  {
   "cell_type": "code",
   "execution_count": 36,
   "metadata": {
    "collapsed": false
   },
   "outputs": [
    {
     "data": {
      "text/plain": [
       "0.41543679432474867"
      ]
     },
     "execution_count": 36,
     "metadata": {},
     "output_type": "execute_result"
    }
   ],
   "source": [
    "sentiment_df['subjectivity'].mean()"
   ]
  },
  {
   "cell_type": "markdown",
   "metadata": {},
   "source": [
    "##### Histogram top positive"
   ]
  },
  {
   "cell_type": "code",
   "execution_count": 37,
   "metadata": {
    "collapsed": false
   },
   "outputs": [],
   "source": [
    "top_df = sentiment_df.sort_values('sentiment', ascending=False)[:len(subreddit_date_df) * P // 100]"
   ]
  },
  {
   "cell_type": "code",
   "execution_count": 38,
   "metadata": {
    "collapsed": false
   },
   "outputs": [
    {
     "data": {
      "text/html": [
       "<div>\n",
       "<table border=\"1\" class=\"dataframe\">\n",
       "  <thead>\n",
       "    <tr style=\"text-align: right;\">\n",
       "      <th></th>\n",
       "      <th>body</th>\n",
       "      <th>sentiment</th>\n",
       "      <th>subjectivity</th>\n",
       "    </tr>\n",
       "  </thead>\n",
       "  <tbody>\n",
       "    <tr>\n",
       "      <th>69</th>\n",
       "      <td>simon pegg as scotty was perfect.</td>\n",
       "      <td>1.00</td>\n",
       "      <td>1.00</td>\n",
       "    </tr>\n",
       "    <tr>\n",
       "      <th>426</th>\n",
       "      <td>tng is the best. worf, data, picard. best star...</td>\n",
       "      <td>1.00</td>\n",
       "      <td>0.30</td>\n",
       "    </tr>\n",
       "    <tr>\n",
       "      <th>412</th>\n",
       "      <td>check out pike's peak.  it's awesome!!</td>\n",
       "      <td>1.00</td>\n",
       "      <td>1.00</td>\n",
       "    </tr>\n",
       "    <tr>\n",
       "      <th>117</th>\n",
       "      <td>because i went to see the 10.00 am screening o...</td>\n",
       "      <td>1.00</td>\n",
       "      <td>0.30</td>\n",
       "    </tr>\n",
       "    <tr>\n",
       "      <th>139</th>\n",
       "      <td>\"i saw star trek yesterday in oslo norway. tha...</td>\n",
       "      <td>0.82</td>\n",
       "      <td>0.88</td>\n",
       "    </tr>\n",
       "    <tr>\n",
       "      <th>306</th>\n",
       "      <td>depends is kirk, pecard, or kirk-b captaining?...</td>\n",
       "      <td>0.80</td>\n",
       "      <td>0.40</td>\n",
       "    </tr>\n",
       "    <tr>\n",
       "      <th>135</th>\n",
       "      <td>easily the best star trek movie ever made.</td>\n",
       "      <td>0.72</td>\n",
       "      <td>0.57</td>\n",
       "    </tr>\n",
       "    <tr>\n",
       "      <th>272</th>\n",
       "      <td>star trek iv is probably the best introduction...</td>\n",
       "      <td>0.69</td>\n",
       "      <td>0.53</td>\n",
       "    </tr>\n",
       "    <tr>\n",
       "      <th>10</th>\n",
       "      <td>&amp;gt; * make people sing the happy birthday son...</td>\n",
       "      <td>0.69</td>\n",
       "      <td>0.87</td>\n",
       "    </tr>\n",
       "    <tr>\n",
       "      <th>247</th>\n",
       "      <td>amazingly, my dvds of pre-abrams star trek sti...</td>\n",
       "      <td>0.60</td>\n",
       "      <td>0.90</td>\n",
       "    </tr>\n",
       "    <tr>\n",
       "      <th>483</th>\n",
       "      <td>honestly, i would suggest to stop using the bl...</td>\n",
       "      <td>0.60</td>\n",
       "      <td>0.90</td>\n",
       "    </tr>\n",
       "    <tr>\n",
       "      <th>99</th>\n",
       "      <td>what i didn't like: -  - * the sword fight on ...</td>\n",
       "      <td>0.60</td>\n",
       "      <td>0.80</td>\n",
       "    </tr>\n",
       "    <tr>\n",
       "      <th>0</th>\n",
       "      <td>the 8th is also opening day for star trek, kin...</td>\n",
       "      <td>0.60</td>\n",
       "      <td>0.90</td>\n",
       "    </tr>\n",
       "    <tr>\n",
       "      <th>11</th>\n",
       "      <td>the skydiving from space scene was cut from st...</td>\n",
       "      <td>0.60</td>\n",
       "      <td>0.55</td>\n",
       "    </tr>\n",
       "    <tr>\n",
       "      <th>4</th>\n",
       "      <td>try for a nice vulcan lass then</td>\n",
       "      <td>0.60</td>\n",
       "      <td>1.00</td>\n",
       "    </tr>\n",
       "    <tr>\n",
       "      <th>365</th>\n",
       "      <td>i'm star trek enthusiast and i really enjoyed ...</td>\n",
       "      <td>0.59</td>\n",
       "      <td>0.67</td>\n",
       "    </tr>\n",
       "    <tr>\n",
       "      <th>404</th>\n",
       "      <td>the hoh rainforest on the olympic peninsula, p...</td>\n",
       "      <td>0.59</td>\n",
       "      <td>0.60</td>\n",
       "    </tr>\n",
       "    <tr>\n",
       "      <th>264</th>\n",
       "      <td>^ this ^ -  - but don't forget star trek the a...</td>\n",
       "      <td>0.57</td>\n",
       "      <td>0.55</td>\n",
       "    </tr>\n",
       "    <tr>\n",
       "      <th>318</th>\n",
       "      <td>with logic faculties that acute, are you sure ...</td>\n",
       "      <td>0.55</td>\n",
       "      <td>0.89</td>\n",
       "    </tr>\n",
       "    <tr>\n",
       "      <th>141</th>\n",
       "      <td>i'd rate this one in the top three -- star tre...</td>\n",
       "      <td>0.52</td>\n",
       "      <td>0.62</td>\n",
       "    </tr>\n",
       "    <tr>\n",
       "      <th>417</th>\n",
       "      <td>if you can, rent a car. figuring out the trans...</td>\n",
       "      <td>0.51</td>\n",
       "      <td>0.55</td>\n",
       "    </tr>\n",
       "    <tr>\n",
       "      <th>433</th>\n",
       "      <td>when asked about star trek films, i also recom...</td>\n",
       "      <td>0.50</td>\n",
       "      <td>0.69</td>\n",
       "    </tr>\n",
       "    <tr>\n",
       "      <th>210</th>\n",
       "      <td>star trek &amp;gt; star wars -  -  -  - technology...</td>\n",
       "      <td>0.50</td>\n",
       "      <td>1.00</td>\n",
       "    </tr>\n",
       "    <tr>\n",
       "      <th>208</th>\n",
       "      <td>if you like star trek we could probably be bes...</td>\n",
       "      <td>0.50</td>\n",
       "      <td>0.35</td>\n",
       "    </tr>\n",
       "    <tr>\n",
       "      <th>409</th>\n",
       "      <td>the latest star trek.</td>\n",
       "      <td>0.50</td>\n",
       "      <td>0.90</td>\n",
       "    </tr>\n",
       "    <tr>\n",
       "      <th>195</th>\n",
       "      <td>this has got to be the most hopeful thing i've...</td>\n",
       "      <td>0.50</td>\n",
       "      <td>0.50</td>\n",
       "    </tr>\n",
       "    <tr>\n",
       "      <th>420</th>\n",
       "      <td>if you are a star trek fan, the franklin has t...</td>\n",
       "      <td>0.50</td>\n",
       "      <td>0.62</td>\n",
       "    </tr>\n",
       "    <tr>\n",
       "      <th>136</th>\n",
       "      <td>well, for example, at the when nero showed up,...</td>\n",
       "      <td>0.49</td>\n",
       "      <td>0.64</td>\n",
       "    </tr>\n",
       "    <tr>\n",
       "      <th>197</th>\n",
       "      <td>thanks :) -  - and wow! star trek was awesome!...</td>\n",
       "      <td>0.47</td>\n",
       "      <td>0.74</td>\n",
       "    </tr>\n",
       "    <tr>\n",
       "      <th>474</th>\n",
       "      <td>old kirk was badass. picard was awesome and di...</td>\n",
       "      <td>0.46</td>\n",
       "      <td>0.64</td>\n",
       "    </tr>\n",
       "    <tr>\n",
       "      <th>430</th>\n",
       "      <td>all tos episodes are available free on [youtub...</td>\n",
       "      <td>0.45</td>\n",
       "      <td>0.58</td>\n",
       "    </tr>\n",
       "    <tr>\n",
       "      <th>413</th>\n",
       "      <td>ah yes! star trek is great. this is a lovely a...</td>\n",
       "      <td>0.45</td>\n",
       "      <td>0.60</td>\n",
       "    </tr>\n",
       "    <tr>\n",
       "      <th>335</th>\n",
       "      <td>**watch star trek** -  - that was easy</td>\n",
       "      <td>0.43</td>\n",
       "      <td>0.83</td>\n",
       "    </tr>\n",
       "    <tr>\n",
       "      <th>199</th>\n",
       "      <td>what if i recommended going and seeing star tr...</td>\n",
       "      <td>0.43</td>\n",
       "      <td>0.70</td>\n",
       "    </tr>\n",
       "    <tr>\n",
       "      <th>94</th>\n",
       "      <td>also, \"are you out of your vulcan mind?\" kind ...</td>\n",
       "      <td>0.42</td>\n",
       "      <td>0.63</td>\n",
       "    </tr>\n",
       "    <tr>\n",
       "      <th>219</th>\n",
       "      <td>the genitals of the average redditor are proba...</td>\n",
       "      <td>0.42</td>\n",
       "      <td>0.35</td>\n",
       "    </tr>\n",
       "    <tr>\n",
       "      <th>70</th>\n",
       "      <td>beautiful movie. better then this trekkie anti...</td>\n",
       "      <td>0.42</td>\n",
       "      <td>0.47</td>\n",
       "    </tr>\n",
       "    <tr>\n",
       "      <th>262</th>\n",
       "      <td>insurrection was the star trek \"action\" movie ...</td>\n",
       "      <td>0.42</td>\n",
       "      <td>0.55</td>\n",
       "    </tr>\n",
       "    <tr>\n",
       "      <th>100</th>\n",
       "      <td>never saw any episode of star trek but it was ...</td>\n",
       "      <td>0.42</td>\n",
       "      <td>0.62</td>\n",
       "    </tr>\n",
       "    <tr>\n",
       "      <th>74</th>\n",
       "      <td>yeah, i'm no trekkie but didn't they take a gr...</td>\n",
       "      <td>0.41</td>\n",
       "      <td>0.50</td>\n",
       "    </tr>\n",
       "    <tr>\n",
       "      <th>470</th>\n",
       "      <td>i like musicbrainz a lot. i've done a fair amo...</td>\n",
       "      <td>0.41</td>\n",
       "      <td>0.93</td>\n",
       "    </tr>\n",
       "    <tr>\n",
       "      <th>403</th>\n",
       "      <td>[astronomyforum.net](http://www.astronomyforum...</td>\n",
       "      <td>0.41</td>\n",
       "      <td>0.60</td>\n",
       "    </tr>\n",
       "    <tr>\n",
       "      <th>392</th>\n",
       "      <td>exactly!  it's star trek, we're geeks... what ...</td>\n",
       "      <td>0.41</td>\n",
       "      <td>0.38</td>\n",
       "    </tr>\n",
       "    <tr>\n",
       "      <th>126</th>\n",
       "      <td>there's no drm in m4a. -  - actually, i'd like...</td>\n",
       "      <td>0.40</td>\n",
       "      <td>0.50</td>\n",
       "    </tr>\n",
       "    <tr>\n",
       "      <th>275</th>\n",
       "      <td>in fact, the one that kirk picked up and looke...</td>\n",
       "      <td>0.40</td>\n",
       "      <td>0.50</td>\n",
       "    </tr>\n",
       "    <tr>\n",
       "      <th>245</th>\n",
       "      <td>i suggest to stay away from the films v and up...</td>\n",
       "      <td>0.40</td>\n",
       "      <td>0.70</td>\n",
       "    </tr>\n",
       "    <tr>\n",
       "      <th>72</th>\n",
       "      <td>really?  the guy playing spock was my favorite...</td>\n",
       "      <td>0.39</td>\n",
       "      <td>0.62</td>\n",
       "    </tr>\n",
       "    <tr>\n",
       "      <th>259</th>\n",
       "      <td>i honestly wouldn't bother, if you liked the l...</td>\n",
       "      <td>0.38</td>\n",
       "      <td>0.69</td>\n",
       "    </tr>\n",
       "    <tr>\n",
       "      <th>489</th>\n",
       "      <td>the new star trek has some interesting renders...</td>\n",
       "      <td>0.38</td>\n",
       "      <td>0.48</td>\n",
       "    </tr>\n",
       "  </tbody>\n",
       "</table>\n",
       "</div>"
      ],
      "text/plain": [
       "                                                  body  sentiment  \\\n",
       "69                   simon pegg as scotty was perfect.       1.00   \n",
       "426  tng is the best. worf, data, picard. best star...       1.00   \n",
       "412             check out pike's peak.  it's awesome!!       1.00   \n",
       "117  because i went to see the 10.00 am screening o...       1.00   \n",
       "139  \"i saw star trek yesterday in oslo norway. tha...       0.82   \n",
       "306  depends is kirk, pecard, or kirk-b captaining?...       0.80   \n",
       "135         easily the best star trek movie ever made.       0.72   \n",
       "272  star trek iv is probably the best introduction...       0.69   \n",
       "10   &gt; * make people sing the happy birthday son...       0.69   \n",
       "247  amazingly, my dvds of pre-abrams star trek sti...       0.60   \n",
       "483  honestly, i would suggest to stop using the bl...       0.60   \n",
       "99   what i didn't like: -  - * the sword fight on ...       0.60   \n",
       "0    the 8th is also opening day for star trek, kin...       0.60   \n",
       "11   the skydiving from space scene was cut from st...       0.60   \n",
       "4                      try for a nice vulcan lass then       0.60   \n",
       "365  i'm star trek enthusiast and i really enjoyed ...       0.59   \n",
       "404  the hoh rainforest on the olympic peninsula, p...       0.59   \n",
       "264  ^ this ^ -  - but don't forget star trek the a...       0.57   \n",
       "318  with logic faculties that acute, are you sure ...       0.55   \n",
       "141  i'd rate this one in the top three -- star tre...       0.52   \n",
       "417  if you can, rent a car. figuring out the trans...       0.51   \n",
       "433  when asked about star trek films, i also recom...       0.50   \n",
       "210  star trek &gt; star wars -  -  -  - technology...       0.50   \n",
       "208  if you like star trek we could probably be bes...       0.50   \n",
       "409                              the latest star trek.       0.50   \n",
       "195  this has got to be the most hopeful thing i've...       0.50   \n",
       "420  if you are a star trek fan, the franklin has t...       0.50   \n",
       "136  well, for example, at the when nero showed up,...       0.49   \n",
       "197  thanks :) -  - and wow! star trek was awesome!...       0.47   \n",
       "474  old kirk was badass. picard was awesome and di...       0.46   \n",
       "430  all tos episodes are available free on [youtub...       0.45   \n",
       "413  ah yes! star trek is great. this is a lovely a...       0.45   \n",
       "335             **watch star trek** -  - that was easy       0.43   \n",
       "199  what if i recommended going and seeing star tr...       0.43   \n",
       "94   also, \"are you out of your vulcan mind?\" kind ...       0.42   \n",
       "219  the genitals of the average redditor are proba...       0.42   \n",
       "70   beautiful movie. better then this trekkie anti...       0.42   \n",
       "262  insurrection was the star trek \"action\" movie ...       0.42   \n",
       "100  never saw any episode of star trek but it was ...       0.42   \n",
       "74   yeah, i'm no trekkie but didn't they take a gr...       0.41   \n",
       "470  i like musicbrainz a lot. i've done a fair amo...       0.41   \n",
       "403  [astronomyforum.net](http://www.astronomyforum...       0.41   \n",
       "392  exactly!  it's star trek, we're geeks... what ...       0.41   \n",
       "126  there's no drm in m4a. -  - actually, i'd like...       0.40   \n",
       "275  in fact, the one that kirk picked up and looke...       0.40   \n",
       "245  i suggest to stay away from the films v and up...       0.40   \n",
       "72   really?  the guy playing spock was my favorite...       0.39   \n",
       "259  i honestly wouldn't bother, if you liked the l...       0.38   \n",
       "489  the new star trek has some interesting renders...       0.38   \n",
       "\n",
       "     subjectivity  \n",
       "69           1.00  \n",
       "426          0.30  \n",
       "412          1.00  \n",
       "117          0.30  \n",
       "139          0.88  \n",
       "306          0.40  \n",
       "135          0.57  \n",
       "272          0.53  \n",
       "10           0.87  \n",
       "247          0.90  \n",
       "483          0.90  \n",
       "99           0.80  \n",
       "0            0.90  \n",
       "11           0.55  \n",
       "4            1.00  \n",
       "365          0.67  \n",
       "404          0.60  \n",
       "264          0.55  \n",
       "318          0.89  \n",
       "141          0.62  \n",
       "417          0.55  \n",
       "433          0.69  \n",
       "210          1.00  \n",
       "208          0.35  \n",
       "409          0.90  \n",
       "195          0.50  \n",
       "420          0.62  \n",
       "136          0.64  \n",
       "197          0.74  \n",
       "474          0.64  \n",
       "430          0.58  \n",
       "413          0.60  \n",
       "335          0.83  \n",
       "199          0.70  \n",
       "94           0.63  \n",
       "219          0.35  \n",
       "70           0.47  \n",
       "262          0.55  \n",
       "100          0.62  \n",
       "74           0.50  \n",
       "470          0.93  \n",
       "403          0.60  \n",
       "392          0.38  \n",
       "126          0.50  \n",
       "275          0.50  \n",
       "245          0.70  \n",
       "72           0.62  \n",
       "259          0.69  \n",
       "489          0.48  "
      ]
     },
     "execution_count": 38,
     "metadata": {},
     "output_type": "execute_result"
    }
   ],
   "source": [
    "top_df"
   ]
  },
  {
   "cell_type": "code",
   "execution_count": 39,
   "metadata": {
    "collapsed": false
   },
   "outputs": [
    {
     "name": "stdout",
     "output_type": "stream",
     "text": [
      "CPU times: user 340 ms, sys: 12 ms, total: 352 ms\n",
      "Wall time: 350 ms\n"
     ]
    }
   ],
   "source": [
    "%%time\n",
    "\n",
    "top_text = ''\n",
    "for x in top_df['body']:\n",
    "    top_text += x + ' '\n",
    "\n",
    "top_list = [\n",
    "    w\n",
    "    for w in nltk.word_tokenize(top_text)\n",
    "    if w not in stopwords.words('english') and w not in string.punctuation\n",
    "]"
   ]
  },
  {
   "cell_type": "code",
   "execution_count": 40,
   "metadata": {
    "collapsed": true
   },
   "outputs": [],
   "source": [
    "top_counter = Counter(top_list)"
   ]
  },
  {
   "cell_type": "code",
   "execution_count": 41,
   "metadata": {
    "collapsed": false
   },
   "outputs": [
    {
     "data": {
      "text/plain": [
       "[('star', 38),\n",
       " ('trek', 34),\n",
       " (\"'s\", 23),\n",
       " (\"n't\", 13),\n",
       " ('good', 12),\n",
       " ('movie', 12),\n",
       " ('http', 12),\n",
       " ('make', 11),\n",
       " ('gt', 10),\n",
       " ('would', 10),\n",
       " ('like', 9),\n",
       " ('best', 9),\n",
       " ('great', 9),\n",
       " ('people', 9),\n",
       " ('one', 8),\n",
       " ('happy', 7),\n",
       " ('awesome', 7),\n",
       " ('kirk', 7),\n",
       " ('song', 7),\n",
       " ('also', 7)]"
      ]
     },
     "execution_count": 41,
     "metadata": {},
     "output_type": "execute_result"
    }
   ],
   "source": [
    "top_counter.most_common(20)"
   ]
  },
  {
   "cell_type": "markdown",
   "metadata": {},
   "source": [
    "##### Histogram top negative"
   ]
  },
  {
   "cell_type": "code",
   "execution_count": 42,
   "metadata": {
    "collapsed": false
   },
   "outputs": [],
   "source": [
    "top_df = sentiment_df.sort_values('sentiment', ascending=True)[:len(subreddit_date_df) * P // 100]"
   ]
  },
  {
   "cell_type": "code",
   "execution_count": 43,
   "metadata": {
    "collapsed": false
   },
   "outputs": [
    {
     "data": {
      "text/html": [
       "<div>\n",
       "<table border=\"1\" class=\"dataframe\">\n",
       "  <thead>\n",
       "    <tr style=\"text-align: right;\">\n",
       "      <th></th>\n",
       "      <th>body</th>\n",
       "      <th>sentiment</th>\n",
       "      <th>subjectivity</th>\n",
       "    </tr>\n",
       "  </thead>\n",
       "  <tbody>\n",
       "    <tr>\n",
       "      <th>372</th>\n",
       "      <td>warp drive is the worst thing to happen to sta...</td>\n",
       "      <td>-1.00</td>\n",
       "      <td>1.00</td>\n",
       "    </tr>\n",
       "    <tr>\n",
       "      <th>348</th>\n",
       "      <td>i can curl my tongue, wiggle ears, do vulcan v...</td>\n",
       "      <td>-0.75</td>\n",
       "      <td>1.00</td>\n",
       "    </tr>\n",
       "    <tr>\n",
       "      <th>398</th>\n",
       "      <td>haha, reminds me of phillip seymour hoffman's ...</td>\n",
       "      <td>-0.70</td>\n",
       "      <td>0.68</td>\n",
       "    </tr>\n",
       "    <tr>\n",
       "      <th>87</th>\n",
       "      <td>was anyone else shocked to see winona ryder's ...</td>\n",
       "      <td>-0.70</td>\n",
       "      <td>0.80</td>\n",
       "    </tr>\n",
       "    <tr>\n",
       "      <th>414</th>\n",
       "      <td>fucking star trek</td>\n",
       "      <td>-0.60</td>\n",
       "      <td>0.80</td>\n",
       "    </tr>\n",
       "    <tr>\n",
       "      <th>294</th>\n",
       "      <td>i'd make it in to a cutting edge sci fi starri...</td>\n",
       "      <td>-0.60</td>\n",
       "      <td>0.90</td>\n",
       "    </tr>\n",
       "    <tr>\n",
       "      <th>112</th>\n",
       "      <td>star trek was missing ugly ewoks.</td>\n",
       "      <td>-0.45</td>\n",
       "      <td>0.53</td>\n",
       "    </tr>\n",
       "    <tr>\n",
       "      <th>467</th>\n",
       "      <td>i grew up watching kirk, he had a way with the...</td>\n",
       "      <td>-0.40</td>\n",
       "      <td>0.60</td>\n",
       "    </tr>\n",
       "    <tr>\n",
       "      <th>466</th>\n",
       "      <td>fuck kirk, picard is the man, you can just out...</td>\n",
       "      <td>-0.40</td>\n",
       "      <td>0.60</td>\n",
       "    </tr>\n",
       "    <tr>\n",
       "      <th>104</th>\n",
       "      <td>1. nimoy -  -  -  - 2. how the fuck can you no...</td>\n",
       "      <td>-0.40</td>\n",
       "      <td>0.60</td>\n",
       "    </tr>\n",
       "    <tr>\n",
       "      <th>221</th>\n",
       "      <td>he's....half vulcan, if you know what i mean.</td>\n",
       "      <td>-0.31</td>\n",
       "      <td>0.69</td>\n",
       "    </tr>\n",
       "    <tr>\n",
       "      <th>239</th>\n",
       "      <td>think ye might be a bit disappointed if ye wat...</td>\n",
       "      <td>-0.31</td>\n",
       "      <td>0.60</td>\n",
       "    </tr>\n",
       "    <tr>\n",
       "      <th>363</th>\n",
       "      <td>so, let's see - kirk, sulu, and a random extra...</td>\n",
       "      <td>-0.30</td>\n",
       "      <td>0.53</td>\n",
       "    </tr>\n",
       "    <tr>\n",
       "      <th>256</th>\n",
       "      <td>star trek (at least not yet).</td>\n",
       "      <td>-0.30</td>\n",
       "      <td>0.40</td>\n",
       "    </tr>\n",
       "    <tr>\n",
       "      <th>325</th>\n",
       "      <td>read shakespeare aloud at least fifteen minute...</td>\n",
       "      <td>-0.30</td>\n",
       "      <td>0.40</td>\n",
       "    </tr>\n",
       "    <tr>\n",
       "      <th>442</th>\n",
       "      <td>i really thought this would be about picard an...</td>\n",
       "      <td>-0.28</td>\n",
       "      <td>0.47</td>\n",
       "    </tr>\n",
       "    <tr>\n",
       "      <th>113</th>\n",
       "      <td>never watched star trek :/</td>\n",
       "      <td>-0.25</td>\n",
       "      <td>1.00</td>\n",
       "    </tr>\n",
       "    <tr>\n",
       "      <th>193</th>\n",
       "      <td>i read somewhere that happened in a tos episod...</td>\n",
       "      <td>-0.25</td>\n",
       "      <td>0.25</td>\n",
       "    </tr>\n",
       "    <tr>\n",
       "      <th>360</th>\n",
       "      <td>it was total garbage, 90210 in space, and it n...</td>\n",
       "      <td>-0.23</td>\n",
       "      <td>0.54</td>\n",
       "    </tr>\n",
       "    <tr>\n",
       "      <th>67</th>\n",
       "      <td>&amp;gt;heroes, teachers, rescuers, what have you....</td>\n",
       "      <td>-0.22</td>\n",
       "      <td>0.50</td>\n",
       "    </tr>\n",
       "    <tr>\n",
       "      <th>286</th>\n",
       "      <td>watch them all starting from the original. if ...</td>\n",
       "      <td>-0.21</td>\n",
       "      <td>0.62</td>\n",
       "    </tr>\n",
       "    <tr>\n",
       "      <th>389</th>\n",
       "      <td>are you implying that kirk and spock and spock...</td>\n",
       "      <td>-0.20</td>\n",
       "      <td>0.00</td>\n",
       "    </tr>\n",
       "    <tr>\n",
       "      <th>320</th>\n",
       "      <td>[star fleet command](http://en.wikipedia.org/w...</td>\n",
       "      <td>-0.20</td>\n",
       "      <td>0.10</td>\n",
       "    </tr>\n",
       "    <tr>\n",
       "      <th>370</th>\n",
       "      <td>i'm sorry, but no one with any discernment reg...</td>\n",
       "      <td>-0.20</td>\n",
       "      <td>0.71</td>\n",
       "    </tr>\n",
       "    <tr>\n",
       "      <th>194</th>\n",
       "      <td>just saw star trek last thursday, the movie tu...</td>\n",
       "      <td>-0.19</td>\n",
       "      <td>0.42</td>\n",
       "    </tr>\n",
       "    <tr>\n",
       "      <th>202</th>\n",
       "      <td>weird, the new spock makes my forehead tingle.</td>\n",
       "      <td>-0.18</td>\n",
       "      <td>0.73</td>\n",
       "    </tr>\n",
       "    <tr>\n",
       "      <th>206</th>\n",
       "      <td>at a (very small town's) star trek club in ire...</td>\n",
       "      <td>-0.18</td>\n",
       "      <td>0.35</td>\n",
       "    </tr>\n",
       "    <tr>\n",
       "      <th>54</th>\n",
       "      <td>your damn right, my asshole will one day consu...</td>\n",
       "      <td>-0.18</td>\n",
       "      <td>0.76</td>\n",
       "    </tr>\n",
       "    <tr>\n",
       "      <th>402</th>\n",
       "      <td>\"i'm just saying that you would not be mad if ...</td>\n",
       "      <td>-0.16</td>\n",
       "      <td>0.56</td>\n",
       "    </tr>\n",
       "    <tr>\n",
       "      <th>484</th>\n",
       "      <td>nero was a roman emperor who let rome burn down.</td>\n",
       "      <td>-0.16</td>\n",
       "      <td>0.29</td>\n",
       "    </tr>\n",
       "    <tr>\n",
       "      <th>102</th>\n",
       "      <td>average length picard?</td>\n",
       "      <td>-0.15</td>\n",
       "      <td>0.40</td>\n",
       "    </tr>\n",
       "    <tr>\n",
       "      <th>223</th>\n",
       "      <td>indeed.  i also suspect that the planet vulcan...</td>\n",
       "      <td>-0.15</td>\n",
       "      <td>0.62</td>\n",
       "    </tr>\n",
       "    <tr>\n",
       "      <th>390</th>\n",
       "      <td>someone or something will, yes.  it is highly ...</td>\n",
       "      <td>-0.15</td>\n",
       "      <td>0.52</td>\n",
       "    </tr>\n",
       "    <tr>\n",
       "      <th>274</th>\n",
       "      <td>the casting is what made it awesome to me.  i ...</td>\n",
       "      <td>-0.14</td>\n",
       "      <td>0.78</td>\n",
       "    </tr>\n",
       "    <tr>\n",
       "      <th>153</th>\n",
       "      <td>what does everyone see in this movie? i hated ...</td>\n",
       "      <td>-0.14</td>\n",
       "      <td>0.45</td>\n",
       "    </tr>\n",
       "    <tr>\n",
       "      <th>456</th>\n",
       "      <td>[in an interview with star trek magazine, scot...</td>\n",
       "      <td>-0.13</td>\n",
       "      <td>0.25</td>\n",
       "    </tr>\n",
       "    <tr>\n",
       "      <th>61</th>\n",
       "      <td>my nerdy self will be at the 10:30 am showing ...</td>\n",
       "      <td>-0.12</td>\n",
       "      <td>0.38</td>\n",
       "    </tr>\n",
       "    <tr>\n",
       "      <th>55</th>\n",
       "      <td>spock dies -  -  -  - kirk gets an alien std -...</td>\n",
       "      <td>-0.12</td>\n",
       "      <td>0.38</td>\n",
       "    </tr>\n",
       "    <tr>\n",
       "      <th>407</th>\n",
       "      <td>the borg are a cybernetic civilization in the ...</td>\n",
       "      <td>-0.12</td>\n",
       "      <td>0.38</td>\n",
       "    </tr>\n",
       "    <tr>\n",
       "      <th>122</th>\n",
       "      <td>what about \"classic bud\" or whatever the fuck ...</td>\n",
       "      <td>-0.12</td>\n",
       "      <td>0.38</td>\n",
       "    </tr>\n",
       "    <tr>\n",
       "      <th>488</th>\n",
       "      <td>actually, my star trek original series torrent...</td>\n",
       "      <td>-0.11</td>\n",
       "      <td>0.41</td>\n",
       "    </tr>\n",
       "    <tr>\n",
       "      <th>125</th>\n",
       "      <td>funny story really. i went to the theater and ...</td>\n",
       "      <td>-0.11</td>\n",
       "      <td>0.72</td>\n",
       "    </tr>\n",
       "    <tr>\n",
       "      <th>263</th>\n",
       "      <td>&amp;gt;once you're done with that, watch star tre...</td>\n",
       "      <td>-0.11</td>\n",
       "      <td>0.45</td>\n",
       "    </tr>\n",
       "    <tr>\n",
       "      <th>367</th>\n",
       "      <td>vulcan and romulus can still be in the next fe...</td>\n",
       "      <td>-0.10</td>\n",
       "      <td>0.05</td>\n",
       "    </tr>\n",
       "    <tr>\n",
       "      <th>261</th>\n",
       "      <td>&amp;gt;can anyone find me the episode where it ex...</td>\n",
       "      <td>-0.10</td>\n",
       "      <td>0.65</td>\n",
       "    </tr>\n",
       "    <tr>\n",
       "      <th>50</th>\n",
       "      <td>hyperdrive.  a sci fi comedy from the bbc.   -...</td>\n",
       "      <td>-0.10</td>\n",
       "      <td>0.42</td>\n",
       "    </tr>\n",
       "    <tr>\n",
       "      <th>478</th>\n",
       "      <td>the man from earth (by jerome bixby) -  - it's...</td>\n",
       "      <td>-0.09</td>\n",
       "      <td>0.51</td>\n",
       "    </tr>\n",
       "    <tr>\n",
       "      <th>378</th>\n",
       "      <td>&amp;gt; voy has the notable and difficult-to-atta...</td>\n",
       "      <td>-0.09</td>\n",
       "      <td>0.49</td>\n",
       "    </tr>\n",
       "    <tr>\n",
       "      <th>162</th>\n",
       "      <td>i thought it was \"unrealistic\" on many differe...</td>\n",
       "      <td>-0.09</td>\n",
       "      <td>0.55</td>\n",
       "    </tr>\n",
       "  </tbody>\n",
       "</table>\n",
       "</div>"
      ],
      "text/plain": [
       "                                                  body  sentiment  \\\n",
       "372  warp drive is the worst thing to happen to sta...      -1.00   \n",
       "348  i can curl my tongue, wiggle ears, do vulcan v...      -0.75   \n",
       "398  haha, reminds me of phillip seymour hoffman's ...      -0.70   \n",
       "87   was anyone else shocked to see winona ryder's ...      -0.70   \n",
       "414                                  fucking star trek      -0.60   \n",
       "294  i'd make it in to a cutting edge sci fi starri...      -0.60   \n",
       "112                  star trek was missing ugly ewoks.      -0.45   \n",
       "467  i grew up watching kirk, he had a way with the...      -0.40   \n",
       "466  fuck kirk, picard is the man, you can just out...      -0.40   \n",
       "104  1. nimoy -  -  -  - 2. how the fuck can you no...      -0.40   \n",
       "221      he's....half vulcan, if you know what i mean.      -0.31   \n",
       "239  think ye might be a bit disappointed if ye wat...      -0.31   \n",
       "363  so, let's see - kirk, sulu, and a random extra...      -0.30   \n",
       "256                      star trek (at least not yet).      -0.30   \n",
       "325  read shakespeare aloud at least fifteen minute...      -0.30   \n",
       "442  i really thought this would be about picard an...      -0.28   \n",
       "113                         never watched star trek :/      -0.25   \n",
       "193  i read somewhere that happened in a tos episod...      -0.25   \n",
       "360  it was total garbage, 90210 in space, and it n...      -0.23   \n",
       "67   &gt;heroes, teachers, rescuers, what have you....      -0.22   \n",
       "286  watch them all starting from the original. if ...      -0.21   \n",
       "389  are you implying that kirk and spock and spock...      -0.20   \n",
       "320  [star fleet command](http://en.wikipedia.org/w...      -0.20   \n",
       "370  i'm sorry, but no one with any discernment reg...      -0.20   \n",
       "194  just saw star trek last thursday, the movie tu...      -0.19   \n",
       "202     weird, the new spock makes my forehead tingle.      -0.18   \n",
       "206  at a (very small town's) star trek club in ire...      -0.18   \n",
       "54   your damn right, my asshole will one day consu...      -0.18   \n",
       "402  \"i'm just saying that you would not be mad if ...      -0.16   \n",
       "484   nero was a roman emperor who let rome burn down.      -0.16   \n",
       "102                             average length picard?      -0.15   \n",
       "223  indeed.  i also suspect that the planet vulcan...      -0.15   \n",
       "390  someone or something will, yes.  it is highly ...      -0.15   \n",
       "274  the casting is what made it awesome to me.  i ...      -0.14   \n",
       "153  what does everyone see in this movie? i hated ...      -0.14   \n",
       "456  [in an interview with star trek magazine, scot...      -0.13   \n",
       "61   my nerdy self will be at the 10:30 am showing ...      -0.12   \n",
       "55   spock dies -  -  -  - kirk gets an alien std -...      -0.12   \n",
       "407  the borg are a cybernetic civilization in the ...      -0.12   \n",
       "122  what about \"classic bud\" or whatever the fuck ...      -0.12   \n",
       "488  actually, my star trek original series torrent...      -0.11   \n",
       "125  funny story really. i went to the theater and ...      -0.11   \n",
       "263  &gt;once you're done with that, watch star tre...      -0.11   \n",
       "367  vulcan and romulus can still be in the next fe...      -0.10   \n",
       "261  &gt;can anyone find me the episode where it ex...      -0.10   \n",
       "50   hyperdrive.  a sci fi comedy from the bbc.   -...      -0.10   \n",
       "478  the man from earth (by jerome bixby) -  - it's...      -0.09   \n",
       "378  &gt; voy has the notable and difficult-to-atta...      -0.09   \n",
       "162  i thought it was \"unrealistic\" on many differe...      -0.09   \n",
       "\n",
       "     subjectivity  \n",
       "372          1.00  \n",
       "348          1.00  \n",
       "398          0.68  \n",
       "87           0.80  \n",
       "414          0.80  \n",
       "294          0.90  \n",
       "112          0.53  \n",
       "467          0.60  \n",
       "466          0.60  \n",
       "104          0.60  \n",
       "221          0.69  \n",
       "239          0.60  \n",
       "363          0.53  \n",
       "256          0.40  \n",
       "325          0.40  \n",
       "442          0.47  \n",
       "113          1.00  \n",
       "193          0.25  \n",
       "360          0.54  \n",
       "67           0.50  \n",
       "286          0.62  \n",
       "389          0.00  \n",
       "320          0.10  \n",
       "370          0.71  \n",
       "194          0.42  \n",
       "202          0.73  \n",
       "206          0.35  \n",
       "54           0.76  \n",
       "402          0.56  \n",
       "484          0.29  \n",
       "102          0.40  \n",
       "223          0.62  \n",
       "390          0.52  \n",
       "274          0.78  \n",
       "153          0.45  \n",
       "456          0.25  \n",
       "61           0.38  \n",
       "55           0.38  \n",
       "407          0.38  \n",
       "122          0.38  \n",
       "488          0.41  \n",
       "125          0.72  \n",
       "263          0.45  \n",
       "367          0.05  \n",
       "261          0.65  \n",
       "50           0.42  \n",
       "478          0.51  \n",
       "378          0.49  \n",
       "162          0.55  "
      ]
     },
     "execution_count": 43,
     "metadata": {},
     "output_type": "execute_result"
    }
   ],
   "source": [
    "top_df"
   ]
  },
  {
   "cell_type": "code",
   "execution_count": 44,
   "metadata": {
    "collapsed": false
   },
   "outputs": [
    {
     "name": "stdout",
     "output_type": "stream",
     "text": [
      "CPU times: user 336 ms, sys: 16 ms, total: 352 ms\n",
      "Wall time: 351 ms\n"
     ]
    }
   ],
   "source": [
    "%%time\n",
    "\n",
    "top_text = ''\n",
    "for x in top_df['body']:\n",
    "    top_text += x + ' '\n",
    "\n",
    "top_list = [\n",
    "    w\n",
    "    for w in nltk.word_tokenize(top_text)\n",
    "    if w not in stopwords.words('english') and w not in string.punctuation\n",
    "]"
   ]
  },
  {
   "cell_type": "code",
   "execution_count": 45,
   "metadata": {
    "collapsed": true
   },
   "outputs": [],
   "source": [
    "top_counter = Counter(top_list)"
   ]
  },
  {
   "cell_type": "code",
   "execution_count": 46,
   "metadata": {
    "collapsed": false
   },
   "outputs": [
    {
     "data": {
      "text/plain": [
       "[('trek', 28),\n",
       " ('star', 26),\n",
       " (\"''\", 14),\n",
       " ('``', 14),\n",
       " (\"'s\", 14),\n",
       " ('would', 10),\n",
       " ('kirk', 10),\n",
       " ('one', 8),\n",
       " ('movie', 8),\n",
       " (\"'m\", 8),\n",
       " ('episode', 8),\n",
       " (\"n't\", 7),\n",
       " ('spock', 7),\n",
       " ('like', 6),\n",
       " ('fucking', 6),\n",
       " ('picard', 6),\n",
       " ('captain', 5),\n",
       " ('red', 5),\n",
       " ('vulcan', 5),\n",
       " ('everyone', 5)]"
      ]
     },
     "execution_count": 46,
     "metadata": {},
     "output_type": "execute_result"
    }
   ],
   "source": [
    "top_counter.most_common(20)"
   ]
  },
  {
   "cell_type": "code",
   "execution_count": 47,
   "metadata": {
    "collapsed": false
   },
   "outputs": [
    {
     "data": {
      "text/plain": [
       "[Timestamp('2008-02-01 00:00:00'),\n",
       " Timestamp('2009-05-01 00:00:00'),\n",
       " Timestamp('2010-01-01 00:00:00'),\n",
       " Timestamp('2012-07-01 00:00:00'),\n",
       " Timestamp('2013-06-01 00:00:00')]"
      ]
     },
     "execution_count": 47,
     "metadata": {},
     "output_type": "execute_result"
    }
   ],
   "source": [
    "peaks"
   ]
  },
  {
   "cell_type": "markdown",
   "metadata": {},
   "source": [
    "#### 2010-01-01"
   ]
  },
  {
   "cell_type": "code",
   "execution_count": 48,
   "metadata": {
    "collapsed": true
   },
   "outputs": [],
   "source": [
    "date = '2010-01-01'"
   ]
  },
  {
   "cell_type": "code",
   "execution_count": 49,
   "metadata": {
    "collapsed": true
   },
   "outputs": [],
   "source": [
    "subreddit_date_df = subreddit_df[subreddit_df['month'] == date]"
   ]
  },
  {
   "cell_type": "code",
   "execution_count": 50,
   "metadata": {
    "collapsed": false
   },
   "outputs": [
    {
     "data": {
      "text/plain": [
       "855"
      ]
     },
     "execution_count": 50,
     "metadata": {},
     "output_type": "execute_result"
    }
   ],
   "source": [
    "len(subreddit_date_df)"
   ]
  },
  {
   "cell_type": "markdown",
   "metadata": {},
   "source": [
    "#### Histogram"
   ]
  },
  {
   "cell_type": "markdown",
   "metadata": {},
   "source": [
    "###### Keywords"
   ]
  },
  {
   "cell_type": "code",
   "execution_count": 51,
   "metadata": {
    "collapsed": true
   },
   "outputs": [],
   "source": [
    "keywords_dict = {}\n",
    "for keyword in keywords:\n",
    "    keyword_df = subreddit_date_df[subreddit_date_df['body'].str.contains(keyword)]\n",
    "    count = keyword_df['body'].str.count(keyword).sum()\n",
    "    keywords_dict[keyword] = count"
   ]
  },
  {
   "cell_type": "code",
   "execution_count": 52,
   "metadata": {
    "collapsed": false
   },
   "outputs": [],
   "source": [
    "keywords_counter = Counter(keywords_dict)"
   ]
  },
  {
   "cell_type": "code",
   "execution_count": 53,
   "metadata": {
    "collapsed": false
   },
   "outputs": [
    {
     "data": {
      "text/plain": [
       "[('star trek', 561),\n",
       " ('spock', 123),\n",
       " ('kirk', 107),\n",
       " ('picard', 93),\n",
       " ('vulcan', 52),\n",
       " ('nero', 52),\n",
       " ('klingon', 39),\n",
       " ('crusher', 30),\n",
       " ('pike', 25),\n",
       " ('orion', 24),\n",
       " ('romulan', 20),\n",
       " ('scotty', 18),\n",
       " ('mccoy', 17),\n",
       " ('live long and prosper', 10),\n",
       " ('prime directive', 9),\n",
       " ('resistance is futile', 6),\n",
       " ('star fleet', 5),\n",
       " ('uhura', 4),\n",
       " ('khaaa+n', 4),\n",
       " ('sulu', 4),\n",
       " ('starship enterprise', 4),\n",
       " ('kobayashi maru', 3),\n",
       " ('chekhov', 3),\n",
       " ('llap', 3),\n",
       " ('stardate', 2),\n",
       " ('nuclear wessels', 1),\n",
       " (\"i'm a doctor,? not a\", 1),\n",
       " ('vulcan salute', 1),\n",
       " ('to boldly go where no man has gone before', 1),\n",
       " ('delta vega', 1),\n",
       " ('highly illogical', 1),\n",
       " ('space,? the final frontier', 1),\n",
       " ('transporter beam', 1),\n",
       " ('the needs of the many outweigh the needs of the few', 0),\n",
       " ('when you eliminate the impossible,? whatever remains,? however improbable,? must be the truth',\n",
       "  0),\n",
       " ('sarek', 0),\n",
       " ('i have been and always shall be your friend', 0),\n",
       " ('beam me up,? scotty', 0),\n",
       " ('set phasers to stun', 0),\n",
       " (\"i'm giving her all she's got,? captain\", 0),\n",
       " ('nurse chapel', 0),\n",
       " ('without followers,? evil cannot spread', 0),\n",
       " ('romulan narada', 0)]"
      ]
     },
     "execution_count": 53,
     "metadata": {},
     "output_type": "execute_result"
    }
   ],
   "source": [
    "keywords_counter.most_common()"
   ]
  },
  {
   "cell_type": "code",
   "execution_count": 54,
   "metadata": {
    "collapsed": true
   },
   "outputs": [],
   "source": [
    "keywords_sr = pd.Series(keywords_dict)"
   ]
  },
  {
   "cell_type": "code",
   "execution_count": 55,
   "metadata": {
    "collapsed": false
   },
   "outputs": [
    {
     "data": {
      "text/plain": [
       "<matplotlib.axes._subplots.AxesSubplot at 0x7fb2d5e60908>"
      ]
     },
     "execution_count": 55,
     "metadata": {},
     "output_type": "execute_result"
    },
    {
     "data": {
      "image/png": "[encoded data removed]",
      "text/plain": [
       "<matplotlib.figure.Figure at 0x7fb2d5e60b00>"
      ]
     },
     "metadata": {},
     "output_type": "display_data"
    }
   ],
   "source": [
    "keywords_sr.plot(\n",
    "    kind='bar',\n",
    "    figsize=(10, 5),\n",
    "    title='Keyword histogram on ' + date,\n",
    ")"
   ]
  },
  {
   "cell_type": "markdown",
   "metadata": {},
   "source": [
    "###### Other words"
   ]
  },
  {
   "cell_type": "code",
   "execution_count": 56,
   "metadata": {
    "collapsed": false
   },
   "outputs": [
    {
     "name": "stdout",
     "output_type": "stream",
     "text": [
      "CPU times: user 9 s, sys: 564 ms, total: 9.56 s\n",
      "Wall time: 9.56 s\n"
     ]
    }
   ],
   "source": [
    "%%time\n",
    "\n",
    "text_ = ''\n",
    "for x in subreddit_date_df['body']:\n",
    "    text_ += x + ' '\n",
    "\n",
    "list_ = [\n",
    "    w\n",
    "    for w in nltk.word_tokenize(text_)\n",
    "    if w not in stopwords.words('english') and w not in string.punctuation\n",
    "]\n",
    "\n",
    "counter_ = Counter(list_)"
   ]
  },
  {
   "cell_type": "code",
   "execution_count": 57,
   "metadata": {
    "collapsed": false
   },
   "outputs": [
    {
     "data": {
      "text/plain": [
       "[('star', 741),\n",
       " ('trek', 565),\n",
       " (\"'s\", 492),\n",
       " (\"n't\", 379),\n",
       " ('like', 256),\n",
       " (\"''\", 254),\n",
       " ('``', 253),\n",
       " ('would', 232),\n",
       " ('...', 184),\n",
       " ('one', 171),\n",
       " ('wars', 169),\n",
       " ('http', 150),\n",
       " ('time', 142),\n",
       " ('could', 138),\n",
       " ('get', 137),\n",
       " ('think', 131),\n",
       " ('spock', 119),\n",
       " (\"'m\", 118),\n",
       " ('people', 104),\n",
       " ('really', 100)]"
      ]
     },
     "execution_count": 57,
     "metadata": {},
     "output_type": "execute_result"
    }
   ],
   "source": [
    "counter_.most_common(20)"
   ]
  },
  {
   "cell_type": "markdown",
   "metadata": {},
   "source": [
    "#### Sentiment analysis"
   ]
  },
  {
   "cell_type": "markdown",
   "metadata": {},
   "source": [
    "- The polarity score is a float within the range [-1.0, 1.0].\n",
    "- The subjectivity is a float within the range [0.0, 1.0] where 0.0 is very objective and 1.0 is very subjective."
   ]
  },
  {
   "cell_type": "code",
   "execution_count": 58,
   "metadata": {
    "collapsed": false
   },
   "outputs": [
    {
     "name": "stdout",
     "output_type": "stream",
     "text": [
      "CPU times: user 588 ms, sys: 4 ms, total: 592 ms\n",
      "Wall time: 587 ms\n"
     ]
    }
   ],
   "source": [
    "%%time\n",
    "\n",
    "sentiment_list = []\n",
    "for x in subreddit_date_df['body']:\n",
    "    tb = TextBlob(x)\n",
    "    sentiment_list.append((x, tb.sentiment.polarity, tb.sentiment.subjectivity))"
   ]
  },
  {
   "cell_type": "code",
   "execution_count": 59,
   "metadata": {
    "collapsed": false
   },
   "outputs": [],
   "source": [
    "sentiment_df = pd.DataFrame(sentiment_list, columns=['body', 'sentiment', 'subjectivity'])"
   ]
  },
  {
   "cell_type": "code",
   "execution_count": 60,
   "metadata": {
    "collapsed": false
   },
   "outputs": [
    {
     "data": {
      "text/html": [
       "<div>\n",
       "<table border=\"1\" class=\"dataframe\">\n",
       "  <thead>\n",
       "    <tr style=\"text-align: right;\">\n",
       "      <th></th>\n",
       "      <th>body</th>\n",
       "      <th>sentiment</th>\n",
       "      <th>subjectivity</th>\n",
       "    </tr>\n",
       "  </thead>\n",
       "  <tbody>\n",
       "    <tr>\n",
       "      <th>0</th>\n",
       "      <td>i was 21 and working two jobs to get by while ...</td>\n",
       "      <td>-0.04</td>\n",
       "      <td>0.44</td>\n",
       "    </tr>\n",
       "    <tr>\n",
       "      <th>1</th>\n",
       "      <td>photosynthesis.  if people could stand in the ...</td>\n",
       "      <td>0.11</td>\n",
       "      <td>0.71</td>\n",
       "    </tr>\n",
       "    <tr>\n",
       "      <th>2</th>\n",
       "      <td>it's great!  think of it like chekhov while yo...</td>\n",
       "      <td>0.42</td>\n",
       "      <td>0.57</td>\n",
       "    </tr>\n",
       "    <tr>\n",
       "      <th>3</th>\n",
       "      <td>oh, spock, you take the romance out of everyth...</td>\n",
       "      <td>0.00</td>\n",
       "      <td>0.00</td>\n",
       "    </tr>\n",
       "    <tr>\n",
       "      <th>4</th>\n",
       "      <td>star trek marathon with my man.</td>\n",
       "      <td>0.00</td>\n",
       "      <td>0.00</td>\n",
       "    </tr>\n",
       "  </tbody>\n",
       "</table>\n",
       "</div>"
      ],
      "text/plain": [
       "                                                body  sentiment  subjectivity\n",
       "0  i was 21 and working two jobs to get by while ...      -0.04          0.44\n",
       "1  photosynthesis.  if people could stand in the ...       0.11          0.71\n",
       "2  it's great!  think of it like chekhov while yo...       0.42          0.57\n",
       "3  oh, spock, you take the romance out of everyth...       0.00          0.00\n",
       "4                    star trek marathon with my man.       0.00          0.00"
      ]
     },
     "execution_count": 60,
     "metadata": {},
     "output_type": "execute_result"
    }
   ],
   "source": [
    "sentiment_df.head()"
   ]
  },
  {
   "cell_type": "code",
   "execution_count": 61,
   "metadata": {
    "collapsed": false
   },
   "outputs": [
    {
     "data": {
      "text/plain": [
       "0.083730068174755978"
      ]
     },
     "execution_count": 61,
     "metadata": {},
     "output_type": "execute_result"
    }
   ],
   "source": [
    "sentiment_df['sentiment'].mean()"
   ]
  },
  {
   "cell_type": "code",
   "execution_count": 62,
   "metadata": {
    "collapsed": false
   },
   "outputs": [
    {
     "data": {
      "text/plain": [
       "0.40900448151424623"
      ]
     },
     "execution_count": 62,
     "metadata": {},
     "output_type": "execute_result"
    }
   ],
   "source": [
    "sentiment_df['subjectivity'].mean()"
   ]
  },
  {
   "cell_type": "markdown",
   "metadata": {},
   "source": [
    "##### Histogram top positive"
   ]
  },
  {
   "cell_type": "code",
   "execution_count": 63,
   "metadata": {
    "collapsed": false
   },
   "outputs": [],
   "source": [
    "top_df = sentiment_df.sort_values('sentiment', ascending=False)[:len(subreddit_date_df) * P // 100]"
   ]
  },
  {
   "cell_type": "code",
   "execution_count": 64,
   "metadata": {
    "collapsed": false
   },
   "outputs": [
    {
     "data": {
      "text/html": [
       "<div>\n",
       "<table border=\"1\" class=\"dataframe\">\n",
       "  <thead>\n",
       "    <tr style=\"text-align: right;\">\n",
       "      <th></th>\n",
       "      <th>body</th>\n",
       "      <th>sentiment</th>\n",
       "      <th>subjectivity</th>\n",
       "    </tr>\n",
       "  </thead>\n",
       "  <tbody>\n",
       "    <tr>\n",
       "      <th>670</th>\n",
       "      <td>&amp;gt;the best diplomat i know is a fully charge...</td>\n",
       "      <td>1.00</td>\n",
       "      <td>0.30</td>\n",
       "    </tr>\n",
       "    <tr>\n",
       "      <th>836</th>\n",
       "      <td>i was named after a star trek character. -  - ...</td>\n",
       "      <td>1.00</td>\n",
       "      <td>1.00</td>\n",
       "    </tr>\n",
       "    <tr>\n",
       "      <th>469</th>\n",
       "      <td>i had never seen any of the star trek movies o...</td>\n",
       "      <td>1.00</td>\n",
       "      <td>1.00</td>\n",
       "    </tr>\n",
       "    <tr>\n",
       "      <th>700</th>\n",
       "      <td>kinda looks like a perfect split between tasha...</td>\n",
       "      <td>0.88</td>\n",
       "      <td>1.00</td>\n",
       "    </tr>\n",
       "    <tr>\n",
       "      <th>752</th>\n",
       "      <td>also colt mccoy use to mow my great grandmothe...</td>\n",
       "      <td>0.80</td>\n",
       "      <td>0.75</td>\n",
       "    </tr>\n",
       "    <tr>\n",
       "      <th>840</th>\n",
       "      <td>hopefully tomorrow i'll win a $500 gift certif...</td>\n",
       "      <td>0.80</td>\n",
       "      <td>0.40</td>\n",
       "    </tr>\n",
       "    <tr>\n",
       "      <th>149</th>\n",
       "      <td>you know, that just isn't the case with some s...</td>\n",
       "      <td>0.80</td>\n",
       "      <td>0.50</td>\n",
       "    </tr>\n",
       "    <tr>\n",
       "      <th>444</th>\n",
       "      <td>yes. see a play; watch a film. better yet, see...</td>\n",
       "      <td>0.75</td>\n",
       "      <td>0.75</td>\n",
       "    </tr>\n",
       "    <tr>\n",
       "      <th>300</th>\n",
       "      <td>good call with picard. i like it.</td>\n",
       "      <td>0.70</td>\n",
       "      <td>0.60</td>\n",
       "    </tr>\n",
       "    <tr>\n",
       "      <th>261</th>\n",
       "      <td>\"all good things..\" when captain picard create...</td>\n",
       "      <td>0.70</td>\n",
       "      <td>0.60</td>\n",
       "    </tr>\n",
       "    <tr>\n",
       "      <th>518</th>\n",
       "      <td>star trek. -  - i hope their prisons are good,...</td>\n",
       "      <td>0.70</td>\n",
       "      <td>0.60</td>\n",
       "    </tr>\n",
       "    <tr>\n",
       "      <th>279</th>\n",
       "      <td>watching a good tv show; star trek, alias, cur...</td>\n",
       "      <td>0.70</td>\n",
       "      <td>0.60</td>\n",
       "    </tr>\n",
       "    <tr>\n",
       "      <th>570</th>\n",
       "      <td>i like star trek more. i think part of that is...</td>\n",
       "      <td>0.68</td>\n",
       "      <td>0.70</td>\n",
       "    </tr>\n",
       "    <tr>\n",
       "      <th>394</th>\n",
       "      <td>the better question is: who would win in the f...</td>\n",
       "      <td>0.65</td>\n",
       "      <td>0.45</td>\n",
       "    </tr>\n",
       "    <tr>\n",
       "      <th>136</th>\n",
       "      <td>you and me both. for me seasons 4-7 are some o...</td>\n",
       "      <td>0.62</td>\n",
       "      <td>0.52</td>\n",
       "    </tr>\n",
       "    <tr>\n",
       "      <th>647</th>\n",
       "      <td>star trek for sure! :d</td>\n",
       "      <td>0.62</td>\n",
       "      <td>0.89</td>\n",
       "    </tr>\n",
       "    <tr>\n",
       "      <th>766</th>\n",
       "      <td>[wil wheaton and i](http://imgur.com/hrzyu.jpg...</td>\n",
       "      <td>0.62</td>\n",
       "      <td>0.60</td>\n",
       "    </tr>\n",
       "    <tr>\n",
       "      <th>407</th>\n",
       "      <td>notice how kirk could still hold his own to a ...</td>\n",
       "      <td>0.60</td>\n",
       "      <td>1.00</td>\n",
       "    </tr>\n",
       "    <tr>\n",
       "      <th>640</th>\n",
       "      <td>what about crusher? she smiled all the time li...</td>\n",
       "      <td>0.60</td>\n",
       "      <td>0.20</td>\n",
       "    </tr>\n",
       "    <tr>\n",
       "      <th>649</th>\n",
       "      <td>i think [this](http://ricomoss.files.wordpress...</td>\n",
       "      <td>0.60</td>\n",
       "      <td>1.00</td>\n",
       "    </tr>\n",
       "    <tr>\n",
       "      <th>247</th>\n",
       "      <td>i like both star wars and star trek. -  - does...</td>\n",
       "      <td>0.60</td>\n",
       "      <td>0.90</td>\n",
       "    </tr>\n",
       "    <tr>\n",
       "      <th>413</th>\n",
       "      <td>glad you revealed your stance, buddy, but it s...</td>\n",
       "      <td>0.59</td>\n",
       "      <td>0.82</td>\n",
       "    </tr>\n",
       "    <tr>\n",
       "      <th>584</th>\n",
       "      <td>that's all retconned from the original series,...</td>\n",
       "      <td>0.56</td>\n",
       "      <td>0.75</td>\n",
       "    </tr>\n",
       "    <tr>\n",
       "      <th>80</th>\n",
       "      <td>honestly, windows media player works better on...</td>\n",
       "      <td>0.55</td>\n",
       "      <td>0.70</td>\n",
       "    </tr>\n",
       "    <tr>\n",
       "      <th>782</th>\n",
       "      <td>oh my god, you met q! -  - he's by far the bes...</td>\n",
       "      <td>0.55</td>\n",
       "      <td>0.65</td>\n",
       "    </tr>\n",
       "    <tr>\n",
       "      <th>698</th>\n",
       "      <td>masters of orion 3 -  - 2 was damn near perfect.</td>\n",
       "      <td>0.55</td>\n",
       "      <td>0.70</td>\n",
       "    </tr>\n",
       "    <tr>\n",
       "      <th>223</th>\n",
       "      <td>i was just pulling your leg. when i was in col...</td>\n",
       "      <td>0.51</td>\n",
       "      <td>0.57</td>\n",
       "    </tr>\n",
       "    <tr>\n",
       "      <th>293</th>\n",
       "      <td>(a) wwii royal navy spitfire pilot - (b) capta...</td>\n",
       "      <td>0.50</td>\n",
       "      <td>1.00</td>\n",
       "    </tr>\n",
       "    <tr>\n",
       "      <th>420</th>\n",
       "      <td>if they're in an adversarial situation, you be...</td>\n",
       "      <td>0.50</td>\n",
       "      <td>0.40</td>\n",
       "    </tr>\n",
       "    <tr>\n",
       "      <th>63</th>\n",
       "      <td>from catching  some bits and pieces of the exp...</td>\n",
       "      <td>0.50</td>\n",
       "      <td>0.65</td>\n",
       "    </tr>\n",
       "    <tr>\n",
       "      <th>...</th>\n",
       "      <td>...</td>\n",
       "      <td>...</td>\n",
       "      <td>...</td>\n",
       "    </tr>\n",
       "    <tr>\n",
       "      <th>28</th>\n",
       "      <td>had a \"breakup weekend\" with this wonderful gi...</td>\n",
       "      <td>0.43</td>\n",
       "      <td>0.80</td>\n",
       "    </tr>\n",
       "    <tr>\n",
       "      <th>604</th>\n",
       "      <td>jj abrams wanted more star wars in his star tr...</td>\n",
       "      <td>0.43</td>\n",
       "      <td>0.54</td>\n",
       "    </tr>\n",
       "    <tr>\n",
       "      <th>2</th>\n",
       "      <td>it's great!  think of it like chekhov while yo...</td>\n",
       "      <td>0.42</td>\n",
       "      <td>0.57</td>\n",
       "    </tr>\n",
       "    <tr>\n",
       "      <th>542</th>\n",
       "      <td>two nights ago i just finished watching babylo...</td>\n",
       "      <td>0.42</td>\n",
       "      <td>0.69</td>\n",
       "    </tr>\n",
       "    <tr>\n",
       "      <th>809</th>\n",
       "      <td>i play video games, mtg and d&amp;amp;d, watch ani...</td>\n",
       "      <td>0.40</td>\n",
       "      <td>0.63</td>\n",
       "    </tr>\n",
       "    <tr>\n",
       "      <th>658</th>\n",
       "      <td>seeing his risan hookup run off with q had to ...</td>\n",
       "      <td>0.40</td>\n",
       "      <td>0.90</td>\n",
       "    </tr>\n",
       "    <tr>\n",
       "      <th>474</th>\n",
       "      <td>*[machinery]http://www.made-in-china.com/produ...</td>\n",
       "      <td>0.40</td>\n",
       "      <td>0.90</td>\n",
       "    </tr>\n",
       "    <tr>\n",
       "      <th>525</th>\n",
       "      <td>star trek but i would take my light saber with...</td>\n",
       "      <td>0.40</td>\n",
       "      <td>0.70</td>\n",
       "    </tr>\n",
       "    <tr>\n",
       "      <th>276</th>\n",
       "      <td>2 things come to mind: -  -  -  - * the ginorm...</td>\n",
       "      <td>0.40</td>\n",
       "      <td>0.40</td>\n",
       "    </tr>\n",
       "    <tr>\n",
       "      <th>497</th>\n",
       "      <td>agreed.  there is a growing up involved with s...</td>\n",
       "      <td>0.40</td>\n",
       "      <td>0.64</td>\n",
       "    </tr>\n",
       "    <tr>\n",
       "      <th>244</th>\n",
       "      <td>*a milhouse divided* seems to only get better ...</td>\n",
       "      <td>0.40</td>\n",
       "      <td>0.60</td>\n",
       "    </tr>\n",
       "    <tr>\n",
       "      <th>501</th>\n",
       "      <td>it'd have to be star trek. specifically toward...</td>\n",
       "      <td>0.39</td>\n",
       "      <td>0.52</td>\n",
       "    </tr>\n",
       "    <tr>\n",
       "      <th>48</th>\n",
       "      <td>so logical. you a vulcan! that is a compliment!</td>\n",
       "      <td>0.39</td>\n",
       "      <td>0.25</td>\n",
       "    </tr>\n",
       "    <tr>\n",
       "      <th>719</th>\n",
       "      <td>true. -  - i like both because they both show ...</td>\n",
       "      <td>0.39</td>\n",
       "      <td>0.59</td>\n",
       "    </tr>\n",
       "    <tr>\n",
       "      <th>88</th>\n",
       "      <td>dude, it was brave of you to come out in the o...</td>\n",
       "      <td>0.39</td>\n",
       "      <td>0.73</td>\n",
       "    </tr>\n",
       "    <tr>\n",
       "      <th>827</th>\n",
       "      <td>star trek replicators a reality. free machines...</td>\n",
       "      <td>0.38</td>\n",
       "      <td>0.77</td>\n",
       "    </tr>\n",
       "    <tr>\n",
       "      <th>580</th>\n",
       "      <td>star trek. i'm pretty sure i would be a holode...</td>\n",
       "      <td>0.38</td>\n",
       "      <td>0.94</td>\n",
       "    </tr>\n",
       "    <tr>\n",
       "      <th>609</th>\n",
       "      <td>i think you star trek summary only applies to ...</td>\n",
       "      <td>0.38</td>\n",
       "      <td>0.45</td>\n",
       "    </tr>\n",
       "    <tr>\n",
       "      <th>129</th>\n",
       "      <td>the original *star trek* series.</td>\n",
       "      <td>0.38</td>\n",
       "      <td>0.75</td>\n",
       "    </tr>\n",
       "    <tr>\n",
       "      <th>594</th>\n",
       "      <td>when it was just the original 3 movies, i woul...</td>\n",
       "      <td>0.38</td>\n",
       "      <td>0.75</td>\n",
       "    </tr>\n",
       "    <tr>\n",
       "      <th>540</th>\n",
       "      <td>in the star trek universe, i'd have to listen ...</td>\n",
       "      <td>0.38</td>\n",
       "      <td>0.75</td>\n",
       "    </tr>\n",
       "    <tr>\n",
       "      <th>212</th>\n",
       "      <td>resistance is futile.  your life as it has bee...</td>\n",
       "      <td>0.38</td>\n",
       "      <td>0.10</td>\n",
       "    </tr>\n",
       "    <tr>\n",
       "      <th>291</th>\n",
       "      <td>sure, my wife when we first met did not know a...</td>\n",
       "      <td>0.38</td>\n",
       "      <td>0.61</td>\n",
       "    </tr>\n",
       "    <tr>\n",
       "      <th>351</th>\n",
       "      <td>haha! trying not to draw correlations between ...</td>\n",
       "      <td>0.38</td>\n",
       "      <td>0.40</td>\n",
       "    </tr>\n",
       "    <tr>\n",
       "      <th>66</th>\n",
       "      <td>ah, the garden of eden test. the original koba...</td>\n",
       "      <td>0.38</td>\n",
       "      <td>0.75</td>\n",
       "    </tr>\n",
       "    <tr>\n",
       "      <th>319</th>\n",
       "      <td>well...personally, i would put the one i liked...</td>\n",
       "      <td>0.37</td>\n",
       "      <td>0.53</td>\n",
       "    </tr>\n",
       "    <tr>\n",
       "      <th>661</th>\n",
       "      <td>star trek. it has a better sense of humour (un...</td>\n",
       "      <td>0.37</td>\n",
       "      <td>0.67</td>\n",
       "    </tr>\n",
       "    <tr>\n",
       "      <th>126</th>\n",
       "      <td>firefly -  -  -  - i can't for the life of me ...</td>\n",
       "      <td>0.36</td>\n",
       "      <td>0.69</td>\n",
       "    </tr>\n",
       "    <tr>\n",
       "      <th>119</th>\n",
       "      <td>my father worked for kodak most of his life, u...</td>\n",
       "      <td>0.35</td>\n",
       "      <td>0.51</td>\n",
       "    </tr>\n",
       "    <tr>\n",
       "      <th>818</th>\n",
       "      <td>real crusher = \"i'm moving out.\" -  - it's als...</td>\n",
       "      <td>0.35</td>\n",
       "      <td>0.40</td>\n",
       "    </tr>\n",
       "  </tbody>\n",
       "</table>\n",
       "<p>85 rows × 3 columns</p>\n",
       "</div>"
      ],
      "text/plain": [
       "                                                  body  sentiment  \\\n",
       "670  &gt;the best diplomat i know is a fully charge...       1.00   \n",
       "836  i was named after a star trek character. -  - ...       1.00   \n",
       "469  i had never seen any of the star trek movies o...       1.00   \n",
       "700  kinda looks like a perfect split between tasha...       0.88   \n",
       "752  also colt mccoy use to mow my great grandmothe...       0.80   \n",
       "840  hopefully tomorrow i'll win a $500 gift certif...       0.80   \n",
       "149  you know, that just isn't the case with some s...       0.80   \n",
       "444  yes. see a play; watch a film. better yet, see...       0.75   \n",
       "300                  good call with picard. i like it.       0.70   \n",
       "261  \"all good things..\" when captain picard create...       0.70   \n",
       "518  star trek. -  - i hope their prisons are good,...       0.70   \n",
       "279  watching a good tv show; star trek, alias, cur...       0.70   \n",
       "570  i like star trek more. i think part of that is...       0.68   \n",
       "394  the better question is: who would win in the f...       0.65   \n",
       "136  you and me both. for me seasons 4-7 are some o...       0.62   \n",
       "647                             star trek for sure! :d       0.62   \n",
       "766  [wil wheaton and i](http://imgur.com/hrzyu.jpg...       0.62   \n",
       "407  notice how kirk could still hold his own to a ...       0.60   \n",
       "640  what about crusher? she smiled all the time li...       0.60   \n",
       "649  i think [this](http://ricomoss.files.wordpress...       0.60   \n",
       "247  i like both star wars and star trek. -  - does...       0.60   \n",
       "413  glad you revealed your stance, buddy, but it s...       0.59   \n",
       "584  that's all retconned from the original series,...       0.56   \n",
       "80   honestly, windows media player works better on...       0.55   \n",
       "782  oh my god, you met q! -  - he's by far the bes...       0.55   \n",
       "698   masters of orion 3 -  - 2 was damn near perfect.       0.55   \n",
       "223  i was just pulling your leg. when i was in col...       0.51   \n",
       "293  (a) wwii royal navy spitfire pilot - (b) capta...       0.50   \n",
       "420  if they're in an adversarial situation, you be...       0.50   \n",
       "63   from catching  some bits and pieces of the exp...       0.50   \n",
       "..                                                 ...        ...   \n",
       "28   had a \"breakup weekend\" with this wonderful gi...       0.43   \n",
       "604  jj abrams wanted more star wars in his star tr...       0.43   \n",
       "2    it's great!  think of it like chekhov while yo...       0.42   \n",
       "542  two nights ago i just finished watching babylo...       0.42   \n",
       "809  i play video games, mtg and d&amp;d, watch ani...       0.40   \n",
       "658  seeing his risan hookup run off with q had to ...       0.40   \n",
       "474  *[machinery]http://www.made-in-china.com/produ...       0.40   \n",
       "525  star trek but i would take my light saber with...       0.40   \n",
       "276  2 things come to mind: -  -  -  - * the ginorm...       0.40   \n",
       "497  agreed.  there is a growing up involved with s...       0.40   \n",
       "244  *a milhouse divided* seems to only get better ...       0.40   \n",
       "501  it'd have to be star trek. specifically toward...       0.39   \n",
       "48     so logical. you a vulcan! that is a compliment!       0.39   \n",
       "719  true. -  - i like both because they both show ...       0.39   \n",
       "88   dude, it was brave of you to come out in the o...       0.39   \n",
       "827  star trek replicators a reality. free machines...       0.38   \n",
       "580  star trek. i'm pretty sure i would be a holode...       0.38   \n",
       "609  i think you star trek summary only applies to ...       0.38   \n",
       "129                   the original *star trek* series.       0.38   \n",
       "594  when it was just the original 3 movies, i woul...       0.38   \n",
       "540  in the star trek universe, i'd have to listen ...       0.38   \n",
       "212  resistance is futile.  your life as it has bee...       0.38   \n",
       "291  sure, my wife when we first met did not know a...       0.38   \n",
       "351  haha! trying not to draw correlations between ...       0.38   \n",
       "66   ah, the garden of eden test. the original koba...       0.38   \n",
       "319  well...personally, i would put the one i liked...       0.37   \n",
       "661  star trek. it has a better sense of humour (un...       0.37   \n",
       "126  firefly -  -  -  - i can't for the life of me ...       0.36   \n",
       "119  my father worked for kodak most of his life, u...       0.35   \n",
       "818  real crusher = \"i'm moving out.\" -  - it's als...       0.35   \n",
       "\n",
       "     subjectivity  \n",
       "670          0.30  \n",
       "836          1.00  \n",
       "469          1.00  \n",
       "700          1.00  \n",
       "752          0.75  \n",
       "840          0.40  \n",
       "149          0.50  \n",
       "444          0.75  \n",
       "300          0.60  \n",
       "261          0.60  \n",
       "518          0.60  \n",
       "279          0.60  \n",
       "570          0.70  \n",
       "394          0.45  \n",
       "136          0.52  \n",
       "647          0.89  \n",
       "766          0.60  \n",
       "407          1.00  \n",
       "640          0.20  \n",
       "649          1.00  \n",
       "247          0.90  \n",
       "413          0.82  \n",
       "584          0.75  \n",
       "80           0.70  \n",
       "782          0.65  \n",
       "698          0.70  \n",
       "223          0.57  \n",
       "293          1.00  \n",
       "420          0.40  \n",
       "63           0.65  \n",
       "..            ...  \n",
       "28           0.80  \n",
       "604          0.54  \n",
       "2            0.57  \n",
       "542          0.69  \n",
       "809          0.63  \n",
       "658          0.90  \n",
       "474          0.90  \n",
       "525          0.70  \n",
       "276          0.40  \n",
       "497          0.64  \n",
       "244          0.60  \n",
       "501          0.52  \n",
       "48           0.25  \n",
       "719          0.59  \n",
       "88           0.73  \n",
       "827          0.77  \n",
       "580          0.94  \n",
       "609          0.45  \n",
       "129          0.75  \n",
       "594          0.75  \n",
       "540          0.75  \n",
       "212          0.10  \n",
       "291          0.61  \n",
       "351          0.40  \n",
       "66           0.75  \n",
       "319          0.53  \n",
       "661          0.67  \n",
       "126          0.69  \n",
       "119          0.51  \n",
       "818          0.40  \n",
       "\n",
       "[85 rows x 3 columns]"
      ]
     },
     "execution_count": 64,
     "metadata": {},
     "output_type": "execute_result"
    }
   ],
   "source": [
    "top_df"
   ]
  },
  {
   "cell_type": "code",
   "execution_count": 65,
   "metadata": {
    "collapsed": false
   },
   "outputs": [
    {
     "name": "stdout",
     "output_type": "stream",
     "text": [
      "CPU times: user 468 ms, sys: 28 ms, total: 496 ms\n",
      "Wall time: 493 ms\n"
     ]
    }
   ],
   "source": [
    "%%time\n",
    "\n",
    "top_text = ''\n",
    "for x in top_df['body']:\n",
    "    top_text += x + ' '\n",
    "\n",
    "top_list = [\n",
    "    w\n",
    "    for w in nltk.word_tokenize(top_text)\n",
    "    if w not in stopwords.words('english') and w not in string.punctuation\n",
    "]"
   ]
  },
  {
   "cell_type": "code",
   "execution_count": 66,
   "metadata": {
    "collapsed": true
   },
   "outputs": [],
   "source": [
    "top_counter = Counter(top_list)"
   ]
  },
  {
   "cell_type": "code",
   "execution_count": 67,
   "metadata": {
    "collapsed": false
   },
   "outputs": [
    {
     "data": {
      "text/plain": [
       "[('star', 60),\n",
       " ('trek', 51),\n",
       " (\"'s\", 23),\n",
       " (\"n't\", 22),\n",
       " ('would', 17),\n",
       " ('good', 16),\n",
       " ('like', 16),\n",
       " ('``', 14),\n",
       " (\"''\", 14),\n",
       " ('http', 13),\n",
       " ('one', 13),\n",
       " ('wars', 11),\n",
       " ('kirk', 11),\n",
       " ('better', 11),\n",
       " ('also', 10),\n",
       " ('think', 10),\n",
       " ('could', 9),\n",
       " ('awesome', 8),\n",
       " ('picard', 8),\n",
       " ('**', 8)]"
      ]
     },
     "execution_count": 67,
     "metadata": {},
     "output_type": "execute_result"
    }
   ],
   "source": [
    "top_counter.most_common(20)"
   ]
  },
  {
   "cell_type": "markdown",
   "metadata": {},
   "source": [
    "##### Histogram top negative"
   ]
  },
  {
   "cell_type": "code",
   "execution_count": 68,
   "metadata": {
    "collapsed": false
   },
   "outputs": [],
   "source": [
    "top_df = sentiment_df.sort_values('sentiment', ascending=True)[:len(subreddit_date_df) * P // 100]"
   ]
  },
  {
   "cell_type": "code",
   "execution_count": 69,
   "metadata": {
    "collapsed": false
   },
   "outputs": [
    {
     "data": {
      "text/html": [
       "<div>\n",
       "<table border=\"1\" class=\"dataframe\">\n",
       "  <thead>\n",
       "    <tr style=\"text-align: right;\">\n",
       "      <th></th>\n",
       "      <th>body</th>\n",
       "      <th>sentiment</th>\n",
       "      <th>subjectivity</th>\n",
       "    </tr>\n",
       "  </thead>\n",
       "  <tbody>\n",
       "    <tr>\n",
       "      <th>732</th>\n",
       "      <td>star trek, star wars, battle star (never seen ...</td>\n",
       "      <td>-1.00</td>\n",
       "      <td>1.00</td>\n",
       "    </tr>\n",
       "    <tr>\n",
       "      <th>388</th>\n",
       "      <td>-[phoenix wright's ringtone](http://www.youtub...</td>\n",
       "      <td>-0.94</td>\n",
       "      <td>0.95</td>\n",
       "    </tr>\n",
       "    <tr>\n",
       "      <th>308</th>\n",
       "      <td>philosophy and introductory mathematics (retar...</td>\n",
       "      <td>-0.90</td>\n",
       "      <td>1.00</td>\n",
       "    </tr>\n",
       "    <tr>\n",
       "      <th>157</th>\n",
       "      <td>ds9 was a soap set in a star trek universe. aw...</td>\n",
       "      <td>-0.88</td>\n",
       "      <td>1.00</td>\n",
       "    </tr>\n",
       "    <tr>\n",
       "      <th>682</th>\n",
       "      <td>uh, can people who hate \"star trek\" leave?</td>\n",
       "      <td>-0.80</td>\n",
       "      <td>0.90</td>\n",
       "    </tr>\n",
       "    <tr>\n",
       "      <th>524</th>\n",
       "      <td>and you could play luke and have sex with leia...</td>\n",
       "      <td>-0.78</td>\n",
       "      <td>1.00</td>\n",
       "    </tr>\n",
       "    <tr>\n",
       "      <th>151</th>\n",
       "      <td>saw the girl that played georgia at a star tre...</td>\n",
       "      <td>-0.70</td>\n",
       "      <td>0.67</td>\n",
       "    </tr>\n",
       "    <tr>\n",
       "      <th>599</th>\n",
       "      <td>ensign ro is not only the worst character in s...</td>\n",
       "      <td>-0.67</td>\n",
       "      <td>1.00</td>\n",
       "    </tr>\n",
       "    <tr>\n",
       "      <th>663</th>\n",
       "      <td>time travel, in star trek? i find that unlikely!</td>\n",
       "      <td>-0.62</td>\n",
       "      <td>0.50</td>\n",
       "    </tr>\n",
       "    <tr>\n",
       "      <th>648</th>\n",
       "      <td>*star trek- solving problems using fucking bad...</td>\n",
       "      <td>-0.60</td>\n",
       "      <td>0.80</td>\n",
       "    </tr>\n",
       "    <tr>\n",
       "      <th>677</th>\n",
       "      <td>when i was a kid it was star wars, then they g...</td>\n",
       "      <td>-0.59</td>\n",
       "      <td>0.60</td>\n",
       "    </tr>\n",
       "    <tr>\n",
       "      <th>50</th>\n",
       "      <td>yeah...if the future had had livejournal, we w...</td>\n",
       "      <td>-0.57</td>\n",
       "      <td>0.44</td>\n",
       "    </tr>\n",
       "    <tr>\n",
       "      <th>326</th>\n",
       "      <td>they introduced evil clones for picard, data, ...</td>\n",
       "      <td>-0.55</td>\n",
       "      <td>0.68</td>\n",
       "    </tr>\n",
       "    <tr>\n",
       "      <th>387</th>\n",
       "      <td>and spock has a tendency to [sob uncontrolably...</td>\n",
       "      <td>-0.50</td>\n",
       "      <td>0.30</td>\n",
       "    </tr>\n",
       "    <tr>\n",
       "      <th>651</th>\n",
       "      <td>dr. crusher &amp;gt; counselor troi.   it pissed m...</td>\n",
       "      <td>-0.50</td>\n",
       "      <td>0.20</td>\n",
       "    </tr>\n",
       "    <tr>\n",
       "      <th>731</th>\n",
       "      <td>battlestar, star trek, star wars, stargate in ...</td>\n",
       "      <td>-0.50</td>\n",
       "      <td>1.00</td>\n",
       "    </tr>\n",
       "    <tr>\n",
       "      <th>236</th>\n",
       "      <td>you don't like star trek?   -  - my lord, what...</td>\n",
       "      <td>-0.50</td>\n",
       "      <td>0.90</td>\n",
       "    </tr>\n",
       "    <tr>\n",
       "      <th>813</th>\n",
       "      <td>picard.  lame i know.</td>\n",
       "      <td>-0.50</td>\n",
       "      <td>0.75</td>\n",
       "    </tr>\n",
       "    <tr>\n",
       "      <th>8</th>\n",
       "      <td>i haven't watched \"star trek\" in a couple of d...</td>\n",
       "      <td>-0.45</td>\n",
       "      <td>0.70</td>\n",
       "    </tr>\n",
       "    <tr>\n",
       "      <th>405</th>\n",
       "      <td>its weak points, sadly, were at either end of ...</td>\n",
       "      <td>-0.44</td>\n",
       "      <td>0.81</td>\n",
       "    </tr>\n",
       "    <tr>\n",
       "      <th>712</th>\n",
       "      <td>a: a flying animal. maybe a bat. -  - b: organ...</td>\n",
       "      <td>-0.42</td>\n",
       "      <td>0.83</td>\n",
       "    </tr>\n",
       "    <tr>\n",
       "      <th>477</th>\n",
       "      <td>[khaan](http://www.khaaan.com) -  -  -  - alwa...</td>\n",
       "      <td>-0.41</td>\n",
       "      <td>0.60</td>\n",
       "    </tr>\n",
       "    <tr>\n",
       "      <th>767</th>\n",
       "      <td>fuck yea i do. my defense? i one time saw shat...</td>\n",
       "      <td>-0.40</td>\n",
       "      <td>0.60</td>\n",
       "    </tr>\n",
       "    <tr>\n",
       "      <th>172</th>\n",
       "      <td>fuck a vulcan.</td>\n",
       "      <td>-0.40</td>\n",
       "      <td>0.60</td>\n",
       "    </tr>\n",
       "    <tr>\n",
       "      <th>528</th>\n",
       "      <td>star trek, no contest.  fuck lucas and his jar...</td>\n",
       "      <td>-0.40</td>\n",
       "      <td>0.60</td>\n",
       "    </tr>\n",
       "    <tr>\n",
       "      <th>121</th>\n",
       "      <td>kirk is the poor man's picard.</td>\n",
       "      <td>-0.40</td>\n",
       "      <td>0.60</td>\n",
       "    </tr>\n",
       "    <tr>\n",
       "      <th>225</th>\n",
       "      <td>the [flammie](http://www.youtube.com/watch?v=b...</td>\n",
       "      <td>-0.40</td>\n",
       "      <td>0.70</td>\n",
       "    </tr>\n",
       "    <tr>\n",
       "      <th>146</th>\n",
       "      <td>i'm reminded of this: http://snltranscripts.jt...</td>\n",
       "      <td>-0.40</td>\n",
       "      <td>0.77</td>\n",
       "    </tr>\n",
       "    <tr>\n",
       "      <th>815</th>\n",
       "      <td>no, mr. spock, it is not. take the tax money t...</td>\n",
       "      <td>-0.38</td>\n",
       "      <td>0.57</td>\n",
       "    </tr>\n",
       "    <tr>\n",
       "      <th>675</th>\n",
       "      <td>by kirk his way out do you mean fuck his way out.</td>\n",
       "      <td>-0.36</td>\n",
       "      <td>0.64</td>\n",
       "    </tr>\n",
       "    <tr>\n",
       "      <th>...</th>\n",
       "      <td>...</td>\n",
       "      <td>...</td>\n",
       "      <td>...</td>\n",
       "    </tr>\n",
       "    <tr>\n",
       "      <th>632</th>\n",
       "      <td>dude, the green chicks on star trek are way ho...</td>\n",
       "      <td>-0.20</td>\n",
       "      <td>0.30</td>\n",
       "    </tr>\n",
       "    <tr>\n",
       "      <th>287</th>\n",
       "      <td>i am kind of like mr. spock, so evil doesn't a...</td>\n",
       "      <td>-0.20</td>\n",
       "      <td>0.95</td>\n",
       "    </tr>\n",
       "    <tr>\n",
       "      <th>514</th>\n",
       "      <td>star trek. the empire isn't shit compared to t...</td>\n",
       "      <td>-0.20</td>\n",
       "      <td>0.80</td>\n",
       "    </tr>\n",
       "    <tr>\n",
       "      <th>764</th>\n",
       "      <td>i made smoothies for colt mccoy a few times in...</td>\n",
       "      <td>-0.20</td>\n",
       "      <td>0.10</td>\n",
       "    </tr>\n",
       "    <tr>\n",
       "      <th>51</th>\n",
       "      <td>that's a good point. i guess that where i'm co...</td>\n",
       "      <td>-0.19</td>\n",
       "      <td>0.45</td>\n",
       "    </tr>\n",
       "    <tr>\n",
       "      <th>415</th>\n",
       "      <td>didn't kirk beat up god in one of the odd numb...</td>\n",
       "      <td>-0.17</td>\n",
       "      <td>0.25</td>\n",
       "    </tr>\n",
       "    <tr>\n",
       "      <th>451</th>\n",
       "      <td>saved [wales](http://en.wikipedia.org/wiki/wal...</td>\n",
       "      <td>-0.17</td>\n",
       "      <td>0.33</td>\n",
       "    </tr>\n",
       "    <tr>\n",
       "      <th>263</th>\n",
       "      <td>kirk was left on a planet with only his wits t...</td>\n",
       "      <td>-0.16</td>\n",
       "      <td>0.65</td>\n",
       "    </tr>\n",
       "    <tr>\n",
       "      <th>248</th>\n",
       "      <td>metallica - orion, hands down. i listen to it ...</td>\n",
       "      <td>-0.16</td>\n",
       "      <td>0.29</td>\n",
       "    </tr>\n",
       "    <tr>\n",
       "      <th>575</th>\n",
       "      <td>tos's kirk. -  - yeah, i threw that down.</td>\n",
       "      <td>-0.16</td>\n",
       "      <td>0.29</td>\n",
       "    </tr>\n",
       "    <tr>\n",
       "      <th>558</th>\n",
       "      <td>gits is coming down the pike at flank speed. g...</td>\n",
       "      <td>-0.16</td>\n",
       "      <td>0.29</td>\n",
       "    </tr>\n",
       "    <tr>\n",
       "      <th>389</th>\n",
       "      <td>if spock can find an opening, he could take wo...</td>\n",
       "      <td>-0.16</td>\n",
       "      <td>0.29</td>\n",
       "    </tr>\n",
       "    <tr>\n",
       "      <th>597</th>\n",
       "      <td>samesies, but for kaylee. the things i'd do to...</td>\n",
       "      <td>-0.15</td>\n",
       "      <td>0.40</td>\n",
       "    </tr>\n",
       "    <tr>\n",
       "      <th>25</th>\n",
       "      <td>spock was too late to save romulus, but he sti...</td>\n",
       "      <td>-0.15</td>\n",
       "      <td>0.30</td>\n",
       "    </tr>\n",
       "    <tr>\n",
       "      <th>465</th>\n",
       "      <td>star trek porn - deep penetration -  - http://...</td>\n",
       "      <td>-0.15</td>\n",
       "      <td>0.48</td>\n",
       "    </tr>\n",
       "    <tr>\n",
       "      <th>662</th>\n",
       "      <td>only question i -  - ever thought was hard -  ...</td>\n",
       "      <td>-0.15</td>\n",
       "      <td>0.77</td>\n",
       "    </tr>\n",
       "    <tr>\n",
       "      <th>299</th>\n",
       "      <td>in case you read it before i added the edit --...</td>\n",
       "      <td>-0.15</td>\n",
       "      <td>0.47</td>\n",
       "    </tr>\n",
       "    <tr>\n",
       "      <th>64</th>\n",
       "      <td>are you sure they even bothered with explanati...</td>\n",
       "      <td>-0.14</td>\n",
       "      <td>0.62</td>\n",
       "    </tr>\n",
       "    <tr>\n",
       "      <th>506</th>\n",
       "      <td>probably star trek: the next generation. don't...</td>\n",
       "      <td>-0.14</td>\n",
       "      <td>0.55</td>\n",
       "    </tr>\n",
       "    <tr>\n",
       "      <th>273</th>\n",
       "      <td>mine's similar to this.  it's really...i guess...</td>\n",
       "      <td>-0.14</td>\n",
       "      <td>0.57</td>\n",
       "    </tr>\n",
       "    <tr>\n",
       "      <th>292</th>\n",
       "      <td>http://i.imgur.com/swgry.jpg -  - my favorite ...</td>\n",
       "      <td>-0.14</td>\n",
       "      <td>0.76</td>\n",
       "    </tr>\n",
       "    <tr>\n",
       "      <th>31</th>\n",
       "      <td>that's actually an old russian proverb. -  - t...</td>\n",
       "      <td>-0.13</td>\n",
       "      <td>0.40</td>\n",
       "    </tr>\n",
       "    <tr>\n",
       "      <th>562</th>\n",
       "      <td>agreed, the adult me doesn't want to have to w...</td>\n",
       "      <td>-0.13</td>\n",
       "      <td>0.27</td>\n",
       "    </tr>\n",
       "    <tr>\n",
       "      <th>118</th>\n",
       "      <td>well i do feel that a lot of americans have an...</td>\n",
       "      <td>-0.13</td>\n",
       "      <td>0.47</td>\n",
       "    </tr>\n",
       "    <tr>\n",
       "      <th>34</th>\n",
       "      <td>no, i was actually unaware of that. -  - the t...</td>\n",
       "      <td>-0.13</td>\n",
       "      <td>0.63</td>\n",
       "    </tr>\n",
       "    <tr>\n",
       "      <th>789</th>\n",
       "      <td>hopefully, the prime directive of reddit will ...</td>\n",
       "      <td>-0.12</td>\n",
       "      <td>0.15</td>\n",
       "    </tr>\n",
       "    <tr>\n",
       "      <th>333</th>\n",
       "      <td>why does every jackass on the internet think h...</td>\n",
       "      <td>-0.12</td>\n",
       "      <td>0.57</td>\n",
       "    </tr>\n",
       "    <tr>\n",
       "      <th>383</th>\n",
       "      <td>hand-to-hand? at first i'd say spock, but worf...</td>\n",
       "      <td>-0.12</td>\n",
       "      <td>0.27</td>\n",
       "    </tr>\n",
       "    <tr>\n",
       "      <th>472</th>\n",
       "      <td>salem is a shithole. i live about 20 minutes o...</td>\n",
       "      <td>-0.12</td>\n",
       "      <td>0.59</td>\n",
       "    </tr>\n",
       "    <tr>\n",
       "      <th>491</th>\n",
       "      <td>khan is the definition of epic: anti-kirk and ...</td>\n",
       "      <td>-0.12</td>\n",
       "      <td>0.70</td>\n",
       "    </tr>\n",
       "  </tbody>\n",
       "</table>\n",
       "<p>85 rows × 3 columns</p>\n",
       "</div>"
      ],
      "text/plain": [
       "                                                  body  sentiment  \\\n",
       "732  star trek, star wars, battle star (never seen ...      -1.00   \n",
       "388  -[phoenix wright's ringtone](http://www.youtub...      -0.94   \n",
       "308  philosophy and introductory mathematics (retar...      -0.90   \n",
       "157  ds9 was a soap set in a star trek universe. aw...      -0.88   \n",
       "682         uh, can people who hate \"star trek\" leave?      -0.80   \n",
       "524  and you could play luke and have sex with leia...      -0.78   \n",
       "151  saw the girl that played georgia at a star tre...      -0.70   \n",
       "599  ensign ro is not only the worst character in s...      -0.67   \n",
       "663   time travel, in star trek? i find that unlikely!      -0.62   \n",
       "648  *star trek- solving problems using fucking bad...      -0.60   \n",
       "677  when i was a kid it was star wars, then they g...      -0.59   \n",
       "50   yeah...if the future had had livejournal, we w...      -0.57   \n",
       "326  they introduced evil clones for picard, data, ...      -0.55   \n",
       "387  and spock has a tendency to [sob uncontrolably...      -0.50   \n",
       "651  dr. crusher &gt; counselor troi.   it pissed m...      -0.50   \n",
       "731  battlestar, star trek, star wars, stargate in ...      -0.50   \n",
       "236  you don't like star trek?   -  - my lord, what...      -0.50   \n",
       "813                              picard.  lame i know.      -0.50   \n",
       "8    i haven't watched \"star trek\" in a couple of d...      -0.45   \n",
       "405  its weak points, sadly, were at either end of ...      -0.44   \n",
       "712  a: a flying animal. maybe a bat. -  - b: organ...      -0.42   \n",
       "477  [khaan](http://www.khaaan.com) -  -  -  - alwa...      -0.41   \n",
       "767  fuck yea i do. my defense? i one time saw shat...      -0.40   \n",
       "172                                     fuck a vulcan.      -0.40   \n",
       "528  star trek, no contest.  fuck lucas and his jar...      -0.40   \n",
       "121                     kirk is the poor man's picard.      -0.40   \n",
       "225  the [flammie](http://www.youtube.com/watch?v=b...      -0.40   \n",
       "146  i'm reminded of this: http://snltranscripts.jt...      -0.40   \n",
       "815  no, mr. spock, it is not. take the tax money t...      -0.38   \n",
       "675  by kirk his way out do you mean fuck his way out.      -0.36   \n",
       "..                                                 ...        ...   \n",
       "632  dude, the green chicks on star trek are way ho...      -0.20   \n",
       "287  i am kind of like mr. spock, so evil doesn't a...      -0.20   \n",
       "514  star trek. the empire isn't shit compared to t...      -0.20   \n",
       "764  i made smoothies for colt mccoy a few times in...      -0.20   \n",
       "51   that's a good point. i guess that where i'm co...      -0.19   \n",
       "415  didn't kirk beat up god in one of the odd numb...      -0.17   \n",
       "451  saved [wales](http://en.wikipedia.org/wiki/wal...      -0.17   \n",
       "263  kirk was left on a planet with only his wits t...      -0.16   \n",
       "248  metallica - orion, hands down. i listen to it ...      -0.16   \n",
       "575          tos's kirk. -  - yeah, i threw that down.      -0.16   \n",
       "558  gits is coming down the pike at flank speed. g...      -0.16   \n",
       "389  if spock can find an opening, he could take wo...      -0.16   \n",
       "597  samesies, but for kaylee. the things i'd do to...      -0.15   \n",
       "25   spock was too late to save romulus, but he sti...      -0.15   \n",
       "465  star trek porn - deep penetration -  - http://...      -0.15   \n",
       "662  only question i -  - ever thought was hard -  ...      -0.15   \n",
       "299  in case you read it before i added the edit --...      -0.15   \n",
       "64   are you sure they even bothered with explanati...      -0.14   \n",
       "506  probably star trek: the next generation. don't...      -0.14   \n",
       "273  mine's similar to this.  it's really...i guess...      -0.14   \n",
       "292  http://i.imgur.com/swgry.jpg -  - my favorite ...      -0.14   \n",
       "31   that's actually an old russian proverb. -  - t...      -0.13   \n",
       "562  agreed, the adult me doesn't want to have to w...      -0.13   \n",
       "118  well i do feel that a lot of americans have an...      -0.13   \n",
       "34   no, i was actually unaware of that. -  - the t...      -0.13   \n",
       "789  hopefully, the prime directive of reddit will ...      -0.12   \n",
       "333  why does every jackass on the internet think h...      -0.12   \n",
       "383  hand-to-hand? at first i'd say spock, but worf...      -0.12   \n",
       "472  salem is a shithole. i live about 20 minutes o...      -0.12   \n",
       "491  khan is the definition of epic: anti-kirk and ...      -0.12   \n",
       "\n",
       "     subjectivity  \n",
       "732          1.00  \n",
       "388          0.95  \n",
       "308          1.00  \n",
       "157          1.00  \n",
       "682          0.90  \n",
       "524          1.00  \n",
       "151          0.67  \n",
       "599          1.00  \n",
       "663          0.50  \n",
       "648          0.80  \n",
       "677          0.60  \n",
       "50           0.44  \n",
       "326          0.68  \n",
       "387          0.30  \n",
       "651          0.20  \n",
       "731          1.00  \n",
       "236          0.90  \n",
       "813          0.75  \n",
       "8            0.70  \n",
       "405          0.81  \n",
       "712          0.83  \n",
       "477          0.60  \n",
       "767          0.60  \n",
       "172          0.60  \n",
       "528          0.60  \n",
       "121          0.60  \n",
       "225          0.70  \n",
       "146          0.77  \n",
       "815          0.57  \n",
       "675          0.64  \n",
       "..            ...  \n",
       "632          0.30  \n",
       "287          0.95  \n",
       "514          0.80  \n",
       "764          0.10  \n",
       "51           0.45  \n",
       "415          0.25  \n",
       "451          0.33  \n",
       "263          0.65  \n",
       "248          0.29  \n",
       "575          0.29  \n",
       "558          0.29  \n",
       "389          0.29  \n",
       "597          0.40  \n",
       "25           0.30  \n",
       "465          0.48  \n",
       "662          0.77  \n",
       "299          0.47  \n",
       "64           0.62  \n",
       "506          0.55  \n",
       "273          0.57  \n",
       "292          0.76  \n",
       "31           0.40  \n",
       "562          0.27  \n",
       "118          0.47  \n",
       "34           0.63  \n",
       "789          0.15  \n",
       "333          0.57  \n",
       "383          0.27  \n",
       "472          0.59  \n",
       "491          0.70  \n",
       "\n",
       "[85 rows x 3 columns]"
      ]
     },
     "execution_count": 69,
     "metadata": {},
     "output_type": "execute_result"
    }
   ],
   "source": [
    "top_df"
   ]
  },
  {
   "cell_type": "code",
   "execution_count": 70,
   "metadata": {
    "collapsed": false
   },
   "outputs": [
    {
     "name": "stdout",
     "output_type": "stream",
     "text": [
      "CPU times: user 540 ms, sys: 24 ms, total: 564 ms\n",
      "Wall time: 563 ms\n"
     ]
    }
   ],
   "source": [
    "%%time\n",
    "\n",
    "top_text = ''\n",
    "for x in top_df['body']:\n",
    "    top_text += x + ' '\n",
    "\n",
    "top_list = [\n",
    "    w\n",
    "    for w in nltk.word_tokenize(top_text)\n",
    "    if w not in stopwords.words('english') and w not in string.punctuation\n",
    "]"
   ]
  },
  {
   "cell_type": "code",
   "execution_count": 71,
   "metadata": {
    "collapsed": true
   },
   "outputs": [],
   "source": [
    "top_counter = Counter(top_list)"
   ]
  },
  {
   "cell_type": "code",
   "execution_count": 72,
   "metadata": {
    "collapsed": false
   },
   "outputs": [
    {
     "data": {
      "text/plain": [
       "[('star', 55),\n",
       " ('trek', 49),\n",
       " (\"n't\", 34),\n",
       " (\"'s\", 31),\n",
       " ('like', 22),\n",
       " (\"''\", 13),\n",
       " ('would', 13),\n",
       " ('...', 13),\n",
       " ('kirk', 12),\n",
       " ('spock', 11),\n",
       " ('http', 11),\n",
       " ('``', 11),\n",
       " ('could', 10),\n",
       " ('one', 10),\n",
       " ('bad', 10),\n",
       " ('think', 9),\n",
       " ('movie', 9),\n",
       " ('wars', 8),\n",
       " ('get', 8),\n",
       " ('way', 8)]"
      ]
     },
     "execution_count": 72,
     "metadata": {},
     "output_type": "execute_result"
    }
   ],
   "source": [
    "top_counter.most_common(20)"
   ]
  },
  {
   "cell_type": "code",
   "execution_count": 73,
   "metadata": {
    "collapsed": false
   },
   "outputs": [
    {
     "data": {
      "text/plain": [
       "[Timestamp('2008-02-01 00:00:00'),\n",
       " Timestamp('2009-05-01 00:00:00'),\n",
       " Timestamp('2010-01-01 00:00:00'),\n",
       " Timestamp('2012-07-01 00:00:00'),\n",
       " Timestamp('2013-06-01 00:00:00')]"
      ]
     },
     "execution_count": 73,
     "metadata": {},
     "output_type": "execute_result"
    }
   ],
   "source": [
    "peaks"
   ]
  },
  {
   "cell_type": "markdown",
   "metadata": {},
   "source": [
    "#### 2012-07-01"
   ]
  },
  {
   "cell_type": "code",
   "execution_count": 74,
   "metadata": {
    "collapsed": true
   },
   "outputs": [],
   "source": [
    "date = '2012-07-01'"
   ]
  },
  {
   "cell_type": "code",
   "execution_count": 75,
   "metadata": {
    "collapsed": true
   },
   "outputs": [],
   "source": [
    "subreddit_date_df = subreddit_df[subreddit_df['month'] == date]"
   ]
  },
  {
   "cell_type": "code",
   "execution_count": 76,
   "metadata": {
    "collapsed": false
   },
   "outputs": [
    {
     "data": {
      "text/plain": [
       "2771"
      ]
     },
     "execution_count": 76,
     "metadata": {},
     "output_type": "execute_result"
    }
   ],
   "source": [
    "len(subreddit_date_df)"
   ]
  },
  {
   "cell_type": "markdown",
   "metadata": {},
   "source": [
    "#### Histogram"
   ]
  },
  {
   "cell_type": "markdown",
   "metadata": {},
   "source": [
    "###### Keywords"
   ]
  },
  {
   "cell_type": "code",
   "execution_count": 77,
   "metadata": {
    "collapsed": true
   },
   "outputs": [],
   "source": [
    "keywords_dict = {}\n",
    "for keyword in keywords:\n",
    "    keyword_df = subreddit_date_df[subreddit_date_df['body'].str.contains(keyword)]\n",
    "    count = keyword_df['body'].str.count(keyword).sum()\n",
    "    keywords_dict[keyword] = count"
   ]
  },
  {
   "cell_type": "code",
   "execution_count": 78,
   "metadata": {
    "collapsed": false
   },
   "outputs": [],
   "source": [
    "keywords_counter = Counter(keywords_dict)"
   ]
  },
  {
   "cell_type": "code",
   "execution_count": 79,
   "metadata": {
    "collapsed": false
   },
   "outputs": [
    {
     "data": {
      "text/plain": [
       "[('star trek', 994),\n",
       " ('resistance is futile', 674),\n",
       " ('picard', 280),\n",
       " ('kirk', 207),\n",
       " ('spock', 191),\n",
       " ('pike', 104),\n",
       " ('vulcan', 94),\n",
       " ('orion', 94),\n",
       " ('nero', 91),\n",
       " ('scotty', 90),\n",
       " ('klingon', 89),\n",
       " ('crusher', 72),\n",
       " ('mccoy', 38),\n",
       " ('uhura', 35),\n",
       " ('live long and prosper', 32),\n",
       " ('prime directive', 19),\n",
       " ('starship enterprise', 18),\n",
       " ('romulan', 16),\n",
       " ('khaaa+n', 13),\n",
       " (\"i'm a doctor,? not a\", 12),\n",
       " ('beam me up,? scotty', 12),\n",
       " ('chekhov', 10),\n",
       " ('star fleet', 9),\n",
       " ('kobayashi maru', 8),\n",
       " ('sulu', 8),\n",
       " ('vulcan salute', 6),\n",
       " ('the needs of the many outweigh the needs of the few', 5),\n",
       " ('nuclear wessels', 4),\n",
       " ('to boldly go where no man has gone before', 4),\n",
       " ('highly illogical', 4),\n",
       " ('llap', 4),\n",
       " ('set phasers to stun', 2),\n",
       " ('nurse chapel', 2),\n",
       " ('stardate', 2),\n",
       " ('i have been and always shall be your friend', 1),\n",
       " ('delta vega', 1),\n",
       " ('when you eliminate the impossible,? whatever remains,? however improbable,? must be the truth',\n",
       "  0),\n",
       " ('sarek', 0),\n",
       " (\"i'm giving her all she's got,? captain\", 0),\n",
       " ('space,? the final frontier', 0),\n",
       " ('without followers,? evil cannot spread', 0),\n",
       " ('transporter beam', 0),\n",
       " ('romulan narada', 0)]"
      ]
     },
     "execution_count": 79,
     "metadata": {},
     "output_type": "execute_result"
    }
   ],
   "source": [
    "keywords_counter.most_common()"
   ]
  },
  {
   "cell_type": "code",
   "execution_count": 80,
   "metadata": {
    "collapsed": true
   },
   "outputs": [],
   "source": [
    "keywords_sr = pd.Series(keywords_dict)"
   ]
  },
  {
   "cell_type": "code",
   "execution_count": 81,
   "metadata": {
    "collapsed": false
   },
   "outputs": [
    {
     "data": {
      "text/plain": [
       "<matplotlib.axes._subplots.AxesSubplot at 0x7fb2f737e7b8>"
      ]
     },
     "execution_count": 81,
     "metadata": {},
     "output_type": "execute_result"
    },
    {
     "data": {
      "image/png": "[encoded data removed]",
      "text/plain": [
       "<matplotlib.figure.Figure at 0x7fb2f3716048>"
      ]
     },
     "metadata": {},
     "output_type": "display_data"
    }
   ],
   "source": [
    "keywords_sr.plot(\n",
    "    kind='bar',\n",
    "    figsize=(10, 5),\n",
    "    title='Keyword histogram on ' + date,\n",
    ")"
   ]
  },
  {
   "cell_type": "markdown",
   "metadata": {},
   "source": [
    "###### Other words"
   ]
  },
  {
   "cell_type": "code",
   "execution_count": 82,
   "metadata": {
    "collapsed": false
   },
   "outputs": [
    {
     "name": "stdout",
     "output_type": "stream",
     "text": [
      "CPU times: user 18.6 s, sys: 1.15 s, total: 19.8 s\n",
      "Wall time: 19.8 s\n"
     ]
    }
   ],
   "source": [
    "%%time\n",
    "\n",
    "text_ = ''\n",
    "for x in subreddit_date_df['body']:\n",
    "    text_ += x + ' '\n",
    "\n",
    "list_ = [\n",
    "    w\n",
    "    for w in nltk.word_tokenize(text_)\n",
    "    if w not in stopwords.words('english') and w not in string.punctuation\n",
    "]\n",
    "\n",
    "counter_ = Counter(list_)"
   ]
  },
  {
   "cell_type": "code",
   "execution_count": 83,
   "metadata": {
    "collapsed": false
   },
   "outputs": [
    {
     "data": {
      "text/plain": [
       "[('star', 1085),\n",
       " ('trek', 981),\n",
       " (\"'s\", 932),\n",
       " (\"n't\", 865),\n",
       " (\"''\", 691),\n",
       " ('resistance', 674),\n",
       " ('futile', 674),\n",
       " ('borg', 671),\n",
       " ('``', 658),\n",
       " ('assimilated', 652),\n",
       " ('like', 538),\n",
       " ('would', 455),\n",
       " ('...', 436),\n",
       " ('one', 360),\n",
       " (\"'m\", 288),\n",
       " ('time', 283),\n",
       " ('http', 271),\n",
       " ('get', 265),\n",
       " ('people', 254),\n",
       " ('picard', 253)]"
      ]
     },
     "execution_count": 83,
     "metadata": {},
     "output_type": "execute_result"
    }
   ],
   "source": [
    "counter_.most_common(20)"
   ]
  },
  {
   "cell_type": "markdown",
   "metadata": {},
   "source": [
    "#### Sentiment analysis"
   ]
  },
  {
   "cell_type": "markdown",
   "metadata": {},
   "source": [
    "- The polarity score is a float within the range [-1.0, 1.0].\n",
    "- The subjectivity is a float within the range [0.0, 1.0] where 0.0 is very objective and 1.0 is very subjective."
   ]
  },
  {
   "cell_type": "code",
   "execution_count": 84,
   "metadata": {
    "collapsed": false
   },
   "outputs": [
    {
     "name": "stdout",
     "output_type": "stream",
     "text": [
      "CPU times: user 1.19 s, sys: 8 ms, total: 1.2 s\n",
      "Wall time: 1.2 s\n"
     ]
    }
   ],
   "source": [
    "%%time\n",
    "\n",
    "sentiment_list = []\n",
    "for x in subreddit_date_df['body']:\n",
    "    tb = TextBlob(x)\n",
    "    sentiment_list.append((x, tb.sentiment.polarity, tb.sentiment.subjectivity))"
   ]
  },
  {
   "cell_type": "code",
   "execution_count": 85,
   "metadata": {
    "collapsed": false
   },
   "outputs": [],
   "source": [
    "sentiment_df = pd.DataFrame(sentiment_list, columns=['body', 'sentiment', 'subjectivity'])"
   ]
  },
  {
   "cell_type": "code",
   "execution_count": 86,
   "metadata": {
    "collapsed": false
   },
   "outputs": [
    {
     "data": {
      "text/html": [
       "<div>\n",
       "<table border=\"1\" class=\"dataframe\">\n",
       "  <thead>\n",
       "    <tr style=\"text-align: right;\">\n",
       "      <th></th>\n",
       "      <th>body</th>\n",
       "      <th>sentiment</th>\n",
       "      <th>subjectivity</th>\n",
       "    </tr>\n",
       "  </thead>\n",
       "  <tbody>\n",
       "    <tr>\n",
       "      <th>0</th>\n",
       "      <td>scotty doesn't know!</td>\n",
       "      <td>0.00</td>\n",
       "      <td>0.00</td>\n",
       "    </tr>\n",
       "    <tr>\n",
       "      <th>1</th>\n",
       "      <td>[this says it all](http://picardfacepalm.com/p...</td>\n",
       "      <td>0.00</td>\n",
       "      <td>0.00</td>\n",
       "    </tr>\n",
       "    <tr>\n",
       "      <th>2</th>\n",
       "      <td>star trek ii, wrath of khan, when spock dies. ...</td>\n",
       "      <td>0.40</td>\n",
       "      <td>0.75</td>\n",
       "    </tr>\n",
       "    <tr>\n",
       "      <th>3</th>\n",
       "      <td>nero's welcome reality album... its so amazing</td>\n",
       "      <td>0.70</td>\n",
       "      <td>0.90</td>\n",
       "    </tr>\n",
       "    <tr>\n",
       "      <th>4</th>\n",
       "      <td>picard is better than kirk.</td>\n",
       "      <td>0.50</td>\n",
       "      <td>0.50</td>\n",
       "    </tr>\n",
       "  </tbody>\n",
       "</table>\n",
       "</div>"
      ],
      "text/plain": [
       "                                                body  sentiment  subjectivity\n",
       "0                               scotty doesn't know!       0.00          0.00\n",
       "1  [this says it all](http://picardfacepalm.com/p...       0.00          0.00\n",
       "2  star trek ii, wrath of khan, when spock dies. ...       0.40          0.75\n",
       "3     nero's welcome reality album... its so amazing       0.70          0.90\n",
       "4                        picard is better than kirk.       0.50          0.50"
      ]
     },
     "execution_count": 86,
     "metadata": {},
     "output_type": "execute_result"
    }
   ],
   "source": [
    "sentiment_df.head()"
   ]
  },
  {
   "cell_type": "code",
   "execution_count": 87,
   "metadata": {
    "collapsed": false
   },
   "outputs": [
    {
     "data": {
      "text/plain": [
       "0.056686583318592935"
      ]
     },
     "execution_count": 87,
     "metadata": {},
     "output_type": "execute_result"
    }
   ],
   "source": [
    "sentiment_df['sentiment'].mean()"
   ]
  },
  {
   "cell_type": "code",
   "execution_count": 88,
   "metadata": {
    "collapsed": false
   },
   "outputs": [
    {
     "data": {
      "text/plain": [
       "0.28898559804792173"
      ]
     },
     "execution_count": 88,
     "metadata": {},
     "output_type": "execute_result"
    }
   ],
   "source": [
    "sentiment_df['subjectivity'].mean()"
   ]
  },
  {
   "cell_type": "markdown",
   "metadata": {},
   "source": [
    "##### Histogram top positive"
   ]
  },
  {
   "cell_type": "code",
   "execution_count": 89,
   "metadata": {
    "collapsed": false
   },
   "outputs": [],
   "source": [
    "top_df = sentiment_df.sort_values('sentiment', ascending=False)[:len(subreddit_date_df) * P // 100]"
   ]
  },
  {
   "cell_type": "code",
   "execution_count": 90,
   "metadata": {
    "collapsed": false
   },
   "outputs": [
    {
     "data": {
      "text/html": [
       "<div>\n",
       "<table border=\"1\" class=\"dataframe\">\n",
       "  <thead>\n",
       "    <tr style=\"text-align: right;\">\n",
       "      <th></th>\n",
       "      <th>body</th>\n",
       "      <th>sentiment</th>\n",
       "      <th>subjectivity</th>\n",
       "    </tr>\n",
       "  </thead>\n",
       "  <tbody>\n",
       "    <tr>\n",
       "      <th>218</th>\n",
       "      <td>captain! jean luc piccard! - btw, best ytmnd l...</td>\n",
       "      <td>1.00</td>\n",
       "      <td>0.30</td>\n",
       "    </tr>\n",
       "    <tr>\n",
       "      <th>258</th>\n",
       "      <td>his crew would also make an awesome cabinet - ...</td>\n",
       "      <td>1.00</td>\n",
       "      <td>1.00</td>\n",
       "    </tr>\n",
       "    <tr>\n",
       "      <th>1747</th>\n",
       "      <td>it looks like a copycat of [kinoko no yama](ht...</td>\n",
       "      <td>1.00</td>\n",
       "      <td>1.00</td>\n",
       "    </tr>\n",
       "    <tr>\n",
       "      <th>1948</th>\n",
       "      <td>i'd prefer romulan. by science did they have i...</td>\n",
       "      <td>1.00</td>\n",
       "      <td>1.00</td>\n",
       "    </tr>\n",
       "    <tr>\n",
       "      <th>2014</th>\n",
       "      <td>star trek: voyager.  the theme song is exquisite.</td>\n",
       "      <td>1.00</td>\n",
       "      <td>1.00</td>\n",
       "    </tr>\n",
       "    <tr>\n",
       "      <th>134</th>\n",
       "      <td>i don't think so. we're just playing thought g...</td>\n",
       "      <td>1.00</td>\n",
       "      <td>1.00</td>\n",
       "    </tr>\n",
       "    <tr>\n",
       "      <th>1749</th>\n",
       "      <td>kirk is the best. suck on it.</td>\n",
       "      <td>1.00</td>\n",
       "      <td>0.30</td>\n",
       "    </tr>\n",
       "    <tr>\n",
       "      <th>434</th>\n",
       "      <td>star trek tng: the best of both worlds -  - \"i...</td>\n",
       "      <td>1.00</td>\n",
       "      <td>0.30</td>\n",
       "    </tr>\n",
       "    <tr>\n",
       "      <th>45</th>\n",
       "      <td>i'm streaming star trek voyager on tv. i think...</td>\n",
       "      <td>1.00</td>\n",
       "      <td>1.00</td>\n",
       "    </tr>\n",
       "    <tr>\n",
       "      <th>6</th>\n",
       "      <td>spawn...marilyn manson, kirk hammett, just alo...</td>\n",
       "      <td>1.00</td>\n",
       "      <td>1.00</td>\n",
       "    </tr>\n",
       "    <tr>\n",
       "      <th>334</th>\n",
       "      <td>screw 4th of july... -  - happy captain picard...</td>\n",
       "      <td>1.00</td>\n",
       "      <td>1.00</td>\n",
       "    </tr>\n",
       "    <tr>\n",
       "      <th>392</th>\n",
       "      <td>star trek tng: the best of both worlds part i</td>\n",
       "      <td>1.00</td>\n",
       "      <td>0.30</td>\n",
       "    </tr>\n",
       "    <tr>\n",
       "      <th>2701</th>\n",
       "      <td>those le gems would be more valuable if you pu...</td>\n",
       "      <td>0.98</td>\n",
       "      <td>0.50</td>\n",
       "    </tr>\n",
       "    <tr>\n",
       "      <th>313</th>\n",
       "      <td>the problem with this choice is i don't think ...</td>\n",
       "      <td>0.90</td>\n",
       "      <td>0.97</td>\n",
       "    </tr>\n",
       "    <tr>\n",
       "      <th>570</th>\n",
       "      <td>i had a toy enterprise-d -  - i would always p...</td>\n",
       "      <td>0.90</td>\n",
       "      <td>0.60</td>\n",
       "    </tr>\n",
       "    <tr>\n",
       "      <th>2186</th>\n",
       "      <td>this is why everyone should strive to die a go...</td>\n",
       "      <td>0.88</td>\n",
       "      <td>0.60</td>\n",
       "    </tr>\n",
       "    <tr>\n",
       "      <th>2025</th>\n",
       "      <td>spock would be proud.</td>\n",
       "      <td>0.80</td>\n",
       "      <td>1.00</td>\n",
       "    </tr>\n",
       "    <tr>\n",
       "      <th>2277</th>\n",
       "      <td>wil wheaton's unforgettable role as precocious...</td>\n",
       "      <td>0.80</td>\n",
       "      <td>1.00</td>\n",
       "    </tr>\n",
       "    <tr>\n",
       "      <th>2750</th>\n",
       "      <td>lol scotty, i get jokes</td>\n",
       "      <td>0.80</td>\n",
       "      <td>0.70</td>\n",
       "    </tr>\n",
       "    <tr>\n",
       "      <th>2744</th>\n",
       "      <td>you could read \" the metaphysics of star trek\"...</td>\n",
       "      <td>0.80</td>\n",
       "      <td>0.75</td>\n",
       "    </tr>\n",
       "    <tr>\n",
       "      <th>1374</th>\n",
       "      <td>kirk is not the \"epitome of great leadership.\"...</td>\n",
       "      <td>0.80</td>\n",
       "      <td>0.75</td>\n",
       "    </tr>\n",
       "    <tr>\n",
       "      <th>2355</th>\n",
       "      <td>i would create my very own star trek replicator.</td>\n",
       "      <td>0.78</td>\n",
       "      <td>1.00</td>\n",
       "    </tr>\n",
       "    <tr>\n",
       "      <th>1412</th>\n",
       "      <td>star trek: tng is so amazing. thank god for bb...</td>\n",
       "      <td>0.75</td>\n",
       "      <td>0.90</td>\n",
       "    </tr>\n",
       "    <tr>\n",
       "      <th>2163</th>\n",
       "      <td>considering currency doesn't exist in star tre...</td>\n",
       "      <td>0.75</td>\n",
       "      <td>1.00</td>\n",
       "    </tr>\n",
       "    <tr>\n",
       "      <th>1766</th>\n",
       "      <td>i have a mouse, just wish they'd get it over w...</td>\n",
       "      <td>0.75</td>\n",
       "      <td>1.00</td>\n",
       "    </tr>\n",
       "    <tr>\n",
       "      <th>2391</th>\n",
       "      <td>star trek. i love star trek enterprise. best s...</td>\n",
       "      <td>0.75</td>\n",
       "      <td>0.45</td>\n",
       "    </tr>\n",
       "    <tr>\n",
       "      <th>2382</th>\n",
       "      <td>that is the best wording i've seen for this.  ...</td>\n",
       "      <td>0.75</td>\n",
       "      <td>0.40</td>\n",
       "    </tr>\n",
       "    <tr>\n",
       "      <th>410</th>\n",
       "      <td>one of the best ways ive heard of someone comi...</td>\n",
       "      <td>0.73</td>\n",
       "      <td>0.45</td>\n",
       "    </tr>\n",
       "    <tr>\n",
       "      <th>3</th>\n",
       "      <td>nero's welcome reality album... its so amazing</td>\n",
       "      <td>0.70</td>\n",
       "      <td>0.90</td>\n",
       "    </tr>\n",
       "    <tr>\n",
       "      <th>1275</th>\n",
       "      <td>ooh, good catch. didn't think about that, but,...</td>\n",
       "      <td>0.70</td>\n",
       "      <td>0.60</td>\n",
       "    </tr>\n",
       "    <tr>\n",
       "      <th>...</th>\n",
       "      <td>...</td>\n",
       "      <td>...</td>\n",
       "      <td>...</td>\n",
       "    </tr>\n",
       "    <tr>\n",
       "      <th>2626</th>\n",
       "      <td>okay, ogre, i'm going to give it to you straig...</td>\n",
       "      <td>0.34</td>\n",
       "      <td>0.46</td>\n",
       "    </tr>\n",
       "    <tr>\n",
       "      <th>401</th>\n",
       "      <td>\"this is further exacerbated by the fact that ...</td>\n",
       "      <td>0.33</td>\n",
       "      <td>0.80</td>\n",
       "    </tr>\n",
       "    <tr>\n",
       "      <th>1652</th>\n",
       "      <td>yes. -  - the burning question is he still loy...</td>\n",
       "      <td>0.33</td>\n",
       "      <td>0.83</td>\n",
       "    </tr>\n",
       "    <tr>\n",
       "      <th>255</th>\n",
       "      <td>more realistic than captain picard or avatar a...</td>\n",
       "      <td>0.33</td>\n",
       "      <td>0.42</td>\n",
       "    </tr>\n",
       "    <tr>\n",
       "      <th>2579</th>\n",
       "      <td>orion or medusa would be better. more immediat...</td>\n",
       "      <td>0.33</td>\n",
       "      <td>0.38</td>\n",
       "    </tr>\n",
       "    <tr>\n",
       "      <th>2374</th>\n",
       "      <td>*\"to boldly go where no man has gone before\"* ...</td>\n",
       "      <td>0.33</td>\n",
       "      <td>0.67</td>\n",
       "    </tr>\n",
       "    <tr>\n",
       "      <th>2577</th>\n",
       "      <td>to boldly go where no man has gone before.</td>\n",
       "      <td>0.33</td>\n",
       "      <td>0.67</td>\n",
       "    </tr>\n",
       "    <tr>\n",
       "      <th>2155</th>\n",
       "      <td>you should watch star trek next generation. it...</td>\n",
       "      <td>0.33</td>\n",
       "      <td>0.10</td>\n",
       "    </tr>\n",
       "    <tr>\n",
       "      <th>1489</th>\n",
       "      <td>i'm not too sure about that, i really really l...</td>\n",
       "      <td>0.33</td>\n",
       "      <td>0.60</td>\n",
       "    </tr>\n",
       "    <tr>\n",
       "      <th>1914</th>\n",
       "      <td>imitrex hangover makes me feel even shittier d...</td>\n",
       "      <td>0.33</td>\n",
       "      <td>0.67</td>\n",
       "    </tr>\n",
       "    <tr>\n",
       "      <th>1039</th>\n",
       "      <td>&amp;gt;the fact that people think ren and stimpy ...</td>\n",
       "      <td>0.33</td>\n",
       "      <td>0.64</td>\n",
       "    </tr>\n",
       "    <tr>\n",
       "      <th>193</th>\n",
       "      <td>i opened up the comments just to see how high ...</td>\n",
       "      <td>0.33</td>\n",
       "      <td>0.52</td>\n",
       "    </tr>\n",
       "    <tr>\n",
       "      <th>1063</th>\n",
       "      <td>i'm super girly, but i love star trek. and fis...</td>\n",
       "      <td>0.33</td>\n",
       "      <td>0.57</td>\n",
       "    </tr>\n",
       "    <tr>\n",
       "      <th>1889</th>\n",
       "      <td>ill agree that some of our coffee tastes kind ...</td>\n",
       "      <td>0.33</td>\n",
       "      <td>0.68</td>\n",
       "    </tr>\n",
       "    <tr>\n",
       "      <th>2640</th>\n",
       "      <td>there's a lot of possible reasons and much of ...</td>\n",
       "      <td>0.33</td>\n",
       "      <td>0.60</td>\n",
       "    </tr>\n",
       "    <tr>\n",
       "      <th>2641</th>\n",
       "      <td>science fiction is a specific case of fantasy ...</td>\n",
       "      <td>0.33</td>\n",
       "      <td>0.65</td>\n",
       "    </tr>\n",
       "    <tr>\n",
       "      <th>1860</th>\n",
       "      <td>many americans can't understand your accents, ...</td>\n",
       "      <td>0.33</td>\n",
       "      <td>0.65</td>\n",
       "    </tr>\n",
       "    <tr>\n",
       "      <th>2440</th>\n",
       "      <td>like in star trek (2009), i'm watching it and ...</td>\n",
       "      <td>0.33</td>\n",
       "      <td>0.38</td>\n",
       "    </tr>\n",
       "    <tr>\n",
       "      <th>2221</th>\n",
       "      <td>i honestly thought that the original star trek...</td>\n",
       "      <td>0.33</td>\n",
       "      <td>0.55</td>\n",
       "    </tr>\n",
       "    <tr>\n",
       "      <th>1816</th>\n",
       "      <td>jump into a tv show and then watch every episo...</td>\n",
       "      <td>0.32</td>\n",
       "      <td>0.50</td>\n",
       "    </tr>\n",
       "    <tr>\n",
       "      <th>1688</th>\n",
       "      <td>1. i have a wonderful girlfriend who i love ve...</td>\n",
       "      <td>0.32</td>\n",
       "      <td>0.59</td>\n",
       "    </tr>\n",
       "    <tr>\n",
       "      <th>578</th>\n",
       "      <td>i had a friend who had a parrot and loved star...</td>\n",
       "      <td>0.32</td>\n",
       "      <td>0.59</td>\n",
       "    </tr>\n",
       "    <tr>\n",
       "      <th>358</th>\n",
       "      <td>i, for the longest time, refused to watch any ...</td>\n",
       "      <td>0.32</td>\n",
       "      <td>0.60</td>\n",
       "    </tr>\n",
       "    <tr>\n",
       "      <th>271</th>\n",
       "      <td>logically the only good choice is spock.</td>\n",
       "      <td>0.32</td>\n",
       "      <td>0.62</td>\n",
       "    </tr>\n",
       "    <tr>\n",
       "      <th>110</th>\n",
       "      <td>prison break, heroes, that 70s show. if you're...</td>\n",
       "      <td>0.32</td>\n",
       "      <td>0.38</td>\n",
       "    </tr>\n",
       "    <tr>\n",
       "      <th>1907</th>\n",
       "      <td>the first beer that really opened my eyes was ...</td>\n",
       "      <td>0.32</td>\n",
       "      <td>0.43</td>\n",
       "    </tr>\n",
       "    <tr>\n",
       "      <th>1879</th>\n",
       "      <td>at the beginning of the 2009 star trek film, w...</td>\n",
       "      <td>0.32</td>\n",
       "      <td>0.47</td>\n",
       "    </tr>\n",
       "    <tr>\n",
       "      <th>505</th>\n",
       "      <td>also, orion by metallica.  one of my favorite ...</td>\n",
       "      <td>0.31</td>\n",
       "      <td>0.62</td>\n",
       "    </tr>\n",
       "    <tr>\n",
       "      <th>707</th>\n",
       "      <td>i've seen mib 3 and brave in the past 6 weeks....</td>\n",
       "      <td>0.31</td>\n",
       "      <td>0.67</td>\n",
       "    </tr>\n",
       "    <tr>\n",
       "      <th>2174</th>\n",
       "      <td>spending a lazy sunday with my family. :-) tod...</td>\n",
       "      <td>0.31</td>\n",
       "      <td>1.00</td>\n",
       "    </tr>\n",
       "  </tbody>\n",
       "</table>\n",
       "<p>277 rows × 3 columns</p>\n",
       "</div>"
      ],
      "text/plain": [
       "                                                   body  sentiment  \\\n",
       "218   captain! jean luc piccard! - btw, best ytmnd l...       1.00   \n",
       "258   his crew would also make an awesome cabinet - ...       1.00   \n",
       "1747  it looks like a copycat of [kinoko no yama](ht...       1.00   \n",
       "1948  i'd prefer romulan. by science did they have i...       1.00   \n",
       "2014  star trek: voyager.  the theme song is exquisite.       1.00   \n",
       "134   i don't think so. we're just playing thought g...       1.00   \n",
       "1749                      kirk is the best. suck on it.       1.00   \n",
       "434   star trek tng: the best of both worlds -  - \"i...       1.00   \n",
       "45    i'm streaming star trek voyager on tv. i think...       1.00   \n",
       "6     spawn...marilyn manson, kirk hammett, just alo...       1.00   \n",
       "334   screw 4th of july... -  - happy captain picard...       1.00   \n",
       "392       star trek tng: the best of both worlds part i       1.00   \n",
       "2701  those le gems would be more valuable if you pu...       0.98   \n",
       "313   the problem with this choice is i don't think ...       0.90   \n",
       "570   i had a toy enterprise-d -  - i would always p...       0.90   \n",
       "2186  this is why everyone should strive to die a go...       0.88   \n",
       "2025                              spock would be proud.       0.80   \n",
       "2277  wil wheaton's unforgettable role as precocious...       0.80   \n",
       "2750                            lol scotty, i get jokes       0.80   \n",
       "2744  you could read \" the metaphysics of star trek\"...       0.80   \n",
       "1374  kirk is not the \"epitome of great leadership.\"...       0.80   \n",
       "2355   i would create my very own star trek replicator.       0.78   \n",
       "1412  star trek: tng is so amazing. thank god for bb...       0.75   \n",
       "2163  considering currency doesn't exist in star tre...       0.75   \n",
       "1766  i have a mouse, just wish they'd get it over w...       0.75   \n",
       "2391  star trek. i love star trek enterprise. best s...       0.75   \n",
       "2382  that is the best wording i've seen for this.  ...       0.75   \n",
       "410   one of the best ways ive heard of someone comi...       0.73   \n",
       "3        nero's welcome reality album... its so amazing       0.70   \n",
       "1275  ooh, good catch. didn't think about that, but,...       0.70   \n",
       "...                                                 ...        ...   \n",
       "2626  okay, ogre, i'm going to give it to you straig...       0.34   \n",
       "401   \"this is further exacerbated by the fact that ...       0.33   \n",
       "1652  yes. -  - the burning question is he still loy...       0.33   \n",
       "255   more realistic than captain picard or avatar a...       0.33   \n",
       "2579  orion or medusa would be better. more immediat...       0.33   \n",
       "2374  *\"to boldly go where no man has gone before\"* ...       0.33   \n",
       "2577         to boldly go where no man has gone before.       0.33   \n",
       "2155  you should watch star trek next generation. it...       0.33   \n",
       "1489  i'm not too sure about that, i really really l...       0.33   \n",
       "1914  imitrex hangover makes me feel even shittier d...       0.33   \n",
       "1039  &gt;the fact that people think ren and stimpy ...       0.33   \n",
       "193   i opened up the comments just to see how high ...       0.33   \n",
       "1063  i'm super girly, but i love star trek. and fis...       0.33   \n",
       "1889  ill agree that some of our coffee tastes kind ...       0.33   \n",
       "2640  there's a lot of possible reasons and much of ...       0.33   \n",
       "2641  science fiction is a specific case of fantasy ...       0.33   \n",
       "1860  many americans can't understand your accents, ...       0.33   \n",
       "2440  like in star trek (2009), i'm watching it and ...       0.33   \n",
       "2221  i honestly thought that the original star trek...       0.33   \n",
       "1816  jump into a tv show and then watch every episo...       0.32   \n",
       "1688  1. i have a wonderful girlfriend who i love ve...       0.32   \n",
       "578   i had a friend who had a parrot and loved star...       0.32   \n",
       "358   i, for the longest time, refused to watch any ...       0.32   \n",
       "271            logically the only good choice is spock.       0.32   \n",
       "110   prison break, heroes, that 70s show. if you're...       0.32   \n",
       "1907  the first beer that really opened my eyes was ...       0.32   \n",
       "1879  at the beginning of the 2009 star trek film, w...       0.32   \n",
       "505   also, orion by metallica.  one of my favorite ...       0.31   \n",
       "707   i've seen mib 3 and brave in the past 6 weeks....       0.31   \n",
       "2174  spending a lazy sunday with my family. :-) tod...       0.31   \n",
       "\n",
       "      subjectivity  \n",
       "218           0.30  \n",
       "258           1.00  \n",
       "1747          1.00  \n",
       "1948          1.00  \n",
       "2014          1.00  \n",
       "134           1.00  \n",
       "1749          0.30  \n",
       "434           0.30  \n",
       "45            1.00  \n",
       "6             1.00  \n",
       "334           1.00  \n",
       "392           0.30  \n",
       "2701          0.50  \n",
       "313           0.97  \n",
       "570           0.60  \n",
       "2186          0.60  \n",
       "2025          1.00  \n",
       "2277          1.00  \n",
       "2750          0.70  \n",
       "2744          0.75  \n",
       "1374          0.75  \n",
       "2355          1.00  \n",
       "1412          0.90  \n",
       "2163          1.00  \n",
       "1766          1.00  \n",
       "2391          0.45  \n",
       "2382          0.40  \n",
       "410           0.45  \n",
       "3             0.90  \n",
       "1275          0.60  \n",
       "...            ...  \n",
       "2626          0.46  \n",
       "401           0.80  \n",
       "1652          0.83  \n",
       "255           0.42  \n",
       "2579          0.38  \n",
       "2374          0.67  \n",
       "2577          0.67  \n",
       "2155          0.10  \n",
       "1489          0.60  \n",
       "1914          0.67  \n",
       "1039          0.64  \n",
       "193           0.52  \n",
       "1063          0.57  \n",
       "1889          0.68  \n",
       "2640          0.60  \n",
       "2641          0.65  \n",
       "1860          0.65  \n",
       "2440          0.38  \n",
       "2221          0.55  \n",
       "1816          0.50  \n",
       "1688          0.59  \n",
       "578           0.59  \n",
       "358           0.60  \n",
       "271           0.62  \n",
       "110           0.38  \n",
       "1907          0.43  \n",
       "1879          0.47  \n",
       "505           0.62  \n",
       "707           0.67  \n",
       "2174          1.00  \n",
       "\n",
       "[277 rows x 3 columns]"
      ]
     },
     "execution_count": 90,
     "metadata": {},
     "output_type": "execute_result"
    }
   ],
   "source": [
    "top_df"
   ]
  },
  {
   "cell_type": "code",
   "execution_count": 91,
   "metadata": {
    "collapsed": false
   },
   "outputs": [
    {
     "name": "stdout",
     "output_type": "stream",
     "text": [
      "CPU times: user 1.5 s, sys: 108 ms, total: 1.6 s\n",
      "Wall time: 1.6 s\n"
     ]
    }
   ],
   "source": [
    "%%time\n",
    "\n",
    "top_text = ''\n",
    "for x in top_df['body']:\n",
    "    top_text += x + ' '\n",
    "\n",
    "top_list = [\n",
    "    w\n",
    "    for w in nltk.word_tokenize(top_text)\n",
    "    if w not in stopwords.words('english') and w not in string.punctuation\n",
    "]"
   ]
  },
  {
   "cell_type": "code",
   "execution_count": 92,
   "metadata": {
    "collapsed": true
   },
   "outputs": [],
   "source": [
    "top_counter = Counter(top_list)"
   ]
  },
  {
   "cell_type": "code",
   "execution_count": 93,
   "metadata": {
    "collapsed": false
   },
   "outputs": [
    {
     "data": {
      "text/plain": [
       "[('star', 151),\n",
       " ('trek', 136),\n",
       " (\"'s\", 80),\n",
       " (\"n't\", 65),\n",
       " ('would', 49),\n",
       " (\"''\", 46),\n",
       " ('``', 44),\n",
       " ('like', 41),\n",
       " ('good', 39),\n",
       " ('best', 38),\n",
       " (\"'m\", 37),\n",
       " ('love', 36),\n",
       " ('picard', 35),\n",
       " ('...', 34),\n",
       " ('kirk', 33),\n",
       " ('http', 31),\n",
       " ('also', 28),\n",
       " ('time', 27),\n",
       " ('spock', 24),\n",
       " ('tng', 24)]"
      ]
     },
     "execution_count": 93,
     "metadata": {},
     "output_type": "execute_result"
    }
   ],
   "source": [
    "top_counter.most_common(20)"
   ]
  },
  {
   "cell_type": "markdown",
   "metadata": {},
   "source": [
    "##### Histogram top negative"
   ]
  },
  {
   "cell_type": "code",
   "execution_count": 94,
   "metadata": {
    "collapsed": false
   },
   "outputs": [],
   "source": [
    "top_df = sentiment_df.sort_values('sentiment', ascending=True)[:len(subreddit_date_df) * P // 100]"
   ]
  },
  {
   "cell_type": "code",
   "execution_count": 95,
   "metadata": {
    "collapsed": false
   },
   "outputs": [
    {
     "data": {
      "text/html": [
       "<div>\n",
       "<table border=\"1\" class=\"dataframe\">\n",
       "  <thead>\n",
       "    <tr style=\"text-align: right;\">\n",
       "      <th></th>\n",
       "      <th>body</th>\n",
       "      <th>sentiment</th>\n",
       "      <th>subjectivity</th>\n",
       "    </tr>\n",
       "  </thead>\n",
       "  <tbody>\n",
       "    <tr>\n",
       "      <th>1838</th>\n",
       "      <td>[duck sauce - barbara streisand](http://www.yo...</td>\n",
       "      <td>-1.00</td>\n",
       "      <td>1.00</td>\n",
       "    </tr>\n",
       "    <tr>\n",
       "      <th>213</th>\n",
       "      <td>omfg that is bs wtf?!?!?! kirk would beat up p...</td>\n",
       "      <td>-1.00</td>\n",
       "      <td>1.00</td>\n",
       "    </tr>\n",
       "    <tr>\n",
       "      <th>850</th>\n",
       "      <td>if star trek has taught me anything, it's that...</td>\n",
       "      <td>-1.00</td>\n",
       "      <td>1.00</td>\n",
       "    </tr>\n",
       "    <tr>\n",
       "      <th>368</th>\n",
       "      <td>they did a star trek deepspace nine episode li...</td>\n",
       "      <td>-0.90</td>\n",
       "      <td>0.70</td>\n",
       "    </tr>\n",
       "    <tr>\n",
       "      <th>726</th>\n",
       "      <td>what he said is 100% correct, if you aren't th...</td>\n",
       "      <td>-0.90</td>\n",
       "      <td>1.00</td>\n",
       "    </tr>\n",
       "    <tr>\n",
       "      <th>2037</th>\n",
       "      <td>i hate to tell you this, but spock dies in the...</td>\n",
       "      <td>-0.80</td>\n",
       "      <td>0.90</td>\n",
       "    </tr>\n",
       "    <tr>\n",
       "      <th>257</th>\n",
       "      <td>the idealistic picard from the television seri...</td>\n",
       "      <td>-0.80</td>\n",
       "      <td>1.00</td>\n",
       "    </tr>\n",
       "    <tr>\n",
       "      <th>1754</th>\n",
       "      <td>spock? from that stupid star trek movie where ...</td>\n",
       "      <td>-0.80</td>\n",
       "      <td>1.00</td>\n",
       "    </tr>\n",
       "    <tr>\n",
       "      <th>2033</th>\n",
       "      <td>yup: [uhura's song](http://www.youtube.com/wat...</td>\n",
       "      <td>-0.75</td>\n",
       "      <td>1.00</td>\n",
       "    </tr>\n",
       "    <tr>\n",
       "      <th>1454</th>\n",
       "      <td>o no! =( set phasers to stun</td>\n",
       "      <td>-0.75</td>\n",
       "      <td>1.00</td>\n",
       "    </tr>\n",
       "    <tr>\n",
       "      <th>1304</th>\n",
       "      <td>spock. wrath of khan. -  - spoiler: [he got be...</td>\n",
       "      <td>-0.75</td>\n",
       "      <td>1.00</td>\n",
       "    </tr>\n",
       "    <tr>\n",
       "      <th>1946</th>\n",
       "      <td>go fuck yourself, you pathetic bitch!  -  - i,...</td>\n",
       "      <td>-0.72</td>\n",
       "      <td>0.78</td>\n",
       "    </tr>\n",
       "    <tr>\n",
       "      <th>480</th>\n",
       "      <td>star trek.. boring as fuck.</td>\n",
       "      <td>-0.70</td>\n",
       "      <td>0.80</td>\n",
       "    </tr>\n",
       "    <tr>\n",
       "      <th>1883</th>\n",
       "      <td>her \"beam me up scotty\" mixtape ain't bad.</td>\n",
       "      <td>-0.70</td>\n",
       "      <td>0.67</td>\n",
       "    </tr>\n",
       "    <tr>\n",
       "      <th>853</th>\n",
       "      <td>breaking bad, star trek, the x-files, and batt...</td>\n",
       "      <td>-0.70</td>\n",
       "      <td>0.67</td>\n",
       "    </tr>\n",
       "    <tr>\n",
       "      <th>309</th>\n",
       "      <td>that star trek disapproves so badly of transhu...</td>\n",
       "      <td>-0.70</td>\n",
       "      <td>0.67</td>\n",
       "    </tr>\n",
       "    <tr>\n",
       "      <th>1163</th>\n",
       "      <td>joe mccoy, *friday night lights*. - betty drap...</td>\n",
       "      <td>-0.62</td>\n",
       "      <td>1.00</td>\n",
       "    </tr>\n",
       "    <tr>\n",
       "      <th>1924</th>\n",
       "      <td>well duhh... you went to priceline instead of ...</td>\n",
       "      <td>-0.62</td>\n",
       "      <td>0.90</td>\n",
       "    </tr>\n",
       "    <tr>\n",
       "      <th>1916</th>\n",
       "      <td>ughh me too everyone in my family called me sp...</td>\n",
       "      <td>-0.62</td>\n",
       "      <td>0.88</td>\n",
       "    </tr>\n",
       "    <tr>\n",
       "      <th>2695</th>\n",
       "      <td>the fucking [starship enterprise.](http://vide...</td>\n",
       "      <td>-0.60</td>\n",
       "      <td>0.80</td>\n",
       "    </tr>\n",
       "    <tr>\n",
       "      <th>1683</th>\n",
       "      <td>jesus fucking christ -5? he was messing around...</td>\n",
       "      <td>-0.60</td>\n",
       "      <td>0.80</td>\n",
       "    </tr>\n",
       "    <tr>\n",
       "      <th>1697</th>\n",
       "      <td>things she misssed out on like kirk the captai...</td>\n",
       "      <td>-0.60</td>\n",
       "      <td>0.80</td>\n",
       "    </tr>\n",
       "    <tr>\n",
       "      <th>2245</th>\n",
       "      <td>star trek before star wars? -  - fucking dropped.</td>\n",
       "      <td>-0.60</td>\n",
       "      <td>0.80</td>\n",
       "    </tr>\n",
       "    <tr>\n",
       "      <th>405</th>\n",
       "      <td>&amp;gt;straight out of star trek. -  - crazy moth...</td>\n",
       "      <td>-0.60</td>\n",
       "      <td>0.90</td>\n",
       "    </tr>\n",
       "    <tr>\n",
       "      <th>677</th>\n",
       "      <td>william shatner. i like star trek and some of ...</td>\n",
       "      <td>-0.56</td>\n",
       "      <td>0.69</td>\n",
       "    </tr>\n",
       "    <tr>\n",
       "      <th>1942</th>\n",
       "      <td>midwest represetin' -  - akron, ohio: [\"birthp...</td>\n",
       "      <td>-0.55</td>\n",
       "      <td>0.97</td>\n",
       "    </tr>\n",
       "    <tr>\n",
       "      <th>675</th>\n",
       "      <td>threesome.  she was way cooler because she kne...</td>\n",
       "      <td>-0.55</td>\n",
       "      <td>0.95</td>\n",
       "    </tr>\n",
       "    <tr>\n",
       "      <th>1598</th>\n",
       "      <td>i say things like \" i can't hang out there's a...</td>\n",
       "      <td>-0.55</td>\n",
       "      <td>0.70</td>\n",
       "    </tr>\n",
       "    <tr>\n",
       "      <th>544</th>\n",
       "      <td>because welsey crusher sucks and some of us (m...</td>\n",
       "      <td>-0.55</td>\n",
       "      <td>0.65</td>\n",
       "    </tr>\n",
       "    <tr>\n",
       "      <th>240</th>\n",
       "      <td>it just occurred to me that every asshole and ...</td>\n",
       "      <td>-0.53</td>\n",
       "      <td>0.53</td>\n",
       "    </tr>\n",
       "    <tr>\n",
       "      <th>...</th>\n",
       "      <td>...</td>\n",
       "      <td>...</td>\n",
       "      <td>...</td>\n",
       "    </tr>\n",
       "    <tr>\n",
       "      <th>2346</th>\n",
       "      <td>i worked the census this last go round in 2010...</td>\n",
       "      <td>-0.10</td>\n",
       "      <td>0.23</td>\n",
       "    </tr>\n",
       "    <tr>\n",
       "      <th>2362</th>\n",
       "      <td>http://www.youtube.com/watch?v=ilekvbrmfra try...</td>\n",
       "      <td>-0.10</td>\n",
       "      <td>0.45</td>\n",
       "    </tr>\n",
       "    <tr>\n",
       "      <th>1692</th>\n",
       "      <td>next round: jew crusher vs the jew bear.</td>\n",
       "      <td>-0.10</td>\n",
       "      <td>0.20</td>\n",
       "    </tr>\n",
       "    <tr>\n",
       "      <th>407</th>\n",
       "      <td>when barclay turns into the giant spider and s...</td>\n",
       "      <td>-0.10</td>\n",
       "      <td>0.90</td>\n",
       "    </tr>\n",
       "    <tr>\n",
       "      <th>1278</th>\n",
       "      <td>yep, it's like arguing about learning klingon....</td>\n",
       "      <td>-0.10</td>\n",
       "      <td>0.20</td>\n",
       "    </tr>\n",
       "    <tr>\n",
       "      <th>1912</th>\n",
       "      <td>first cats name was meow i was 5 -6 and told t...</td>\n",
       "      <td>-0.10</td>\n",
       "      <td>0.49</td>\n",
       "    </tr>\n",
       "    <tr>\n",
       "      <th>594</th>\n",
       "      <td>pike place is neat to walk around. there is al...</td>\n",
       "      <td>-0.10</td>\n",
       "      <td>0.10</td>\n",
       "    </tr>\n",
       "    <tr>\n",
       "      <th>2615</th>\n",
       "      <td>google the orion project. it's unfeasible, it'...</td>\n",
       "      <td>-0.10</td>\n",
       "      <td>0.36</td>\n",
       "    </tr>\n",
       "    <tr>\n",
       "      <th>917</th>\n",
       "      <td>i went to school with a kirk roach. just a hor...</td>\n",
       "      <td>-0.10</td>\n",
       "      <td>0.46</td>\n",
       "    </tr>\n",
       "    <tr>\n",
       "      <th>1817</th>\n",
       "      <td>chaw' mah 'ej 'uq'a' daq puqpu' vo' maj jaghpu...</td>\n",
       "      <td>-0.10</td>\n",
       "      <td>0.40</td>\n",
       "    </tr>\n",
       "    <tr>\n",
       "      <th>1664</th>\n",
       "      <td>wet blanket here. watched star trek 2009 with ...</td>\n",
       "      <td>-0.10</td>\n",
       "      <td>0.40</td>\n",
       "    </tr>\n",
       "    <tr>\n",
       "      <th>831</th>\n",
       "      <td>sounds autistic. my cousin does yhis same sort...</td>\n",
       "      <td>-0.10</td>\n",
       "      <td>0.16</td>\n",
       "    </tr>\n",
       "    <tr>\n",
       "      <th>119</th>\n",
       "      <td>\"fish tank.\" it's an independent british film ...</td>\n",
       "      <td>-0.10</td>\n",
       "      <td>0.46</td>\n",
       "    </tr>\n",
       "    <tr>\n",
       "      <th>2528</th>\n",
       "      <td>i think it spans a couple episodes at least. i...</td>\n",
       "      <td>-0.10</td>\n",
       "      <td>0.35</td>\n",
       "    </tr>\n",
       "    <tr>\n",
       "      <th>118</th>\n",
       "      <td>ft. mccoy wi...same thing.  at least in the ol...</td>\n",
       "      <td>-0.10</td>\n",
       "      <td>0.30</td>\n",
       "    </tr>\n",
       "    <tr>\n",
       "      <th>206</th>\n",
       "      <td>it could just be because i'm watching a firefl...</td>\n",
       "      <td>-0.10</td>\n",
       "      <td>0.58</td>\n",
       "    </tr>\n",
       "    <tr>\n",
       "      <th>2268</th>\n",
       "      <td>\"i've seen things you people wouldn't believe....</td>\n",
       "      <td>-0.10</td>\n",
       "      <td>0.47</td>\n",
       "    </tr>\n",
       "    <tr>\n",
       "      <th>78</th>\n",
       "      <td>i have loads. just a few here. mostlly racist ...</td>\n",
       "      <td>-0.10</td>\n",
       "      <td>0.46</td>\n",
       "    </tr>\n",
       "    <tr>\n",
       "      <th>2678</th>\n",
       "      <td>ejecting out of an sr-71 would be rough but th...</td>\n",
       "      <td>-0.10</td>\n",
       "      <td>0.43</td>\n",
       "    </tr>\n",
       "    <tr>\n",
       "      <th>371</th>\n",
       "      <td>i thought the one with the alien body invaders...</td>\n",
       "      <td>-0.10</td>\n",
       "      <td>0.67</td>\n",
       "    </tr>\n",
       "    <tr>\n",
       "      <th>504</th>\n",
       "      <td>***star trek: nemesis*** -  - for some inexpli...</td>\n",
       "      <td>-0.10</td>\n",
       "      <td>0.62</td>\n",
       "    </tr>\n",
       "    <tr>\n",
       "      <th>2113</th>\n",
       "      <td>related crazy story: a linguist who taught his...</td>\n",
       "      <td>-0.10</td>\n",
       "      <td>0.54</td>\n",
       "    </tr>\n",
       "    <tr>\n",
       "      <th>2685</th>\n",
       "      <td>so you mean it doesn't even need to be star tr...</td>\n",
       "      <td>-0.09</td>\n",
       "      <td>0.51</td>\n",
       "    </tr>\n",
       "    <tr>\n",
       "      <th>2646</th>\n",
       "      <td>we were 17.  she had hair down to her waist an...</td>\n",
       "      <td>-0.09</td>\n",
       "      <td>0.35</td>\n",
       "    </tr>\n",
       "    <tr>\n",
       "      <th>438</th>\n",
       "      <td>star trek: tng season 3, when the borg kidnap ...</td>\n",
       "      <td>-0.09</td>\n",
       "      <td>0.47</td>\n",
       "    </tr>\n",
       "    <tr>\n",
       "      <th>65</th>\n",
       "      <td>sad: eating junk food like pizza, kebabs, some...</td>\n",
       "      <td>-0.09</td>\n",
       "      <td>0.34</td>\n",
       "    </tr>\n",
       "    <tr>\n",
       "      <th>305</th>\n",
       "      <td>but it's also good to keep in mind that reddit...</td>\n",
       "      <td>-0.09</td>\n",
       "      <td>0.62</td>\n",
       "    </tr>\n",
       "    <tr>\n",
       "      <th>1720</th>\n",
       "      <td>let's be serious here. kirk was a cheating bas...</td>\n",
       "      <td>-0.09</td>\n",
       "      <td>0.50</td>\n",
       "    </tr>\n",
       "    <tr>\n",
       "      <th>2210</th>\n",
       "      <td>i went to washington, md and haven't been back...</td>\n",
       "      <td>-0.09</td>\n",
       "      <td>0.61</td>\n",
       "    </tr>\n",
       "    <tr>\n",
       "      <th>2023</th>\n",
       "      <td>haven't seen superbad myself. i also have stil...</td>\n",
       "      <td>-0.09</td>\n",
       "      <td>0.42</td>\n",
       "    </tr>\n",
       "  </tbody>\n",
       "</table>\n",
       "<p>277 rows × 3 columns</p>\n",
       "</div>"
      ],
      "text/plain": [
       "                                                   body  sentiment  \\\n",
       "1838  [duck sauce - barbara streisand](http://www.yo...      -1.00   \n",
       "213   omfg that is bs wtf?!?!?! kirk would beat up p...      -1.00   \n",
       "850   if star trek has taught me anything, it's that...      -1.00   \n",
       "368   they did a star trek deepspace nine episode li...      -0.90   \n",
       "726   what he said is 100% correct, if you aren't th...      -0.90   \n",
       "2037  i hate to tell you this, but spock dies in the...      -0.80   \n",
       "257   the idealistic picard from the television seri...      -0.80   \n",
       "1754  spock? from that stupid star trek movie where ...      -0.80   \n",
       "2033  yup: [uhura's song](http://www.youtube.com/wat...      -0.75   \n",
       "1454                       o no! =( set phasers to stun      -0.75   \n",
       "1304  spock. wrath of khan. -  - spoiler: [he got be...      -0.75   \n",
       "1946  go fuck yourself, you pathetic bitch!  -  - i,...      -0.72   \n",
       "480                         star trek.. boring as fuck.      -0.70   \n",
       "1883         her \"beam me up scotty\" mixtape ain't bad.      -0.70   \n",
       "853   breaking bad, star trek, the x-files, and batt...      -0.70   \n",
       "309   that star trek disapproves so badly of transhu...      -0.70   \n",
       "1163  joe mccoy, *friday night lights*. - betty drap...      -0.62   \n",
       "1924  well duhh... you went to priceline instead of ...      -0.62   \n",
       "1916  ughh me too everyone in my family called me sp...      -0.62   \n",
       "2695  the fucking [starship enterprise.](http://vide...      -0.60   \n",
       "1683  jesus fucking christ -5? he was messing around...      -0.60   \n",
       "1697  things she misssed out on like kirk the captai...      -0.60   \n",
       "2245  star trek before star wars? -  - fucking dropped.      -0.60   \n",
       "405   &gt;straight out of star trek. -  - crazy moth...      -0.60   \n",
       "677   william shatner. i like star trek and some of ...      -0.56   \n",
       "1942  midwest represetin' -  - akron, ohio: [\"birthp...      -0.55   \n",
       "675   threesome.  she was way cooler because she kne...      -0.55   \n",
       "1598  i say things like \" i can't hang out there's a...      -0.55   \n",
       "544   because welsey crusher sucks and some of us (m...      -0.55   \n",
       "240   it just occurred to me that every asshole and ...      -0.53   \n",
       "...                                                 ...        ...   \n",
       "2346  i worked the census this last go round in 2010...      -0.10   \n",
       "2362  http://www.youtube.com/watch?v=ilekvbrmfra try...      -0.10   \n",
       "1692           next round: jew crusher vs the jew bear.      -0.10   \n",
       "407   when barclay turns into the giant spider and s...      -0.10   \n",
       "1278  yep, it's like arguing about learning klingon....      -0.10   \n",
       "1912  first cats name was meow i was 5 -6 and told t...      -0.10   \n",
       "594   pike place is neat to walk around. there is al...      -0.10   \n",
       "2615  google the orion project. it's unfeasible, it'...      -0.10   \n",
       "917   i went to school with a kirk roach. just a hor...      -0.10   \n",
       "1817  chaw' mah 'ej 'uq'a' daq puqpu' vo' maj jaghpu...      -0.10   \n",
       "1664  wet blanket here. watched star trek 2009 with ...      -0.10   \n",
       "831   sounds autistic. my cousin does yhis same sort...      -0.10   \n",
       "119   \"fish tank.\" it's an independent british film ...      -0.10   \n",
       "2528  i think it spans a couple episodes at least. i...      -0.10   \n",
       "118   ft. mccoy wi...same thing.  at least in the ol...      -0.10   \n",
       "206   it could just be because i'm watching a firefl...      -0.10   \n",
       "2268  \"i've seen things you people wouldn't believe....      -0.10   \n",
       "78    i have loads. just a few here. mostlly racist ...      -0.10   \n",
       "2678  ejecting out of an sr-71 would be rough but th...      -0.10   \n",
       "371   i thought the one with the alien body invaders...      -0.10   \n",
       "504   ***star trek: nemesis*** -  - for some inexpli...      -0.10   \n",
       "2113  related crazy story: a linguist who taught his...      -0.10   \n",
       "2685  so you mean it doesn't even need to be star tr...      -0.09   \n",
       "2646  we were 17.  she had hair down to her waist an...      -0.09   \n",
       "438   star trek: tng season 3, when the borg kidnap ...      -0.09   \n",
       "65    sad: eating junk food like pizza, kebabs, some...      -0.09   \n",
       "305   but it's also good to keep in mind that reddit...      -0.09   \n",
       "1720  let's be serious here. kirk was a cheating bas...      -0.09   \n",
       "2210  i went to washington, md and haven't been back...      -0.09   \n",
       "2023  haven't seen superbad myself. i also have stil...      -0.09   \n",
       "\n",
       "      subjectivity  \n",
       "1838          1.00  \n",
       "213           1.00  \n",
       "850           1.00  \n",
       "368           0.70  \n",
       "726           1.00  \n",
       "2037          0.90  \n",
       "257           1.00  \n",
       "1754          1.00  \n",
       "2033          1.00  \n",
       "1454          1.00  \n",
       "1304          1.00  \n",
       "1946          0.78  \n",
       "480           0.80  \n",
       "1883          0.67  \n",
       "853           0.67  \n",
       "309           0.67  \n",
       "1163          1.00  \n",
       "1924          0.90  \n",
       "1916          0.88  \n",
       "2695          0.80  \n",
       "1683          0.80  \n",
       "1697          0.80  \n",
       "2245          0.80  \n",
       "405           0.90  \n",
       "677           0.69  \n",
       "1942          0.97  \n",
       "675           0.95  \n",
       "1598          0.70  \n",
       "544           0.65  \n",
       "240           0.53  \n",
       "...            ...  \n",
       "2346          0.23  \n",
       "2362          0.45  \n",
       "1692          0.20  \n",
       "407           0.90  \n",
       "1278          0.20  \n",
       "1912          0.49  \n",
       "594           0.10  \n",
       "2615          0.36  \n",
       "917           0.46  \n",
       "1817          0.40  \n",
       "1664          0.40  \n",
       "831           0.16  \n",
       "119           0.46  \n",
       "2528          0.35  \n",
       "118           0.30  \n",
       "206           0.58  \n",
       "2268          0.47  \n",
       "78            0.46  \n",
       "2678          0.43  \n",
       "371           0.67  \n",
       "504           0.62  \n",
       "2113          0.54  \n",
       "2685          0.51  \n",
       "2646          0.35  \n",
       "438           0.47  \n",
       "65            0.34  \n",
       "305           0.62  \n",
       "1720          0.50  \n",
       "2210          0.61  \n",
       "2023          0.42  \n",
       "\n",
       "[277 rows x 3 columns]"
      ]
     },
     "execution_count": 95,
     "metadata": {},
     "output_type": "execute_result"
    }
   ],
   "source": [
    "top_df"
   ]
  },
  {
   "cell_type": "code",
   "execution_count": 96,
   "metadata": {
    "collapsed": false
   },
   "outputs": [
    {
     "name": "stdout",
     "output_type": "stream",
     "text": [
      "CPU times: user 2.06 s, sys: 128 ms, total: 2.19 s\n",
      "Wall time: 2.19 s\n"
     ]
    }
   ],
   "source": [
    "%%time\n",
    "\n",
    "top_text = ''\n",
    "for x in top_df['body']:\n",
    "    top_text += x + ' '\n",
    "\n",
    "top_list = [\n",
    "    w\n",
    "    for w in nltk.word_tokenize(top_text)\n",
    "    if w not in stopwords.words('english') and w not in string.punctuation\n",
    "]"
   ]
  },
  {
   "cell_type": "code",
   "execution_count": 97,
   "metadata": {
    "collapsed": true
   },
   "outputs": [],
   "source": [
    "top_counter = Counter(top_list)"
   ]
  },
  {
   "cell_type": "code",
   "execution_count": 98,
   "metadata": {
    "collapsed": false
   },
   "outputs": [
    {
     "data": {
      "text/plain": [
       "[('star', 137),\n",
       " (\"'s\", 127),\n",
       " (\"n't\", 123),\n",
       " ('trek', 123),\n",
       " ('``', 96),\n",
       " (\"''\", 94),\n",
       " ('...', 70),\n",
       " ('like', 67),\n",
       " ('fuck', 49),\n",
       " (\"'m\", 48),\n",
       " ('would', 47),\n",
       " ('get', 35),\n",
       " ('picard', 34),\n",
       " ('one', 33),\n",
       " ('people', 30),\n",
       " ('http', 30),\n",
       " ('shit', 28),\n",
       " ('time', 27),\n",
       " ('kirk', 26),\n",
       " ('also', 26)]"
      ]
     },
     "execution_count": 98,
     "metadata": {},
     "output_type": "execute_result"
    }
   ],
   "source": [
    "top_counter.most_common(20)"
   ]
  },
  {
   "cell_type": "code",
   "execution_count": 99,
   "metadata": {
    "collapsed": false
   },
   "outputs": [
    {
     "data": {
      "text/plain": [
       "[Timestamp('2008-02-01 00:00:00'),\n",
       " Timestamp('2009-05-01 00:00:00'),\n",
       " Timestamp('2010-01-01 00:00:00'),\n",
       " Timestamp('2012-07-01 00:00:00'),\n",
       " Timestamp('2013-06-01 00:00:00')]"
      ]
     },
     "execution_count": 99,
     "metadata": {},
     "output_type": "execute_result"
    }
   ],
   "source": [
    "peaks"
   ]
  },
  {
   "cell_type": "markdown",
   "metadata": {},
   "source": [
    "#### 2013-06-01"
   ]
  },
  {
   "cell_type": "code",
   "execution_count": 100,
   "metadata": {
    "collapsed": true
   },
   "outputs": [],
   "source": [
    "date = '2013-06-01'"
   ]
  },
  {
   "cell_type": "code",
   "execution_count": 101,
   "metadata": {
    "collapsed": true
   },
   "outputs": [],
   "source": [
    "subreddit_date_df = subreddit_df[subreddit_df['month'] == date]"
   ]
  },
  {
   "cell_type": "code",
   "execution_count": 102,
   "metadata": {
    "collapsed": false
   },
   "outputs": [
    {
     "data": {
      "text/plain": [
       "3719"
      ]
     },
     "execution_count": 102,
     "metadata": {},
     "output_type": "execute_result"
    }
   ],
   "source": [
    "len(subreddit_date_df)"
   ]
  },
  {
   "cell_type": "markdown",
   "metadata": {},
   "source": [
    "#### Histogram"
   ]
  },
  {
   "cell_type": "markdown",
   "metadata": {},
   "source": [
    "###### Keywords"
   ]
  },
  {
   "cell_type": "code",
   "execution_count": 103,
   "metadata": {
    "collapsed": true
   },
   "outputs": [],
   "source": [
    "keywords_dict = {}\n",
    "for keyword in keywords:\n",
    "    keyword_df = subreddit_date_df[subreddit_date_df['body'].str.contains(keyword)]\n",
    "    count = keyword_df['body'].str.count(keyword).sum()\n",
    "    keywords_dict[keyword] = count"
   ]
  },
  {
   "cell_type": "code",
   "execution_count": 104,
   "metadata": {
    "collapsed": false
   },
   "outputs": [],
   "source": [
    "keywords_counter = Counter(keywords_dict)"
   ]
  },
  {
   "cell_type": "code",
   "execution_count": 105,
   "metadata": {
    "collapsed": false
   },
   "outputs": [
    {
     "data": {
      "text/plain": [
       "[('star trek', 2191),\n",
       " ('kirk', 544),\n",
       " ('spock', 423),\n",
       " ('picard', 243),\n",
       " ('scotty', 189),\n",
       " ('orion', 185),\n",
       " ('vulcan', 168),\n",
       " ('klingon', 159),\n",
       " ('pike', 133),\n",
       " ('crusher', 127),\n",
       " ('nero', 124),\n",
       " ('prime directive', 88),\n",
       " ('mccoy', 70),\n",
       " ('romulan', 65),\n",
       " ('khaaa+n', 48),\n",
       " ('sulu', 36),\n",
       " ('resistance is futile', 33),\n",
       " ('starship enterprise', 28),\n",
       " ('star fleet', 22),\n",
       " ('uhura', 20),\n",
       " ('live long and prosper', 17),\n",
       " (\"i'm a doctor,? not a\", 11),\n",
       " ('kobayashi maru', 10),\n",
       " ('llap', 10),\n",
       " ('chekhov', 8),\n",
       " ('vulcan salute', 8),\n",
       " ('beam me up,? scotty', 7),\n",
       " ('the needs of the many outweigh the needs of the few', 6),\n",
       " ('nuclear wessels', 6),\n",
       " ('highly illogical', 5),\n",
       " ('to boldly go where no man has gone before', 4),\n",
       " ('stardate', 4),\n",
       " ('sarek', 3),\n",
       " (\"i'm giving her all she's got,? captain\", 3),\n",
       " ('delta vega', 2),\n",
       " ('transporter beam', 2),\n",
       " ('i have been and always shall be your friend', 1),\n",
       " ('set phasers to stun', 1),\n",
       " ('space,? the final frontier', 1),\n",
       " ('when you eliminate the impossible,? whatever remains,? however improbable,? must be the truth',\n",
       "  0),\n",
       " ('nurse chapel', 0),\n",
       " ('without followers,? evil cannot spread', 0),\n",
       " ('romulan narada', 0)]"
      ]
     },
     "execution_count": 105,
     "metadata": {},
     "output_type": "execute_result"
    }
   ],
   "source": [
    "keywords_counter.most_common()"
   ]
  },
  {
   "cell_type": "code",
   "execution_count": 106,
   "metadata": {
    "collapsed": true
   },
   "outputs": [],
   "source": [
    "keywords_sr = pd.Series(keywords_dict)"
   ]
  },
  {
   "cell_type": "code",
   "execution_count": 107,
   "metadata": {
    "collapsed": false
   },
   "outputs": [
    {
     "data": {
      "text/plain": [
       "<matplotlib.axes._subplots.AxesSubplot at 0x7fb2f735eac8>"
      ]
     },
     "execution_count": 107,
     "metadata": {},
     "output_type": "execute_result"
    },
    {
     "data": {
      "image/png": "[encoded data removed]",
      "text/plain": [
       "<matplotlib.figure.Figure at 0x7fb2f7362cf8>"
      ]
     },
     "metadata": {},
     "output_type": "display_data"
    }
   ],
   "source": [
    "keywords_sr.plot(\n",
    "    kind='bar',\n",
    "    figsize=(10, 5),\n",
    "    title='Keyword histogram on ' + date,\n",
    ")"
   ]
  },
  {
   "cell_type": "markdown",
   "metadata": {},
   "source": [
    "###### Other words"
   ]
  },
  {
   "cell_type": "code",
   "execution_count": 108,
   "metadata": {
    "collapsed": false
   },
   "outputs": [
    {
     "name": "stdout",
     "output_type": "stream",
     "text": [
      "CPU times: user 28.6 s, sys: 1.8 s, total: 30.4 s\n",
      "Wall time: 30.4 s\n"
     ]
    }
   ],
   "source": [
    "%%time\n",
    "\n",
    "text_ = ''\n",
    "for x in subreddit_date_df['body']:\n",
    "    text_ += x + ' '\n",
    "\n",
    "list_ = [\n",
    "    w\n",
    "    for w in nltk.word_tokenize(text_)\n",
    "    if w not in stopwords.words('english') and w not in string.punctuation\n",
    "]\n",
    "\n",
    "counter_ = Counter(list_)"
   ]
  },
  {
   "cell_type": "code",
   "execution_count": 109,
   "metadata": {
    "collapsed": false
   },
   "outputs": [
    {
     "data": {
      "text/plain": [
       "[('star', 2326),\n",
       " ('trek', 2181),\n",
       " (\"'s\", 1642),\n",
       " (\"n't\", 1383),\n",
       " ('``', 967),\n",
       " (\"''\", 951),\n",
       " ('like', 864),\n",
       " ('...', 820),\n",
       " ('would', 751),\n",
       " ('one', 675),\n",
       " ('kirk', 513),\n",
       " ('time', 504),\n",
       " ('people', 499),\n",
       " ('spock', 397),\n",
       " (\"'m\", 389),\n",
       " ('get', 387),\n",
       " ('movie', 379),\n",
       " ('really', 370),\n",
       " ('also', 367),\n",
       " ('think', 347)]"
      ]
     },
     "execution_count": 109,
     "metadata": {},
     "output_type": "execute_result"
    }
   ],
   "source": [
    "counter_.most_common(20)"
   ]
  },
  {
   "cell_type": "markdown",
   "metadata": {},
   "source": [
    "#### Sentiment analysis"
   ]
  },
  {
   "cell_type": "markdown",
   "metadata": {},
   "source": [
    "- The polarity score is a float within the range [-1.0, 1.0].\n",
    "- The subjectivity is a float within the range [0.0, 1.0] where 0.0 is very objective and 1.0 is very subjective."
   ]
  },
  {
   "cell_type": "code",
   "execution_count": 110,
   "metadata": {
    "collapsed": false
   },
   "outputs": [
    {
     "name": "stdout",
     "output_type": "stream",
     "text": [
      "CPU times: user 1.77 s, sys: 0 ns, total: 1.77 s\n",
      "Wall time: 1.77 s\n"
     ]
    }
   ],
   "source": [
    "%%time\n",
    "\n",
    "sentiment_list = []\n",
    "for x in subreddit_date_df['body']:\n",
    "    tb = TextBlob(x)\n",
    "    sentiment_list.append((x, tb.sentiment.polarity, tb.sentiment.subjectivity))"
   ]
  },
  {
   "cell_type": "code",
   "execution_count": 111,
   "metadata": {
    "collapsed": false
   },
   "outputs": [],
   "source": [
    "sentiment_df = pd.DataFrame(sentiment_list, columns=['body', 'sentiment', 'subjectivity'])"
   ]
  },
  {
   "cell_type": "code",
   "execution_count": 112,
   "metadata": {
    "collapsed": false
   },
   "outputs": [
    {
     "data": {
      "text/html": [
       "<div>\n",
       "<table border=\"1\" class=\"dataframe\">\n",
       "  <thead>\n",
       "    <tr style=\"text-align: right;\">\n",
       "      <th></th>\n",
       "      <th>body</th>\n",
       "      <th>sentiment</th>\n",
       "      <th>subjectivity</th>\n",
       "    </tr>\n",
       "  </thead>\n",
       "  <tbody>\n",
       "    <tr>\n",
       "      <th>0</th>\n",
       "      <td>mike verta...winnie coppers husband in real li...</td>\n",
       "      <td>0.20</td>\n",
       "      <td>0.30</td>\n",
       "    </tr>\n",
       "    <tr>\n",
       "      <th>1</th>\n",
       "      <td>that one woman calling another a \"fucking cunt...</td>\n",
       "      <td>-0.38</td>\n",
       "      <td>0.50</td>\n",
       "    </tr>\n",
       "    <tr>\n",
       "      <th>2</th>\n",
       "      <td>* \"come for the low prices, stay for the peopl...</td>\n",
       "      <td>0.05</td>\n",
       "      <td>0.62</td>\n",
       "    </tr>\n",
       "    <tr>\n",
       "      <th>3</th>\n",
       "      <td>any star trek movie. oh my i just saw the new ...</td>\n",
       "      <td>0.07</td>\n",
       "      <td>0.40</td>\n",
       "    </tr>\n",
       "    <tr>\n",
       "      <th>4</th>\n",
       "      <td>star trek into darkness. that was an emotional...</td>\n",
       "      <td>0.00</td>\n",
       "      <td>0.65</td>\n",
       "    </tr>\n",
       "  </tbody>\n",
       "</table>\n",
       "</div>"
      ],
      "text/plain": [
       "                                                body  sentiment  subjectivity\n",
       "0  mike verta...winnie coppers husband in real li...       0.20          0.30\n",
       "1  that one woman calling another a \"fucking cunt...      -0.38          0.50\n",
       "2  * \"come for the low prices, stay for the peopl...       0.05          0.62\n",
       "3  any star trek movie. oh my i just saw the new ...       0.07          0.40\n",
       "4  star trek into darkness. that was an emotional...       0.00          0.65"
      ]
     },
     "execution_count": 112,
     "metadata": {},
     "output_type": "execute_result"
    }
   ],
   "source": [
    "sentiment_df.head()"
   ]
  },
  {
   "cell_type": "code",
   "execution_count": 113,
   "metadata": {
    "collapsed": false
   },
   "outputs": [
    {
     "data": {
      "text/plain": [
       "0.071882055447587231"
      ]
     },
     "execution_count": 113,
     "metadata": {},
     "output_type": "execute_result"
    }
   ],
   "source": [
    "sentiment_df['sentiment'].mean()"
   ]
  },
  {
   "cell_type": "code",
   "execution_count": 114,
   "metadata": {
    "collapsed": false
   },
   "outputs": [
    {
     "data": {
      "text/plain": [
       "0.37258776624856049"
      ]
     },
     "execution_count": 114,
     "metadata": {},
     "output_type": "execute_result"
    }
   ],
   "source": [
    "sentiment_df['subjectivity'].mean()"
   ]
  },
  {
   "cell_type": "markdown",
   "metadata": {},
   "source": [
    "##### Histogram top positive"
   ]
  },
  {
   "cell_type": "code",
   "execution_count": 115,
   "metadata": {
    "collapsed": false
   },
   "outputs": [],
   "source": [
    "top_df = sentiment_df.sort_values('sentiment', ascending=False)[:len(subreddit_date_df) * P // 100]"
   ]
  },
  {
   "cell_type": "code",
   "execution_count": 116,
   "metadata": {
    "collapsed": false
   },
   "outputs": [
    {
     "data": {
      "text/html": [
       "<div>\n",
       "<table border=\"1\" class=\"dataframe\">\n",
       "  <thead>\n",
       "    <tr style=\"text-align: right;\">\n",
       "      <th></th>\n",
       "      <th>body</th>\n",
       "      <th>sentiment</th>\n",
       "      <th>subjectivity</th>\n",
       "    </tr>\n",
       "  </thead>\n",
       "  <tbody>\n",
       "    <tr>\n",
       "      <th>969</th>\n",
       "      <td>best part is when you whip out a klingon war b...</td>\n",
       "      <td>1.00</td>\n",
       "      <td>0.30</td>\n",
       "    </tr>\n",
       "    <tr>\n",
       "      <th>3181</th>\n",
       "      <td>orion by metallica. -  - cliff at his very best.</td>\n",
       "      <td>1.00</td>\n",
       "      <td>0.39</td>\n",
       "    </tr>\n",
       "    <tr>\n",
       "      <th>2744</th>\n",
       "      <td>spock would be my best friend. archenemy would...</td>\n",
       "      <td>1.00</td>\n",
       "      <td>0.30</td>\n",
       "    </tr>\n",
       "    <tr>\n",
       "      <th>1246</th>\n",
       "      <td>aaaaaaaaannnd... this is why we're best friend...</td>\n",
       "      <td>1.00</td>\n",
       "      <td>0.30</td>\n",
       "    </tr>\n",
       "    <tr>\n",
       "      <th>750</th>\n",
       "      <td>transporter room 3.  if your a trekkie, it's t...</td>\n",
       "      <td>1.00</td>\n",
       "      <td>0.30</td>\n",
       "    </tr>\n",
       "    <tr>\n",
       "      <th>38</th>\n",
       "      <td>who's the hottest in this awesome star trek fr...</td>\n",
       "      <td>1.00</td>\n",
       "      <td>1.00</td>\n",
       "    </tr>\n",
       "    <tr>\n",
       "      <th>2838</th>\n",
       "      <td>goldsmith's star trek: the motion picture scor...</td>\n",
       "      <td>1.00</td>\n",
       "      <td>1.00</td>\n",
       "    </tr>\n",
       "    <tr>\n",
       "      <th>827</th>\n",
       "      <td>star trek. i have to say it's one of the best ...</td>\n",
       "      <td>1.00</td>\n",
       "      <td>0.30</td>\n",
       "    </tr>\n",
       "    <tr>\n",
       "      <th>243</th>\n",
       "      <td>the food replicator from star trek would be so...</td>\n",
       "      <td>1.00</td>\n",
       "      <td>1.00</td>\n",
       "    </tr>\n",
       "    <tr>\n",
       "      <th>569</th>\n",
       "      <td>star trek into darkness. great movie, but they...</td>\n",
       "      <td>1.00</td>\n",
       "      <td>0.75</td>\n",
       "    </tr>\n",
       "    <tr>\n",
       "      <th>1715</th>\n",
       "      <td>han skywalker was the best captain from star trek</td>\n",
       "      <td>1.00</td>\n",
       "      <td>0.30</td>\n",
       "    </tr>\n",
       "    <tr>\n",
       "      <th>866</th>\n",
       "      <td>no way!!!! i fuckin love spock's beard!!!!  i ...</td>\n",
       "      <td>1.00</td>\n",
       "      <td>0.60</td>\n",
       "    </tr>\n",
       "    <tr>\n",
       "      <th>3177</th>\n",
       "      <td>earl gray is awesome because star trek.</td>\n",
       "      <td>1.00</td>\n",
       "      <td>1.00</td>\n",
       "    </tr>\n",
       "    <tr>\n",
       "      <th>2093</th>\n",
       "      <td>this cemented ds9 as the best star trek for me.</td>\n",
       "      <td>1.00</td>\n",
       "      <td>0.30</td>\n",
       "    </tr>\n",
       "    <tr>\n",
       "      <th>2072</th>\n",
       "      <td>\"the best of both worlds\" - star trek: tng</td>\n",
       "      <td>1.00</td>\n",
       "      <td>0.30</td>\n",
       "    </tr>\n",
       "    <tr>\n",
       "      <th>900</th>\n",
       "      <td>the best part was finding the vice in the gara...</td>\n",
       "      <td>1.00</td>\n",
       "      <td>0.30</td>\n",
       "    </tr>\n",
       "    <tr>\n",
       "      <th>2035</th>\n",
       "      <td>well, we all know spock has been and always sh...</td>\n",
       "      <td>1.00</td>\n",
       "      <td>0.30</td>\n",
       "    </tr>\n",
       "    <tr>\n",
       "      <th>66</th>\n",
       "      <td>captain kirk was the best star wars character.</td>\n",
       "      <td>1.00</td>\n",
       "      <td>0.30</td>\n",
       "    </tr>\n",
       "    <tr>\n",
       "      <th>1319</th>\n",
       "      <td>greatest hockey team ever, and the registry nu...</td>\n",
       "      <td>1.00</td>\n",
       "      <td>1.00</td>\n",
       "    </tr>\n",
       "    <tr>\n",
       "      <th>3117</th>\n",
       "      <td>star trek tng wrapped it up as perfectly as a ...</td>\n",
       "      <td>1.00</td>\n",
       "      <td>1.00</td>\n",
       "    </tr>\n",
       "    <tr>\n",
       "      <th>2346</th>\n",
       "      <td>i always thought it was an awesome take on the...</td>\n",
       "      <td>1.00</td>\n",
       "      <td>1.00</td>\n",
       "    </tr>\n",
       "    <tr>\n",
       "      <th>1700</th>\n",
       "      <td>star trek voyager was the best one yet!</td>\n",
       "      <td>1.00</td>\n",
       "      <td>0.30</td>\n",
       "    </tr>\n",
       "    <tr>\n",
       "      <th>2389</th>\n",
       "      <td>one of the best star trek movies.</td>\n",
       "      <td>1.00</td>\n",
       "      <td>0.30</td>\n",
       "    </tr>\n",
       "    <tr>\n",
       "      <th>2548</th>\n",
       "      <td>pike place is where i learned the delicious di...</td>\n",
       "      <td>1.00</td>\n",
       "      <td>1.00</td>\n",
       "    </tr>\n",
       "    <tr>\n",
       "      <th>1570</th>\n",
       "      <td>'the measure of a man' is probably one of star...</td>\n",
       "      <td>1.00</td>\n",
       "      <td>0.65</td>\n",
       "    </tr>\n",
       "    <tr>\n",
       "      <th>2431</th>\n",
       "      <td>but which star trek is best!?</td>\n",
       "      <td>1.00</td>\n",
       "      <td>0.30</td>\n",
       "    </tr>\n",
       "    <tr>\n",
       "      <th>3679</th>\n",
       "      <td>galaxy quest. one of the best underrated star ...</td>\n",
       "      <td>1.00</td>\n",
       "      <td>0.30</td>\n",
       "    </tr>\n",
       "    <tr>\n",
       "      <th>2374</th>\n",
       "      <td>i still stand by the declaration that it's the...</td>\n",
       "      <td>1.00</td>\n",
       "      <td>0.30</td>\n",
       "    </tr>\n",
       "    <tr>\n",
       "      <th>2380</th>\n",
       "      <td>i still think galaxy quest was one of the best...</td>\n",
       "      <td>1.00</td>\n",
       "      <td>0.30</td>\n",
       "    </tr>\n",
       "    <tr>\n",
       "      <th>369</th>\n",
       "      <td>star trek. i thought it was just nerdy sci-fi....</td>\n",
       "      <td>1.00</td>\n",
       "      <td>1.00</td>\n",
       "    </tr>\n",
       "    <tr>\n",
       "      <th>...</th>\n",
       "      <td>...</td>\n",
       "      <td>...</td>\n",
       "      <td>...</td>\n",
       "    </tr>\n",
       "    <tr>\n",
       "      <th>3322</th>\n",
       "      <td>it's a continuation of the original star trek ...</td>\n",
       "      <td>0.38</td>\n",
       "      <td>0.75</td>\n",
       "    </tr>\n",
       "    <tr>\n",
       "      <th>741</th>\n",
       "      <td>season one of the original star trek series.</td>\n",
       "      <td>0.38</td>\n",
       "      <td>0.75</td>\n",
       "    </tr>\n",
       "    <tr>\n",
       "      <th>1133</th>\n",
       "      <td>star trek (original timeline).</td>\n",
       "      <td>0.38</td>\n",
       "      <td>0.75</td>\n",
       "    </tr>\n",
       "    <tr>\n",
       "      <th>3352</th>\n",
       "      <td>i just got a renewal slip reminding me my plat...</td>\n",
       "      <td>0.38</td>\n",
       "      <td>0.75</td>\n",
       "    </tr>\n",
       "    <tr>\n",
       "      <th>2773</th>\n",
       "      <td>watching the original star trek.</td>\n",
       "      <td>0.38</td>\n",
       "      <td>0.75</td>\n",
       "    </tr>\n",
       "    <tr>\n",
       "      <th>3269</th>\n",
       "      <td>it was originally called nero burning rom.</td>\n",
       "      <td>0.38</td>\n",
       "      <td>0.75</td>\n",
       "    </tr>\n",
       "    <tr>\n",
       "      <th>2831</th>\n",
       "      <td>i've seen the original series and am a fan of ...</td>\n",
       "      <td>0.38</td>\n",
       "      <td>0.75</td>\n",
       "    </tr>\n",
       "    <tr>\n",
       "      <th>978</th>\n",
       "      <td>too many compromises. you want to watch the ka...</td>\n",
       "      <td>0.38</td>\n",
       "      <td>0.53</td>\n",
       "    </tr>\n",
       "    <tr>\n",
       "      <th>3429</th>\n",
       "      <td>original star trek. excellant.</td>\n",
       "      <td>0.38</td>\n",
       "      <td>0.75</td>\n",
       "    </tr>\n",
       "    <tr>\n",
       "      <th>791</th>\n",
       "      <td>as well as \"beam me up scotty\" was never said ...</td>\n",
       "      <td>0.38</td>\n",
       "      <td>0.75</td>\n",
       "    </tr>\n",
       "    <tr>\n",
       "      <th>3163</th>\n",
       "      <td>something something original klingon.</td>\n",
       "      <td>0.38</td>\n",
       "      <td>0.75</td>\n",
       "    </tr>\n",
       "    <tr>\n",
       "      <th>3561</th>\n",
       "      <td>the original star trek</td>\n",
       "      <td>0.38</td>\n",
       "      <td>0.75</td>\n",
       "    </tr>\n",
       "    <tr>\n",
       "      <th>807</th>\n",
       "      <td>the star trek original series.</td>\n",
       "      <td>0.38</td>\n",
       "      <td>0.75</td>\n",
       "    </tr>\n",
       "    <tr>\n",
       "      <th>2492</th>\n",
       "      <td>it's the identification of the space ship ente...</td>\n",
       "      <td>0.38</td>\n",
       "      <td>0.75</td>\n",
       "    </tr>\n",
       "    <tr>\n",
       "      <th>186</th>\n",
       "      <td>don't forget about the original klingon versio...</td>\n",
       "      <td>0.38</td>\n",
       "      <td>0.75</td>\n",
       "    </tr>\n",
       "    <tr>\n",
       "      <th>3601</th>\n",
       "      <td>seinfeld or the original star trek.</td>\n",
       "      <td>0.38</td>\n",
       "      <td>0.75</td>\n",
       "    </tr>\n",
       "    <tr>\n",
       "      <th>2468</th>\n",
       "      <td>in django unchained, the man in the bar that i...</td>\n",
       "      <td>0.38</td>\n",
       "      <td>0.75</td>\n",
       "    </tr>\n",
       "    <tr>\n",
       "      <th>2690</th>\n",
       "      <td>there is a chain of grocery stores in the nort...</td>\n",
       "      <td>0.37</td>\n",
       "      <td>0.47</td>\n",
       "    </tr>\n",
       "    <tr>\n",
       "      <th>3522</th>\n",
       "      <td>garak from star trek deep space nine. -  - for...</td>\n",
       "      <td>0.37</td>\n",
       "      <td>0.55</td>\n",
       "    </tr>\n",
       "    <tr>\n",
       "      <th>3376</th>\n",
       "      <td>captain picard is never wrong! you simply cann...</td>\n",
       "      <td>0.37</td>\n",
       "      <td>0.67</td>\n",
       "    </tr>\n",
       "    <tr>\n",
       "      <th>2661</th>\n",
       "      <td>a new star trek would be nice.</td>\n",
       "      <td>0.37</td>\n",
       "      <td>0.73</td>\n",
       "    </tr>\n",
       "    <tr>\n",
       "      <th>1653</th>\n",
       "      <td>\"for hates sake,  i spit my last breath at the...</td>\n",
       "      <td>0.37</td>\n",
       "      <td>0.59</td>\n",
       "    </tr>\n",
       "    <tr>\n",
       "      <th>2427</th>\n",
       "      <td>i got roped into watching the asylum's version...</td>\n",
       "      <td>0.37</td>\n",
       "      <td>0.56</td>\n",
       "    </tr>\n",
       "    <tr>\n",
       "      <th>3294</th>\n",
       "      <td>&amp;gt; he was speaking in a dialect that i can o...</td>\n",
       "      <td>0.37</td>\n",
       "      <td>0.73</td>\n",
       "    </tr>\n",
       "    <tr>\n",
       "      <th>2880</th>\n",
       "      <td>free, 4gb/s wi-fi. - magic. - immortality. - u...</td>\n",
       "      <td>0.37</td>\n",
       "      <td>0.73</td>\n",
       "    </tr>\n",
       "    <tr>\n",
       "      <th>1830</th>\n",
       "      <td>haha wow, was thinking of pilate lol, but yes ...</td>\n",
       "      <td>0.37</td>\n",
       "      <td>0.67</td>\n",
       "    </tr>\n",
       "    <tr>\n",
       "      <th>3440</th>\n",
       "      <td>he's not really a worthless character, as much...</td>\n",
       "      <td>0.37</td>\n",
       "      <td>0.53</td>\n",
       "    </tr>\n",
       "    <tr>\n",
       "      <th>37</th>\n",
       "      <td>i always wanted to be a homicide detective.  s...</td>\n",
       "      <td>0.37</td>\n",
       "      <td>0.60</td>\n",
       "    </tr>\n",
       "    <tr>\n",
       "      <th>3702</th>\n",
       "      <td>star trek 4 is the only one worth watching, th...</td>\n",
       "      <td>0.36</td>\n",
       "      <td>0.52</td>\n",
       "    </tr>\n",
       "    <tr>\n",
       "      <th>3120</th>\n",
       "      <td>first contact is a campy action movie with a c...</td>\n",
       "      <td>0.36</td>\n",
       "      <td>0.49</td>\n",
       "    </tr>\n",
       "  </tbody>\n",
       "</table>\n",
       "<p>371 rows × 3 columns</p>\n",
       "</div>"
      ],
      "text/plain": [
       "                                                   body  sentiment  \\\n",
       "969   best part is when you whip out a klingon war b...       1.00   \n",
       "3181   orion by metallica. -  - cliff at his very best.       1.00   \n",
       "2744  spock would be my best friend. archenemy would...       1.00   \n",
       "1246  aaaaaaaaannnd... this is why we're best friend...       1.00   \n",
       "750   transporter room 3.  if your a trekkie, it's t...       1.00   \n",
       "38    who's the hottest in this awesome star trek fr...       1.00   \n",
       "2838  goldsmith's star trek: the motion picture scor...       1.00   \n",
       "827   star trek. i have to say it's one of the best ...       1.00   \n",
       "243   the food replicator from star trek would be so...       1.00   \n",
       "569   star trek into darkness. great movie, but they...       1.00   \n",
       "1715  han skywalker was the best captain from star trek       1.00   \n",
       "866   no way!!!! i fuckin love spock's beard!!!!  i ...       1.00   \n",
       "3177            earl gray is awesome because star trek.       1.00   \n",
       "2093    this cemented ds9 as the best star trek for me.       1.00   \n",
       "2072         \"the best of both worlds\" - star trek: tng       1.00   \n",
       "900   the best part was finding the vice in the gara...       1.00   \n",
       "2035  well, we all know spock has been and always sh...       1.00   \n",
       "66       captain kirk was the best star wars character.       1.00   \n",
       "1319  greatest hockey team ever, and the registry nu...       1.00   \n",
       "3117  star trek tng wrapped it up as perfectly as a ...       1.00   \n",
       "2346  i always thought it was an awesome take on the...       1.00   \n",
       "1700            star trek voyager was the best one yet!       1.00   \n",
       "2389                  one of the best star trek movies.       1.00   \n",
       "2548  pike place is where i learned the delicious di...       1.00   \n",
       "1570  'the measure of a man' is probably one of star...       1.00   \n",
       "2431                      but which star trek is best!?       1.00   \n",
       "3679  galaxy quest. one of the best underrated star ...       1.00   \n",
       "2374  i still stand by the declaration that it's the...       1.00   \n",
       "2380  i still think galaxy quest was one of the best...       1.00   \n",
       "369   star trek. i thought it was just nerdy sci-fi....       1.00   \n",
       "...                                                 ...        ...   \n",
       "3322  it's a continuation of the original star trek ...       0.38   \n",
       "741        season one of the original star trek series.       0.38   \n",
       "1133                     star trek (original timeline).       0.38   \n",
       "3352  i just got a renewal slip reminding me my plat...       0.38   \n",
       "2773                   watching the original star trek.       0.38   \n",
       "3269         it was originally called nero burning rom.       0.38   \n",
       "2831  i've seen the original series and am a fan of ...       0.38   \n",
       "978   too many compromises. you want to watch the ka...       0.38   \n",
       "3429                     original star trek. excellant.       0.38   \n",
       "791   as well as \"beam me up scotty\" was never said ...       0.38   \n",
       "3163              something something original klingon.       0.38   \n",
       "3561                             the original star trek       0.38   \n",
       "807                      the star trek original series.       0.38   \n",
       "2492  it's the identification of the space ship ente...       0.38   \n",
       "186   don't forget about the original klingon versio...       0.38   \n",
       "3601                seinfeld or the original star trek.       0.38   \n",
       "2468  in django unchained, the man in the bar that i...       0.38   \n",
       "2690  there is a chain of grocery stores in the nort...       0.37   \n",
       "3522  garak from star trek deep space nine. -  - for...       0.37   \n",
       "3376  captain picard is never wrong! you simply cann...       0.37   \n",
       "2661                     a new star trek would be nice.       0.37   \n",
       "1653  \"for hates sake,  i spit my last breath at the...       0.37   \n",
       "2427  i got roped into watching the asylum's version...       0.37   \n",
       "3294  &gt; he was speaking in a dialect that i can o...       0.37   \n",
       "2880  free, 4gb/s wi-fi. - magic. - immortality. - u...       0.37   \n",
       "1830  haha wow, was thinking of pilate lol, but yes ...       0.37   \n",
       "3440  he's not really a worthless character, as much...       0.37   \n",
       "37    i always wanted to be a homicide detective.  s...       0.37   \n",
       "3702  star trek 4 is the only one worth watching, th...       0.36   \n",
       "3120  first contact is a campy action movie with a c...       0.36   \n",
       "\n",
       "      subjectivity  \n",
       "969           0.30  \n",
       "3181          0.39  \n",
       "2744          0.30  \n",
       "1246          0.30  \n",
       "750           0.30  \n",
       "38            1.00  \n",
       "2838          1.00  \n",
       "827           0.30  \n",
       "243           1.00  \n",
       "569           0.75  \n",
       "1715          0.30  \n",
       "866           0.60  \n",
       "3177          1.00  \n",
       "2093          0.30  \n",
       "2072          0.30  \n",
       "900           0.30  \n",
       "2035          0.30  \n",
       "66            0.30  \n",
       "1319          1.00  \n",
       "3117          1.00  \n",
       "2346          1.00  \n",
       "1700          0.30  \n",
       "2389          0.30  \n",
       "2548          1.00  \n",
       "1570          0.65  \n",
       "2431          0.30  \n",
       "3679          0.30  \n",
       "2374          0.30  \n",
       "2380          0.30  \n",
       "369           1.00  \n",
       "...            ...  \n",
       "3322          0.75  \n",
       "741           0.75  \n",
       "1133          0.75  \n",
       "3352          0.75  \n",
       "2773          0.75  \n",
       "3269          0.75  \n",
       "2831          0.75  \n",
       "978           0.53  \n",
       "3429          0.75  \n",
       "791           0.75  \n",
       "3163          0.75  \n",
       "3561          0.75  \n",
       "807           0.75  \n",
       "2492          0.75  \n",
       "186           0.75  \n",
       "3601          0.75  \n",
       "2468          0.75  \n",
       "2690          0.47  \n",
       "3522          0.55  \n",
       "3376          0.67  \n",
       "2661          0.73  \n",
       "1653          0.59  \n",
       "2427          0.56  \n",
       "3294          0.73  \n",
       "2880          0.73  \n",
       "1830          0.67  \n",
       "3440          0.53  \n",
       "37            0.60  \n",
       "3702          0.52  \n",
       "3120          0.49  \n",
       "\n",
       "[371 rows x 3 columns]"
      ]
     },
     "execution_count": 116,
     "metadata": {},
     "output_type": "execute_result"
    }
   ],
   "source": [
    "top_df"
   ]
  },
  {
   "cell_type": "code",
   "execution_count": 117,
   "metadata": {
    "collapsed": false
   },
   "outputs": [
    {
     "name": "stdout",
     "output_type": "stream",
     "text": [
      "CPU times: user 1.66 s, sys: 84 ms, total: 1.74 s\n",
      "Wall time: 1.74 s\n"
     ]
    }
   ],
   "source": [
    "%%time\n",
    "\n",
    "top_text = ''\n",
    "for x in top_df['body']:\n",
    "    top_text += x + ' '\n",
    "\n",
    "top_list = [\n",
    "    w\n",
    "    for w in nltk.word_tokenize(top_text)\n",
    "    if w not in stopwords.words('english') and w not in string.punctuation\n",
    "]"
   ]
  },
  {
   "cell_type": "code",
   "execution_count": 118,
   "metadata": {
    "collapsed": true
   },
   "outputs": [],
   "source": [
    "top_counter = Counter(top_list)"
   ]
  },
  {
   "cell_type": "code",
   "execution_count": 119,
   "metadata": {
    "collapsed": false
   },
   "outputs": [
    {
     "data": {
      "text/plain": [
       "[('star', 261),\n",
       " ('trek', 243),\n",
       " (\"'s\", 114),\n",
       " (\"''\", 85),\n",
       " ('``', 79),\n",
       " ('best', 61),\n",
       " (\"n't\", 56),\n",
       " ('one', 47),\n",
       " ('like', 46),\n",
       " ('great', 41),\n",
       " ('would', 40),\n",
       " ('kirk', 38),\n",
       " ('good', 36),\n",
       " ('original', 36),\n",
       " ('awesome', 31),\n",
       " ('movie', 30),\n",
       " ('series', 30),\n",
       " ('better', 28),\n",
       " (\"'m\", 27),\n",
       " ('love', 26)]"
      ]
     },
     "execution_count": 119,
     "metadata": {},
     "output_type": "execute_result"
    }
   ],
   "source": [
    "top_counter.most_common(20)"
   ]
  },
  {
   "cell_type": "markdown",
   "metadata": {},
   "source": [
    "##### Histogram top negative"
   ]
  },
  {
   "cell_type": "code",
   "execution_count": 120,
   "metadata": {
    "collapsed": false
   },
   "outputs": [],
   "source": [
    "top_df = sentiment_df.sort_values('sentiment', ascending=True)[:len(subreddit_date_df) * P // 100]"
   ]
  },
  {
   "cell_type": "code",
   "execution_count": 121,
   "metadata": {
    "collapsed": false
   },
   "outputs": [
    {
     "data": {
      "text/html": [
       "<div>\n",
       "<table border=\"1\" class=\"dataframe\">\n",
       "  <thead>\n",
       "    <tr style=\"text-align: right;\">\n",
       "      <th></th>\n",
       "      <th>body</th>\n",
       "      <th>sentiment</th>\n",
       "      <th>subjectivity</th>\n",
       "    </tr>\n",
       "  </thead>\n",
       "  <tbody>\n",
       "    <tr>\n",
       "      <th>829</th>\n",
       "      <td>kahn was evil -  - the matters weren't civil -...</td>\n",
       "      <td>-1.00</td>\n",
       "      <td>1.00</td>\n",
       "    </tr>\n",
       "    <tr>\n",
       "      <th>2725</th>\n",
       "      <td>when i decided to take the mass pike home from...</td>\n",
       "      <td>-1.00</td>\n",
       "      <td>1.00</td>\n",
       "    </tr>\n",
       "    <tr>\n",
       "      <th>2576</th>\n",
       "      <td>so you'd have a 99.9% chance of being a muggle...</td>\n",
       "      <td>-1.00</td>\n",
       "      <td>1.00</td>\n",
       "    </tr>\n",
       "    <tr>\n",
       "      <th>3448</th>\n",
       "      <td>kes, star trek: voyager.  worst mary sue.....e...</td>\n",
       "      <td>-1.00</td>\n",
       "      <td>1.00</td>\n",
       "    </tr>\n",
       "    <tr>\n",
       "      <th>2803</th>\n",
       "      <td>star trek enterprise...that song is the worst.</td>\n",
       "      <td>-1.00</td>\n",
       "      <td>1.00</td>\n",
       "    </tr>\n",
       "    <tr>\n",
       "      <th>2536</th>\n",
       "      <td>star trek: voyager or enterprise. both were aw...</td>\n",
       "      <td>-1.00</td>\n",
       "      <td>1.00</td>\n",
       "    </tr>\n",
       "    <tr>\n",
       "      <th>362</th>\n",
       "      <td>dr. evil would probably try project vulcan again</td>\n",
       "      <td>-1.00</td>\n",
       "      <td>1.00</td>\n",
       "    </tr>\n",
       "    <tr>\n",
       "      <th>2987</th>\n",
       "      <td>wesley crusher.  -  - just... just awful.</td>\n",
       "      <td>-1.00</td>\n",
       "      <td>1.00</td>\n",
       "    </tr>\n",
       "    <tr>\n",
       "      <th>2596</th>\n",
       "      <td>zoe saldana was so fucking terrible in the new...</td>\n",
       "      <td>-1.00</td>\n",
       "      <td>1.00</td>\n",
       "    </tr>\n",
       "    <tr>\n",
       "      <th>3403</th>\n",
       "      <td>damn that's some terrible parenting</td>\n",
       "      <td>-1.00</td>\n",
       "      <td>1.00</td>\n",
       "    </tr>\n",
       "    <tr>\n",
       "      <th>1154</th>\n",
       "      <td>i have a friend of a friend who named their da...</td>\n",
       "      <td>-1.00</td>\n",
       "      <td>1.00</td>\n",
       "    </tr>\n",
       "    <tr>\n",
       "      <th>3323</th>\n",
       "      <td>they did a horrible job with the screenplay ad...</td>\n",
       "      <td>-1.00</td>\n",
       "      <td>1.00</td>\n",
       "    </tr>\n",
       "    <tr>\n",
       "      <th>1500</th>\n",
       "      <td>it is very cold in space! -khan (star trek ii)...</td>\n",
       "      <td>-0.98</td>\n",
       "      <td>1.00</td>\n",
       "    </tr>\n",
       "    <tr>\n",
       "      <th>2620</th>\n",
       "      <td>i absolutely hate star trek and lord of the ri...</td>\n",
       "      <td>-0.90</td>\n",
       "      <td>0.95</td>\n",
       "    </tr>\n",
       "    <tr>\n",
       "      <th>1626</th>\n",
       "      <td>pulaski was the worst star trek doctor. rodden...</td>\n",
       "      <td>-0.90</td>\n",
       "      <td>0.95</td>\n",
       "    </tr>\n",
       "    <tr>\n",
       "      <th>3569</th>\n",
       "      <td>doesn't count, he was designed to be the parod...</td>\n",
       "      <td>-0.90</td>\n",
       "      <td>0.70</td>\n",
       "    </tr>\n",
       "    <tr>\n",
       "      <th>3595</th>\n",
       "      <td>oh yeah, of course. mine is the enterprise. i ...</td>\n",
       "      <td>-0.80</td>\n",
       "      <td>0.90</td>\n",
       "    </tr>\n",
       "    <tr>\n",
       "      <th>3110</th>\n",
       "      <td>because he's vulcan, stupid.</td>\n",
       "      <td>-0.80</td>\n",
       "      <td>1.00</td>\n",
       "    </tr>\n",
       "    <tr>\n",
       "      <th>1328</th>\n",
       "      <td>dammit spock, i'm a fucking doctor not a physi...</td>\n",
       "      <td>-0.75</td>\n",
       "      <td>0.80</td>\n",
       "    </tr>\n",
       "    <tr>\n",
       "      <th>2202</th>\n",
       "      <td>i don't know how to switch off my brain, sorry...</td>\n",
       "      <td>-0.75</td>\n",
       "      <td>1.00</td>\n",
       "    </tr>\n",
       "    <tr>\n",
       "      <th>2955</th>\n",
       "      <td>damn your cold vulcan logic!</td>\n",
       "      <td>-0.75</td>\n",
       "      <td>1.00</td>\n",
       "    </tr>\n",
       "    <tr>\n",
       "      <th>119</th>\n",
       "      <td>if something like the transporter in star trek...</td>\n",
       "      <td>-0.71</td>\n",
       "      <td>0.86</td>\n",
       "    </tr>\n",
       "    <tr>\n",
       "      <th>2047</th>\n",
       "      <td>neither have i! well i saw the really bad lort...</td>\n",
       "      <td>-0.70</td>\n",
       "      <td>0.67</td>\n",
       "    </tr>\n",
       "    <tr>\n",
       "      <th>1636</th>\n",
       "      <td>is it a bad sign, if i say spock?</td>\n",
       "      <td>-0.70</td>\n",
       "      <td>0.67</td>\n",
       "    </tr>\n",
       "    <tr>\n",
       "      <th>776</th>\n",
       "      <td>i can't whistle, blow a bubble with bubble gum...</td>\n",
       "      <td>-0.70</td>\n",
       "      <td>0.67</td>\n",
       "    </tr>\n",
       "    <tr>\n",
       "      <th>826</th>\n",
       "      <td>star trek wasn't bad</td>\n",
       "      <td>-0.70</td>\n",
       "      <td>0.67</td>\n",
       "    </tr>\n",
       "    <tr>\n",
       "      <th>2046</th>\n",
       "      <td>&amp;gt;nut crusher -  - once i pulled my door off...</td>\n",
       "      <td>-0.70</td>\n",
       "      <td>0.67</td>\n",
       "    </tr>\n",
       "    <tr>\n",
       "      <th>2738</th>\n",
       "      <td>blade runner is fairly bad in my opinion, but ...</td>\n",
       "      <td>-0.70</td>\n",
       "      <td>0.67</td>\n",
       "    </tr>\n",
       "    <tr>\n",
       "      <th>2052</th>\n",
       "      <td>i never see this for some reason.  -  - my pet...</td>\n",
       "      <td>-0.70</td>\n",
       "      <td>0.67</td>\n",
       "    </tr>\n",
       "    <tr>\n",
       "      <th>1405</th>\n",
       "      <td>holy crap i watched star trek, and now watchin...</td>\n",
       "      <td>-0.65</td>\n",
       "      <td>0.90</td>\n",
       "    </tr>\n",
       "    <tr>\n",
       "      <th>...</th>\n",
       "      <td>...</td>\n",
       "      <td>...</td>\n",
       "      <td>...</td>\n",
       "    </tr>\n",
       "    <tr>\n",
       "      <th>941</th>\n",
       "      <td>hands down nero, - \" i'm marrying my two bro's...</td>\n",
       "      <td>-0.16</td>\n",
       "      <td>0.29</td>\n",
       "    </tr>\n",
       "    <tr>\n",
       "      <th>1275</th>\n",
       "      <td>by definition it's impossible.  that episode i...</td>\n",
       "      <td>-0.16</td>\n",
       "      <td>0.80</td>\n",
       "    </tr>\n",
       "    <tr>\n",
       "      <th>2323</th>\n",
       "      <td>titanic, inception (watched part of it... what...</td>\n",
       "      <td>-0.15</td>\n",
       "      <td>0.62</td>\n",
       "    </tr>\n",
       "    <tr>\n",
       "      <th>3379</th>\n",
       "      <td>but what about [eli roth and zachary quinto](h...</td>\n",
       "      <td>-0.15</td>\n",
       "      <td>0.43</td>\n",
       "    </tr>\n",
       "    <tr>\n",
       "      <th>2302</th>\n",
       "      <td>taking babies and small kids to a film labeled...</td>\n",
       "      <td>-0.15</td>\n",
       "      <td>0.29</td>\n",
       "    </tr>\n",
       "    <tr>\n",
       "      <th>1352</th>\n",
       "      <td>ate some northern pike that i had cleaned earl...</td>\n",
       "      <td>-0.15</td>\n",
       "      <td>0.56</td>\n",
       "    </tr>\n",
       "    <tr>\n",
       "      <th>2746</th>\n",
       "      <td>if the supernova was unpredicted and they had ...</td>\n",
       "      <td>-0.15</td>\n",
       "      <td>0.38</td>\n",
       "    </tr>\n",
       "    <tr>\n",
       "      <th>3288</th>\n",
       "      <td>didn't cry for funerals or deaths in the famil...</td>\n",
       "      <td>-0.15</td>\n",
       "      <td>0.41</td>\n",
       "    </tr>\n",
       "    <tr>\n",
       "      <th>1126</th>\n",
       "      <td>seriously? you like every single song from loa...</td>\n",
       "      <td>-0.15</td>\n",
       "      <td>0.40</td>\n",
       "    </tr>\n",
       "    <tr>\n",
       "      <th>2515</th>\n",
       "      <td>if you're driving 10 mph above the speed limit...</td>\n",
       "      <td>-0.15</td>\n",
       "      <td>0.25</td>\n",
       "    </tr>\n",
       "    <tr>\n",
       "      <th>3598</th>\n",
       "      <td>i really hate that smug cunt dr. beverly crush...</td>\n",
       "      <td>-0.15</td>\n",
       "      <td>0.70</td>\n",
       "    </tr>\n",
       "    <tr>\n",
       "      <th>214</th>\n",
       "      <td>well.....it was.....but then i grew up and rea...</td>\n",
       "      <td>-0.15</td>\n",
       "      <td>0.95</td>\n",
       "    </tr>\n",
       "    <tr>\n",
       "      <th>2685</th>\n",
       "      <td>but star trek... -  - only went 40 years, but ...</td>\n",
       "      <td>-0.15</td>\n",
       "      <td>0.65</td>\n",
       "    </tr>\n",
       "    <tr>\n",
       "      <th>271</th>\n",
       "      <td>i'm a militant star trek fan who thinks star w...</td>\n",
       "      <td>-0.15</td>\n",
       "      <td>0.75</td>\n",
       "    </tr>\n",
       "    <tr>\n",
       "      <th>207</th>\n",
       "      <td>scotty and mccoy - the absolute wrong guys to ...</td>\n",
       "      <td>-0.15</td>\n",
       "      <td>0.90</td>\n",
       "    </tr>\n",
       "    <tr>\n",
       "      <th>988</th>\n",
       "      <td>i'm 33 and have never seen a bond, star wars, ...</td>\n",
       "      <td>-0.15</td>\n",
       "      <td>0.40</td>\n",
       "    </tr>\n",
       "    <tr>\n",
       "      <th>2703</th>\n",
       "      <td>...that he said i was obsessed with cats. it m...</td>\n",
       "      <td>-0.15</td>\n",
       "      <td>0.60</td>\n",
       "    </tr>\n",
       "    <tr>\n",
       "      <th>3259</th>\n",
       "      <td>just about every character in dark souls, spec...</td>\n",
       "      <td>-0.15</td>\n",
       "      <td>0.40</td>\n",
       "    </tr>\n",
       "    <tr>\n",
       "      <th>3037</th>\n",
       "      <td>1. star trek - 2. avatar - 3. scott pilgrim vs...</td>\n",
       "      <td>-0.15</td>\n",
       "      <td>0.40</td>\n",
       "    </tr>\n",
       "    <tr>\n",
       "      <th>1461</th>\n",
       "      <td>i've *seen* things you people wouldn't believe...</td>\n",
       "      <td>-0.15</td>\n",
       "      <td>0.40</td>\n",
       "    </tr>\n",
       "    <tr>\n",
       "      <th>1713</th>\n",
       "      <td>the dark knight rises -  - also, man of steel ...</td>\n",
       "      <td>-0.15</td>\n",
       "      <td>0.40</td>\n",
       "    </tr>\n",
       "    <tr>\n",
       "      <th>3053</th>\n",
       "      <td>i've been quoting the princess bride constantl...</td>\n",
       "      <td>-0.15</td>\n",
       "      <td>0.47</td>\n",
       "    </tr>\n",
       "    <tr>\n",
       "      <th>2755</th>\n",
       "      <td>i wouldn't call him an \"expert,\" but i can't s...</td>\n",
       "      <td>-0.15</td>\n",
       "      <td>0.26</td>\n",
       "    </tr>\n",
       "    <tr>\n",
       "      <th>2356</th>\n",
       "      <td>parents bringing toddlers to watch non-kids mo...</td>\n",
       "      <td>-0.15</td>\n",
       "      <td>0.40</td>\n",
       "    </tr>\n",
       "    <tr>\n",
       "      <th>1079</th>\n",
       "      <td>i find myself playing civilization, master of ...</td>\n",
       "      <td>-0.15</td>\n",
       "      <td>0.27</td>\n",
       "    </tr>\n",
       "    <tr>\n",
       "      <th>418</th>\n",
       "      <td>i know two taras, a and b. they're both pretty...</td>\n",
       "      <td>-0.15</td>\n",
       "      <td>0.59</td>\n",
       "    </tr>\n",
       "    <tr>\n",
       "      <th>3016</th>\n",
       "      <td>my life is a very complicated drinking game, i...</td>\n",
       "      <td>-0.15</td>\n",
       "      <td>0.63</td>\n",
       "    </tr>\n",
       "    <tr>\n",
       "      <th>2261</th>\n",
       "      <td>my life is a very complicated drinking game, i...</td>\n",
       "      <td>-0.15</td>\n",
       "      <td>0.63</td>\n",
       "    </tr>\n",
       "    <tr>\n",
       "      <th>2483</th>\n",
       "      <td>if you can run stuff off an amount that won't ...</td>\n",
       "      <td>-0.15</td>\n",
       "      <td>0.51</td>\n",
       "    </tr>\n",
       "    <tr>\n",
       "      <th>3690</th>\n",
       "      <td>this guy named kirk. he tells jokes that are a...</td>\n",
       "      <td>-0.15</td>\n",
       "      <td>0.86</td>\n",
       "    </tr>\n",
       "  </tbody>\n",
       "</table>\n",
       "<p>371 rows × 3 columns</p>\n",
       "</div>"
      ],
      "text/plain": [
       "                                                   body  sentiment  \\\n",
       "829   kahn was evil -  - the matters weren't civil -...      -1.00   \n",
       "2725  when i decided to take the mass pike home from...      -1.00   \n",
       "2576  so you'd have a 99.9% chance of being a muggle...      -1.00   \n",
       "3448  kes, star trek: voyager.  worst mary sue.....e...      -1.00   \n",
       "2803     star trek enterprise...that song is the worst.      -1.00   \n",
       "2536  star trek: voyager or enterprise. both were aw...      -1.00   \n",
       "362    dr. evil would probably try project vulcan again      -1.00   \n",
       "2987          wesley crusher.  -  - just... just awful.      -1.00   \n",
       "2596  zoe saldana was so fucking terrible in the new...      -1.00   \n",
       "3403                damn that's some terrible parenting      -1.00   \n",
       "1154  i have a friend of a friend who named their da...      -1.00   \n",
       "3323  they did a horrible job with the screenplay ad...      -1.00   \n",
       "1500  it is very cold in space! -khan (star trek ii)...      -0.98   \n",
       "2620  i absolutely hate star trek and lord of the ri...      -0.90   \n",
       "1626  pulaski was the worst star trek doctor. rodden...      -0.90   \n",
       "3569  doesn't count, he was designed to be the parod...      -0.90   \n",
       "3595  oh yeah, of course. mine is the enterprise. i ...      -0.80   \n",
       "3110                       because he's vulcan, stupid.      -0.80   \n",
       "1328  dammit spock, i'm a fucking doctor not a physi...      -0.75   \n",
       "2202  i don't know how to switch off my brain, sorry...      -0.75   \n",
       "2955                       damn your cold vulcan logic!      -0.75   \n",
       "119   if something like the transporter in star trek...      -0.71   \n",
       "2047  neither have i! well i saw the really bad lort...      -0.70   \n",
       "1636                  is it a bad sign, if i say spock?      -0.70   \n",
       "776   i can't whistle, blow a bubble with bubble gum...      -0.70   \n",
       "826                                star trek wasn't bad      -0.70   \n",
       "2046  &gt;nut crusher -  - once i pulled my door off...      -0.70   \n",
       "2738  blade runner is fairly bad in my opinion, but ...      -0.70   \n",
       "2052  i never see this for some reason.  -  - my pet...      -0.70   \n",
       "1405  holy crap i watched star trek, and now watchin...      -0.65   \n",
       "...                                                 ...        ...   \n",
       "941   hands down nero, - \" i'm marrying my two bro's...      -0.16   \n",
       "1275  by definition it's impossible.  that episode i...      -0.16   \n",
       "2323  titanic, inception (watched part of it... what...      -0.15   \n",
       "3379  but what about [eli roth and zachary quinto](h...      -0.15   \n",
       "2302  taking babies and small kids to a film labeled...      -0.15   \n",
       "1352  ate some northern pike that i had cleaned earl...      -0.15   \n",
       "2746  if the supernova was unpredicted and they had ...      -0.15   \n",
       "3288  didn't cry for funerals or deaths in the famil...      -0.15   \n",
       "1126  seriously? you like every single song from loa...      -0.15   \n",
       "2515  if you're driving 10 mph above the speed limit...      -0.15   \n",
       "3598  i really hate that smug cunt dr. beverly crush...      -0.15   \n",
       "214   well.....it was.....but then i grew up and rea...      -0.15   \n",
       "2685  but star trek... -  - only went 40 years, but ...      -0.15   \n",
       "271   i'm a militant star trek fan who thinks star w...      -0.15   \n",
       "207   scotty and mccoy - the absolute wrong guys to ...      -0.15   \n",
       "988   i'm 33 and have never seen a bond, star wars, ...      -0.15   \n",
       "2703  ...that he said i was obsessed with cats. it m...      -0.15   \n",
       "3259  just about every character in dark souls, spec...      -0.15   \n",
       "3037  1. star trek - 2. avatar - 3. scott pilgrim vs...      -0.15   \n",
       "1461  i've *seen* things you people wouldn't believe...      -0.15   \n",
       "1713  the dark knight rises -  - also, man of steel ...      -0.15   \n",
       "3053  i've been quoting the princess bride constantl...      -0.15   \n",
       "2755  i wouldn't call him an \"expert,\" but i can't s...      -0.15   \n",
       "2356  parents bringing toddlers to watch non-kids mo...      -0.15   \n",
       "1079  i find myself playing civilization, master of ...      -0.15   \n",
       "418   i know two taras, a and b. they're both pretty...      -0.15   \n",
       "3016  my life is a very complicated drinking game, i...      -0.15   \n",
       "2261  my life is a very complicated drinking game, i...      -0.15   \n",
       "2483  if you can run stuff off an amount that won't ...      -0.15   \n",
       "3690  this guy named kirk. he tells jokes that are a...      -0.15   \n",
       "\n",
       "      subjectivity  \n",
       "829           1.00  \n",
       "2725          1.00  \n",
       "2576          1.00  \n",
       "3448          1.00  \n",
       "2803          1.00  \n",
       "2536          1.00  \n",
       "362           1.00  \n",
       "2987          1.00  \n",
       "2596          1.00  \n",
       "3403          1.00  \n",
       "1154          1.00  \n",
       "3323          1.00  \n",
       "1500          1.00  \n",
       "2620          0.95  \n",
       "1626          0.95  \n",
       "3569          0.70  \n",
       "3595          0.90  \n",
       "3110          1.00  \n",
       "1328          0.80  \n",
       "2202          1.00  \n",
       "2955          1.00  \n",
       "119           0.86  \n",
       "2047          0.67  \n",
       "1636          0.67  \n",
       "776           0.67  \n",
       "826           0.67  \n",
       "2046          0.67  \n",
       "2738          0.67  \n",
       "2052          0.67  \n",
       "1405          0.90  \n",
       "...            ...  \n",
       "941           0.29  \n",
       "1275          0.80  \n",
       "2323          0.62  \n",
       "3379          0.43  \n",
       "2302          0.29  \n",
       "1352          0.56  \n",
       "2746          0.38  \n",
       "3288          0.41  \n",
       "1126          0.40  \n",
       "2515          0.25  \n",
       "3598          0.70  \n",
       "214           0.95  \n",
       "2685          0.65  \n",
       "271           0.75  \n",
       "207           0.90  \n",
       "988           0.40  \n",
       "2703          0.60  \n",
       "3259          0.40  \n",
       "3037          0.40  \n",
       "1461          0.40  \n",
       "1713          0.40  \n",
       "3053          0.47  \n",
       "2755          0.26  \n",
       "2356          0.40  \n",
       "1079          0.27  \n",
       "418           0.59  \n",
       "3016          0.63  \n",
       "2261          0.63  \n",
       "2483          0.51  \n",
       "3690          0.86  \n",
       "\n",
       "[371 rows x 3 columns]"
      ]
     },
     "execution_count": 121,
     "metadata": {},
     "output_type": "execute_result"
    }
   ],
   "source": [
    "top_df"
   ]
  },
  {
   "cell_type": "code",
   "execution_count": 122,
   "metadata": {
    "collapsed": false
   },
   "outputs": [
    {
     "name": "stdout",
     "output_type": "stream",
     "text": [
      "CPU times: user 2.07 s, sys: 68 ms, total: 2.14 s\n",
      "Wall time: 2.14 s\n"
     ]
    }
   ],
   "source": [
    "%%time\n",
    "\n",
    "top_text = ''\n",
    "for x in top_df['body']:\n",
    "    top_text += x + ' '\n",
    "\n",
    "top_list = [\n",
    "    w\n",
    "    for w in nltk.word_tokenize(top_text)\n",
    "    if w not in stopwords.words('english') and w not in string.punctuation\n",
    "]"
   ]
  },
  {
   "cell_type": "code",
   "execution_count": 123,
   "metadata": {
    "collapsed": true
   },
   "outputs": [],
   "source": [
    "top_counter = Counter(top_list)"
   ]
  },
  {
   "cell_type": "code",
   "execution_count": 124,
   "metadata": {
    "collapsed": false
   },
   "outputs": [
    {
     "data": {
      "text/plain": [
       "[('star', 223),\n",
       " ('trek', 213),\n",
       " (\"'s\", 125),\n",
       " (\"n't\", 115),\n",
       " ('``', 84),\n",
       " (\"''\", 79),\n",
       " ('like', 69),\n",
       " ('one', 60),\n",
       " ('would', 56),\n",
       " ('also', 45),\n",
       " ('kirk', 41),\n",
       " ('...', 40),\n",
       " ('http', 40),\n",
       " ('fucking', 39),\n",
       " ('spock', 36),\n",
       " ('take', 34),\n",
       " (\"'m\", 33),\n",
       " ('get', 32),\n",
       " ('people', 31),\n",
       " ('fuck', 30)]"
      ]
     },
     "execution_count": 124,
     "metadata": {},
     "output_type": "execute_result"
    }
   ],
   "source": [
    "top_counter.most_common(20)"
   ]
  },
  {
   "cell_type": "code",
   "execution_count": null,
   "metadata": {
    "collapsed": true
   },
   "outputs": [],
   "source": []
  }
 ],
 "metadata": {
  "kernelspec": {
   "display_name": "Python 3",
   "language": "python",
   "name": "python3"
  },
  "language_info": {
   "codemirror_mode": {
    "name": "ipython",
    "version": 3
   },
   "file_extension": ".py",
   "mimetype": "text/x-python",
   "name": "python",
   "nbconvert_exporter": "python",
   "pygments_lexer": "ipython3",
   "version": "3.4.3"
  }
 },
 "nbformat": 4,
 "nbformat_minor": 2
}
