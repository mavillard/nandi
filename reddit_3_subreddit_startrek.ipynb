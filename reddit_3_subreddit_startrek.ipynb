{
 "cells": [
  {
   "cell_type": "code",
   "execution_count": 1,
   "metadata": {
    "collapsed": false
   },
   "outputs": [],
   "source": [
    "import os\n",
    "import string\n",
    "from collections import Counter\n",
    "from datetime import datetime\n",
    "\n",
    "import nltk\n",
    "import pandas as pd\n",
    "import matplotlib\n",
    "import seaborn as sns\n",
    "from textblob import TextBlob\n",
    "from nltk.corpus import stopwords\n",
    "from nltk.util import ngrams"
   ]
  },
  {
   "cell_type": "code",
   "execution_count": 2,
   "metadata": {
    "collapsed": false
   },
   "outputs": [],
   "source": [
    "%matplotlib inline\n",
    "matplotlib.rcParams['figure.max_open_warning'] = 1000\n",
    "matplotlib.rcParams['lines.linewidth'] = 1.0\n",
    "\n",
    "pd.set_option('display.float_format', lambda x: '%.2f' % x)"
   ]
  },
  {
   "cell_type": "markdown",
   "metadata": {},
   "source": [
    "# Preparing data"
   ]
  },
  {
   "cell_type": "code",
   "execution_count": 3,
   "metadata": {
    "collapsed": true
   },
   "outputs": [],
   "source": [
    "original_keywords = [\"Picard\", \"Kirk\", \"Sulu\", \"Uhura\", \"Spock\", \"McCoy\", \"Bones\", \"Scotty\", \"Chekhov\", \"Crusher\", \"Nurse Chapel\", \"Sarek\", \"Nero\", \"Khan\", \"Data\", \"Pike\", \"Star Trek\", \"Klingon\", \"Vulcan\", \"Romulan\", \"Star fleet\", \"Starship Enterprise\", \"Delta Vega\", \"Earth\", \"Orion\", \"Romulan Narada\", \"Stardate\", \"Transporter beam\", \"Beam me up,\\? Scotty\", \"Kobayashi Maru\", \"Space,\\? The Final Frontier\", \"Energize\", \"Vulcan Salute\", \"Prime Directive\", \"Live long and prosper\", \"LLAP\", \"I'm a doctor,\\? not a\", \"KHAAA\\+N\", \"When you eliminate the impossible,\\? whatever remains,\\? however improbable,\\? must be the truth\", \"Without followers,\\? evil cannot spread\", \"The needs of the many outweigh the needs of the few\", \"Highly illogical\", \"to boldly go where no man has gone before\", \"I'm giving her all she's got,\\? Captain\", \"Nuclear wessels\", \"Set phasers to stun\", \"Resistance is futile\", \"I have been and always shall be your friend\"]"
   ]
  },
  {
   "cell_type": "code",
   "execution_count": 4,
   "metadata": {
    "collapsed": false
   },
   "outputs": [
    {
     "name": "stdout",
     "output_type": "stream",
     "text": [
      "['Picard', 'Kirk', 'Sulu', 'Uhura', 'Spock', 'McCoy', 'Bones', 'Scotty', 'Chekhov', 'Crusher', 'Nurse Chapel', 'Sarek', 'Nero', 'Khan', 'Data', 'Pike', 'Star Trek', 'Klingon', 'Vulcan', 'Romulan', 'Star fleet', 'Starship Enterprise', 'Delta Vega', 'Earth', 'Orion', 'Romulan Narada', 'Stardate', 'Transporter beam', 'Beam me up,\\\\? Scotty', 'Kobayashi Maru', 'Space,\\\\? The Final Frontier', 'Energize', 'Vulcan Salute', 'Prime Directive', 'Live long and prosper', 'LLAP', \"I'm a doctor,\\\\? not a\", 'KHAAA\\\\+N', 'When you eliminate the impossible,\\\\? whatever remains,\\\\? however improbable,\\\\? must be the truth', 'Without followers,\\\\? evil cannot spread', 'The needs of the many outweigh the needs of the few', 'Highly illogical', 'to boldly go where no man has gone before', \"I'm giving her all she's got,\\\\? Captain\", 'Nuclear wessels', 'Set phasers to stun', 'Resistance is futile', 'I have been and always shall be your friend']\n"
     ]
    }
   ],
   "source": [
    "print(original_keywords)"
   ]
  },
  {
   "cell_type": "code",
   "execution_count": 5,
   "metadata": {
    "collapsed": true
   },
   "outputs": [],
   "source": [
    "ambiguous_keywords = [\n",
    "    'Bones',\n",
    "    'Khan',\n",
    "    'Data',\n",
    "    'Earth',\n",
    "    'Energize',\n",
    "]"
   ]
  },
  {
   "cell_type": "code",
   "execution_count": 6,
   "metadata": {
    "collapsed": true
   },
   "outputs": [],
   "source": [
    "keywords = list(set(original_keywords).difference(ambiguous_keywords))\n",
    "keywords = [w.replace('\\\\', '').lower() for w in keywords]\n",
    "keywords.sort()"
   ]
  },
  {
   "cell_type": "code",
   "execution_count": 7,
   "metadata": {
    "collapsed": false
   },
   "outputs": [
    {
     "name": "stdout",
     "output_type": "stream",
     "text": [
      "['beam me up,? scotty', 'chekhov', 'crusher', 'delta vega', 'highly illogical', 'i have been and always shall be your friend', \"i'm a doctor,? not a\", \"i'm giving her all she's got,? captain\", 'khaaa+n', 'kirk', 'klingon', 'kobayashi maru', 'live long and prosper', 'llap', 'mccoy', 'nero', 'nuclear wessels', 'nurse chapel', 'orion', 'picard', 'pike', 'prime directive', 'resistance is futile', 'romulan', 'romulan narada', 'sarek', 'scotty', 'set phasers to stun', 'space,? the final frontier', 'spock', 'star fleet', 'star trek', 'stardate', 'starship enterprise', 'sulu', 'the needs of the many outweigh the needs of the few', 'to boldly go where no man has gone before', 'transporter beam', 'uhura', 'vulcan', 'vulcan salute', 'when you eliminate the impossible,? whatever remains,? however improbable,? must be the truth', 'without followers,? evil cannot spread']\n"
     ]
    }
   ],
   "source": [
    "print(keywords)"
   ]
  },
  {
   "cell_type": "code",
   "execution_count": 8,
   "metadata": {
    "collapsed": false
   },
   "outputs": [
    {
     "name": "stdout",
     "output_type": "stream",
     "text": [
      "CPU times: user 34.5 s, sys: 2.42 s, total: 36.9 s\n",
      "Wall time: 46.8 s\n"
     ]
    }
   ],
   "source": [
    "%%time\n",
    "\n",
    "dtypes = {\n",
    "    'author': str,\n",
    "    'body': str,\n",
    "    'controversiality': str,\n",
    "    'created_utc': pd.tslib.Timestamp,\n",
    "    'distinguished': str,\n",
    "    'downs': str,\n",
    "    'gilded': str,\n",
    "    'id': str,\n",
    "    'name': str,\n",
    "    'parent_id': str,\n",
    "    'score': str,\n",
    "    'subreddit': str,\n",
    "    'ups': str,\n",
    "    'month': pd.tslib.Timestamp,\n",
    "    'year': pd.tslib.Timestamp,\n",
    "}\n",
    "\n",
    "reddit_df = pd.read_csv('reddit.csv', header=0, dtype=dtypes, parse_dates=['created_utc', 'month', 'year'])\n",
    "reddit_df = reddit_df.fillna('')"
   ]
  },
  {
   "cell_type": "code",
   "execution_count": 9,
   "metadata": {
    "collapsed": false
   },
   "outputs": [
    {
     "data": {
      "text/plain": [
       "2669814"
      ]
     },
     "execution_count": 9,
     "metadata": {},
     "output_type": "execute_result"
    }
   ],
   "source": [
    "len(reddit_df)"
   ]
  },
  {
   "cell_type": "code",
   "execution_count": 10,
   "metadata": {
    "collapsed": false
   },
   "outputs": [
    {
     "data": {
      "text/html": [
       "<div>\n",
       "<table border=\"1\" class=\"dataframe\">\n",
       "  <thead>\n",
       "    <tr style=\"text-align: right;\">\n",
       "      <th></th>\n",
       "      <th>author</th>\n",
       "      <th>body</th>\n",
       "      <th>controversiality</th>\n",
       "      <th>created_utc</th>\n",
       "      <th>distinguished</th>\n",
       "      <th>downs</th>\n",
       "      <th>gilded</th>\n",
       "      <th>id</th>\n",
       "      <th>name</th>\n",
       "      <th>parent_id</th>\n",
       "      <th>score</th>\n",
       "      <th>subreddit</th>\n",
       "      <th>ups</th>\n",
       "      <th>month</th>\n",
       "      <th>year</th>\n",
       "    </tr>\n",
       "  </thead>\n",
       "  <tbody>\n",
       "    <tr>\n",
       "      <th>0</th>\n",
       "      <td>gschizas</td>\n",
       "      <td>same in greek. my personal peeve: quite a lot ...</td>\n",
       "      <td>0</td>\n",
       "      <td>2007-10-15 15:22:33</td>\n",
       "      <td></td>\n",
       "      <td>0.0</td>\n",
       "      <td>0</td>\n",
       "      <td>c029c79</td>\n",
       "      <td>t1_c029c79</td>\n",
       "      <td>t1_c029brz</td>\n",
       "      <td>13</td>\n",
       "      <td>programming</td>\n",
       "      <td>13</td>\n",
       "      <td>2007-10-01</td>\n",
       "      <td>2007-01-01</td>\n",
       "    </tr>\n",
       "    <tr>\n",
       "      <th>1</th>\n",
       "      <td>[deleted]</td>\n",
       "      <td>&amp;gt;they also decided to rig a thermal barrier...</td>\n",
       "      <td>0</td>\n",
       "      <td>2007-10-16 05:11:09</td>\n",
       "      <td></td>\n",
       "      <td>0.0</td>\n",
       "      <td>0</td>\n",
       "      <td>c029g6h</td>\n",
       "      <td>t1_c029g6h</td>\n",
       "      <td>t3_5ye94</td>\n",
       "      <td>2</td>\n",
       "      <td>programming</td>\n",
       "      <td>2</td>\n",
       "      <td>2007-10-01</td>\n",
       "      <td>2007-01-01</td>\n",
       "    </tr>\n",
       "    <tr>\n",
       "      <th>2</th>\n",
       "      <td>johnmudd</td>\n",
       "      <td>&amp;gt; by the time a child born today graduates ...</td>\n",
       "      <td>0</td>\n",
       "      <td>2007-10-16 07:00:36</td>\n",
       "      <td></td>\n",
       "      <td>0.0</td>\n",
       "      <td>0</td>\n",
       "      <td>c029gfc</td>\n",
       "      <td>t1_c029gfc</td>\n",
       "      <td>t3_5ye9w</td>\n",
       "      <td>1</td>\n",
       "      <td>science</td>\n",
       "      <td>1</td>\n",
       "      <td>2007-10-01</td>\n",
       "      <td>2007-01-01</td>\n",
       "    </tr>\n",
       "    <tr>\n",
       "      <th>3</th>\n",
       "      <td>feliniti</td>\n",
       "      <td>nero 8 - bloated waste of money. unless you ha...</td>\n",
       "      <td>0</td>\n",
       "      <td>2007-10-16 07:10:27</td>\n",
       "      <td></td>\n",
       "      <td>0.0</td>\n",
       "      <td>0</td>\n",
       "      <td>c029gge</td>\n",
       "      <td>t1_c029gge</td>\n",
       "      <td>t3_5yej4</td>\n",
       "      <td>1</td>\n",
       "      <td>reddit.com</td>\n",
       "      <td>1</td>\n",
       "      <td>2007-10-01</td>\n",
       "      <td>2007-01-01</td>\n",
       "    </tr>\n",
       "    <tr>\n",
       "      <th>4</th>\n",
       "      <td>masklinn</td>\n",
       "      <td>&amp;gt; i wonder what happens if you started clea...</td>\n",
       "      <td>0</td>\n",
       "      <td>2007-10-16 11:27:15</td>\n",
       "      <td></td>\n",
       "      <td>0.0</td>\n",
       "      <td>0</td>\n",
       "      <td>c029hiy</td>\n",
       "      <td>t1_c029hiy</td>\n",
       "      <td>t1_c029h3y</td>\n",
       "      <td>3</td>\n",
       "      <td>reddit.com</td>\n",
       "      <td>3</td>\n",
       "      <td>2007-10-01</td>\n",
       "      <td>2007-01-01</td>\n",
       "    </tr>\n",
       "  </tbody>\n",
       "</table>\n",
       "</div>"
      ],
      "text/plain": [
       "      author                                               body  \\\n",
       "0   gschizas  same in greek. my personal peeve: quite a lot ...   \n",
       "1  [deleted]  &gt;they also decided to rig a thermal barrier...   \n",
       "2   johnmudd  &gt; by the time a child born today graduates ...   \n",
       "3   feliniti  nero 8 - bloated waste of money. unless you ha...   \n",
       "4   masklinn  &gt; i wonder what happens if you started clea...   \n",
       "\n",
       "  controversiality         created_utc distinguished downs gilded       id  \\\n",
       "0                0 2007-10-15 15:22:33                 0.0      0  c029c79   \n",
       "1                0 2007-10-16 05:11:09                 0.0      0  c029g6h   \n",
       "2                0 2007-10-16 07:00:36                 0.0      0  c029gfc   \n",
       "3                0 2007-10-16 07:10:27                 0.0      0  c029gge   \n",
       "4                0 2007-10-16 11:27:15                 0.0      0  c029hiy   \n",
       "\n",
       "         name   parent_id score    subreddit ups      month       year  \n",
       "0  t1_c029c79  t1_c029brz    13  programming  13 2007-10-01 2007-01-01  \n",
       "1  t1_c029g6h    t3_5ye94     2  programming   2 2007-10-01 2007-01-01  \n",
       "2  t1_c029gfc    t3_5ye9w     1      science   1 2007-10-01 2007-01-01  \n",
       "3  t1_c029gge    t3_5yej4     1   reddit.com   1 2007-10-01 2007-01-01  \n",
       "4  t1_c029hiy  t1_c029h3y     3   reddit.com   3 2007-10-01 2007-01-01  "
      ]
     },
     "execution_count": 10,
     "metadata": {},
     "output_type": "execute_result"
    }
   ],
   "source": [
    "reddit_df.head()"
   ]
  },
  {
   "cell_type": "markdown",
   "metadata": {},
   "source": [
    "# Analyzing data"
   ]
  },
  {
   "cell_type": "markdown",
   "metadata": {},
   "source": [
    "## Subreddits"
   ]
  },
  {
   "cell_type": "code",
   "execution_count": 11,
   "metadata": {
    "collapsed": false
   },
   "outputs": [
    {
     "data": {
      "text/plain": [
       "24076"
      ]
     },
     "execution_count": 11,
     "metadata": {},
     "output_type": "execute_result"
    }
   ],
   "source": [
    "reddit_df['subreddit'].nunique()"
   ]
  },
  {
   "cell_type": "code",
   "execution_count": 12,
   "metadata": {
    "collapsed": false
   },
   "outputs": [
    {
     "data": {
      "text/plain": [
       "AdviceAnimals            216848\n",
       "startrek                 182534\n",
       "AskReddit                179550\n",
       "fantasyfootball           92045\n",
       "movies                    65545\n",
       "nfl                       62410\n",
       "Smite                     58973\n",
       "DaystromInstitute         57314\n",
       "sto                       44103\n",
       "funny                     37788\n",
       "doctorwho                 35282\n",
       "pics                      35054\n",
       "scifi                     33434\n",
       "Planetside                27387\n",
       "todayilearned             25934\n",
       "GlobalOffensiveTrade      25360\n",
       "motorcycles               24585\n",
       "SquaredCircle             20231\n",
       "Civcraft                  19555\n",
       "IAmA                      18502\n",
       "gaming                    18339\n",
       "atheism                   18110\n",
       "grandorder                16730\n",
       "chicagobulls              16501\n",
       "videos                    16271\n",
       "nba                       16193\n",
       "PercyJacksonRP            15635\n",
       "CFB                       15368\n",
       "WTF                       13752\n",
       "TheDescendantsOfRome      13213\n",
       "                          ...  \n",
       "SurvivalGroups                1\n",
       "Botetourt                     1\n",
       "saveAd                        1\n",
       "AustinCannabis                1\n",
       "Maude_Garrett                 1\n",
       "candycrush                    1\n",
       "Myfitnesspal                  1\n",
       "AndromedaRP                   1\n",
       "BMWE36                        1\n",
       "NAW                           1\n",
       "winkhub                       1\n",
       "animelegs                     1\n",
       "reallyniceshit                1\n",
       "beam                          1\n",
       "wtfamazon                     1\n",
       "edinburghfringe               1\n",
       "SusumuHirasawa                1\n",
       "Talonmains                    1\n",
       "Masons                        1\n",
       "rhap                          1\n",
       "Colorado4Sanders              1\n",
       "solar_sailor                  1\n",
       "picksofdeadspacedicks         1\n",
       "dogswitheyebrows              1\n",
       "DjangoUnchained2013           1\n",
       "ipod                          1\n",
       "diablomemes                   1\n",
       "NoFapPUA                      1\n",
       "radiationgame                 1\n",
       "betterponymotes               1\n",
       "Name: subreddit, dtype: int64"
      ]
     },
     "execution_count": 12,
     "metadata": {},
     "output_type": "execute_result"
    }
   ],
   "source": [
    "reddit_df['subreddit'].value_counts()"
   ]
  },
  {
   "cell_type": "markdown",
   "metadata": {},
   "source": [
    "## Global variables"
   ]
  },
  {
   "cell_type": "code",
   "execution_count": 13,
   "metadata": {
    "collapsed": true
   },
   "outputs": [],
   "source": [
    "valid_dates = pd.date_range('2007-10-1', '2016-08-31', freq='MS')"
   ]
  },
  {
   "cell_type": "code",
   "execution_count": 14,
   "metadata": {
    "collapsed": true
   },
   "outputs": [],
   "source": [
    "P = 10"
   ]
  },
  {
   "cell_type": "markdown",
   "metadata": {},
   "source": [
    "## startrek"
   ]
  },
  {
   "cell_type": "code",
   "execution_count": 15,
   "metadata": {
    "collapsed": true
   },
   "outputs": [],
   "source": [
    "subreddit = 'startrek'\n",
    "\n",
    "peaks = ['2009-05-01', '2012-12-01', '2013-05-01', '2016-07-01',]\n",
    "peaks = list(map(pd.lib.Timestamp, peaks))\n",
    "\n",
    "title = 'Number of comments on subreddit \\'' + subreddit + '\\' by month'"
   ]
  },
  {
   "cell_type": "code",
   "execution_count": 16,
   "metadata": {
    "collapsed": false
   },
   "outputs": [
    {
     "name": "stdout",
     "output_type": "stream",
     "text": [
      "CPU times: user 408 ms, sys: 140 ms, total: 548 ms\n",
      "Wall time: 736 ms\n"
     ]
    }
   ],
   "source": [
    "%%time\n",
    "\n",
    "subreddit_df = reddit_df[reddit_df['subreddit'] == subreddit]"
   ]
  },
  {
   "cell_type": "code",
   "execution_count": 17,
   "metadata": {
    "collapsed": false
   },
   "outputs": [
    {
     "data": {
      "text/plain": [
       "182534"
      ]
     },
     "execution_count": 17,
     "metadata": {},
     "output_type": "execute_result"
    }
   ],
   "source": [
    "len(subreddit_df)"
   ]
  },
  {
   "cell_type": "code",
   "execution_count": 18,
   "metadata": {
    "collapsed": true
   },
   "outputs": [],
   "source": [
    "subreddit_by_month = pd.Series(subreddit_df.groupby('month')['id'].count())\n",
    "subreddit_by_month.index.name = None"
   ]
  },
  {
   "cell_type": "code",
   "execution_count": 19,
   "metadata": {
    "collapsed": false
   },
   "outputs": [],
   "source": [
    "show_dates = [x.strftime('%Y %b') if x in peaks else '' for x in valid_dates]"
   ]
  },
  {
   "cell_type": "code",
   "execution_count": 20,
   "metadata": {
    "collapsed": false
   },
   "outputs": [
    {
     "data": {
      "image/png": "[encoded data removed]",
      "text/plain": [
       "<matplotlib.figure.Figure at 0x7f0fc7a44be0>"
      ]
     },
     "metadata": {},
     "output_type": "display_data"
    }
   ],
   "source": [
    "ax = subreddit_by_month.plot(\n",
    "    figsize=(10, 5),\n",
    "    xlim=('2007-10-01', '2016-08-31'),\n",
    "    xticks=valid_dates,\n",
    "    rot=60,\n",
    "    title=title,\n",
    ")\n",
    "ax.set_xticklabels(show_dates);"
   ]
  },
  {
   "cell_type": "markdown",
   "metadata": {},
   "source": [
    "### Peaks"
   ]
  },
  {
   "cell_type": "code",
   "execution_count": 21,
   "metadata": {
    "collapsed": false
   },
   "outputs": [
    {
     "data": {
      "text/plain": [
       "[Timestamp('2009-05-01 00:00:00'),\n",
       " Timestamp('2012-12-01 00:00:00'),\n",
       " Timestamp('2013-05-01 00:00:00'),\n",
       " Timestamp('2016-07-01 00:00:00')]"
      ]
     },
     "execution_count": 21,
     "metadata": {},
     "output_type": "execute_result"
    }
   ],
   "source": [
    "peaks"
   ]
  },
  {
   "cell_type": "markdown",
   "metadata": {},
   "source": [
    "#### 2012-12-01"
   ]
  },
  {
   "cell_type": "code",
   "execution_count": 22,
   "metadata": {
    "collapsed": true
   },
   "outputs": [],
   "source": [
    "date = '2012-12-01'"
   ]
  },
  {
   "cell_type": "code",
   "execution_count": 23,
   "metadata": {
    "collapsed": true
   },
   "outputs": [],
   "source": [
    "subreddit_date_df = subreddit_df[subreddit_df['month'] == date]"
   ]
  },
  {
   "cell_type": "code",
   "execution_count": 24,
   "metadata": {
    "collapsed": false
   },
   "outputs": [
    {
     "data": {
      "text/plain": [
       "4250"
      ]
     },
     "execution_count": 24,
     "metadata": {},
     "output_type": "execute_result"
    }
   ],
   "source": [
    "len(subreddit_date_df)"
   ]
  },
  {
   "cell_type": "markdown",
   "metadata": {},
   "source": [
    "#### Histogram"
   ]
  },
  {
   "cell_type": "markdown",
   "metadata": {},
   "source": [
    "###### Keywords"
   ]
  },
  {
   "cell_type": "code",
   "execution_count": 25,
   "metadata": {
    "collapsed": true
   },
   "outputs": [],
   "source": [
    "keywords_dict = {}\n",
    "for keyword in keywords:\n",
    "    keyword_df = subreddit_date_df[subreddit_date_df['body'].str.contains(keyword)]\n",
    "    count = keyword_df['body'].str.count(keyword).sum()\n",
    "    keywords_dict[keyword] = count"
   ]
  },
  {
   "cell_type": "code",
   "execution_count": 26,
   "metadata": {
    "collapsed": false
   },
   "outputs": [],
   "source": [
    "keywords_counter = Counter(keywords_dict)"
   ]
  },
  {
   "cell_type": "code",
   "execution_count": 27,
   "metadata": {
    "collapsed": false
   },
   "outputs": [
    {
     "data": {
      "text/plain": [
       "[('star trek', 2865),\n",
       " ('kirk', 1227),\n",
       " ('spock', 860),\n",
       " ('picard', 688),\n",
       " ('klingon', 502),\n",
       " ('vulcan', 392),\n",
       " ('romulan', 273),\n",
       " ('nero', 158),\n",
       " ('scotty', 146),\n",
       " ('crusher', 139),\n",
       " ('mccoy', 139),\n",
       " ('prime directive', 137),\n",
       " ('pike', 94),\n",
       " ('star fleet', 90),\n",
       " ('uhura', 79),\n",
       " ('sulu', 77),\n",
       " ('live long and prosper', 21),\n",
       " ('nurse chapel', 19),\n",
       " ('kobayashi maru', 19),\n",
       " ('stardate', 17),\n",
       " ('delta vega', 17),\n",
       " ('sarek', 16),\n",
       " ('orion', 11),\n",
       " ('khaaa+n', 11),\n",
       " ('chekhov', 10),\n",
       " ('llap', 9),\n",
       " ('resistance is futile', 9),\n",
       " ('the needs of the many outweigh the needs of the few', 8),\n",
       " ('starship enterprise', 8),\n",
       " ('vulcan salute', 7),\n",
       " ('highly illogical', 4),\n",
       " ('transporter beam', 3),\n",
       " (\"i'm a doctor,? not a\", 2),\n",
       " ('beam me up,? scotty', 2),\n",
       " ('space,? the final frontier', 1),\n",
       " ('without followers,? evil cannot spread', 0),\n",
       " ('nuclear wessels', 0),\n",
       " ('i have been and always shall be your friend', 0),\n",
       " ('set phasers to stun', 0),\n",
       " ('to boldly go where no man has gone before', 0),\n",
       " ('romulan narada', 0),\n",
       " (\"i'm giving her all she's got,? captain\", 0),\n",
       " ('when you eliminate the impossible,? whatever remains,? however improbable,? must be the truth',\n",
       "  0)]"
      ]
     },
     "execution_count": 27,
     "metadata": {},
     "output_type": "execute_result"
    }
   ],
   "source": [
    "keywords_counter.most_common()"
   ]
  },
  {
   "cell_type": "code",
   "execution_count": 28,
   "metadata": {
    "collapsed": true
   },
   "outputs": [],
   "source": [
    "keywords_sr = pd.Series(keywords_dict)"
   ]
  },
  {
   "cell_type": "code",
   "execution_count": 29,
   "metadata": {
    "collapsed": false
   },
   "outputs": [
    {
     "data": {
      "text/plain": [
       "<matplotlib.axes._subplots.AxesSubplot at 0x7f0fba7f2e48>"
      ]
     },
     "execution_count": 29,
     "metadata": {},
     "output_type": "execute_result"
    },
    {
     "data": {
      "image/png": "[encoded data removed]",
      "text/plain": [
       "<matplotlib.figure.Figure at 0x7f0f8d86d470>"
      ]
     },
     "metadata": {},
     "output_type": "display_data"
    }
   ],
   "source": [
    "keywords_sr.plot(\n",
    "    kind='bar',\n",
    "    figsize=(10, 5),\n",
    "    title='Keyword histogram on ' + date,\n",
    ")"
   ]
  },
  {
   "cell_type": "markdown",
   "metadata": {},
   "source": [
    "###### Other words"
   ]
  },
  {
   "cell_type": "code",
   "execution_count": 30,
   "metadata": {
    "collapsed": false
   },
   "outputs": [
    {
     "name": "stdout",
     "output_type": "stream",
     "text": [
      "CPU times: user 52.2 s, sys: 3.49 s, total: 55.7 s\n",
      "Wall time: 56 s\n"
     ]
    }
   ],
   "source": [
    "%%time\n",
    "\n",
    "text_ = ''\n",
    "for x in subreddit_date_df['body']:\n",
    "    text_ += x + ' '\n",
    "\n",
    "list_ = [\n",
    "    w\n",
    "    for w in nltk.word_tokenize(text_)\n",
    "    if w not in stopwords.words('english') and w not in string.punctuation\n",
    "]\n",
    "\n",
    "counter_ = Counter(list_)"
   ]
  },
  {
   "cell_type": "code",
   "execution_count": 31,
   "metadata": {
    "collapsed": false
   },
   "outputs": [
    {
     "data": {
      "text/plain": [
       "[(\"'s\", 3705),\n",
       " ('trek', 3294),\n",
       " ('star', 3179),\n",
       " (\"n't\", 2636),\n",
       " ('``', 1687),\n",
       " (\"''\", 1685),\n",
       " ('would', 1680),\n",
       " ('like', 1423),\n",
       " ('kirk', 1162),\n",
       " ('one', 1065),\n",
       " ('think', 936),\n",
       " ('time', 789),\n",
       " ('series', 788),\n",
       " ('spock', 768),\n",
       " ('really', 756),\n",
       " ('movie', 751),\n",
       " ('new', 722),\n",
       " ('...', 712),\n",
       " ('could', 701),\n",
       " ('first', 685)]"
      ]
     },
     "execution_count": 31,
     "metadata": {},
     "output_type": "execute_result"
    }
   ],
   "source": [
    "counter_.most_common(20)"
   ]
  },
  {
   "cell_type": "markdown",
   "metadata": {},
   "source": [
    "#### Sentiment analysis"
   ]
  },
  {
   "cell_type": "markdown",
   "metadata": {},
   "source": [
    "- The polarity score is a float within the range [-1.0, 1.0].\n",
    "- The subjectivity is a float within the range [0.0, 1.0] where 0.0 is very objective and 1.0 is very subjective."
   ]
  },
  {
   "cell_type": "code",
   "execution_count": 32,
   "metadata": {
    "collapsed": false
   },
   "outputs": [
    {
     "name": "stdout",
     "output_type": "stream",
     "text": [
      "CPU times: user 3.17 s, sys: 4 ms, total: 3.17 s\n",
      "Wall time: 3.48 s\n"
     ]
    }
   ],
   "source": [
    "%%time\n",
    "\n",
    "sentiment_list = []\n",
    "for x in subreddit_date_df['body']:\n",
    "    tb = TextBlob(x)\n",
    "    sentiment_list.append((x, tb.sentiment.polarity, tb.sentiment.subjectivity))"
   ]
  },
  {
   "cell_type": "code",
   "execution_count": 33,
   "metadata": {
    "collapsed": false
   },
   "outputs": [],
   "source": [
    "sentiment_df = pd.DataFrame(sentiment_list, columns=['body', 'sentiment', 'subjectivity'])"
   ]
  },
  {
   "cell_type": "code",
   "execution_count": 34,
   "metadata": {
    "collapsed": false
   },
   "outputs": [
    {
     "data": {
      "text/html": [
       "<div>\n",
       "<table border=\"1\" class=\"dataframe\">\n",
       "  <thead>\n",
       "    <tr style=\"text-align: right;\">\n",
       "      <th></th>\n",
       "      <th>body</th>\n",
       "      <th>sentiment</th>\n",
       "      <th>subjectivity</th>\n",
       "    </tr>\n",
       "  </thead>\n",
       "  <tbody>\n",
       "    <tr>\n",
       "      <th>0</th>\n",
       "      <td>not when the motto of all klingon comics is: \"...</td>\n",
       "      <td>0.70</td>\n",
       "      <td>0.60</td>\n",
       "    </tr>\n",
       "    <tr>\n",
       "      <th>1</th>\n",
       "      <td>sulu didn't have a japanese accent.  he's from...</td>\n",
       "      <td>0.00</td>\n",
       "      <td>0.00</td>\n",
       "    </tr>\n",
       "    <tr>\n",
       "      <th>2</th>\n",
       "      <td>i've always been a fan of the \"everything in l...</td>\n",
       "      <td>0.17</td>\n",
       "      <td>0.35</td>\n",
       "    </tr>\n",
       "    <tr>\n",
       "      <th>3</th>\n",
       "      <td>uber star wars fan here.... i would love to ha...</td>\n",
       "      <td>0.62</td>\n",
       "      <td>0.60</td>\n",
       "    </tr>\n",
       "    <tr>\n",
       "      <th>4</th>\n",
       "      <td>how could you forget klingon academy</td>\n",
       "      <td>0.00</td>\n",
       "      <td>0.00</td>\n",
       "    </tr>\n",
       "  </tbody>\n",
       "</table>\n",
       "</div>"
      ],
      "text/plain": [
       "                                                body  sentiment  subjectivity\n",
       "0  not when the motto of all klingon comics is: \"...       0.70          0.60\n",
       "1  sulu didn't have a japanese accent.  he's from...       0.00          0.00\n",
       "2  i've always been a fan of the \"everything in l...       0.17          0.35\n",
       "3  uber star wars fan here.... i would love to ha...       0.62          0.60\n",
       "4               how could you forget klingon academy       0.00          0.00"
      ]
     },
     "execution_count": 34,
     "metadata": {},
     "output_type": "execute_result"
    }
   ],
   "source": [
    "sentiment_df.head()"
   ]
  },
  {
   "cell_type": "code",
   "execution_count": 35,
   "metadata": {
    "collapsed": false
   },
   "outputs": [
    {
     "data": {
      "text/plain": [
       "0.10905434748800666"
      ]
     },
     "execution_count": 35,
     "metadata": {},
     "output_type": "execute_result"
    }
   ],
   "source": [
    "sentiment_df['sentiment'].mean()"
   ]
  },
  {
   "cell_type": "code",
   "execution_count": 36,
   "metadata": {
    "collapsed": false
   },
   "outputs": [
    {
     "data": {
      "text/plain": [
       "0.45640362011347496"
      ]
     },
     "execution_count": 36,
     "metadata": {},
     "output_type": "execute_result"
    }
   ],
   "source": [
    "sentiment_df['subjectivity'].mean()"
   ]
  },
  {
   "cell_type": "markdown",
   "metadata": {},
   "source": [
    "##### Histogram top positive"
   ]
  },
  {
   "cell_type": "code",
   "execution_count": 37,
   "metadata": {
    "collapsed": false
   },
   "outputs": [],
   "source": [
    "top_df = sentiment_df.sort_values('sentiment', ascending=False)[:len(subreddit_date_df) * P // 100]"
   ]
  },
  {
   "cell_type": "code",
   "execution_count": 38,
   "metadata": {
    "collapsed": false
   },
   "outputs": [
    {
     "data": {
      "text/html": [
       "<div>\n",
       "<table border=\"1\" class=\"dataframe\">\n",
       "  <thead>\n",
       "    <tr style=\"text-align: right;\">\n",
       "      <th></th>\n",
       "      <th>body</th>\n",
       "      <th>sentiment</th>\n",
       "      <th>subjectivity</th>\n",
       "    </tr>\n",
       "  </thead>\n",
       "  <tbody>\n",
       "    <tr>\n",
       "      <th>3310</th>\n",
       "      <td>enterprise and voyager are the best star trek ...</td>\n",
       "      <td>1.00</td>\n",
       "      <td>0.30</td>\n",
       "    </tr>\n",
       "    <tr>\n",
       "      <th>904</th>\n",
       "      <td>i was thinking that maybe she is yeoman, janic...</td>\n",
       "      <td>1.00</td>\n",
       "      <td>1.00</td>\n",
       "    </tr>\n",
       "    <tr>\n",
       "      <th>3065</th>\n",
       "      <td>dude.. that's gotta be put over on /r/cringe! ...</td>\n",
       "      <td>1.00</td>\n",
       "      <td>1.00</td>\n",
       "    </tr>\n",
       "    <tr>\n",
       "      <th>73</th>\n",
       "      <td>i got mine to understand by re-watching star t...</td>\n",
       "      <td>1.00</td>\n",
       "      <td>0.30</td>\n",
       "    </tr>\n",
       "    <tr>\n",
       "      <th>4010</th>\n",
       "      <td>it's one of the greatest episodes of star trek...</td>\n",
       "      <td>1.00</td>\n",
       "      <td>1.00</td>\n",
       "    </tr>\n",
       "    <tr>\n",
       "      <th>3227</th>\n",
       "      <td>one of the best things about star trek is that...</td>\n",
       "      <td>1.00</td>\n",
       "      <td>0.30</td>\n",
       "    </tr>\n",
       "    <tr>\n",
       "      <th>2245</th>\n",
       "      <td>one of the best kirk quotes ever.</td>\n",
       "      <td>1.00</td>\n",
       "      <td>0.30</td>\n",
       "    </tr>\n",
       "    <tr>\n",
       "      <th>2490</th>\n",
       "      <td>if we're rating the tng movies solely on their...</td>\n",
       "      <td>1.00</td>\n",
       "      <td>0.30</td>\n",
       "    </tr>\n",
       "    <tr>\n",
       "      <th>291</th>\n",
       "      <td>imho, enterprise season 4 is probably the best...</td>\n",
       "      <td>1.00</td>\n",
       "      <td>0.30</td>\n",
       "    </tr>\n",
       "    <tr>\n",
       "      <th>1196</th>\n",
       "      <td>[artemis](http://www.reddit.com/r/artemis) -  ...</td>\n",
       "      <td>1.00</td>\n",
       "      <td>0.30</td>\n",
       "    </tr>\n",
       "    <tr>\n",
       "      <th>2071</th>\n",
       "      <td>i have to disagree. the enterprise theme when ...</td>\n",
       "      <td>1.00</td>\n",
       "      <td>0.30</td>\n",
       "    </tr>\n",
       "    <tr>\n",
       "      <th>1132</th>\n",
       "      <td>hey op, need a awesome star trek bf to match t...</td>\n",
       "      <td>1.00</td>\n",
       "      <td>1.00</td>\n",
       "    </tr>\n",
       "    <tr>\n",
       "      <th>1368</th>\n",
       "      <td>i'm guessing people who said that havnt seen h...</td>\n",
       "      <td>1.00</td>\n",
       "      <td>1.00</td>\n",
       "    </tr>\n",
       "    <tr>\n",
       "      <th>1787</th>\n",
       "      <td>star trek has always stumbled when it came to ...</td>\n",
       "      <td>1.00</td>\n",
       "      <td>0.30</td>\n",
       "    </tr>\n",
       "    <tr>\n",
       "      <th>4163</th>\n",
       "      <td>i doubt they would do that, but if they did i ...</td>\n",
       "      <td>1.00</td>\n",
       "      <td>1.00</td>\n",
       "    </tr>\n",
       "    <tr>\n",
       "      <th>4230</th>\n",
       "      <td>also, it's probably best to avoid star trek 5.</td>\n",
       "      <td>1.00</td>\n",
       "      <td>0.30</td>\n",
       "    </tr>\n",
       "    <tr>\n",
       "      <th>3275</th>\n",
       "      <td>did deanna and kira have a lovechild? picard d...</td>\n",
       "      <td>1.00</td>\n",
       "      <td>1.00</td>\n",
       "    </tr>\n",
       "    <tr>\n",
       "      <th>3822</th>\n",
       "      <td>these are awesome for the built-in girdle for ...</td>\n",
       "      <td>1.00</td>\n",
       "      <td>1.00</td>\n",
       "    </tr>\n",
       "    <tr>\n",
       "      <th>2999</th>\n",
       "      <td>i logged in to tell you that as a fan of josep...</td>\n",
       "      <td>1.00</td>\n",
       "      <td>1.00</td>\n",
       "    </tr>\n",
       "    <tr>\n",
       "      <th>3279</th>\n",
       "      <td>a wonderful set, we have it on display in our ...</td>\n",
       "      <td>1.00</td>\n",
       "      <td>1.00</td>\n",
       "    </tr>\n",
       "    <tr>\n",
       "      <th>4058</th>\n",
       "      <td>the greatest thing ever said by a klingon.</td>\n",
       "      <td>1.00</td>\n",
       "      <td>1.00</td>\n",
       "    </tr>\n",
       "    <tr>\n",
       "      <th>2293</th>\n",
       "      <td>that is a very good point which i had not cons...</td>\n",
       "      <td>0.91</td>\n",
       "      <td>0.78</td>\n",
       "    </tr>\n",
       "    <tr>\n",
       "      <th>705</th>\n",
       "      <td>if you want to watch a movie that is all what ...</td>\n",
       "      <td>0.90</td>\n",
       "      <td>0.90</td>\n",
       "    </tr>\n",
       "    <tr>\n",
       "      <th>3840</th>\n",
       "      <td>honestly? i think out of all the \"cat-suit\" ch...</td>\n",
       "      <td>0.87</td>\n",
       "      <td>0.50</td>\n",
       "    </tr>\n",
       "    <tr>\n",
       "      <th>923</th>\n",
       "      <td>if you look at the 7th picture (under alice ev...</td>\n",
       "      <td>0.85</td>\n",
       "      <td>1.00</td>\n",
       "    </tr>\n",
       "    <tr>\n",
       "      <th>1750</th>\n",
       "      <td>well, according to everyone on ds9, morn appar...</td>\n",
       "      <td>0.85</td>\n",
       "      <td>0.90</td>\n",
       "    </tr>\n",
       "    <tr>\n",
       "      <th>1213</th>\n",
       "      <td>wait... did this internet argument about star ...</td>\n",
       "      <td>0.83</td>\n",
       "      <td>0.98</td>\n",
       "    </tr>\n",
       "    <tr>\n",
       "      <th>1989</th>\n",
       "      <td>welcome to the wonderful world of tng! picard ...</td>\n",
       "      <td>0.81</td>\n",
       "      <td>0.97</td>\n",
       "    </tr>\n",
       "    <tr>\n",
       "      <th>158</th>\n",
       "      <td>i didn't realize that star trek and great film...</td>\n",
       "      <td>0.80</td>\n",
       "      <td>0.75</td>\n",
       "    </tr>\n",
       "    <tr>\n",
       "      <th>2428</th>\n",
       "      <td>spock's brain.  it had a great b-movie story.</td>\n",
       "      <td>0.80</td>\n",
       "      <td>0.75</td>\n",
       "    </tr>\n",
       "    <tr>\n",
       "      <th>...</th>\n",
       "      <td>...</td>\n",
       "      <td>...</td>\n",
       "      <td>...</td>\n",
       "    </tr>\n",
       "    <tr>\n",
       "      <th>2221</th>\n",
       "      <td>i'm pretty sure picard knows the difference be...</td>\n",
       "      <td>0.38</td>\n",
       "      <td>0.94</td>\n",
       "    </tr>\n",
       "    <tr>\n",
       "      <th>1741</th>\n",
       "      <td>anything played by jeffery combs is my answer....</td>\n",
       "      <td>0.38</td>\n",
       "      <td>0.62</td>\n",
       "    </tr>\n",
       "    <tr>\n",
       "      <th>1485</th>\n",
       "      <td>here's the problem: the original enterprise fr...</td>\n",
       "      <td>0.38</td>\n",
       "      <td>0.75</td>\n",
       "    </tr>\n",
       "    <tr>\n",
       "      <th>1424</th>\n",
       "      <td>that also seems like misdirection. even if you...</td>\n",
       "      <td>0.38</td>\n",
       "      <td>0.75</td>\n",
       "    </tr>\n",
       "    <tr>\n",
       "      <th>1778</th>\n",
       "      <td>think about it.  -  - what if she had been suc...</td>\n",
       "      <td>0.38</td>\n",
       "      <td>0.97</td>\n",
       "    </tr>\n",
       "    <tr>\n",
       "      <th>1723</th>\n",
       "      <td>the kid who notices kirk speeding by him to th...</td>\n",
       "      <td>0.38</td>\n",
       "      <td>0.68</td>\n",
       "    </tr>\n",
       "    <tr>\n",
       "      <th>24</th>\n",
       "      <td>i think you could also cosplay a pretty convin...</td>\n",
       "      <td>0.38</td>\n",
       "      <td>1.00</td>\n",
       "    </tr>\n",
       "    <tr>\n",
       "      <th>2296</th>\n",
       "      <td>the story was a good idea in general, i like t...</td>\n",
       "      <td>0.38</td>\n",
       "      <td>0.55</td>\n",
       "    </tr>\n",
       "    <tr>\n",
       "      <th>3938</th>\n",
       "      <td>pretty sure lore was an android, not a klingon.</td>\n",
       "      <td>0.38</td>\n",
       "      <td>0.94</td>\n",
       "    </tr>\n",
       "    <tr>\n",
       "      <th>1175</th>\n",
       "      <td>every time i see a not-as-geeky-as-thou post l...</td>\n",
       "      <td>0.38</td>\n",
       "      <td>0.67</td>\n",
       "    </tr>\n",
       "    <tr>\n",
       "      <th>1671</th>\n",
       "      <td>i've watched and read a lot of star trek in my...</td>\n",
       "      <td>0.38</td>\n",
       "      <td>0.75</td>\n",
       "    </tr>\n",
       "    <tr>\n",
       "      <th>719</th>\n",
       "      <td>my first thought was nurse chapel but yeah tha...</td>\n",
       "      <td>0.38</td>\n",
       "      <td>0.42</td>\n",
       "    </tr>\n",
       "    <tr>\n",
       "      <th>4038</th>\n",
       "      <td>firefly and fascape in one? we call that cowbo...</td>\n",
       "      <td>0.38</td>\n",
       "      <td>0.75</td>\n",
       "    </tr>\n",
       "    <tr>\n",
       "      <th>3581</th>\n",
       "      <td>it's true. although, i think that if someone w...</td>\n",
       "      <td>0.38</td>\n",
       "      <td>0.57</td>\n",
       "    </tr>\n",
       "    <tr>\n",
       "      <th>1552</th>\n",
       "      <td>wow, looking good. op, i'm looking for a good ...</td>\n",
       "      <td>0.38</td>\n",
       "      <td>0.65</td>\n",
       "    </tr>\n",
       "    <tr>\n",
       "      <th>365</th>\n",
       "      <td>\"the return\" was a great novel! it would have ...</td>\n",
       "      <td>0.38</td>\n",
       "      <td>0.47</td>\n",
       "    </tr>\n",
       "    <tr>\n",
       "      <th>2094</th>\n",
       "      <td>also, i am totally watching the tng ep \"who wa...</td>\n",
       "      <td>0.37</td>\n",
       "      <td>0.67</td>\n",
       "    </tr>\n",
       "    <tr>\n",
       "      <th>2151</th>\n",
       "      <td>ship: defiant   - captain: picard   - fo: arch...</td>\n",
       "      <td>0.37</td>\n",
       "      <td>0.61</td>\n",
       "    </tr>\n",
       "    <tr>\n",
       "      <th>3480</th>\n",
       "      <td>agreed. seemed very fitting after his mind-mel...</td>\n",
       "      <td>0.37</td>\n",
       "      <td>0.57</td>\n",
       "    </tr>\n",
       "    <tr>\n",
       "      <th>909</th>\n",
       "      <td>is \"trekkers\" normally considered the appropri...</td>\n",
       "      <td>0.37</td>\n",
       "      <td>0.71</td>\n",
       "    </tr>\n",
       "    <tr>\n",
       "      <th>4175</th>\n",
       "      <td>i grew up watching voyager. i liked star trek ...</td>\n",
       "      <td>0.37</td>\n",
       "      <td>0.58</td>\n",
       "    </tr>\n",
       "    <tr>\n",
       "      <th>2034</th>\n",
       "      <td>i think as a standalone jj abrams' trek movies...</td>\n",
       "      <td>0.37</td>\n",
       "      <td>0.57</td>\n",
       "    </tr>\n",
       "    <tr>\n",
       "      <th>1005</th>\n",
       "      <td>that is one of my tops but my personal fave is...</td>\n",
       "      <td>0.37</td>\n",
       "      <td>0.63</td>\n",
       "    </tr>\n",
       "    <tr>\n",
       "      <th>3904</th>\n",
       "      <td>to be honest, i can't stand mccoy. it was prob...</td>\n",
       "      <td>0.37</td>\n",
       "      <td>0.47</td>\n",
       "    </tr>\n",
       "    <tr>\n",
       "      <th>2469</th>\n",
       "      <td>this isn't an episode, but i absolutely love s...</td>\n",
       "      <td>0.37</td>\n",
       "      <td>0.70</td>\n",
       "    </tr>\n",
       "    <tr>\n",
       "      <th>300</th>\n",
       "      <td>star trek: outpost.  its an audio drama set on...</td>\n",
       "      <td>0.37</td>\n",
       "      <td>0.67</td>\n",
       "    </tr>\n",
       "    <tr>\n",
       "      <th>2972</th>\n",
       "      <td>yeah, to promote tng blu ray. now picard's dom...</td>\n",
       "      <td>0.37</td>\n",
       "      <td>0.71</td>\n",
       "    </tr>\n",
       "    <tr>\n",
       "      <th>3320</th>\n",
       "      <td>spock can you clean up the plates from the can...</td>\n",
       "      <td>0.37</td>\n",
       "      <td>0.70</td>\n",
       "    </tr>\n",
       "    <tr>\n",
       "      <th>3408</th>\n",
       "      <td>if memory serves, i recall seeing tweets he po...</td>\n",
       "      <td>0.36</td>\n",
       "      <td>0.42</td>\n",
       "    </tr>\n",
       "    <tr>\n",
       "      <th>1930</th>\n",
       "      <td>a time lord, or time lady as the case may be, ...</td>\n",
       "      <td>0.36</td>\n",
       "      <td>0.58</td>\n",
       "    </tr>\n",
       "  </tbody>\n",
       "</table>\n",
       "<p>425 rows × 3 columns</p>\n",
       "</div>"
      ],
      "text/plain": [
       "                                                   body  sentiment  \\\n",
       "3310  enterprise and voyager are the best star trek ...       1.00   \n",
       "904   i was thinking that maybe she is yeoman, janic...       1.00   \n",
       "3065  dude.. that's gotta be put over on /r/cringe! ...       1.00   \n",
       "73    i got mine to understand by re-watching star t...       1.00   \n",
       "4010  it's one of the greatest episodes of star trek...       1.00   \n",
       "3227  one of the best things about star trek is that...       1.00   \n",
       "2245                  one of the best kirk quotes ever.       1.00   \n",
       "2490  if we're rating the tng movies solely on their...       1.00   \n",
       "291   imho, enterprise season 4 is probably the best...       1.00   \n",
       "1196  [artemis](http://www.reddit.com/r/artemis) -  ...       1.00   \n",
       "2071  i have to disagree. the enterprise theme when ...       1.00   \n",
       "1132  hey op, need a awesome star trek bf to match t...       1.00   \n",
       "1368  i'm guessing people who said that havnt seen h...       1.00   \n",
       "1787  star trek has always stumbled when it came to ...       1.00   \n",
       "4163  i doubt they would do that, but if they did i ...       1.00   \n",
       "4230     also, it's probably best to avoid star trek 5.       1.00   \n",
       "3275  did deanna and kira have a lovechild? picard d...       1.00   \n",
       "3822  these are awesome for the built-in girdle for ...       1.00   \n",
       "2999  i logged in to tell you that as a fan of josep...       1.00   \n",
       "3279  a wonderful set, we have it on display in our ...       1.00   \n",
       "4058         the greatest thing ever said by a klingon.       1.00   \n",
       "2293  that is a very good point which i had not cons...       0.91   \n",
       "705   if you want to watch a movie that is all what ...       0.90   \n",
       "3840  honestly? i think out of all the \"cat-suit\" ch...       0.87   \n",
       "923   if you look at the 7th picture (under alice ev...       0.85   \n",
       "1750  well, according to everyone on ds9, morn appar...       0.85   \n",
       "1213  wait... did this internet argument about star ...       0.83   \n",
       "1989  welcome to the wonderful world of tng! picard ...       0.81   \n",
       "158   i didn't realize that star trek and great film...       0.80   \n",
       "2428      spock's brain.  it had a great b-movie story.       0.80   \n",
       "...                                                 ...        ...   \n",
       "2221  i'm pretty sure picard knows the difference be...       0.38   \n",
       "1741  anything played by jeffery combs is my answer....       0.38   \n",
       "1485  here's the problem: the original enterprise fr...       0.38   \n",
       "1424  that also seems like misdirection. even if you...       0.38   \n",
       "1778  think about it.  -  - what if she had been suc...       0.38   \n",
       "1723  the kid who notices kirk speeding by him to th...       0.38   \n",
       "24    i think you could also cosplay a pretty convin...       0.38   \n",
       "2296  the story was a good idea in general, i like t...       0.38   \n",
       "3938    pretty sure lore was an android, not a klingon.       0.38   \n",
       "1175  every time i see a not-as-geeky-as-thou post l...       0.38   \n",
       "1671  i've watched and read a lot of star trek in my...       0.38   \n",
       "719   my first thought was nurse chapel but yeah tha...       0.38   \n",
       "4038  firefly and fascape in one? we call that cowbo...       0.38   \n",
       "3581  it's true. although, i think that if someone w...       0.38   \n",
       "1552  wow, looking good. op, i'm looking for a good ...       0.38   \n",
       "365   \"the return\" was a great novel! it would have ...       0.38   \n",
       "2094  also, i am totally watching the tng ep \"who wa...       0.37   \n",
       "2151  ship: defiant   - captain: picard   - fo: arch...       0.37   \n",
       "3480  agreed. seemed very fitting after his mind-mel...       0.37   \n",
       "909   is \"trekkers\" normally considered the appropri...       0.37   \n",
       "4175  i grew up watching voyager. i liked star trek ...       0.37   \n",
       "2034  i think as a standalone jj abrams' trek movies...       0.37   \n",
       "1005  that is one of my tops but my personal fave is...       0.37   \n",
       "3904  to be honest, i can't stand mccoy. it was prob...       0.37   \n",
       "2469  this isn't an episode, but i absolutely love s...       0.37   \n",
       "300   star trek: outpost.  its an audio drama set on...       0.37   \n",
       "2972  yeah, to promote tng blu ray. now picard's dom...       0.37   \n",
       "3320  spock can you clean up the plates from the can...       0.37   \n",
       "3408  if memory serves, i recall seeing tweets he po...       0.36   \n",
       "1930  a time lord, or time lady as the case may be, ...       0.36   \n",
       "\n",
       "      subjectivity  \n",
       "3310          0.30  \n",
       "904           1.00  \n",
       "3065          1.00  \n",
       "73            0.30  \n",
       "4010          1.00  \n",
       "3227          0.30  \n",
       "2245          0.30  \n",
       "2490          0.30  \n",
       "291           0.30  \n",
       "1196          0.30  \n",
       "2071          0.30  \n",
       "1132          1.00  \n",
       "1368          1.00  \n",
       "1787          0.30  \n",
       "4163          1.00  \n",
       "4230          0.30  \n",
       "3275          1.00  \n",
       "3822          1.00  \n",
       "2999          1.00  \n",
       "3279          1.00  \n",
       "4058          1.00  \n",
       "2293          0.78  \n",
       "705           0.90  \n",
       "3840          0.50  \n",
       "923           1.00  \n",
       "1750          0.90  \n",
       "1213          0.98  \n",
       "1989          0.97  \n",
       "158           0.75  \n",
       "2428          0.75  \n",
       "...            ...  \n",
       "2221          0.94  \n",
       "1741          0.62  \n",
       "1485          0.75  \n",
       "1424          0.75  \n",
       "1778          0.97  \n",
       "1723          0.68  \n",
       "24            1.00  \n",
       "2296          0.55  \n",
       "3938          0.94  \n",
       "1175          0.67  \n",
       "1671          0.75  \n",
       "719           0.42  \n",
       "4038          0.75  \n",
       "3581          0.57  \n",
       "1552          0.65  \n",
       "365           0.47  \n",
       "2094          0.67  \n",
       "2151          0.61  \n",
       "3480          0.57  \n",
       "909           0.71  \n",
       "4175          0.58  \n",
       "2034          0.57  \n",
       "1005          0.63  \n",
       "3904          0.47  \n",
       "2469          0.70  \n",
       "300           0.67  \n",
       "2972          0.71  \n",
       "3320          0.70  \n",
       "3408          0.42  \n",
       "1930          0.58  \n",
       "\n",
       "[425 rows x 3 columns]"
      ]
     },
     "execution_count": 38,
     "metadata": {},
     "output_type": "execute_result"
    }
   ],
   "source": [
    "top_df"
   ]
  },
  {
   "cell_type": "code",
   "execution_count": 39,
   "metadata": {
    "collapsed": false
   },
   "outputs": [
    {
     "name": "stdout",
     "output_type": "stream",
     "text": [
      "CPU times: user 2.26 s, sys: 140 ms, total: 2.4 s\n",
      "Wall time: 2.4 s\n"
     ]
    }
   ],
   "source": [
    "%%time\n",
    "\n",
    "top_text = ''\n",
    "for x in top_df['body']:\n",
    "    top_text += x + ' '\n",
    "\n",
    "top_list = [\n",
    "    w\n",
    "    for w in nltk.word_tokenize(top_text)\n",
    "    if w not in stopwords.words('english') and w not in string.punctuation\n",
    "]"
   ]
  },
  {
   "cell_type": "code",
   "execution_count": 40,
   "metadata": {
    "collapsed": true
   },
   "outputs": [],
   "source": [
    "top_counter = Counter(top_list)"
   ]
  },
  {
   "cell_type": "code",
   "execution_count": 41,
   "metadata": {
    "collapsed": false
   },
   "outputs": [
    {
     "data": {
      "text/plain": [
       "[('trek', 240),\n",
       " ('star', 238),\n",
       " (\"'s\", 182),\n",
       " ('``', 98),\n",
       " (\"n't\", 97),\n",
       " (\"''\", 96),\n",
       " ('like', 78),\n",
       " ('kirk', 72),\n",
       " ('would', 70),\n",
       " ('picard', 61),\n",
       " ('good', 61),\n",
       " ('one', 61),\n",
       " ('best', 58),\n",
       " ('great', 52),\n",
       " ('love', 49),\n",
       " ('think', 48),\n",
       " ('...', 47),\n",
       " ('spock', 43),\n",
       " ('series', 41),\n",
       " ('also', 37)]"
      ]
     },
     "execution_count": 41,
     "metadata": {},
     "output_type": "execute_result"
    }
   ],
   "source": [
    "top_counter.most_common(20)"
   ]
  },
  {
   "cell_type": "markdown",
   "metadata": {},
   "source": [
    "##### Histogram top negative"
   ]
  },
  {
   "cell_type": "code",
   "execution_count": 42,
   "metadata": {
    "collapsed": false
   },
   "outputs": [],
   "source": [
    "top_df = sentiment_df.sort_values('sentiment', ascending=True)[:len(subreddit_date_df) * P // 100]"
   ]
  },
  {
   "cell_type": "code",
   "execution_count": 43,
   "metadata": {
    "collapsed": false
   },
   "outputs": [
    {
     "data": {
      "text/html": [
       "<div>\n",
       "<table border=\"1\" class=\"dataframe\">\n",
       "  <thead>\n",
       "    <tr style=\"text-align: right;\">\n",
       "      <th></th>\n",
       "      <th>body</th>\n",
       "      <th>sentiment</th>\n",
       "      <th>subjectivity</th>\n",
       "    </tr>\n",
       "  </thead>\n",
       "  <tbody>\n",
       "    <tr>\n",
       "      <th>3512</th>\n",
       "      <td>christopher lloyd was the worst klingon ever.</td>\n",
       "      <td>-1.00</td>\n",
       "      <td>1.00</td>\n",
       "    </tr>\n",
       "    <tr>\n",
       "      <th>3699</th>\n",
       "      <td>&amp;gt;  that's literally the worst episode of st...</td>\n",
       "      <td>-1.00</td>\n",
       "      <td>1.00</td>\n",
       "    </tr>\n",
       "    <tr>\n",
       "      <th>369</th>\n",
       "      <td>i have to go with pulaski just because i found...</td>\n",
       "      <td>-1.00</td>\n",
       "      <td>1.00</td>\n",
       "    </tr>\n",
       "    <tr>\n",
       "      <th>800</th>\n",
       "      <td>but i'll go see it just so i can tell you how ...</td>\n",
       "      <td>-0.90</td>\n",
       "      <td>0.95</td>\n",
       "    </tr>\n",
       "    <tr>\n",
       "      <th>3912</th>\n",
       "      <td>wesley crusher was very annoying at times but ...</td>\n",
       "      <td>-0.90</td>\n",
       "      <td>0.95</td>\n",
       "    </tr>\n",
       "    <tr>\n",
       "      <th>83</th>\n",
       "      <td>i never thought i'd want to slap someone and b...</td>\n",
       "      <td>-0.90</td>\n",
       "      <td>0.95</td>\n",
       "    </tr>\n",
       "    <tr>\n",
       "      <th>395</th>\n",
       "      <td>correct, the worst of them all is ***cough*** ...</td>\n",
       "      <td>-0.85</td>\n",
       "      <td>0.83</td>\n",
       "    </tr>\n",
       "    <tr>\n",
       "      <th>1711</th>\n",
       "      <td>pulaski is a horrible character. and how did y...</td>\n",
       "      <td>-0.85</td>\n",
       "      <td>0.83</td>\n",
       "    </tr>\n",
       "    <tr>\n",
       "      <th>1822</th>\n",
       "      <td>i hate to break it to you but argue as you may...</td>\n",
       "      <td>-0.80</td>\n",
       "      <td>0.90</td>\n",
       "    </tr>\n",
       "    <tr>\n",
       "      <th>359</th>\n",
       "      <td>still too soon to tell, but it looks like star...</td>\n",
       "      <td>-0.80</td>\n",
       "      <td>1.00</td>\n",
       "    </tr>\n",
       "    <tr>\n",
       "      <th>1385</th>\n",
       "      <td>they are worthless in star trek: armada ii.</td>\n",
       "      <td>-0.80</td>\n",
       "      <td>0.90</td>\n",
       "    </tr>\n",
       "    <tr>\n",
       "      <th>3753</th>\n",
       "      <td>holy crap, you weren't kidding. that article h...</td>\n",
       "      <td>-0.80</td>\n",
       "      <td>0.80</td>\n",
       "    </tr>\n",
       "    <tr>\n",
       "      <th>966</th>\n",
       "      <td>i hate to admit it, but i kinda like the [tmp ...</td>\n",
       "      <td>-0.80</td>\n",
       "      <td>0.90</td>\n",
       "    </tr>\n",
       "    <tr>\n",
       "      <th>3448</th>\n",
       "      <td>i would expect the star fleet equivalent of ja...</td>\n",
       "      <td>-0.80</td>\n",
       "      <td>1.00</td>\n",
       "    </tr>\n",
       "    <tr>\n",
       "      <th>687</th>\n",
       "      <td>i hate to be \"that guy\", but at 0:46 seconds, ...</td>\n",
       "      <td>-0.80</td>\n",
       "      <td>0.90</td>\n",
       "    </tr>\n",
       "    <tr>\n",
       "      <th>2812</th>\n",
       "      <td>don't forget the part where scotty takes the b...</td>\n",
       "      <td>-0.80</td>\n",
       "      <td>0.76</td>\n",
       "    </tr>\n",
       "    <tr>\n",
       "      <th>1893</th>\n",
       "      <td>don't be mad 'cause i won star trek!</td>\n",
       "      <td>-0.78</td>\n",
       "      <td>1.00</td>\n",
       "    </tr>\n",
       "    <tr>\n",
       "      <th>3015</th>\n",
       "      <td>we do not have star trek on netflix in the uk. :(</td>\n",
       "      <td>-0.75</td>\n",
       "      <td>1.00</td>\n",
       "    </tr>\n",
       "    <tr>\n",
       "      <th>3617</th>\n",
       "      <td>i know i'm hungover, but i was really disappoi...</td>\n",
       "      <td>-0.75</td>\n",
       "      <td>0.75</td>\n",
       "    </tr>\n",
       "    <tr>\n",
       "      <th>1029</th>\n",
       "      <td>the story plots as follows: [villain] is disco...</td>\n",
       "      <td>-0.75</td>\n",
       "      <td>1.00</td>\n",
       "    </tr>\n",
       "    <tr>\n",
       "      <th>1240</th>\n",
       "      <td>he never said he didn't want to play spock. he...</td>\n",
       "      <td>-0.71</td>\n",
       "      <td>0.86</td>\n",
       "    </tr>\n",
       "    <tr>\n",
       "      <th>3402</th>\n",
       "      <td>yet kirk never raised his damn shields for som...</td>\n",
       "      <td>-0.70</td>\n",
       "      <td>0.95</td>\n",
       "    </tr>\n",
       "    <tr>\n",
       "      <th>3748</th>\n",
       "      <td>note the \"iss enterprise\" and the terran empir...</td>\n",
       "      <td>-0.70</td>\n",
       "      <td>0.80</td>\n",
       "    </tr>\n",
       "    <tr>\n",
       "      <th>1740</th>\n",
       "      <td>i never understood their costuming.  it is all...</td>\n",
       "      <td>-0.70</td>\n",
       "      <td>0.67</td>\n",
       "    </tr>\n",
       "    <tr>\n",
       "      <th>1223</th>\n",
       "      <td>spock would be a bad ass jedi</td>\n",
       "      <td>-0.70</td>\n",
       "      <td>0.67</td>\n",
       "    </tr>\n",
       "    <tr>\n",
       "      <th>4057</th>\n",
       "      <td>[this one?](http://starsmedia.ign.com/stars/im...</td>\n",
       "      <td>-0.70</td>\n",
       "      <td>0.67</td>\n",
       "    </tr>\n",
       "    <tr>\n",
       "      <th>672</th>\n",
       "      <td>all this arguing is just salt in my wounds :( ...</td>\n",
       "      <td>-0.70</td>\n",
       "      <td>0.84</td>\n",
       "    </tr>\n",
       "    <tr>\n",
       "      <th>3213</th>\n",
       "      <td>klingon transport vessels everywhere be afraid...</td>\n",
       "      <td>-0.69</td>\n",
       "      <td>0.95</td>\n",
       "    </tr>\n",
       "    <tr>\n",
       "      <th>2158</th>\n",
       "      <td>it was a wasted opportunity and it sucked. wha...</td>\n",
       "      <td>-0.67</td>\n",
       "      <td>0.60</td>\n",
       "    </tr>\n",
       "    <tr>\n",
       "      <th>3903</th>\n",
       "      <td>dr. pulaski.  hated how she treated data, hate...</td>\n",
       "      <td>-0.66</td>\n",
       "      <td>0.61</td>\n",
       "    </tr>\n",
       "    <tr>\n",
       "      <th>...</th>\n",
       "      <td>...</td>\n",
       "      <td>...</td>\n",
       "      <td>...</td>\n",
       "    </tr>\n",
       "    <tr>\n",
       "      <th>3559</th>\n",
       "      <td>this, yeah. i said elsewhere in this thread th...</td>\n",
       "      <td>-0.12</td>\n",
       "      <td>0.30</td>\n",
       "    </tr>\n",
       "    <tr>\n",
       "      <th>2211</th>\n",
       "      <td>this right here. it would be *terrible* for tr...</td>\n",
       "      <td>-0.12</td>\n",
       "      <td>0.62</td>\n",
       "    </tr>\n",
       "    <tr>\n",
       "      <th>3211</th>\n",
       "      <td>why is hoshi in front of tucker? she's a usele...</td>\n",
       "      <td>-0.12</td>\n",
       "      <td>0.53</td>\n",
       "    </tr>\n",
       "    <tr>\n",
       "      <th>1163</th>\n",
       "      <td>space has no up, nor a down. why is it that in...</td>\n",
       "      <td>-0.12</td>\n",
       "      <td>0.58</td>\n",
       "    </tr>\n",
       "    <tr>\n",
       "      <th>3546</th>\n",
       "      <td>that doesn't work, i don't think. the world's ...</td>\n",
       "      <td>-0.12</td>\n",
       "      <td>0.53</td>\n",
       "    </tr>\n",
       "    <tr>\n",
       "      <th>2997</th>\n",
       "      <td>not sure i'd be entirely ok with a frenchman i...</td>\n",
       "      <td>-0.12</td>\n",
       "      <td>0.80</td>\n",
       "    </tr>\n",
       "    <tr>\n",
       "      <th>1973</th>\n",
       "      <td>&amp;gt;top officers beaming down for dangerous mi...</td>\n",
       "      <td>-0.12</td>\n",
       "      <td>0.47</td>\n",
       "    </tr>\n",
       "    <tr>\n",
       "      <th>1881</th>\n",
       "      <td>it's a fake-out - they are months away from th...</td>\n",
       "      <td>-0.11</td>\n",
       "      <td>0.64</td>\n",
       "    </tr>\n",
       "    <tr>\n",
       "      <th>3952</th>\n",
       "      <td>the fact that the kelvin actually had some sor...</td>\n",
       "      <td>-0.11</td>\n",
       "      <td>0.37</td>\n",
       "    </tr>\n",
       "    <tr>\n",
       "      <th>3647</th>\n",
       "      <td>every time i watch the news i learn to hate hu...</td>\n",
       "      <td>-0.11</td>\n",
       "      <td>0.48</td>\n",
       "    </tr>\n",
       "    <tr>\n",
       "      <th>1948</th>\n",
       "      <td>if you would like to avoid \"knowing too much p...</td>\n",
       "      <td>-0.11</td>\n",
       "      <td>0.39</td>\n",
       "    </tr>\n",
       "    <tr>\n",
       "      <th>685</th>\n",
       "      <td>i was talking about the first movie. voyage ho...</td>\n",
       "      <td>-0.11</td>\n",
       "      <td>0.50</td>\n",
       "    </tr>\n",
       "    <tr>\n",
       "      <th>3876</th>\n",
       "      <td>starfleet ships can remotely take over other s...</td>\n",
       "      <td>-0.11</td>\n",
       "      <td>0.29</td>\n",
       "    </tr>\n",
       "    <tr>\n",
       "      <th>2242</th>\n",
       "      <td>actually, yes. time doesn't just correct itsel...</td>\n",
       "      <td>-0.11</td>\n",
       "      <td>0.27</td>\n",
       "    </tr>\n",
       "    <tr>\n",
       "      <th>3198</th>\n",
       "      <td>ultimately, probably, however in the interim t...</td>\n",
       "      <td>-0.11</td>\n",
       "      <td>0.72</td>\n",
       "    </tr>\n",
       "    <tr>\n",
       "      <th>645</th>\n",
       "      <td>i don't think they could of cast anyone better...</td>\n",
       "      <td>-0.11</td>\n",
       "      <td>0.72</td>\n",
       "    </tr>\n",
       "    <tr>\n",
       "      <th>878</th>\n",
       "      <td>it is not canon, but i think it is treated as ...</td>\n",
       "      <td>-0.11</td>\n",
       "      <td>0.62</td>\n",
       "    </tr>\n",
       "    <tr>\n",
       "      <th>641</th>\n",
       "      <td>large portions of starfleet are always wiped o...</td>\n",
       "      <td>-0.11</td>\n",
       "      <td>0.51</td>\n",
       "    </tr>\n",
       "    <tr>\n",
       "      <th>4083</th>\n",
       "      <td>roddenberry forced bill to shave!  for some re...</td>\n",
       "      <td>-0.11</td>\n",
       "      <td>0.44</td>\n",
       "    </tr>\n",
       "    <tr>\n",
       "      <th>2496</th>\n",
       "      <td>this could work but there are some things that...</td>\n",
       "      <td>-0.11</td>\n",
       "      <td>0.52</td>\n",
       "    </tr>\n",
       "    <tr>\n",
       "      <th>249</th>\n",
       "      <td>on a basic film level, it was pretty badly mad...</td>\n",
       "      <td>-0.11</td>\n",
       "      <td>0.64</td>\n",
       "    </tr>\n",
       "    <tr>\n",
       "      <th>2208</th>\n",
       "      <td>he was replaced though. they had the other one...</td>\n",
       "      <td>-0.11</td>\n",
       "      <td>0.26</td>\n",
       "    </tr>\n",
       "    <tr>\n",
       "      <th>2023</th>\n",
       "      <td>reading further on the subject, i see your poi...</td>\n",
       "      <td>-0.11</td>\n",
       "      <td>0.29</td>\n",
       "    </tr>\n",
       "    <tr>\n",
       "      <th>1810</th>\n",
       "      <td>regarding your rank issues, specifically tuvok...</td>\n",
       "      <td>-0.11</td>\n",
       "      <td>0.53</td>\n",
       "    </tr>\n",
       "    <tr>\n",
       "      <th>3998</th>\n",
       "      <td>space station 13. this is a great multiplayer ...</td>\n",
       "      <td>-0.11</td>\n",
       "      <td>0.44</td>\n",
       "    </tr>\n",
       "    <tr>\n",
       "      <th>2305</th>\n",
       "      <td>you'd think he would. -  - that's the big thin...</td>\n",
       "      <td>-0.11</td>\n",
       "      <td>0.42</td>\n",
       "    </tr>\n",
       "    <tr>\n",
       "      <th>3286</th>\n",
       "      <td>&amp;gt; should i go with the obvious and start wi...</td>\n",
       "      <td>-0.11</td>\n",
       "      <td>0.49</td>\n",
       "    </tr>\n",
       "    <tr>\n",
       "      <th>1173</th>\n",
       "      <td>this.  in american culture, if you believe in ...</td>\n",
       "      <td>-0.11</td>\n",
       "      <td>0.32</td>\n",
       "    </tr>\n",
       "    <tr>\n",
       "      <th>2049</th>\n",
       "      <td>i am not a star trek fan and have not heard th...</td>\n",
       "      <td>-0.10</td>\n",
       "      <td>0.47</td>\n",
       "    </tr>\n",
       "    <tr>\n",
       "      <th>576</th>\n",
       "      <td>klingons -  -  - basically, in the late 23rd c...</td>\n",
       "      <td>-0.10</td>\n",
       "      <td>0.52</td>\n",
       "    </tr>\n",
       "  </tbody>\n",
       "</table>\n",
       "<p>425 rows × 3 columns</p>\n",
       "</div>"
      ],
      "text/plain": [
       "                                                   body  sentiment  \\\n",
       "3512      christopher lloyd was the worst klingon ever.      -1.00   \n",
       "3699  &gt;  that's literally the worst episode of st...      -1.00   \n",
       "369   i have to go with pulaski just because i found...      -1.00   \n",
       "800   but i'll go see it just so i can tell you how ...      -0.90   \n",
       "3912  wesley crusher was very annoying at times but ...      -0.90   \n",
       "83    i never thought i'd want to slap someone and b...      -0.90   \n",
       "395   correct, the worst of them all is ***cough*** ...      -0.85   \n",
       "1711  pulaski is a horrible character. and how did y...      -0.85   \n",
       "1822  i hate to break it to you but argue as you may...      -0.80   \n",
       "359   still too soon to tell, but it looks like star...      -0.80   \n",
       "1385        they are worthless in star trek: armada ii.      -0.80   \n",
       "3753  holy crap, you weren't kidding. that article h...      -0.80   \n",
       "966   i hate to admit it, but i kinda like the [tmp ...      -0.80   \n",
       "3448  i would expect the star fleet equivalent of ja...      -0.80   \n",
       "687   i hate to be \"that guy\", but at 0:46 seconds, ...      -0.80   \n",
       "2812  don't forget the part where scotty takes the b...      -0.80   \n",
       "1893               don't be mad 'cause i won star trek!      -0.78   \n",
       "3015  we do not have star trek on netflix in the uk. :(      -0.75   \n",
       "3617  i know i'm hungover, but i was really disappoi...      -0.75   \n",
       "1029  the story plots as follows: [villain] is disco...      -0.75   \n",
       "1240  he never said he didn't want to play spock. he...      -0.71   \n",
       "3402  yet kirk never raised his damn shields for som...      -0.70   \n",
       "3748  note the \"iss enterprise\" and the terran empir...      -0.70   \n",
       "1740  i never understood their costuming.  it is all...      -0.70   \n",
       "1223                      spock would be a bad ass jedi      -0.70   \n",
       "4057  [this one?](http://starsmedia.ign.com/stars/im...      -0.70   \n",
       "672   all this arguing is just salt in my wounds :( ...      -0.70   \n",
       "3213  klingon transport vessels everywhere be afraid...      -0.69   \n",
       "2158  it was a wasted opportunity and it sucked. wha...      -0.67   \n",
       "3903  dr. pulaski.  hated how she treated data, hate...      -0.66   \n",
       "...                                                 ...        ...   \n",
       "3559  this, yeah. i said elsewhere in this thread th...      -0.12   \n",
       "2211  this right here. it would be *terrible* for tr...      -0.12   \n",
       "3211  why is hoshi in front of tucker? she's a usele...      -0.12   \n",
       "1163  space has no up, nor a down. why is it that in...      -0.12   \n",
       "3546  that doesn't work, i don't think. the world's ...      -0.12   \n",
       "2997  not sure i'd be entirely ok with a frenchman i...      -0.12   \n",
       "1973  &gt;top officers beaming down for dangerous mi...      -0.12   \n",
       "1881  it's a fake-out - they are months away from th...      -0.11   \n",
       "3952  the fact that the kelvin actually had some sor...      -0.11   \n",
       "3647  every time i watch the news i learn to hate hu...      -0.11   \n",
       "1948  if you would like to avoid \"knowing too much p...      -0.11   \n",
       "685   i was talking about the first movie. voyage ho...      -0.11   \n",
       "3876  starfleet ships can remotely take over other s...      -0.11   \n",
       "2242  actually, yes. time doesn't just correct itsel...      -0.11   \n",
       "3198  ultimately, probably, however in the interim t...      -0.11   \n",
       "645   i don't think they could of cast anyone better...      -0.11   \n",
       "878   it is not canon, but i think it is treated as ...      -0.11   \n",
       "641   large portions of starfleet are always wiped o...      -0.11   \n",
       "4083  roddenberry forced bill to shave!  for some re...      -0.11   \n",
       "2496  this could work but there are some things that...      -0.11   \n",
       "249   on a basic film level, it was pretty badly mad...      -0.11   \n",
       "2208  he was replaced though. they had the other one...      -0.11   \n",
       "2023  reading further on the subject, i see your poi...      -0.11   \n",
       "1810  regarding your rank issues, specifically tuvok...      -0.11   \n",
       "3998  space station 13. this is a great multiplayer ...      -0.11   \n",
       "2305  you'd think he would. -  - that's the big thin...      -0.11   \n",
       "3286  &gt; should i go with the obvious and start wi...      -0.11   \n",
       "1173  this.  in american culture, if you believe in ...      -0.11   \n",
       "2049  i am not a star trek fan and have not heard th...      -0.10   \n",
       "576   klingons -  -  - basically, in the late 23rd c...      -0.10   \n",
       "\n",
       "      subjectivity  \n",
       "3512          1.00  \n",
       "3699          1.00  \n",
       "369           1.00  \n",
       "800           0.95  \n",
       "3912          0.95  \n",
       "83            0.95  \n",
       "395           0.83  \n",
       "1711          0.83  \n",
       "1822          0.90  \n",
       "359           1.00  \n",
       "1385          0.90  \n",
       "3753          0.80  \n",
       "966           0.90  \n",
       "3448          1.00  \n",
       "687           0.90  \n",
       "2812          0.76  \n",
       "1893          1.00  \n",
       "3015          1.00  \n",
       "3617          0.75  \n",
       "1029          1.00  \n",
       "1240          0.86  \n",
       "3402          0.95  \n",
       "3748          0.80  \n",
       "1740          0.67  \n",
       "1223          0.67  \n",
       "4057          0.67  \n",
       "672           0.84  \n",
       "3213          0.95  \n",
       "2158          0.60  \n",
       "3903          0.61  \n",
       "...            ...  \n",
       "3559          0.30  \n",
       "2211          0.62  \n",
       "3211          0.53  \n",
       "1163          0.58  \n",
       "3546          0.53  \n",
       "2997          0.80  \n",
       "1973          0.47  \n",
       "1881          0.64  \n",
       "3952          0.37  \n",
       "3647          0.48  \n",
       "1948          0.39  \n",
       "685           0.50  \n",
       "3876          0.29  \n",
       "2242          0.27  \n",
       "3198          0.72  \n",
       "645           0.72  \n",
       "878           0.62  \n",
       "641           0.51  \n",
       "4083          0.44  \n",
       "2496          0.52  \n",
       "249           0.64  \n",
       "2208          0.26  \n",
       "2023          0.29  \n",
       "1810          0.53  \n",
       "3998          0.44  \n",
       "2305          0.42  \n",
       "3286          0.49  \n",
       "1173          0.32  \n",
       "2049          0.47  \n",
       "576           0.52  \n",
       "\n",
       "[425 rows x 3 columns]"
      ]
     },
     "execution_count": 43,
     "metadata": {},
     "output_type": "execute_result"
    }
   ],
   "source": [
    "top_df"
   ]
  },
  {
   "cell_type": "code",
   "execution_count": 44,
   "metadata": {
    "collapsed": false
   },
   "outputs": [
    {
     "name": "stdout",
     "output_type": "stream",
     "text": [
      "CPU times: user 2.82 s, sys: 172 ms, total: 2.99 s\n",
      "Wall time: 2.99 s\n"
     ]
    }
   ],
   "source": [
    "%%time\n",
    "\n",
    "top_text = ''\n",
    "for x in top_df['body']:\n",
    "    top_text += x + ' '\n",
    "\n",
    "top_list = [\n",
    "    w\n",
    "    for w in nltk.word_tokenize(top_text)\n",
    "    if w not in stopwords.words('english') and w not in string.punctuation\n",
    "]"
   ]
  },
  {
   "cell_type": "code",
   "execution_count": 45,
   "metadata": {
    "collapsed": true
   },
   "outputs": [],
   "source": [
    "top_counter = Counter(top_list)"
   ]
  },
  {
   "cell_type": "code",
   "execution_count": 46,
   "metadata": {
    "collapsed": false
   },
   "outputs": [
    {
     "data": {
      "text/plain": [
       "[('trek', 246),\n",
       " ('star', 240),\n",
       " (\"'s\", 232),\n",
       " (\"n't\", 147),\n",
       " ('``', 112),\n",
       " (\"''\", 108),\n",
       " ('kirk', 94),\n",
       " ('would', 77),\n",
       " ('like', 77),\n",
       " ('...', 72),\n",
       " ('spock', 57),\n",
       " ('one', 54),\n",
       " ('think', 48),\n",
       " ('even', 47),\n",
       " ('bad', 44),\n",
       " ('picard', 44),\n",
       " ('gt', 42),\n",
       " ('time', 39),\n",
       " ('http', 38),\n",
       " ('really', 36)]"
      ]
     },
     "execution_count": 46,
     "metadata": {},
     "output_type": "execute_result"
    }
   ],
   "source": [
    "top_counter.most_common(20)"
   ]
  },
  {
   "cell_type": "code",
   "execution_count": 47,
   "metadata": {
    "collapsed": false
   },
   "outputs": [
    {
     "data": {
      "text/plain": [
       "[Timestamp('2009-05-01 00:00:00'),\n",
       " Timestamp('2012-12-01 00:00:00'),\n",
       " Timestamp('2013-05-01 00:00:00'),\n",
       " Timestamp('2016-07-01 00:00:00')]"
      ]
     },
     "execution_count": 47,
     "metadata": {},
     "output_type": "execute_result"
    }
   ],
   "source": [
    "peaks"
   ]
  },
  {
   "cell_type": "markdown",
   "metadata": {},
   "source": [
    "#### 2013-05-01"
   ]
  },
  {
   "cell_type": "code",
   "execution_count": 48,
   "metadata": {
    "collapsed": true
   },
   "outputs": [],
   "source": [
    "date = '2013-05-01'"
   ]
  },
  {
   "cell_type": "code",
   "execution_count": 49,
   "metadata": {
    "collapsed": true
   },
   "outputs": [],
   "source": [
    "subreddit_date_df = subreddit_df[subreddit_df['month'] == date]"
   ]
  },
  {
   "cell_type": "code",
   "execution_count": 50,
   "metadata": {
    "collapsed": false
   },
   "outputs": [
    {
     "data": {
      "text/plain": [
       "6886"
      ]
     },
     "execution_count": 50,
     "metadata": {},
     "output_type": "execute_result"
    }
   ],
   "source": [
    "len(subreddit_date_df)"
   ]
  },
  {
   "cell_type": "markdown",
   "metadata": {},
   "source": [
    "#### Histogram"
   ]
  },
  {
   "cell_type": "markdown",
   "metadata": {},
   "source": [
    "###### Keywords"
   ]
  },
  {
   "cell_type": "code",
   "execution_count": 51,
   "metadata": {
    "collapsed": true
   },
   "outputs": [],
   "source": [
    "keywords_dict = {}\n",
    "for keyword in keywords:\n",
    "    keyword_df = subreddit_date_df[subreddit_date_df['body'].str.contains(keyword)]\n",
    "    count = keyword_df['body'].str.count(keyword).sum()\n",
    "    keywords_dict[keyword] = count"
   ]
  },
  {
   "cell_type": "code",
   "execution_count": 52,
   "metadata": {
    "collapsed": false
   },
   "outputs": [],
   "source": [
    "keywords_counter = Counter(keywords_dict)"
   ]
  },
  {
   "cell_type": "code",
   "execution_count": 53,
   "metadata": {
    "collapsed": false
   },
   "outputs": [
    {
     "data": {
      "text/plain": [
       "[('star trek', 4195),\n",
       " ('kirk', 2771),\n",
       " ('spock', 2389),\n",
       " ('klingon', 1212),\n",
       " ('picard', 751),\n",
       " ('vulcan', 573),\n",
       " ('scotty', 457),\n",
       " ('mccoy', 308),\n",
       " ('nero', 294),\n",
       " ('romulan', 260),\n",
       " ('uhura', 253),\n",
       " ('pike', 250),\n",
       " ('sulu', 188),\n",
       " ('prime directive', 179),\n",
       " ('star fleet', 100),\n",
       " ('crusher', 83),\n",
       " ('khaaa+n', 58),\n",
       " ('sarek', 26),\n",
       " ('kobayashi maru', 22),\n",
       " ('stardate', 20),\n",
       " ('live long and prosper', 20),\n",
       " ('chekhov', 18),\n",
       " ('orion', 17),\n",
       " ('llap', 16),\n",
       " ('resistance is futile', 13),\n",
       " ('nurse chapel', 12),\n",
       " (\"i'm a doctor,? not a\", 12),\n",
       " ('the needs of the many outweigh the needs of the few', 10),\n",
       " ('delta vega', 9),\n",
       " ('highly illogical', 7),\n",
       " ('starship enterprise', 6),\n",
       " ('vulcan salute', 5),\n",
       " ('nuclear wessels', 4),\n",
       " ('space,? the final frontier', 4),\n",
       " ('transporter beam', 4),\n",
       " ('beam me up,? scotty', 3),\n",
       " ('i have been and always shall be your friend', 2),\n",
       " ('to boldly go where no man has gone before', 2),\n",
       " ('set phasers to stun', 1),\n",
       " ('romulan narada', 1),\n",
       " ('without followers,? evil cannot spread', 0),\n",
       " (\"i'm giving her all she's got,? captain\", 0),\n",
       " ('when you eliminate the impossible,? whatever remains,? however improbable,? must be the truth',\n",
       "  0)]"
      ]
     },
     "execution_count": 53,
     "metadata": {},
     "output_type": "execute_result"
    }
   ],
   "source": [
    "keywords_counter.most_common()"
   ]
  },
  {
   "cell_type": "code",
   "execution_count": 54,
   "metadata": {
    "collapsed": true
   },
   "outputs": [],
   "source": [
    "keywords_sr = pd.Series(keywords_dict)"
   ]
  },
  {
   "cell_type": "code",
   "execution_count": 55,
   "metadata": {
    "collapsed": false
   },
   "outputs": [
    {
     "data": {
      "text/plain": [
       "<matplotlib.axes._subplots.AxesSubplot at 0x7f0f8613b470>"
      ]
     },
     "execution_count": 55,
     "metadata": {},
     "output_type": "execute_result"
    },
    {
     "data": {
      "image/png": "[encoded data removed]",
      "text/plain": [
       "<matplotlib.figure.Figure at 0x7f0fb90d8ba8>"
      ]
     },
     "metadata": {},
     "output_type": "display_data"
    }
   ],
   "source": [
    "keywords_sr.plot(\n",
    "    kind='bar',\n",
    "    figsize=(10, 5),\n",
    "    title='Keyword histogram on ' + date,\n",
    ")"
   ]
  },
  {
   "cell_type": "markdown",
   "metadata": {},
   "source": [
    "###### Other words"
   ]
  },
  {
   "cell_type": "code",
   "execution_count": 56,
   "metadata": {
    "collapsed": false
   },
   "outputs": [
    {
     "name": "stdout",
     "output_type": "stream",
     "text": [
      "CPU times: user 1min 30s, sys: 6.21 s, total: 1min 36s\n",
      "Wall time: 1min 42s\n"
     ]
    }
   ],
   "source": [
    "%%time\n",
    "\n",
    "text_ = ''\n",
    "for x in subreddit_date_df['body']:\n",
    "    text_ += x + ' '\n",
    "\n",
    "list_ = [\n",
    "    w\n",
    "    for w in nltk.word_tokenize(text_)\n",
    "    if w not in stopwords.words('english') and w not in string.punctuation\n",
    "]\n",
    "\n",
    "counter_ = Counter(list_)"
   ]
  },
  {
   "cell_type": "code",
   "execution_count": 57,
   "metadata": {
    "collapsed": false
   },
   "outputs": [
    {
     "data": {
      "text/plain": [
       "[(\"'s\", 6384),\n",
       " ('trek', 5068),\n",
       " (\"n't\", 4872),\n",
       " ('star', 4477),\n",
       " ('``', 2830),\n",
       " (\"''\", 2811),\n",
       " ('kirk', 2643),\n",
       " ('like', 2484),\n",
       " ('would', 2463),\n",
       " ('spock', 2243),\n",
       " ('movie', 2046),\n",
       " ('one', 1802),\n",
       " ('khan', 1679),\n",
       " ('think', 1569),\n",
       " ('new', 1481),\n",
       " ('...', 1379),\n",
       " ('really', 1367),\n",
       " ('could', 1216),\n",
       " ('first', 1147),\n",
       " ('time', 1127)]"
      ]
     },
     "execution_count": 57,
     "metadata": {},
     "output_type": "execute_result"
    }
   ],
   "source": [
    "counter_.most_common(20)"
   ]
  },
  {
   "cell_type": "markdown",
   "metadata": {},
   "source": [
    "#### Sentiment analysis"
   ]
  },
  {
   "cell_type": "markdown",
   "metadata": {},
   "source": [
    "- The polarity score is a float within the range [-1.0, 1.0].\n",
    "- The subjectivity is a float within the range [0.0, 1.0] where 0.0 is very objective and 1.0 is very subjective."
   ]
  },
  {
   "cell_type": "code",
   "execution_count": 58,
   "metadata": {
    "collapsed": false
   },
   "outputs": [
    {
     "name": "stdout",
     "output_type": "stream",
     "text": [
      "CPU times: user 12.8 s, sys: 1.02 s, total: 13.8 s\n",
      "Wall time: 2min 55s\n"
     ]
    }
   ],
   "source": [
    "%%time\n",
    "\n",
    "sentiment_list = []\n",
    "for x in subreddit_date_df['body']:\n",
    "    tb = TextBlob(x)\n",
    "    sentiment_list.append((x, tb.sentiment.polarity, tb.sentiment.subjectivity))"
   ]
  },
  {
   "cell_type": "code",
   "execution_count": 59,
   "metadata": {
    "collapsed": false
   },
   "outputs": [],
   "source": [
    "sentiment_df = pd.DataFrame(sentiment_list, columns=['body', 'sentiment', 'subjectivity'])"
   ]
  },
  {
   "cell_type": "code",
   "execution_count": 60,
   "metadata": {
    "collapsed": false
   },
   "outputs": [
    {
     "data": {
      "text/html": [
       "<div>\n",
       "<table border=\"1\" class=\"dataframe\">\n",
       "  <thead>\n",
       "    <tr style=\"text-align: right;\">\n",
       "      <th></th>\n",
       "      <th>body</th>\n",
       "      <th>sentiment</th>\n",
       "      <th>subjectivity</th>\n",
       "    </tr>\n",
       "  </thead>\n",
       "  <tbody>\n",
       "    <tr>\n",
       "      <th>0</th>\n",
       "      <td>holy moire, kirk!</td>\n",
       "      <td>0.00</td>\n",
       "      <td>0.00</td>\n",
       "    </tr>\n",
       "    <tr>\n",
       "      <th>1</th>\n",
       "      <td>abrams' movie is easily one of the best trek m...</td>\n",
       "      <td>0.61</td>\n",
       "      <td>0.61</td>\n",
       "    </tr>\n",
       "    <tr>\n",
       "      <th>2</th>\n",
       "      <td>guys guys guys, new star trek is good. old (tn...</td>\n",
       "      <td>0.21</td>\n",
       "      <td>0.30</td>\n",
       "    </tr>\n",
       "    <tr>\n",
       "      <th>3</th>\n",
       "      <td>eh, there's some good one-off ones. i really l...</td>\n",
       "      <td>0.40</td>\n",
       "      <td>0.61</td>\n",
       "    </tr>\n",
       "    <tr>\n",
       "      <th>4</th>\n",
       "      <td>i don't think he's \"overacting\", at least as f...</td>\n",
       "      <td>-0.02</td>\n",
       "      <td>0.48</td>\n",
       "    </tr>\n",
       "  </tbody>\n",
       "</table>\n",
       "</div>"
      ],
      "text/plain": [
       "                                                body  sentiment  subjectivity\n",
       "0                                  holy moire, kirk!       0.00          0.00\n",
       "1  abrams' movie is easily one of the best trek m...       0.61          0.61\n",
       "2  guys guys guys, new star trek is good. old (tn...       0.21          0.30\n",
       "3  eh, there's some good one-off ones. i really l...       0.40          0.61\n",
       "4  i don't think he's \"overacting\", at least as f...      -0.02          0.48"
      ]
     },
     "execution_count": 60,
     "metadata": {},
     "output_type": "execute_result"
    }
   ],
   "source": [
    "sentiment_df.head()"
   ]
  },
  {
   "cell_type": "code",
   "execution_count": 61,
   "metadata": {
    "collapsed": false
   },
   "outputs": [
    {
     "data": {
      "text/plain": [
       "0.11140917678554957"
      ]
     },
     "execution_count": 61,
     "metadata": {},
     "output_type": "execute_result"
    }
   ],
   "source": [
    "sentiment_df['sentiment'].mean()"
   ]
  },
  {
   "cell_type": "code",
   "execution_count": 62,
   "metadata": {
    "collapsed": false
   },
   "outputs": [
    {
     "data": {
      "text/plain": [
       "0.46197876374164276"
      ]
     },
     "execution_count": 62,
     "metadata": {},
     "output_type": "execute_result"
    }
   ],
   "source": [
    "sentiment_df['subjectivity'].mean()"
   ]
  },
  {
   "cell_type": "markdown",
   "metadata": {},
   "source": [
    "##### Histogram top positive"
   ]
  },
  {
   "cell_type": "code",
   "execution_count": 63,
   "metadata": {
    "collapsed": false
   },
   "outputs": [],
   "source": [
    "top_df = sentiment_df.sort_values('sentiment', ascending=False)[:len(subreddit_date_df) * P // 100]"
   ]
  },
  {
   "cell_type": "code",
   "execution_count": 64,
   "metadata": {
    "collapsed": false
   },
   "outputs": [
    {
     "data": {
      "text/html": [
       "<div>\n",
       "<table border=\"1\" class=\"dataframe\">\n",
       "  <thead>\n",
       "    <tr style=\"text-align: right;\">\n",
       "      <th></th>\n",
       "      <th>body</th>\n",
       "      <th>sentiment</th>\n",
       "      <th>subjectivity</th>\n",
       "    </tr>\n",
       "  </thead>\n",
       "  <tbody>\n",
       "    <tr>\n",
       "      <th>5585</th>\n",
       "      <td>that's awesome. beginning interior shot is at ...</td>\n",
       "      <td>1.00</td>\n",
       "      <td>1.00</td>\n",
       "    </tr>\n",
       "    <tr>\n",
       "      <th>4786</th>\n",
       "      <td>kirks face when he realizes its not spock is p...</td>\n",
       "      <td>1.00</td>\n",
       "      <td>1.00</td>\n",
       "    </tr>\n",
       "    <tr>\n",
       "      <th>478</th>\n",
       "      <td>you will make an excellent wife. resistance is...</td>\n",
       "      <td>1.00</td>\n",
       "      <td>1.00</td>\n",
       "    </tr>\n",
       "    <tr>\n",
       "      <th>6231</th>\n",
       "      <td>q. his interactions with picard and sisko are ...</td>\n",
       "      <td>1.00</td>\n",
       "      <td>1.00</td>\n",
       "    </tr>\n",
       "    <tr>\n",
       "      <th>2416</th>\n",
       "      <td>lol i didn't notice that! -  - did they die on...</td>\n",
       "      <td>1.00</td>\n",
       "      <td>0.70</td>\n",
       "    </tr>\n",
       "    <tr>\n",
       "      <th>505</th>\n",
       "      <td>ah, one of the best star trek movies!</td>\n",
       "      <td>1.00</td>\n",
       "      <td>0.30</td>\n",
       "    </tr>\n",
       "    <tr>\n",
       "      <th>1088</th>\n",
       "      <td>star trek/bill &amp;amp; ted's crossover. shitty f...</td>\n",
       "      <td>1.00</td>\n",
       "      <td>0.30</td>\n",
       "    </tr>\n",
       "    <tr>\n",
       "      <th>509</th>\n",
       "      <td>both times picard gave awesome courtroom speec...</td>\n",
       "      <td>1.00</td>\n",
       "      <td>1.00</td>\n",
       "    </tr>\n",
       "    <tr>\n",
       "      <th>4987</th>\n",
       "      <td>this would be awesome if it said \"picard and d...</td>\n",
       "      <td>1.00</td>\n",
       "      <td>1.00</td>\n",
       "    </tr>\n",
       "    <tr>\n",
       "      <th>2681</th>\n",
       "      <td>best star trek movie yet</td>\n",
       "      <td>1.00</td>\n",
       "      <td>0.30</td>\n",
       "    </tr>\n",
       "    <tr>\n",
       "      <th>1579</th>\n",
       "      <td>oh man, i remember when i went there for a con...</td>\n",
       "      <td>1.00</td>\n",
       "      <td>1.00</td>\n",
       "    </tr>\n",
       "    <tr>\n",
       "      <th>1031</th>\n",
       "      <td>tng will always be the best star trek.</td>\n",
       "      <td>1.00</td>\n",
       "      <td>0.30</td>\n",
       "    </tr>\n",
       "    <tr>\n",
       "      <th>5118</th>\n",
       "      <td>cpt. kirk is a galaxy class fighter. you misse...</td>\n",
       "      <td>1.00</td>\n",
       "      <td>0.30</td>\n",
       "    </tr>\n",
       "    <tr>\n",
       "      <th>602</th>\n",
       "      <td>star trek v was the best of them all. literall...</td>\n",
       "      <td>1.00</td>\n",
       "      <td>0.30</td>\n",
       "    </tr>\n",
       "    <tr>\n",
       "      <th>1019</th>\n",
       "      <td>i believe he said \"i think everyone here can a...</td>\n",
       "      <td>1.00</td>\n",
       "      <td>0.30</td>\n",
       "    </tr>\n",
       "    <tr>\n",
       "      <th>6347</th>\n",
       "      <td>she still won't post it herself... but here it...</td>\n",
       "      <td>1.00</td>\n",
       "      <td>1.00</td>\n",
       "    </tr>\n",
       "    <tr>\n",
       "      <th>2595</th>\n",
       "      <td>it was jj saying: \"ooo, what if *spock* yells ...</td>\n",
       "      <td>1.00</td>\n",
       "      <td>1.00</td>\n",
       "    </tr>\n",
       "    <tr>\n",
       "      <th>5942</th>\n",
       "      <td>it makes perfect sense to me to stay away from...</td>\n",
       "      <td>1.00</td>\n",
       "      <td>1.00</td>\n",
       "    </tr>\n",
       "    <tr>\n",
       "      <th>4032</th>\n",
       "      <td>well, they are the greatest enemy of the kling...</td>\n",
       "      <td>1.00</td>\n",
       "      <td>1.00</td>\n",
       "    </tr>\n",
       "    <tr>\n",
       "      <th>5666</th>\n",
       "      <td>perhaps i am spoiled by the pitch perfect prod...</td>\n",
       "      <td>1.00</td>\n",
       "      <td>1.00</td>\n",
       "    </tr>\n",
       "    <tr>\n",
       "      <th>2617</th>\n",
       "      <td>incidentally, wok is the best star trek movie,...</td>\n",
       "      <td>1.00</td>\n",
       "      <td>0.30</td>\n",
       "    </tr>\n",
       "    <tr>\n",
       "      <th>51</th>\n",
       "      <td>yeah but picard does it best!</td>\n",
       "      <td>1.00</td>\n",
       "      <td>0.30</td>\n",
       "    </tr>\n",
       "    <tr>\n",
       "      <th>563</th>\n",
       "      <td>sir patrick stewart would be perfect! he looks...</td>\n",
       "      <td>1.00</td>\n",
       "      <td>1.00</td>\n",
       "    </tr>\n",
       "    <tr>\n",
       "      <th>1135</th>\n",
       "      <td>it was also wonderful to see spock's reaction ...</td>\n",
       "      <td>1.00</td>\n",
       "      <td>1.00</td>\n",
       "    </tr>\n",
       "    <tr>\n",
       "      <th>464</th>\n",
       "      <td>there are awesome star trek posts all over thi...</td>\n",
       "      <td>1.00</td>\n",
       "      <td>1.00</td>\n",
       "    </tr>\n",
       "    <tr>\n",
       "      <th>5428</th>\n",
       "      <td>show fandoms. star trek is awesome but i would...</td>\n",
       "      <td>1.00</td>\n",
       "      <td>1.00</td>\n",
       "    </tr>\n",
       "    <tr>\n",
       "      <th>1352</th>\n",
       "      <td>that bandana is not regulation, mister. -  - i...</td>\n",
       "      <td>1.00</td>\n",
       "      <td>0.30</td>\n",
       "    </tr>\n",
       "    <tr>\n",
       "      <th>5658</th>\n",
       "      <td>they're all $9.99 at best buy.  i just waited ...</td>\n",
       "      <td>1.00</td>\n",
       "      <td>0.30</td>\n",
       "    </tr>\n",
       "    <tr>\n",
       "      <th>1975</th>\n",
       "      <td>you are correct. that is the depth of their th...</td>\n",
       "      <td>1.00</td>\n",
       "      <td>0.30</td>\n",
       "    </tr>\n",
       "    <tr>\n",
       "      <th>267</th>\n",
       "      <td>yeah captain kirk fighting the gorn pointed th...</td>\n",
       "      <td>1.00</td>\n",
       "      <td>1.00</td>\n",
       "    </tr>\n",
       "    <tr>\n",
       "      <th>...</th>\n",
       "      <td>...</td>\n",
       "      <td>...</td>\n",
       "      <td>...</td>\n",
       "    </tr>\n",
       "    <tr>\n",
       "      <th>5457</th>\n",
       "      <td>yes, khan was awakened, but not by mccoy.  mcc...</td>\n",
       "      <td>0.38</td>\n",
       "      <td>0.75</td>\n",
       "    </tr>\n",
       "    <tr>\n",
       "      <th>1251</th>\n",
       "      <td>pretty sure this is why spock's mom died.</td>\n",
       "      <td>0.38</td>\n",
       "      <td>0.94</td>\n",
       "    </tr>\n",
       "    <tr>\n",
       "      <th>4001</th>\n",
       "      <td>well, scotty did mention admiral archer's pet ...</td>\n",
       "      <td>0.38</td>\n",
       "      <td>0.67</td>\n",
       "    </tr>\n",
       "    <tr>\n",
       "      <th>1994</th>\n",
       "      <td>now we all want to see star trek in a theater ...</td>\n",
       "      <td>0.38</td>\n",
       "      <td>0.75</td>\n",
       "    </tr>\n",
       "    <tr>\n",
       "      <th>6648</th>\n",
       "      <td>i know! one vulcan pinch and hes down. but as ...</td>\n",
       "      <td>0.37</td>\n",
       "      <td>0.55</td>\n",
       "    </tr>\n",
       "    <tr>\n",
       "      <th>450</th>\n",
       "      <td>i agree - i think it's a great star trek movie...</td>\n",
       "      <td>0.37</td>\n",
       "      <td>0.65</td>\n",
       "    </tr>\n",
       "    <tr>\n",
       "      <th>6335</th>\n",
       "      <td>if you enjoyed *star trek (2009)* and *into da...</td>\n",
       "      <td>0.37</td>\n",
       "      <td>0.44</td>\n",
       "    </tr>\n",
       "    <tr>\n",
       "      <th>3742</th>\n",
       "      <td>they weren't supposed to save that planet, tha...</td>\n",
       "      <td>0.37</td>\n",
       "      <td>0.58</td>\n",
       "    </tr>\n",
       "    <tr>\n",
       "      <th>3678</th>\n",
       "      <td>i'm hoping that given that star trek kinda a b...</td>\n",
       "      <td>0.37</td>\n",
       "      <td>0.61</td>\n",
       "    </tr>\n",
       "    <tr>\n",
       "      <th>1953</th>\n",
       "      <td>sure, that'll work! either that, or a pryotech...</td>\n",
       "      <td>0.37</td>\n",
       "      <td>0.53</td>\n",
       "    </tr>\n",
       "    <tr>\n",
       "      <th>4833</th>\n",
       "      <td>yessss!  i also liked how there was two villia...</td>\n",
       "      <td>0.37</td>\n",
       "      <td>0.51</td>\n",
       "    </tr>\n",
       "    <tr>\n",
       "      <th>5219</th>\n",
       "      <td>\"there’s a lot to outrage one’s intelligence i...</td>\n",
       "      <td>0.37</td>\n",
       "      <td>0.80</td>\n",
       "    </tr>\n",
       "    <tr>\n",
       "      <th>255</th>\n",
       "      <td>absolutely not -- picard at his best.  the ide...</td>\n",
       "      <td>0.37</td>\n",
       "      <td>0.64</td>\n",
       "    </tr>\n",
       "    <tr>\n",
       "      <th>2325</th>\n",
       "      <td>he didn't have the opportunity before, and i t...</td>\n",
       "      <td>0.37</td>\n",
       "      <td>0.68</td>\n",
       "    </tr>\n",
       "    <tr>\n",
       "      <th>3630</th>\n",
       "      <td>have to agree except i think chris doohan did ...</td>\n",
       "      <td>0.37</td>\n",
       "      <td>0.55</td>\n",
       "    </tr>\n",
       "    <tr>\n",
       "      <th>3442</th>\n",
       "      <td>i was at one point hoping that khan in this mo...</td>\n",
       "      <td>0.37</td>\n",
       "      <td>0.72</td>\n",
       "    </tr>\n",
       "    <tr>\n",
       "      <th>6325</th>\n",
       "      <td>you've got kirk free soloing el cap and spock ...</td>\n",
       "      <td>0.37</td>\n",
       "      <td>0.50</td>\n",
       "    </tr>\n",
       "    <tr>\n",
       "      <th>4477</th>\n",
       "      <td>i'm 18 now, so i'm young and only just started...</td>\n",
       "      <td>0.37</td>\n",
       "      <td>0.66</td>\n",
       "    </tr>\n",
       "    <tr>\n",
       "      <th>5044</th>\n",
       "      <td>i disagree on the part of the film not being a...</td>\n",
       "      <td>0.37</td>\n",
       "      <td>0.58</td>\n",
       "    </tr>\n",
       "    <tr>\n",
       "      <th>4627</th>\n",
       "      <td>&amp;gt; i think it's an interesting point you mak...</td>\n",
       "      <td>0.37</td>\n",
       "      <td>0.70</td>\n",
       "    </tr>\n",
       "    <tr>\n",
       "      <th>3379</th>\n",
       "      <td>i would like to see splinter group of andorian...</td>\n",
       "      <td>0.37</td>\n",
       "      <td>0.57</td>\n",
       "    </tr>\n",
       "    <tr>\n",
       "      <th>6784</th>\n",
       "      <td>in the beginning she was there for eye candy. ...</td>\n",
       "      <td>0.37</td>\n",
       "      <td>0.60</td>\n",
       "    </tr>\n",
       "    <tr>\n",
       "      <th>2038</th>\n",
       "      <td>yeah, i was surprised he didn't include that o...</td>\n",
       "      <td>0.37</td>\n",
       "      <td>0.86</td>\n",
       "    </tr>\n",
       "    <tr>\n",
       "      <th>5694</th>\n",
       "      <td>haha, yeah, cause free love hippies ran the br...</td>\n",
       "      <td>0.37</td>\n",
       "      <td>0.57</td>\n",
       "    </tr>\n",
       "    <tr>\n",
       "      <th>3520</th>\n",
       "      <td>&amp;gt; massive improvement in the dialog departm...</td>\n",
       "      <td>0.37</td>\n",
       "      <td>0.57</td>\n",
       "    </tr>\n",
       "    <tr>\n",
       "      <th>4795</th>\n",
       "      <td>wrath of khan is a good place to start, but as...</td>\n",
       "      <td>0.37</td>\n",
       "      <td>0.53</td>\n",
       "    </tr>\n",
       "    <tr>\n",
       "      <th>414</th>\n",
       "      <td>those are all amazing.  i love the search for ...</td>\n",
       "      <td>0.37</td>\n",
       "      <td>0.83</td>\n",
       "    </tr>\n",
       "    <tr>\n",
       "      <th>3440</th>\n",
       "      <td>i really enjoyed the movie, as a captian, kirk...</td>\n",
       "      <td>0.37</td>\n",
       "      <td>0.62</td>\n",
       "    </tr>\n",
       "    <tr>\n",
       "      <th>5575</th>\n",
       "      <td>wow, that was pretty great! -  - they did some...</td>\n",
       "      <td>0.37</td>\n",
       "      <td>0.60</td>\n",
       "    </tr>\n",
       "    <tr>\n",
       "      <th>3976</th>\n",
       "      <td>i'm a relatively new star trek fan, but i love...</td>\n",
       "      <td>0.37</td>\n",
       "      <td>0.61</td>\n",
       "    </tr>\n",
       "  </tbody>\n",
       "</table>\n",
       "<p>688 rows × 3 columns</p>\n",
       "</div>"
      ],
      "text/plain": [
       "                                                   body  sentiment  \\\n",
       "5585  that's awesome. beginning interior shot is at ...       1.00   \n",
       "4786  kirks face when he realizes its not spock is p...       1.00   \n",
       "478   you will make an excellent wife. resistance is...       1.00   \n",
       "6231  q. his interactions with picard and sisko are ...       1.00   \n",
       "2416  lol i didn't notice that! -  - did they die on...       1.00   \n",
       "505               ah, one of the best star trek movies!       1.00   \n",
       "1088  star trek/bill &amp; ted's crossover. shitty f...       1.00   \n",
       "509   both times picard gave awesome courtroom speec...       1.00   \n",
       "4987  this would be awesome if it said \"picard and d...       1.00   \n",
       "2681                           best star trek movie yet       1.00   \n",
       "1579  oh man, i remember when i went there for a con...       1.00   \n",
       "1031             tng will always be the best star trek.       1.00   \n",
       "5118  cpt. kirk is a galaxy class fighter. you misse...       1.00   \n",
       "602   star trek v was the best of them all. literall...       1.00   \n",
       "1019  i believe he said \"i think everyone here can a...       1.00   \n",
       "6347  she still won't post it herself... but here it...       1.00   \n",
       "2595  it was jj saying: \"ooo, what if *spock* yells ...       1.00   \n",
       "5942  it makes perfect sense to me to stay away from...       1.00   \n",
       "4032  well, they are the greatest enemy of the kling...       1.00   \n",
       "5666  perhaps i am spoiled by the pitch perfect prod...       1.00   \n",
       "2617  incidentally, wok is the best star trek movie,...       1.00   \n",
       "51                        yeah but picard does it best!       1.00   \n",
       "563   sir patrick stewart would be perfect! he looks...       1.00   \n",
       "1135  it was also wonderful to see spock's reaction ...       1.00   \n",
       "464   there are awesome star trek posts all over thi...       1.00   \n",
       "5428  show fandoms. star trek is awesome but i would...       1.00   \n",
       "1352  that bandana is not regulation, mister. -  - i...       1.00   \n",
       "5658  they're all $9.99 at best buy.  i just waited ...       1.00   \n",
       "1975  you are correct. that is the depth of their th...       1.00   \n",
       "267   yeah captain kirk fighting the gorn pointed th...       1.00   \n",
       "...                                                 ...        ...   \n",
       "5457  yes, khan was awakened, but not by mccoy.  mcc...       0.38   \n",
       "1251          pretty sure this is why spock's mom died.       0.38   \n",
       "4001  well, scotty did mention admiral archer's pet ...       0.38   \n",
       "1994  now we all want to see star trek in a theater ...       0.38   \n",
       "6648  i know! one vulcan pinch and hes down. but as ...       0.37   \n",
       "450   i agree - i think it's a great star trek movie...       0.37   \n",
       "6335  if you enjoyed *star trek (2009)* and *into da...       0.37   \n",
       "3742  they weren't supposed to save that planet, tha...       0.37   \n",
       "3678  i'm hoping that given that star trek kinda a b...       0.37   \n",
       "1953  sure, that'll work! either that, or a pryotech...       0.37   \n",
       "4833  yessss!  i also liked how there was two villia...       0.37   \n",
       "5219  \"there’s a lot to outrage one’s intelligence i...       0.37   \n",
       "255   absolutely not -- picard at his best.  the ide...       0.37   \n",
       "2325  he didn't have the opportunity before, and i t...       0.37   \n",
       "3630  have to agree except i think chris doohan did ...       0.37   \n",
       "3442  i was at one point hoping that khan in this mo...       0.37   \n",
       "6325  you've got kirk free soloing el cap and spock ...       0.37   \n",
       "4477  i'm 18 now, so i'm young and only just started...       0.37   \n",
       "5044  i disagree on the part of the film not being a...       0.37   \n",
       "4627  &gt; i think it's an interesting point you mak...       0.37   \n",
       "3379  i would like to see splinter group of andorian...       0.37   \n",
       "6784  in the beginning she was there for eye candy. ...       0.37   \n",
       "2038  yeah, i was surprised he didn't include that o...       0.37   \n",
       "5694  haha, yeah, cause free love hippies ran the br...       0.37   \n",
       "3520  &gt; massive improvement in the dialog departm...       0.37   \n",
       "4795  wrath of khan is a good place to start, but as...       0.37   \n",
       "414   those are all amazing.  i love the search for ...       0.37   \n",
       "3440  i really enjoyed the movie, as a captian, kirk...       0.37   \n",
       "5575  wow, that was pretty great! -  - they did some...       0.37   \n",
       "3976  i'm a relatively new star trek fan, but i love...       0.37   \n",
       "\n",
       "      subjectivity  \n",
       "5585          1.00  \n",
       "4786          1.00  \n",
       "478           1.00  \n",
       "6231          1.00  \n",
       "2416          0.70  \n",
       "505           0.30  \n",
       "1088          0.30  \n",
       "509           1.00  \n",
       "4987          1.00  \n",
       "2681          0.30  \n",
       "1579          1.00  \n",
       "1031          0.30  \n",
       "5118          0.30  \n",
       "602           0.30  \n",
       "1019          0.30  \n",
       "6347          1.00  \n",
       "2595          1.00  \n",
       "5942          1.00  \n",
       "4032          1.00  \n",
       "5666          1.00  \n",
       "2617          0.30  \n",
       "51            0.30  \n",
       "563           1.00  \n",
       "1135          1.00  \n",
       "464           1.00  \n",
       "5428          1.00  \n",
       "1352          0.30  \n",
       "5658          0.30  \n",
       "1975          0.30  \n",
       "267           1.00  \n",
       "...            ...  \n",
       "5457          0.75  \n",
       "1251          0.94  \n",
       "4001          0.67  \n",
       "1994          0.75  \n",
       "6648          0.55  \n",
       "450           0.65  \n",
       "6335          0.44  \n",
       "3742          0.58  \n",
       "3678          0.61  \n",
       "1953          0.53  \n",
       "4833          0.51  \n",
       "5219          0.80  \n",
       "255           0.64  \n",
       "2325          0.68  \n",
       "3630          0.55  \n",
       "3442          0.72  \n",
       "6325          0.50  \n",
       "4477          0.66  \n",
       "5044          0.58  \n",
       "4627          0.70  \n",
       "3379          0.57  \n",
       "6784          0.60  \n",
       "2038          0.86  \n",
       "5694          0.57  \n",
       "3520          0.57  \n",
       "4795          0.53  \n",
       "414           0.83  \n",
       "3440          0.62  \n",
       "5575          0.60  \n",
       "3976          0.61  \n",
       "\n",
       "[688 rows x 3 columns]"
      ]
     },
     "execution_count": 64,
     "metadata": {},
     "output_type": "execute_result"
    }
   ],
   "source": [
    "top_df"
   ]
  },
  {
   "cell_type": "code",
   "execution_count": 65,
   "metadata": {
    "collapsed": false
   },
   "outputs": [
    {
     "name": "stdout",
     "output_type": "stream",
     "text": [
      "CPU times: user 3.96 s, sys: 272 ms, total: 4.23 s\n",
      "Wall time: 6.74 s\n"
     ]
    }
   ],
   "source": [
    "%%time\n",
    "\n",
    "top_text = ''\n",
    "for x in top_df['body']:\n",
    "    top_text += x + ' '\n",
    "\n",
    "top_list = [\n",
    "    w\n",
    "    for w in nltk.word_tokenize(top_text)\n",
    "    if w not in stopwords.words('english') and w not in string.punctuation\n",
    "]"
   ]
  },
  {
   "cell_type": "code",
   "execution_count": 66,
   "metadata": {
    "collapsed": true
   },
   "outputs": [],
   "source": [
    "top_counter = Counter(top_list)"
   ]
  },
  {
   "cell_type": "code",
   "execution_count": 67,
   "metadata": {
    "collapsed": false
   },
   "outputs": [
    {
     "data": {
      "text/plain": [
       "[('trek', 388),\n",
       " ('star', 359),\n",
       " (\"'s\", 270),\n",
       " (\"n't\", 243),\n",
       " ('kirk', 152),\n",
       " (\"''\", 145),\n",
       " ('``', 142),\n",
       " ('would', 134),\n",
       " ('like', 130),\n",
       " ('spock', 114),\n",
       " ('one', 106),\n",
       " ('movie', 104),\n",
       " ('great', 101),\n",
       " ('...', 98),\n",
       " ('good', 94),\n",
       " ('best', 93),\n",
       " ('think', 88),\n",
       " ('love', 81),\n",
       " ('khan', 70),\n",
       " ('picard', 68)]"
      ]
     },
     "execution_count": 67,
     "metadata": {},
     "output_type": "execute_result"
    }
   ],
   "source": [
    "top_counter.most_common(20)"
   ]
  },
  {
   "cell_type": "markdown",
   "metadata": {},
   "source": [
    "##### Histogram top negative"
   ]
  },
  {
   "cell_type": "code",
   "execution_count": 68,
   "metadata": {
    "collapsed": false
   },
   "outputs": [],
   "source": [
    "top_df = sentiment_df.sort_values('sentiment', ascending=True)[:len(subreddit_date_df) * P // 100]"
   ]
  },
  {
   "cell_type": "code",
   "execution_count": 69,
   "metadata": {
    "collapsed": false
   },
   "outputs": [
    {
     "data": {
      "text/html": [
       "<div>\n",
       "<table border=\"1\" class=\"dataframe\">\n",
       "  <thead>\n",
       "    <tr style=\"text-align: right;\">\n",
       "      <th></th>\n",
       "      <th>body</th>\n",
       "      <th>sentiment</th>\n",
       "      <th>subjectivity</th>\n",
       "    </tr>\n",
       "  </thead>\n",
       "  <tbody>\n",
       "    <tr>\n",
       "      <th>3207</th>\n",
       "      <td>i didn't like star trek as a kid either. now h...</td>\n",
       "      <td>-1.00</td>\n",
       "      <td>1.00</td>\n",
       "    </tr>\n",
       "    <tr>\n",
       "      <th>304</th>\n",
       "      <td>picard at his worst might be every tng movie</td>\n",
       "      <td>-1.00</td>\n",
       "      <td>1.00</td>\n",
       "    </tr>\n",
       "    <tr>\n",
       "      <th>1678</th>\n",
       "      <td>nero truly is an evil man.</td>\n",
       "      <td>-1.00</td>\n",
       "      <td>1.00</td>\n",
       "    </tr>\n",
       "    <tr>\n",
       "      <th>4187</th>\n",
       "      <td>i heard that cumberbatch was an evil dimension...</td>\n",
       "      <td>-1.00</td>\n",
       "      <td>1.00</td>\n",
       "    </tr>\n",
       "    <tr>\n",
       "      <th>3312</th>\n",
       "      <td>camp spock was a terrible casting decision.</td>\n",
       "      <td>-1.00</td>\n",
       "      <td>1.00</td>\n",
       "    </tr>\n",
       "    <tr>\n",
       "      <th>4706</th>\n",
       "      <td>i'm not talking about firefly, i'm talking abo...</td>\n",
       "      <td>-1.00</td>\n",
       "      <td>1.00</td>\n",
       "    </tr>\n",
       "    <tr>\n",
       "      <th>6655</th>\n",
       "      <td>i like pine's eyebrows. i like quinto's eyebro...</td>\n",
       "      <td>-1.00</td>\n",
       "      <td>1.00</td>\n",
       "    </tr>\n",
       "    <tr>\n",
       "      <th>2701</th>\n",
       "      <td>i would've hated to have been on the internet ...</td>\n",
       "      <td>-0.90</td>\n",
       "      <td>0.70</td>\n",
       "    </tr>\n",
       "    <tr>\n",
       "      <th>5963</th>\n",
       "      <td>and the spock tears. i fucking hated that.</td>\n",
       "      <td>-0.90</td>\n",
       "      <td>0.70</td>\n",
       "    </tr>\n",
       "    <tr>\n",
       "      <th>1089</th>\n",
       "      <td>are you insane?? he was awful. this film was a...</td>\n",
       "      <td>-0.80</td>\n",
       "      <td>0.75</td>\n",
       "    </tr>\n",
       "    <tr>\n",
       "      <th>973</th>\n",
       "      <td>can you link me an instance where abrams has s...</td>\n",
       "      <td>-0.80</td>\n",
       "      <td>0.90</td>\n",
       "    </tr>\n",
       "    <tr>\n",
       "      <th>760</th>\n",
       "      <td>i know how picard feels, i too hate it when sh...</td>\n",
       "      <td>-0.80</td>\n",
       "      <td>0.90</td>\n",
       "    </tr>\n",
       "    <tr>\n",
       "      <th>390</th>\n",
       "      <td>it's the picard maneuver within the fan base. ...</td>\n",
       "      <td>-0.80</td>\n",
       "      <td>1.00</td>\n",
       "    </tr>\n",
       "    <tr>\n",
       "      <th>6218</th>\n",
       "      <td>so she thinks you hate star trek i take it? - ...</td>\n",
       "      <td>-0.80</td>\n",
       "      <td>0.90</td>\n",
       "    </tr>\n",
       "    <tr>\n",
       "      <th>3726</th>\n",
       "      <td>translation: star trek for stupid people.</td>\n",
       "      <td>-0.80</td>\n",
       "      <td>1.00</td>\n",
       "    </tr>\n",
       "    <tr>\n",
       "      <th>712</th>\n",
       "      <td>hated it. spock screaming khaaan was the momen...</td>\n",
       "      <td>-0.80</td>\n",
       "      <td>0.68</td>\n",
       "    </tr>\n",
       "    <tr>\n",
       "      <th>792</th>\n",
       "      <td>kirk, a drunk?!  grrrrr.... -  - and the \"woma...</td>\n",
       "      <td>-0.78</td>\n",
       "      <td>1.00</td>\n",
       "    </tr>\n",
       "    <tr>\n",
       "      <th>3825</th>\n",
       "      <td>prime directive #48: (classified)</td>\n",
       "      <td>-0.75</td>\n",
       "      <td>1.00</td>\n",
       "    </tr>\n",
       "    <tr>\n",
       "      <th>1005</th>\n",
       "      <td>it's in the fucking news people. even the star...</td>\n",
       "      <td>-0.75</td>\n",
       "      <td>0.80</td>\n",
       "    </tr>\n",
       "    <tr>\n",
       "      <th>3038</th>\n",
       "      <td>fucking star trek hipsters!</td>\n",
       "      <td>-0.75</td>\n",
       "      <td>0.80</td>\n",
       "    </tr>\n",
       "    <tr>\n",
       "      <th>6076</th>\n",
       "      <td>i wonder if, from that meld, spock managed to ...</td>\n",
       "      <td>-0.75</td>\n",
       "      <td>1.00</td>\n",
       "    </tr>\n",
       "    <tr>\n",
       "      <th>2723</th>\n",
       "      <td>star trek: [tribble on the horizon](/spoiler)</td>\n",
       "      <td>-0.75</td>\n",
       "      <td>1.00</td>\n",
       "    </tr>\n",
       "    <tr>\n",
       "      <th>5322</th>\n",
       "      <td>i miss star trek :(</td>\n",
       "      <td>-0.75</td>\n",
       "      <td>1.00</td>\n",
       "    </tr>\n",
       "    <tr>\n",
       "      <th>296</th>\n",
       "      <td>klingon sick bay, loneliest sick bay ever.</td>\n",
       "      <td>-0.71</td>\n",
       "      <td>0.86</td>\n",
       "    </tr>\n",
       "    <tr>\n",
       "      <th>1034</th>\n",
       "      <td>i didn't even notice the search for spock elem...</td>\n",
       "      <td>-0.71</td>\n",
       "      <td>0.86</td>\n",
       "    </tr>\n",
       "    <tr>\n",
       "      <th>5683</th>\n",
       "      <td>both movies had kirk facing the grim reality b...</td>\n",
       "      <td>-0.70</td>\n",
       "      <td>0.85</td>\n",
       "    </tr>\n",
       "    <tr>\n",
       "      <th>1944</th>\n",
       "      <td>yea, that was too bad but i guess it was never...</td>\n",
       "      <td>-0.70</td>\n",
       "      <td>0.67</td>\n",
       "    </tr>\n",
       "    <tr>\n",
       "      <th>980</th>\n",
       "      <td>... did you just imply that non-trekkies wanti...</td>\n",
       "      <td>-0.70</td>\n",
       "      <td>0.67</td>\n",
       "    </tr>\n",
       "    <tr>\n",
       "      <th>6323</th>\n",
       "      <td>don't feel bad, scotty missed it as well.</td>\n",
       "      <td>-0.70</td>\n",
       "      <td>0.67</td>\n",
       "    </tr>\n",
       "    <tr>\n",
       "      <th>6187</th>\n",
       "      <td>star trek v is a bad parody of star trek.</td>\n",
       "      <td>-0.70</td>\n",
       "      <td>0.67</td>\n",
       "    </tr>\n",
       "    <tr>\n",
       "      <th>...</th>\n",
       "      <td>...</td>\n",
       "      <td>...</td>\n",
       "      <td>...</td>\n",
       "    </tr>\n",
       "    <tr>\n",
       "      <th>1245</th>\n",
       "      <td>&amp;gt; [i somehow didn't catch that the ship dow...</td>\n",
       "      <td>-0.11</td>\n",
       "      <td>0.29</td>\n",
       "    </tr>\n",
       "    <tr>\n",
       "      <th>4574</th>\n",
       "      <td>yeah, star trek v isn't really that bad. the b...</td>\n",
       "      <td>-0.11</td>\n",
       "      <td>0.44</td>\n",
       "    </tr>\n",
       "    <tr>\n",
       "      <th>2283</th>\n",
       "      <td>pike dying. utterly pointless. if you need spo...</td>\n",
       "      <td>-0.11</td>\n",
       "      <td>0.49</td>\n",
       "    </tr>\n",
       "    <tr>\n",
       "      <th>1543</th>\n",
       "      <td>if this would mean seeing the nx-01 refit in a...</td>\n",
       "      <td>-0.11</td>\n",
       "      <td>0.39</td>\n",
       "    </tr>\n",
       "    <tr>\n",
       "      <th>2407</th>\n",
       "      <td>i wondered that too but mccoy said he made a s...</td>\n",
       "      <td>-0.11</td>\n",
       "      <td>0.76</td>\n",
       "    </tr>\n",
       "    <tr>\n",
       "      <th>6654</th>\n",
       "      <td>my argument is that the reveal is pretty meani...</td>\n",
       "      <td>-0.11</td>\n",
       "      <td>0.73</td>\n",
       "    </tr>\n",
       "    <tr>\n",
       "      <th>283</th>\n",
       "      <td>http://www.trekcore.com/audio/ -  - [open belo...</td>\n",
       "      <td>-0.10</td>\n",
       "      <td>0.30</td>\n",
       "    </tr>\n",
       "    <tr>\n",
       "      <th>6878</th>\n",
       "      <td>in the previous movie spock prime (nimoy) come...</td>\n",
       "      <td>-0.10</td>\n",
       "      <td>0.14</td>\n",
       "    </tr>\n",
       "    <tr>\n",
       "      <th>4005</th>\n",
       "      <td>....i did too......... i alsolaughed right at ...</td>\n",
       "      <td>-0.10</td>\n",
       "      <td>0.53</td>\n",
       "    </tr>\n",
       "    <tr>\n",
       "      <th>1344</th>\n",
       "      <td>1. it's called 'star trek' because it's based ...</td>\n",
       "      <td>-0.10</td>\n",
       "      <td>0.60</td>\n",
       "    </tr>\n",
       "    <tr>\n",
       "      <th>2964</th>\n",
       "      <td>idiotic plot point.   - i guess he expected ki...</td>\n",
       "      <td>-0.10</td>\n",
       "      <td>0.67</td>\n",
       "    </tr>\n",
       "    <tr>\n",
       "      <th>719</th>\n",
       "      <td>it had me wondering \"why?\" like in the 09 movi...</td>\n",
       "      <td>-0.10</td>\n",
       "      <td>0.41</td>\n",
       "    </tr>\n",
       "    <tr>\n",
       "      <th>1908</th>\n",
       "      <td>it definitely wasn't.  -  - [but that's not ev...</td>\n",
       "      <td>-0.10</td>\n",
       "      <td>0.46</td>\n",
       "    </tr>\n",
       "    <tr>\n",
       "      <th>6632</th>\n",
       "      <td>it's hard to tell with the few resources we ha...</td>\n",
       "      <td>-0.10</td>\n",
       "      <td>0.39</td>\n",
       "    </tr>\n",
       "    <tr>\n",
       "      <th>2697</th>\n",
       "      <td>not terribly accurate, [the vengeance was buil...</td>\n",
       "      <td>-0.10</td>\n",
       "      <td>0.82</td>\n",
       "    </tr>\n",
       "    <tr>\n",
       "      <th>2185</th>\n",
       "      <td>spock was dead. there was no real expectation ...</td>\n",
       "      <td>-0.10</td>\n",
       "      <td>0.23</td>\n",
       "    </tr>\n",
       "    <tr>\n",
       "      <th>674</th>\n",
       "      <td>tng \"violations\" showed him in 2354 with hair ...</td>\n",
       "      <td>-0.10</td>\n",
       "      <td>0.42</td>\n",
       "    </tr>\n",
       "    <tr>\n",
       "      <th>4034</th>\n",
       "      <td>on bringing kirk back from the dead, it was st...</td>\n",
       "      <td>-0.10</td>\n",
       "      <td>0.41</td>\n",
       "    </tr>\n",
       "    <tr>\n",
       "      <th>676</th>\n",
       "      <td>or ya know, these were just continuity issues....</td>\n",
       "      <td>-0.10</td>\n",
       "      <td>0.57</td>\n",
       "    </tr>\n",
       "    <tr>\n",
       "      <th>5395</th>\n",
       "      <td>less blatant than the last one where uhura act...</td>\n",
       "      <td>-0.10</td>\n",
       "      <td>0.18</td>\n",
       "    </tr>\n",
       "    <tr>\n",
       "      <th>6375</th>\n",
       "      <td>op is lying. he's been trying to get his girlf...</td>\n",
       "      <td>-0.10</td>\n",
       "      <td>0.55</td>\n",
       "    </tr>\n",
       "    <tr>\n",
       "      <th>3150</th>\n",
       "      <td>actually i am. i was talking about the prime u...</td>\n",
       "      <td>-0.10</td>\n",
       "      <td>0.15</td>\n",
       "    </tr>\n",
       "    <tr>\n",
       "      <th>4573</th>\n",
       "      <td>that was [admiral marcus who got his head crus...</td>\n",
       "      <td>-0.10</td>\n",
       "      <td>0.10</td>\n",
       "    </tr>\n",
       "    <tr>\n",
       "      <th>877</th>\n",
       "      <td>&amp;gt;in that scene, kirk is back on the bridge ...</td>\n",
       "      <td>-0.10</td>\n",
       "      <td>0.40</td>\n",
       "    </tr>\n",
       "    <tr>\n",
       "      <th>3872</th>\n",
       "      <td>they put him into an induced coma and replaced...</td>\n",
       "      <td>-0.10</td>\n",
       "      <td>0.00</td>\n",
       "    </tr>\n",
       "    <tr>\n",
       "      <th>5715</th>\n",
       "      <td>mccoy said he was in coma for two weeks.</td>\n",
       "      <td>-0.10</td>\n",
       "      <td>0.00</td>\n",
       "    </tr>\n",
       "    <tr>\n",
       "      <th>5198</th>\n",
       "      <td>see i actually like the premise... going furth...</td>\n",
       "      <td>-0.10</td>\n",
       "      <td>0.65</td>\n",
       "    </tr>\n",
       "    <tr>\n",
       "      <th>784</th>\n",
       "      <td>[in a very loose way it does. there's the pica...</td>\n",
       "      <td>-0.10</td>\n",
       "      <td>0.35</td>\n",
       "    </tr>\n",
       "    <tr>\n",
       "      <th>5839</th>\n",
       "      <td>i thought the line was \"a star trek chest set'...</td>\n",
       "      <td>-0.10</td>\n",
       "      <td>0.55</td>\n",
       "    </tr>\n",
       "    <tr>\n",
       "      <th>706</th>\n",
       "      <td>i need this to be a game now. screw the mario ...</td>\n",
       "      <td>-0.10</td>\n",
       "      <td>0.40</td>\n",
       "    </tr>\n",
       "  </tbody>\n",
       "</table>\n",
       "<p>688 rows × 3 columns</p>\n",
       "</div>"
      ],
      "text/plain": [
       "                                                   body  sentiment  \\\n",
       "3207  i didn't like star trek as a kid either. now h...      -1.00   \n",
       "304        picard at his worst might be every tng movie      -1.00   \n",
       "1678                         nero truly is an evil man.      -1.00   \n",
       "4187  i heard that cumberbatch was an evil dimension...      -1.00   \n",
       "3312        camp spock was a terrible casting decision.      -1.00   \n",
       "4706  i'm not talking about firefly, i'm talking abo...      -1.00   \n",
       "6655  i like pine's eyebrows. i like quinto's eyebro...      -1.00   \n",
       "2701  i would've hated to have been on the internet ...      -0.90   \n",
       "5963         and the spock tears. i fucking hated that.      -0.90   \n",
       "1089  are you insane?? he was awful. this film was a...      -0.80   \n",
       "973   can you link me an instance where abrams has s...      -0.80   \n",
       "760   i know how picard feels, i too hate it when sh...      -0.80   \n",
       "390   it's the picard maneuver within the fan base. ...      -0.80   \n",
       "6218  so she thinks you hate star trek i take it? - ...      -0.80   \n",
       "3726          translation: star trek for stupid people.      -0.80   \n",
       "712   hated it. spock screaming khaaan was the momen...      -0.80   \n",
       "792   kirk, a drunk?!  grrrrr.... -  - and the \"woma...      -0.78   \n",
       "3825                  prime directive #48: (classified)      -0.75   \n",
       "1005  it's in the fucking news people. even the star...      -0.75   \n",
       "3038                        fucking star trek hipsters!      -0.75   \n",
       "6076  i wonder if, from that meld, spock managed to ...      -0.75   \n",
       "2723      star trek: [tribble on the horizon](/spoiler)      -0.75   \n",
       "5322                                i miss star trek :(      -0.75   \n",
       "296          klingon sick bay, loneliest sick bay ever.      -0.71   \n",
       "1034  i didn't even notice the search for spock elem...      -0.71   \n",
       "5683  both movies had kirk facing the grim reality b...      -0.70   \n",
       "1944  yea, that was too bad but i guess it was never...      -0.70   \n",
       "980   ... did you just imply that non-trekkies wanti...      -0.70   \n",
       "6323          don't feel bad, scotty missed it as well.      -0.70   \n",
       "6187          star trek v is a bad parody of star trek.      -0.70   \n",
       "...                                                 ...        ...   \n",
       "1245  &gt; [i somehow didn't catch that the ship dow...      -0.11   \n",
       "4574  yeah, star trek v isn't really that bad. the b...      -0.11   \n",
       "2283  pike dying. utterly pointless. if you need spo...      -0.11   \n",
       "1543  if this would mean seeing the nx-01 refit in a...      -0.11   \n",
       "2407  i wondered that too but mccoy said he made a s...      -0.11   \n",
       "6654  my argument is that the reveal is pretty meani...      -0.11   \n",
       "283   http://www.trekcore.com/audio/ -  - [open belo...      -0.10   \n",
       "6878  in the previous movie spock prime (nimoy) come...      -0.10   \n",
       "4005  ....i did too......... i alsolaughed right at ...      -0.10   \n",
       "1344  1. it's called 'star trek' because it's based ...      -0.10   \n",
       "2964  idiotic plot point.   - i guess he expected ki...      -0.10   \n",
       "719   it had me wondering \"why?\" like in the 09 movi...      -0.10   \n",
       "1908  it definitely wasn't.  -  - [but that's not ev...      -0.10   \n",
       "6632  it's hard to tell with the few resources we ha...      -0.10   \n",
       "2697  not terribly accurate, [the vengeance was buil...      -0.10   \n",
       "2185  spock was dead. there was no real expectation ...      -0.10   \n",
       "674   tng \"violations\" showed him in 2354 with hair ...      -0.10   \n",
       "4034  on bringing kirk back from the dead, it was st...      -0.10   \n",
       "676   or ya know, these were just continuity issues....      -0.10   \n",
       "5395  less blatant than the last one where uhura act...      -0.10   \n",
       "6375  op is lying. he's been trying to get his girlf...      -0.10   \n",
       "3150  actually i am. i was talking about the prime u...      -0.10   \n",
       "4573  that was [admiral marcus who got his head crus...      -0.10   \n",
       "877   &gt;in that scene, kirk is back on the bridge ...      -0.10   \n",
       "3872  they put him into an induced coma and replaced...      -0.10   \n",
       "5715           mccoy said he was in coma for two weeks.      -0.10   \n",
       "5198  see i actually like the premise... going furth...      -0.10   \n",
       "784   [in a very loose way it does. there's the pica...      -0.10   \n",
       "5839  i thought the line was \"a star trek chest set'...      -0.10   \n",
       "706   i need this to be a game now. screw the mario ...      -0.10   \n",
       "\n",
       "      subjectivity  \n",
       "3207          1.00  \n",
       "304           1.00  \n",
       "1678          1.00  \n",
       "4187          1.00  \n",
       "3312          1.00  \n",
       "4706          1.00  \n",
       "6655          1.00  \n",
       "2701          0.70  \n",
       "5963          0.70  \n",
       "1089          0.75  \n",
       "973           0.90  \n",
       "760           0.90  \n",
       "390           1.00  \n",
       "6218          0.90  \n",
       "3726          1.00  \n",
       "712           0.68  \n",
       "792           1.00  \n",
       "3825          1.00  \n",
       "1005          0.80  \n",
       "3038          0.80  \n",
       "6076          1.00  \n",
       "2723          1.00  \n",
       "5322          1.00  \n",
       "296           0.86  \n",
       "1034          0.86  \n",
       "5683          0.85  \n",
       "1944          0.67  \n",
       "980           0.67  \n",
       "6323          0.67  \n",
       "6187          0.67  \n",
       "...            ...  \n",
       "1245          0.29  \n",
       "4574          0.44  \n",
       "2283          0.49  \n",
       "1543          0.39  \n",
       "2407          0.76  \n",
       "6654          0.73  \n",
       "283           0.30  \n",
       "6878          0.14  \n",
       "4005          0.53  \n",
       "1344          0.60  \n",
       "2964          0.67  \n",
       "719           0.41  \n",
       "1908          0.46  \n",
       "6632          0.39  \n",
       "2697          0.82  \n",
       "2185          0.23  \n",
       "674           0.42  \n",
       "4034          0.41  \n",
       "676           0.57  \n",
       "5395          0.18  \n",
       "6375          0.55  \n",
       "3150          0.15  \n",
       "4573          0.10  \n",
       "877           0.40  \n",
       "3872          0.00  \n",
       "5715          0.00  \n",
       "5198          0.65  \n",
       "784           0.35  \n",
       "5839          0.55  \n",
       "706           0.40  \n",
       "\n",
       "[688 rows x 3 columns]"
      ]
     },
     "execution_count": 69,
     "metadata": {},
     "output_type": "execute_result"
    }
   ],
   "source": [
    "top_df"
   ]
  },
  {
   "cell_type": "code",
   "execution_count": 70,
   "metadata": {
    "collapsed": false
   },
   "outputs": [
    {
     "name": "stdout",
     "output_type": "stream",
     "text": [
      "CPU times: user 4.99 s, sys: 364 ms, total: 5.36 s\n",
      "Wall time: 5.84 s\n"
     ]
    }
   ],
   "source": [
    "%%time\n",
    "\n",
    "top_text = ''\n",
    "for x in top_df['body']:\n",
    "    top_text += x + ' '\n",
    "\n",
    "top_list = [\n",
    "    w\n",
    "    for w in nltk.word_tokenize(top_text)\n",
    "    if w not in stopwords.words('english') and w not in string.punctuation\n",
    "]"
   ]
  },
  {
   "cell_type": "code",
   "execution_count": 71,
   "metadata": {
    "collapsed": true
   },
   "outputs": [],
   "source": [
    "top_counter = Counter(top_list)"
   ]
  },
  {
   "cell_type": "code",
   "execution_count": 72,
   "metadata": {
    "collapsed": false
   },
   "outputs": [
    {
     "data": {
      "text/plain": [
       "[(\"'s\", 370),\n",
       " ('trek', 367),\n",
       " (\"n't\", 337),\n",
       " ('star', 330),\n",
       " ('``', 204),\n",
       " (\"''\", 197),\n",
       " ('kirk', 188),\n",
       " ('spock', 186),\n",
       " ('like', 150),\n",
       " ('movie', 140),\n",
       " ('would', 113),\n",
       " ('khan', 111),\n",
       " ('...', 111),\n",
       " ('one', 100),\n",
       " ('bad', 87),\n",
       " ('enterprise', 83),\n",
       " (\"'m\", 79),\n",
       " ('picard', 76),\n",
       " ('http', 74),\n",
       " ('could', 71)]"
      ]
     },
     "execution_count": 72,
     "metadata": {},
     "output_type": "execute_result"
    }
   ],
   "source": [
    "top_counter.most_common(20)"
   ]
  },
  {
   "cell_type": "code",
   "execution_count": 73,
   "metadata": {
    "collapsed": false
   },
   "outputs": [
    {
     "data": {
      "text/plain": [
       "[Timestamp('2009-05-01 00:00:00'),\n",
       " Timestamp('2012-12-01 00:00:00'),\n",
       " Timestamp('2013-05-01 00:00:00'),\n",
       " Timestamp('2016-07-01 00:00:00')]"
      ]
     },
     "execution_count": 73,
     "metadata": {},
     "output_type": "execute_result"
    }
   ],
   "source": [
    "peaks"
   ]
  },
  {
   "cell_type": "markdown",
   "metadata": {},
   "source": [
    "#### 2016-07-01"
   ]
  },
  {
   "cell_type": "code",
   "execution_count": 74,
   "metadata": {
    "collapsed": true
   },
   "outputs": [],
   "source": [
    "date = '2016-07-01'"
   ]
  },
  {
   "cell_type": "code",
   "execution_count": 75,
   "metadata": {
    "collapsed": true
   },
   "outputs": [],
   "source": [
    "subreddit_date_df = subreddit_df[subreddit_df['month'] == date]"
   ]
  },
  {
   "cell_type": "code",
   "execution_count": 76,
   "metadata": {
    "collapsed": false
   },
   "outputs": [
    {
     "data": {
      "text/plain": [
       "8462"
      ]
     },
     "execution_count": 76,
     "metadata": {},
     "output_type": "execute_result"
    }
   ],
   "source": [
    "len(subreddit_date_df)"
   ]
  },
  {
   "cell_type": "markdown",
   "metadata": {},
   "source": [
    "#### Histogram"
   ]
  },
  {
   "cell_type": "markdown",
   "metadata": {},
   "source": [
    "###### Keywords"
   ]
  },
  {
   "cell_type": "code",
   "execution_count": 77,
   "metadata": {
    "collapsed": true
   },
   "outputs": [],
   "source": [
    "keywords_dict = {}\n",
    "for keyword in keywords:\n",
    "    keyword_df = subreddit_date_df[subreddit_date_df['body'].str.contains(keyword)]\n",
    "    count = keyword_df['body'].str.count(keyword).sum()\n",
    "    keywords_dict[keyword] = count"
   ]
  },
  {
   "cell_type": "code",
   "execution_count": 78,
   "metadata": {
    "collapsed": false
   },
   "outputs": [],
   "source": [
    "keywords_counter = Counter(keywords_dict)"
   ]
  },
  {
   "cell_type": "code",
   "execution_count": 79,
   "metadata": {
    "collapsed": false
   },
   "outputs": [
    {
     "data": {
      "text/plain": [
       "[('star trek', 6190),\n",
       " ('kirk', 2216),\n",
       " ('spock', 1543),\n",
       " ('klingon', 1131),\n",
       " ('sulu', 1117),\n",
       " ('picard', 908),\n",
       " ('vulcan', 531),\n",
       " ('romulan', 529),\n",
       " ('scotty', 322),\n",
       " ('uhura', 315),\n",
       " ('mccoy', 268),\n",
       " ('nero', 185),\n",
       " ('prime directive', 113),\n",
       " ('star fleet', 105),\n",
       " ('crusher', 102),\n",
       " ('pike', 64),\n",
       " ('stardate', 60),\n",
       " ('chekhov', 35),\n",
       " ('llap', 29),\n",
       " ('sarek', 29),\n",
       " ('orion', 26),\n",
       " ('kobayashi maru', 15),\n",
       " ('khaaa+n', 15),\n",
       " ('live long and prosper', 13),\n",
       " (\"i'm a doctor,? not a\", 12),\n",
       " ('starship enterprise', 11),\n",
       " ('transporter beam', 10),\n",
       " ('nurse chapel', 6),\n",
       " ('delta vega', 6),\n",
       " ('highly illogical', 5),\n",
       " ('to boldly go where no man has gone before', 5),\n",
       " ('nuclear wessels', 4),\n",
       " ('the needs of the many outweigh the needs of the few', 4),\n",
       " ('vulcan salute', 3),\n",
       " (\"i'm giving her all she's got,? captain\", 3),\n",
       " ('i have been and always shall be your friend', 2),\n",
       " ('space,? the final frontier', 2),\n",
       " ('beam me up,? scotty', 2),\n",
       " ('without followers,? evil cannot spread', 0),\n",
       " ('set phasers to stun', 0),\n",
       " ('resistance is futile', 0),\n",
       " ('romulan narada', 0),\n",
       " ('when you eliminate the impossible,? whatever remains,? however improbable,? must be the truth',\n",
       "  0)]"
      ]
     },
     "execution_count": 79,
     "metadata": {},
     "output_type": "execute_result"
    }
   ],
   "source": [
    "keywords_counter.most_common()"
   ]
  },
  {
   "cell_type": "code",
   "execution_count": 80,
   "metadata": {
    "collapsed": true
   },
   "outputs": [],
   "source": [
    "keywords_sr = pd.Series(keywords_dict)"
   ]
  },
  {
   "cell_type": "code",
   "execution_count": 81,
   "metadata": {
    "collapsed": false
   },
   "outputs": [
    {
     "data": {
      "text/plain": [
       "<matplotlib.axes._subplots.AxesSubplot at 0x7f0facd98208>"
      ]
     },
     "execution_count": 81,
     "metadata": {},
     "output_type": "execute_result"
    },
    {
     "data": {
      "image/png": "[encoded data removed]",
      "text/plain": [
       "<matplotlib.figure.Figure at 0x7f0fba7eaa20>"
      ]
     },
     "metadata": {},
     "output_type": "display_data"
    }
   ],
   "source": [
    "keywords_sr.plot(\n",
    "    kind='bar',\n",
    "    figsize=(10, 5),\n",
    "    title='Keyword histogram on ' + date,\n",
    ")"
   ]
  },
  {
   "cell_type": "markdown",
   "metadata": {},
   "source": [
    "###### Other words"
   ]
  },
  {
   "cell_type": "code",
   "execution_count": 82,
   "metadata": {
    "collapsed": false
   },
   "outputs": [
    {
     "name": "stdout",
     "output_type": "stream",
     "text": [
      "CPU times: user 1min 50s, sys: 7.81 s, total: 1min 58s\n",
      "Wall time: 2min 41s\n"
     ]
    }
   ],
   "source": [
    "%%time\n",
    "\n",
    "text_ = ''\n",
    "for x in subreddit_date_df['body']:\n",
    "    text_ += x + ' '\n",
    "\n",
    "list_ = [\n",
    "    w\n",
    "    for w in nltk.word_tokenize(text_)\n",
    "    if w not in stopwords.words('english') and w not in string.punctuation\n",
    "]\n",
    "\n",
    "counter_ = Counter(list_)"
   ]
  },
  {
   "cell_type": "code",
   "execution_count": 83,
   "metadata": {
    "collapsed": false
   },
   "outputs": [
    {
     "data": {
      "text/plain": [
       "[(\"'s\", 8692),\n",
       " ('trek', 7215),\n",
       " (\"n't\", 6561),\n",
       " ('star', 6367),\n",
       " ('like', 3568),\n",
       " ('``', 3504),\n",
       " (\"''\", 3492),\n",
       " ('would', 2814),\n",
       " ('think', 2109),\n",
       " ('one', 2092),\n",
       " ('kirk', 2077),\n",
       " ('...', 1894),\n",
       " ('movie', 1763),\n",
       " ('really', 1679),\n",
       " ('people', 1625),\n",
       " ('new', 1617),\n",
       " ('time', 1604),\n",
       " (\"'m\", 1585),\n",
       " ('could', 1538),\n",
       " ('even', 1431)]"
      ]
     },
     "execution_count": 83,
     "metadata": {},
     "output_type": "execute_result"
    }
   ],
   "source": [
    "counter_.most_common(20)"
   ]
  },
  {
   "cell_type": "markdown",
   "metadata": {},
   "source": [
    "#### Sentiment analysis"
   ]
  },
  {
   "cell_type": "markdown",
   "metadata": {},
   "source": [
    "- The polarity score is a float within the range [-1.0, 1.0].\n",
    "- The subjectivity is a float within the range [0.0, 1.0] where 0.0 is very objective and 1.0 is very subjective."
   ]
  },
  {
   "cell_type": "code",
   "execution_count": 84,
   "metadata": {
    "collapsed": false
   },
   "outputs": [
    {
     "name": "stdout",
     "output_type": "stream",
     "text": [
      "CPU times: user 6.8 s, sys: 32 ms, total: 6.83 s\n",
      "Wall time: 9.82 s\n"
     ]
    }
   ],
   "source": [
    "%%time\n",
    "\n",
    "sentiment_list = []\n",
    "for x in subreddit_date_df['body']:\n",
    "    tb = TextBlob(x)\n",
    "    sentiment_list.append((x, tb.sentiment.polarity, tb.sentiment.subjectivity))"
   ]
  },
  {
   "cell_type": "code",
   "execution_count": 85,
   "metadata": {
    "collapsed": false
   },
   "outputs": [],
   "source": [
    "sentiment_df = pd.DataFrame(sentiment_list, columns=['body', 'sentiment', 'subjectivity'])"
   ]
  },
  {
   "cell_type": "code",
   "execution_count": 86,
   "metadata": {
    "collapsed": false
   },
   "outputs": [
    {
     "data": {
      "text/html": [
       "<div>\n",
       "<table border=\"1\" class=\"dataframe\">\n",
       "  <thead>\n",
       "    <tr style=\"text-align: right;\">\n",
       "      <th></th>\n",
       "      <th>body</th>\n",
       "      <th>sentiment</th>\n",
       "      <th>subjectivity</th>\n",
       "    </tr>\n",
       "  </thead>\n",
       "  <tbody>\n",
       "    <tr>\n",
       "      <th>0</th>\n",
       "      <td>vulcan women would not wear uncomfortable shoes.</td>\n",
       "      <td>-0.50</td>\n",
       "      <td>1.00</td>\n",
       "    </tr>\n",
       "    <tr>\n",
       "      <th>1</th>\n",
       "      <td>then i wouldn't bother. -  - i love the origin...</td>\n",
       "      <td>0.15</td>\n",
       "      <td>0.41</td>\n",
       "    </tr>\n",
       "    <tr>\n",
       "      <th>2</th>\n",
       "      <td>he's done it for a few lines in the previous m...</td>\n",
       "      <td>-0.03</td>\n",
       "      <td>0.27</td>\n",
       "    </tr>\n",
       "    <tr>\n",
       "      <th>3</th>\n",
       "      <td>yes! still a great series! -  -  it was old wh...</td>\n",
       "      <td>0.15</td>\n",
       "      <td>0.47</td>\n",
       "    </tr>\n",
       "    <tr>\n",
       "      <th>4</th>\n",
       "      <td>beam me up scotty.</td>\n",
       "      <td>0.00</td>\n",
       "      <td>0.00</td>\n",
       "    </tr>\n",
       "  </tbody>\n",
       "</table>\n",
       "</div>"
      ],
      "text/plain": [
       "                                                body  sentiment  subjectivity\n",
       "0   vulcan women would not wear uncomfortable shoes.      -0.50          1.00\n",
       "1  then i wouldn't bother. -  - i love the origin...       0.15          0.41\n",
       "2  he's done it for a few lines in the previous m...      -0.03          0.27\n",
       "3  yes! still a great series! -  -  it was old wh...       0.15          0.47\n",
       "4                                 beam me up scotty.       0.00          0.00"
      ]
     },
     "execution_count": 86,
     "metadata": {},
     "output_type": "execute_result"
    }
   ],
   "source": [
    "sentiment_df.head()"
   ]
  },
  {
   "cell_type": "code",
   "execution_count": 87,
   "metadata": {
    "collapsed": false
   },
   "outputs": [
    {
     "data": {
      "text/plain": [
       "0.10954424826620877"
      ]
     },
     "execution_count": 87,
     "metadata": {},
     "output_type": "execute_result"
    }
   ],
   "source": [
    "sentiment_df['sentiment'].mean()"
   ]
  },
  {
   "cell_type": "code",
   "execution_count": 88,
   "metadata": {
    "collapsed": false
   },
   "outputs": [
    {
     "data": {
      "text/plain": [
       "0.46977461486056721"
      ]
     },
     "execution_count": 88,
     "metadata": {},
     "output_type": "execute_result"
    }
   ],
   "source": [
    "sentiment_df['subjectivity'].mean()"
   ]
  },
  {
   "cell_type": "markdown",
   "metadata": {},
   "source": [
    "##### Histogram top positive"
   ]
  },
  {
   "cell_type": "code",
   "execution_count": 89,
   "metadata": {
    "collapsed": false
   },
   "outputs": [],
   "source": [
    "top_df = sentiment_df.sort_values('sentiment', ascending=False)[:len(subreddit_date_df) * P // 100]"
   ]
  },
  {
   "cell_type": "code",
   "execution_count": 90,
   "metadata": {
    "collapsed": false
   },
   "outputs": [
    {
     "data": {
      "text/html": [
       "<div>\n",
       "<table border=\"1\" class=\"dataframe\">\n",
       "  <thead>\n",
       "    <tr style=\"text-align: right;\">\n",
       "      <th></th>\n",
       "      <th>body</th>\n",
       "      <th>sentiment</th>\n",
       "      <th>subjectivity</th>\n",
       "    </tr>\n",
       "  </thead>\n",
       "  <tbody>\n",
       "    <tr>\n",
       "      <th>4310</th>\n",
       "      <td>i hope they do. simon pegg nailed it. the rela...</td>\n",
       "      <td>1.00</td>\n",
       "      <td>0.30</td>\n",
       "    </tr>\n",
       "    <tr>\n",
       "      <th>4773</th>\n",
       "      <td>man...i just want to see the movie just for th...</td>\n",
       "      <td>1.00</td>\n",
       "      <td>1.00</td>\n",
       "    </tr>\n",
       "    <tr>\n",
       "      <th>4706</th>\n",
       "      <td>it alls fits perfectly within kirk's character</td>\n",
       "      <td>1.00</td>\n",
       "      <td>1.00</td>\n",
       "    </tr>\n",
       "    <tr>\n",
       "      <th>827</th>\n",
       "      <td>best tush on star trek until t'pol... even lt....</td>\n",
       "      <td>1.00</td>\n",
       "      <td>0.30</td>\n",
       "    </tr>\n",
       "    <tr>\n",
       "      <th>825</th>\n",
       "      <td>tim russ was the perfect guy to play a vulcan,...</td>\n",
       "      <td>1.00</td>\n",
       "      <td>1.00</td>\n",
       "    </tr>\n",
       "    <tr>\n",
       "      <th>1940</th>\n",
       "      <td>try to go to the star trek orchestra if its go...</td>\n",
       "      <td>1.00</td>\n",
       "      <td>1.00</td>\n",
       "    </tr>\n",
       "    <tr>\n",
       "      <th>3188</th>\n",
       "      <td>awesome, don't know how i missed that. is ther...</td>\n",
       "      <td>1.00</td>\n",
       "      <td>1.00</td>\n",
       "    </tr>\n",
       "    <tr>\n",
       "      <th>7833</th>\n",
       "      <td>nah, it was the dauphin.  perhaps the greatest...</td>\n",
       "      <td>1.00</td>\n",
       "      <td>1.00</td>\n",
       "    </tr>\n",
       "    <tr>\n",
       "      <th>7866</th>\n",
       "      <td>not going to lie, captain picard was my surrog...</td>\n",
       "      <td>1.00</td>\n",
       "      <td>1.00</td>\n",
       "    </tr>\n",
       "    <tr>\n",
       "      <th>5496</th>\n",
       "      <td>i still think that the defiant is one of the b...</td>\n",
       "      <td>1.00</td>\n",
       "      <td>0.30</td>\n",
       "    </tr>\n",
       "    <tr>\n",
       "      <th>2231</th>\n",
       "      <td>i disagree..by grabthar's hammer..galaxy quest...</td>\n",
       "      <td>1.00</td>\n",
       "      <td>0.30</td>\n",
       "    </tr>\n",
       "    <tr>\n",
       "      <th>2307</th>\n",
       "      <td>&amp;gt; you've just discovered a way to be smug a...</td>\n",
       "      <td>1.00</td>\n",
       "      <td>0.30</td>\n",
       "    </tr>\n",
       "    <tr>\n",
       "      <th>6276</th>\n",
       "      <td>http://imgur.com/pjesd27.jpg -  - the d's my f...</td>\n",
       "      <td>1.00</td>\n",
       "      <td>1.00</td>\n",
       "    </tr>\n",
       "    <tr>\n",
       "      <th>5914</th>\n",
       "      <td>&amp;gt;v did give us the awesome kirk quotes when...</td>\n",
       "      <td>1.00</td>\n",
       "      <td>1.00</td>\n",
       "    </tr>\n",
       "    <tr>\n",
       "      <th>2692</th>\n",
       "      <td>casting jason alexander as george costanza as ...</td>\n",
       "      <td>1.00</td>\n",
       "      <td>1.00</td>\n",
       "    </tr>\n",
       "    <tr>\n",
       "      <th>8132</th>\n",
       "      <td>the best thing about sto is how they make romu...</td>\n",
       "      <td>1.00</td>\n",
       "      <td>0.65</td>\n",
       "    </tr>\n",
       "    <tr>\n",
       "      <th>334</th>\n",
       "      <td>easily best written star trek show.</td>\n",
       "      <td>1.00</td>\n",
       "      <td>0.30</td>\n",
       "    </tr>\n",
       "    <tr>\n",
       "      <th>2450</th>\n",
       "      <td>while i knew what you were getting at, i read ...</td>\n",
       "      <td>1.00</td>\n",
       "      <td>0.30</td>\n",
       "    </tr>\n",
       "    <tr>\n",
       "      <th>324</th>\n",
       "      <td>already listening to \"the greatest generation\"...</td>\n",
       "      <td>1.00</td>\n",
       "      <td>1.00</td>\n",
       "    </tr>\n",
       "    <tr>\n",
       "      <th>2480</th>\n",
       "      <td>simon pegg is the screenwriter. he's got bonif...</td>\n",
       "      <td>1.00</td>\n",
       "      <td>0.75</td>\n",
       "    </tr>\n",
       "    <tr>\n",
       "      <th>5685</th>\n",
       "      <td>and it would be the best way to honor 50 years...</td>\n",
       "      <td>1.00</td>\n",
       "      <td>0.30</td>\n",
       "    </tr>\n",
       "    <tr>\n",
       "      <th>6908</th>\n",
       "      <td>uh... no. people would say it was the best sta...</td>\n",
       "      <td>1.00</td>\n",
       "      <td>0.30</td>\n",
       "    </tr>\n",
       "    <tr>\n",
       "      <th>3220</th>\n",
       "      <td>i won't be. i'll be doing my best to show them...</td>\n",
       "      <td>1.00</td>\n",
       "      <td>0.30</td>\n",
       "    </tr>\n",
       "    <tr>\n",
       "      <th>7066</th>\n",
       "      <td>aye!  i'm a ds9 apologist and i think ds9 is t...</td>\n",
       "      <td>1.00</td>\n",
       "      <td>0.30</td>\n",
       "    </tr>\n",
       "    <tr>\n",
       "      <th>5861</th>\n",
       "      <td>one of the all time best episodes of star trek...</td>\n",
       "      <td>1.00</td>\n",
       "      <td>0.30</td>\n",
       "    </tr>\n",
       "    <tr>\n",
       "      <th>7093</th>\n",
       "      <td>star trek 2: wrath of khan is still - imo - th...</td>\n",
       "      <td>1.00</td>\n",
       "      <td>0.30</td>\n",
       "    </tr>\n",
       "    <tr>\n",
       "      <th>4858</th>\n",
       "      <td>star trek discovery. welcome #startrekdiscover...</td>\n",
       "      <td>1.00</td>\n",
       "      <td>0.90</td>\n",
       "    </tr>\n",
       "    <tr>\n",
       "      <th>7075</th>\n",
       "      <td>&amp;gt; rock out with his spock out -  - ha! lol!...</td>\n",
       "      <td>1.00</td>\n",
       "      <td>0.70</td>\n",
       "    </tr>\n",
       "    <tr>\n",
       "      <th>4841</th>\n",
       "      <td>dammit, now people are saying that spiner does...</td>\n",
       "      <td>1.00</td>\n",
       "      <td>0.90</td>\n",
       "    </tr>\n",
       "    <tr>\n",
       "      <th>4837</th>\n",
       "      <td>like all of the best star trek episodes, it ta...</td>\n",
       "      <td>1.00</td>\n",
       "      <td>0.30</td>\n",
       "    </tr>\n",
       "    <tr>\n",
       "      <th>...</th>\n",
       "      <td>...</td>\n",
       "      <td>...</td>\n",
       "      <td>...</td>\n",
       "    </tr>\n",
       "    <tr>\n",
       "      <th>8303</th>\n",
       "      <td>for everyone saying federation-klingon hybrid ...</td>\n",
       "      <td>0.36</td>\n",
       "      <td>0.52</td>\n",
       "    </tr>\n",
       "    <tr>\n",
       "      <th>5583</th>\n",
       "      <td>well i'm going to take the opportunity to say ...</td>\n",
       "      <td>0.36</td>\n",
       "      <td>0.61</td>\n",
       "    </tr>\n",
       "    <tr>\n",
       "      <th>994</th>\n",
       "      <td>to be fair, i think a lot of the issue here st...</td>\n",
       "      <td>0.36</td>\n",
       "      <td>0.67</td>\n",
       "    </tr>\n",
       "    <tr>\n",
       "      <th>6307</th>\n",
       "      <td>it was, in my opinion, the best of the new thr...</td>\n",
       "      <td>0.36</td>\n",
       "      <td>0.50</td>\n",
       "    </tr>\n",
       "    <tr>\n",
       "      <th>7464</th>\n",
       "      <td>i dunno, i enjoyed all of it.  season 3 was by...</td>\n",
       "      <td>0.36</td>\n",
       "      <td>0.58</td>\n",
       "    </tr>\n",
       "    <tr>\n",
       "      <th>8274</th>\n",
       "      <td>all the main races of star trek reside in the ...</td>\n",
       "      <td>0.36</td>\n",
       "      <td>0.60</td>\n",
       "    </tr>\n",
       "    <tr>\n",
       "      <th>3807</th>\n",
       "      <td>i thought it was well above par as someone who...</td>\n",
       "      <td>0.36</td>\n",
       "      <td>0.36</td>\n",
       "    </tr>\n",
       "    <tr>\n",
       "      <th>3271</th>\n",
       "      <td>wait.  hold on.  netflix, amazon, hulu, and hb...</td>\n",
       "      <td>0.36</td>\n",
       "      <td>0.62</td>\n",
       "    </tr>\n",
       "    <tr>\n",
       "      <th>2058</th>\n",
       "      <td>videos in this thread: -  - [watch playlist &amp;a...</td>\n",
       "      <td>0.36</td>\n",
       "      <td>0.60</td>\n",
       "    </tr>\n",
       "    <tr>\n",
       "      <th>5700</th>\n",
       "      <td>people are so infatuated with hating the new s...</td>\n",
       "      <td>0.36</td>\n",
       "      <td>0.54</td>\n",
       "    </tr>\n",
       "    <tr>\n",
       "      <th>5267</th>\n",
       "      <td>i thought it was fun, but i'm left perplexed b...</td>\n",
       "      <td>0.36</td>\n",
       "      <td>0.65</td>\n",
       "    </tr>\n",
       "    <tr>\n",
       "      <th>3470</th>\n",
       "      <td>i think it depends a bit on how many reference...</td>\n",
       "      <td>0.36</td>\n",
       "      <td>0.48</td>\n",
       "    </tr>\n",
       "    <tr>\n",
       "      <th>2200</th>\n",
       "      <td>to be fair, kirk was a cadet for awhile in the...</td>\n",
       "      <td>0.36</td>\n",
       "      <td>0.76</td>\n",
       "    </tr>\n",
       "    <tr>\n",
       "      <th>3211</th>\n",
       "      <td>i agree with that, i was just commenting that ...</td>\n",
       "      <td>0.36</td>\n",
       "      <td>0.71</td>\n",
       "    </tr>\n",
       "    <tr>\n",
       "      <th>2738</th>\n",
       "      <td>the point stands that it probably means the pe...</td>\n",
       "      <td>0.36</td>\n",
       "      <td>0.62</td>\n",
       "    </tr>\n",
       "    <tr>\n",
       "      <th>4190</th>\n",
       "      <td>i'm mixed on this movie. it has great star tre...</td>\n",
       "      <td>0.36</td>\n",
       "      <td>0.51</td>\n",
       "    </tr>\n",
       "    <tr>\n",
       "      <th>5306</th>\n",
       "      <td>i owe a giant apology to justin lin. i felt so...</td>\n",
       "      <td>0.36</td>\n",
       "      <td>0.63</td>\n",
       "    </tr>\n",
       "    <tr>\n",
       "      <th>7386</th>\n",
       "      <td>&amp;gt; gh start and partly because... it didn't ...</td>\n",
       "      <td>0.36</td>\n",
       "      <td>0.55</td>\n",
       "    </tr>\n",
       "    <tr>\n",
       "      <th>1362</th>\n",
       "      <td>i'll say this one more time and then i'm done ...</td>\n",
       "      <td>0.36</td>\n",
       "      <td>0.47</td>\n",
       "    </tr>\n",
       "    <tr>\n",
       "      <th>7865</th>\n",
       "      <td>if you want to get into star trek, i'd say sta...</td>\n",
       "      <td>0.36</td>\n",
       "      <td>0.38</td>\n",
       "    </tr>\n",
       "    <tr>\n",
       "      <th>3976</th>\n",
       "      <td>i agree largely, but i feel the need to apolog...</td>\n",
       "      <td>0.36</td>\n",
       "      <td>0.46</td>\n",
       "    </tr>\n",
       "    <tr>\n",
       "      <th>3877</th>\n",
       "      <td>someone is pissed at the federation in every t...</td>\n",
       "      <td>0.36</td>\n",
       "      <td>0.45</td>\n",
       "    </tr>\n",
       "    <tr>\n",
       "      <th>7299</th>\n",
       "      <td>and they were even a faster ship than anything...</td>\n",
       "      <td>0.36</td>\n",
       "      <td>0.55</td>\n",
       "    </tr>\n",
       "    <tr>\n",
       "      <th>7369</th>\n",
       "      <td>ah yes. right! i think one instance is when sp...</td>\n",
       "      <td>0.36</td>\n",
       "      <td>0.54</td>\n",
       "    </tr>\n",
       "    <tr>\n",
       "      <th>5672</th>\n",
       "      <td>he's not a bad choice for the part, and plays ...</td>\n",
       "      <td>0.36</td>\n",
       "      <td>0.50</td>\n",
       "    </tr>\n",
       "    <tr>\n",
       "      <th>959</th>\n",
       "      <td>the point of the philosophy is that everything...</td>\n",
       "      <td>0.36</td>\n",
       "      <td>0.70</td>\n",
       "    </tr>\n",
       "    <tr>\n",
       "      <th>1239</th>\n",
       "      <td>sulu is the first gay man depicted in star tre...</td>\n",
       "      <td>0.36</td>\n",
       "      <td>0.61</td>\n",
       "    </tr>\n",
       "    <tr>\n",
       "      <th>3488</th>\n",
       "      <td>i don't know, considering how into darkness wa...</td>\n",
       "      <td>0.35</td>\n",
       "      <td>0.61</td>\n",
       "    </tr>\n",
       "    <tr>\n",
       "      <th>783</th>\n",
       "      <td>i think tuvok played a fantastic vulcan. his l...</td>\n",
       "      <td>0.35</td>\n",
       "      <td>0.53</td>\n",
       "    </tr>\n",
       "    <tr>\n",
       "      <th>2854</th>\n",
       "      <td>i was okay with this film... until simon pegg ...</td>\n",
       "      <td>0.35</td>\n",
       "      <td>0.40</td>\n",
       "    </tr>\n",
       "  </tbody>\n",
       "</table>\n",
       "<p>846 rows × 3 columns</p>\n",
       "</div>"
      ],
      "text/plain": [
       "                                                   body  sentiment  \\\n",
       "4310  i hope they do. simon pegg nailed it. the rela...       1.00   \n",
       "4773  man...i just want to see the movie just for th...       1.00   \n",
       "4706     it alls fits perfectly within kirk's character       1.00   \n",
       "827   best tush on star trek until t'pol... even lt....       1.00   \n",
       "825   tim russ was the perfect guy to play a vulcan,...       1.00   \n",
       "1940  try to go to the star trek orchestra if its go...       1.00   \n",
       "3188  awesome, don't know how i missed that. is ther...       1.00   \n",
       "7833  nah, it was the dauphin.  perhaps the greatest...       1.00   \n",
       "7866  not going to lie, captain picard was my surrog...       1.00   \n",
       "5496  i still think that the defiant is one of the b...       1.00   \n",
       "2231  i disagree..by grabthar's hammer..galaxy quest...       1.00   \n",
       "2307  &gt; you've just discovered a way to be smug a...       1.00   \n",
       "6276  http://imgur.com/pjesd27.jpg -  - the d's my f...       1.00   \n",
       "5914  &gt;v did give us the awesome kirk quotes when...       1.00   \n",
       "2692  casting jason alexander as george costanza as ...       1.00   \n",
       "8132  the best thing about sto is how they make romu...       1.00   \n",
       "334                 easily best written star trek show.       1.00   \n",
       "2450  while i knew what you were getting at, i read ...       1.00   \n",
       "324   already listening to \"the greatest generation\"...       1.00   \n",
       "2480  simon pegg is the screenwriter. he's got bonif...       1.00   \n",
       "5685  and it would be the best way to honor 50 years...       1.00   \n",
       "6908  uh... no. people would say it was the best sta...       1.00   \n",
       "3220  i won't be. i'll be doing my best to show them...       1.00   \n",
       "7066  aye!  i'm a ds9 apologist and i think ds9 is t...       1.00   \n",
       "5861  one of the all time best episodes of star trek...       1.00   \n",
       "7093  star trek 2: wrath of khan is still - imo - th...       1.00   \n",
       "4858  star trek discovery. welcome #startrekdiscover...       1.00   \n",
       "7075  &gt; rock out with his spock out -  - ha! lol!...       1.00   \n",
       "4841  dammit, now people are saying that spiner does...       1.00   \n",
       "4837  like all of the best star trek episodes, it ta...       1.00   \n",
       "...                                                 ...        ...   \n",
       "8303  for everyone saying federation-klingon hybrid ...       0.36   \n",
       "5583  well i'm going to take the opportunity to say ...       0.36   \n",
       "994   to be fair, i think a lot of the issue here st...       0.36   \n",
       "6307  it was, in my opinion, the best of the new thr...       0.36   \n",
       "7464  i dunno, i enjoyed all of it.  season 3 was by...       0.36   \n",
       "8274  all the main races of star trek reside in the ...       0.36   \n",
       "3807  i thought it was well above par as someone who...       0.36   \n",
       "3271  wait.  hold on.  netflix, amazon, hulu, and hb...       0.36   \n",
       "2058  videos in this thread: -  - [watch playlist &a...       0.36   \n",
       "5700  people are so infatuated with hating the new s...       0.36   \n",
       "5267  i thought it was fun, but i'm left perplexed b...       0.36   \n",
       "3470  i think it depends a bit on how many reference...       0.36   \n",
       "2200  to be fair, kirk was a cadet for awhile in the...       0.36   \n",
       "3211  i agree with that, i was just commenting that ...       0.36   \n",
       "2738  the point stands that it probably means the pe...       0.36   \n",
       "4190  i'm mixed on this movie. it has great star tre...       0.36   \n",
       "5306  i owe a giant apology to justin lin. i felt so...       0.36   \n",
       "7386  &gt; gh start and partly because... it didn't ...       0.36   \n",
       "1362  i'll say this one more time and then i'm done ...       0.36   \n",
       "7865  if you want to get into star trek, i'd say sta...       0.36   \n",
       "3976  i agree largely, but i feel the need to apolog...       0.36   \n",
       "3877  someone is pissed at the federation in every t...       0.36   \n",
       "7299  and they were even a faster ship than anything...       0.36   \n",
       "7369  ah yes. right! i think one instance is when sp...       0.36   \n",
       "5672  he's not a bad choice for the part, and plays ...       0.36   \n",
       "959   the point of the philosophy is that everything...       0.36   \n",
       "1239  sulu is the first gay man depicted in star tre...       0.36   \n",
       "3488  i don't know, considering how into darkness wa...       0.35   \n",
       "783   i think tuvok played a fantastic vulcan. his l...       0.35   \n",
       "2854  i was okay with this film... until simon pegg ...       0.35   \n",
       "\n",
       "      subjectivity  \n",
       "4310          0.30  \n",
       "4773          1.00  \n",
       "4706          1.00  \n",
       "827           0.30  \n",
       "825           1.00  \n",
       "1940          1.00  \n",
       "3188          1.00  \n",
       "7833          1.00  \n",
       "7866          1.00  \n",
       "5496          0.30  \n",
       "2231          0.30  \n",
       "2307          0.30  \n",
       "6276          1.00  \n",
       "5914          1.00  \n",
       "2692          1.00  \n",
       "8132          0.65  \n",
       "334           0.30  \n",
       "2450          0.30  \n",
       "324           1.00  \n",
       "2480          0.75  \n",
       "5685          0.30  \n",
       "6908          0.30  \n",
       "3220          0.30  \n",
       "7066          0.30  \n",
       "5861          0.30  \n",
       "7093          0.30  \n",
       "4858          0.90  \n",
       "7075          0.70  \n",
       "4841          0.90  \n",
       "4837          0.30  \n",
       "...            ...  \n",
       "8303          0.52  \n",
       "5583          0.61  \n",
       "994           0.67  \n",
       "6307          0.50  \n",
       "7464          0.58  \n",
       "8274          0.60  \n",
       "3807          0.36  \n",
       "3271          0.62  \n",
       "2058          0.60  \n",
       "5700          0.54  \n",
       "5267          0.65  \n",
       "3470          0.48  \n",
       "2200          0.76  \n",
       "3211          0.71  \n",
       "2738          0.62  \n",
       "4190          0.51  \n",
       "5306          0.63  \n",
       "7386          0.55  \n",
       "1362          0.47  \n",
       "7865          0.38  \n",
       "3976          0.46  \n",
       "3877          0.45  \n",
       "7299          0.55  \n",
       "7369          0.54  \n",
       "5672          0.50  \n",
       "959           0.70  \n",
       "1239          0.61  \n",
       "3488          0.61  \n",
       "783           0.53  \n",
       "2854          0.40  \n",
       "\n",
       "[846 rows x 3 columns]"
      ]
     },
     "execution_count": 90,
     "metadata": {},
     "output_type": "execute_result"
    }
   ],
   "source": [
    "top_df"
   ]
  },
  {
   "cell_type": "code",
   "execution_count": 91,
   "metadata": {
    "collapsed": false
   },
   "outputs": [
    {
     "name": "stdout",
     "output_type": "stream",
     "text": [
      "CPU times: user 5.02 s, sys: 356 ms, total: 5.38 s\n",
      "Wall time: 5.4 s\n"
     ]
    }
   ],
   "source": [
    "%%time\n",
    "\n",
    "top_text = ''\n",
    "for x in top_df['body']:\n",
    "    top_text += x + ' '\n",
    "\n",
    "top_list = [\n",
    "    w\n",
    "    for w in nltk.word_tokenize(top_text)\n",
    "    if w not in stopwords.words('english') and w not in string.punctuation\n",
    "]"
   ]
  },
  {
   "cell_type": "code",
   "execution_count": 92,
   "metadata": {
    "collapsed": true
   },
   "outputs": [],
   "source": [
    "top_counter = Counter(top_list)"
   ]
  },
  {
   "cell_type": "code",
   "execution_count": 93,
   "metadata": {
    "collapsed": false
   },
   "outputs": [
    {
     "data": {
      "text/plain": [
       "[('trek', 565),\n",
       " ('star', 532),\n",
       " (\"'s\", 436),\n",
       " (\"n't\", 300),\n",
       " ('like', 187),\n",
       " ('good', 173),\n",
       " ('``', 168),\n",
       " (\"''\", 168),\n",
       " ('would', 158),\n",
       " ('kirk', 153),\n",
       " ('best', 150),\n",
       " ('think', 136),\n",
       " ('one', 123),\n",
       " ('...', 121),\n",
       " ('movie', 120),\n",
       " ('great', 113),\n",
       " ('really', 96),\n",
       " ('spock', 90),\n",
       " ('also', 89),\n",
       " (\"'m\", 89)]"
      ]
     },
     "execution_count": 93,
     "metadata": {},
     "output_type": "execute_result"
    }
   ],
   "source": [
    "top_counter.most_common(20)"
   ]
  },
  {
   "cell_type": "markdown",
   "metadata": {},
   "source": [
    "##### Histogram top negative"
   ]
  },
  {
   "cell_type": "code",
   "execution_count": 94,
   "metadata": {
    "collapsed": false
   },
   "outputs": [],
   "source": [
    "top_df = sentiment_df.sort_values('sentiment', ascending=True)[:len(subreddit_date_df) * P // 100]"
   ]
  },
  {
   "cell_type": "code",
   "execution_count": 95,
   "metadata": {
    "collapsed": false
   },
   "outputs": [
    {
     "data": {
      "text/html": [
       "<div>\n",
       "<table border=\"1\" class=\"dataframe\">\n",
       "  <thead>\n",
       "    <tr style=\"text-align: right;\">\n",
       "      <th></th>\n",
       "      <th>body</th>\n",
       "      <th>sentiment</th>\n",
       "      <th>subjectivity</th>\n",
       "    </tr>\n",
       "  </thead>\n",
       "  <tbody>\n",
       "    <tr>\n",
       "      <th>4997</th>\n",
       "      <td>oh, star trek fans. always demanding that star...</td>\n",
       "      <td>-1.00</td>\n",
       "      <td>1.00</td>\n",
       "    </tr>\n",
       "    <tr>\n",
       "      <th>3617</th>\n",
       "      <td>erf....disheartening.   it's not as awful as p...</td>\n",
       "      <td>-1.00</td>\n",
       "      <td>1.00</td>\n",
       "    </tr>\n",
       "    <tr>\n",
       "      <th>3684</th>\n",
       "      <td>i wouldn't say '09 was a terrible movie, but i...</td>\n",
       "      <td>-1.00</td>\n",
       "      <td>1.00</td>\n",
       "    </tr>\n",
       "    <tr>\n",
       "      <th>809</th>\n",
       "      <td>oh god, don't reference clinton's slogan, she ...</td>\n",
       "      <td>-1.00</td>\n",
       "      <td>1.00</td>\n",
       "    </tr>\n",
       "    <tr>\n",
       "      <th>6562</th>\n",
       "      <td>it's insulting to me to call that dreck \"star ...</td>\n",
       "      <td>-1.00</td>\n",
       "      <td>1.00</td>\n",
       "    </tr>\n",
       "    <tr>\n",
       "      <th>707</th>\n",
       "      <td>yea jj spock is the worst thing about the st m...</td>\n",
       "      <td>-1.00</td>\n",
       "      <td>1.00</td>\n",
       "    </tr>\n",
       "    <tr>\n",
       "      <th>5984</th>\n",
       "      <td>it's the worst star trek ship design i've ever...</td>\n",
       "      <td>-1.00</td>\n",
       "      <td>1.00</td>\n",
       "    </tr>\n",
       "    <tr>\n",
       "      <th>7291</th>\n",
       "      <td>but evil spock isn't evil...</td>\n",
       "      <td>-1.00</td>\n",
       "      <td>1.00</td>\n",
       "    </tr>\n",
       "    <tr>\n",
       "      <th>616</th>\n",
       "      <td>your lack of respect for the prime directive i...</td>\n",
       "      <td>-1.00</td>\n",
       "      <td>1.00</td>\n",
       "    </tr>\n",
       "    <tr>\n",
       "      <th>607</th>\n",
       "      <td>just think of how pissed off evil spock would ...</td>\n",
       "      <td>-1.00</td>\n",
       "      <td>1.00</td>\n",
       "    </tr>\n",
       "    <tr>\n",
       "      <th>4437</th>\n",
       "      <td>jj ruined my star trek :'( -  - oh wait, this ...</td>\n",
       "      <td>-1.00</td>\n",
       "      <td>1.00</td>\n",
       "    </tr>\n",
       "    <tr>\n",
       "      <th>1008</th>\n",
       "      <td>you don't remember when evil sulu from \"mirror...</td>\n",
       "      <td>-1.00</td>\n",
       "      <td>1.00</td>\n",
       "    </tr>\n",
       "    <tr>\n",
       "      <th>391</th>\n",
       "      <td>&amp;gt; he's like the professor snape of star tre...</td>\n",
       "      <td>-1.00</td>\n",
       "      <td>1.00</td>\n",
       "    </tr>\n",
       "    <tr>\n",
       "      <th>2522</th>\n",
       "      <td>kirk: guinan, plot a course for.. -  - guinan:...</td>\n",
       "      <td>-1.00</td>\n",
       "      <td>1.00</td>\n",
       "    </tr>\n",
       "    <tr>\n",
       "      <th>5787</th>\n",
       "      <td>worst star trek movie i have ever seen....</td>\n",
       "      <td>-1.00</td>\n",
       "      <td>1.00</td>\n",
       "    </tr>\n",
       "    <tr>\n",
       "      <th>2452</th>\n",
       "      <td>jj abrams is a cancer inflicted upon the stat ...</td>\n",
       "      <td>-1.00</td>\n",
       "      <td>1.00</td>\n",
       "    </tr>\n",
       "    <tr>\n",
       "      <th>4146</th>\n",
       "      <td>you fools will swallow anything with the words...</td>\n",
       "      <td>-0.90</td>\n",
       "      <td>0.70</td>\n",
       "    </tr>\n",
       "    <tr>\n",
       "      <th>2434</th>\n",
       "      <td>if you think i care about your group politic, ...</td>\n",
       "      <td>-0.90</td>\n",
       "      <td>0.80</td>\n",
       "    </tr>\n",
       "    <tr>\n",
       "      <th>7067</th>\n",
       "      <td>i hate it when evil spock negotiates.</td>\n",
       "      <td>-0.90</td>\n",
       "      <td>0.95</td>\n",
       "    </tr>\n",
       "    <tr>\n",
       "      <th>7102</th>\n",
       "      <td>ah yes, minuet. didn't picard turn up on the h...</td>\n",
       "      <td>-0.80</td>\n",
       "      <td>0.90</td>\n",
       "    </tr>\n",
       "    <tr>\n",
       "      <th>5642</th>\n",
       "      <td>sometimes it seems like, and i have to include...</td>\n",
       "      <td>-0.80</td>\n",
       "      <td>0.90</td>\n",
       "    </tr>\n",
       "    <tr>\n",
       "      <th>7504</th>\n",
       "      <td>spock's brain is still smarter than justin lin...</td>\n",
       "      <td>-0.80</td>\n",
       "      <td>1.00</td>\n",
       "    </tr>\n",
       "    <tr>\n",
       "      <th>2543</th>\n",
       "      <td>are you kidding? into darkness is the worst fu...</td>\n",
       "      <td>-0.80</td>\n",
       "      <td>0.90</td>\n",
       "    </tr>\n",
       "    <tr>\n",
       "      <th>5045</th>\n",
       "      <td>me too! it looks like an [idic](https://www.go...</td>\n",
       "      <td>-0.80</td>\n",
       "      <td>0.90</td>\n",
       "    </tr>\n",
       "    <tr>\n",
       "      <th>6691</th>\n",
       "      <td>spock captained the enterprise between kirk's ...</td>\n",
       "      <td>-0.80</td>\n",
       "      <td>0.90</td>\n",
       "    </tr>\n",
       "    <tr>\n",
       "      <th>8446</th>\n",
       "      <td>i still hate him for ruining the series finale...</td>\n",
       "      <td>-0.80</td>\n",
       "      <td>0.90</td>\n",
       "    </tr>\n",
       "    <tr>\n",
       "      <th>1798</th>\n",
       "      <td>did their brig not function or what? i cannot ...</td>\n",
       "      <td>-0.80</td>\n",
       "      <td>0.90</td>\n",
       "    </tr>\n",
       "    <tr>\n",
       "      <th>6102</th>\n",
       "      <td>if i was going to imagine what a warp core loo...</td>\n",
       "      <td>-0.80</td>\n",
       "      <td>0.90</td>\n",
       "    </tr>\n",
       "    <tr>\n",
       "      <th>519</th>\n",
       "      <td>hmm.... i always thought kirk was a moron.  i ...</td>\n",
       "      <td>-0.80</td>\n",
       "      <td>1.00</td>\n",
       "    </tr>\n",
       "    <tr>\n",
       "      <th>2882</th>\n",
       "      <td>trekkie vs trekker debate should be settled. s...</td>\n",
       "      <td>-0.80</td>\n",
       "      <td>1.00</td>\n",
       "    </tr>\n",
       "    <tr>\n",
       "      <th>...</th>\n",
       "      <td>...</td>\n",
       "      <td>...</td>\n",
       "      <td>...</td>\n",
       "    </tr>\n",
       "    <tr>\n",
       "      <th>4683</th>\n",
       "      <td>i don't even count vulcans.  or klingons from ...</td>\n",
       "      <td>-0.10</td>\n",
       "      <td>0.50</td>\n",
       "    </tr>\n",
       "    <tr>\n",
       "      <th>4749</th>\n",
       "      <td>it made star trek and into darkness look like ...</td>\n",
       "      <td>-0.10</td>\n",
       "      <td>0.50</td>\n",
       "    </tr>\n",
       "    <tr>\n",
       "      <th>6790</th>\n",
       "      <td>it's never [stated explicitly in the episode](...</td>\n",
       "      <td>-0.10</td>\n",
       "      <td>0.59</td>\n",
       "    </tr>\n",
       "    <tr>\n",
       "      <th>7957</th>\n",
       "      <td>i don't think most of us here \"hate\" it, but t...</td>\n",
       "      <td>-0.10</td>\n",
       "      <td>0.60</td>\n",
       "    </tr>\n",
       "    <tr>\n",
       "      <th>3304</th>\n",
       "      <td>this will guarantee that i will never buy cbs ...</td>\n",
       "      <td>-0.10</td>\n",
       "      <td>0.67</td>\n",
       "    </tr>\n",
       "    <tr>\n",
       "      <th>6697</th>\n",
       "      <td>so, just off the top of my head, i think if i ...</td>\n",
       "      <td>-0.10</td>\n",
       "      <td>0.40</td>\n",
       "    </tr>\n",
       "    <tr>\n",
       "      <th>6134</th>\n",
       "      <td>criticism has greeted every new star trek seri...</td>\n",
       "      <td>-0.10</td>\n",
       "      <td>0.53</td>\n",
       "    </tr>\n",
       "    <tr>\n",
       "      <th>1445</th>\n",
       "      <td>so you are saying you would rather they never ...</td>\n",
       "      <td>-0.10</td>\n",
       "      <td>0.54</td>\n",
       "    </tr>\n",
       "    <tr>\n",
       "      <th>7178</th>\n",
       "      <td>is this a joke? this movie was terrible. -  - ...</td>\n",
       "      <td>-0.10</td>\n",
       "      <td>0.57</td>\n",
       "    </tr>\n",
       "    <tr>\n",
       "      <th>5858</th>\n",
       "      <td>yeah, gates mcfadden (doc crusher) had a prior...</td>\n",
       "      <td>-0.10</td>\n",
       "      <td>0.07</td>\n",
       "    </tr>\n",
       "    <tr>\n",
       "      <th>6344</th>\n",
       "      <td>i don't disagree with you, i just feel like th...</td>\n",
       "      <td>-0.10</td>\n",
       "      <td>0.72</td>\n",
       "    </tr>\n",
       "    <tr>\n",
       "      <th>5535</th>\n",
       "      <td>uhura belly dancing. deck numbers in the wrong...</td>\n",
       "      <td>-0.10</td>\n",
       "      <td>0.70</td>\n",
       "    </tr>\n",
       "    <tr>\n",
       "      <th>5512</th>\n",
       "      <td>the last scene of the movie, kirk toasted to \"...</td>\n",
       "      <td>-0.10</td>\n",
       "      <td>0.19</td>\n",
       "    </tr>\n",
       "    <tr>\n",
       "      <th>2789</th>\n",
       "      <td>i never understood mccoy's pain about his fath...</td>\n",
       "      <td>-0.10</td>\n",
       "      <td>0.50</td>\n",
       "    </tr>\n",
       "    <tr>\n",
       "      <th>3269</th>\n",
       "      <td>&amp;gt;  i'm gonna pay $18 this weekend to see st...</td>\n",
       "      <td>-0.10</td>\n",
       "      <td>0.40</td>\n",
       "    </tr>\n",
       "    <tr>\n",
       "      <th>8054</th>\n",
       "      <td>haven't they already covered this several time...</td>\n",
       "      <td>-0.10</td>\n",
       "      <td>0.43</td>\n",
       "    </tr>\n",
       "    <tr>\n",
       "      <th>6071</th>\n",
       "      <td>to me the name discovery clashes with the omin...</td>\n",
       "      <td>-0.10</td>\n",
       "      <td>1.00</td>\n",
       "    </tr>\n",
       "    <tr>\n",
       "      <th>1933</th>\n",
       "      <td>he could have just said that sulu prime really...</td>\n",
       "      <td>-0.10</td>\n",
       "      <td>0.20</td>\n",
       "    </tr>\n",
       "    <tr>\n",
       "      <th>7551</th>\n",
       "      <td>thinking of the scene where he tries to lie to...</td>\n",
       "      <td>-0.10</td>\n",
       "      <td>0.40</td>\n",
       "    </tr>\n",
       "    <tr>\n",
       "      <th>7759</th>\n",
       "      <td>i've said it before, but since the narada (ner...</td>\n",
       "      <td>-0.10</td>\n",
       "      <td>0.40</td>\n",
       "    </tr>\n",
       "    <tr>\n",
       "      <th>1999</th>\n",
       "      <td>agreed.  the reason he gave for removing the \"...</td>\n",
       "      <td>-0.10</td>\n",
       "      <td>0.60</td>\n",
       "    </tr>\n",
       "    <tr>\n",
       "      <th>6103</th>\n",
       "      <td>he tries but kirk elbows him before he can.</td>\n",
       "      <td>-0.10</td>\n",
       "      <td>0.40</td>\n",
       "    </tr>\n",
       "    <tr>\n",
       "      <th>278</th>\n",
       "      <td>a vulcan/klingon... i'd be curious to see how ...</td>\n",
       "      <td>-0.10</td>\n",
       "      <td>1.00</td>\n",
       "    </tr>\n",
       "    <tr>\n",
       "      <th>4237</th>\n",
       "      <td>&amp;gt; 35 seconds into the movie kirk is impatie...</td>\n",
       "      <td>-0.10</td>\n",
       "      <td>0.75</td>\n",
       "    </tr>\n",
       "    <tr>\n",
       "      <th>5966</th>\n",
       "      <td>the third glass was for george kirk, his dead ...</td>\n",
       "      <td>-0.10</td>\n",
       "      <td>0.20</td>\n",
       "    </tr>\n",
       "    <tr>\n",
       "      <th>2036</th>\n",
       "      <td>you have absolutely no idea what star trek sta...</td>\n",
       "      <td>-0.10</td>\n",
       "      <td>0.90</td>\n",
       "    </tr>\n",
       "    <tr>\n",
       "      <th>7508</th>\n",
       "      <td>who knows? but would you really want to see th...</td>\n",
       "      <td>-0.10</td>\n",
       "      <td>0.40</td>\n",
       "    </tr>\n",
       "    <tr>\n",
       "      <th>8256</th>\n",
       "      <td>i doubt it.  i mean...they're now officially s...</td>\n",
       "      <td>-0.10</td>\n",
       "      <td>0.10</td>\n",
       "    </tr>\n",
       "    <tr>\n",
       "      <th>2257</th>\n",
       "      <td>a) o'doul's is not the same thing as synthehol...</td>\n",
       "      <td>-0.10</td>\n",
       "      <td>0.46</td>\n",
       "    </tr>\n",
       "    <tr>\n",
       "      <th>1170</th>\n",
       "      <td>thanks for leading me to this story i'd never ...</td>\n",
       "      <td>-0.10</td>\n",
       "      <td>0.30</td>\n",
       "    </tr>\n",
       "  </tbody>\n",
       "</table>\n",
       "<p>846 rows × 3 columns</p>\n",
       "</div>"
      ],
      "text/plain": [
       "                                                   body  sentiment  \\\n",
       "4997  oh, star trek fans. always demanding that star...      -1.00   \n",
       "3617  erf....disheartening.   it's not as awful as p...      -1.00   \n",
       "3684  i wouldn't say '09 was a terrible movie, but i...      -1.00   \n",
       "809   oh god, don't reference clinton's slogan, she ...      -1.00   \n",
       "6562  it's insulting to me to call that dreck \"star ...      -1.00   \n",
       "707   yea jj spock is the worst thing about the st m...      -1.00   \n",
       "5984  it's the worst star trek ship design i've ever...      -1.00   \n",
       "7291                       but evil spock isn't evil...      -1.00   \n",
       "616   your lack of respect for the prime directive i...      -1.00   \n",
       "607   just think of how pissed off evil spock would ...      -1.00   \n",
       "4437  jj ruined my star trek :'( -  - oh wait, this ...      -1.00   \n",
       "1008  you don't remember when evil sulu from \"mirror...      -1.00   \n",
       "391   &gt; he's like the professor snape of star tre...      -1.00   \n",
       "2522  kirk: guinan, plot a course for.. -  - guinan:...      -1.00   \n",
       "5787         worst star trek movie i have ever seen....      -1.00   \n",
       "2452  jj abrams is a cancer inflicted upon the stat ...      -1.00   \n",
       "4146  you fools will swallow anything with the words...      -0.90   \n",
       "2434  if you think i care about your group politic, ...      -0.90   \n",
       "7067              i hate it when evil spock negotiates.      -0.90   \n",
       "7102  ah yes, minuet. didn't picard turn up on the h...      -0.80   \n",
       "5642  sometimes it seems like, and i have to include...      -0.80   \n",
       "7504  spock's brain is still smarter than justin lin...      -0.80   \n",
       "2543  are you kidding? into darkness is the worst fu...      -0.80   \n",
       "5045  me too! it looks like an [idic](https://www.go...      -0.80   \n",
       "6691  spock captained the enterprise between kirk's ...      -0.80   \n",
       "8446  i still hate him for ruining the series finale...      -0.80   \n",
       "1798  did their brig not function or what? i cannot ...      -0.80   \n",
       "6102  if i was going to imagine what a warp core loo...      -0.80   \n",
       "519   hmm.... i always thought kirk was a moron.  i ...      -0.80   \n",
       "2882  trekkie vs trekker debate should be settled. s...      -0.80   \n",
       "...                                                 ...        ...   \n",
       "4683  i don't even count vulcans.  or klingons from ...      -0.10   \n",
       "4749  it made star trek and into darkness look like ...      -0.10   \n",
       "6790  it's never [stated explicitly in the episode](...      -0.10   \n",
       "7957  i don't think most of us here \"hate\" it, but t...      -0.10   \n",
       "3304  this will guarantee that i will never buy cbs ...      -0.10   \n",
       "6697  so, just off the top of my head, i think if i ...      -0.10   \n",
       "6134  criticism has greeted every new star trek seri...      -0.10   \n",
       "1445  so you are saying you would rather they never ...      -0.10   \n",
       "7178  is this a joke? this movie was terrible. -  - ...      -0.10   \n",
       "5858  yeah, gates mcfadden (doc crusher) had a prior...      -0.10   \n",
       "6344  i don't disagree with you, i just feel like th...      -0.10   \n",
       "5535  uhura belly dancing. deck numbers in the wrong...      -0.10   \n",
       "5512  the last scene of the movie, kirk toasted to \"...      -0.10   \n",
       "2789  i never understood mccoy's pain about his fath...      -0.10   \n",
       "3269  &gt;  i'm gonna pay $18 this weekend to see st...      -0.10   \n",
       "8054  haven't they already covered this several time...      -0.10   \n",
       "6071  to me the name discovery clashes with the omin...      -0.10   \n",
       "1933  he could have just said that sulu prime really...      -0.10   \n",
       "7551  thinking of the scene where he tries to lie to...      -0.10   \n",
       "7759  i've said it before, but since the narada (ner...      -0.10   \n",
       "1999  agreed.  the reason he gave for removing the \"...      -0.10   \n",
       "6103        he tries but kirk elbows him before he can.      -0.10   \n",
       "278   a vulcan/klingon... i'd be curious to see how ...      -0.10   \n",
       "4237  &gt; 35 seconds into the movie kirk is impatie...      -0.10   \n",
       "5966  the third glass was for george kirk, his dead ...      -0.10   \n",
       "2036  you have absolutely no idea what star trek sta...      -0.10   \n",
       "7508  who knows? but would you really want to see th...      -0.10   \n",
       "8256  i doubt it.  i mean...they're now officially s...      -0.10   \n",
       "2257  a) o'doul's is not the same thing as synthehol...      -0.10   \n",
       "1170  thanks for leading me to this story i'd never ...      -0.10   \n",
       "\n",
       "      subjectivity  \n",
       "4997          1.00  \n",
       "3617          1.00  \n",
       "3684          1.00  \n",
       "809           1.00  \n",
       "6562          1.00  \n",
       "707           1.00  \n",
       "5984          1.00  \n",
       "7291          1.00  \n",
       "616           1.00  \n",
       "607           1.00  \n",
       "4437          1.00  \n",
       "1008          1.00  \n",
       "391           1.00  \n",
       "2522          1.00  \n",
       "5787          1.00  \n",
       "2452          1.00  \n",
       "4146          0.70  \n",
       "2434          0.80  \n",
       "7067          0.95  \n",
       "7102          0.90  \n",
       "5642          0.90  \n",
       "7504          1.00  \n",
       "2543          0.90  \n",
       "5045          0.90  \n",
       "6691          0.90  \n",
       "8446          0.90  \n",
       "1798          0.90  \n",
       "6102          0.90  \n",
       "519           1.00  \n",
       "2882          1.00  \n",
       "...            ...  \n",
       "4683          0.50  \n",
       "4749          0.50  \n",
       "6790          0.59  \n",
       "7957          0.60  \n",
       "3304          0.67  \n",
       "6697          0.40  \n",
       "6134          0.53  \n",
       "1445          0.54  \n",
       "7178          0.57  \n",
       "5858          0.07  \n",
       "6344          0.72  \n",
       "5535          0.70  \n",
       "5512          0.19  \n",
       "2789          0.50  \n",
       "3269          0.40  \n",
       "8054          0.43  \n",
       "6071          1.00  \n",
       "1933          0.20  \n",
       "7551          0.40  \n",
       "7759          0.40  \n",
       "1999          0.60  \n",
       "6103          0.40  \n",
       "278           1.00  \n",
       "4237          0.75  \n",
       "5966          0.20  \n",
       "2036          0.90  \n",
       "7508          0.40  \n",
       "8256          0.10  \n",
       "2257          0.46  \n",
       "1170          0.30  \n",
       "\n",
       "[846 rows x 3 columns]"
      ]
     },
     "execution_count": 95,
     "metadata": {},
     "output_type": "execute_result"
    }
   ],
   "source": [
    "top_df"
   ]
  },
  {
   "cell_type": "code",
   "execution_count": 96,
   "metadata": {
    "collapsed": false
   },
   "outputs": [
    {
     "name": "stdout",
     "output_type": "stream",
     "text": [
      "CPU times: user 6.63 s, sys: 456 ms, total: 7.09 s\n",
      "Wall time: 7.09 s\n"
     ]
    }
   ],
   "source": [
    "%%time\n",
    "\n",
    "top_text = ''\n",
    "for x in top_df['body']:\n",
    "    top_text += x + ' '\n",
    "\n",
    "top_list = [\n",
    "    w\n",
    "    for w in nltk.word_tokenize(top_text)\n",
    "    if w not in stopwords.words('english') and w not in string.punctuation\n",
    "]"
   ]
  },
  {
   "cell_type": "code",
   "execution_count": 97,
   "metadata": {
    "collapsed": true
   },
   "outputs": [],
   "source": [
    "top_counter = Counter(top_list)"
   ]
  },
  {
   "cell_type": "code",
   "execution_count": 98,
   "metadata": {
    "collapsed": false
   },
   "outputs": [
    {
     "data": {
      "text/plain": [
       "[(\"'s\", 517),\n",
       " ('trek', 509),\n",
       " ('star', 501),\n",
       " (\"n't\", 428),\n",
       " (\"''\", 233),\n",
       " ('``', 232),\n",
       " ('like', 230),\n",
       " ('kirk', 190),\n",
       " ('...', 153),\n",
       " ('would', 138),\n",
       " ('spock', 129),\n",
       " ('one', 126),\n",
       " ('think', 121),\n",
       " (\"'m\", 119),\n",
       " ('movie', 118),\n",
       " ('bad', 114),\n",
       " ('time', 106),\n",
       " ('ship', 103),\n",
       " ('people', 103),\n",
       " ('even', 99)]"
      ]
     },
     "execution_count": 98,
     "metadata": {},
     "output_type": "execute_result"
    }
   ],
   "source": [
    "top_counter.most_common(20)"
   ]
  },
  {
   "cell_type": "code",
   "execution_count": null,
   "metadata": {
    "collapsed": true
   },
   "outputs": [],
   "source": []
  }
 ],
 "metadata": {
  "kernelspec": {
   "display_name": "Python 3",
   "language": "python",
   "name": "python3"
  },
  "language_info": {
   "codemirror_mode": {
    "name": "ipython",
    "version": 3
   },
   "file_extension": ".py",
   "mimetype": "text/x-python",
   "name": "python",
   "nbconvert_exporter": "python",
   "pygments_lexer": "ipython3",
   "version": "3.4.3"
  }
 },
 "nbformat": 4,
 "nbformat_minor": 2
}
