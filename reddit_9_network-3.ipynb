{
 "cells": [
  {
   "cell_type": "code",
   "execution_count": 1,
   "metadata": {
    "collapsed": false
   },
   "outputs": [],
   "source": [
    "import os\n",
    "import re\n",
    "import string\n",
    "from collections import Counter\n",
    "from collections import defaultdict\n",
    "from datetime import datetime\n",
    "from string import punctuation\n",
    "from urllib.parse import urlparse\n",
    "\n",
    "import networkx as nx\n",
    "import nltk\n",
    "import pandas as pd\n",
    "import matplotlib\n",
    "import seaborn as sns\n",
    "from textblob import TextBlob\n",
    "from nltk.corpus import stopwords\n",
    "from nltk.util import ngrams"
   ]
  },
  {
   "cell_type": "code",
   "execution_count": 2,
   "metadata": {
    "collapsed": false
   },
   "outputs": [],
   "source": [
    "%matplotlib inline\n",
    "matplotlib.rcParams['figure.max_open_warning'] = 1000\n",
    "matplotlib.rcParams['lines.linewidth'] = 1.0\n",
    "\n",
    "pd.set_option('display.float_format', lambda x: '%.2f' % x)"
   ]
  },
  {
   "cell_type": "code",
   "execution_count": 3,
   "metadata": {
    "collapsed": true
   },
   "outputs": [],
   "source": [
    "def my_ngrams(tokens, rg):\n",
    "    ngrms = []\n",
    "    for i in range(rg[0], rg[1] + 1):\n",
    "        ngrms_aux = [ngrm for ngrm in ngrams(tokens, i)]\n",
    "        ngrms.extend(ngrms_aux)\n",
    "    return ngrms"
   ]
  },
  {
   "cell_type": "markdown",
   "metadata": {},
   "source": [
    "# Preparing data"
   ]
  },
  {
   "cell_type": "markdown",
   "metadata": {},
   "source": [
    "## Selected keywords"
   ]
  },
  {
   "cell_type": "code",
   "execution_count": 4,
   "metadata": {
    "collapsed": true
   },
   "outputs": [],
   "source": [
    "original_keywords = [\"Picard\", \"Kirk\", \"Sulu\", \"Uhura\", \"Spock\", \"McCoy\", \"Bones\", \"Scotty\", \"Chekhov\", \"Crusher\", \"Nurse Chapel\", \"Sarek\", \"Nero\", \"Khan\", \"Data\", \"Pike\", \"Star Trek\", \"Klingon\", \"Vulcan\", \"Romulan\", \"Star fleet\", \"Starship Enterprise\", \"Delta Vega\", \"Earth\", \"Orion\", \"Romulan Narada\", \"Stardate\", \"Transporter beam\", \"Beam me up,\\? Scotty\", \"Kobayashi Maru\", \"Space,\\? The Final Frontier\", \"Energize\", \"Vulcan Salute\", \"Prime Directive\", \"Live long and prosper\", \"LLAP\", \"I'm a doctor,\\? not a\", \"KHAAA\\+N\", \"When you eliminate the impossible,\\? whatever remains,\\? however improbable,\\? must be the truth\", \"Without followers,\\? evil cannot spread\", \"The needs of the many outweigh the needs of the few\", \"Highly illogical\", \"to boldly go where no man has gone before\", \"I'm giving her all she's got,\\? Captain\", \"Nuclear wessels\", \"Set phasers to stun\", \"Resistance is futile\", \"I have been and always shall be your friend\"]"
   ]
  },
  {
   "cell_type": "code",
   "execution_count": 5,
   "metadata": {
    "collapsed": false
   },
   "outputs": [
    {
     "name": "stdout",
     "output_type": "stream",
     "text": [
      "['Picard', 'Kirk', 'Sulu', 'Uhura', 'Spock', 'McCoy', 'Bones', 'Scotty', 'Chekhov', 'Crusher', 'Nurse Chapel', 'Sarek', 'Nero', 'Khan', 'Data', 'Pike', 'Star Trek', 'Klingon', 'Vulcan', 'Romulan', 'Star fleet', 'Starship Enterprise', 'Delta Vega', 'Earth', 'Orion', 'Romulan Narada', 'Stardate', 'Transporter beam', 'Beam me up,\\\\? Scotty', 'Kobayashi Maru', 'Space,\\\\? The Final Frontier', 'Energize', 'Vulcan Salute', 'Prime Directive', 'Live long and prosper', 'LLAP', \"I'm a doctor,\\\\? not a\", 'KHAAA\\\\+N', 'When you eliminate the impossible,\\\\? whatever remains,\\\\? however improbable,\\\\? must be the truth', 'Without followers,\\\\? evil cannot spread', 'The needs of the many outweigh the needs of the few', 'Highly illogical', 'to boldly go where no man has gone before', \"I'm giving her all she's got,\\\\? Captain\", 'Nuclear wessels', 'Set phasers to stun', 'Resistance is futile', 'I have been and always shall be your friend']\n"
     ]
    }
   ],
   "source": [
    "print(original_keywords)"
   ]
  },
  {
   "cell_type": "code",
   "execution_count": 6,
   "metadata": {
    "collapsed": true
   },
   "outputs": [],
   "source": [
    "ambiguous_keywords = [\n",
    "    'Bones',\n",
    "    'Khan',\n",
    "    'Data',\n",
    "    'Earth',\n",
    "    'Energize',\n",
    "]"
   ]
  },
  {
   "cell_type": "code",
   "execution_count": 7,
   "metadata": {
    "collapsed": true
   },
   "outputs": [],
   "source": [
    "keywords = list(set(original_keywords).difference(ambiguous_keywords))\n",
    "keywords = [w.replace('\\\\', '').lower() for w in keywords]\n",
    "keywords.sort()"
   ]
  },
  {
   "cell_type": "code",
   "execution_count": 8,
   "metadata": {
    "collapsed": false
   },
   "outputs": [
    {
     "name": "stdout",
     "output_type": "stream",
     "text": [
      "['beam me up,? scotty', 'chekhov', 'crusher', 'delta vega', 'highly illogical', 'i have been and always shall be your friend', \"i'm a doctor,? not a\", \"i'm giving her all she's got,? captain\", 'khaaa+n', 'kirk', 'klingon', 'kobayashi maru', 'live long and prosper', 'llap', 'mccoy', 'nero', 'nuclear wessels', 'nurse chapel', 'orion', 'picard', 'pike', 'prime directive', 'resistance is futile', 'romulan', 'romulan narada', 'sarek', 'scotty', 'set phasers to stun', 'space,? the final frontier', 'spock', 'star fleet', 'star trek', 'stardate', 'starship enterprise', 'sulu', 'the needs of the many outweigh the needs of the few', 'to boldly go where no man has gone before', 'transporter beam', 'uhura', 'vulcan', 'vulcan salute', 'when you eliminate the impossible,? whatever remains,? however improbable,? must be the truth', 'without followers,? evil cannot spread']\n"
     ]
    }
   ],
   "source": [
    "print(keywords)"
   ]
  },
  {
   "cell_type": "markdown",
   "metadata": {},
   "source": [
    "## Comments"
   ]
  },
  {
   "cell_type": "code",
   "execution_count": 9,
   "metadata": {
    "collapsed": false
   },
   "outputs": [
    {
     "name": "stdout",
     "output_type": "stream",
     "text": [
      "CPU times: user 28.1 s, sys: 1.77 s, total: 29.9 s\n",
      "Wall time: 30.6 s\n"
     ]
    }
   ],
   "source": [
    "%%time\n",
    "\n",
    "dtypes = {\n",
    "    'author': str,\n",
    "    'body': str,\n",
    "    'controversiality': int,\n",
    "    'created_utc': pd.tslib.Timestamp,\n",
    "    'distinguished': str,\n",
    "    'downs': str,\n",
    "    'gilded': str,\n",
    "    'id': str,\n",
    "    'name': str,\n",
    "    'parent_id': str,\n",
    "    'score': int,\n",
    "    'subreddit': str,\n",
    "    'ups': str,\n",
    "    'month': pd.tslib.Timestamp,\n",
    "    'year': pd.tslib.Timestamp,\n",
    "}\n",
    "\n",
    "reddit_df = pd.read_csv('reddit.csv', header=0, dtype=dtypes, parse_dates=['created_utc', 'month', 'year'])\n",
    "reddit_df = reddit_df.fillna(0)"
   ]
  },
  {
   "cell_type": "code",
   "execution_count": 10,
   "metadata": {
    "collapsed": false
   },
   "outputs": [
    {
     "data": {
      "text/plain": [
       "2669814"
      ]
     },
     "execution_count": 10,
     "metadata": {},
     "output_type": "execute_result"
    }
   ],
   "source": [
    "len(reddit_df)"
   ]
  },
  {
   "cell_type": "code",
   "execution_count": 11,
   "metadata": {
    "collapsed": false,
    "scrolled": false
   },
   "outputs": [
    {
     "data": {
      "text/html": [
       "<div>\n",
       "<table border=\"1\" class=\"dataframe\">\n",
       "  <thead>\n",
       "    <tr style=\"text-align: right;\">\n",
       "      <th></th>\n",
       "      <th>author</th>\n",
       "      <th>body</th>\n",
       "      <th>controversiality</th>\n",
       "      <th>created_utc</th>\n",
       "      <th>distinguished</th>\n",
       "      <th>downs</th>\n",
       "      <th>gilded</th>\n",
       "      <th>id</th>\n",
       "      <th>name</th>\n",
       "      <th>parent_id</th>\n",
       "      <th>score</th>\n",
       "      <th>subreddit</th>\n",
       "      <th>ups</th>\n",
       "      <th>month</th>\n",
       "      <th>year</th>\n",
       "    </tr>\n",
       "  </thead>\n",
       "  <tbody>\n",
       "    <tr>\n",
       "      <th>0</th>\n",
       "      <td>gschizas</td>\n",
       "      <td>same in greek. my personal peeve: quite a lot ...</td>\n",
       "      <td>0</td>\n",
       "      <td>2007-10-15 15:22:33</td>\n",
       "      <td>0</td>\n",
       "      <td>0.0</td>\n",
       "      <td>0</td>\n",
       "      <td>c029c79</td>\n",
       "      <td>t1_c029c79</td>\n",
       "      <td>t1_c029brz</td>\n",
       "      <td>13</td>\n",
       "      <td>programming</td>\n",
       "      <td>13</td>\n",
       "      <td>2007-10-01</td>\n",
       "      <td>2007-01-01</td>\n",
       "    </tr>\n",
       "    <tr>\n",
       "      <th>1</th>\n",
       "      <td>[deleted]</td>\n",
       "      <td>&amp;gt;they also decided to rig a thermal barrier...</td>\n",
       "      <td>0</td>\n",
       "      <td>2007-10-16 05:11:09</td>\n",
       "      <td>0</td>\n",
       "      <td>0.0</td>\n",
       "      <td>0</td>\n",
       "      <td>c029g6h</td>\n",
       "      <td>t1_c029g6h</td>\n",
       "      <td>t3_5ye94</td>\n",
       "      <td>2</td>\n",
       "      <td>programming</td>\n",
       "      <td>2</td>\n",
       "      <td>2007-10-01</td>\n",
       "      <td>2007-01-01</td>\n",
       "    </tr>\n",
       "    <tr>\n",
       "      <th>2</th>\n",
       "      <td>johnmudd</td>\n",
       "      <td>&amp;gt; by the time a child born today graduates ...</td>\n",
       "      <td>0</td>\n",
       "      <td>2007-10-16 07:00:36</td>\n",
       "      <td>0</td>\n",
       "      <td>0.0</td>\n",
       "      <td>0</td>\n",
       "      <td>c029gfc</td>\n",
       "      <td>t1_c029gfc</td>\n",
       "      <td>t3_5ye9w</td>\n",
       "      <td>1</td>\n",
       "      <td>science</td>\n",
       "      <td>1</td>\n",
       "      <td>2007-10-01</td>\n",
       "      <td>2007-01-01</td>\n",
       "    </tr>\n",
       "    <tr>\n",
       "      <th>3</th>\n",
       "      <td>feliniti</td>\n",
       "      <td>nero 8 - bloated waste of money. unless you ha...</td>\n",
       "      <td>0</td>\n",
       "      <td>2007-10-16 07:10:27</td>\n",
       "      <td>0</td>\n",
       "      <td>0.0</td>\n",
       "      <td>0</td>\n",
       "      <td>c029gge</td>\n",
       "      <td>t1_c029gge</td>\n",
       "      <td>t3_5yej4</td>\n",
       "      <td>1</td>\n",
       "      <td>reddit.com</td>\n",
       "      <td>1</td>\n",
       "      <td>2007-10-01</td>\n",
       "      <td>2007-01-01</td>\n",
       "    </tr>\n",
       "    <tr>\n",
       "      <th>4</th>\n",
       "      <td>masklinn</td>\n",
       "      <td>&amp;gt; i wonder what happens if you started clea...</td>\n",
       "      <td>0</td>\n",
       "      <td>2007-10-16 11:27:15</td>\n",
       "      <td>0</td>\n",
       "      <td>0.0</td>\n",
       "      <td>0</td>\n",
       "      <td>c029hiy</td>\n",
       "      <td>t1_c029hiy</td>\n",
       "      <td>t1_c029h3y</td>\n",
       "      <td>3</td>\n",
       "      <td>reddit.com</td>\n",
       "      <td>3</td>\n",
       "      <td>2007-10-01</td>\n",
       "      <td>2007-01-01</td>\n",
       "    </tr>\n",
       "  </tbody>\n",
       "</table>\n",
       "</div>"
      ],
      "text/plain": [
       "      author                                               body  \\\n",
       "0   gschizas  same in greek. my personal peeve: quite a lot ...   \n",
       "1  [deleted]  &gt;they also decided to rig a thermal barrier...   \n",
       "2   johnmudd  &gt; by the time a child born today graduates ...   \n",
       "3   feliniti  nero 8 - bloated waste of money. unless you ha...   \n",
       "4   masklinn  &gt; i wonder what happens if you started clea...   \n",
       "\n",
       "   controversiality         created_utc distinguished downs gilded       id  \\\n",
       "0                 0 2007-10-15 15:22:33             0   0.0      0  c029c79   \n",
       "1                 0 2007-10-16 05:11:09             0   0.0      0  c029g6h   \n",
       "2                 0 2007-10-16 07:00:36             0   0.0      0  c029gfc   \n",
       "3                 0 2007-10-16 07:10:27             0   0.0      0  c029gge   \n",
       "4                 0 2007-10-16 11:27:15             0   0.0      0  c029hiy   \n",
       "\n",
       "         name   parent_id  score    subreddit ups      month       year  \n",
       "0  t1_c029c79  t1_c029brz     13  programming  13 2007-10-01 2007-01-01  \n",
       "1  t1_c029g6h    t3_5ye94      2  programming   2 2007-10-01 2007-01-01  \n",
       "2  t1_c029gfc    t3_5ye9w      1      science   1 2007-10-01 2007-01-01  \n",
       "3  t1_c029gge    t3_5yej4      1   reddit.com   1 2007-10-01 2007-01-01  \n",
       "4  t1_c029hiy  t1_c029h3y      3   reddit.com   3 2007-10-01 2007-01-01  "
      ]
     },
     "execution_count": 11,
     "metadata": {},
     "output_type": "execute_result"
    }
   ],
   "source": [
    "reddit_df.head()"
   ]
  },
  {
   "cell_type": "markdown",
   "metadata": {},
   "source": [
    "## User network"
   ]
  },
  {
   "cell_type": "code",
   "execution_count": 12,
   "metadata": {
    "collapsed": false
   },
   "outputs": [],
   "source": [
    "graph = nx.read_gexf('user_graph.gexf')"
   ]
  },
  {
   "cell_type": "code",
   "execution_count": 13,
   "metadata": {
    "collapsed": false
   },
   "outputs": [
    {
     "data": {
      "text/plain": [
       "182127"
      ]
     },
     "execution_count": 13,
     "metadata": {},
     "output_type": "execute_result"
    }
   ],
   "source": [
    "graph.number_of_edges()"
   ]
  },
  {
   "cell_type": "code",
   "execution_count": 14,
   "metadata": {
    "collapsed": false
   },
   "outputs": [
    {
     "data": {
      "text/plain": [
       "136548"
      ]
     },
     "execution_count": 14,
     "metadata": {},
     "output_type": "execute_result"
    }
   ],
   "source": [
    "graph.number_of_nodes()"
   ]
  },
  {
   "cell_type": "code",
   "execution_count": 15,
   "metadata": {
    "collapsed": false
   },
   "outputs": [
    {
     "data": {
      "text/plain": [
       "0"
      ]
     },
     "execution_count": 15,
     "metadata": {},
     "output_type": "execute_result"
    }
   ],
   "source": [
    "graph.number_of_selfloops()"
   ]
  },
  {
   "cell_type": "markdown",
   "metadata": {},
   "source": [
    "# Analyzing data"
   ]
  },
  {
   "cell_type": "code",
   "execution_count": 16,
   "metadata": {
    "collapsed": true
   },
   "outputs": [],
   "source": [
    "TOP = 1000 #33"
   ]
  },
  {
   "cell_type": "markdown",
   "metadata": {},
   "source": [
    "## Deleted users"
   ]
  },
  {
   "cell_type": "code",
   "execution_count": 17,
   "metadata": {
    "collapsed": false
   },
   "outputs": [
    {
     "data": {
      "text/plain": [
       "92302"
      ]
     },
     "execution_count": 17,
     "metadata": {},
     "output_type": "execute_result"
    }
   ],
   "source": [
    "len(reddit_df[reddit_df.author == '[deleted]'])"
   ]
  },
  {
   "cell_type": "code",
   "execution_count": 18,
   "metadata": {
    "collapsed": true
   },
   "outputs": [],
   "source": [
    "reddit_df = reddit_df[reddit_df.author != '[deleted]']"
   ]
  },
  {
   "cell_type": "code",
   "execution_count": 19,
   "metadata": {
    "collapsed": false
   },
   "outputs": [
    {
     "data": {
      "text/plain": [
       "2577512"
      ]
     },
     "execution_count": 19,
     "metadata": {},
     "output_type": "execute_result"
    }
   ],
   "source": [
    "len(reddit_df)"
   ]
  },
  {
   "cell_type": "markdown",
   "metadata": {},
   "source": [
    "## Number of users"
   ]
  },
  {
   "cell_type": "code",
   "execution_count": 20,
   "metadata": {
    "collapsed": false
   },
   "outputs": [
    {
     "data": {
      "text/plain": [
       "634028"
      ]
     },
     "execution_count": 20,
     "metadata": {},
     "output_type": "execute_result"
    }
   ],
   "source": [
    "reddit_df.author.nunique()"
   ]
  },
  {
   "cell_type": "markdown",
   "metadata": {},
   "source": [
    "## In degree"
   ]
  },
  {
   "cell_type": "code",
   "execution_count": 21,
   "metadata": {
    "collapsed": false
   },
   "outputs": [],
   "source": [
    "top_indegree_t = []\n",
    "for x in graph.in_degree_iter():\n",
    "#     if x[1] >= 100: #33\n",
    "        top_indegree_t.append(x)"
   ]
  },
  {
   "cell_type": "code",
   "execution_count": 22,
   "metadata": {
    "collapsed": false
   },
   "outputs": [
    {
     "data": {
      "text/plain": [
       "136548"
      ]
     },
     "execution_count": 22,
     "metadata": {},
     "output_type": "execute_result"
    }
   ],
   "source": [
    "len(top_indegree_t)"
   ]
  },
  {
   "cell_type": "code",
   "execution_count": 23,
   "metadata": {
    "collapsed": false
   },
   "outputs": [],
   "source": [
    "indegree_sr = pd.Series(dict(top_indegree_t)).sort_values(ascending=False)"
   ]
  },
  {
   "cell_type": "code",
   "execution_count": 24,
   "metadata": {
    "collapsed": false
   },
   "outputs": [],
   "source": [
    "top_indegree_sr = indegree_sr.head(TOP)"
   ]
  },
  {
   "cell_type": "code",
   "execution_count": 25,
   "metadata": {
    "collapsed": false
   },
   "outputs": [
    {
     "data": {
      "text/plain": [
       "Algernon_Asimov        360\n",
       "Willravel              301\n",
       "jimmysilverrims        235\n",
       "kraetos                214\n",
       "ademnus                195\n",
       "Darth_Rasputin32898    179\n",
       "Deceptitron            173\n",
       "StarTrekMike           170\n",
       "MungoBaobab            167\n",
       "TheCheshireCody        153\n",
       "feor1300               150\n",
       "nermid                 150\n",
       "Flynn58                141\n",
       "Antithesys             139\n",
       "TimeZarg               136\n",
       "Corgana                131\n",
       "Kirahazen              127\n",
       "regeya                 127\n",
       "StarFuryG7             124\n",
       "TangoZippo             122\n",
       "deadfraggle            121\n",
       "crapusername47         120\n",
       "kwizzle                118\n",
       "alchemeron             114\n",
       "MHB210                 111\n",
       "dannyboylee            110\n",
       "Eurynom0s              108\n",
       "cobrakai11             106\n",
       "gloubenterder          105\n",
       "rewrewsuh              104\n",
       "                      ... \n",
       "nickcooper1991          15\n",
       "sproket888              15\n",
       "shockwave414            15\n",
       "adam_mills              15\n",
       "4d2                     15\n",
       "jaquefroid              15\n",
       "lumpking69              15\n",
       "RingoQuasarr            15\n",
       "maruse                  15\n",
       "caca_verde              15\n",
       "JJAbramsStarTrek        15\n",
       "Frostiken               15\n",
       "Maclimes                15\n",
       "My-Work-Reddit          15\n",
       "SwirlPiece_McCoy        15\n",
       "teabagginz              15\n",
       "TeutonJon78             15\n",
       "ghostchamber            15\n",
       "Bucklar                 15\n",
       "Aceoangels              15\n",
       "Galvatron1984           15\n",
       "yankeebayonet           15\n",
       "Fishbowl_Helmet         15\n",
       "DerberAuner             15\n",
       "spacedawg_ie            15\n",
       "LeonardNemoysHead       15\n",
       "saxonturner             15\n",
       "clwestbr                15\n",
       "JackalKing              15\n",
       "UmamiSalami             15\n",
       "dtype: int64"
      ]
     },
     "execution_count": 25,
     "metadata": {},
     "output_type": "execute_result"
    }
   ],
   "source": [
    "top_indegree_sr"
   ]
  },
  {
   "cell_type": "markdown",
   "metadata": {},
   "source": [
    "### In degree distribution"
   ]
  },
  {
   "cell_type": "code",
   "execution_count": 25,
   "metadata": {
    "collapsed": true
   },
   "outputs": [],
   "source": [
    "deg = []\n",
    "for x in graph.in_degree_iter():\n",
    "    deg.append(x)"
   ]
  },
  {
   "cell_type": "code",
   "execution_count": 26,
   "metadata": {
    "collapsed": true
   },
   "outputs": [],
   "source": [
    "deg_sr = pd.Series(dict(deg))"
   ]
  },
  {
   "cell_type": "code",
   "execution_count": 27,
   "metadata": {
    "collapsed": false
   },
   "outputs": [
    {
     "data": {
      "text/plain": [
       "<matplotlib.axes._subplots.AxesSubplot at 0x7f3096d81898>"
      ]
     },
     "execution_count": 27,
     "metadata": {},
     "output_type": "execute_result"
    },
    {
     "data": {
      "image/png": "[encoded data removed]",
      "text/plain": [
       "<matplotlib.figure.Figure at 0x7f3096d045c0>"
      ]
     },
     "metadata": {},
     "output_type": "display_data"
    }
   ],
   "source": [
    "sns.distplot(deg_sr)"
   ]
  },
  {
   "cell_type": "markdown",
   "metadata": {},
   "source": [
    "## Number of comments"
   ]
  },
  {
   "cell_type": "code",
   "execution_count": 28,
   "metadata": {
    "collapsed": true
   },
   "outputs": [],
   "source": [
    "number_of_comments_sr = reddit_df.groupby(['author'])['body'].count().sort_values(ascending=False)"
   ]
  },
  {
   "cell_type": "code",
   "execution_count": 29,
   "metadata": {
    "collapsed": false
   },
   "outputs": [],
   "source": [
    "top_comments_sr = number_of_comments_sr.head(TOP)"
   ]
  },
  {
   "cell_type": "code",
   "execution_count": 30,
   "metadata": {
    "collapsed": false
   },
   "outputs": [
    {
     "data": {
      "text/plain": [
       "author\n",
       "LokianEule              13239\n",
       "imgurtranscriber         9216\n",
       "qkme_transcriber         6741\n",
       "Emperor-Nero             6460\n",
       "CarrowCanary             5077\n",
       "DavidFTyler              4829\n",
       "boredcircuits            4666\n",
       "GodMinos                 4644\n",
       "Liz_Thorn                4468\n",
       "DoxBox                   4164\n",
       "Kaylum-                  4146\n",
       "kwizzle                  3994\n",
       "AnoK760                  3812\n",
       "dreadknightnero          3641\n",
       "themandotcom             3481\n",
       "TeemingHail              3379\n",
       "AutoModerator            3313\n",
       "TheShader                3255\n",
       "Aerron                   3130\n",
       "AttackOnHaseeb           3097\n",
       "Khallis                  3001\n",
       "not_a_novel_account      2915\n",
       "nssdrone                 2750\n",
       "Algernon_Asimov          2735\n",
       "CaptionBot               2655\n",
       "scotty-doesnt-know       2639\n",
       "giddythegaygopher        2541\n",
       "redryan                  2521\n",
       "drumstyx                 2469\n",
       "tronics1                 2439\n",
       "                        ...  \n",
       "yeuxsee                   183\n",
       "rugggy                    182\n",
       "kevalalajnen              182\n",
       "ace248952                 182\n",
       "Dropping_fruits           182\n",
       "dantheman_woot            182\n",
       "Aluminum-Gnat             181\n",
       "TheDesktopNinja           181\n",
       "beavis420                 181\n",
       "pixelguru                 181\n",
       "chubaccatron              181\n",
       "JoMich85                  181\n",
       "DrColdReality             180\n",
       "TheDirtyAlpaca            180\n",
       "ScotteeMC                 180\n",
       "i_dont_want_to_be_on      180\n",
       "Hibernica                 180\n",
       "Nintra                    180\n",
       "why_compromise            180\n",
       "A_Polite_Noise            180\n",
       "MotherFuckingLuBu         180\n",
       "the_one_true_b            180\n",
       "stevenjohns               180\n",
       "mfc133                    180\n",
       "hett                      179\n",
       "flameofmiztli             179\n",
       "Idontlikecock             179\n",
       "roidsrus                  179\n",
       "WilliamtheV               179\n",
       "Immynimmy                 179\n",
       "Name: body, dtype: int64"
      ]
     },
     "execution_count": 30,
     "metadata": {},
     "output_type": "execute_result"
    }
   ],
   "source": [
    "top_comments_sr"
   ]
  },
  {
   "cell_type": "markdown",
   "metadata": {},
   "source": [
    "## Score"
   ]
  },
  {
   "cell_type": "code",
   "execution_count": 31,
   "metadata": {
    "collapsed": true
   },
   "outputs": [],
   "source": [
    "score_sr = reddit_df.groupby(['author'])['score'].sum().sort_values(ascending=False)"
   ]
  },
  {
   "cell_type": "code",
   "execution_count": 32,
   "metadata": {
    "collapsed": false
   },
   "outputs": [],
   "source": [
    "top_score_sr = score_sr.head(TOP)"
   ]
  },
  {
   "cell_type": "code",
   "execution_count": 33,
   "metadata": {
    "collapsed": false
   },
   "outputs": [
    {
     "data": {
      "text/plain": [
       "author\n",
       "CationBot              104261\n",
       "Aerron                 104208\n",
       "Pee_Earl_Grey_Hot       48862\n",
       "scotty-doesnt-know      48065\n",
       "brother_p               41801\n",
       "LokianEule              34676\n",
       "Emperor-Nero            26372\n",
       "AnoK760                 24520\n",
       "dementorpoop            23656\n",
       "CruelHandLuke7          21112\n",
       "ImKirkCousins           19434\n",
       "RamsesThePigeon         19104\n",
       "DoxBox                  18821\n",
       "boredcircuits           17826\n",
       "axcobb                  17036\n",
       "TheShader               16215\n",
       "jhl0010                 16149\n",
       "wil                     15741\n",
       "13thmurder              15400\n",
       "boredHunt               14549\n",
       "kirkgoldsberry          14446\n",
       "LordAnubis10            14018\n",
       "CarrowCanary            13852\n",
       "liquidxlax              13818\n",
       "BlacktoseIntolerant     13589\n",
       "nssdrone                13289\n",
       "dadudemon               13196\n",
       "Algernon_Asimov         12939\n",
       "Antithesys              12879\n",
       "Willravel               12599\n",
       "                        ...  \n",
       "Agothro                  1652\n",
       "Neo_Techni               1651\n",
       "Jepaco95                 1649\n",
       "Necro991                 1648\n",
       "TimeTravelMishap         1644\n",
       "gideonjura92             1644\n",
       "angrymacface             1642\n",
       "iduno8912                1641\n",
       "alwaysupvoteTRUNKS       1640\n",
       "knylok                   1640\n",
       "Thai-ed_Down             1639\n",
       "mwatwe01                 1638\n",
       "keeganlol                1635\n",
       "Madonkadonk              1633\n",
       "ItsMeTK                  1632\n",
       "waffledave               1631\n",
       "playfulcyanide           1630\n",
       "dejerik                  1630\n",
       "peaceasy                 1629\n",
       "neok182                  1629\n",
       "RobLoweOfficial          1627\n",
       "IamMaxBrooks             1626\n",
       "BulletBilll              1623\n",
       "BigTaker                 1623\n",
       "AellaGirl                1621\n",
       "tibstibs                 1621\n",
       "VuuDuu                   1619\n",
       "sorin255                 1618\n",
       "KingJak117               1618\n",
       "the_traveler             1616\n",
       "Name: score, dtype: int64"
      ]
     },
     "execution_count": 33,
     "metadata": {},
     "output_type": "execute_result"
    }
   ],
   "source": [
    "top_score_sr"
   ]
  },
  {
   "cell_type": "markdown",
   "metadata": {},
   "source": [
    "## Comparing data"
   ]
  },
  {
   "cell_type": "markdown",
   "metadata": {},
   "source": [
    "### Common top users"
   ]
  },
  {
   "cell_type": "code",
   "execution_count": 52,
   "metadata": {
    "collapsed": true
   },
   "outputs": [],
   "source": [
    "common_indegree_comments = set(top_indegree_sr.index).intersection(top_comments_sr.index)"
   ]
  },
  {
   "cell_type": "code",
   "execution_count": 53,
   "metadata": {
    "collapsed": false
   },
   "outputs": [
    {
     "data": {
      "text/plain": [
       "332"
      ]
     },
     "execution_count": 53,
     "metadata": {},
     "output_type": "execute_result"
    }
   ],
   "source": [
    "len(common_indegree_comments)"
   ]
  },
  {
   "cell_type": "code",
   "execution_count": 54,
   "metadata": {
    "collapsed": true
   },
   "outputs": [],
   "source": [
    "common_indegree_score = set(top_indegree_sr.index).intersection(top_score_sr.index)"
   ]
  },
  {
   "cell_type": "code",
   "execution_count": 55,
   "metadata": {
    "collapsed": false
   },
   "outputs": [
    {
     "data": {
      "text/plain": [
       "242"
      ]
     },
     "execution_count": 55,
     "metadata": {},
     "output_type": "execute_result"
    }
   ],
   "source": [
    "len(common_indegree_score)"
   ]
  },
  {
   "cell_type": "code",
   "execution_count": 56,
   "metadata": {
    "collapsed": true
   },
   "outputs": [],
   "source": [
    "common_score_comments = set(top_score_sr.index).intersection(top_comments_sr.index)"
   ]
  },
  {
   "cell_type": "code",
   "execution_count": 57,
   "metadata": {
    "collapsed": false
   },
   "outputs": [
    {
     "data": {
      "text/plain": [
       "449"
      ]
     },
     "execution_count": 57,
     "metadata": {},
     "output_type": "execute_result"
    }
   ],
   "source": [
    "len(common_score_comments)"
   ]
  },
  {
   "cell_type": "code",
   "execution_count": 58,
   "metadata": {
    "collapsed": true
   },
   "outputs": [],
   "source": [
    "common = set(top_indegree_sr.index).intersection(top_comments_sr.index).intersection(top_score_sr.index)"
   ]
  },
  {
   "cell_type": "code",
   "execution_count": 59,
   "metadata": {
    "collapsed": false
   },
   "outputs": [
    {
     "data": {
      "text/plain": [
       "152"
      ]
     },
     "execution_count": 59,
     "metadata": {},
     "output_type": "execute_result"
    }
   ],
   "source": [
    "len(common)"
   ]
  },
  {
   "cell_type": "markdown",
   "metadata": {},
   "source": [
    "#### => As the number of a user's comments increases, their score grows faster than their in degree."
   ]
  },
  {
   "cell_type": "code",
   "execution_count": 36,
   "metadata": {
    "collapsed": true
   },
   "outputs": [],
   "source": [
    "def ranking(sr, x):\n",
    "    return sr.index.get_loc(x) + 1"
   ]
  },
  {
   "cell_type": "code",
   "execution_count": 63,
   "metadata": {
    "collapsed": false
   },
   "outputs": [
    {
     "name": "stdout",
     "output_type": "stream",
     "text": [
      "TangoZippo\n",
      "In degree: 122 - ranking: 20 / 1000\n",
      "Number of comments: 934 - ranking: 117 / 1000\n",
      "Score: 6774 - ranking: 81 / 1000\n",
      "\n",
      "alchemeron\n",
      "In degree: 114 - ranking: 24 / 1000\n",
      "Number of comments: 621 - ranking: 193 / 1000\n",
      "Score: 2799 - ranking: 430 / 1000\n",
      "\n",
      "dannyboylee\n",
      "In degree: 110 - ranking: 26 / 1000\n",
      "Number of comments: 574 - ranking: 217 / 1000\n",
      "Score: 3559 - ranking: 293 / 1000\n",
      "\n",
      "RogueX7\n",
      "In degree: 21 - ranking: 530 / 1000\n",
      "Number of comments: 848 - ranking: 129 / 1000\n",
      "Score: 2126 - ranking: 667 / 1000\n",
      "\n",
      "ewiethoff\n",
      "In degree: 73 - ranking: 55 / 1000\n",
      "Number of comments: 834 - ranking: 132 / 1000\n",
      "Score: 2399 - ranking: 549 / 1000\n",
      "\n",
      "Deadmeat553\n",
      "In degree: 24 - ranking: 425 / 1000\n",
      "Number of comments: 538 - ranking: 237 / 1000\n",
      "Score: 6145 - ranking: 105 / 1000\n",
      "\n",
      "Darth_Rasputin32898\n",
      "In degree: 179 - ranking: 6 / 1000\n",
      "Number of comments: 1231 - ranking: 81 / 1000\n",
      "Score: 5260 - ranking: 150 / 1000\n",
      "\n",
      "i_start_fires\n",
      "In degree: 54 - ranking: 83 / 1000\n",
      "Number of comments: 190 - ranking: 909 / 1000\n",
      "Score: 1949 - ranking: 769 / 1000\n",
      "\n",
      "kraetos\n",
      "In degree: 214 - ranking: 4 / 1000\n",
      "Number of comments: 1005 - ranking: 102 / 1000\n",
      "Score: 8391 - ranking: 58 / 1000\n",
      "\n",
      "daeedorian\n",
      "In degree: 73 - ranking: 56 / 1000\n",
      "Number of comments: 371 - ranking: 371 / 1000\n",
      "Score: 3453 - ranking: 313 / 1000\n",
      "\n",
      "crapusername47\n",
      "In degree: 120 - ranking: 22 / 1000\n",
      "Number of comments: 745 - ranking: 158 / 1000\n",
      "Score: 5902 - ranking: 115 / 1000\n",
      "\n",
      "vicpellicier\n",
      "In degree: 96 - ranking: 37 / 1000\n",
      "Number of comments: 303 - ranking: 494 / 1000\n",
      "Score: 1888 - ranking: 808 / 1000\n",
      "\n",
      "gowronatemybaby7\n",
      "In degree: 32 - ranking: 259 / 1000\n",
      "Number of comments: 290 - ranking: 525 / 1000\n",
      "Score: 4254 - ranking: 219 / 1000\n",
      "\n",
      "The_Doctor_00\n",
      "In degree: 54 - ranking: 84 / 1000\n",
      "Number of comments: 403 - ranking: 337 / 1000\n",
      "Score: 2090 - ranking: 691 / 1000\n",
      "\n",
      "Hawkman1701\n",
      "In degree: 50 - ranking: 95 / 1000\n",
      "Number of comments: 301 - ranking: 501 / 1000\n",
      "Score: 1703 - ranking: 937 / 1000\n",
      "\n",
      "AsimoSA\n",
      "In degree: 24 - ranking: 424 / 1000\n",
      "Number of comments: 764 - ranking: 151 / 1000\n",
      "Score: 2548 - ranking: 502 / 1000\n",
      "\n",
      "vahntitrio\n",
      "In degree: 55 - ranking: 78 / 1000\n",
      "Number of comments: 379 - ranking: 361 / 1000\n",
      "Score: 1978 - ranking: 751 / 1000\n",
      "\n",
      "adamkotsko\n",
      "In degree: 83 - ranking: 50 / 1000\n",
      "Number of comments: 600 - ranking: 202 / 1000\n",
      "Score: 3462 - ranking: 309 / 1000\n",
      "\n",
      "maxis2k\n",
      "In degree: 61 - ranking: 71 / 1000\n",
      "Number of comments: 349 - ranking: 405 / 1000\n",
      "Score: 2394 - ranking: 552 / 1000\n",
      "\n",
      "deadfraggle\n",
      "In degree: 121 - ranking: 21 / 1000\n",
      "Number of comments: 1088 - ranking: 94 / 1000\n",
      "Score: 3016 - ranking: 376 / 1000\n",
      "\n",
      "Immynimmy\n",
      "In degree: 31 - ranking: 275 / 1000\n",
      "Number of comments: 179 - ranking: 1000 / 1000\n",
      "Score: 2816 - ranking: 423 / 1000\n",
      "\n",
      "brickmack\n",
      "In degree: 48 - ranking: 109 / 1000\n",
      "Number of comments: 692 - ranking: 175 / 1000\n",
      "Score: 2775 - ranking: 437 / 1000\n",
      "\n",
      "OpticalData\n",
      "In degree: 90 - ranking: 41 / 1000\n",
      "Number of comments: 591 - ranking: 207 / 1000\n",
      "Score: 3016 - ranking: 375 / 1000\n",
      "\n",
      "AngrySpock\n",
      "In degree: 80 - ranking: 51 / 1000\n",
      "Number of comments: 299 - ranking: 508 / 1000\n",
      "Score: 3470 - ranking: 308 / 1000\n",
      "\n",
      "BigTaker\n",
      "In degree: 32 - ranking: 258 / 1000\n",
      "Number of comments: 589 - ranking: 208 / 1000\n",
      "Score: 1623 - ranking: 994 / 1000\n",
      "\n",
      "ItsMeTK\n",
      "In degree: 42 - ranking: 139 / 1000\n",
      "Number of comments: 350 - ranking: 400 / 1000\n",
      "Score: 1632 - ranking: 985 / 1000\n",
      "\n",
      "tidux\n",
      "In degree: 29 - ranking: 321 / 1000\n",
      "Number of comments: 316 - ranking: 472 / 1000\n",
      "Score: 2135 - ranking: 662 / 1000\n",
      "\n",
      "halloweenjack\n",
      "In degree: 45 - ranking: 122 / 1000\n",
      "Number of comments: 393 - ranking: 346 / 1000\n",
      "Score: 1933 - ranking: 779 / 1000\n",
      "\n",
      "Liz_Thorn\n",
      "In degree: 19 - ranking: 631 / 1000\n",
      "Number of comments: 4468 - ranking: 9 / 1000\n",
      "Score: 4486 - ranking: 192 / 1000\n",
      "\n",
      "HowdyDoodlyDoo\n",
      "In degree: 19 - ranking: 639 / 1000\n",
      "Number of comments: 323 - ranking: 453 / 1000\n",
      "Score: 3651 - ranking: 283 / 1000\n",
      "\n",
      "indyK1ng\n",
      "In degree: 46 - ranking: 118 / 1000\n",
      "Number of comments: 215 - ranking: 790 / 1000\n",
      "Score: 1795 - ranking: 867 / 1000\n",
      "\n",
      "BestCaseSurvival\n",
      "In degree: 58 - ranking: 75 / 1000\n",
      "Number of comments: 302 - ranking: 496 / 1000\n",
      "Score: 2204 - ranking: 625 / 1000\n",
      "\n",
      "directive0\n",
      "In degree: 67 - ranking: 61 / 1000\n",
      "Number of comments: 366 - ranking: 375 / 1000\n",
      "Score: 2271 - ranking: 597 / 1000\n",
      "\n",
      "Bobby_Marks2\n",
      "In degree: 18 - ranking: 672 / 1000\n",
      "Number of comments: 297 - ranking: 514 / 1000\n",
      "Score: 3288 - ranking: 336 / 1000\n",
      "\n",
      "LokianEule\n",
      "In degree: 100 - ranking: 33 / 1000\n",
      "Number of comments: 13239 - ranking: 1 / 1000\n",
      "Score: 34676 - ranking: 6 / 1000\n",
      "\n",
      "Luomulanren\n",
      "In degree: 33 - ranking: 245 / 1000\n",
      "Number of comments: 301 - ranking: 503 / 1000\n",
      "Score: 2047 - ranking: 715 / 1000\n",
      "\n",
      "not_a_novel_account\n",
      "In degree: 15 - ranking: 946 / 1000\n",
      "Number of comments: 2915 - ranking: 22 / 1000\n",
      "Score: 11871 - ranking: 34 / 1000\n",
      "\n",
      "Kiggsworthy\n",
      "In degree: 89 - ranking: 43 / 1000\n",
      "Number of comments: 312 - ranking: 476 / 1000\n",
      "Score: 2250 - ranking: 607 / 1000\n",
      "\n",
      "rewrewsuh\n",
      "In degree: 104 - ranking: 30 / 1000\n",
      "Number of comments: 423 - ranking: 314 / 1000\n",
      "Score: 4430 - ranking: 198 / 1000\n",
      "\n",
      "Itaqi\n",
      "In degree: 87 - ranking: 46 / 1000\n",
      "Number of comments: 1118 - ranking: 88 / 1000\n",
      "Score: 2805 - ranking: 425 / 1000\n",
      "\n",
      "alba7or\n",
      "In degree: 34 - ranking: 238 / 1000\n",
      "Number of comments: 419 - ranking: 318 / 1000\n",
      "Score: 2476 - ranking: 524 / 1000\n",
      "\n",
      "TheShader\n",
      "In degree: 36 - ranking: 195 / 1000\n",
      "Number of comments: 3255 - ranking: 18 / 1000\n",
      "Score: 16215 - ranking: 16 / 1000\n",
      "\n",
      "jimmysilverrims\n",
      "In degree: 235 - ranking: 3 / 1000\n",
      "Number of comments: 987 - ranking: 105 / 1000\n",
      "Score: 7502 - ranking: 69 / 1000\n",
      "\n",
      "kwizzle\n",
      "In degree: 118 - ranking: 23 / 1000\n",
      "Number of comments: 3994 - ranking: 12 / 1000\n",
      "Score: 9441 - ranking: 50 / 1000\n",
      "\n",
      "ety3rd\n",
      "In degree: 28 - ranking: 335 / 1000\n",
      "Number of comments: 184 - ranking: 954 / 1000\n",
      "Score: 2014 - ranking: 734 / 1000\n",
      "\n",
      "FKRMunkiBoi\n",
      "In degree: 99 - ranking: 34 / 1000\n",
      "Number of comments: 473 - ranking: 278 / 1000\n",
      "Score: 2781 - ranking: 436 / 1000\n",
      "\n",
      "hopeless_romantics\n",
      "In degree: 15 - ranking: 907 / 1000\n",
      "Number of comments: 2121 - ranking: 37 / 1000\n",
      "Score: 3343 - ranking: 327 / 1000\n",
      "\n",
      "NemWan\n",
      "In degree: 53 - ranking: 85 / 1000\n",
      "Number of comments: 436 - ranking: 305 / 1000\n",
      "Score: 2905 - ranking: 404 / 1000\n",
      "\n",
      "adv0589\n",
      "In degree: 26 - ranking: 375 / 1000\n",
      "Number of comments: 273 - ranking: 577 / 1000\n",
      "Score: 1806 - ranking: 861 / 1000\n",
      "\n",
      "phtll\n",
      "In degree: 45 - ranking: 121 / 1000\n",
      "Number of comments: 752 - ranking: 156 / 1000\n",
      "Score: 7604 - ranking: 68 / 1000\n",
      "\n",
      "mistakenotmy\n",
      "In degree: 74 - ranking: 53 / 1000\n",
      "Number of comments: 479 - ranking: 270 / 1000\n",
      "Score: 3182 - ranking: 352 / 1000\n",
      "\n",
      "FuturePastNow\n",
      "In degree: 87 - ranking: 47 / 1000\n",
      "Number of comments: 1010 - ranking: 100 / 1000\n",
      "Score: 3798 - ranking: 266 / 1000\n",
      "\n",
      "stormsweeper\n",
      "In degree: 74 - ranking: 52 / 1000\n",
      "Number of comments: 890 - ranking: 123 / 1000\n",
      "Score: 2263 - ranking: 603 / 1000\n",
      "\n",
      "Aerron\n",
      "In degree: 27 - ranking: 345 / 1000\n",
      "Number of comments: 3130 - ranking: 19 / 1000\n",
      "Score: 104208 - ranking: 2 / 1000\n",
      "\n",
      "Kaylum-\n",
      "In degree: 16 - ranking: 833 / 1000\n",
      "Number of comments: 4146 - ranking: 11 / 1000\n",
      "Score: 4210 - ranking: 225 / 1000\n",
      "\n",
      "AnoK760\n",
      "In degree: 18 - ranking: 730 / 1000\n",
      "Number of comments: 3812 - ranking: 13 / 1000\n",
      "Score: 24520 - ranking: 8 / 1000\n",
      "\n",
      "wjbc\n",
      "In degree: 16 - ranking: 826 / 1000\n",
      "Number of comments: 225 - ranking: 737 / 1000\n",
      "Score: 2357 - ranking: 568 / 1000\n",
      "\n",
      "nermid\n",
      "In degree: 150 - ranking: 12 / 1000\n",
      "Number of comments: 993 - ranking: 104 / 1000\n",
      "Score: 6599 - ranking: 85 / 1000\n",
      "\n",
      "PixelMagic\n",
      "In degree: 54 - ranking: 82 / 1000\n",
      "Number of comments: 388 - ranking: 350 / 1000\n",
      "Score: 6458 - ranking: 93 / 1000\n",
      "\n",
      "jimthewanderer\n",
      "In degree: 25 - ranking: 397 / 1000\n",
      "Number of comments: 461 - ranking: 286 / 1000\n",
      "Score: 1937 - ranking: 777 / 1000\n",
      "\n",
      "thehayworth\n",
      "In degree: 41 - ranking: 151 / 1000\n",
      "Number of comments: 1843 - ranking: 47 / 1000\n",
      "Score: 4276 - ranking: 215 / 1000\n",
      "\n",
      "Possee\n",
      "In degree: 41 - ranking: 150 / 1000\n",
      "Number of comments: 1825 - ranking: 48 / 1000\n",
      "Score: 5062 - ranking: 157 / 1000\n",
      "\n",
      "JonnGotti\n",
      "In degree: 65 - ranking: 64 / 1000\n",
      "Number of comments: 1707 - ranking: 52 / 1000\n",
      "Score: 1752 - ranking: 898 / 1000\n",
      "\n",
      "giddythegaygopher\n",
      "In degree: 20 - ranking: 587 / 1000\n",
      "Number of comments: 2541 - ranking: 27 / 1000\n",
      "Score: 2599 - ranking: 478 / 1000\n",
      "\n",
      "AerialAmphibian\n",
      "In degree: 42 - ranking: 140 / 1000\n",
      "Number of comments: 212 - ranking: 812 / 1000\n",
      "Score: 1714 - ranking: 925 / 1000\n",
      "\n",
      "gerusz\n",
      "In degree: 39 - ranking: 166 / 1000\n",
      "Number of comments: 329 - ranking: 438 / 1000\n",
      "Score: 2090 - ranking: 692 / 1000\n",
      "\n",
      "frezik\n",
      "In degree: 34 - ranking: 232 / 1000\n",
      "Number of comments: 282 - ranking: 550 / 1000\n",
      "Score: 1696 - ranking: 941 / 1000\n",
      "\n",
      "Conchobair\n",
      "In degree: 63 - ranking: 70 / 1000\n",
      "Number of comments: 401 - ranking: 338 / 1000\n",
      "Score: 3022 - ranking: 373 / 1000\n",
      "\n",
      "madcowbomber\n",
      "In degree: 40 - ranking: 154 / 1000\n",
      "Number of comments: 302 - ranking: 499 / 1000\n",
      "Score: 1691 - ranking: 944 / 1000\n",
      "\n",
      "Algernon_Asimov\n",
      "In degree: 360 - ranking: 1 / 1000\n",
      "Number of comments: 2735 - ranking: 24 / 1000\n",
      "Score: 12939 - ranking: 28 / 1000\n",
      "\n",
      "The_Sven\n",
      "In degree: 41 - ranking: 146 / 1000\n",
      "Number of comments: 317 - ranking: 470 / 1000\n",
      "Score: 2324 - ranking: 578 / 1000\n",
      "\n",
      "poorchris\n",
      "In degree: 41 - ranking: 148 / 1000\n",
      "Number of comments: 967 - ranking: 109 / 1000\n",
      "Score: 5650 - ranking: 126 / 1000\n",
      "\n",
      "regeya\n",
      "In degree: 127 - ranking: 18 / 1000\n",
      "Number of comments: 735 - ranking: 161 / 1000\n",
      "Score: 4377 - ranking: 205 / 1000\n",
      "\n",
      "Willravel\n",
      "In degree: 301 - ranking: 2 / 1000\n",
      "Number of comments: 1563 - ranking: 56 / 1000\n",
      "Score: 12599 - ranking: 30 / 1000\n",
      "\n",
      "evil-spock\n",
      "In degree: 15 - ranking: 910 / 1000\n",
      "Number of comments: 1002 - ranking: 103 / 1000\n",
      "Score: 3652 - ranking: 282 / 1000\n",
      "\n",
      "CaptionBot\n",
      "In degree: 28 - ranking: 327 / 1000\n",
      "Number of comments: 2655 - ranking: 25 / 1000\n",
      "Score: 11336 - ranking: 38 / 1000\n",
      "\n",
      "GrGrG\n",
      "In degree: 46 - ranking: 119 / 1000\n",
      "Number of comments: 384 - ranking: 356 / 1000\n",
      "Score: 1813 - ranking: 855 / 1000\n",
      "\n",
      "GeorgeAmberson\n",
      "In degree: 31 - ranking: 273 / 1000\n",
      "Number of comments: 531 - ranking: 245 / 1000\n",
      "Score: 2465 - ranking: 533 / 1000\n",
      "\n",
      "gloubenterder\n",
      "In degree: 105 - ranking: 29 / 1000\n",
      "Number of comments: 831 - ranking: 134 / 1000\n",
      "Score: 8350 - ranking: 59 / 1000\n",
      "\n",
      "the2belo\n",
      "In degree: 24 - ranking: 420 / 1000\n",
      "Number of comments: 229 - ranking: 719 / 1000\n",
      "Score: 4367 - ranking: 206 / 1000\n",
      "\n",
      "Osiris32\n",
      "In degree: 25 - ranking: 396 / 1000\n",
      "Number of comments: 211 - ranking: 816 / 1000\n",
      "Score: 1845 - ranking: 832 / 1000\n",
      "\n",
      "VonAether\n",
      "In degree: 34 - ranking: 230 / 1000\n",
      "Number of comments: 260 - ranking: 607 / 1000\n",
      "Score: 4427 - ranking: 199 / 1000\n",
      "\n",
      "MIM86\n",
      "In degree: 73 - ranking: 54 / 1000\n",
      "Number of comments: 301 - ranking: 500 / 1000\n",
      "Score: 2399 - ranking: 550 / 1000\n",
      "\n",
      "scotty-doesnt-know\n",
      "In degree: 94 - ranking: 38 / 1000\n",
      "Number of comments: 2639 - ranking: 26 / 1000\n",
      "Score: 48065 - ranking: 4 / 1000\n",
      "\n",
      "drafterman\n",
      "In degree: 103 - ranking: 31 / 1000\n",
      "Number of comments: 564 - ranking: 222 / 1000\n",
      "Score: 5348 - ranking: 140 / 1000\n",
      "\n",
      "rextraverse\n",
      "In degree: 56 - ranking: 76 / 1000\n",
      "Number of comments: 390 - ranking: 348 / 1000\n",
      "Score: 2490 - ranking: 522 / 1000\n",
      "\n",
      "GeneralRose\n",
      "In degree: 51 - ranking: 91 / 1000\n",
      "Number of comments: 548 - ranking: 230 / 1000\n",
      "Score: 2765 - ranking: 438 / 1000\n",
      "\n",
      "DoxBox\n",
      "In degree: 26 - ranking: 368 / 1000\n",
      "Number of comments: 4164 - ranking: 10 / 1000\n",
      "Score: 18821 - ranking: 13 / 1000\n",
      "\n",
      "Antithesys\n",
      "In degree: 139 - ranking: 14 / 1000\n",
      "Number of comments: 675 - ranking: 180 / 1000\n",
      "Score: 12879 - ranking: 29 / 1000\n",
      "\n",
      "queenofmoons\n",
      "In degree: 49 - ranking: 101 / 1000\n",
      "Number of comments: 422 - ranking: 316 / 1000\n",
      "Score: 2522 - ranking: 514 / 1000\n",
      "\n",
      "Khallis\n",
      "In degree: 90 - ranking: 40 / 1000\n",
      "Number of comments: 3001 - ranking: 21 / 1000\n",
      "Score: 4316 - ranking: 212 / 1000\n",
      "\n",
      "Bersonic\n",
      "In degree: 18 - ranking: 699 / 1000\n",
      "Number of comments: 323 - ranking: 452 / 1000\n",
      "Score: 3706 - ranking: 276 / 1000\n",
      "\n",
      "CationBot\n",
      "In degree: 44 - ranking: 127 / 1000\n",
      "Number of comments: 286 - ranking: 536 / 1000\n",
      "Score: 104261 - ranking: 1 / 1000\n",
      "\n",
      "axcobb\n",
      "In degree: 17 - ranking: 765 / 1000\n",
      "Number of comments: 1811 - ranking: 49 / 1000\n",
      "Score: 17036 - ranking: 15 / 1000\n",
      "\n",
      "The_Whole_World\n",
      "In degree: 15 - ranking: 959 / 1000\n",
      "Number of comments: 985 - ranking: 106 / 1000\n",
      "Score: 4886 - ranking: 163 / 1000\n",
      "\n",
      "Hyndis\n",
      "In degree: 35 - ranking: 214 / 1000\n",
      "Number of comments: 326 - ranking: 445 / 1000\n",
      "Score: 2508 - ranking: 516 / 1000\n",
      "\n",
      "dauntlessmath\n",
      "In degree: 38 - ranking: 176 / 1000\n",
      "Number of comments: 728 - ranking: 163 / 1000\n",
      "Score: 9804 - ranking: 47 / 1000\n",
      "\n",
      "jgzman\n",
      "In degree: 20 - ranking: 602 / 1000\n",
      "Number of comments: 227 - ranking: 730 / 1000\n",
      "Score: 2348 - ranking: 570 / 1000\n",
      "\n",
      "Emperor_Cartagia\n",
      "In degree: 41 - ranking: 149 / 1000\n",
      "Number of comments: 249 - ranking: 643 / 1000\n",
      "Score: 2226 - ranking: 614 / 1000\n",
      "\n",
      "schorhr\n",
      "In degree: 39 - ranking: 171 / 1000\n",
      "Number of comments: 1471 - ranking: 63 / 1000\n",
      "Score: 3359 - ranking: 325 / 1000\n",
      "\n",
      "StarTrekMike\n",
      "In degree: 170 - ranking: 8 / 1000\n",
      "Number of comments: 1011 - ranking: 99 / 1000\n",
      "Score: 4564 - ranking: 186 / 1000\n",
      "\n",
      "DysfunctionalHex\n",
      "In degree: 17 - ranking: 786 / 1000\n",
      "Number of comments: 1415 - ranking: 68 / 1000\n",
      "Score: 3296 - ranking: 334 / 1000\n",
      "\n",
      "XMaticX\n",
      "In degree: 68 - ranking: 59 / 1000\n",
      "Number of comments: 1899 - ranking: 43 / 1000\n",
      "Score: 1848 - ranking: 829 / 1000\n",
      "\n",
      "GodMinos\n",
      "In degree: 88 - ranking: 44 / 1000\n",
      "Number of comments: 4644 - ranking: 8 / 1000\n",
      "Score: 6549 - ranking: 86 / 1000\n",
      "\n",
      "BrainWav\n",
      "In degree: 84 - ranking: 49 / 1000\n",
      "Number of comments: 606 - ranking: 198 / 1000\n",
      "Score: 2592 - ranking: 479 / 1000\n",
      "\n",
      "Destructor1701\n",
      "In degree: 69 - ranking: 57 / 1000\n",
      "Number of comments: 712 - ranking: 171 / 1000\n",
      "Score: 1882 - ranking: 811 / 1000\n",
      "\n",
      "CarrowCanary\n",
      "In degree: 85 - ranking: 48 / 1000\n",
      "Number of comments: 5077 - ranking: 5 / 1000\n",
      "Score: 13852 - ranking: 23 / 1000\n",
      "\n",
      "zepfan\n",
      "In degree: 37 - ranking: 192 / 1000\n",
      "Number of comments: 644 - ranking: 188 / 1000\n",
      "Score: 1972 - ranking: 755 / 1000\n",
      "\n",
      "TheCheshireCody\n",
      "In degree: 153 - ranking: 10 / 1000\n",
      "Number of comments: 1305 - ranking: 73 / 1000\n",
      "Score: 6779 - ranking: 80 / 1000\n",
      "\n",
      "ademnus\n",
      "In degree: 195 - ranking: 5 / 1000\n",
      "Number of comments: 1597 - ranking: 55 / 1000\n",
      "Score: 11976 - ranking: 32 / 1000\n",
      "\n",
      "tsoli\n",
      "In degree: 68 - ranking: 60 / 1000\n",
      "Number of comments: 281 - ranking: 556 / 1000\n",
      "Score: 2444 - ranking: 536 / 1000\n",
      "\n",
      "TimeZarg\n",
      "In degree: 136 - ranking: 15 / 1000\n",
      "Number of comments: 2118 - ranking: 39 / 1000\n",
      "Score: 5614 - ranking: 127 / 1000\n",
      "\n",
      "sylban\n",
      "In degree: 35 - ranking: 217 / 1000\n",
      "Number of comments: 343 - ranking: 417 / 1000\n",
      "Score: 2053 - ranking: 711 / 1000\n",
      "\n",
      "Eurynom0s\n",
      "In degree: 108 - ranking: 27 / 1000\n",
      "Number of comments: 738 - ranking: 160 / 1000\n",
      "Score: 3838 - ranking: 259 / 1000\n",
      "\n",
      "paradox1123\n",
      "In degree: 88 - ranking: 45 / 1000\n",
      "Number of comments: 656 - ranking: 186 / 1000\n",
      "Score: 2998 - ranking: 380 / 1000\n",
      "\n",
      "burstdragon323\n",
      "In degree: 47 - ranking: 114 / 1000\n",
      "Number of comments: 2128 - ranking: 36 / 1000\n",
      "Score: 3733 - ranking: 273 / 1000\n",
      "\n",
      "Belial91\n",
      "In degree: 32 - ranking: 263 / 1000\n",
      "Number of comments: 833 - ranking: 133 / 1000\n",
      "Score: 2272 - ranking: 595 / 1000\n",
      "\n",
      "Kant_Lavar\n",
      "In degree: 43 - ranking: 134 / 1000\n",
      "Number of comments: 365 - ranking: 376 / 1000\n",
      "Score: 2210 - ranking: 622 / 1000\n",
      "\n",
      "TLAMstrike\n",
      "In degree: 29 - ranking: 317 / 1000\n",
      "Number of comments: 400 - ranking: 340 / 1000\n",
      "Score: 3037 - ranking: 368 / 1000\n",
      "\n",
      "RnRaintnoisepolution\n",
      "In degree: 25 - ranking: 393 / 1000\n",
      "Number of comments: 546 - ranking: 232 / 1000\n",
      "Score: 1838 - ranking: 839 / 1000\n",
      "\n",
      "alwaysupvoteTRUNKS\n",
      "In degree: 18 - ranking: 720 / 1000\n",
      "Number of comments: 287 - ranking: 535 / 1000\n",
      "Score: 1640 - ranking: 979 / 1000\n",
      "\n",
      "Confusedandlost123\n",
      "In degree: 23 - ranking: 456 / 1000\n",
      "Number of comments: 788 - ranking: 139 / 1000\n",
      "Score: 2697 - ranking: 454 / 1000\n",
      "\n",
      "BonzoTheBoss\n",
      "In degree: 54 - ranking: 80 / 1000\n",
      "Number of comments: 504 - ranking: 259 / 1000\n",
      "Score: 2029 - ranking: 723 / 1000\n",
      "\n",
      "Chairboy\n",
      "In degree: 98 - ranking: 35 / 1000\n",
      "Number of comments: 477 - ranking: 273 / 1000\n",
      "Score: 4853 - ranking: 165 / 1000\n",
      "\n",
      "ZadocPaet\n",
      "In degree: 18 - ranking: 708 / 1000\n",
      "Number of comments: 1455 - ranking: 65 / 1000\n",
      "Score: 4782 - ranking: 173 / 1000\n",
      "\n",
      "dxdydxdy\n",
      "In degree: 44 - ranking: 124 / 1000\n",
      "Number of comments: 246 - ranking: 654 / 1000\n",
      "Score: 2561 - ranking: 496 / 1000\n",
      "\n",
      "Flynn58\n",
      "In degree: 141 - ranking: 13 / 1000\n",
      "Number of comments: 532 - ranking: 244 / 1000\n",
      "Score: 2990 - ranking: 381 / 1000\n",
      "\n",
      "Deceptitron\n",
      "In degree: 173 - ranking: 7 / 1000\n",
      "Number of comments: 919 - ranking: 119 / 1000\n",
      "Score: 5556 - ranking: 133 / 1000\n",
      "\n",
      "philwelch\n",
      "In degree: 96 - ranking: 36 / 1000\n",
      "Number of comments: 535 - ranking: 240 / 1000\n",
      "Score: 2702 - ranking: 452 / 1000\n",
      "\n",
      "UESPA_Sputnik\n",
      "In degree: 67 - ranking: 62 / 1000\n",
      "Number of comments: 228 - ranking: 721 / 1000\n",
      "Score: 4141 - ranking: 234 / 1000\n",
      "\n",
      "AmishAvenger\n",
      "In degree: 41 - ranking: 147 / 1000\n",
      "Number of comments: 198 - ranking: 872 / 1000\n",
      "Score: 1814 - ranking: 854 / 1000\n",
      "\n",
      "Kronos6948\n",
      "In degree: 91 - ranking: 39 / 1000\n",
      "Number of comments: 347 - ranking: 407 / 1000\n",
      "Score: 1859 - ranking: 822 / 1000\n",
      "\n",
      "Moruitelda\n",
      "In degree: 32 - ranking: 266 / 1000\n",
      "Number of comments: 309 - ranking: 479 / 1000\n",
      "Score: 2934 - ranking: 394 / 1000\n",
      "\n",
      "sorin255\n",
      "In degree: 50 - ranking: 97 / 1000\n",
      "Number of comments: 276 - ranking: 567 / 1000\n",
      "Score: 1618 - ranking: 998 / 1000\n",
      "\n",
      "Spocktease\n",
      "In degree: 64 - ranking: 67 / 1000\n",
      "Number of comments: 395 - ranking: 342 / 1000\n",
      "Score: 1951 - ranking: 768 / 1000\n",
      "\n",
      "spikey666\n",
      "In degree: 64 - ranking: 68 / 1000\n",
      "Number of comments: 340 - ranking: 420 / 1000\n",
      "Score: 2407 - ranking: 545 / 1000\n",
      "\n",
      "gogojack\n",
      "In degree: 103 - ranking: 32 / 1000\n",
      "Number of comments: 576 - ranking: 216 / 1000\n",
      "Score: 2956 - ranking: 389 / 1000\n",
      "\n",
      "emdeemcd\n",
      "In degree: 43 - ranking: 136 / 1000\n",
      "Number of comments: 263 - ranking: 602 / 1000\n",
      "Score: 1971 - ranking: 756 / 1000\n",
      "\n",
      "A_Polite_Noise\n",
      "In degree: 50 - ranking: 99 / 1000\n",
      "Number of comments: 180 - ranking: 990 / 1000\n",
      "Score: 3547 - ranking: 297 / 1000\n",
      "\n",
      "MHB210\n",
      "In degree: 111 - ranking: 25 / 1000\n",
      "Number of comments: 689 - ranking: 176 / 1000\n",
      "Score: 2530 - ranking: 509 / 1000\n",
      "\n",
      "DangerousDac\n",
      "In degree: 65 - ranking: 65 / 1000\n",
      "Number of comments: 427 - ranking: 313 / 1000\n",
      "Score: 2428 - ranking: 540 / 1000\n",
      "\n",
      "StarFuryG7\n",
      "In degree: 124 - ranking: 19 / 1000\n",
      "Number of comments: 883 - ranking: 124 / 1000\n",
      "Score: 1771 - ranking: 890 / 1000\n",
      "\n",
      "feor1300\n",
      "In degree: 150 - ranking: 11 / 1000\n",
      "Number of comments: 941 - ranking: 116 / 1000\n",
      "Score: 6235 - ranking: 100 / 1000\n",
      "\n",
      "iwinalot7\n",
      "In degree: 24 - ranking: 442 / 1000\n",
      "Number of comments: 212 - ranking: 810 / 1000\n",
      "Score: 1847 - ranking: 830 / 1000\n",
      "\n",
      "Corgana\n",
      "In degree: 131 - ranking: 16 / 1000\n",
      "Number of comments: 751 - ranking: 157 / 1000\n",
      "Score: 5317 - ranking: 145 / 1000\n",
      "\n",
      "Nukleon\n",
      "In degree: 52 - ranking: 87 / 1000\n",
      "Number of comments: 203 - ranking: 847 / 1000\n",
      "Score: 1912 - ranking: 788 / 1000\n",
      "\n",
      "cobrakai11\n",
      "In degree: 106 - ranking: 28 / 1000\n",
      "Number of comments: 459 - ranking: 287 / 1000\n",
      "Score: 3694 - ranking: 277 / 1000\n",
      "\n",
      "MungoBaobab\n",
      "In degree: 167 - ranking: 9 / 1000\n",
      "Number of comments: 786 - ranking: 141 / 1000\n",
      "Score: 6469 - ranking: 91 / 1000\n",
      "\n",
      "Donners22\n",
      "In degree: 19 - ranking: 635 / 1000\n",
      "Number of comments: 360 - ranking: 381 / 1000\n",
      "Score: 1905 - ranking: 795 / 1000\n",
      "\n",
      "Satchmo84\n",
      "In degree: 32 - ranking: 262 / 1000\n",
      "Number of comments: 549 - ranking: 229 / 1000\n",
      "Score: 8139 - ranking: 62 / 1000\n",
      "\n",
      "Roboticide\n",
      "In degree: 63 - ranking: 69 / 1000\n",
      "Number of comments: 291 - ranking: 522 / 1000\n",
      "Score: 3563 - ranking: 292 / 1000\n",
      "\n",
      "terrymcginnisbeyond\n",
      "In degree: 36 - ranking: 199 / 1000\n",
      "Number of comments: 203 - ranking: 851 / 1000\n",
      "Score: 1669 - ranking: 961 / 1000\n",
      "\n"
     ]
    }
   ],
   "source": [
    "for c in common:\n",
    "    indegree_total = int(top_indegree_sr[c])\n",
    "    indegree_ranking = int(ranking(top_indegree_sr, c))\n",
    "    comments_total = int(top_comments_sr[c])\n",
    "    comments_ranking = int(ranking(top_comments_sr, c))\n",
    "    score_total = int(top_score_sr[c])\n",
    "    score_ranking = int(ranking(top_score_sr, c))\n",
    "    \n",
    "    graph.node[c]['show_label'] = c\n",
    "    graph.node[c]['indegree_total'] = indegree_total\n",
    "    graph.node[c]['indegree_ranking'] = indegree_ranking\n",
    "    graph.node[c]['comments_total'] = comments_total\n",
    "    graph.node[c]['comments_ranking'] = comments_ranking\n",
    "    graph.node[c]['score_total'] = score_total\n",
    "    graph.node[c]['score_ranking'] = score_ranking\n",
    "    \n",
    "    print(c)\n",
    "    print('In degree:', indegree_total, '- ranking:', indegree_ranking, '/', TOP)\n",
    "    print('Number of comments:', comments_total, '- ranking:', comments_ranking, '/', TOP)\n",
    "    print('Score:', score_total, '- ranking:', score_ranking, '/', TOP)\n",
    "    print()"
   ]
  },
  {
   "cell_type": "markdown",
   "metadata": {},
   "source": [
    "### Top users' activity"
   ]
  },
  {
   "cell_type": "code",
   "execution_count": 38,
   "metadata": {
    "collapsed": true
   },
   "outputs": [],
   "source": [
    "reddit_by_month = reddit_df.groupby('month')['id'].count()"
   ]
  },
  {
   "cell_type": "code",
   "execution_count": 39,
   "metadata": {
    "collapsed": true
   },
   "outputs": [],
   "source": [
    "indegree_df = reddit_df[reddit_df.author.isin(top_indegree_sr.index)]"
   ]
  },
  {
   "cell_type": "code",
   "execution_count": 40,
   "metadata": {
    "collapsed": false
   },
   "outputs": [
    {
     "data": {
      "text/plain": [
       "264860"
      ]
     },
     "execution_count": 40,
     "metadata": {},
     "output_type": "execute_result"
    }
   ],
   "source": [
    "len(indegree_df)"
   ]
  },
  {
   "cell_type": "code",
   "execution_count": 41,
   "metadata": {
    "collapsed": false
   },
   "outputs": [],
   "source": [
    "top_indegree_by_month = indegree_df.groupby('month')['id'].count()"
   ]
  },
  {
   "cell_type": "code",
   "execution_count": 42,
   "metadata": {
    "collapsed": true
   },
   "outputs": [],
   "source": [
    "comments_df = reddit_df[reddit_df.author.isin(top_comments_sr.index)]"
   ]
  },
  {
   "cell_type": "code",
   "execution_count": 43,
   "metadata": {
    "collapsed": false
   },
   "outputs": [
    {
     "data": {
      "text/plain": [
       "547130"
      ]
     },
     "execution_count": 43,
     "metadata": {},
     "output_type": "execute_result"
    }
   ],
   "source": [
    "len(comments_df)"
   ]
  },
  {
   "cell_type": "code",
   "execution_count": 44,
   "metadata": {
    "collapsed": true
   },
   "outputs": [],
   "source": [
    "top_comments_by_month = comments_df.groupby('month')['id'].count()"
   ]
  },
  {
   "cell_type": "code",
   "execution_count": 45,
   "metadata": {
    "collapsed": true
   },
   "outputs": [],
   "source": [
    "score_df = reddit_df[reddit_df.author.isin(top_score_sr.index)]"
   ]
  },
  {
   "cell_type": "code",
   "execution_count": 46,
   "metadata": {
    "collapsed": false
   },
   "outputs": [
    {
     "data": {
      "text/plain": [
       "397995"
      ]
     },
     "execution_count": 46,
     "metadata": {},
     "output_type": "execute_result"
    }
   ],
   "source": [
    "len(score_df)"
   ]
  },
  {
   "cell_type": "code",
   "execution_count": 47,
   "metadata": {
    "collapsed": true
   },
   "outputs": [],
   "source": [
    "top_score_by_month = score_df.groupby('month')['id'].count()"
   ]
  },
  {
   "cell_type": "code",
   "execution_count": 48,
   "metadata": {
    "collapsed": true
   },
   "outputs": [],
   "source": [
    "comments_by_month = pd.DataFrame({\n",
    "        'all users': reddit_by_month,\n",
    "        'top indegree users': top_indegree_by_month,\n",
    "        'top comment users': top_comments_by_month,\n",
    "        'top score users': top_score_by_month,\n",
    "    })"
   ]
  },
  {
   "cell_type": "code",
   "execution_count": 49,
   "metadata": {
    "collapsed": false
   },
   "outputs": [
    {
     "data": {
      "image/png": "[encoded data removed]",
      "text/plain": [
       "<matplotlib.figure.Figure at 0x7f3096dd0438>"
      ]
     },
     "metadata": {},
     "output_type": "display_data"
    }
   ],
   "source": [
    "ax = comments_by_month.plot(\n",
    "    figsize=(10,5),\n",
    "    xlim=('2007-10-01', '2016-08-31'),\n",
    "    xticks=comments_by_month.index,\n",
    "    rot=60,\n",
    "    title='Number of comments about Star Trek by month',\n",
    ")\n",
    "formatter = matplotlib.ticker.FuncFormatter(lambda x, p: format(int(x), ','))\n",
    "ax.get_yaxis().set_major_formatter(formatter)\n",
    "# ax.set_yscale('log')"
   ]
  },
  {
   "cell_type": "code",
   "execution_count": 50,
   "metadata": {
    "collapsed": false
   },
   "outputs": [
    {
     "data": {
      "image/png": "[encoded data removed]",
      "text/plain": [
       "<matplotlib.figure.Figure at 0x7f3098755cf8>"
      ]
     },
     "metadata": {},
     "output_type": "display_data"
    }
   ],
   "source": [
    "ax = comments_by_month.plot(\n",
    "    figsize=(10,5),\n",
    "    xlim=('2007-10-01', '2016-08-31'),\n",
    "    xticks=comments_by_month.index,\n",
    "    rot=60,\n",
    "    title='Number of comments about Star Trek by month',\n",
    ")\n",
    "# formatter = matplotlib.ticker.FuncFormatter(lambda x, p: format(int(x), ','))\n",
    "# ax.get_yaxis().set_major_formatter(formatter)\n",
    "ax.set_yscale('log')"
   ]
  },
  {
   "cell_type": "markdown",
   "metadata": {},
   "source": [
    "# Saving data"
   ]
  },
  {
   "cell_type": "code",
   "execution_count": 64,
   "metadata": {
    "collapsed": false
   },
   "outputs": [],
   "source": [
    "nx.write_gexf(graph, 'user_graph_2.gexf')"
   ]
  },
  {
   "cell_type": "code",
   "execution_count": null,
   "metadata": {
    "collapsed": true
   },
   "outputs": [],
   "source": []
  }
 ],
 "metadata": {
  "kernelspec": {
   "display_name": "Python 3",
   "language": "python",
   "name": "python3"
  },
  "language_info": {
   "codemirror_mode": {
    "name": "ipython",
    "version": 3
   },
   "file_extension": ".py",
   "mimetype": "text/x-python",
   "name": "python",
   "nbconvert_exporter": "python",
   "pygments_lexer": "ipython3",
   "version": "3.4.3"
  }
 },
 "nbformat": 4,
 "nbformat_minor": 2
}
