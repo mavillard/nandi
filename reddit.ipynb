{
 "cells": [
  {
   "cell_type": "code",
   "execution_count": 26,
   "metadata": {
    "collapsed": true
   },
   "outputs": [],
   "source": [
    "import os\n",
    "from datetime import datetime\n",
    "\n",
    "import pandas as pd\n",
    "import matplotlib\n",
    "import seaborn as sns"
   ]
  },
  {
   "cell_type": "code",
   "execution_count": 27,
   "metadata": {
    "collapsed": false
   },
   "outputs": [],
   "source": [
    "%matplotlib inline\n",
    "matplotlib.rcParams['figure.max_open_warning'] = 1000\n",
    "matplotlib.rcParams['lines.linewidth'] = 1.0"
   ]
  },
  {
   "cell_type": "markdown",
   "metadata": {},
   "source": [
    "# Preparing data"
   ]
  },
  {
   "cell_type": "code",
   "execution_count": 2,
   "metadata": {
    "collapsed": true
   },
   "outputs": [],
   "source": [
    "original_keywords = [\"Picard\", \"Kirk\", \"Sulu\", \"Uhura\", \"Spock\", \"McCoy\", \"Bones\", \"Scotty\", \"Chekhov\", \"Crusher\", \"Nurse Chapel\", \"Sarek\", \"Nero\", \"Khan\", \"Data\", \"Pike\", \"Star Trek\", \"Klingon\", \"Vulcan\", \"Romulan\", \"Star fleet\", \"Starship Enterprise\", \"Delta Vega\", \"Earth\", \"Orion\", \"Romulan Narada\", \"Stardate\", \"Transporter beam\", \"Beam me up,\\? Scotty\", \"Kobayashi Maru\", \"Space,\\? The Final Frontier\", \"Energize\", \"Vulcan Salute\", \"Prime Directive\", \"Live long and prosper\", \"LLAP\", \"I'm a doctor,\\? not a\", \"KHAAA\\+N\", \"When you eliminate the impossible,\\? whatever remains,\\? however improbable,\\? must be the truth\", \"Without followers,\\? evil cannot spread\", \"The needs of the many outweigh the needs of the few\", \"Highly illogical\", \"to boldly go where no man has gone before\", \"I'm giving her all she's got,\\? Captain\", \"Nuclear wessels\", \"Set phasers to stun\", \"Resistance is futile\", \"I have been and always shall be your friend\"]"
   ]
  },
  {
   "cell_type": "code",
   "execution_count": 3,
   "metadata": {
    "collapsed": false
   },
   "outputs": [
    {
     "name": "stdout",
     "output_type": "stream",
     "text": [
      "['Picard', 'Kirk', 'Sulu', 'Uhura', 'Spock', 'McCoy', 'Bones', 'Scotty', 'Chekhov', 'Crusher', 'Nurse Chapel', 'Sarek', 'Nero', 'Khan', 'Data', 'Pike', 'Star Trek', 'Klingon', 'Vulcan', 'Romulan', 'Star fleet', 'Starship Enterprise', 'Delta Vega', 'Earth', 'Orion', 'Romulan Narada', 'Stardate', 'Transporter beam', 'Beam me up,\\\\? Scotty', 'Kobayashi Maru', 'Space,\\\\? The Final Frontier', 'Energize', 'Vulcan Salute', 'Prime Directive', 'Live long and prosper', 'LLAP', \"I'm a doctor,\\\\? not a\", 'KHAAA\\\\+N', 'When you eliminate the impossible,\\\\? whatever remains,\\\\? however improbable,\\\\? must be the truth', 'Without followers,\\\\? evil cannot spread', 'The needs of the many outweigh the needs of the few', 'Highly illogical', 'to boldly go where no man has gone before', \"I'm giving her all she's got,\\\\? Captain\", 'Nuclear wessels', 'Set phasers to stun', 'Resistance is futile', 'I have been and always shall be your friend']\n"
     ]
    }
   ],
   "source": [
    "print(original_keywords)"
   ]
  },
  {
   "cell_type": "code",
   "execution_count": 4,
   "metadata": {
    "collapsed": true
   },
   "outputs": [],
   "source": [
    "ambiguous_keywords = [\n",
    "    'Bones',\n",
    "    'Khan',\n",
    "    'Data',\n",
    "    'Earth',\n",
    "    'Energize',\n",
    "]"
   ]
  },
  {
   "cell_type": "code",
   "execution_count": 5,
   "metadata": {
    "collapsed": true
   },
   "outputs": [],
   "source": [
    "keywords = list(set(original_keywords).difference(ambiguous_keywords))\n",
    "keywords.sort()"
   ]
  },
  {
   "cell_type": "code",
   "execution_count": 6,
   "metadata": {
    "collapsed": false
   },
   "outputs": [
    {
     "name": "stdout",
     "output_type": "stream",
     "text": [
      "['Beam me up,\\\\? Scotty', 'Chekhov', 'Crusher', 'Delta Vega', 'Highly illogical', 'I have been and always shall be your friend', \"I'm a doctor,\\\\? not a\", \"I'm giving her all she's got,\\\\? Captain\", 'KHAAA\\\\+N', 'Kirk', 'Klingon', 'Kobayashi Maru', 'LLAP', 'Live long and prosper', 'McCoy', 'Nero', 'Nuclear wessels', 'Nurse Chapel', 'Orion', 'Picard', 'Pike', 'Prime Directive', 'Resistance is futile', 'Romulan', 'Romulan Narada', 'Sarek', 'Scotty', 'Set phasers to stun', 'Space,\\\\? The Final Frontier', 'Spock', 'Star Trek', 'Star fleet', 'Stardate', 'Starship Enterprise', 'Sulu', 'The needs of the many outweigh the needs of the few', 'Transporter beam', 'Uhura', 'Vulcan', 'Vulcan Salute', 'When you eliminate the impossible,\\\\? whatever remains,\\\\? however improbable,\\\\? must be the truth', 'Without followers,\\\\? evil cannot spread', 'to boldly go where no man has gone before']\n"
     ]
    }
   ],
   "source": [
    "print(keywords)"
   ]
  },
  {
   "cell_type": "code",
   "execution_count": 7,
   "metadata": {
    "collapsed": false
   },
   "outputs": [],
   "source": [
    "# %%time\n",
    "\n",
    "# DATA_FOLDER = 'data/'\n",
    "\n",
    "# ls = []\n",
    "# for filename in sorted(os.listdir(DATA_FOLDER)):\n",
    "#         with open(DATA_FOLDER + filename) as f:\n",
    "#             print(DATA_FOLDER + filename, sep=' ', end=' ', flush=True)\n",
    "#             lines = f.readlines()\n",
    "#             lines = map(lambda x: x.strip(), lines)\n",
    "#             js = '[' + ','.join(lines) + ']'\n",
    "#             df = pd.read_json(js)\n",
    "#             ls.append(df)\n",
    "# reddit_df = pd.concat(ls, ignore_index=True)\n",
    "\n",
    "# CPU times: user 1min 7s, sys: 4.66 s, total: 1min 11s\n",
    "# Wall time: 1min 14s"
   ]
  },
  {
   "cell_type": "code",
   "execution_count": 8,
   "metadata": {
    "collapsed": false
   },
   "outputs": [],
   "source": [
    "# len(reddit_df)\n",
    "\n",
    "# 2669814"
   ]
  },
  {
   "cell_type": "code",
   "execution_count": 9,
   "metadata": {
    "collapsed": false
   },
   "outputs": [],
   "source": [
    "%%time\n",
    "\n",
    "reddit_df['body'] = reddit_df.apply(lambda x: x['body'].replace('\\n', ' - ').replace('\\r', ' - '), axis=1)\n",
    "\n",
    "# CPU times: user 1min 35s, sys: 890 ms, total: 1min 36s\n",
    "# Wall time: 1min 36s"
   ]
  },
  {
   "cell_type": "code",
   "execution_count": null,
   "metadata": {
    "collapsed": true
   },
   "outputs": [],
   "source": [
    "%%time\n",
    "\n",
    "def convert_datetime(x):\n",
    "    return pd.to_datetime(datetime.fromtimestamp(int(x['created_utc'])))\n",
    "\n",
    "reddit_df['created_utc'] = reddit_df.apply(convert_datetime, axis=1)\n",
    "\n",
    "# CPU times: user 7min 25s, sys: 8.01 s, total: 7min 33s\n",
    "# Wall time: 7min 33s"
   ]
  },
  {
   "cell_type": "code",
   "execution_count": 16,
   "metadata": {
    "collapsed": false
   },
   "outputs": [
    {
     "name": "stdout",
     "output_type": "stream",
     "text": [
      "CPU times: user 7min 1s, sys: 900 ms, total: 7min 2s\n",
      "Wall time: 7min 2s\n"
     ]
    }
   ],
   "source": [
    "%%time\n",
    "\n",
    "def month_year(x):\n",
    "    return pd.tslib.Timestamp(day=1, month=x['created_utc'].month, year=x['created_utc'].year)\n",
    "\n",
    "reddit_df['month'] = reddit_df.apply(month_year, axis=1)\n",
    "\n",
    "# CPU times: user 15min 43s, sys: 2.73 s, total: 15min 46s\n",
    "# Wall time: 15min 46s"
   ]
  },
  {
   "cell_type": "code",
   "execution_count": 18,
   "metadata": {
    "collapsed": false
   },
   "outputs": [],
   "source": [
    "%%time\n",
    "\n",
    "def only_year(x):\n",
    "    return pd.tslib.Timestamp(day=1, month=1, year=x['created_utc'].year)\n",
    "\n",
    "reddit_df['year'] = reddit_df.apply(only_year, axis=1)\n",
    "\n",
    "# CPU times: user 15min 43s, sys: 2.73 s, total: 15min 46s\n",
    "# Wall time: 15min 46s"
   ]
  },
  {
   "cell_type": "code",
   "execution_count": 10,
   "metadata": {
    "collapsed": false
   },
   "outputs": [],
   "source": [
    "# %%time\n",
    "\n",
    "# reddit_df.to_csv('reddit.csv', index=False)\n",
    "\n",
    "# CPU times: user 1min 1s, sys: 1.71 s, total: 1min 3s\n",
    "# Wall time: 1min 3s"
   ]
  },
  {
   "cell_type": "code",
   "execution_count": 11,
   "metadata": {
    "collapsed": false
   },
   "outputs": [
    {
     "name": "stdout",
     "output_type": "stream",
     "text": [
      "CPU times: user 26.2 s, sys: 1.14 s, total: 27.3 s\n",
      "Wall time: 27.3 s\n"
     ]
    }
   ],
   "source": [
    "%%time\n",
    "\n",
    "dtypes = {\n",
    "    'author': str,\n",
    "    'body': str,\n",
    "    'controversiality': str,\n",
    "    'created_utc': pd.tslib.Timestamp,\n",
    "    'distinguished': str,\n",
    "    'downs': str,\n",
    "    'gilded': str,\n",
    "    'id': str,\n",
    "    'name': str,\n",
    "    'parent_id': str,\n",
    "    'score': str,\n",
    "    'subreddit': str,\n",
    "    'ups': str,\n",
    "}\n",
    "\n",
    "reddit_df = pd.read_csv('reddit.csv', header=0, dtype=dtypes, parse_dates=['created_utc'])\n",
    "reddit_df = reddit_df.fillna('')"
   ]
  },
  {
   "cell_type": "code",
   "execution_count": 12,
   "metadata": {
    "collapsed": false
   },
   "outputs": [
    {
     "data": {
      "text/plain": [
       "2669814"
      ]
     },
     "execution_count": 12,
     "metadata": {},
     "output_type": "execute_result"
    }
   ],
   "source": [
    "len(reddit_df)"
   ]
  },
  {
   "cell_type": "code",
   "execution_count": 13,
   "metadata": {
    "collapsed": false
   },
   "outputs": [
    {
     "data": {
      "text/html": [
       "<div>\n",
       "<table border=\"1\" class=\"dataframe\">\n",
       "  <thead>\n",
       "    <tr style=\"text-align: right;\">\n",
       "      <th></th>\n",
       "      <th>author</th>\n",
       "      <th>body</th>\n",
       "      <th>controversiality</th>\n",
       "      <th>created_utc</th>\n",
       "      <th>distinguished</th>\n",
       "      <th>downs</th>\n",
       "      <th>gilded</th>\n",
       "      <th>id</th>\n",
       "      <th>name</th>\n",
       "      <th>parent_id</th>\n",
       "      <th>score</th>\n",
       "      <th>subreddit</th>\n",
       "      <th>ups</th>\n",
       "    </tr>\n",
       "  </thead>\n",
       "  <tbody>\n",
       "    <tr>\n",
       "      <th>0</th>\n",
       "      <td>gschizas</td>\n",
       "      <td>Same in Greek. My personal peeve: quite a lot ...</td>\n",
       "      <td>0</td>\n",
       "      <td>2007-10-15 15:22:33</td>\n",
       "      <td></td>\n",
       "      <td>0.0</td>\n",
       "      <td>0</td>\n",
       "      <td>c029c79</td>\n",
       "      <td>t1_c029c79</td>\n",
       "      <td>t1_c029brz</td>\n",
       "      <td>13</td>\n",
       "      <td>programming</td>\n",
       "      <td>13</td>\n",
       "    </tr>\n",
       "    <tr>\n",
       "      <th>1</th>\n",
       "      <td>[deleted]</td>\n",
       "      <td>&amp;gt;They also decided to rig a thermal barrier...</td>\n",
       "      <td>0</td>\n",
       "      <td>2007-10-16 05:11:09</td>\n",
       "      <td></td>\n",
       "      <td>0.0</td>\n",
       "      <td>0</td>\n",
       "      <td>c029g6h</td>\n",
       "      <td>t1_c029g6h</td>\n",
       "      <td>t3_5ye94</td>\n",
       "      <td>2</td>\n",
       "      <td>programming</td>\n",
       "      <td>2</td>\n",
       "    </tr>\n",
       "    <tr>\n",
       "      <th>2</th>\n",
       "      <td>johnmudd</td>\n",
       "      <td>&amp;gt; By the time a child born today graduates ...</td>\n",
       "      <td>0</td>\n",
       "      <td>2007-10-16 07:00:36</td>\n",
       "      <td></td>\n",
       "      <td>0.0</td>\n",
       "      <td>0</td>\n",
       "      <td>c029gfc</td>\n",
       "      <td>t1_c029gfc</td>\n",
       "      <td>t3_5ye9w</td>\n",
       "      <td>1</td>\n",
       "      <td>science</td>\n",
       "      <td>1</td>\n",
       "    </tr>\n",
       "    <tr>\n",
       "      <th>3</th>\n",
       "      <td>feliniti</td>\n",
       "      <td>nero 8 - bloated waste of money. Unless you ha...</td>\n",
       "      <td>0</td>\n",
       "      <td>2007-10-16 07:10:27</td>\n",
       "      <td></td>\n",
       "      <td>0.0</td>\n",
       "      <td>0</td>\n",
       "      <td>c029gge</td>\n",
       "      <td>t1_c029gge</td>\n",
       "      <td>t3_5yej4</td>\n",
       "      <td>1</td>\n",
       "      <td>reddit.com</td>\n",
       "      <td>1</td>\n",
       "    </tr>\n",
       "    <tr>\n",
       "      <th>4</th>\n",
       "      <td>masklinn</td>\n",
       "      <td>&amp;gt; I wonder what happens if you started clea...</td>\n",
       "      <td>0</td>\n",
       "      <td>2007-10-16 11:27:15</td>\n",
       "      <td></td>\n",
       "      <td>0.0</td>\n",
       "      <td>0</td>\n",
       "      <td>c029hiy</td>\n",
       "      <td>t1_c029hiy</td>\n",
       "      <td>t1_c029h3y</td>\n",
       "      <td>3</td>\n",
       "      <td>reddit.com</td>\n",
       "      <td>3</td>\n",
       "    </tr>\n",
       "  </tbody>\n",
       "</table>\n",
       "</div>"
      ],
      "text/plain": [
       "      author                                               body  \\\n",
       "0   gschizas  Same in Greek. My personal peeve: quite a lot ...   \n",
       "1  [deleted]  &gt;They also decided to rig a thermal barrier...   \n",
       "2   johnmudd  &gt; By the time a child born today graduates ...   \n",
       "3   feliniti  nero 8 - bloated waste of money. Unless you ha...   \n",
       "4   masklinn  &gt; I wonder what happens if you started clea...   \n",
       "\n",
       "  controversiality         created_utc distinguished downs gilded       id  \\\n",
       "0                0 2007-10-15 15:22:33                 0.0      0  c029c79   \n",
       "1                0 2007-10-16 05:11:09                 0.0      0  c029g6h   \n",
       "2                0 2007-10-16 07:00:36                 0.0      0  c029gfc   \n",
       "3                0 2007-10-16 07:10:27                 0.0      0  c029gge   \n",
       "4                0 2007-10-16 11:27:15                 0.0      0  c029hiy   \n",
       "\n",
       "         name   parent_id score    subreddit ups  \n",
       "0  t1_c029c79  t1_c029brz    13  programming  13  \n",
       "1  t1_c029g6h    t3_5ye94     2  programming   2  \n",
       "2  t1_c029gfc    t3_5ye9w     1      science   1  \n",
       "3  t1_c029gge    t3_5yej4     1   reddit.com   1  \n",
       "4  t1_c029hiy  t1_c029h3y     3   reddit.com   3  "
      ]
     },
     "execution_count": 13,
     "metadata": {},
     "output_type": "execute_result"
    }
   ],
   "source": [
    "reddit_df.head()"
   ]
  },
  {
   "cell_type": "markdown",
   "metadata": {},
   "source": [
    "# Analyzing data"
   ]
  },
  {
   "cell_type": "code",
   "execution_count": 19,
   "metadata": {
    "collapsed": true
   },
   "outputs": [],
   "source": [
    "reddit_df = reddit_df.groupby('month')['id'].count()"
   ]
  },
  {
   "cell_type": "code",
   "execution_count": 29,
   "metadata": {
    "collapsed": false
   },
   "outputs": [
    {
     "data": {
      "text/plain": [
       "<matplotlib.axes._subplots.AxesSubplot at 0x7f7137a0b7f0>"
      ]
     },
     "execution_count": 29,
     "metadata": {},
     "output_type": "execute_result"
    },
    {
     "data": {
      "image/png": "[encoded data removed]",
      "text/plain": [
       "<matplotlib.figure.Figure at 0x7f707e863438>"
      ]
     },
     "metadata": {},
     "output_type": "display_data"
    }
   ],
   "source": [
    "reddit_df.plot(figsize=(10,5), xlim=('2007-10-01', '2016-08-31'), xticks=reddit_df.index)"
   ]
  },
  {
   "cell_type": "code",
   "execution_count": null,
   "metadata": {
    "collapsed": true
   },
   "outputs": [],
   "source": []
  },
  {
   "cell_type": "code",
   "execution_count": null,
   "metadata": {
    "collapsed": true
   },
   "outputs": [],
   "source": []
  },
  {
   "cell_type": "code",
   "execution_count": null,
   "metadata": {
    "collapsed": true
   },
   "outputs": [],
   "source": []
  }
 ],
 "metadata": {
  "kernelspec": {
   "display_name": "Python 3",
   "language": "python",
   "name": "python3"
  },
  "language_info": {
   "codemirror_mode": {
    "name": "ipython",
    "version": 3
   },
   "file_extension": ".py",
   "mimetype": "text/x-python",
   "name": "python",
   "nbconvert_exporter": "python",
   "pygments_lexer": "ipython3",
   "version": "3.4.3"
  }
 },
 "nbformat": 4,
 "nbformat_minor": 2
}
